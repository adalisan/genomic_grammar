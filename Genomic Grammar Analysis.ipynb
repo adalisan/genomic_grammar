{
 "cells": [
  {
   "cell_type": "markdown",
   "metadata": {},
   "source": [
    "# Genomic Grammar Analysis"
   ]
  },
  {
   "cell_type": "code",
   "execution_count": 1,
   "metadata": {},
   "outputs": [
    {
     "name": "stderr",
     "output_type": "stream",
     "text": [
      "/home/jenhan/anaconda3/lib/python3.6/site-packages/h5py/__init__.py:34: FutureWarning: Conversion of the second argument of issubdtype from `float` to `np.floating` is deprecated. In future, it will be treated as `np.float64 == np.dtype(float).type`.\n",
      "  from ._conv import register_converters as _register_converters\n",
      "Using TensorFlow backend.\n"
     ]
    }
   ],
   "source": [
    "from __future__ import print_function\n",
    "import keras\n",
    "from keras.datasets import mnist\n",
    "from keras.models import Sequential\n",
    "from keras.layers import *\n",
    "from keras.models import Model\n",
    "from keras import backend as K"
   ]
  },
  {
   "cell_type": "code",
   "execution_count": 2,
   "metadata": {
    "collapsed": true
   },
   "outputs": [],
   "source": [
    "import os\n",
    "import numpy as np\n",
    "import Bio\n",
    "from Bio import SeqIO\n",
    "import seaborn as sns\n",
    "import pandas as pd\n",
    "import Bio.motifs\n",
    "%matplotlib inline\n",
    "from sklearn import model_selection\n",
    "import seaborn as sns\n",
    "from matplotlib import pyplot as plt\n",
    "import sklearn\n",
    "from IPython.display import SVG\n",
    "from keras.utils.vis_utils import model_to_dot"
   ]
  },
  {
   "cell_type": "code",
   "execution_count": 3,
   "metadata": {
    "collapsed": true
   },
   "outputs": [],
   "source": [
    "if not os.path.isdir('/home/jtao/analysis/genomic_grammar_analysis/'):\n",
    "    os.mkdir('/home/jtao/analysis/genomic_grammar_analysis')\n",
    "os.chdir('/home/jtao/analysis/genomic_grammar_analysis')"
   ]
  },
  {
   "cell_type": "markdown",
   "metadata": {},
   "source": [
    "## Functions"
   ]
  },
  {
   "cell_type": "code",
   "execution_count": 4,
   "metadata": {
    "collapsed": true
   },
   "outputs": [],
   "source": [
    "def convert_sequences_to_array(sequences):\n",
    "    '''\n",
    "    inputs: sequence of nucleotides represented as a string composed of A, C, G, T\n",
    "    outputs: a list of numpy array representations of a sequence with:\n",
    "             A = [1, 0, 0, 0]\n",
    "             C = [0, 1, 0, 0]\n",
    "             G = [0, 0, 1, 0]\n",
    "             T = [0, 0, 0, 1]\n",
    "             \n",
    "    '''\n",
    "\n",
    "    nucleotide_array_dict = {'A': [1, 0, 0, 0],\n",
    "                             'C': [0, 1, 0, 0],\n",
    "                             'G': [0, 0, 1, 0],\n",
    "                             'T': [0, 0, 0, 1],\n",
    "                             'N': [0.25,0.25,0.25,0.25]}\n",
    "\n",
    "    sequence_array_list = []\n",
    "    for seq in sequences:\n",
    "        seq_array = []\n",
    "        for nuc in seq:\n",
    "            seq_array.append(nucleotide_array_dict[nuc])\n",
    "        seq_array = np.array(seq_array)\n",
    "        sequence_array_list.append(seq_array)\n",
    "    sequence_array_list = np.array(sequence_array_list)\n",
    "    return sequence_array_list"
   ]
  },
  {
   "cell_type": "markdown",
   "metadata": {},
   "source": [
    "## Extract Sequence"
   ]
  },
  {
   "cell_type": "code",
   "execution_count": 612,
   "metadata": {},
   "outputs": [
    {
     "name": "stdout",
     "output_type": "stream",
     "text": [
      "./atac_idr_peaks/c57bl6_il4-24h_peaks.tsv\n",
      "./bed_files/c57bl6_il4-24h_peaks.bed\n",
      "./atac_idr_peaks/c57bl6_kla-1h_peaks.tsv\n",
      "./bed_files/c57bl6_kla-1h_peaks.bed\n",
      "./atac_idr_peaks/c57bl6_veh_peaks.tsv\n",
      "./bed_files/c57bl6_veh_peaks.bed\n"
     ]
    },
    {
     "name": "stderr",
     "output_type": "stream",
     "text": [
      "bash: line 7: pos2bed.pl: command not found\n",
      "bash: line 7: pos2bed.pl: command not found\n",
      "bash: line 7: pos2bed.pl: command not found\n"
     ]
    }
   ],
   "source": [
    "%%bash\n",
    "if [ ! -d ./bed_files ]; then mkdir ./bed_files; else rm ./bed_files/*; fi\n",
    "for peak in ./atac_idr_peaks/*tsv;\n",
    "do echo $peak;\n",
    "new_path=${peak/atac_idr_peaks/bed_files};\n",
    "new_path=${new_path/.tsv/.bed};\n",
    "echo $new_path;\n",
    "pos2bed.pl $peak >$new_path\n",
    "done"
   ]
  },
  {
   "cell_type": "code",
   "execution_count": 78,
   "metadata": {},
   "outputs": [
    {
     "name": "stdout",
     "output_type": "stream",
     "text": [
      "./bed_files/c57bl6_il4-24h_peaks.bed\n",
      "./fasta_files/c57bl6_il4-24h_peaks.fa\n",
      "reading genome mm10\n",
      "./bed_files/c57bl6_kla-1h_peaks.bed\n",
      "./fasta_files/c57bl6_kla-1h_peaks.fa\n",
      "reading genome mm10\n",
      "./bed_files/c57bl6_veh_peaks.bed\n",
      "./fasta_files/c57bl6_veh_peaks.fa\n",
      "reading genome mm10\n"
     ]
    },
    {
     "name": "stderr",
     "output_type": "stream",
     "text": [
      "rm: cannot remove ‘./fasta_files/*’: No such file or directory\n"
     ]
    }
   ],
   "source": [
    "%%bash\n",
    "if [ ! -d ./fasta_files ]; then mkdir ./fasta_files; else rm ./fasta_files/*; fi\n",
    "for bed_path in ./bed_files/*bed;\n",
    "do echo $bed_path;\n",
    "new_path=${bed_path/bed_files/fasta_files};\n",
    "new_path=${new_path/.bed/.fa};\n",
    "echo $new_path;\n",
    "/home/jtao/code/tba/model_training/extract_sequences.py $bed_path mm10 $new_path\n",
    "done"
   ]
  },
  {
   "cell_type": "markdown",
   "metadata": {},
   "source": [
    "## Generate Background Coordinates"
   ]
  },
  {
   "cell_type": "code",
   "execution_count": 81,
   "metadata": {},
   "outputs": [
    {
     "name": "stdout",
     "output_type": "stream",
     "text": [
      "./bed_files/c57bl6_il4-24h_peaks.bed\n",
      "/home/jtao/code/tba/model_training/generate_background_coordinates.py ./bed_files/c57bl6_il4-24h_peaks.bed ./background_files -genome mm10\n",
      "./bed_files/c57bl6_kla-1h_peaks.bed\n",
      "/home/jtao/code/tba/model_training/generate_background_coordinates.py ./bed_files/c57bl6_kla-1h_peaks.bed ./background_files -genome mm10\n",
      "./bed_files/c57bl6_veh_peaks.bed\n",
      "/home/jtao/code/tba/model_training/generate_background_coordinates.py ./bed_files/c57bl6_veh_peaks.bed ./background_files -genome mm10\n"
     ]
    },
    {
     "name": "stderr",
     "output_type": "stream",
     "text": [
      "rm: cannot remove ‘./background_files/*’: No such file or directory\n"
     ]
    }
   ],
   "source": [
    "%%bash\n",
    "if [ ! -d ./background_files ]; then mkdir ./background_files; else rm ./background_files/*; fi\n",
    "for bed_path in ./bed_files/*bed;\n",
    "do echo $bed_path;\n",
    "echo /home/jtao/code/tba/model_training/generate_background_coordinates.py $bed_path ./background_files -genome mm10\n",
    "done"
   ]
  },
  {
   "cell_type": "code",
   "execution_count": 88,
   "metadata": {
    "collapsed": true
   },
   "outputs": [],
   "source": [
    "%%bash\n",
    "rm ./make_background.sh\n",
    "script_path=\"./make_background.sh\"\n",
    "if [ ! -d ./background_files/ ]; then mkdir ./background_files/ ; fi\n",
    "for i in ./bed_files/*bed;\n",
    "do \n",
    "    factor=${i##*/};\n",
    "    factor=${factor%.bed};\n",
    "    fasta_path=\"./background_files/${factor}_background.fasta\"\n",
    "    bed_path=\"./background_files/${factor}_background.bed\"\n",
    "\n",
    "    echo \"/home/jtao/code/tba/model_training/generate_background_coordinates.py $i ./background_files/ -genome mm10\" >> $script_path;\n",
    "    echo \"mv ./background_files/background.bed $bed_path\" >> $script_path;\n",
    "    echo \"mv ./background_files/background.fasta $fasta_path\" >> $script_path;\n",
    "done"
   ]
  },
  {
   "cell_type": "code",
   "execution_count": null,
   "metadata": {
    "collapsed": true
   },
   "outputs": [],
   "source": [
    "%%bash\n",
    "rm ./background/*\n",
    "chmod a+x ./*sh\n",
    "bash ./make_background.sh"
   ]
  },
  {
   "cell_type": "markdown",
   "metadata": {},
   "source": [
    "## Read in Data"
   ]
  },
  {
   "cell_type": "code",
   "execution_count": 5,
   "metadata": {
    "collapsed": true
   },
   "outputs": [],
   "source": [
    "positive_seqRecords = list(SeqIO.parse('./fasta_files/c57bl6_il4-24h_peaks.fa', 'fasta'))\n",
    "negative_seqRecords = list(SeqIO.parse('./background_files/c57bl6_il4-24h_peaks_background.fasta', 'fasta'))\n",
    "\n",
    "fasta_seq = [str(x.seq[:200]) for x in positive_seqRecords] + [str(x[:200].seq) for x in negative_seqRecords]\n",
    "\n",
    "fasta_rc_seq = [str(x[:200].reverse_complement().seq) for x in positive_seqRecords] + \\\n",
    "    [str(x[:200].reverse_complement().seq) for x in negative_seqRecords]\n",
    "\n",
    "sequence_arrays = convert_sequences_to_array(fasta_seq)\n",
    "sequence_arrays = np.array(sequence_arrays)\n",
    "\n",
    "sequence_rc_arrays = convert_sequences_to_array(fasta_rc_seq)\n",
    "sequence_rc_arrays = np.array(sequence_rc_arrays)\n",
    "\n",
    "\n",
    "labels = [1 for x in positive_seqRecords] + [0 for x in negative_seqRecords]\n",
    "labels = np.array(labels)\n",
    "\n",
    "\n",
    "x_train, x_test, x_rc_train, x_rc_test, y_train, y_test = model_selection.train_test_split(sequence_arrays, sequence_rc_arrays, labels, test_size=0.2)\n"
   ]
  },
  {
   "cell_type": "code",
   "execution_count": 6,
   "metadata": {
    "collapsed": true
   },
   "outputs": [],
   "source": [
    "num_classes = 2\n",
    "y_train = keras.utils.to_categorical(y_train, num_classes)\n",
    "y_test = keras.utils.to_categorical(y_test, num_classes)"
   ]
  },
  {
   "cell_type": "markdown",
   "metadata": {},
   "source": [
    "## Count Params"
   ]
  },
  {
   "cell_type": "code",
   "execution_count": 7,
   "metadata": {
    "collapsed": true
   },
   "outputs": [],
   "source": [
    "def count_num_params(seq_size,\n",
    "                     num_motifs, \n",
    "                     motif_size,\n",
    "                     adjacent_bp_pool_size,\n",
    "                     attention_dim,\n",
    "                     attention_hops,\n",
    "                     num_dense_neurons\n",
    "                    ):\n",
    "    total_params = 0\n",
    "    \n",
    "    # convolution layer\n",
    "    convolution_params = num_motifs * motif_size * 4\n",
    "    total_params += convolution_params\n",
    "    print('Convolution Params:', convolution_params)\n",
    "    \n",
    "    # lstm layer\n",
    "    # account for pooling\n",
    "    lstm_input_size = num_motifs\n",
    "    # account for reverse complement sequence\n",
    "    lstm_input_size = lstm_input_size * 2\n",
    "    \n",
    "    num_lstm_neurons = seq_size/ adjacent_bp_pool_size\n",
    "    \n",
    "    lstm_params = lstm_input_size * 4 * num_lstm_neurons\n",
    "    # account for bidrectional lstm\n",
    "    lstm_params = lstm_params * 2\n",
    "    \n",
    "    total_params += lstm_params\n",
    "    print('LSTM Params:', lstm_params)\n",
    "    \n",
    "    # attention layer\n",
    "    # first layer of perceptron\n",
    "    attention_params = attention_dim * (seq_size/adjacent_bp_pool_size) \n",
    "    # account for hops of attention (second layer of perceptron)\n",
    "    attention_params += attention_dim * attention_hops\n",
    "    \n",
    "    total_params += attention_params\n",
    "    print('Attention Params:', attention_params)\n",
    "    \n",
    "    # dense layer\n",
    "    dense_params = (seq_size/adjacent_bp_pool_size) * num_dense_neurons\n",
    "    total_params += dense_params\n",
    "    print('Dense Params:', dense_params)\n",
    "    \n",
    "    return total_params"
   ]
  },
  {
   "cell_type": "code",
   "execution_count": 8,
   "metadata": {},
   "outputs": [
    {
     "name": "stdout",
     "output_type": "stream",
     "text": [
      "Convolution Params: 4000\n",
      "LSTM Params: 12000.0\n",
      "Attention Params: 800.0\n",
      "Dense Params: 7500.0\n"
     ]
    },
    {
     "data": {
      "text/plain": [
       "24300.0"
      ]
     },
     "execution_count": 8,
     "metadata": {},
     "output_type": "execute_result"
    }
   ],
   "source": [
    "seq_size = 150\n",
    "num_classes = 2\n",
    "num_motifs = 50\n",
    "motif_size = 20\n",
    "adjacent_bp_pool_size = 10\n",
    "attention_dim = 50 # 350 from A Structured Self-attentive Sentence Embedding\n",
    "attention_hops = 1 # from A Structured Self-attentive Sentence Embedding\n",
    "num_dense_neurons = 500 # 2-layer, 2000 units, from A Structured Self-attentive Sentence Embedding\n",
    "\n",
    "count_num_params(seq_size,\n",
    "    num_motifs, \n",
    "    motif_size,\n",
    "    adjacent_bp_pool_size,\n",
    "    attention_dim,\n",
    "    attention_hops,\n",
    "    num_dense_neurons\n",
    "    )"
   ]
  },
  {
   "cell_type": "markdown",
   "metadata": {},
   "source": [
    "## Define Model"
   ]
  },
  {
   "cell_type": "code",
   "execution_count": 141,
   "metadata": {
    "collapsed": true
   },
   "outputs": [],
   "source": [
    "seq_size = 150\n",
    "num_classes = 2\n",
    "num_motifs = 100\n",
    "motif_size = 20\n",
    "adjacent_bp_pool_size = 1\n",
    "attention_dim = 50 \n",
    "attention_hops = 1 \n",
    "num_dense_neurons = 500 "
   ]
  },
  {
   "cell_type": "markdown",
   "metadata": {},
   "source": [
    "### Top Motif Scores"
   ]
  },
  {
   "cell_type": "code",
   "execution_count": 142,
   "metadata": {},
   "outputs": [
    {
     "name": "stdout",
     "output_type": "stream",
     "text": [
      "forward_motif_scores (?, 200, 100)\n",
      "cropped_fwd_scores (?, 150, 100)\n",
      "max_fwd_scores (?, 1, 100)\n",
      "max_seq_scores (?, 1, 100)\n"
     ]
    }
   ],
   "source": [
    "total_seq_length = len(fasta_seq[0])\n",
    "\n",
    "input_fwd = Input(shape=(total_seq_length,4), name='input_fwd')\n",
    "input_rev = Input(shape=(total_seq_length,4), name='input_rev')\n",
    "\n",
    "# find motifs\n",
    "convolution_layer = Conv1D(filters=num_motifs, \n",
    "    kernel_size=motif_size,\n",
    "    activation='relu',\n",
    "    input_shape=(total_seq_length,4),\n",
    "    name='convolution_layer',\n",
    "    padding = 'same'\n",
    "    )\n",
    "forward_motif_scores = convolution_layer(input_fwd)\n",
    "reverse_motif_scores = convolution_layer(input_rev)\n",
    "print('forward_motif_scores', forward_motif_scores.shape)\n",
    "\n",
    "# crop motif scores to avoid parts of sequence where motif score is computed in only one direction\n",
    "to_crop = int((total_seq_length - seq_size)/2)\n",
    "crop_layer = Cropping1D(cropping=(to_crop, to_crop), \n",
    "    name='crop_layer')\n",
    "cropped_fwd_scores = crop_layer(forward_motif_scores)\n",
    "cropped_rev_scores = crop_layer(reverse_motif_scores)\n",
    "print('cropped_fwd_scores', cropped_fwd_scores.shape)\n",
    "\n",
    "# # flip motif scores\n",
    "# flip_layer = Lambda(lambda x: K.reverse(x,axes=0),\n",
    "#     output_shape=(seq_size, num_motifs),\n",
    "#     name='flip_layer')\n",
    "# flipped_rev_scores = flip_layer(cropped_rev_scores)\n",
    "# print('flipped_rev_scores', flipped_rev_scores.shape)\n",
    "\n",
    "# calculate max scores for each orientation\n",
    "seq_pool_layer = MaxPool1D(pool_size=seq_size)\n",
    "max_fwd_scores = seq_pool_layer(cropped_fwd_scores)\n",
    "max_rev_scores = seq_pool_layer(cropped_rev_scores)\n",
    "print('max_fwd_scores', max_fwd_scores.shape)\n",
    "\n",
    "# calculate max score for strand\n",
    "orientation_max_layer = Maximum()\n",
    "max_seq_scores = orientation_max_layer([max_fwd_scores, max_rev_scores])\n",
    "print('max_seq_scores', max_seq_scores.shape)\n",
    "\n",
    "# fully connected layer\n",
    "dense_out = Dense(num_dense_neurons, activation='relu', \n",
    "                 )(max_seq_scores)\n",
    "\n",
    "# drop out\n",
    "drop_out = Dropout(0.25)(dense_out)\n",
    "\n",
    "# make prediction\n",
    "flattened = Flatten()(drop_out)\n",
    "predictions = Dense(num_classes,\n",
    "                    activation = 'softmax', \n",
    "                   )(flattened)\n"
   ]
  },
  {
   "cell_type": "code",
   "execution_count": 143,
   "metadata": {
    "collapsed": true
   },
   "outputs": [],
   "source": [
    "# define and compile model\n",
    "convolution_model = Model(inputs=[input_fwd, input_rev], outputs=predictions)\n",
    "\n",
    "convolution_model.compile(loss=keras.losses.categorical_crossentropy,\n",
    "              optimizer=keras.optimizers.Adam(),\n",
    "              metrics=['accuracy'])"
   ]
  },
  {
   "cell_type": "code",
   "execution_count": 144,
   "metadata": {},
   "outputs": [
    {
     "data": {
      "image/svg+xml": [
       "<svg height=\"719pt\" viewBox=\"0.00 0.00 606.00 719.00\" width=\"606pt\" xmlns=\"http://www.w3.org/2000/svg\" xmlns:xlink=\"http://www.w3.org/1999/xlink\">\n",
       "<g class=\"graph\" id=\"graph0\" transform=\"scale(1 1) rotate(0) translate(4 715)\">\n",
       "<title>G</title>\n",
       "<polygon fill=\"white\" points=\"-4,4 -4,-715 602,-715 602,4 -4,4\" stroke=\"none\"/>\n",
       "<!-- 139649720136872 -->\n",
       "<g class=\"node\" id=\"node1\"><title>139649720136872</title>\n",
       "<polygon fill=\"none\" points=\"0,-664.5 0,-710.5 292,-710.5 292,-664.5 0,-664.5\" stroke=\"black\"/>\n",
       "<text font-family=\"Times,serif\" font-size=\"14.00\" text-anchor=\"middle\" x=\"70\" y=\"-683.8\">input_fwd: InputLayer</text>\n",
       "<polyline fill=\"none\" points=\"140,-664.5 140,-710.5 \" stroke=\"black\"/>\n",
       "<text font-family=\"Times,serif\" font-size=\"14.00\" text-anchor=\"middle\" x=\"167.5\" y=\"-695.3\">input:</text>\n",
       "<polyline fill=\"none\" points=\"140,-687.5 195,-687.5 \" stroke=\"black\"/>\n",
       "<text font-family=\"Times,serif\" font-size=\"14.00\" text-anchor=\"middle\" x=\"167.5\" y=\"-672.3\">output:</text>\n",
       "<polyline fill=\"none\" points=\"195,-664.5 195,-710.5 \" stroke=\"black\"/>\n",
       "<text font-family=\"Times,serif\" font-size=\"14.00\" text-anchor=\"middle\" x=\"243.5\" y=\"-695.3\">(None, 200, 4)</text>\n",
       "<polyline fill=\"none\" points=\"195,-687.5 292,-687.5 \" stroke=\"black\"/>\n",
       "<text font-family=\"Times,serif\" font-size=\"14.00\" text-anchor=\"middle\" x=\"243.5\" y=\"-672.3\">(None, 200, 4)</text>\n",
       "</g>\n",
       "<!-- 139649720136928 -->\n",
       "<g class=\"node\" id=\"node3\"><title>139649720136928</title>\n",
       "<polygon fill=\"none\" points=\"133.5,-581.5 133.5,-627.5 466.5,-627.5 466.5,-581.5 133.5,-581.5\" stroke=\"black\"/>\n",
       "<text font-family=\"Times,serif\" font-size=\"14.00\" text-anchor=\"middle\" x=\"217.5\" y=\"-600.8\">convolution_layer: Conv1D</text>\n",
       "<polyline fill=\"none\" points=\"301.5,-581.5 301.5,-627.5 \" stroke=\"black\"/>\n",
       "<text font-family=\"Times,serif\" font-size=\"14.00\" text-anchor=\"middle\" x=\"329\" y=\"-612.3\">input:</text>\n",
       "<polyline fill=\"none\" points=\"301.5,-604.5 356.5,-604.5 \" stroke=\"black\"/>\n",
       "<text font-family=\"Times,serif\" font-size=\"14.00\" text-anchor=\"middle\" x=\"329\" y=\"-589.3\">output:</text>\n",
       "<polyline fill=\"none\" points=\"356.5,-581.5 356.5,-627.5 \" stroke=\"black\"/>\n",
       "<text font-family=\"Times,serif\" font-size=\"14.00\" text-anchor=\"middle\" x=\"411.5\" y=\"-612.3\">(None, 200, 4)</text>\n",
       "<polyline fill=\"none\" points=\"356.5,-604.5 466.5,-604.5 \" stroke=\"black\"/>\n",
       "<text font-family=\"Times,serif\" font-size=\"14.00\" text-anchor=\"middle\" x=\"411.5\" y=\"-589.3\">(None, 200, 100)</text>\n",
       "</g>\n",
       "<!-- 139649720136872&#45;&gt;139649720136928 -->\n",
       "<g class=\"edge\" id=\"edge1\"><title>139649720136872-&gt;139649720136928</title>\n",
       "<path d=\"M188.081,-664.366C206.925,-654.455 229.308,-642.682 249.087,-632.279\" fill=\"none\" stroke=\"black\"/>\n",
       "<polygon fill=\"black\" points=\"250.749,-635.36 257.97,-627.607 247.49,-629.164 250.749,-635.36\" stroke=\"black\"/>\n",
       "</g>\n",
       "<!-- 139649720136984 -->\n",
       "<g class=\"node\" id=\"node2\"><title>139649720136984</title>\n",
       "<polygon fill=\"none\" points=\"310,-664.5 310,-710.5 598,-710.5 598,-664.5 310,-664.5\" stroke=\"black\"/>\n",
       "<text font-family=\"Times,serif\" font-size=\"14.00\" text-anchor=\"middle\" x=\"378\" y=\"-683.8\">input_rev: InputLayer</text>\n",
       "<polyline fill=\"none\" points=\"446,-664.5 446,-710.5 \" stroke=\"black\"/>\n",
       "<text font-family=\"Times,serif\" font-size=\"14.00\" text-anchor=\"middle\" x=\"473.5\" y=\"-695.3\">input:</text>\n",
       "<polyline fill=\"none\" points=\"446,-687.5 501,-687.5 \" stroke=\"black\"/>\n",
       "<text font-family=\"Times,serif\" font-size=\"14.00\" text-anchor=\"middle\" x=\"473.5\" y=\"-672.3\">output:</text>\n",
       "<polyline fill=\"none\" points=\"501,-664.5 501,-710.5 \" stroke=\"black\"/>\n",
       "<text font-family=\"Times,serif\" font-size=\"14.00\" text-anchor=\"middle\" x=\"549.5\" y=\"-695.3\">(None, 200, 4)</text>\n",
       "<polyline fill=\"none\" points=\"501,-687.5 598,-687.5 \" stroke=\"black\"/>\n",
       "<text font-family=\"Times,serif\" font-size=\"14.00\" text-anchor=\"middle\" x=\"549.5\" y=\"-672.3\">(None, 200, 4)</text>\n",
       "</g>\n",
       "<!-- 139649720136984&#45;&gt;139649720136928 -->\n",
       "<g class=\"edge\" id=\"edge2\"><title>139649720136984-&gt;139649720136928</title>\n",
       "<path d=\"M411.919,-664.366C393.075,-654.455 370.692,-642.682 350.913,-632.279\" fill=\"none\" stroke=\"black\"/>\n",
       "<polygon fill=\"black\" points=\"352.51,-629.164 342.03,-627.607 349.251,-635.36 352.51,-629.164\" stroke=\"black\"/>\n",
       "</g>\n",
       "<!-- 139649719890776 -->\n",
       "<g class=\"node\" id=\"node4\"><title>139649719890776</title>\n",
       "<polygon fill=\"none\" points=\"143,-498.5 143,-544.5 457,-544.5 457,-498.5 143,-498.5\" stroke=\"black\"/>\n",
       "<text font-family=\"Times,serif\" font-size=\"14.00\" text-anchor=\"middle\" x=\"217.5\" y=\"-517.8\">crop_layer: Cropping1D</text>\n",
       "<polyline fill=\"none\" points=\"292,-498.5 292,-544.5 \" stroke=\"black\"/>\n",
       "<text font-family=\"Times,serif\" font-size=\"14.00\" text-anchor=\"middle\" x=\"319.5\" y=\"-529.3\">input:</text>\n",
       "<polyline fill=\"none\" points=\"292,-521.5 347,-521.5 \" stroke=\"black\"/>\n",
       "<text font-family=\"Times,serif\" font-size=\"14.00\" text-anchor=\"middle\" x=\"319.5\" y=\"-506.3\">output:</text>\n",
       "<polyline fill=\"none\" points=\"347,-498.5 347,-544.5 \" stroke=\"black\"/>\n",
       "<text font-family=\"Times,serif\" font-size=\"14.00\" text-anchor=\"middle\" x=\"402\" y=\"-529.3\">(None, 200, 100)</text>\n",
       "<polyline fill=\"none\" points=\"347,-521.5 457,-521.5 \" stroke=\"black\"/>\n",
       "<text font-family=\"Times,serif\" font-size=\"14.00\" text-anchor=\"middle\" x=\"402\" y=\"-506.3\">(None, 150, 100)</text>\n",
       "</g>\n",
       "<!-- 139649720136928&#45;&gt;139649719890776 -->\n",
       "<g class=\"edge\" id=\"edge3\"><title>139649720136928-&gt;139649719890776</title>\n",
       "<path d=\"M300,-581.366C300,-573.152 300,-563.658 300,-554.725\" fill=\"none\" stroke=\"black\"/>\n",
       "<polygon fill=\"black\" points=\"303.5,-554.607 300,-544.607 296.5,-554.607 303.5,-554.607\" stroke=\"black\"/>\n",
       "</g>\n",
       "<!-- 139649720138272 -->\n",
       "<g class=\"node\" id=\"node5\"><title>139649720138272</title>\n",
       "<polygon fill=\"none\" points=\"114,-415.5 114,-461.5 486,-461.5 486,-415.5 114,-415.5\" stroke=\"black\"/>\n",
       "<text font-family=\"Times,serif\" font-size=\"14.00\" text-anchor=\"middle\" x=\"217.5\" y=\"-434.8\">max_pooling1d_8: MaxPooling1D</text>\n",
       "<polyline fill=\"none\" points=\"321,-415.5 321,-461.5 \" stroke=\"black\"/>\n",
       "<text font-family=\"Times,serif\" font-size=\"14.00\" text-anchor=\"middle\" x=\"348.5\" y=\"-446.3\">input:</text>\n",
       "<polyline fill=\"none\" points=\"321,-438.5 376,-438.5 \" stroke=\"black\"/>\n",
       "<text font-family=\"Times,serif\" font-size=\"14.00\" text-anchor=\"middle\" x=\"348.5\" y=\"-423.3\">output:</text>\n",
       "<polyline fill=\"none\" points=\"376,-415.5 376,-461.5 \" stroke=\"black\"/>\n",
       "<text font-family=\"Times,serif\" font-size=\"14.00\" text-anchor=\"middle\" x=\"431\" y=\"-446.3\">(None, 150, 100)</text>\n",
       "<polyline fill=\"none\" points=\"376,-438.5 486,-438.5 \" stroke=\"black\"/>\n",
       "<text font-family=\"Times,serif\" font-size=\"14.00\" text-anchor=\"middle\" x=\"431\" y=\"-423.3\">(None, 1, 100)</text>\n",
       "</g>\n",
       "<!-- 139649719890776&#45;&gt;139649720138272 -->\n",
       "<g class=\"edge\" id=\"edge5\"><title>139649719890776-&gt;139649720138272</title>\n",
       "<path d=\"M300,-498.366C300,-490.152 300,-480.658 300,-471.725\" fill=\"none\" stroke=\"black\"/>\n",
       "<polygon fill=\"black\" points=\"303.5,-471.607 300,-461.607 296.5,-471.607 303.5,-471.607\" stroke=\"black\"/>\n",
       "</g>\n",
       "<!-- 139649720137544 -->\n",
       "<g class=\"node\" id=\"node6\"><title>139649720137544</title>\n",
       "<polygon fill=\"none\" points=\"99,-332.5 99,-378.5 501,-378.5 501,-332.5 99,-332.5\" stroke=\"black\"/>\n",
       "<text font-family=\"Times,serif\" font-size=\"14.00\" text-anchor=\"middle\" x=\"175.5\" y=\"-351.8\">maximum_8: Maximum</text>\n",
       "<polyline fill=\"none\" points=\"252,-332.5 252,-378.5 \" stroke=\"black\"/>\n",
       "<text font-family=\"Times,serif\" font-size=\"14.00\" text-anchor=\"middle\" x=\"279.5\" y=\"-363.3\">input:</text>\n",
       "<polyline fill=\"none\" points=\"252,-355.5 307,-355.5 \" stroke=\"black\"/>\n",
       "<text font-family=\"Times,serif\" font-size=\"14.00\" text-anchor=\"middle\" x=\"279.5\" y=\"-340.3\">output:</text>\n",
       "<polyline fill=\"none\" points=\"307,-332.5 307,-378.5 \" stroke=\"black\"/>\n",
       "<text font-family=\"Times,serif\" font-size=\"14.00\" text-anchor=\"middle\" x=\"404\" y=\"-363.3\">[(None, 1, 100), (None, 1, 100)]</text>\n",
       "<polyline fill=\"none\" points=\"307,-355.5 501,-355.5 \" stroke=\"black\"/>\n",
       "<text font-family=\"Times,serif\" font-size=\"14.00\" text-anchor=\"middle\" x=\"404\" y=\"-340.3\">(None, 1, 100)</text>\n",
       "</g>\n",
       "<!-- 139649720138272&#45;&gt;139649720137544 -->\n",
       "<g class=\"edge\" id=\"edge7\"><title>139649720138272-&gt;139649720137544</title>\n",
       "<path d=\"M300,-415.366C300,-407.152 300,-397.658 300,-388.725\" fill=\"none\" stroke=\"black\"/>\n",
       "<polygon fill=\"black\" points=\"303.5,-388.607 300,-378.607 296.5,-388.607 303.5,-388.607\" stroke=\"black\"/>\n",
       "</g>\n",
       "<!-- 139649708523080 -->\n",
       "<g class=\"node\" id=\"node7\"><title>139649708523080</title>\n",
       "<polygon fill=\"none\" points=\"169.5,-249.5 169.5,-295.5 430.5,-295.5 430.5,-249.5 169.5,-249.5\" stroke=\"black\"/>\n",
       "<text font-family=\"Times,serif\" font-size=\"14.00\" text-anchor=\"middle\" x=\"224\" y=\"-268.8\">dense_15: Dense</text>\n",
       "<polyline fill=\"none\" points=\"278.5,-249.5 278.5,-295.5 \" stroke=\"black\"/>\n",
       "<text font-family=\"Times,serif\" font-size=\"14.00\" text-anchor=\"middle\" x=\"306\" y=\"-280.3\">input:</text>\n",
       "<polyline fill=\"none\" points=\"278.5,-272.5 333.5,-272.5 \" stroke=\"black\"/>\n",
       "<text font-family=\"Times,serif\" font-size=\"14.00\" text-anchor=\"middle\" x=\"306\" y=\"-257.3\">output:</text>\n",
       "<polyline fill=\"none\" points=\"333.5,-249.5 333.5,-295.5 \" stroke=\"black\"/>\n",
       "<text font-family=\"Times,serif\" font-size=\"14.00\" text-anchor=\"middle\" x=\"382\" y=\"-280.3\">(None, 1, 100)</text>\n",
       "<polyline fill=\"none\" points=\"333.5,-272.5 430.5,-272.5 \" stroke=\"black\"/>\n",
       "<text font-family=\"Times,serif\" font-size=\"14.00\" text-anchor=\"middle\" x=\"382\" y=\"-257.3\">(None, 1, 500)</text>\n",
       "</g>\n",
       "<!-- 139649720137544&#45;&gt;139649708523080 -->\n",
       "<g class=\"edge\" id=\"edge9\"><title>139649720137544-&gt;139649708523080</title>\n",
       "<path d=\"M300,-332.366C300,-324.152 300,-314.658 300,-305.725\" fill=\"none\" stroke=\"black\"/>\n",
       "<polygon fill=\"black\" points=\"303.5,-305.607 300,-295.607 296.5,-305.607 303.5,-305.607\" stroke=\"black\"/>\n",
       "</g>\n",
       "<!-- 139649719891336 -->\n",
       "<g class=\"node\" id=\"node8\"><title>139649719891336</title>\n",
       "<polygon fill=\"none\" points=\"161.5,-166.5 161.5,-212.5 438.5,-212.5 438.5,-166.5 161.5,-166.5\" stroke=\"black\"/>\n",
       "<text font-family=\"Times,serif\" font-size=\"14.00\" text-anchor=\"middle\" x=\"224\" y=\"-185.8\">dropout_8: Dropout</text>\n",
       "<polyline fill=\"none\" points=\"286.5,-166.5 286.5,-212.5 \" stroke=\"black\"/>\n",
       "<text font-family=\"Times,serif\" font-size=\"14.00\" text-anchor=\"middle\" x=\"314\" y=\"-197.3\">input:</text>\n",
       "<polyline fill=\"none\" points=\"286.5,-189.5 341.5,-189.5 \" stroke=\"black\"/>\n",
       "<text font-family=\"Times,serif\" font-size=\"14.00\" text-anchor=\"middle\" x=\"314\" y=\"-174.3\">output:</text>\n",
       "<polyline fill=\"none\" points=\"341.5,-166.5 341.5,-212.5 \" stroke=\"black\"/>\n",
       "<text font-family=\"Times,serif\" font-size=\"14.00\" text-anchor=\"middle\" x=\"390\" y=\"-197.3\">(None, 1, 500)</text>\n",
       "<polyline fill=\"none\" points=\"341.5,-189.5 438.5,-189.5 \" stroke=\"black\"/>\n",
       "<text font-family=\"Times,serif\" font-size=\"14.00\" text-anchor=\"middle\" x=\"390\" y=\"-174.3\">(None, 1, 500)</text>\n",
       "</g>\n",
       "<!-- 139649708523080&#45;&gt;139649719891336 -->\n",
       "<g class=\"edge\" id=\"edge10\"><title>139649708523080-&gt;139649719891336</title>\n",
       "<path d=\"M300,-249.366C300,-241.152 300,-231.658 300,-222.725\" fill=\"none\" stroke=\"black\"/>\n",
       "<polygon fill=\"black\" points=\"303.5,-222.607 300,-212.607 296.5,-222.607 303.5,-222.607\" stroke=\"black\"/>\n",
       "</g>\n",
       "<!-- 139649708084192 -->\n",
       "<g class=\"node\" id=\"node9\"><title>139649708084192</title>\n",
       "<polygon fill=\"none\" points=\"169,-83.5 169,-129.5 431,-129.5 431,-83.5 169,-83.5\" stroke=\"black\"/>\n",
       "<text font-family=\"Times,serif\" font-size=\"14.00\" text-anchor=\"middle\" x=\"224\" y=\"-102.8\">flatten_8: Flatten</text>\n",
       "<polyline fill=\"none\" points=\"279,-83.5 279,-129.5 \" stroke=\"black\"/>\n",
       "<text font-family=\"Times,serif\" font-size=\"14.00\" text-anchor=\"middle\" x=\"306.5\" y=\"-114.3\">input:</text>\n",
       "<polyline fill=\"none\" points=\"279,-106.5 334,-106.5 \" stroke=\"black\"/>\n",
       "<text font-family=\"Times,serif\" font-size=\"14.00\" text-anchor=\"middle\" x=\"306.5\" y=\"-91.3\">output:</text>\n",
       "<polyline fill=\"none\" points=\"334,-83.5 334,-129.5 \" stroke=\"black\"/>\n",
       "<text font-family=\"Times,serif\" font-size=\"14.00\" text-anchor=\"middle\" x=\"382.5\" y=\"-114.3\">(None, 1, 500)</text>\n",
       "<polyline fill=\"none\" points=\"334,-106.5 431,-106.5 \" stroke=\"black\"/>\n",
       "<text font-family=\"Times,serif\" font-size=\"14.00\" text-anchor=\"middle\" x=\"382.5\" y=\"-91.3\">(None, 500)</text>\n",
       "</g>\n",
       "<!-- 139649719891336&#45;&gt;139649708084192 -->\n",
       "<g class=\"edge\" id=\"edge11\"><title>139649719891336-&gt;139649708084192</title>\n",
       "<path d=\"M300,-166.366C300,-158.152 300,-148.658 300,-139.725\" fill=\"none\" stroke=\"black\"/>\n",
       "<polygon fill=\"black\" points=\"303.5,-139.607 300,-129.607 296.5,-139.607 303.5,-139.607\" stroke=\"black\"/>\n",
       "</g>\n",
       "<!-- 139649708081784 -->\n",
       "<g class=\"node\" id=\"node10\"><title>139649708081784</title>\n",
       "<polygon fill=\"none\" points=\"176.5,-0.5 176.5,-46.5 423.5,-46.5 423.5,-0.5 176.5,-0.5\" stroke=\"black\"/>\n",
       "<text font-family=\"Times,serif\" font-size=\"14.00\" text-anchor=\"middle\" x=\"231\" y=\"-19.8\">dense_16: Dense</text>\n",
       "<polyline fill=\"none\" points=\"285.5,-0.5 285.5,-46.5 \" stroke=\"black\"/>\n",
       "<text font-family=\"Times,serif\" font-size=\"14.00\" text-anchor=\"middle\" x=\"313\" y=\"-31.3\">input:</text>\n",
       "<polyline fill=\"none\" points=\"285.5,-23.5 340.5,-23.5 \" stroke=\"black\"/>\n",
       "<text font-family=\"Times,serif\" font-size=\"14.00\" text-anchor=\"middle\" x=\"313\" y=\"-8.3\">output:</text>\n",
       "<polyline fill=\"none\" points=\"340.5,-0.5 340.5,-46.5 \" stroke=\"black\"/>\n",
       "<text font-family=\"Times,serif\" font-size=\"14.00\" text-anchor=\"middle\" x=\"382\" y=\"-31.3\">(None, 500)</text>\n",
       "<polyline fill=\"none\" points=\"340.5,-23.5 423.5,-23.5 \" stroke=\"black\"/>\n",
       "<text font-family=\"Times,serif\" font-size=\"14.00\" text-anchor=\"middle\" x=\"382\" y=\"-8.3\">(None, 2)</text>\n",
       "</g>\n",
       "<!-- 139649708084192&#45;&gt;139649708081784 -->\n",
       "<g class=\"edge\" id=\"edge12\"><title>139649708084192-&gt;139649708081784</title>\n",
       "<path d=\"M300,-83.3664C300,-75.1516 300,-65.6579 300,-56.7252\" fill=\"none\" stroke=\"black\"/>\n",
       "<polygon fill=\"black\" points=\"303.5,-56.6068 300,-46.6068 296.5,-56.6069 303.5,-56.6068\" stroke=\"black\"/>\n",
       "</g>\n",
       "</g>\n",
       "</svg>"
      ],
      "text/plain": [
       "<IPython.core.display.SVG object>"
      ]
     },
     "execution_count": 144,
     "metadata": {},
     "output_type": "execute_result"
    }
   ],
   "source": [
    "SVG(model_to_dot(convolution_model, show_shapes=True, show_layer_names=True).create(prog='dot', format='svg'))"
   ]
  },
  {
   "cell_type": "code",
   "execution_count": 145,
   "metadata": {},
   "outputs": [
    {
     "name": "stdout",
     "output_type": "stream",
     "text": [
      "Train on 59352 samples, validate on 14838 samples\n",
      "Epoch 1/10\n",
      "59352/59352 [==============================] - 5s 80us/step - loss: 0.5249 - acc: 0.7198 - val_loss: 0.4040 - val_acc: 0.8152\n",
      "Epoch 2/10\n",
      "59352/59352 [==============================] - 4s 60us/step - loss: 0.3783 - acc: 0.8312 - val_loss: 0.3662 - val_acc: 0.8353\n",
      "Epoch 3/10\n",
      "59352/59352 [==============================] - 4s 60us/step - loss: 0.3459 - acc: 0.8490 - val_loss: 0.3574 - val_acc: 0.8425\n",
      "Epoch 4/10\n",
      "59352/59352 [==============================] - 4s 60us/step - loss: 0.3189 - acc: 0.8631 - val_loss: 0.3472 - val_acc: 0.8457\n",
      "Epoch 5/10\n",
      "59352/59352 [==============================] - 4s 60us/step - loss: 0.3075 - acc: 0.8688 - val_loss: 0.3667 - val_acc: 0.8375\n",
      "Epoch 6/10\n",
      "59352/59352 [==============================] - 4s 60us/step - loss: 0.2954 - acc: 0.8748 - val_loss: 0.3948 - val_acc: 0.8215\n",
      "Epoch 7/10\n",
      "59352/59352 [==============================] - 4s 60us/step - loss: 0.2853 - acc: 0.8799 - val_loss: 0.3662 - val_acc: 0.8397\n",
      "Epoch 8/10\n",
      "59352/59352 [==============================] - 4s 60us/step - loss: 0.2769 - acc: 0.8847 - val_loss: 0.3425 - val_acc: 0.8500\n",
      "Epoch 9/10\n",
      "59352/59352 [==============================] - 4s 60us/step - loss: 0.2734 - acc: 0.8859 - val_loss: 0.3539 - val_acc: 0.8464\n",
      "Epoch 10/10\n",
      "59352/59352 [==============================] - 4s 60us/step - loss: 0.2674 - acc: 0.8890 - val_loss: 0.3518 - val_acc: 0.8508\n",
      "Test loss: 0.35175506580404586\n",
      "Test accuracy: 0.8507885159885712\n"
     ]
    }
   ],
   "source": [
    "convolution_model.fit([x_train, x_rc_train], y_train,\n",
    "          batch_size=100,\n",
    "          epochs=10,\n",
    "          verbose=1,\n",
    "          validation_data=([x_test, x_rc_test], y_test))\n",
    "score = convolution_model.evaluate([x_test, x_rc_test], y_test, verbose=0)\n",
    "print('Test loss:', score[0])\n",
    "print('Test accuracy:', score[1])"
   ]
  },
  {
   "cell_type": "code",
   "execution_count": 146,
   "metadata": {},
   "outputs": [
    {
     "data": {
      "text/plain": [
       "0.9290040404301393"
      ]
     },
     "execution_count": 146,
     "metadata": {},
     "output_type": "execute_result"
    }
   ],
   "source": [
    "probs = convolution_model.predict([x_test, x_rc_test])\n",
    "\n",
    "sklearn.metrics.roc_auc_score([y[1] for y in y_test], probs[:,1], )"
   ]
  },
  {
   "cell_type": "markdown",
   "metadata": {},
   "source": [
    "### Attention Model"
   ]
  },
  {
   "cell_type": "code",
   "execution_count": 161,
   "metadata": {},
   "outputs": [
    {
     "name": "stdout",
     "output_type": "stream",
     "text": [
      "Convolution Params: 8000\n",
      "LSTM Params: 24000.0\n",
      "Attention Params: 800.0\n",
      "Dense Params: 15000.0\n"
     ]
    },
    {
     "data": {
      "text/plain": [
       "47800.0"
      ]
     },
     "execution_count": 161,
     "metadata": {},
     "output_type": "execute_result"
    }
   ],
   "source": [
    "seq_size = 150\n",
    "num_classes = 2\n",
    "num_motifs = 100\n",
    "motif_size = 20\n",
    "adjacent_bp_pool_size = 10\n",
    "attention_dim = 50 \n",
    "attention_hops = 1 \n",
    "num_dense_neurons = 1000 \n",
    "count_num_params(seq_size,\n",
    "    num_motifs, \n",
    "    motif_size,\n",
    "    adjacent_bp_pool_size,\n",
    "    attention_dim,\n",
    "    attention_hops,\n",
    "    num_dense_neurons\n",
    "    )"
   ]
  },
  {
   "cell_type": "code",
   "execution_count": 162,
   "metadata": {},
   "outputs": [
    {
     "name": "stdout",
     "output_type": "stream",
     "text": [
      "forward_motif_scores (?, 200, 100)\n",
      "cropped_fwd_scores (?, 150, 100)\n",
      "flipped_rev_scores (?, 150, 100)\n",
      "concatenated_motif_scores (?, 150, 200)\n",
      "pooled_scores (?, 15, 200)\n",
      "forward_hidden_states (?, ?, 15)\n",
      "reverse_hidden_states (?, ?, 15)\n",
      "bilstm_hidden_states (?, ?, 30)\n"
     ]
    }
   ],
   "source": [
    "total_seq_length = len(fasta_seq[0])\n",
    "\n",
    "input_fwd = Input(shape=(total_seq_length,4), name='input_fwd')\n",
    "input_rev = Input(shape=(total_seq_length,4), name='input_rev')\n",
    "\n",
    "# find motifs\n",
    "convolution_layer = Conv1D(filters=num_motifs, \n",
    "    kernel_size=motif_size,\n",
    "    activation='relu',\n",
    "    input_shape=(total_seq_length,4),\n",
    "    name='convolution_layer',\n",
    "    padding = 'same'\n",
    "    )\n",
    "forward_motif_scores = convolution_layer(input_fwd)\n",
    "reverse_motif_scores = convolution_layer(input_rev)\n",
    "print('forward_motif_scores', forward_motif_scores.shape)\n",
    "\n",
    "# crop motif scores to avoid parts of sequence where motif score is computed in only one direction\n",
    "to_crop = int((total_seq_length - seq_size)/2)\n",
    "crop_layer = Cropping1D(cropping=(to_crop, to_crop), \n",
    "    name='crop_layer')\n",
    "cropped_fwd_scores = crop_layer(forward_motif_scores)\n",
    "cropped_rev_scores = crop_layer(reverse_motif_scores)\n",
    "print('cropped_fwd_scores', cropped_fwd_scores.shape)\n",
    "\n",
    "# flip motif scores\n",
    "flip_layer = Lambda(lambda x: K.reverse(x,axes=0),\n",
    "    output_shape=(seq_size, num_motifs),\n",
    "    name='flip_layer')\n",
    "flipped_rev_scores = flip_layer(cropped_rev_scores)\n",
    "print('flipped_rev_scores', flipped_rev_scores.shape)\n",
    "\n",
    "# concatenate motif scores\n",
    "concatenate_layer = keras.layers.Concatenate(axis=2, name='concatenate_layer')\n",
    "concatenated_motif_scores = concatenate_layer([cropped_fwd_scores, flipped_rev_scores])\n",
    "print('concatenated_motif_scores', concatenated_motif_scores.shape)\n",
    "\n",
    "# pool across length of sequence\n",
    "sequence_pooling_layer = MaxPool1D(pool_size=adjacent_bp_pool_size, \n",
    "    strides=adjacent_bp_pool_size,\n",
    "    name='sequence_pooling_layer')\n",
    "pooled_scores = sequence_pooling_layer(concatenated_motif_scores)\n",
    "print('pooled_scores', pooled_scores.shape)\n",
    "\n",
    "# bidirectional LSTM\n",
    "forward_lstm_layer = LSTM(units=int(seq_size/adjacent_bp_pool_size),\n",
    "    return_sequences=True,\n",
    "    name = 'forward_lstm_layer'\n",
    "    )\n",
    "forward_hidden_states = forward_lstm_layer(pooled_scores)\n",
    "print('forward_hidden_states', forward_hidden_states.shape)\n",
    "\n",
    "reverse_lstm_layer = LSTM(units=int(seq_size/adjacent_bp_pool_size),\n",
    "    return_sequences=True,\n",
    "    name = 'reverse_lstm_layer',\n",
    "    go_backwards=True\n",
    "    )\n",
    "reverse_hidden_states = reverse_lstm_layer(pooled_scores)\n",
    "print('reverse_hidden_states', reverse_hidden_states.shape)\n",
    "\n",
    "# concatenate lstm hidden states\n",
    "lstm_concatenate_layer = Concatenate(axis=2)\n",
    "bilstm_hidden_states = lstm_concatenate_layer([forward_hidden_states, reverse_hidden_states])\n",
    "print('bilstm_hidden_states', bilstm_hidden_states.shape)\n",
    "\n",
    "# fully connected layer\n",
    "dense_layer = Dense(num_dense_neurons, \n",
    "    activation='relu', \n",
    "    name = 'dense_layer'\n",
    "    )\n",
    "\n",
    "dense_output = dense_layer(bilstm_hidden_states)\n",
    "\n",
    "# drop out\n",
    "drop_out = Dropout(0.25,name='dense_dropout')(dense_output)\n",
    "\n",
    "# make prediction\n",
    "flattened = Flatten(name='flatten')(drop_out)\n",
    "predictions = Dense(num_classes,\n",
    "                    name='predictions',\n",
    "                    activation = 'softmax', \n",
    "                   )(flattened)"
   ]
  },
  {
   "cell_type": "code",
   "execution_count": 163,
   "metadata": {
    "collapsed": true
   },
   "outputs": [],
   "source": [
    "# define and compile model\n",
    "bilstm_model = Model(inputs=[input_fwd, input_rev], outputs=predictions)\n",
    "\n",
    "bilstm_model.compile(loss=keras.losses.categorical_crossentropy,\n",
    "              optimizer=keras.optimizers.Adam(),\n",
    "              metrics=['accuracy'])"
   ]
  },
  {
   "cell_type": "code",
   "execution_count": 184,
   "metadata": {},
   "outputs": [
    {
     "data": {
      "image/svg+xml": [
       "<svg height=\"968pt\" viewBox=\"0.00 0.00 676.00 968.00\" width=\"676pt\" xmlns=\"http://www.w3.org/2000/svg\" xmlns:xlink=\"http://www.w3.org/1999/xlink\">\n",
       "<g class=\"graph\" id=\"graph0\" transform=\"scale(1 1) rotate(0) translate(4 964)\">\n",
       "<title>G</title>\n",
       "<polygon fill=\"white\" points=\"-4,4 -4,-964 672,-964 672,4 -4,4\" stroke=\"none\"/>\n",
       "<!-- 139649673675496 -->\n",
       "<g class=\"node\" id=\"node1\"><title>139649673675496</title>\n",
       "<polygon fill=\"none\" points=\"34.5,-913.5 34.5,-959.5 326.5,-959.5 326.5,-913.5 34.5,-913.5\" stroke=\"black\"/>\n",
       "<text font-family=\"Times,serif\" font-size=\"14.00\" text-anchor=\"middle\" x=\"104.5\" y=\"-932.8\">input_fwd: InputLayer</text>\n",
       "<polyline fill=\"none\" points=\"174.5,-913.5 174.5,-959.5 \" stroke=\"black\"/>\n",
       "<text font-family=\"Times,serif\" font-size=\"14.00\" text-anchor=\"middle\" x=\"202\" y=\"-944.3\">input:</text>\n",
       "<polyline fill=\"none\" points=\"174.5,-936.5 229.5,-936.5 \" stroke=\"black\"/>\n",
       "<text font-family=\"Times,serif\" font-size=\"14.00\" text-anchor=\"middle\" x=\"202\" y=\"-921.3\">output:</text>\n",
       "<polyline fill=\"none\" points=\"229.5,-913.5 229.5,-959.5 \" stroke=\"black\"/>\n",
       "<text font-family=\"Times,serif\" font-size=\"14.00\" text-anchor=\"middle\" x=\"278\" y=\"-944.3\">(None, 200, 4)</text>\n",
       "<polyline fill=\"none\" points=\"229.5,-936.5 326.5,-936.5 \" stroke=\"black\"/>\n",
       "<text font-family=\"Times,serif\" font-size=\"14.00\" text-anchor=\"middle\" x=\"278\" y=\"-921.3\">(None, 200, 4)</text>\n",
       "</g>\n",
       "<!-- 139649673675552 -->\n",
       "<g class=\"node\" id=\"node3\"><title>139649673675552</title>\n",
       "<polygon fill=\"none\" points=\"168,-830.5 168,-876.5 501,-876.5 501,-830.5 168,-830.5\" stroke=\"black\"/>\n",
       "<text font-family=\"Times,serif\" font-size=\"14.00\" text-anchor=\"middle\" x=\"252\" y=\"-849.8\">convolution_layer: Conv1D</text>\n",
       "<polyline fill=\"none\" points=\"336,-830.5 336,-876.5 \" stroke=\"black\"/>\n",
       "<text font-family=\"Times,serif\" font-size=\"14.00\" text-anchor=\"middle\" x=\"363.5\" y=\"-861.3\">input:</text>\n",
       "<polyline fill=\"none\" points=\"336,-853.5 391,-853.5 \" stroke=\"black\"/>\n",
       "<text font-family=\"Times,serif\" font-size=\"14.00\" text-anchor=\"middle\" x=\"363.5\" y=\"-838.3\">output:</text>\n",
       "<polyline fill=\"none\" points=\"391,-830.5 391,-876.5 \" stroke=\"black\"/>\n",
       "<text font-family=\"Times,serif\" font-size=\"14.00\" text-anchor=\"middle\" x=\"446\" y=\"-861.3\">(None, 200, 4)</text>\n",
       "<polyline fill=\"none\" points=\"391,-853.5 501,-853.5 \" stroke=\"black\"/>\n",
       "<text font-family=\"Times,serif\" font-size=\"14.00\" text-anchor=\"middle\" x=\"446\" y=\"-838.3\">(None, 200, 100)</text>\n",
       "</g>\n",
       "<!-- 139649673675496&#45;&gt;139649673675552 -->\n",
       "<g class=\"edge\" id=\"edge1\"><title>139649673675496-&gt;139649673675552</title>\n",
       "<path d=\"M222.581,-913.366C241.425,-903.455 263.808,-891.682 283.587,-881.279\" fill=\"none\" stroke=\"black\"/>\n",
       "<polygon fill=\"black\" points=\"285.249,-884.36 292.47,-876.607 281.99,-878.164 285.249,-884.36\" stroke=\"black\"/>\n",
       "</g>\n",
       "<!-- 139649673675608 -->\n",
       "<g class=\"node\" id=\"node2\"><title>139649673675608</title>\n",
       "<polygon fill=\"none\" points=\"344.5,-913.5 344.5,-959.5 632.5,-959.5 632.5,-913.5 344.5,-913.5\" stroke=\"black\"/>\n",
       "<text font-family=\"Times,serif\" font-size=\"14.00\" text-anchor=\"middle\" x=\"412.5\" y=\"-932.8\">input_rev: InputLayer</text>\n",
       "<polyline fill=\"none\" points=\"480.5,-913.5 480.5,-959.5 \" stroke=\"black\"/>\n",
       "<text font-family=\"Times,serif\" font-size=\"14.00\" text-anchor=\"middle\" x=\"508\" y=\"-944.3\">input:</text>\n",
       "<polyline fill=\"none\" points=\"480.5,-936.5 535.5,-936.5 \" stroke=\"black\"/>\n",
       "<text font-family=\"Times,serif\" font-size=\"14.00\" text-anchor=\"middle\" x=\"508\" y=\"-921.3\">output:</text>\n",
       "<polyline fill=\"none\" points=\"535.5,-913.5 535.5,-959.5 \" stroke=\"black\"/>\n",
       "<text font-family=\"Times,serif\" font-size=\"14.00\" text-anchor=\"middle\" x=\"584\" y=\"-944.3\">(None, 200, 4)</text>\n",
       "<polyline fill=\"none\" points=\"535.5,-936.5 632.5,-936.5 \" stroke=\"black\"/>\n",
       "<text font-family=\"Times,serif\" font-size=\"14.00\" text-anchor=\"middle\" x=\"584\" y=\"-921.3\">(None, 200, 4)</text>\n",
       "</g>\n",
       "<!-- 139649673675608&#45;&gt;139649673675552 -->\n",
       "<g class=\"edge\" id=\"edge2\"><title>139649673675608-&gt;139649673675552</title>\n",
       "<path d=\"M446.419,-913.366C427.575,-903.455 405.192,-891.682 385.413,-881.279\" fill=\"none\" stroke=\"black\"/>\n",
       "<polygon fill=\"black\" points=\"387.01,-878.164 376.53,-876.607 383.751,-884.36 387.01,-878.164\" stroke=\"black\"/>\n",
       "</g>\n",
       "<!-- 139649673720160 -->\n",
       "<g class=\"node\" id=\"node4\"><title>139649673720160</title>\n",
       "<polygon fill=\"none\" points=\"177.5,-747.5 177.5,-793.5 491.5,-793.5 491.5,-747.5 177.5,-747.5\" stroke=\"black\"/>\n",
       "<text font-family=\"Times,serif\" font-size=\"14.00\" text-anchor=\"middle\" x=\"252\" y=\"-766.8\">crop_layer: Cropping1D</text>\n",
       "<polyline fill=\"none\" points=\"326.5,-747.5 326.5,-793.5 \" stroke=\"black\"/>\n",
       "<text font-family=\"Times,serif\" font-size=\"14.00\" text-anchor=\"middle\" x=\"354\" y=\"-778.3\">input:</text>\n",
       "<polyline fill=\"none\" points=\"326.5,-770.5 381.5,-770.5 \" stroke=\"black\"/>\n",
       "<text font-family=\"Times,serif\" font-size=\"14.00\" text-anchor=\"middle\" x=\"354\" y=\"-755.3\">output:</text>\n",
       "<polyline fill=\"none\" points=\"381.5,-747.5 381.5,-793.5 \" stroke=\"black\"/>\n",
       "<text font-family=\"Times,serif\" font-size=\"14.00\" text-anchor=\"middle\" x=\"436.5\" y=\"-778.3\">(None, 200, 100)</text>\n",
       "<polyline fill=\"none\" points=\"381.5,-770.5 491.5,-770.5 \" stroke=\"black\"/>\n",
       "<text font-family=\"Times,serif\" font-size=\"14.00\" text-anchor=\"middle\" x=\"436.5\" y=\"-755.3\">(None, 150, 100)</text>\n",
       "</g>\n",
       "<!-- 139649673675552&#45;&gt;139649673720160 -->\n",
       "<g class=\"edge\" id=\"edge3\"><title>139649673675552-&gt;139649673720160</title>\n",
       "<path d=\"M334.5,-830.366C334.5,-822.152 334.5,-812.658 334.5,-803.725\" fill=\"none\" stroke=\"black\"/>\n",
       "<polygon fill=\"black\" points=\"338,-803.607 334.5,-793.607 331,-803.607 338,-803.607\" stroke=\"black\"/>\n",
       "</g>\n",
       "<!-- 139649673805720 -->\n",
       "<g class=\"node\" id=\"node5\"><title>139649673805720</title>\n",
       "<polygon fill=\"none\" points=\"105,-664.5 105,-710.5 392,-710.5 392,-664.5 105,-664.5\" stroke=\"black\"/>\n",
       "<text font-family=\"Times,serif\" font-size=\"14.00\" text-anchor=\"middle\" x=\"166\" y=\"-683.8\">flip_layer: Lambda</text>\n",
       "<polyline fill=\"none\" points=\"227,-664.5 227,-710.5 \" stroke=\"black\"/>\n",
       "<text font-family=\"Times,serif\" font-size=\"14.00\" text-anchor=\"middle\" x=\"254.5\" y=\"-695.3\">input:</text>\n",
       "<polyline fill=\"none\" points=\"227,-687.5 282,-687.5 \" stroke=\"black\"/>\n",
       "<text font-family=\"Times,serif\" font-size=\"14.00\" text-anchor=\"middle\" x=\"254.5\" y=\"-672.3\">output:</text>\n",
       "<polyline fill=\"none\" points=\"282,-664.5 282,-710.5 \" stroke=\"black\"/>\n",
       "<text font-family=\"Times,serif\" font-size=\"14.00\" text-anchor=\"middle\" x=\"337\" y=\"-695.3\">(None, 150, 100)</text>\n",
       "<polyline fill=\"none\" points=\"282,-687.5 392,-687.5 \" stroke=\"black\"/>\n",
       "<text font-family=\"Times,serif\" font-size=\"14.00\" text-anchor=\"middle\" x=\"337\" y=\"-672.3\">(None, 150, 100)</text>\n",
       "</g>\n",
       "<!-- 139649673720160&#45;&gt;139649673805720 -->\n",
       "<g class=\"edge\" id=\"edge5\"><title>139649673720160-&gt;139649673805720</title>\n",
       "<path d=\"M311,-747.366C301.235,-738.169 289.769,-727.369 279.341,-717.548\" fill=\"none\" stroke=\"black\"/>\n",
       "<polygon fill=\"black\" points=\"281.651,-714.915 271.971,-710.607 276.851,-720.011 281.651,-714.915\" stroke=\"black\"/>\n",
       "</g>\n",
       "<!-- 139649673719648 -->\n",
       "<g class=\"node\" id=\"node6\"><title>139649673719648</title>\n",
       "<polygon fill=\"none\" points=\"102.5,-581.5 102.5,-627.5 566.5,-627.5 566.5,-581.5 102.5,-581.5\" stroke=\"black\"/>\n",
       "<text font-family=\"Times,serif\" font-size=\"14.00\" text-anchor=\"middle\" x=\"196.5\" y=\"-600.8\">concatenate_layer: Concatenate</text>\n",
       "<polyline fill=\"none\" points=\"290.5,-581.5 290.5,-627.5 \" stroke=\"black\"/>\n",
       "<text font-family=\"Times,serif\" font-size=\"14.00\" text-anchor=\"middle\" x=\"318\" y=\"-612.3\">input:</text>\n",
       "<polyline fill=\"none\" points=\"290.5,-604.5 345.5,-604.5 \" stroke=\"black\"/>\n",
       "<text font-family=\"Times,serif\" font-size=\"14.00\" text-anchor=\"middle\" x=\"318\" y=\"-589.3\">output:</text>\n",
       "<polyline fill=\"none\" points=\"345.5,-581.5 345.5,-627.5 \" stroke=\"black\"/>\n",
       "<text font-family=\"Times,serif\" font-size=\"14.00\" text-anchor=\"middle\" x=\"456\" y=\"-612.3\">[(None, 150, 100), (None, 150, 100)]</text>\n",
       "<polyline fill=\"none\" points=\"345.5,-604.5 566.5,-604.5 \" stroke=\"black\"/>\n",
       "<text font-family=\"Times,serif\" font-size=\"14.00\" text-anchor=\"middle\" x=\"456\" y=\"-589.3\">(None, 150, 200)</text>\n",
       "</g>\n",
       "<!-- 139649673720160&#45;&gt;139649673719648 -->\n",
       "<g class=\"edge\" id=\"edge6\"><title>139649673720160-&gt;139649673719648</title>\n",
       "<path d=\"M370.639,-747.306C382.789,-737.778 394.92,-725.48 401.5,-711 410.142,-691.982 410.142,-683.018 401.5,-664 396.359,-652.687 387.831,-642.706 378.552,-634.338\" fill=\"none\" stroke=\"black\"/>\n",
       "<polygon fill=\"black\" points=\"380.548,-631.444 370.639,-627.694 376.046,-636.805 380.548,-631.444\" stroke=\"black\"/>\n",
       "</g>\n",
       "<!-- 139649673805720&#45;&gt;139649673719648 -->\n",
       "<g class=\"edge\" id=\"edge7\"><title>139649673805720-&gt;139649673719648</title>\n",
       "<path d=\"M272,-664.366C281.765,-655.169 293.231,-644.369 303.659,-634.548\" fill=\"none\" stroke=\"black\"/>\n",
       "<polygon fill=\"black\" points=\"306.149,-637.011 311.029,-627.607 301.349,-631.915 306.149,-637.011\" stroke=\"black\"/>\n",
       "</g>\n",
       "<!-- 139649637232144 -->\n",
       "<g class=\"node\" id=\"node7\"><title>139649637232144</title>\n",
       "<polygon fill=\"none\" points=\"132.5,-498.5 132.5,-544.5 536.5,-544.5 536.5,-498.5 132.5,-498.5\" stroke=\"black\"/>\n",
       "<text font-family=\"Times,serif\" font-size=\"14.00\" text-anchor=\"middle\" x=\"252\" y=\"-517.8\">sequence_pooling_layer: MaxPooling1D</text>\n",
       "<polyline fill=\"none\" points=\"371.5,-498.5 371.5,-544.5 \" stroke=\"black\"/>\n",
       "<text font-family=\"Times,serif\" font-size=\"14.00\" text-anchor=\"middle\" x=\"399\" y=\"-529.3\">input:</text>\n",
       "<polyline fill=\"none\" points=\"371.5,-521.5 426.5,-521.5 \" stroke=\"black\"/>\n",
       "<text font-family=\"Times,serif\" font-size=\"14.00\" text-anchor=\"middle\" x=\"399\" y=\"-506.3\">output:</text>\n",
       "<polyline fill=\"none\" points=\"426.5,-498.5 426.5,-544.5 \" stroke=\"black\"/>\n",
       "<text font-family=\"Times,serif\" font-size=\"14.00\" text-anchor=\"middle\" x=\"481.5\" y=\"-529.3\">(None, 150, 200)</text>\n",
       "<polyline fill=\"none\" points=\"426.5,-521.5 536.5,-521.5 \" stroke=\"black\"/>\n",
       "<text font-family=\"Times,serif\" font-size=\"14.00\" text-anchor=\"middle\" x=\"481.5\" y=\"-506.3\">(None, 15, 200)</text>\n",
       "</g>\n",
       "<!-- 139649673719648&#45;&gt;139649637232144 -->\n",
       "<g class=\"edge\" id=\"edge8\"><title>139649673719648-&gt;139649637232144</title>\n",
       "<path d=\"M334.5,-581.366C334.5,-573.152 334.5,-563.658 334.5,-554.725\" fill=\"none\" stroke=\"black\"/>\n",
       "<polygon fill=\"black\" points=\"338,-554.607 334.5,-544.607 331,-554.607 338,-554.607\" stroke=\"black\"/>\n",
       "</g>\n",
       "<!-- 139649673805776 -->\n",
       "<g class=\"node\" id=\"node8\"><title>139649673805776</title>\n",
       "<polygon fill=\"none\" points=\"0,-415.5 0,-461.5 327,-461.5 327,-415.5 0,-415.5\" stroke=\"black\"/>\n",
       "<text font-family=\"Times,serif\" font-size=\"14.00\" text-anchor=\"middle\" x=\"84\" y=\"-434.8\">forward_lstm_layer: LSTM</text>\n",
       "<polyline fill=\"none\" points=\"168,-415.5 168,-461.5 \" stroke=\"black\"/>\n",
       "<text font-family=\"Times,serif\" font-size=\"14.00\" text-anchor=\"middle\" x=\"195.5\" y=\"-446.3\">input:</text>\n",
       "<polyline fill=\"none\" points=\"168,-438.5 223,-438.5 \" stroke=\"black\"/>\n",
       "<text font-family=\"Times,serif\" font-size=\"14.00\" text-anchor=\"middle\" x=\"195.5\" y=\"-423.3\">output:</text>\n",
       "<polyline fill=\"none\" points=\"223,-415.5 223,-461.5 \" stroke=\"black\"/>\n",
       "<text font-family=\"Times,serif\" font-size=\"14.00\" text-anchor=\"middle\" x=\"275\" y=\"-446.3\">(None, 15, 200)</text>\n",
       "<polyline fill=\"none\" points=\"223,-438.5 327,-438.5 \" stroke=\"black\"/>\n",
       "<text font-family=\"Times,serif\" font-size=\"14.00\" text-anchor=\"middle\" x=\"275\" y=\"-423.3\">(None, 15, 15)</text>\n",
       "</g>\n",
       "<!-- 139649637232144&#45;&gt;139649673805776 -->\n",
       "<g class=\"edge\" id=\"edge9\"><title>139649637232144-&gt;139649673805776</title>\n",
       "<path d=\"M287.773,-498.366C266.661,-488.366 241.547,-476.47 219.44,-465.998\" fill=\"none\" stroke=\"black\"/>\n",
       "<polygon fill=\"black\" points=\"220.706,-462.725 210.17,-461.607 217.709,-469.051 220.706,-462.725\" stroke=\"black\"/>\n",
       "</g>\n",
       "<!-- 139649637324728 -->\n",
       "<g class=\"node\" id=\"node9\"><title>139649637324728</title>\n",
       "<polygon fill=\"none\" points=\"345,-415.5 345,-461.5 668,-461.5 668,-415.5 345,-415.5\" stroke=\"black\"/>\n",
       "<text font-family=\"Times,serif\" font-size=\"14.00\" text-anchor=\"middle\" x=\"427\" y=\"-434.8\">reverse_lstm_layer: LSTM</text>\n",
       "<polyline fill=\"none\" points=\"509,-415.5 509,-461.5 \" stroke=\"black\"/>\n",
       "<text font-family=\"Times,serif\" font-size=\"14.00\" text-anchor=\"middle\" x=\"536.5\" y=\"-446.3\">input:</text>\n",
       "<polyline fill=\"none\" points=\"509,-438.5 564,-438.5 \" stroke=\"black\"/>\n",
       "<text font-family=\"Times,serif\" font-size=\"14.00\" text-anchor=\"middle\" x=\"536.5\" y=\"-423.3\">output:</text>\n",
       "<polyline fill=\"none\" points=\"564,-415.5 564,-461.5 \" stroke=\"black\"/>\n",
       "<text font-family=\"Times,serif\" font-size=\"14.00\" text-anchor=\"middle\" x=\"616\" y=\"-446.3\">(None, 15, 200)</text>\n",
       "<polyline fill=\"none\" points=\"564,-438.5 668,-438.5 \" stroke=\"black\"/>\n",
       "<text font-family=\"Times,serif\" font-size=\"14.00\" text-anchor=\"middle\" x=\"616\" y=\"-423.3\">(None, 15, 15)</text>\n",
       "</g>\n",
       "<!-- 139649637232144&#45;&gt;139649637324728 -->\n",
       "<g class=\"edge\" id=\"edge10\"><title>139649637232144-&gt;139649637324728</title>\n",
       "<path d=\"M381.5,-498.366C402.736,-488.366 427.996,-476.47 450.233,-465.998\" fill=\"none\" stroke=\"black\"/>\n",
       "<polygon fill=\"black\" points=\"452.001,-469.034 459.557,-461.607 449.019,-462.701 452.001,-469.034\" stroke=\"black\"/>\n",
       "</g>\n",
       "<!-- 139649633378376 -->\n",
       "<g class=\"node\" id=\"node10\"><title>139649633378376</title>\n",
       "<polygon fill=\"none\" points=\"122.5,-332.5 122.5,-378.5 546.5,-378.5 546.5,-332.5 122.5,-332.5\" stroke=\"black\"/>\n",
       "<text font-family=\"Times,serif\" font-size=\"14.00\" text-anchor=\"middle\" x=\"210\" y=\"-351.8\">concatenate_12: Concatenate</text>\n",
       "<polyline fill=\"none\" points=\"297.5,-332.5 297.5,-378.5 \" stroke=\"black\"/>\n",
       "<text font-family=\"Times,serif\" font-size=\"14.00\" text-anchor=\"middle\" x=\"325\" y=\"-363.3\">input:</text>\n",
       "<polyline fill=\"none\" points=\"297.5,-355.5 352.5,-355.5 \" stroke=\"black\"/>\n",
       "<text font-family=\"Times,serif\" font-size=\"14.00\" text-anchor=\"middle\" x=\"325\" y=\"-340.3\">output:</text>\n",
       "<polyline fill=\"none\" points=\"352.5,-332.5 352.5,-378.5 \" stroke=\"black\"/>\n",
       "<text font-family=\"Times,serif\" font-size=\"14.00\" text-anchor=\"middle\" x=\"449.5\" y=\"-363.3\">[(None, 15, 15), (None, 15, 15)]</text>\n",
       "<polyline fill=\"none\" points=\"352.5,-355.5 546.5,-355.5 \" stroke=\"black\"/>\n",
       "<text font-family=\"Times,serif\" font-size=\"14.00\" text-anchor=\"middle\" x=\"449.5\" y=\"-340.3\">(None, 15, 30)</text>\n",
       "</g>\n",
       "<!-- 139649673805776&#45;&gt;139649633378376 -->\n",
       "<g class=\"edge\" id=\"edge11\"><title>139649673805776-&gt;139649633378376</title>\n",
       "<path d=\"M210.227,-415.366C231.339,-405.366 256.453,-393.47 278.56,-382.998\" fill=\"none\" stroke=\"black\"/>\n",
       "<polygon fill=\"black\" points=\"280.291,-386.051 287.83,-378.607 277.294,-379.725 280.291,-386.051\" stroke=\"black\"/>\n",
       "</g>\n",
       "<!-- 139649637324728&#45;&gt;139649633378376 -->\n",
       "<g class=\"edge\" id=\"edge12\"><title>139649637324728-&gt;139649633378376</title>\n",
       "<path d=\"M459.5,-415.366C438.264,-405.366 413.004,-393.47 390.767,-382.998\" fill=\"none\" stroke=\"black\"/>\n",
       "<polygon fill=\"black\" points=\"391.981,-379.701 381.443,-378.607 388.999,-386.034 391.981,-379.701\" stroke=\"black\"/>\n",
       "</g>\n",
       "<!-- 139649631792208 -->\n",
       "<g class=\"node\" id=\"node11\"><title>139649631792208</title>\n",
       "<polygon fill=\"none\" points=\"191,-249.5 191,-295.5 478,-295.5 478,-249.5 191,-249.5\" stroke=\"black\"/>\n",
       "<text font-family=\"Times,serif\" font-size=\"14.00\" text-anchor=\"middle\" x=\"252\" y=\"-268.8\">dense_layer: Dense</text>\n",
       "<polyline fill=\"none\" points=\"313,-249.5 313,-295.5 \" stroke=\"black\"/>\n",
       "<text font-family=\"Times,serif\" font-size=\"14.00\" text-anchor=\"middle\" x=\"340.5\" y=\"-280.3\">input:</text>\n",
       "<polyline fill=\"none\" points=\"313,-272.5 368,-272.5 \" stroke=\"black\"/>\n",
       "<text font-family=\"Times,serif\" font-size=\"14.00\" text-anchor=\"middle\" x=\"340.5\" y=\"-257.3\">output:</text>\n",
       "<polyline fill=\"none\" points=\"368,-249.5 368,-295.5 \" stroke=\"black\"/>\n",
       "<text font-family=\"Times,serif\" font-size=\"14.00\" text-anchor=\"middle\" x=\"423\" y=\"-280.3\">(None, 15, 30)</text>\n",
       "<polyline fill=\"none\" points=\"368,-272.5 478,-272.5 \" stroke=\"black\"/>\n",
       "<text font-family=\"Times,serif\" font-size=\"14.00\" text-anchor=\"middle\" x=\"423\" y=\"-257.3\">(None, 15, 1000)</text>\n",
       "</g>\n",
       "<!-- 139649633378376&#45;&gt;139649631792208 -->\n",
       "<g class=\"edge\" id=\"edge13\"><title>139649633378376-&gt;139649631792208</title>\n",
       "<path d=\"M334.5,-332.366C334.5,-324.152 334.5,-314.658 334.5,-305.725\" fill=\"none\" stroke=\"black\"/>\n",
       "<polygon fill=\"black\" points=\"338,-305.607 334.5,-295.607 331,-305.607 338,-305.607\" stroke=\"black\"/>\n",
       "</g>\n",
       "<!-- 139649631493592 -->\n",
       "<g class=\"node\" id=\"node12\"><title>139649631493592</title>\n",
       "<polygon fill=\"none\" points=\"177.5,-166.5 177.5,-212.5 491.5,-212.5 491.5,-166.5 177.5,-166.5\" stroke=\"black\"/>\n",
       "<text font-family=\"Times,serif\" font-size=\"14.00\" text-anchor=\"middle\" x=\"252\" y=\"-185.8\">dense_dropout: Dropout</text>\n",
       "<polyline fill=\"none\" points=\"326.5,-166.5 326.5,-212.5 \" stroke=\"black\"/>\n",
       "<text font-family=\"Times,serif\" font-size=\"14.00\" text-anchor=\"middle\" x=\"354\" y=\"-197.3\">input:</text>\n",
       "<polyline fill=\"none\" points=\"326.5,-189.5 381.5,-189.5 \" stroke=\"black\"/>\n",
       "<text font-family=\"Times,serif\" font-size=\"14.00\" text-anchor=\"middle\" x=\"354\" y=\"-174.3\">output:</text>\n",
       "<polyline fill=\"none\" points=\"381.5,-166.5 381.5,-212.5 \" stroke=\"black\"/>\n",
       "<text font-family=\"Times,serif\" font-size=\"14.00\" text-anchor=\"middle\" x=\"436.5\" y=\"-197.3\">(None, 15, 1000)</text>\n",
       "<polyline fill=\"none\" points=\"381.5,-189.5 491.5,-189.5 \" stroke=\"black\"/>\n",
       "<text font-family=\"Times,serif\" font-size=\"14.00\" text-anchor=\"middle\" x=\"436.5\" y=\"-174.3\">(None, 15, 1000)</text>\n",
       "</g>\n",
       "<!-- 139649631792208&#45;&gt;139649631493592 -->\n",
       "<g class=\"edge\" id=\"edge14\"><title>139649631792208-&gt;139649631493592</title>\n",
       "<path d=\"M334.5,-249.366C334.5,-241.152 334.5,-231.658 334.5,-222.725\" fill=\"none\" stroke=\"black\"/>\n",
       "<polygon fill=\"black\" points=\"338,-222.607 334.5,-212.607 331,-222.607 338,-222.607\" stroke=\"black\"/>\n",
       "</g>\n",
       "<!-- 139649631494040 -->\n",
       "<g class=\"node\" id=\"node13\"><title>139649631494040</title>\n",
       "<polygon fill=\"none\" points=\"204,-83.5 204,-129.5 465,-129.5 465,-83.5 204,-83.5\" stroke=\"black\"/>\n",
       "<text font-family=\"Times,serif\" font-size=\"14.00\" text-anchor=\"middle\" x=\"252\" y=\"-102.8\">flatten: Flatten</text>\n",
       "<polyline fill=\"none\" points=\"300,-83.5 300,-129.5 \" stroke=\"black\"/>\n",
       "<text font-family=\"Times,serif\" font-size=\"14.00\" text-anchor=\"middle\" x=\"327.5\" y=\"-114.3\">input:</text>\n",
       "<polyline fill=\"none\" points=\"300,-106.5 355,-106.5 \" stroke=\"black\"/>\n",
       "<text font-family=\"Times,serif\" font-size=\"14.00\" text-anchor=\"middle\" x=\"327.5\" y=\"-91.3\">output:</text>\n",
       "<polyline fill=\"none\" points=\"355,-83.5 355,-129.5 \" stroke=\"black\"/>\n",
       "<text font-family=\"Times,serif\" font-size=\"14.00\" text-anchor=\"middle\" x=\"410\" y=\"-114.3\">(None, 15, 1000)</text>\n",
       "<polyline fill=\"none\" points=\"355,-106.5 465,-106.5 \" stroke=\"black\"/>\n",
       "<text font-family=\"Times,serif\" font-size=\"14.00\" text-anchor=\"middle\" x=\"410\" y=\"-91.3\">(None, 15000)</text>\n",
       "</g>\n",
       "<!-- 139649631493592&#45;&gt;139649631494040 -->\n",
       "<g class=\"edge\" id=\"edge15\"><title>139649631493592-&gt;139649631494040</title>\n",
       "<path d=\"M334.5,-166.366C334.5,-158.152 334.5,-148.658 334.5,-139.725\" fill=\"none\" stroke=\"black\"/>\n",
       "<polygon fill=\"black\" points=\"338,-139.607 334.5,-129.607 331,-139.607 338,-139.607\" stroke=\"black\"/>\n",
       "</g>\n",
       "<!-- 139649631165296 -->\n",
       "<g class=\"node\" id=\"node14\"><title>139649631165296</title>\n",
       "<polygon fill=\"none\" points=\"200,-0.5 200,-46.5 469,-46.5 469,-0.5 200,-0.5\" stroke=\"black\"/>\n",
       "<text font-family=\"Times,serif\" font-size=\"14.00\" text-anchor=\"middle\" x=\"259\" y=\"-19.8\">predictions: Dense</text>\n",
       "<polyline fill=\"none\" points=\"318,-0.5 318,-46.5 \" stroke=\"black\"/>\n",
       "<text font-family=\"Times,serif\" font-size=\"14.00\" text-anchor=\"middle\" x=\"345.5\" y=\"-31.3\">input:</text>\n",
       "<polyline fill=\"none\" points=\"318,-23.5 373,-23.5 \" stroke=\"black\"/>\n",
       "<text font-family=\"Times,serif\" font-size=\"14.00\" text-anchor=\"middle\" x=\"345.5\" y=\"-8.3\">output:</text>\n",
       "<polyline fill=\"none\" points=\"373,-0.5 373,-46.5 \" stroke=\"black\"/>\n",
       "<text font-family=\"Times,serif\" font-size=\"14.00\" text-anchor=\"middle\" x=\"421\" y=\"-31.3\">(None, 15000)</text>\n",
       "<polyline fill=\"none\" points=\"373,-23.5 469,-23.5 \" stroke=\"black\"/>\n",
       "<text font-family=\"Times,serif\" font-size=\"14.00\" text-anchor=\"middle\" x=\"421\" y=\"-8.3\">(None, 2)</text>\n",
       "</g>\n",
       "<!-- 139649631494040&#45;&gt;139649631165296 -->\n",
       "<g class=\"edge\" id=\"edge16\"><title>139649631494040-&gt;139649631165296</title>\n",
       "<path d=\"M334.5,-83.3664C334.5,-75.1516 334.5,-65.6579 334.5,-56.7252\" fill=\"none\" stroke=\"black\"/>\n",
       "<polygon fill=\"black\" points=\"338,-56.6068 334.5,-46.6068 331,-56.6069 338,-56.6068\" stroke=\"black\"/>\n",
       "</g>\n",
       "</g>\n",
       "</svg>"
      ],
      "text/plain": [
       "<IPython.core.display.SVG object>"
      ]
     },
     "execution_count": 184,
     "metadata": {},
     "output_type": "execute_result"
    }
   ],
   "source": [
    "SVG(model_to_dot(bilstm_model, show_shapes=True, show_layer_names=True).create(prog='dot', format='svg'))"
   ]
  },
  {
   "cell_type": "code",
   "execution_count": 165,
   "metadata": {
    "scrolled": false
   },
   "outputs": [
    {
     "name": "stdout",
     "output_type": "stream",
     "text": [
      "Train on 59352 samples, validate on 14838 samples\n",
      "Epoch 1/10\n",
      "59352/59352 [==============================] - 20s 338us/step - loss: 0.6107 - acc: 0.6445 - val_loss: 0.5357 - val_acc: 0.7328\n",
      "Epoch 2/10\n",
      "59352/59352 [==============================] - 18s 310us/step - loss: 0.4618 - acc: 0.7808 - val_loss: 0.4214 - val_acc: 0.8024\n",
      "Epoch 3/10\n",
      "59352/59352 [==============================] - 18s 310us/step - loss: 0.3931 - acc: 0.8217 - val_loss: 0.3870 - val_acc: 0.8267\n",
      "Epoch 4/10\n",
      "59352/59352 [==============================] - 18s 310us/step - loss: 0.3601 - acc: 0.8420 - val_loss: 0.3789 - val_acc: 0.8333\n",
      "Epoch 5/10\n",
      "59352/59352 [==============================] - 18s 310us/step - loss: 0.3352 - acc: 0.8551 - val_loss: 0.3592 - val_acc: 0.8430\n",
      "Epoch 6/10\n",
      "59352/59352 [==============================] - 18s 310us/step - loss: 0.3200 - acc: 0.8625 - val_loss: 0.3528 - val_acc: 0.8469\n",
      "Epoch 7/10\n",
      "59352/59352 [==============================] - 18s 310us/step - loss: 0.3077 - acc: 0.8692 - val_loss: 0.3483 - val_acc: 0.8499\n",
      "Epoch 8/10\n",
      "59352/59352 [==============================] - 18s 310us/step - loss: 0.2956 - acc: 0.8742 - val_loss: 0.3550 - val_acc: 0.8461\n",
      "Epoch 9/10\n",
      "59352/59352 [==============================] - 18s 310us/step - loss: 0.2868 - acc: 0.8791 - val_loss: 0.3481 - val_acc: 0.8478\n",
      "Epoch 10/10\n",
      "59352/59352 [==============================] - 18s 311us/step - loss: 0.2823 - acc: 0.8813 - val_loss: 0.3507 - val_acc: 0.8517\n",
      "Test loss: 0.35110518303758165\n",
      "Test accuracy: 0.8503841488392531\n"
     ]
    }
   ],
   "source": [
    "bilstm_model.fit([x_train, x_rc_train], y_train,\n",
    "          batch_size=100,\n",
    "          epochs=10,\n",
    "          verbose=1,\n",
    "          validation_data=([x_test, x_rc_test], y_test))\n",
    "score = bilstm_model.evaluate([x_test, x_rc_test], y_test, verbose=0)\n",
    "print('Test loss:', score[0])\n",
    "print('Test accuracy:', score[1])"
   ]
  },
  {
   "cell_type": "code",
   "execution_count": 166,
   "metadata": {},
   "outputs": [
    {
     "data": {
      "text/plain": [
       "0.926895845746917"
      ]
     },
     "execution_count": 166,
     "metadata": {},
     "output_type": "execute_result"
    }
   ],
   "source": [
    "probs = bilstm_model.predict([x_test, x_rc_test])\n",
    "\n",
    "sklearn.metrics.roc_auc_score([y[1] for y in y_test], probs[:,1], )"
   ]
  },
  {
   "cell_type": "markdown",
   "metadata": {},
   "source": [
    "### Attention Model"
   ]
  },
  {
   "cell_type": "code",
   "execution_count": 16,
   "metadata": {},
   "outputs": [
    {
     "name": "stdout",
     "output_type": "stream",
     "text": [
      "Convolution Params: 4000\n",
      "LSTM Params: 24000.0\n",
      "Attention Params: 5100.0\n",
      "Dense Params: 6000.0\n"
     ]
    },
    {
     "data": {
      "text/plain": [
       "39100.0"
      ]
     },
     "execution_count": 16,
     "metadata": {},
     "output_type": "execute_result"
    }
   ],
   "source": [
    "seq_size = 150\n",
    "num_classes = 2\n",
    "num_motifs = 50\n",
    "motif_size = 20\n",
    "adjacent_bp_pool_size = 5\n",
    "attention_dim = 150\n",
    "attention_hops = 4\n",
    "num_dense_neurons = 200 \n",
    "count_num_params(seq_size,\n",
    "    num_motifs, \n",
    "    motif_size,\n",
    "    adjacent_bp_pool_size,\n",
    "    attention_dim,\n",
    "    attention_hops,\n",
    "    num_dense_neurons\n",
    "    )"
   ]
  },
  {
   "cell_type": "code",
   "execution_count": 101,
   "metadata": {},
   "outputs": [
    {
     "name": "stdout",
     "output_type": "stream",
     "text": [
      "forward_motif_scores (?, 200, 50)\n",
      "cropped_fwd_scores (?, 150, 50)\n",
      "flipped_rev_scores (?, 150, 50)\n",
      "concatenated_motif_scores (?, 150, 100)\n",
      "pooled_scores (?, 30, 100)\n",
      "forward_hidden_states (?, ?, 30)\n",
      "reverse_hidden_states (?, ?, 30)\n",
      "bilstm_hidden_states (?, ?, 60)\n",
      "attention_tanh_layer_out (?, 30, 150)\n",
      "attention_softmax_layer_out (?, 150, 4)\n"
     ]
    },
    {
     "ename": "ValueError",
     "evalue": "Dimension incompatibility 4 != 30. Layer shapes: (None, 150, 4), (None, 30, 60)",
     "output_type": "error",
     "traceback": [
      "\u001b[0;31m---------------------------------------------------------------------------\u001b[0m",
      "\u001b[0;31mValueError\u001b[0m                                Traceback (most recent call last)",
      "\u001b[0;32m<ipython-input-101-3a5796a34616>\u001b[0m in \u001b[0;36m<module>\u001b[0;34m()\u001b[0m\n\u001b[1;32m    105\u001b[0m     name='attending_layer')\n\u001b[1;32m    106\u001b[0m \u001b[0;34m\u001b[0m\u001b[0m\n\u001b[0;32m--> 107\u001b[0;31m \u001b[0mattended_states\u001b[0m \u001b[0;34m=\u001b[0m \u001b[0mattending_layer\u001b[0m\u001b[0;34m(\u001b[0m\u001b[0;34m[\u001b[0m\u001b[0mattention_softmax_layer_out\u001b[0m\u001b[0;34m,\u001b[0m \u001b[0mbilstm_hidden_states\u001b[0m\u001b[0;34m]\u001b[0m\u001b[0;34m)\u001b[0m\u001b[0;34m\u001b[0m\u001b[0m\n\u001b[0m\u001b[1;32m    108\u001b[0m \u001b[0mprint\u001b[0m\u001b[0;34m(\u001b[0m\u001b[0;34m'attended_states'\u001b[0m\u001b[0;34m,\u001b[0m \u001b[0mattended_states\u001b[0m\u001b[0;34m.\u001b[0m\u001b[0mget_shape\u001b[0m\u001b[0;34m(\u001b[0m\u001b[0;34m)\u001b[0m\u001b[0;34m)\u001b[0m\u001b[0;34m\u001b[0m\u001b[0m\n\u001b[1;32m    109\u001b[0m \u001b[0;34m\u001b[0m\u001b[0m\n",
      "\u001b[0;32m/home/jenhan/anaconda3/lib/python3.6/site-packages/keras/engine/topology.py\u001b[0m in \u001b[0;36m__call__\u001b[0;34m(self, inputs, **kwargs)\u001b[0m\n\u001b[1;32m    592\u001b[0m                     \u001b[0mself\u001b[0m\u001b[0;34m.\u001b[0m\u001b[0mbuild\u001b[0m\u001b[0;34m(\u001b[0m\u001b[0minput_shapes\u001b[0m\u001b[0;34m[\u001b[0m\u001b[0;36m0\u001b[0m\u001b[0;34m]\u001b[0m\u001b[0;34m)\u001b[0m\u001b[0;34m\u001b[0m\u001b[0m\n\u001b[1;32m    593\u001b[0m                 \u001b[0;32melse\u001b[0m\u001b[0;34m:\u001b[0m\u001b[0;34m\u001b[0m\u001b[0m\n\u001b[0;32m--> 594\u001b[0;31m                     \u001b[0mself\u001b[0m\u001b[0;34m.\u001b[0m\u001b[0mbuild\u001b[0m\u001b[0;34m(\u001b[0m\u001b[0minput_shapes\u001b[0m\u001b[0;34m)\u001b[0m\u001b[0;34m\u001b[0m\u001b[0m\n\u001b[0m\u001b[1;32m    595\u001b[0m                 \u001b[0mself\u001b[0m\u001b[0;34m.\u001b[0m\u001b[0mbuilt\u001b[0m \u001b[0;34m=\u001b[0m \u001b[0;32mTrue\u001b[0m\u001b[0;34m\u001b[0m\u001b[0m\n\u001b[1;32m    596\u001b[0m \u001b[0;34m\u001b[0m\u001b[0m\n",
      "\u001b[0;32m/home/jenhan/anaconda3/lib/python3.6/site-packages/keras/layers/merge.py\u001b[0m in \u001b[0;36mbuild\u001b[0;34m(self, input_shape)\u001b[0m\n\u001b[1;32m    461\u001b[0m                 \u001b[0;34m'Dimension incompatibility '\u001b[0m\u001b[0;34m\u001b[0m\u001b[0m\n\u001b[1;32m    462\u001b[0m                 \u001b[0;34m'%s != %s. '\u001b[0m \u001b[0;34m%\u001b[0m \u001b[0;34m(\u001b[0m\u001b[0mshape1\u001b[0m\u001b[0;34m[\u001b[0m\u001b[0maxes\u001b[0m\u001b[0;34m[\u001b[0m\u001b[0;36m0\u001b[0m\u001b[0;34m]\u001b[0m\u001b[0;34m]\u001b[0m\u001b[0;34m,\u001b[0m \u001b[0mshape2\u001b[0m\u001b[0;34m[\u001b[0m\u001b[0maxes\u001b[0m\u001b[0;34m[\u001b[0m\u001b[0;36m1\u001b[0m\u001b[0;34m]\u001b[0m\u001b[0;34m]\u001b[0m\u001b[0;34m)\u001b[0m \u001b[0;34m+\u001b[0m\u001b[0;34m\u001b[0m\u001b[0m\n\u001b[0;32m--> 463\u001b[0;31m                 'Layer shapes: %s, %s' % (shape1, shape2))\n\u001b[0m\u001b[1;32m    464\u001b[0m \u001b[0;34m\u001b[0m\u001b[0m\n\u001b[1;32m    465\u001b[0m     \u001b[0;32mdef\u001b[0m \u001b[0m_merge_function\u001b[0m\u001b[0;34m(\u001b[0m\u001b[0mself\u001b[0m\u001b[0;34m,\u001b[0m \u001b[0minputs\u001b[0m\u001b[0;34m)\u001b[0m\u001b[0;34m:\u001b[0m\u001b[0;34m\u001b[0m\u001b[0m\n",
      "\u001b[0;31mValueError\u001b[0m: Dimension incompatibility 4 != 30. Layer shapes: (None, 150, 4), (None, 30, 60)"
     ]
    }
   ],
   "source": [
    "total_seq_length = len(fasta_seq[0])\n",
    "\n",
    "input_fwd = Input(shape=(total_seq_length,4), name='input_fwd')\n",
    "input_rev = Input(shape=(total_seq_length,4), name='input_rev')\n",
    "\n",
    "### find motifs ###\n",
    "convolution_layer = Conv1D(filters=num_motifs, \n",
    "    kernel_size=motif_size,\n",
    "    activation='relu',\n",
    "    input_shape=(total_seq_length,4),\n",
    "    name='convolution_layer',\n",
    "    padding = 'same'\n",
    "    )\n",
    "forward_motif_scores = convolution_layer(input_fwd)\n",
    "reverse_motif_scores = convolution_layer(input_rev)\n",
    "print('forward_motif_scores', forward_motif_scores.get_shape())\n",
    "\n",
    "### crop motif scores to avoid parts of sequence where motif score is computed in only one direction ###\n",
    "to_crop = int((total_seq_length - seq_size)/2)\n",
    "crop_layer = Cropping1D(cropping=(to_crop, to_crop), \n",
    "    name='crop_layer')\n",
    "cropped_fwd_scores = crop_layer(forward_motif_scores)\n",
    "cropped_rev_scores = crop_layer(reverse_motif_scores)\n",
    "print('cropped_fwd_scores', cropped_fwd_scores.get_shape())\n",
    "\n",
    "### flip motif scores ###\n",
    "flip_layer = Lambda(lambda x: K.reverse(x,axes=0),\n",
    "    output_shape=(seq_size, num_motifs),\n",
    "    name='flip_layer')\n",
    "flipped_rev_scores = flip_layer(cropped_rev_scores)\n",
    "print('flipped_rev_scores', flipped_rev_scores.get_shape())\n",
    "\n",
    "### concatenate motif scores ###\n",
    "concatenate_layer = keras.layers.Concatenate(axis=2, name='concatenate_layer')\n",
    "concatenated_motif_scores = concatenate_layer([cropped_fwd_scores, flipped_rev_scores])\n",
    "print('concatenated_motif_scores', concatenated_motif_scores.get_shape())\n",
    "\n",
    "### pool across length of sequence ###\n",
    "sequence_pooling_layer = MaxPool1D(pool_size=adjacent_bp_pool_size, \n",
    "    strides=adjacent_bp_pool_size,\n",
    "    name='sequence_pooling_layer')\n",
    "pooled_scores = sequence_pooling_layer(concatenated_motif_scores)\n",
    "print('pooled_scores', pooled_scores.get_shape())\n",
    "\n",
    "## bidirectional LSTM ###\n",
    "forward_lstm_layer = LSTM(units=int(seq_size/adjacent_bp_pool_size),\n",
    "    return_sequences=True,\n",
    "    input_shape = (int(seq_size/adjacent_bp_pool_size), 2*num_motifs),\n",
    "    name = 'forward_lstm_layer'\n",
    "    )\n",
    "forward_hidden_states = forward_lstm_layer(pooled_scores)\n",
    "print('forward_hidden_states', forward_hidden_states.get_shape())\n",
    "\n",
    "reverse_lstm_layer = LSTM(units=int(seq_size/adjacent_bp_pool_size),\n",
    "    return_sequences=True,\n",
    "    input_shape = (int(seq_size/adjacent_bp_pool_size), 2*num_motifs),\n",
    "    name = 'reverse_lstm_layer',\n",
    "    go_backwards=True,\n",
    "    )\n",
    "reverse_hidden_states = reverse_lstm_layer(pooled_scores)\n",
    "print('reverse_hidden_states', reverse_hidden_states.get_shape())\n",
    "### concatenate lstm hidden states ###\n",
    "lstm_concatenate_layer = Concatenate(axis=2)\n",
    "bilstm_hidden_states = lstm_concatenate_layer([forward_hidden_states, reverse_hidden_states])\n",
    "\n",
    "# bilstm_layer = Bidirectional(LSTM(\n",
    "#     units=int(seq_size/adjacent_bp_pool_size),\n",
    "#     return_sequences=True,\n",
    "#     input_shape = (int(seq_size/adjacent_bp_pool_size), 2*num_motifs),\n",
    "#     name = 'bilstm_layer'))\n",
    "# bilstm_hidden_states = bilstm_layer(pooled_scores)\n",
    "print('bilstm_hidden_states', bilstm_hidden_states.get_shape())\n",
    "\n",
    "### attention layer ###\n",
    "# # transpose hidden states\n",
    "# transpose_layer = Lambda(lambda x: K.permute_dimensions(x,(0,2,1)),\n",
    "#     name='transpose_layer')\n",
    "# transposed_hidden_states = transpose_layer(bilstm_hidden_states)\n",
    "# print('transposed_hidden_states', transposed_hidden_states.get_shape())\n",
    "\n",
    "# tanh layer\n",
    "attention_tanh_layer = Dense(attention_dim,\n",
    "    activation='tanh',\n",
    "    use_bias=False,\n",
    "    name = 'attention_tanh_layer')\n",
    "attention_tanh_layer_out = attention_tanh_layer(bilstm_hidden_states)\n",
    "print('attention_tanh_layer_out', attention_tanh_layer_out.get_shape())\n",
    "\n",
    "rotate_layer = Lambda(lambda x: K.permute_dimensions(x,(0,2,1)),\n",
    "#     name='rotate_layer'\n",
    "    )\n",
    "rotated_attention_tanh_layer_out = rotate_layer(attention_tanh_layer_out)\n",
    "\n",
    "# softmax layer\n",
    "attention_softmax_layer = Dense(attention_hops,\n",
    "    activation='softmax',\n",
    "    use_bias=False,\n",
    "    name = 'attention_softmax_layer')\n",
    "# attention_softmax_layer_out = attention_softmax_layer(attention_tanh_layer_out)\n",
    "attention_softmax_layer_out = attention_softmax_layer(rotated_attention_tanh_layer_out)\n",
    "print('attention_softmax_layer_out', attention_softmax_layer_out.get_shape())\n",
    "\n",
    "# attend to hidden states\n",
    "attending_layer = Dot(axes=(2,1),\n",
    "    name='attending_layer')\n",
    "\n",
    "attended_states = attending_layer([attention_softmax_layer_out, bilstm_hidden_states])\n",
    "print('attended_states', attended_states.get_shape())\n",
    "\n",
    "# fully connected layer\n",
    "dense_layer = Dense(num_dense_neurons, \n",
    "    activation='relu', \n",
    "    name = 'dense_layer'\n",
    "    )\n",
    "\n",
    "dense_output = dense_layer(attended_states)\n",
    "\n",
    "# drop out\n",
    "drop_out = Dropout(0.25,name='dense_dropout')(dense_output)\n",
    "\n",
    "# make prediction\n",
    "flattened = Flatten(name='flatten')(drop_out)\n",
    "predictions = Dense(num_classes,\n",
    "                    name='predictions',\n",
    "                    activation = 'softmax', \n",
    "                   )(flattened)\n",
    "\n"
   ]
  },
  {
   "cell_type": "code",
   "execution_count": 18,
   "metadata": {},
   "outputs": [],
   "source": [
    "# define and compile model\n",
    "attention_model = Model(inputs=[input_fwd, input_rev], outputs=predictions)\n",
    "\n",
    "attention_model.compile(loss=keras.losses.categorical_crossentropy,\n",
    "              optimizer=keras.optimizers.Adam(),\n",
    "              metrics=['accuracy'])"
   ]
  },
  {
   "cell_type": "code",
   "execution_count": 19,
   "metadata": {},
   "outputs": [
    {
     "data": {
      "image/svg+xml": [
       "<svg height=\"1217pt\" viewBox=\"0.00 0.00 676.00 1217.00\" width=\"676pt\" xmlns=\"http://www.w3.org/2000/svg\" xmlns:xlink=\"http://www.w3.org/1999/xlink\">\n",
       "<g class=\"graph\" id=\"graph0\" transform=\"scale(1 1) rotate(0) translate(4 1213)\">\n",
       "<title>G</title>\n",
       "<polygon fill=\"white\" points=\"-4,4 -4,-1213 672,-1213 672,4 -4,4\" stroke=\"none\"/>\n",
       "<!-- 140183094121248 -->\n",
       "<g class=\"node\" id=\"node1\"><title>140183094121248</title>\n",
       "<polygon fill=\"none\" points=\"34.5,-1162.5 34.5,-1208.5 326.5,-1208.5 326.5,-1162.5 34.5,-1162.5\" stroke=\"black\"/>\n",
       "<text font-family=\"Times,serif\" font-size=\"14.00\" text-anchor=\"middle\" x=\"104.5\" y=\"-1181.8\">input_fwd: InputLayer</text>\n",
       "<polyline fill=\"none\" points=\"174.5,-1162.5 174.5,-1208.5 \" stroke=\"black\"/>\n",
       "<text font-family=\"Times,serif\" font-size=\"14.00\" text-anchor=\"middle\" x=\"202\" y=\"-1193.3\">input:</text>\n",
       "<polyline fill=\"none\" points=\"174.5,-1185.5 229.5,-1185.5 \" stroke=\"black\"/>\n",
       "<text font-family=\"Times,serif\" font-size=\"14.00\" text-anchor=\"middle\" x=\"202\" y=\"-1170.3\">output:</text>\n",
       "<polyline fill=\"none\" points=\"229.5,-1162.5 229.5,-1208.5 \" stroke=\"black\"/>\n",
       "<text font-family=\"Times,serif\" font-size=\"14.00\" text-anchor=\"middle\" x=\"278\" y=\"-1193.3\">(None, 200, 4)</text>\n",
       "<polyline fill=\"none\" points=\"229.5,-1185.5 326.5,-1185.5 \" stroke=\"black\"/>\n",
       "<text font-family=\"Times,serif\" font-size=\"14.00\" text-anchor=\"middle\" x=\"278\" y=\"-1170.3\">(None, 200, 4)</text>\n",
       "</g>\n",
       "<!-- 140183094120856 -->\n",
       "<g class=\"node\" id=\"node3\"><title>140183094120856</title>\n",
       "<polygon fill=\"none\" points=\"171,-1079.5 171,-1125.5 498,-1125.5 498,-1079.5 171,-1079.5\" stroke=\"black\"/>\n",
       "<text font-family=\"Times,serif\" font-size=\"14.00\" text-anchor=\"middle\" x=\"255\" y=\"-1098.8\">convolution_layer: Conv1D</text>\n",
       "<polyline fill=\"none\" points=\"339,-1079.5 339,-1125.5 \" stroke=\"black\"/>\n",
       "<text font-family=\"Times,serif\" font-size=\"14.00\" text-anchor=\"middle\" x=\"366.5\" y=\"-1110.3\">input:</text>\n",
       "<polyline fill=\"none\" points=\"339,-1102.5 394,-1102.5 \" stroke=\"black\"/>\n",
       "<text font-family=\"Times,serif\" font-size=\"14.00\" text-anchor=\"middle\" x=\"366.5\" y=\"-1087.3\">output:</text>\n",
       "<polyline fill=\"none\" points=\"394,-1079.5 394,-1125.5 \" stroke=\"black\"/>\n",
       "<text font-family=\"Times,serif\" font-size=\"14.00\" text-anchor=\"middle\" x=\"446\" y=\"-1110.3\">(None, 200, 4)</text>\n",
       "<polyline fill=\"none\" points=\"394,-1102.5 498,-1102.5 \" stroke=\"black\"/>\n",
       "<text font-family=\"Times,serif\" font-size=\"14.00\" text-anchor=\"middle\" x=\"446\" y=\"-1087.3\">(None, 200, 50)</text>\n",
       "</g>\n",
       "<!-- 140183094121248&#45;&gt;140183094120856 -->\n",
       "<g class=\"edge\" id=\"edge1\"><title>140183094121248-&gt;140183094120856</title>\n",
       "<path d=\"M222.581,-1162.37C241.425,-1152.46 263.808,-1140.68 283.587,-1130.28\" fill=\"none\" stroke=\"black\"/>\n",
       "<polygon fill=\"black\" points=\"285.249,-1133.36 292.47,-1125.61 281.99,-1127.16 285.249,-1133.36\" stroke=\"black\"/>\n",
       "</g>\n",
       "<!-- 140183094121136 -->\n",
       "<g class=\"node\" id=\"node2\"><title>140183094121136</title>\n",
       "<polygon fill=\"none\" points=\"344.5,-1162.5 344.5,-1208.5 632.5,-1208.5 632.5,-1162.5 344.5,-1162.5\" stroke=\"black\"/>\n",
       "<text font-family=\"Times,serif\" font-size=\"14.00\" text-anchor=\"middle\" x=\"412.5\" y=\"-1181.8\">input_rev: InputLayer</text>\n",
       "<polyline fill=\"none\" points=\"480.5,-1162.5 480.5,-1208.5 \" stroke=\"black\"/>\n",
       "<text font-family=\"Times,serif\" font-size=\"14.00\" text-anchor=\"middle\" x=\"508\" y=\"-1193.3\">input:</text>\n",
       "<polyline fill=\"none\" points=\"480.5,-1185.5 535.5,-1185.5 \" stroke=\"black\"/>\n",
       "<text font-family=\"Times,serif\" font-size=\"14.00\" text-anchor=\"middle\" x=\"508\" y=\"-1170.3\">output:</text>\n",
       "<polyline fill=\"none\" points=\"535.5,-1162.5 535.5,-1208.5 \" stroke=\"black\"/>\n",
       "<text font-family=\"Times,serif\" font-size=\"14.00\" text-anchor=\"middle\" x=\"584\" y=\"-1193.3\">(None, 200, 4)</text>\n",
       "<polyline fill=\"none\" points=\"535.5,-1185.5 632.5,-1185.5 \" stroke=\"black\"/>\n",
       "<text font-family=\"Times,serif\" font-size=\"14.00\" text-anchor=\"middle\" x=\"584\" y=\"-1170.3\">(None, 200, 4)</text>\n",
       "</g>\n",
       "<!-- 140183094121136&#45;&gt;140183094120856 -->\n",
       "<g class=\"edge\" id=\"edge2\"><title>140183094121136-&gt;140183094120856</title>\n",
       "<path d=\"M446.419,-1162.37C427.575,-1152.46 405.192,-1140.68 385.413,-1130.28\" fill=\"none\" stroke=\"black\"/>\n",
       "<polygon fill=\"black\" points=\"387.01,-1127.16 376.53,-1125.61 383.751,-1133.36 387.01,-1127.16\" stroke=\"black\"/>\n",
       "</g>\n",
       "<!-- 140183093690664 -->\n",
       "<g class=\"node\" id=\"node4\"><title>140183093690664</title>\n",
       "<polygon fill=\"none\" points=\"180.5,-996.5 180.5,-1042.5 488.5,-1042.5 488.5,-996.5 180.5,-996.5\" stroke=\"black\"/>\n",
       "<text font-family=\"Times,serif\" font-size=\"14.00\" text-anchor=\"middle\" x=\"255\" y=\"-1015.8\">crop_layer: Cropping1D</text>\n",
       "<polyline fill=\"none\" points=\"329.5,-996.5 329.5,-1042.5 \" stroke=\"black\"/>\n",
       "<text font-family=\"Times,serif\" font-size=\"14.00\" text-anchor=\"middle\" x=\"357\" y=\"-1027.3\">input:</text>\n",
       "<polyline fill=\"none\" points=\"329.5,-1019.5 384.5,-1019.5 \" stroke=\"black\"/>\n",
       "<text font-family=\"Times,serif\" font-size=\"14.00\" text-anchor=\"middle\" x=\"357\" y=\"-1004.3\">output:</text>\n",
       "<polyline fill=\"none\" points=\"384.5,-996.5 384.5,-1042.5 \" stroke=\"black\"/>\n",
       "<text font-family=\"Times,serif\" font-size=\"14.00\" text-anchor=\"middle\" x=\"436.5\" y=\"-1027.3\">(None, 200, 50)</text>\n",
       "<polyline fill=\"none\" points=\"384.5,-1019.5 488.5,-1019.5 \" stroke=\"black\"/>\n",
       "<text font-family=\"Times,serif\" font-size=\"14.00\" text-anchor=\"middle\" x=\"436.5\" y=\"-1004.3\">(None, 150, 50)</text>\n",
       "</g>\n",
       "<!-- 140183094120856&#45;&gt;140183093690664 -->\n",
       "<g class=\"edge\" id=\"edge3\"><title>140183094120856-&gt;140183093690664</title>\n",
       "<path d=\"M334.5,-1079.37C334.5,-1071.15 334.5,-1061.66 334.5,-1052.73\" fill=\"none\" stroke=\"black\"/>\n",
       "<polygon fill=\"black\" points=\"338,-1052.61 334.5,-1042.61 331,-1052.61 338,-1052.61\" stroke=\"black\"/>\n",
       "</g>\n",
       "<!-- 140183093855624 -->\n",
       "<g class=\"node\" id=\"node5\"><title>140183093855624</title>\n",
       "<polygon fill=\"none\" points=\"110,-913.5 110,-959.5 391,-959.5 391,-913.5 110,-913.5\" stroke=\"black\"/>\n",
       "<text font-family=\"Times,serif\" font-size=\"14.00\" text-anchor=\"middle\" x=\"171\" y=\"-932.8\">flip_layer: Lambda</text>\n",
       "<polyline fill=\"none\" points=\"232,-913.5 232,-959.5 \" stroke=\"black\"/>\n",
       "<text font-family=\"Times,serif\" font-size=\"14.00\" text-anchor=\"middle\" x=\"259.5\" y=\"-944.3\">input:</text>\n",
       "<polyline fill=\"none\" points=\"232,-936.5 287,-936.5 \" stroke=\"black\"/>\n",
       "<text font-family=\"Times,serif\" font-size=\"14.00\" text-anchor=\"middle\" x=\"259.5\" y=\"-921.3\">output:</text>\n",
       "<polyline fill=\"none\" points=\"287,-913.5 287,-959.5 \" stroke=\"black\"/>\n",
       "<text font-family=\"Times,serif\" font-size=\"14.00\" text-anchor=\"middle\" x=\"339\" y=\"-944.3\">(None, 150, 50)</text>\n",
       "<polyline fill=\"none\" points=\"287,-936.5 391,-936.5 \" stroke=\"black\"/>\n",
       "<text font-family=\"Times,serif\" font-size=\"14.00\" text-anchor=\"middle\" x=\"339\" y=\"-921.3\">(None, 150, 50)</text>\n",
       "</g>\n",
       "<!-- 140183093690664&#45;&gt;140183093855624 -->\n",
       "<g class=\"edge\" id=\"edge5\"><title>140183093690664-&gt;140183093855624</title>\n",
       "<path d=\"M311.547,-996.366C302.009,-987.169 290.809,-976.369 280.624,-966.548\" fill=\"none\" stroke=\"black\"/>\n",
       "<polygon fill=\"black\" points=\"283.054,-964.029 273.426,-959.607 278.195,-969.068 283.054,-964.029\" stroke=\"black\"/>\n",
       "</g>\n",
       "<!-- 140183094211136 -->\n",
       "<g class=\"node\" id=\"node6\"><title>140183094211136</title>\n",
       "<polygon fill=\"none\" points=\"109.5,-830.5 109.5,-876.5 559.5,-876.5 559.5,-830.5 109.5,-830.5\" stroke=\"black\"/>\n",
       "<text font-family=\"Times,serif\" font-size=\"14.00\" text-anchor=\"middle\" x=\"203.5\" y=\"-849.8\">concatenate_layer: Concatenate</text>\n",
       "<polyline fill=\"none\" points=\"297.5,-830.5 297.5,-876.5 \" stroke=\"black\"/>\n",
       "<text font-family=\"Times,serif\" font-size=\"14.00\" text-anchor=\"middle\" x=\"325\" y=\"-861.3\">input:</text>\n",
       "<polyline fill=\"none\" points=\"297.5,-853.5 352.5,-853.5 \" stroke=\"black\"/>\n",
       "<text font-family=\"Times,serif\" font-size=\"14.00\" text-anchor=\"middle\" x=\"325\" y=\"-838.3\">output:</text>\n",
       "<polyline fill=\"none\" points=\"352.5,-830.5 352.5,-876.5 \" stroke=\"black\"/>\n",
       "<text font-family=\"Times,serif\" font-size=\"14.00\" text-anchor=\"middle\" x=\"456\" y=\"-861.3\">[(None, 150, 50), (None, 150, 50)]</text>\n",
       "<polyline fill=\"none\" points=\"352.5,-853.5 559.5,-853.5 \" stroke=\"black\"/>\n",
       "<text font-family=\"Times,serif\" font-size=\"14.00\" text-anchor=\"middle\" x=\"456\" y=\"-838.3\">(None, 150, 100)</text>\n",
       "</g>\n",
       "<!-- 140183093690664&#45;&gt;140183094211136 -->\n",
       "<g class=\"edge\" id=\"edge6\"><title>140183093690664-&gt;140183094211136</title>\n",
       "<path d=\"M369.24,-996.374C381.144,-986.783 393.076,-974.424 399.5,-960 407.998,-940.918 407.998,-932.082 399.5,-913 394.481,-901.732 386.101,-891.723 376.998,-883.31\" fill=\"none\" stroke=\"black\"/>\n",
       "<polygon fill=\"black\" points=\"379.1,-880.501 369.24,-876.626 374.531,-885.804 379.1,-880.501\" stroke=\"black\"/>\n",
       "</g>\n",
       "<!-- 140183093855624&#45;&gt;140183094211136 -->\n",
       "<g class=\"edge\" id=\"edge7\"><title>140183093855624-&gt;140183094211136</title>\n",
       "<path d=\"M273.453,-913.366C282.991,-904.169 294.191,-893.369 304.376,-883.548\" fill=\"none\" stroke=\"black\"/>\n",
       "<polygon fill=\"black\" points=\"306.805,-886.068 311.574,-876.607 301.946,-881.029 306.805,-886.068\" stroke=\"black\"/>\n",
       "</g>\n",
       "<!-- 140183093522384 -->\n",
       "<g class=\"node\" id=\"node7\"><title>140183093522384</title>\n",
       "<polygon fill=\"none\" points=\"132.5,-747.5 132.5,-793.5 536.5,-793.5 536.5,-747.5 132.5,-747.5\" stroke=\"black\"/>\n",
       "<text font-family=\"Times,serif\" font-size=\"14.00\" text-anchor=\"middle\" x=\"252\" y=\"-766.8\">sequence_pooling_layer: MaxPooling1D</text>\n",
       "<polyline fill=\"none\" points=\"371.5,-747.5 371.5,-793.5 \" stroke=\"black\"/>\n",
       "<text font-family=\"Times,serif\" font-size=\"14.00\" text-anchor=\"middle\" x=\"399\" y=\"-778.3\">input:</text>\n",
       "<polyline fill=\"none\" points=\"371.5,-770.5 426.5,-770.5 \" stroke=\"black\"/>\n",
       "<text font-family=\"Times,serif\" font-size=\"14.00\" text-anchor=\"middle\" x=\"399\" y=\"-755.3\">output:</text>\n",
       "<polyline fill=\"none\" points=\"426.5,-747.5 426.5,-793.5 \" stroke=\"black\"/>\n",
       "<text font-family=\"Times,serif\" font-size=\"14.00\" text-anchor=\"middle\" x=\"481.5\" y=\"-778.3\">(None, 150, 100)</text>\n",
       "<polyline fill=\"none\" points=\"426.5,-770.5 536.5,-770.5 \" stroke=\"black\"/>\n",
       "<text font-family=\"Times,serif\" font-size=\"14.00\" text-anchor=\"middle\" x=\"481.5\" y=\"-755.3\">(None, 30, 100)</text>\n",
       "</g>\n",
       "<!-- 140183094211136&#45;&gt;140183093522384 -->\n",
       "<g class=\"edge\" id=\"edge8\"><title>140183094211136-&gt;140183093522384</title>\n",
       "<path d=\"M334.5,-830.366C334.5,-822.152 334.5,-812.658 334.5,-803.725\" fill=\"none\" stroke=\"black\"/>\n",
       "<polygon fill=\"black\" points=\"338,-803.607 334.5,-793.607 331,-803.607 338,-803.607\" stroke=\"black\"/>\n",
       "</g>\n",
       "<!-- 140183093863536 -->\n",
       "<g class=\"node\" id=\"node8\"><title>140183093863536</title>\n",
       "<polygon fill=\"none\" points=\"0,-664.5 0,-710.5 327,-710.5 327,-664.5 0,-664.5\" stroke=\"black\"/>\n",
       "<text font-family=\"Times,serif\" font-size=\"14.00\" text-anchor=\"middle\" x=\"84\" y=\"-683.8\">forward_lstm_layer: LSTM</text>\n",
       "<polyline fill=\"none\" points=\"168,-664.5 168,-710.5 \" stroke=\"black\"/>\n",
       "<text font-family=\"Times,serif\" font-size=\"14.00\" text-anchor=\"middle\" x=\"195.5\" y=\"-695.3\">input:</text>\n",
       "<polyline fill=\"none\" points=\"168,-687.5 223,-687.5 \" stroke=\"black\"/>\n",
       "<text font-family=\"Times,serif\" font-size=\"14.00\" text-anchor=\"middle\" x=\"195.5\" y=\"-672.3\">output:</text>\n",
       "<polyline fill=\"none\" points=\"223,-664.5 223,-710.5 \" stroke=\"black\"/>\n",
       "<text font-family=\"Times,serif\" font-size=\"14.00\" text-anchor=\"middle\" x=\"275\" y=\"-695.3\">(None, 30, 100)</text>\n",
       "<polyline fill=\"none\" points=\"223,-687.5 327,-687.5 \" stroke=\"black\"/>\n",
       "<text font-family=\"Times,serif\" font-size=\"14.00\" text-anchor=\"middle\" x=\"275\" y=\"-672.3\">(None, 30, 30)</text>\n",
       "</g>\n",
       "<!-- 140183093522384&#45;&gt;140183093863536 -->\n",
       "<g class=\"edge\" id=\"edge9\"><title>140183093522384-&gt;140183093863536</title>\n",
       "<path d=\"M287.773,-747.366C266.661,-737.366 241.547,-725.47 219.44,-714.998\" fill=\"none\" stroke=\"black\"/>\n",
       "<polygon fill=\"black\" points=\"220.706,-711.725 210.17,-710.607 217.709,-718.051 220.706,-711.725\" stroke=\"black\"/>\n",
       "</g>\n",
       "<!-- 140183094099920 -->\n",
       "<g class=\"node\" id=\"node9\"><title>140183094099920</title>\n",
       "<polygon fill=\"none\" points=\"345,-664.5 345,-710.5 668,-710.5 668,-664.5 345,-664.5\" stroke=\"black\"/>\n",
       "<text font-family=\"Times,serif\" font-size=\"14.00\" text-anchor=\"middle\" x=\"427\" y=\"-683.8\">reverse_lstm_layer: LSTM</text>\n",
       "<polyline fill=\"none\" points=\"509,-664.5 509,-710.5 \" stroke=\"black\"/>\n",
       "<text font-family=\"Times,serif\" font-size=\"14.00\" text-anchor=\"middle\" x=\"536.5\" y=\"-695.3\">input:</text>\n",
       "<polyline fill=\"none\" points=\"509,-687.5 564,-687.5 \" stroke=\"black\"/>\n",
       "<text font-family=\"Times,serif\" font-size=\"14.00\" text-anchor=\"middle\" x=\"536.5\" y=\"-672.3\">output:</text>\n",
       "<polyline fill=\"none\" points=\"564,-664.5 564,-710.5 \" stroke=\"black\"/>\n",
       "<text font-family=\"Times,serif\" font-size=\"14.00\" text-anchor=\"middle\" x=\"616\" y=\"-695.3\">(None, 30, 100)</text>\n",
       "<polyline fill=\"none\" points=\"564,-687.5 668,-687.5 \" stroke=\"black\"/>\n",
       "<text font-family=\"Times,serif\" font-size=\"14.00\" text-anchor=\"middle\" x=\"616\" y=\"-672.3\">(None, 30, 30)</text>\n",
       "</g>\n",
       "<!-- 140183093522384&#45;&gt;140183094099920 -->\n",
       "<g class=\"edge\" id=\"edge10\"><title>140183093522384-&gt;140183094099920</title>\n",
       "<path d=\"M381.5,-747.366C402.736,-737.366 427.996,-725.47 450.233,-714.998\" fill=\"none\" stroke=\"black\"/>\n",
       "<polygon fill=\"black\" points=\"452.001,-718.034 459.557,-710.607 449.019,-711.701 452.001,-718.034\" stroke=\"black\"/>\n",
       "</g>\n",
       "<!-- 140183090484000 -->\n",
       "<g class=\"node\" id=\"node10\"><title>140183090484000</title>\n",
       "<polygon fill=\"none\" points=\"126,-581.5 126,-627.5 543,-627.5 543,-581.5 126,-581.5\" stroke=\"black\"/>\n",
       "<text font-family=\"Times,serif\" font-size=\"14.00\" text-anchor=\"middle\" x=\"210\" y=\"-600.8\">concatenate_3: Concatenate</text>\n",
       "<polyline fill=\"none\" points=\"294,-581.5 294,-627.5 \" stroke=\"black\"/>\n",
       "<text font-family=\"Times,serif\" font-size=\"14.00\" text-anchor=\"middle\" x=\"321.5\" y=\"-612.3\">input:</text>\n",
       "<polyline fill=\"none\" points=\"294,-604.5 349,-604.5 \" stroke=\"black\"/>\n",
       "<text font-family=\"Times,serif\" font-size=\"14.00\" text-anchor=\"middle\" x=\"321.5\" y=\"-589.3\">output:</text>\n",
       "<polyline fill=\"none\" points=\"349,-581.5 349,-627.5 \" stroke=\"black\"/>\n",
       "<text font-family=\"Times,serif\" font-size=\"14.00\" text-anchor=\"middle\" x=\"446\" y=\"-612.3\">[(None, 30, 30), (None, 30, 30)]</text>\n",
       "<polyline fill=\"none\" points=\"349,-604.5 543,-604.5 \" stroke=\"black\"/>\n",
       "<text font-family=\"Times,serif\" font-size=\"14.00\" text-anchor=\"middle\" x=\"446\" y=\"-589.3\">(None, 30, 60)</text>\n",
       "</g>\n",
       "<!-- 140183093863536&#45;&gt;140183090484000 -->\n",
       "<g class=\"edge\" id=\"edge11\"><title>140183093863536-&gt;140183090484000</title>\n",
       "<path d=\"M210.227,-664.366C231.339,-654.366 256.453,-642.47 278.56,-631.998\" fill=\"none\" stroke=\"black\"/>\n",
       "<polygon fill=\"black\" points=\"280.291,-635.051 287.83,-627.607 277.294,-628.725 280.291,-635.051\" stroke=\"black\"/>\n",
       "</g>\n",
       "<!-- 140183094099920&#45;&gt;140183090484000 -->\n",
       "<g class=\"edge\" id=\"edge12\"><title>140183094099920-&gt;140183090484000</title>\n",
       "<path d=\"M459.5,-664.366C438.264,-654.366 413.004,-642.47 390.767,-631.998\" fill=\"none\" stroke=\"black\"/>\n",
       "<polygon fill=\"black\" points=\"391.981,-628.701 381.443,-627.607 388.999,-635.034 391.981,-628.701\" stroke=\"black\"/>\n",
       "</g>\n",
       "<!-- 140183088905968 -->\n",
       "<g class=\"node\" id=\"node11\"><title>140183088905968</title>\n",
       "<polygon fill=\"none\" points=\"69.5,-498.5 69.5,-544.5 397.5,-544.5 397.5,-498.5 69.5,-498.5\" stroke=\"black\"/>\n",
       "<text font-family=\"Times,serif\" font-size=\"14.00\" text-anchor=\"middle\" x=\"154\" y=\"-517.8\">attention_tanh_layer: Dense</text>\n",
       "<polyline fill=\"none\" points=\"238.5,-498.5 238.5,-544.5 \" stroke=\"black\"/>\n",
       "<text font-family=\"Times,serif\" font-size=\"14.00\" text-anchor=\"middle\" x=\"266\" y=\"-529.3\">input:</text>\n",
       "<polyline fill=\"none\" points=\"238.5,-521.5 293.5,-521.5 \" stroke=\"black\"/>\n",
       "<text font-family=\"Times,serif\" font-size=\"14.00\" text-anchor=\"middle\" x=\"266\" y=\"-506.3\">output:</text>\n",
       "<polyline fill=\"none\" points=\"293.5,-498.5 293.5,-544.5 \" stroke=\"black\"/>\n",
       "<text font-family=\"Times,serif\" font-size=\"14.00\" text-anchor=\"middle\" x=\"345.5\" y=\"-529.3\">(None, 30, 60)</text>\n",
       "<polyline fill=\"none\" points=\"293.5,-521.5 397.5,-521.5 \" stroke=\"black\"/>\n",
       "<text font-family=\"Times,serif\" font-size=\"14.00\" text-anchor=\"middle\" x=\"345.5\" y=\"-506.3\">(None, 30, 150)</text>\n",
       "</g>\n",
       "<!-- 140183090484000&#45;&gt;140183088905968 -->\n",
       "<g class=\"edge\" id=\"edge13\"><title>140183090484000-&gt;140183088905968</title>\n",
       "<path d=\"M306.901,-581.366C295.211,-571.991 281.443,-560.949 269.009,-550.977\" fill=\"none\" stroke=\"black\"/>\n",
       "<polygon fill=\"black\" points=\"271.056,-548.133 261.065,-544.607 266.677,-553.594 271.056,-548.133\" stroke=\"black\"/>\n",
       "</g>\n",
       "<!-- 140183088345608 -->\n",
       "<g class=\"node\" id=\"node13\"><title>140183088345608</title>\n",
       "<polygon fill=\"none\" points=\"144.5,-332.5 144.5,-378.5 514.5,-378.5 514.5,-332.5 144.5,-332.5\" stroke=\"black\"/>\n",
       "<text font-family=\"Times,serif\" font-size=\"14.00\" text-anchor=\"middle\" x=\"208.5\" y=\"-351.8\">attending_layer: Dot</text>\n",
       "<polyline fill=\"none\" points=\"272.5,-332.5 272.5,-378.5 \" stroke=\"black\"/>\n",
       "<text font-family=\"Times,serif\" font-size=\"14.00\" text-anchor=\"middle\" x=\"300\" y=\"-363.3\">input:</text>\n",
       "<polyline fill=\"none\" points=\"272.5,-355.5 327.5,-355.5 \" stroke=\"black\"/>\n",
       "<text font-family=\"Times,serif\" font-size=\"14.00\" text-anchor=\"middle\" x=\"300\" y=\"-340.3\">output:</text>\n",
       "<polyline fill=\"none\" points=\"327.5,-332.5 327.5,-378.5 \" stroke=\"black\"/>\n",
       "<text font-family=\"Times,serif\" font-size=\"14.00\" text-anchor=\"middle\" x=\"421\" y=\"-363.3\">[(None, 30, 4), (None, 30, 60)]</text>\n",
       "<polyline fill=\"none\" points=\"327.5,-355.5 514.5,-355.5 \" stroke=\"black\"/>\n",
       "<text font-family=\"Times,serif\" font-size=\"14.00\" text-anchor=\"middle\" x=\"421\" y=\"-340.3\">(None, 4, 60)</text>\n",
       "</g>\n",
       "<!-- 140183090484000&#45;&gt;140183088345608 -->\n",
       "<g class=\"edge\" id=\"edge16\"><title>140183090484000-&gt;140183088345608</title>\n",
       "<path d=\"M373.172,-581.326C386.042,-571.87 398.997,-559.614 406.5,-545 432.909,-493.563 437.972,-466.404 411.5,-415 405.311,-402.983 395.384,-392.889 384.54,-384.653\" fill=\"none\" stroke=\"black\"/>\n",
       "<polygon fill=\"black\" points=\"386.306,-381.616 376.116,-378.716 382.273,-387.337 386.306,-381.616\" stroke=\"black\"/>\n",
       "</g>\n",
       "<!-- 140183088701680 -->\n",
       "<g class=\"node\" id=\"node12\"><title>140183088701680</title>\n",
       "<polygon fill=\"none\" points=\"54,-415.5 54,-461.5 403,-461.5 403,-415.5 54,-415.5\" stroke=\"black\"/>\n",
       "<text font-family=\"Times,serif\" font-size=\"14.00\" text-anchor=\"middle\" x=\"149\" y=\"-434.8\">attention_softmax_layer: Dense</text>\n",
       "<polyline fill=\"none\" points=\"244,-415.5 244,-461.5 \" stroke=\"black\"/>\n",
       "<text font-family=\"Times,serif\" font-size=\"14.00\" text-anchor=\"middle\" x=\"271.5\" y=\"-446.3\">input:</text>\n",
       "<polyline fill=\"none\" points=\"244,-438.5 299,-438.5 \" stroke=\"black\"/>\n",
       "<text font-family=\"Times,serif\" font-size=\"14.00\" text-anchor=\"middle\" x=\"271.5\" y=\"-423.3\">output:</text>\n",
       "<polyline fill=\"none\" points=\"299,-415.5 299,-461.5 \" stroke=\"black\"/>\n",
       "<text font-family=\"Times,serif\" font-size=\"14.00\" text-anchor=\"middle\" x=\"351\" y=\"-446.3\">(None, 30, 150)</text>\n",
       "<polyline fill=\"none\" points=\"299,-438.5 403,-438.5 \" stroke=\"black\"/>\n",
       "<text font-family=\"Times,serif\" font-size=\"14.00\" text-anchor=\"middle\" x=\"351\" y=\"-423.3\">(None, 30, 4)</text>\n",
       "</g>\n",
       "<!-- 140183088905968&#45;&gt;140183088701680 -->\n",
       "<g class=\"edge\" id=\"edge14\"><title>140183088905968-&gt;140183088701680</title>\n",
       "<path d=\"M232.134,-498.366C231.627,-490.152 231.041,-480.658 230.489,-471.725\" fill=\"none\" stroke=\"black\"/>\n",
       "<polygon fill=\"black\" points=\"233.974,-471.372 229.865,-461.607 226.987,-471.804 233.974,-471.372\" stroke=\"black\"/>\n",
       "</g>\n",
       "<!-- 140183088701680&#45;&gt;140183088345608 -->\n",
       "<g class=\"edge\" id=\"edge15\"><title>140183088701680-&gt;140183088345608</title>\n",
       "<path d=\"M256.099,-415.366C267.789,-405.991 281.557,-394.949 293.991,-384.977\" fill=\"none\" stroke=\"black\"/>\n",
       "<polygon fill=\"black\" points=\"296.323,-387.594 301.935,-378.607 291.944,-382.133 296.323,-387.594\" stroke=\"black\"/>\n",
       "</g>\n",
       "<!-- 140183087977976 -->\n",
       "<g class=\"node\" id=\"node14\"><title>140183087977976</title>\n",
       "<polygon fill=\"none\" points=\"192.5,-249.5 192.5,-295.5 466.5,-295.5 466.5,-249.5 192.5,-249.5\" stroke=\"black\"/>\n",
       "<text font-family=\"Times,serif\" font-size=\"14.00\" text-anchor=\"middle\" x=\"253.5\" y=\"-268.8\">dense_layer: Dense</text>\n",
       "<polyline fill=\"none\" points=\"314.5,-249.5 314.5,-295.5 \" stroke=\"black\"/>\n",
       "<text font-family=\"Times,serif\" font-size=\"14.00\" text-anchor=\"middle\" x=\"342\" y=\"-280.3\">input:</text>\n",
       "<polyline fill=\"none\" points=\"314.5,-272.5 369.5,-272.5 \" stroke=\"black\"/>\n",
       "<text font-family=\"Times,serif\" font-size=\"14.00\" text-anchor=\"middle\" x=\"342\" y=\"-257.3\">output:</text>\n",
       "<polyline fill=\"none\" points=\"369.5,-249.5 369.5,-295.5 \" stroke=\"black\"/>\n",
       "<text font-family=\"Times,serif\" font-size=\"14.00\" text-anchor=\"middle\" x=\"418\" y=\"-280.3\">(None, 4, 60)</text>\n",
       "<polyline fill=\"none\" points=\"369.5,-272.5 466.5,-272.5 \" stroke=\"black\"/>\n",
       "<text font-family=\"Times,serif\" font-size=\"14.00\" text-anchor=\"middle\" x=\"418\" y=\"-257.3\">(None, 4, 200)</text>\n",
       "</g>\n",
       "<!-- 140183088345608&#45;&gt;140183087977976 -->\n",
       "<g class=\"edge\" id=\"edge17\"><title>140183088345608-&gt;140183087977976</title>\n",
       "<path d=\"M329.5,-332.366C329.5,-324.152 329.5,-314.658 329.5,-305.725\" fill=\"none\" stroke=\"black\"/>\n",
       "<polygon fill=\"black\" points=\"333,-305.607 329.5,-295.607 326,-305.607 333,-305.607\" stroke=\"black\"/>\n",
       "</g>\n",
       "<!-- 140183088059616 -->\n",
       "<g class=\"node\" id=\"node15\"><title>140183088059616</title>\n",
       "<polygon fill=\"none\" points=\"179,-166.5 179,-212.5 480,-212.5 480,-166.5 179,-166.5\" stroke=\"black\"/>\n",
       "<text font-family=\"Times,serif\" font-size=\"14.00\" text-anchor=\"middle\" x=\"253.5\" y=\"-185.8\">dense_dropout: Dropout</text>\n",
       "<polyline fill=\"none\" points=\"328,-166.5 328,-212.5 \" stroke=\"black\"/>\n",
       "<text font-family=\"Times,serif\" font-size=\"14.00\" text-anchor=\"middle\" x=\"355.5\" y=\"-197.3\">input:</text>\n",
       "<polyline fill=\"none\" points=\"328,-189.5 383,-189.5 \" stroke=\"black\"/>\n",
       "<text font-family=\"Times,serif\" font-size=\"14.00\" text-anchor=\"middle\" x=\"355.5\" y=\"-174.3\">output:</text>\n",
       "<polyline fill=\"none\" points=\"383,-166.5 383,-212.5 \" stroke=\"black\"/>\n",
       "<text font-family=\"Times,serif\" font-size=\"14.00\" text-anchor=\"middle\" x=\"431.5\" y=\"-197.3\">(None, 4, 200)</text>\n",
       "<polyline fill=\"none\" points=\"383,-189.5 480,-189.5 \" stroke=\"black\"/>\n",
       "<text font-family=\"Times,serif\" font-size=\"14.00\" text-anchor=\"middle\" x=\"431.5\" y=\"-174.3\">(None, 4, 200)</text>\n",
       "</g>\n",
       "<!-- 140183087977976&#45;&gt;140183088059616 -->\n",
       "<g class=\"edge\" id=\"edge18\"><title>140183087977976-&gt;140183088059616</title>\n",
       "<path d=\"M329.5,-249.366C329.5,-241.152 329.5,-231.658 329.5,-222.725\" fill=\"none\" stroke=\"black\"/>\n",
       "<polygon fill=\"black\" points=\"333,-222.607 329.5,-212.607 326,-222.607 333,-222.607\" stroke=\"black\"/>\n",
       "</g>\n",
       "<!-- 140183088059840 -->\n",
       "<g class=\"node\" id=\"node16\"><title>140183088059840</title>\n",
       "<polygon fill=\"none\" points=\"205.5,-83.5 205.5,-129.5 453.5,-129.5 453.5,-83.5 205.5,-83.5\" stroke=\"black\"/>\n",
       "<text font-family=\"Times,serif\" font-size=\"14.00\" text-anchor=\"middle\" x=\"253.5\" y=\"-102.8\">flatten: Flatten</text>\n",
       "<polyline fill=\"none\" points=\"301.5,-83.5 301.5,-129.5 \" stroke=\"black\"/>\n",
       "<text font-family=\"Times,serif\" font-size=\"14.00\" text-anchor=\"middle\" x=\"329\" y=\"-114.3\">input:</text>\n",
       "<polyline fill=\"none\" points=\"301.5,-106.5 356.5,-106.5 \" stroke=\"black\"/>\n",
       "<text font-family=\"Times,serif\" font-size=\"14.00\" text-anchor=\"middle\" x=\"329\" y=\"-91.3\">output:</text>\n",
       "<polyline fill=\"none\" points=\"356.5,-83.5 356.5,-129.5 \" stroke=\"black\"/>\n",
       "<text font-family=\"Times,serif\" font-size=\"14.00\" text-anchor=\"middle\" x=\"405\" y=\"-114.3\">(None, 4, 200)</text>\n",
       "<polyline fill=\"none\" points=\"356.5,-106.5 453.5,-106.5 \" stroke=\"black\"/>\n",
       "<text font-family=\"Times,serif\" font-size=\"14.00\" text-anchor=\"middle\" x=\"405\" y=\"-91.3\">(None, 800)</text>\n",
       "</g>\n",
       "<!-- 140183088059616&#45;&gt;140183088059840 -->\n",
       "<g class=\"edge\" id=\"edge19\"><title>140183088059616-&gt;140183088059840</title>\n",
       "<path d=\"M329.5,-166.366C329.5,-158.152 329.5,-148.658 329.5,-139.725\" fill=\"none\" stroke=\"black\"/>\n",
       "<polygon fill=\"black\" points=\"333,-139.607 329.5,-129.607 326,-139.607 333,-139.607\" stroke=\"black\"/>\n",
       "</g>\n",
       "<!-- 140183087709992 -->\n",
       "<g class=\"node\" id=\"node17\"><title>140183087709992</title>\n",
       "<polygon fill=\"none\" points=\"201.5,-0.5 201.5,-46.5 457.5,-46.5 457.5,-0.5 201.5,-0.5\" stroke=\"black\"/>\n",
       "<text font-family=\"Times,serif\" font-size=\"14.00\" text-anchor=\"middle\" x=\"260.5\" y=\"-19.8\">predictions: Dense</text>\n",
       "<polyline fill=\"none\" points=\"319.5,-0.5 319.5,-46.5 \" stroke=\"black\"/>\n",
       "<text font-family=\"Times,serif\" font-size=\"14.00\" text-anchor=\"middle\" x=\"347\" y=\"-31.3\">input:</text>\n",
       "<polyline fill=\"none\" points=\"319.5,-23.5 374.5,-23.5 \" stroke=\"black\"/>\n",
       "<text font-family=\"Times,serif\" font-size=\"14.00\" text-anchor=\"middle\" x=\"347\" y=\"-8.3\">output:</text>\n",
       "<polyline fill=\"none\" points=\"374.5,-0.5 374.5,-46.5 \" stroke=\"black\"/>\n",
       "<text font-family=\"Times,serif\" font-size=\"14.00\" text-anchor=\"middle\" x=\"416\" y=\"-31.3\">(None, 800)</text>\n",
       "<polyline fill=\"none\" points=\"374.5,-23.5 457.5,-23.5 \" stroke=\"black\"/>\n",
       "<text font-family=\"Times,serif\" font-size=\"14.00\" text-anchor=\"middle\" x=\"416\" y=\"-8.3\">(None, 2)</text>\n",
       "</g>\n",
       "<!-- 140183088059840&#45;&gt;140183087709992 -->\n",
       "<g class=\"edge\" id=\"edge20\"><title>140183088059840-&gt;140183087709992</title>\n",
       "<path d=\"M329.5,-83.3664C329.5,-75.1516 329.5,-65.6579 329.5,-56.7252\" fill=\"none\" stroke=\"black\"/>\n",
       "<polygon fill=\"black\" points=\"333,-56.6068 329.5,-46.6068 326,-56.6069 333,-56.6068\" stroke=\"black\"/>\n",
       "</g>\n",
       "</g>\n",
       "</svg>"
      ],
      "text/plain": [
       "<IPython.core.display.SVG object>"
      ]
     },
     "execution_count": 19,
     "metadata": {},
     "output_type": "execute_result"
    }
   ],
   "source": [
    "keras.utils.plot_model(attention_model, to_file='attention_model.pdf')\n",
    "SVG(model_to_dot(attention_model, show_shapes=True, show_layer_names=True).create(prog='dot', format='svg'))\n"
   ]
  },
  {
   "cell_type": "code",
   "execution_count": null,
   "metadata": {
    "collapsed": true
   },
   "outputs": [],
   "source": [
    "parallel_attention_model = keras.utils.multi_gpu_model(attention_model, gpus=2)\n",
    "parallel_attention_model.compile(loss=keras.losses.categorical_crossentropy,\n",
    "              optimizer=keras.optimizers.Adam(),\n",
    "              metrics=['accuracy'])"
   ]
  },
  {
   "cell_type": "code",
   "execution_count": null,
   "metadata": {
    "scrolled": false
   },
   "outputs": [],
   "source": [
    "parallel_attention_model.fit([x_train, x_rc_train], y_train,\n",
    "          batch_size=200,\n",
    "          epochs=60,\n",
    "          verbose=1,\n",
    "          validation_data=([x_test, x_rc_test], y_test))\n",
    "score = parallel_attention_model.evaluate([x_test, x_rc_test], y_test, verbose=0)\n",
    "print('Test loss:', score[0])\n",
    "print('Test accuracy:', score[1])"
   ]
  },
  {
   "cell_type": "code",
   "execution_count": 22,
   "metadata": {},
   "outputs": [
    {
     "data": {
      "text/plain": [
       "0.9205399731570933"
      ]
     },
     "execution_count": 22,
     "metadata": {},
     "output_type": "execute_result"
    }
   ],
   "source": [
    "probs = attention_model.predict([x_test, x_rc_test])\n",
    "\n",
    "sklearn.metrics.roc_auc_score([y[1] for y in y_test], probs[:,1], )"
   ]
  },
  {
   "cell_type": "code",
   "execution_count": 91,
   "metadata": {
    "collapsed": true
   },
   "outputs": [],
   "source": [
    "def get_sequence_attention(model, sequence, adjacent_bp_pool_size):\n",
    "    get_attention = K.function([model.get_layer('input_fwd').input, \n",
    "                                model.get_layer('input_rev').input,\n",
    "                                K.learning_phase()\n",
    "                               ], \n",
    "                               [model.get_layer('attention_softmax_layer').output])\n",
    "    fwd_seq = sequence[:200]\n",
    "    rev_seq = str(Bio.Seq.Seq(fwd_seq).reverse_complement())\n",
    "    \n",
    "    fwd_seq_array = convert_sequences_to_array([fwd_seq])[0]\n",
    "    rev_seq_array = convert_sequences_to_array([rev_seq])[0]\n",
    "\n",
    "    layer_output = get_attention(([fwd_seq_array], [rev_seq_array], 0))[0]\n",
    "    reshaped_output = layer_output.reshape((layer_output.shape[1], layer_output.shape[2]))\n",
    "\n",
    "\n",
    "    full_attention = []\n",
    "    for x in reshaped_output:\n",
    "        for i in range(adjacent_bp_pool_size):\n",
    "            full_attention.append(x)\n",
    "    full_attention = np.array(full_attention)\n",
    "\n",
    "    crop_distance = int((len(fwd_seq) - full_attention.shape[0])/2)\n",
    "\n",
    "    attended_sequence = fwd_seq[crop_distance:-crop_distance]\n",
    "    return layer_output, full_attention, attended_sequence"
   ]
  },
  {
   "cell_type": "code",
   "execution_count": 92,
   "metadata": {},
   "outputs": [
    {
     "data": {
      "image/png": "[encoded data removed]",
      "text/plain": [
       "<matplotlib.figure.Figure at 0x7f7e803e8b70>"
      ]
     },
     "metadata": {},
     "output_type": "display_data"
    }
   ],
   "source": [
    "attention_output, full_attention, attended_sequence = get_sequence_attention(attention_model,\n",
    "                      str(positive_seqRecords[9051].seq),\n",
    "                      5)\n",
    "frame = pd.DataFrame(full_attention).T\n",
    "frame.columns = list(attended_sequence)\n",
    "fig, ax = plt.subplots(figsize=(25,1)) \n",
    "hm=sns.heatmap(frame, square=True, ax=ax, )"
   ]
  },
  {
   "cell_type": "code",
   "execution_count": 97,
   "metadata": {},
   "outputs": [
    {
     "data": {
      "text/plain": [
       "array([0.2962545 , 0.29227787, 0.28955323, 0.31073597, 0.30478084,\n",
       "       0.28344002, 0.2570246 , 0.22990991, 0.2163994 , 0.2159492 ,\n",
       "       0.2248086 , 0.21682562, 0.20288725, 0.2118354 , 0.22239502,\n",
       "       0.22485024, 0.2536055 , 0.317383  , 0.29896292, 0.26266676,\n",
       "       0.24689703, 0.27961558, 0.31493738, 0.3143824 , 0.3154376 ,\n",
       "       0.29694492, 0.2842819 , 0.2901366 , 0.29989132, 0.24589574],\n",
       "      dtype=float32)"
      ]
     },
     "execution_count": 97,
     "metadata": {},
     "output_type": "execute_result"
    }
   ],
   "source": [
    "attention_output[0,:,1]"
   ]
  },
  {
   "cell_type": "code",
   "execution_count": 90,
   "metadata": {},
   "outputs": [
    {
     "data": {
      "text/plain": [
       "array([0.99999994, 0.99999994, 0.99999994, 0.99999994, 0.99999994,\n",
       "       1.        , 1.        , 1.        , 1.        , 1.        ,\n",
       "       1.        , 1.        , 1.        , 1.        , 1.        ,\n",
       "       1.        , 1.        , 1.        , 1.        , 1.        ,\n",
       "       1.        , 1.        , 1.        , 1.        , 1.        ,\n",
       "       1.        , 1.        , 1.        , 1.        , 1.        ,\n",
       "       1.        , 1.        , 1.        , 1.        , 1.        ,\n",
       "       1.        , 1.        , 1.        , 1.        , 1.        ,\n",
       "       1.        , 1.        , 1.        , 1.        , 1.        ,\n",
       "       1.        , 1.        , 1.        , 1.        , 1.        ,\n",
       "       1.        , 1.        , 1.        , 1.        , 1.        ,\n",
       "       1.        , 1.        , 1.        , 1.        , 1.        ,\n",
       "       0.99999994, 0.99999994, 0.99999994, 0.99999994, 0.99999994,\n",
       "       0.9999999 , 0.9999999 , 0.9999999 , 0.9999999 , 0.9999999 ,\n",
       "       1.        , 1.        , 1.        , 1.        , 1.        ,\n",
       "       1.        , 1.        , 1.        , 1.        , 1.        ,\n",
       "       0.99999994, 0.99999994, 0.99999994, 0.99999994, 0.99999994,\n",
       "       0.9999999 , 0.9999999 , 0.9999999 , 0.9999999 , 0.9999999 ,\n",
       "       0.99999994, 0.99999994, 0.99999994, 0.99999994, 0.99999994,\n",
       "       1.        , 1.        , 1.        , 1.        , 1.        ,\n",
       "       1.        , 1.        , 1.        , 1.        , 1.        ,\n",
       "       1.        , 1.        , 1.        , 1.        , 1.        ,\n",
       "       0.99999994, 0.99999994, 0.99999994, 0.99999994, 0.99999994,\n",
       "       1.        , 1.        , 1.        , 1.        , 1.        ,\n",
       "       1.        , 1.        , 1.        , 1.        , 1.        ,\n",
       "       1.0000001 , 1.0000001 , 1.0000001 , 1.0000001 , 1.0000001 ,\n",
       "       1.        , 1.        , 1.        , 1.        , 1.        ,\n",
       "       1.0000001 , 1.0000001 , 1.0000001 , 1.0000001 , 1.0000001 ,\n",
       "       1.        , 1.        , 1.        , 1.        , 1.        ,\n",
       "       1.        , 1.        , 1.        , 1.        , 1.        ],\n",
       "      dtype=float32)"
      ]
     },
     "execution_count": 90,
     "metadata": {},
     "output_type": "execute_result"
    }
   ],
   "source": [
    "full_attention.sum(axis=1)"
   ]
  },
  {
   "cell_type": "code",
   "execution_count": 82,
   "metadata": {},
   "outputs": [
    {
     "data": {
      "text/plain": [
       "(4, 150)"
      ]
     },
     "execution_count": 82,
     "metadata": {},
     "output_type": "execute_result"
    }
   ],
   "source": [
    "frame.shape"
   ]
  },
  {
   "cell_type": "code",
   "execution_count": 514,
   "metadata": {
    "collapsed": true
   },
   "outputs": [],
   "source": [
    "model = attention_model"
   ]
  },
  {
   "cell_type": "code",
   "execution_count": 403,
   "metadata": {
    "collapsed": true
   },
   "outputs": [],
   "source": [
    "def convert_arrays_to_sequences(sequence_arrays):\n",
    "    sequence_list = []\n",
    "    for arr in sequence_arrays:\n",
    "        current_seq = ''\n",
    "        for pos in arr:\n",
    "            if int(pos[0]) == 1:\n",
    "                current_seq += 'A'\n",
    "            elif int(pos[1]) == 1:\n",
    "                current_seq += 'C'\n",
    "            elif int(pos[2]) == 1:\n",
    "                current_seq += 'G'\n",
    "            elif int(pos[3]) == 1:\n",
    "                current_seq += 'T'\n",
    "            else:\n",
    "                current_seq += 'N'\n",
    "        sequence_list.append(current_seq)\n",
    "    return sequence_list"
   ]
  },
  {
   "cell_type": "code",
   "execution_count": 405,
   "metadata": {},
   "outputs": [
    {
     "data": {
      "text/plain": [
       "['TTGTGCTCATGAGTCACCGCACAAGTTGCCCTATCAGGAACATGAAACTGAACTATAACAGTGTGTGCATCACTGCCAGGGTGCTGCCGGTGACAGCCTTAAGAGTGTAGCTGTGTTCACAAGGCAGCCTCGGTGGAGGTCTATGTCTGTGACCTCAGGTTTTGCAGACTGGAGCTTGCCTAGCTCTGACTCCTCCCTAC']"
      ]
     },
     "execution_count": 405,
     "metadata": {},
     "output_type": "execute_result"
    }
   ],
   "source": [
    "convert_arrays_to_sequences([x_train[10]])"
   ]
  },
  {
   "cell_type": "code",
   "execution_count": 51,
   "metadata": {
    "collapsed": true
   },
   "outputs": [],
   "source": [
    "\n",
    "get_attention = K.function([attention_model.get_layer('input_fwd').input, \n",
    "                                attention_model.get_layer('input_rev').input,\n",
    "                                K.learning_phase()\n",
    "                               ], \n",
    "                               [attention_model.get_layer('attention_softmax_layer').output])\n",
    "   "
   ]
  },
  {
   "cell_type": "code",
   "execution_count": 77,
   "metadata": {},
   "outputs": [
    {
     "name": "stdout",
     "output_type": "stream",
     "text": [
      "(30, 4)\n"
     ]
    }
   ],
   "source": [
    "fwd_seq = 'TTGTGCTCATGAGTCACCGCACAAGTTGCCCTATCAGGAACATGAAACTGAACTATAACAGTGTGTGCATCACTGCCAGGGTGCTGCCGGTGACAGCCTTAAGAGTGTAGCTGTGTTCACAAGGCAGCCTCGGTGGAGGTCTATGTCTGTGACCTCAGGTTTTGCAGACTGGAGCTTGCCTAGCTCTGACTCCTCCCTAC'\n",
    "rev_seq = str(Bio.Seq.Seq(fwd_seq).reverse_complement())\n",
    "\n",
    "fwd_seq_array = convert_sequences_to_array([fwd_seq])[0]\n",
    "rev_seq_array = convert_sequences_to_array([rev_seq])[0]\n",
    "\n",
    "layer_output = get_attention(([fwd_seq_array], [rev_seq_array], 0))[0]\n",
    "reshaped_output = layer_output.reshape((layer_output.shape[1], layer_output.shape[2]))\n",
    "\n",
    "\n",
    "full_attention = []\n",
    "for x in reshaped_output:\n",
    "    for i in range(adjacent_bp_pool_size):\n",
    "        full_attention.append(x)\n",
    "full_attention = np.array(full_attention)\n",
    "\n",
    "crop_distance = int((len(fwd_seq) - full_attention.shape[0])/2)\n",
    "\n",
    "attended_sequence = fwd_seq[crop_distance:-crop_distance]"
   ]
  }
 ],
 "metadata": {
  "anaconda-cloud": {},
  "kernelspec": {
   "display_name": "Python 3",
   "language": "python",
   "name": "python3"
  },
  "language_info": {
   "codemirror_mode": {
    "name": "ipython",
    "version": 3
   },
   "file_extension": ".py",
   "mimetype": "text/x-python",
   "name": "python",
   "nbconvert_exporter": "python",
   "pygments_lexer": "ipython3",
   "version": "3.6.1"
  }
 },
 "nbformat": 4,
 "nbformat_minor": 1
}
