{
 "cells": [
  {
   "cell_type": "markdown",
   "metadata": {},
   "source": [
    "# Genomic Grammar Analysis"
   ]
  },
  {
   "cell_type": "code",
   "execution_count": 1,
   "metadata": {},
   "outputs": [
    {
     "name": "stderr",
     "output_type": "stream",
     "text": [
      "/home/jenhan/anaconda3/lib/python3.6/site-packages/h5py/__init__.py:34: FutureWarning: Conversion of the second argument of issubdtype from `float` to `np.floating` is deprecated. In future, it will be treated as `np.float64 == np.dtype(float).type`.\n",
      "  from ._conv import register_converters as _register_converters\n",
      "Using TensorFlow backend.\n"
     ]
    }
   ],
   "source": [
    "from __future__ import print_function\n",
    "import keras\n",
    "from keras.datasets import mnist\n",
    "from keras.models import Sequential\n",
    "from keras.layers import *\n",
    "from keras.models import Model\n",
    "from keras import backend as K"
   ]
  },
  {
   "cell_type": "code",
   "execution_count": 2,
   "metadata": {
    "collapsed": true
   },
   "outputs": [],
   "source": [
    "import os\n",
    "import numpy as np\n",
    "import Bio\n",
    "from Bio import SeqIO\n",
    "import seaborn as sns\n",
    "import pandas as pd\n",
    "import Bio.motifs\n",
    "%matplotlib inline\n",
    "from sklearn import model_selection\n",
    "import seaborn as sns\n",
    "from matplotlib import pyplot as plt\n",
    "import sklearn\n",
    "from IPython.display import SVG\n",
    "from keras.utils.vis_utils import model_to_dot"
   ]
  },
  {
   "cell_type": "code",
   "execution_count": 3,
   "metadata": {
    "collapsed": true
   },
   "outputs": [],
   "source": [
    "if not os.path.isdir('/home/jtao/analysis/genomic_grammar_analysis/'):\n",
    "    os.mkdir('/home/jtao/analysis/genomic_grammar_analysis')\n",
    "os.chdir('/home/jtao/analysis/genomic_grammar_analysis')"
   ]
  },
  {
   "cell_type": "markdown",
   "metadata": {},
   "source": [
    "## Functions"
   ]
  },
  {
   "cell_type": "code",
   "execution_count": 4,
   "metadata": {
    "collapsed": true
   },
   "outputs": [],
   "source": [
    "def convert_sequences_to_array(sequences):\n",
    "    '''\n",
    "    inputs: sequence of nucleotides represented as a string composed of A, C, G, T\n",
    "    outputs: a list of numpy array representations of a sequence with:\n",
    "             A = [1, 0, 0, 0]\n",
    "             C = [0, 1, 0, 0]\n",
    "             G = [0, 0, 1, 0]\n",
    "             T = [0, 0, 0, 1]\n",
    "             \n",
    "    '''\n",
    "\n",
    "    nucleotide_array_dict = {'A': [1, 0, 0, 0],\n",
    "                             'C': [0, 1, 0, 0],\n",
    "                             'G': [0, 0, 1, 0],\n",
    "                             'T': [0, 0, 0, 1],\n",
    "                             'N': [0.25,0.25,0.25,0.25]}\n",
    "\n",
    "    sequence_array_list = []\n",
    "    for seq in sequences:\n",
    "        seq_array = []\n",
    "        for nuc in seq:\n",
    "            seq_array.append(nucleotide_array_dict[nuc])\n",
    "        seq_array = np.array(seq_array)\n",
    "        sequence_array_list.append(seq_array)\n",
    "    sequence_array_list = np.array(sequence_array_list)\n",
    "    return sequence_array_list"
   ]
  },
  {
   "cell_type": "markdown",
   "metadata": {},
   "source": [
    "## Extract Sequence"
   ]
  },
  {
   "cell_type": "code",
   "execution_count": 72,
   "metadata": {},
   "outputs": [
    {
     "name": "stdout",
     "output_type": "stream",
     "text": [
      "./atac_idr_peaks/c57bl6_il4-24h_peaks.tsv\n",
      "./bed_files/c57bl6_il4-24h_peaks.bed\n",
      "./atac_idr_peaks/c57bl6_kla-1h_peaks.tsv\n",
      "./bed_files/c57bl6_kla-1h_peaks.bed\n",
      "./atac_idr_peaks/c57bl6_veh_peaks.tsv\n",
      "./bed_files/c57bl6_veh_peaks.bed\n"
     ]
    },
    {
     "name": "stderr",
     "output_type": "stream",
     "text": [
      "\n",
      "\tConverted 37096 peaks total\n",
      "\n",
      "\n",
      "\tConverted 31419 peaks total\n",
      "\n",
      "\n",
      "\tConverted 39536 peaks total\n",
      "\n"
     ]
    }
   ],
   "source": [
    "%%bash\n",
    "if [ ! -d ./bed_files ]; then mkdir ./bed_files; else rm ./bed_files/*; fi\n",
    "for peak in ./atac_idr_peaks/*tsv;\n",
    "do echo $peak;\n",
    "new_path=${peak/atac_idr_peaks/bed_files};\n",
    "new_path=${new_path/.tsv/.bed};\n",
    "echo $new_path;\n",
    "pos2bed.pl $peak >$new_path\n",
    "done"
   ]
  },
  {
   "cell_type": "code",
   "execution_count": 78,
   "metadata": {},
   "outputs": [
    {
     "name": "stdout",
     "output_type": "stream",
     "text": [
      "./bed_files/c57bl6_il4-24h_peaks.bed\n",
      "./fasta_files/c57bl6_il4-24h_peaks.fa\n",
      "reading genome mm10\n",
      "./bed_files/c57bl6_kla-1h_peaks.bed\n",
      "./fasta_files/c57bl6_kla-1h_peaks.fa\n",
      "reading genome mm10\n",
      "./bed_files/c57bl6_veh_peaks.bed\n",
      "./fasta_files/c57bl6_veh_peaks.fa\n",
      "reading genome mm10\n"
     ]
    },
    {
     "name": "stderr",
     "output_type": "stream",
     "text": [
      "rm: cannot remove ‘./fasta_files/*’: No such file or directory\n"
     ]
    }
   ],
   "source": [
    "%%bash\n",
    "if [ ! -d ./fasta_files ]; then mkdir ./fasta_files; else rm ./fasta_files/*; fi\n",
    "for bed_path in ./bed_files/*bed;\n",
    "do echo $bed_path;\n",
    "new_path=${bed_path/bed_files/fasta_files};\n",
    "new_path=${new_path/.bed/.fa};\n",
    "echo $new_path;\n",
    "/home/jtao/code/tba/model_training/extract_sequences.py $bed_path mm10 $new_path\n",
    "done"
   ]
  },
  {
   "cell_type": "markdown",
   "metadata": {},
   "source": [
    "## Generate Background Coordinates"
   ]
  },
  {
   "cell_type": "code",
   "execution_count": 81,
   "metadata": {},
   "outputs": [
    {
     "name": "stdout",
     "output_type": "stream",
     "text": [
      "./bed_files/c57bl6_il4-24h_peaks.bed\n",
      "/home/jtao/code/tba/model_training/generate_background_coordinates.py ./bed_files/c57bl6_il4-24h_peaks.bed ./background_files -genome mm10\n",
      "./bed_files/c57bl6_kla-1h_peaks.bed\n",
      "/home/jtao/code/tba/model_training/generate_background_coordinates.py ./bed_files/c57bl6_kla-1h_peaks.bed ./background_files -genome mm10\n",
      "./bed_files/c57bl6_veh_peaks.bed\n",
      "/home/jtao/code/tba/model_training/generate_background_coordinates.py ./bed_files/c57bl6_veh_peaks.bed ./background_files -genome mm10\n"
     ]
    },
    {
     "name": "stderr",
     "output_type": "stream",
     "text": [
      "rm: cannot remove ‘./background_files/*’: No such file or directory\n"
     ]
    }
   ],
   "source": [
    "%%bash\n",
    "if [ ! -d ./background_files ]; then mkdir ./background_files; else rm ./background_files/*; fi\n",
    "for bed_path in ./bed_files/*bed;\n",
    "do echo $bed_path;\n",
    "echo /home/jtao/code/tba/model_training/generate_background_coordinates.py $bed_path ./background_files -genome mm10\n",
    "done"
   ]
  },
  {
   "cell_type": "code",
   "execution_count": 88,
   "metadata": {
    "collapsed": true
   },
   "outputs": [],
   "source": [
    "%%bash\n",
    "rm ./make_background.sh\n",
    "script_path=\"./make_background.sh\"\n",
    "if [ ! -d ./background_files/ ]; then mkdir ./background_files/ ; fi\n",
    "for i in ./bed_files/*bed;\n",
    "do \n",
    "    factor=${i##*/};\n",
    "    factor=${factor%.bed};\n",
    "    fasta_path=\"./background_files/${factor}_background.fasta\"\n",
    "    bed_path=\"./background_files/${factor}_background.bed\"\n",
    "\n",
    "    echo \"/home/jtao/code/tba/model_training/generate_background_coordinates.py $i ./background_files/ -genome mm10\" >> $script_path;\n",
    "    echo \"mv ./background_files/background.bed $bed_path\" >> $script_path;\n",
    "    echo \"mv ./background_files/background.fasta $fasta_path\" >> $script_path;\n",
    "done"
   ]
  },
  {
   "cell_type": "code",
   "execution_count": null,
   "metadata": {
    "collapsed": true
   },
   "outputs": [],
   "source": [
    "%%bash\n",
    "rm ./background/*\n",
    "chmod a+x ./*sh\n",
    "bash ./make_background.sh"
   ]
  },
  {
   "cell_type": "markdown",
   "metadata": {},
   "source": [
    "## Read in Data"
   ]
  },
  {
   "cell_type": "code",
   "execution_count": 5,
   "metadata": {
    "collapsed": true
   },
   "outputs": [],
   "source": [
    "positive_seqRecords = list(SeqIO.parse('./fasta_files/c57bl6_il4-24h_peaks.fa', 'fasta'))\n",
    "negative_seqRecords = list(SeqIO.parse('./background_files/c57bl6_il4-24h_peaks_background.fasta', 'fasta'))\n",
    "\n",
    "fasta_seq = [str(x.seq[:200]) for x in positive_seqRecords] + [str(x[:200].seq) for x in negative_seqRecords]\n",
    "\n",
    "fasta_rc_seq = [str(x[:200].reverse_complement().seq) for x in positive_seqRecords] + \\\n",
    "    [str(x[:200].reverse_complement().seq) for x in negative_seqRecords]\n",
    "\n",
    "sequence_arrays = convert_sequences_to_array(fasta_seq)\n",
    "sequence_arrays = np.array(sequence_arrays)\n",
    "\n",
    "sequence_rc_arrays = convert_sequences_to_array(fasta_rc_seq)\n",
    "sequence_rc_arrays = np.array(sequence_rc_arrays)\n",
    "\n",
    "\n",
    "labels = [1 for x in positive_seqRecords] + [0 for x in negative_seqRecords]\n",
    "labels = np.array(labels)\n",
    "\n",
    "\n",
    "x_train, x_test, x_rc_train, x_rc_test, y_train, y_test = model_selection.train_test_split(sequence_arrays, sequence_rc_arrays, labels, test_size=0.2)\n"
   ]
  },
  {
   "cell_type": "code",
   "execution_count": 6,
   "metadata": {
    "collapsed": true
   },
   "outputs": [],
   "source": [
    "num_classes = 2\n",
    "y_train = keras.utils.to_categorical(y_train, num_classes)\n",
    "y_test = keras.utils.to_categorical(y_test, num_classes)"
   ]
  },
  {
   "cell_type": "markdown",
   "metadata": {},
   "source": [
    "## Count Params"
   ]
  },
  {
   "cell_type": "code",
   "execution_count": 7,
   "metadata": {
    "collapsed": true
   },
   "outputs": [],
   "source": [
    "def count_num_params(seq_size,\n",
    "                     num_motifs, \n",
    "                     motif_size,\n",
    "                     adjacent_bp_pool_size,\n",
    "                     attention_dim,\n",
    "                     attention_hops,\n",
    "                     num_dense_neurons\n",
    "                    ):\n",
    "    total_params = 0\n",
    "    \n",
    "    # convolution layer\n",
    "    convolution_params = num_motifs * motif_size * 4\n",
    "    total_params += convolution_params\n",
    "    print('Convolution Params:', convolution_params)\n",
    "    \n",
    "    # lstm layer\n",
    "    # account for pooling\n",
    "    lstm_input_size = num_motifs\n",
    "    # account for reverse complement sequence\n",
    "    lstm_input_size = lstm_input_size * 2\n",
    "    \n",
    "    num_lstm_neurons = seq_size/ adjacent_bp_pool_size\n",
    "    \n",
    "    lstm_params = lstm_input_size * 4 * num_lstm_neurons\n",
    "    # account for bidrectional lstm\n",
    "    lstm_params = lstm_params * 2\n",
    "    \n",
    "    total_params += lstm_params\n",
    "    print('LSTM Params:', lstm_params)\n",
    "    \n",
    "    # attention layer\n",
    "    # first layer of perceptron\n",
    "    attention_params = attention_dim * (seq_size/adjacent_bp_pool_size*2) \n",
    "    # account for hops of attention (second layer of perceptron)\n",
    "    attention_params += attention_dim * attention_hops\n",
    "    \n",
    "    total_params += attention_params\n",
    "    print('Attention Params:', attention_params)\n",
    "    \n",
    "    # dense layer\n",
    "    dense_params = lstm_input_size * num_dense_neurons\n",
    "    total_params += dense_params\n",
    "    print('Dense Params:', dense_params)\n",
    "    \n",
    "    return total_params"
   ]
  },
  {
   "cell_type": "code",
   "execution_count": 8,
   "metadata": {},
   "outputs": [
    {
     "name": "stdout",
     "output_type": "stream",
     "text": [
      "Convolution Params: 1600\n",
      "LSTM Params: 48000.0\n",
      "Attention Params: 15050.0\n",
      "Dense Params: 4000\n"
     ]
    },
    {
     "data": {
      "text/plain": [
       "68650.0"
      ]
     },
     "execution_count": 8,
     "metadata": {},
     "output_type": "execute_result"
    }
   ],
   "source": [
    "seq_size = 150\n",
    "num_classes = 2\n",
    "num_motifs = 20\n",
    "motif_size = 20\n",
    "adjacent_bp_pool_size = 1\n",
    "attention_dim = 50 # 350 from A Structured Self-attentive Sentence Embedding\n",
    "attention_hops = 1 # from A Structured Self-attentive Sentence Embedding\n",
    "num_dense_neurons = 100 # 2-layer, 2000 units, from A Structured Self-attentive Sentence Embedding\n",
    "\n",
    "count_num_params(seq_size,\n",
    "    num_motifs, \n",
    "    motif_size,\n",
    "    adjacent_bp_pool_size,\n",
    "    attention_dim,\n",
    "    attention_hops,\n",
    "    num_dense_neurons\n",
    "    )"
   ]
  },
  {
   "cell_type": "markdown",
   "metadata": {},
   "source": [
    "## Define Model"
   ]
  },
  {
   "cell_type": "code",
   "execution_count": 9,
   "metadata": {
    "collapsed": true
   },
   "outputs": [],
   "source": [
    "seq_size = 150\n",
    "num_classes = 2\n",
    "num_motifs = 20\n",
    "motif_size = 20\n",
    "adjacent_bp_pool_size = 1\n",
    "attention_dim = 50 \n",
    "attention_hops = 1 \n",
    "num_dense_neurons = 100 "
   ]
  },
  {
   "cell_type": "markdown",
   "metadata": {},
   "source": [
    "### Top Motif Scores"
   ]
  },
  {
   "cell_type": "code",
   "execution_count": 33,
   "metadata": {},
   "outputs": [
    {
     "name": "stdout",
     "output_type": "stream",
     "text": [
      "forward_motif_scores (?, 200, 20)\n",
      "cropped_fwd_scores (?, 150, 20)\n",
      "max_fwd_scores (?, 1, 20)\n",
      "max_seq_scores (?, 1, 20)\n",
      "*** total params ***\n",
      "Convolution Params: 1600\n",
      "LSTM Params: 48000.0\n",
      "Attention Params: 15050.0\n",
      "Dense Params: 4000\n"
     ]
    },
    {
     "data": {
      "text/plain": [
       "68650.0"
      ]
     },
     "execution_count": 33,
     "metadata": {},
     "output_type": "execute_result"
    }
   ],
   "source": [
    "total_seq_length = len(fasta_seq[0])\n",
    "\n",
    "input_fwd = Input(shape=(total_seq_length,4), name='input_fwd')\n",
    "input_rev = Input(shape=(total_seq_length,4), name='input_rev')\n",
    "\n",
    "# find motifs\n",
    "convolution_layer = Conv1D(filters=num_motifs, \n",
    "    kernel_size=motif_size,\n",
    "    activation='relu',\n",
    "    input_shape=(total_seq_length,4),\n",
    "    name='convolution_layer',\n",
    "    padding = 'same'\n",
    "    )\n",
    "forward_motif_scores = convolution_layer(input_fwd)\n",
    "reverse_motif_scores = convolution_layer(input_rev)\n",
    "print('forward_motif_scores', forward_motif_scores.shape)\n",
    "\n",
    "# crop motif scores to avoid parts of sequence where motif score is computed in only one direction\n",
    "to_crop = int((total_seq_length - seq_size)/2)\n",
    "crop_layer = Cropping1D(cropping=(to_crop, to_crop), \n",
    "    name='crop_layer')\n",
    "cropped_fwd_scores = crop_layer(forward_motif_scores)\n",
    "cropped_rev_scores = crop_layer(reverse_motif_scores)\n",
    "print('cropped_fwd_scores', cropped_fwd_scores.shape)\n",
    "\n",
    "# # flip motif scores\n",
    "# flip_layer = Lambda(lambda x: K.reverse(x,axes=0),\n",
    "#     output_shape=(seq_size, num_motifs),\n",
    "#     name='flip_layer')\n",
    "# flipped_rev_scores = flip_layer(cropped_rev_scores)\n",
    "# print('flipped_rev_scores', flipped_rev_scores.shape)\n",
    "\n",
    "# calculate max scores for each orientation\n",
    "seq_pool_layer = MaxPool1D(pool_size=seq_size)\n",
    "max_fwd_scores = seq_pool_layer(cropped_fwd_scores)\n",
    "max_rev_scores = seq_pool_layer(cropped_rev_scores)\n",
    "print('max_fwd_scores', max_fwd_scores.shape)\n",
    "\n",
    "# calculate max score for strand\n",
    "orientation_max_layer = Maximum()\n",
    "max_seq_scores = orientation_max_layer([max_fwd_scores, max_rev_scores])\n",
    "print('max_seq_scores', max_seq_scores.shape)\n",
    "\n",
    "# fully connected layer\n",
    "dense_out = Dense(num_dense_neurons, activation='relu', \n",
    "                 )(max_seq_scores)\n",
    "\n",
    "# drop out\n",
    "drop_out = Dropout(0.25)(dense_out)\n",
    "\n",
    "# make prediction\n",
    "flattened = Flatten()(drop_out)\n",
    "predictions = Dense(num_classes,\n",
    "                    activation = 'softmax', \n",
    "                   )(flattened)\n"
   ]
  },
  {
   "cell_type": "code",
   "execution_count": 12,
   "metadata": {
    "collapsed": true
   },
   "outputs": [],
   "source": [
    "# define and compile model\n",
    "convolution_model = Model(inputs=[input_fwd, input_rev], outputs=predictions)\n",
    "\n",
    "convolution_model.compile(loss=keras.losses.categorical_crossentropy,\n",
    "              optimizer=keras.optimizers.Adam(),\n",
    "              metrics=['accuracy'])"
   ]
  },
  {
   "cell_type": "code",
   "execution_count": 35,
   "metadata": {},
   "outputs": [
    {
     "data": {
      "image/svg+xml": [
       "<svg height=\"719pt\" viewBox=\"0.00 0.00 606.00 719.00\" width=\"606pt\" xmlns=\"http://www.w3.org/2000/svg\" xmlns:xlink=\"http://www.w3.org/1999/xlink\">\n",
       "<g class=\"graph\" id=\"graph0\" transform=\"scale(1 1) rotate(0) translate(4 715)\">\n",
       "<title>G</title>\n",
       "<polygon fill=\"white\" points=\"-4,4 -4,-715 602,-715 602,4 -4,4\" stroke=\"none\"/>\n",
       "<!-- 139653648642000 -->\n",
       "<g class=\"node\" id=\"node1\"><title>139653648642000</title>\n",
       "<polygon fill=\"none\" points=\"0,-664.5 0,-710.5 292,-710.5 292,-664.5 0,-664.5\" stroke=\"black\"/>\n",
       "<text font-family=\"Times,serif\" font-size=\"14.00\" text-anchor=\"middle\" x=\"70\" y=\"-683.8\">input_fwd: InputLayer</text>\n",
       "<polyline fill=\"none\" points=\"140,-664.5 140,-710.5 \" stroke=\"black\"/>\n",
       "<text font-family=\"Times,serif\" font-size=\"14.00\" text-anchor=\"middle\" x=\"167.5\" y=\"-695.3\">input:</text>\n",
       "<polyline fill=\"none\" points=\"140,-687.5 195,-687.5 \" stroke=\"black\"/>\n",
       "<text font-family=\"Times,serif\" font-size=\"14.00\" text-anchor=\"middle\" x=\"167.5\" y=\"-672.3\">output:</text>\n",
       "<polyline fill=\"none\" points=\"195,-664.5 195,-710.5 \" stroke=\"black\"/>\n",
       "<text font-family=\"Times,serif\" font-size=\"14.00\" text-anchor=\"middle\" x=\"243.5\" y=\"-695.3\">(None, 200, 4)</text>\n",
       "<polyline fill=\"none\" points=\"195,-687.5 292,-687.5 \" stroke=\"black\"/>\n",
       "<text font-family=\"Times,serif\" font-size=\"14.00\" text-anchor=\"middle\" x=\"243.5\" y=\"-672.3\">(None, 200, 4)</text>\n",
       "</g>\n",
       "<!-- 139654148436320 -->\n",
       "<g class=\"node\" id=\"node3\"><title>139654148436320</title>\n",
       "<polygon fill=\"none\" points=\"136.5,-581.5 136.5,-627.5 463.5,-627.5 463.5,-581.5 136.5,-581.5\" stroke=\"black\"/>\n",
       "<text font-family=\"Times,serif\" font-size=\"14.00\" text-anchor=\"middle\" x=\"220.5\" y=\"-600.8\">convolution_layer: Conv1D</text>\n",
       "<polyline fill=\"none\" points=\"304.5,-581.5 304.5,-627.5 \" stroke=\"black\"/>\n",
       "<text font-family=\"Times,serif\" font-size=\"14.00\" text-anchor=\"middle\" x=\"332\" y=\"-612.3\">input:</text>\n",
       "<polyline fill=\"none\" points=\"304.5,-604.5 359.5,-604.5 \" stroke=\"black\"/>\n",
       "<text font-family=\"Times,serif\" font-size=\"14.00\" text-anchor=\"middle\" x=\"332\" y=\"-589.3\">output:</text>\n",
       "<polyline fill=\"none\" points=\"359.5,-581.5 359.5,-627.5 \" stroke=\"black\"/>\n",
       "<text font-family=\"Times,serif\" font-size=\"14.00\" text-anchor=\"middle\" x=\"411.5\" y=\"-612.3\">(None, 200, 4)</text>\n",
       "<polyline fill=\"none\" points=\"359.5,-604.5 463.5,-604.5 \" stroke=\"black\"/>\n",
       "<text font-family=\"Times,serif\" font-size=\"14.00\" text-anchor=\"middle\" x=\"411.5\" y=\"-589.3\">(None, 200, 20)</text>\n",
       "</g>\n",
       "<!-- 139653648642000&#45;&gt;139654148436320 -->\n",
       "<g class=\"edge\" id=\"edge1\"><title>139653648642000-&gt;139654148436320</title>\n",
       "<path d=\"M188.081,-664.366C206.925,-654.455 229.308,-642.682 249.087,-632.279\" fill=\"none\" stroke=\"black\"/>\n",
       "<polygon fill=\"black\" points=\"250.749,-635.36 257.97,-627.607 247.49,-629.164 250.749,-635.36\" stroke=\"black\"/>\n",
       "</g>\n",
       "<!-- 139653648641944 -->\n",
       "<g class=\"node\" id=\"node2\"><title>139653648641944</title>\n",
       "<polygon fill=\"none\" points=\"310,-664.5 310,-710.5 598,-710.5 598,-664.5 310,-664.5\" stroke=\"black\"/>\n",
       "<text font-family=\"Times,serif\" font-size=\"14.00\" text-anchor=\"middle\" x=\"378\" y=\"-683.8\">input_rev: InputLayer</text>\n",
       "<polyline fill=\"none\" points=\"446,-664.5 446,-710.5 \" stroke=\"black\"/>\n",
       "<text font-family=\"Times,serif\" font-size=\"14.00\" text-anchor=\"middle\" x=\"473.5\" y=\"-695.3\">input:</text>\n",
       "<polyline fill=\"none\" points=\"446,-687.5 501,-687.5 \" stroke=\"black\"/>\n",
       "<text font-family=\"Times,serif\" font-size=\"14.00\" text-anchor=\"middle\" x=\"473.5\" y=\"-672.3\">output:</text>\n",
       "<polyline fill=\"none\" points=\"501,-664.5 501,-710.5 \" stroke=\"black\"/>\n",
       "<text font-family=\"Times,serif\" font-size=\"14.00\" text-anchor=\"middle\" x=\"549.5\" y=\"-695.3\">(None, 200, 4)</text>\n",
       "<polyline fill=\"none\" points=\"501,-687.5 598,-687.5 \" stroke=\"black\"/>\n",
       "<text font-family=\"Times,serif\" font-size=\"14.00\" text-anchor=\"middle\" x=\"549.5\" y=\"-672.3\">(None, 200, 4)</text>\n",
       "</g>\n",
       "<!-- 139653648641944&#45;&gt;139654148436320 -->\n",
       "<g class=\"edge\" id=\"edge2\"><title>139653648641944-&gt;139654148436320</title>\n",
       "<path d=\"M411.919,-664.366C393.075,-654.455 370.692,-642.682 350.913,-632.279\" fill=\"none\" stroke=\"black\"/>\n",
       "<polygon fill=\"black\" points=\"352.51,-629.164 342.03,-627.607 349.251,-635.36 352.51,-629.164\" stroke=\"black\"/>\n",
       "</g>\n",
       "<!-- 139654148558240 -->\n",
       "<g class=\"node\" id=\"node4\"><title>139654148558240</title>\n",
       "<polygon fill=\"none\" points=\"146,-498.5 146,-544.5 454,-544.5 454,-498.5 146,-498.5\" stroke=\"black\"/>\n",
       "<text font-family=\"Times,serif\" font-size=\"14.00\" text-anchor=\"middle\" x=\"220.5\" y=\"-517.8\">crop_layer: Cropping1D</text>\n",
       "<polyline fill=\"none\" points=\"295,-498.5 295,-544.5 \" stroke=\"black\"/>\n",
       "<text font-family=\"Times,serif\" font-size=\"14.00\" text-anchor=\"middle\" x=\"322.5\" y=\"-529.3\">input:</text>\n",
       "<polyline fill=\"none\" points=\"295,-521.5 350,-521.5 \" stroke=\"black\"/>\n",
       "<text font-family=\"Times,serif\" font-size=\"14.00\" text-anchor=\"middle\" x=\"322.5\" y=\"-506.3\">output:</text>\n",
       "<polyline fill=\"none\" points=\"350,-498.5 350,-544.5 \" stroke=\"black\"/>\n",
       "<text font-family=\"Times,serif\" font-size=\"14.00\" text-anchor=\"middle\" x=\"402\" y=\"-529.3\">(None, 200, 20)</text>\n",
       "<polyline fill=\"none\" points=\"350,-521.5 454,-521.5 \" stroke=\"black\"/>\n",
       "<text font-family=\"Times,serif\" font-size=\"14.00\" text-anchor=\"middle\" x=\"402\" y=\"-506.3\">(None, 150, 20)</text>\n",
       "</g>\n",
       "<!-- 139654148436320&#45;&gt;139654148558240 -->\n",
       "<g class=\"edge\" id=\"edge3\"><title>139654148436320-&gt;139654148558240</title>\n",
       "<path d=\"M300,-581.366C300,-573.152 300,-563.658 300,-554.725\" fill=\"none\" stroke=\"black\"/>\n",
       "<polygon fill=\"black\" points=\"303.5,-554.607 300,-544.607 296.5,-554.607 303.5,-554.607\" stroke=\"black\"/>\n",
       "</g>\n",
       "<!-- 139654148437552 -->\n",
       "<g class=\"node\" id=\"node5\"><title>139654148437552</title>\n",
       "<polygon fill=\"none\" points=\"117,-415.5 117,-461.5 483,-461.5 483,-415.5 117,-415.5\" stroke=\"black\"/>\n",
       "<text font-family=\"Times,serif\" font-size=\"14.00\" text-anchor=\"middle\" x=\"220.5\" y=\"-434.8\">max_pooling1d_1: MaxPooling1D</text>\n",
       "<polyline fill=\"none\" points=\"324,-415.5 324,-461.5 \" stroke=\"black\"/>\n",
       "<text font-family=\"Times,serif\" font-size=\"14.00\" text-anchor=\"middle\" x=\"351.5\" y=\"-446.3\">input:</text>\n",
       "<polyline fill=\"none\" points=\"324,-438.5 379,-438.5 \" stroke=\"black\"/>\n",
       "<text font-family=\"Times,serif\" font-size=\"14.00\" text-anchor=\"middle\" x=\"351.5\" y=\"-423.3\">output:</text>\n",
       "<polyline fill=\"none\" points=\"379,-415.5 379,-461.5 \" stroke=\"black\"/>\n",
       "<text font-family=\"Times,serif\" font-size=\"14.00\" text-anchor=\"middle\" x=\"431\" y=\"-446.3\">(None, 150, 20)</text>\n",
       "<polyline fill=\"none\" points=\"379,-438.5 483,-438.5 \" stroke=\"black\"/>\n",
       "<text font-family=\"Times,serif\" font-size=\"14.00\" text-anchor=\"middle\" x=\"431\" y=\"-423.3\">(None, 1, 20)</text>\n",
       "</g>\n",
       "<!-- 139654148558240&#45;&gt;139654148437552 -->\n",
       "<g class=\"edge\" id=\"edge5\"><title>139654148558240-&gt;139654148437552</title>\n",
       "<path d=\"M300,-498.366C300,-490.152 300,-480.658 300,-471.725\" fill=\"none\" stroke=\"black\"/>\n",
       "<polygon fill=\"black\" points=\"303.5,-471.607 300,-461.607 296.5,-471.607 303.5,-471.607\" stroke=\"black\"/>\n",
       "</g>\n",
       "<!-- 139654148274888 -->\n",
       "<g class=\"node\" id=\"node6\"><title>139654148274888</title>\n",
       "<polygon fill=\"none\" points=\"106,-332.5 106,-378.5 494,-378.5 494,-332.5 106,-332.5\" stroke=\"black\"/>\n",
       "<text font-family=\"Times,serif\" font-size=\"14.00\" text-anchor=\"middle\" x=\"182.5\" y=\"-351.8\">maximum_1: Maximum</text>\n",
       "<polyline fill=\"none\" points=\"259,-332.5 259,-378.5 \" stroke=\"black\"/>\n",
       "<text font-family=\"Times,serif\" font-size=\"14.00\" text-anchor=\"middle\" x=\"286.5\" y=\"-363.3\">input:</text>\n",
       "<polyline fill=\"none\" points=\"259,-355.5 314,-355.5 \" stroke=\"black\"/>\n",
       "<text font-family=\"Times,serif\" font-size=\"14.00\" text-anchor=\"middle\" x=\"286.5\" y=\"-340.3\">output:</text>\n",
       "<polyline fill=\"none\" points=\"314,-332.5 314,-378.5 \" stroke=\"black\"/>\n",
       "<text font-family=\"Times,serif\" font-size=\"14.00\" text-anchor=\"middle\" x=\"404\" y=\"-363.3\">[(None, 1, 20), (None, 1, 20)]</text>\n",
       "<polyline fill=\"none\" points=\"314,-355.5 494,-355.5 \" stroke=\"black\"/>\n",
       "<text font-family=\"Times,serif\" font-size=\"14.00\" text-anchor=\"middle\" x=\"404\" y=\"-340.3\">(None, 1, 20)</text>\n",
       "</g>\n",
       "<!-- 139654148437552&#45;&gt;139654148274888 -->\n",
       "<g class=\"edge\" id=\"edge7\"><title>139654148437552-&gt;139654148274888</title>\n",
       "<path d=\"M300,-415.366C300,-407.152 300,-397.658 300,-388.725\" fill=\"none\" stroke=\"black\"/>\n",
       "<polygon fill=\"black\" points=\"303.5,-388.607 300,-378.607 296.5,-388.607 303.5,-388.607\" stroke=\"black\"/>\n",
       "</g>\n",
       "<!-- 139654148192296 -->\n",
       "<g class=\"node\" id=\"node7\"><title>139654148192296</title>\n",
       "<polygon fill=\"none\" points=\"173,-249.5 173,-295.5 427,-295.5 427,-249.5 173,-249.5\" stroke=\"black\"/>\n",
       "<text font-family=\"Times,serif\" font-size=\"14.00\" text-anchor=\"middle\" x=\"224\" y=\"-268.8\">dense_1: Dense</text>\n",
       "<polyline fill=\"none\" points=\"275,-249.5 275,-295.5 \" stroke=\"black\"/>\n",
       "<text font-family=\"Times,serif\" font-size=\"14.00\" text-anchor=\"middle\" x=\"302.5\" y=\"-280.3\">input:</text>\n",
       "<polyline fill=\"none\" points=\"275,-272.5 330,-272.5 \" stroke=\"black\"/>\n",
       "<text font-family=\"Times,serif\" font-size=\"14.00\" text-anchor=\"middle\" x=\"302.5\" y=\"-257.3\">output:</text>\n",
       "<polyline fill=\"none\" points=\"330,-249.5 330,-295.5 \" stroke=\"black\"/>\n",
       "<text font-family=\"Times,serif\" font-size=\"14.00\" text-anchor=\"middle\" x=\"378.5\" y=\"-280.3\">(None, 1, 20)</text>\n",
       "<polyline fill=\"none\" points=\"330,-272.5 427,-272.5 \" stroke=\"black\"/>\n",
       "<text font-family=\"Times,serif\" font-size=\"14.00\" text-anchor=\"middle\" x=\"378.5\" y=\"-257.3\">(None, 1, 100)</text>\n",
       "</g>\n",
       "<!-- 139654148274888&#45;&gt;139654148192296 -->\n",
       "<g class=\"edge\" id=\"edge9\"><title>139654148274888-&gt;139654148192296</title>\n",
       "<path d=\"M300,-332.366C300,-324.152 300,-314.658 300,-305.725\" fill=\"none\" stroke=\"black\"/>\n",
       "<polygon fill=\"black\" points=\"303.5,-305.607 300,-295.607 296.5,-305.607 303.5,-305.607\" stroke=\"black\"/>\n",
       "</g>\n",
       "<!-- 139654148375216 -->\n",
       "<g class=\"node\" id=\"node8\"><title>139654148375216</title>\n",
       "<polygon fill=\"none\" points=\"161.5,-166.5 161.5,-212.5 438.5,-212.5 438.5,-166.5 161.5,-166.5\" stroke=\"black\"/>\n",
       "<text font-family=\"Times,serif\" font-size=\"14.00\" text-anchor=\"middle\" x=\"224\" y=\"-185.8\">dropout_1: Dropout</text>\n",
       "<polyline fill=\"none\" points=\"286.5,-166.5 286.5,-212.5 \" stroke=\"black\"/>\n",
       "<text font-family=\"Times,serif\" font-size=\"14.00\" text-anchor=\"middle\" x=\"314\" y=\"-197.3\">input:</text>\n",
       "<polyline fill=\"none\" points=\"286.5,-189.5 341.5,-189.5 \" stroke=\"black\"/>\n",
       "<text font-family=\"Times,serif\" font-size=\"14.00\" text-anchor=\"middle\" x=\"314\" y=\"-174.3\">output:</text>\n",
       "<polyline fill=\"none\" points=\"341.5,-166.5 341.5,-212.5 \" stroke=\"black\"/>\n",
       "<text font-family=\"Times,serif\" font-size=\"14.00\" text-anchor=\"middle\" x=\"390\" y=\"-197.3\">(None, 1, 100)</text>\n",
       "<polyline fill=\"none\" points=\"341.5,-189.5 438.5,-189.5 \" stroke=\"black\"/>\n",
       "<text font-family=\"Times,serif\" font-size=\"14.00\" text-anchor=\"middle\" x=\"390\" y=\"-174.3\">(None, 1, 100)</text>\n",
       "</g>\n",
       "<!-- 139654148192296&#45;&gt;139654148375216 -->\n",
       "<g class=\"edge\" id=\"edge10\"><title>139654148192296-&gt;139654148375216</title>\n",
       "<path d=\"M300,-249.366C300,-241.152 300,-231.658 300,-222.725\" fill=\"none\" stroke=\"black\"/>\n",
       "<polygon fill=\"black\" points=\"303.5,-222.607 300,-212.607 296.5,-222.607 303.5,-222.607\" stroke=\"black\"/>\n",
       "</g>\n",
       "<!-- 139654148377120 -->\n",
       "<g class=\"node\" id=\"node9\"><title>139654148377120</title>\n",
       "<polygon fill=\"none\" points=\"169,-83.5 169,-129.5 431,-129.5 431,-83.5 169,-83.5\" stroke=\"black\"/>\n",
       "<text font-family=\"Times,serif\" font-size=\"14.00\" text-anchor=\"middle\" x=\"224\" y=\"-102.8\">flatten_1: Flatten</text>\n",
       "<polyline fill=\"none\" points=\"279,-83.5 279,-129.5 \" stroke=\"black\"/>\n",
       "<text font-family=\"Times,serif\" font-size=\"14.00\" text-anchor=\"middle\" x=\"306.5\" y=\"-114.3\">input:</text>\n",
       "<polyline fill=\"none\" points=\"279,-106.5 334,-106.5 \" stroke=\"black\"/>\n",
       "<text font-family=\"Times,serif\" font-size=\"14.00\" text-anchor=\"middle\" x=\"306.5\" y=\"-91.3\">output:</text>\n",
       "<polyline fill=\"none\" points=\"334,-83.5 334,-129.5 \" stroke=\"black\"/>\n",
       "<text font-family=\"Times,serif\" font-size=\"14.00\" text-anchor=\"middle\" x=\"382.5\" y=\"-114.3\">(None, 1, 100)</text>\n",
       "<polyline fill=\"none\" points=\"334,-106.5 431,-106.5 \" stroke=\"black\"/>\n",
       "<text font-family=\"Times,serif\" font-size=\"14.00\" text-anchor=\"middle\" x=\"382.5\" y=\"-91.3\">(None, 100)</text>\n",
       "</g>\n",
       "<!-- 139654148375216&#45;&gt;139654148377120 -->\n",
       "<g class=\"edge\" id=\"edge11\"><title>139654148375216-&gt;139654148377120</title>\n",
       "<path d=\"M300,-166.366C300,-158.152 300,-148.658 300,-139.725\" fill=\"none\" stroke=\"black\"/>\n",
       "<polygon fill=\"black\" points=\"303.5,-139.607 300,-129.607 296.5,-139.607 303.5,-139.607\" stroke=\"black\"/>\n",
       "</g>\n",
       "<!-- 139654148375776 -->\n",
       "<g class=\"node\" id=\"node10\"><title>139654148375776</title>\n",
       "<polygon fill=\"none\" points=\"180,-0.5 180,-46.5 420,-46.5 420,-0.5 180,-0.5\" stroke=\"black\"/>\n",
       "<text font-family=\"Times,serif\" font-size=\"14.00\" text-anchor=\"middle\" x=\"231\" y=\"-19.8\">dense_2: Dense</text>\n",
       "<polyline fill=\"none\" points=\"282,-0.5 282,-46.5 \" stroke=\"black\"/>\n",
       "<text font-family=\"Times,serif\" font-size=\"14.00\" text-anchor=\"middle\" x=\"309.5\" y=\"-31.3\">input:</text>\n",
       "<polyline fill=\"none\" points=\"282,-23.5 337,-23.5 \" stroke=\"black\"/>\n",
       "<text font-family=\"Times,serif\" font-size=\"14.00\" text-anchor=\"middle\" x=\"309.5\" y=\"-8.3\">output:</text>\n",
       "<polyline fill=\"none\" points=\"337,-0.5 337,-46.5 \" stroke=\"black\"/>\n",
       "<text font-family=\"Times,serif\" font-size=\"14.00\" text-anchor=\"middle\" x=\"378.5\" y=\"-31.3\">(None, 100)</text>\n",
       "<polyline fill=\"none\" points=\"337,-23.5 420,-23.5 \" stroke=\"black\"/>\n",
       "<text font-family=\"Times,serif\" font-size=\"14.00\" text-anchor=\"middle\" x=\"378.5\" y=\"-8.3\">(None, 2)</text>\n",
       "</g>\n",
       "<!-- 139654148377120&#45;&gt;139654148375776 -->\n",
       "<g class=\"edge\" id=\"edge12\"><title>139654148377120-&gt;139654148375776</title>\n",
       "<path d=\"M300,-83.3664C300,-75.1516 300,-65.6579 300,-56.7252\" fill=\"none\" stroke=\"black\"/>\n",
       "<polygon fill=\"black\" points=\"303.5,-56.6068 300,-46.6068 296.5,-56.6069 303.5,-56.6068\" stroke=\"black\"/>\n",
       "</g>\n",
       "</g>\n",
       "</svg>"
      ],
      "text/plain": [
       "<IPython.core.display.SVG object>"
      ]
     },
     "execution_count": 35,
     "metadata": {},
     "output_type": "execute_result"
    }
   ],
   "source": [
    "SVG(model_to_dot(convolution_model, show_shapes=True, show_layer_names=True).create(prog='dot', format='svg'))"
   ]
  },
  {
   "cell_type": "code",
   "execution_count": 15,
   "metadata": {},
   "outputs": [
    {
     "name": "stdout",
     "output_type": "stream",
     "text": [
      "Train on 59352 samples, validate on 14838 samples\n",
      "Epoch 1/10\n",
      "59352/59352 [==============================] - 2s 42us/step - loss: 0.3639 - acc: 0.8430 - val_loss: 0.3850 - val_acc: 0.8272\n",
      "Epoch 2/10\n",
      "59352/59352 [==============================] - 2s 41us/step - loss: 0.3624 - acc: 0.8424 - val_loss: 0.3909 - val_acc: 0.8238\n",
      "Epoch 3/10\n",
      "59352/59352 [==============================] - 2s 41us/step - loss: 0.3576 - acc: 0.8459 - val_loss: 0.3828 - val_acc: 0.8310\n",
      "Epoch 4/10\n",
      "59352/59352 [==============================] - 2s 41us/step - loss: 0.3552 - acc: 0.8464 - val_loss: 0.3790 - val_acc: 0.8309\n",
      "Epoch 5/10\n",
      "59352/59352 [==============================] - 2s 41us/step - loss: 0.3524 - acc: 0.8480 - val_loss: 0.3915 - val_acc: 0.8229\n",
      "Epoch 6/10\n",
      "59352/59352 [==============================] - 2s 41us/step - loss: 0.3530 - acc: 0.8478 - val_loss: 0.3821 - val_acc: 0.8300\n",
      "Epoch 7/10\n",
      "59352/59352 [==============================] - 2s 41us/step - loss: 0.3501 - acc: 0.8491 - val_loss: 0.3791 - val_acc: 0.8277\n",
      "Epoch 8/10\n",
      "59352/59352 [==============================] - 2s 41us/step - loss: 0.3488 - acc: 0.8513 - val_loss: 0.3841 - val_acc: 0.8265\n",
      "Epoch 9/10\n",
      "59352/59352 [==============================] - 2s 41us/step - loss: 0.3457 - acc: 0.8524 - val_loss: 0.3727 - val_acc: 0.8323\n",
      "Epoch 10/10\n",
      "59352/59352 [==============================] - 2s 41us/step - loss: 0.3448 - acc: 0.8522 - val_loss: 0.3758 - val_acc: 0.8323\n",
      "Test loss: 0.3757993729629676\n",
      "Test accuracy: 0.8322550209324738\n"
     ]
    }
   ],
   "source": [
    "convolution_model.fit([x_train, x_rc_train], y_train,\n",
    "          batch_size=100,\n",
    "          epochs=10,\n",
    "          verbose=1,\n",
    "          validation_data=([x_test, x_rc_test], y_test))\n",
    "score = convolution_model.evaluate([x_test, x_rc_test], y_test, verbose=0)\n",
    "print('Test loss:', score[0])\n",
    "print('Test accuracy:', score[1])"
   ]
  },
  {
   "cell_type": "code",
   "execution_count": 16,
   "metadata": {},
   "outputs": [
    {
     "data": {
      "text/plain": [
       "0.9127772527528016"
      ]
     },
     "execution_count": 16,
     "metadata": {},
     "output_type": "execute_result"
    }
   ],
   "source": [
    "probs = convolution_model.predict([x_test, x_rc_test])\n",
    "\n",
    "sklearn.metrics.roc_auc_score([y[1] for y in y_test], probs[:,1], )"
   ]
  },
  {
   "cell_type": "markdown",
   "metadata": {},
   "source": [
    "### LSTM Model"
   ]
  },
  {
   "cell_type": "code",
   "execution_count": 101,
   "metadata": {},
   "outputs": [
    {
     "name": "stdout",
     "output_type": "stream",
     "text": [
      "Convolution Params: 4000\n",
      "LSTM Params: 12000.0\n",
      "Attention Params: 1550.0\n",
      "Dense Params: 20000\n"
     ]
    },
    {
     "data": {
      "text/plain": [
       "37550.0"
      ]
     },
     "execution_count": 101,
     "metadata": {},
     "output_type": "execute_result"
    }
   ],
   "source": [
    "seq_size = 150\n",
    "num_classes = 2\n",
    "num_motifs = 50\n",
    "motif_size = 20\n",
    "adjacent_bp_pool_size = 10\n",
    "attention_dim = 50 \n",
    "attention_hops = 1 \n",
    "num_dense_neurons = 200 \n",
    "count_num_params(seq_size,\n",
    "    num_motifs, \n",
    "    motif_size,\n",
    "    adjacent_bp_pool_size,\n",
    "    attention_dim,\n",
    "    attention_hops,\n",
    "    num_dense_neurons\n",
    "    )"
   ]
  },
  {
   "cell_type": "code",
   "execution_count": 102,
   "metadata": {},
   "outputs": [
    {
     "name": "stdout",
     "output_type": "stream",
     "text": [
      "forward_motif_scores (?, 200, 50)\n",
      "cropped_fwd_scores (?, 150, 50)\n",
      "flipped_rev_scores (?, 150, 50)\n",
      "concatenated_motif_scores (?, 150, 100)\n",
      "pooled_scores (?, 15, 100)\n",
      "forward_hidden_states (?, ?, 15)\n",
      "reverse_hidden_states (?, ?, 15)\n",
      "bilstm_hidden_states (?, ?, 30)\n"
     ]
    }
   ],
   "source": [
    "total_seq_length = len(fasta_seq[0])\n",
    "\n",
    "input_fwd = Input(shape=(total_seq_length,4), name='input_fwd')\n",
    "input_rev = Input(shape=(total_seq_length,4), name='input_rev')\n",
    "\n",
    "# find motifs\n",
    "convolution_layer = Conv1D(filters=num_motifs, \n",
    "    kernel_size=motif_size,\n",
    "    activation='relu',\n",
    "    input_shape=(total_seq_length,4),\n",
    "    name='convolution_layer',\n",
    "    padding = 'same'\n",
    "    )\n",
    "forward_motif_scores = convolution_layer(input_fwd)\n",
    "reverse_motif_scores = convolution_layer(input_rev)\n",
    "print('forward_motif_scores', forward_motif_scores.shape)\n",
    "\n",
    "# crop motif scores to avoid parts of sequence where motif score is computed in only one direction\n",
    "to_crop = int((total_seq_length - seq_size)/2)\n",
    "crop_layer = Cropping1D(cropping=(to_crop, to_crop), \n",
    "    name='crop_layer')\n",
    "cropped_fwd_scores = crop_layer(forward_motif_scores)\n",
    "cropped_rev_scores = crop_layer(reverse_motif_scores)\n",
    "print('cropped_fwd_scores', cropped_fwd_scores.shape)\n",
    "\n",
    "# flip motif scores\n",
    "flip_layer = Lambda(lambda x: K.reverse(x,axes=0),\n",
    "    output_shape=(seq_size, num_motifs),\n",
    "    name='flip_layer')\n",
    "flipped_rev_scores = flip_layer(cropped_rev_scores)\n",
    "print('flipped_rev_scores', flipped_rev_scores.shape)\n",
    "\n",
    "# concatenate motif scores\n",
    "concatenate_layer = keras.layers.Concatenate(axis=2, name='concatenate_layer')\n",
    "concatenated_motif_scores = concatenate_layer([cropped_fwd_scores, flipped_rev_scores])\n",
    "print('concatenated_motif_scores', concatenated_motif_scores.shape)\n",
    "\n",
    "# pool across length of sequence\n",
    "sequence_pooling_layer = MaxPool1D(pool_size=adjacent_bp_pool_size, \n",
    "    strides=adjacent_bp_pool_size,\n",
    "    name='sequence_pooling_layer')\n",
    "pooled_scores = sequence_pooling_layer(concatenated_motif_scores)\n",
    "print('pooled_scores', pooled_scores.shape)\n",
    "\n",
    "# bidirectional LSTM\n",
    "forward_lstm_layer = LSTM(units=int(seq_size/adjacent_bp_pool_size),\n",
    "    return_sequences=True,\n",
    "    name = 'forward_lstm_layer'\n",
    "    )\n",
    "forward_hidden_states = forward_lstm_layer(pooled_scores)\n",
    "print('forward_hidden_states', forward_hidden_states.shape)\n",
    "\n",
    "reverse_lstm_layer = LSTM(units=int(seq_size/adjacent_bp_pool_size),\n",
    "    return_sequences=True,\n",
    "    name = 'reverse_lstm_layer',\n",
    "    go_backwards=True\n",
    "    )\n",
    "reverse_hidden_states = reverse_lstm_layer(pooled_scores)\n",
    "print('reverse_hidden_states', reverse_hidden_states.shape)\n",
    "\n",
    "# concatenate lstm hidden states\n",
    "lstm_concatenate_layer = Concatenate(axis=2)\n",
    "bilstm_hidden_states = lstm_concatenate_layer([forward_hidden_states, reverse_hidden_states])\n",
    "print('bilstm_hidden_states', bilstm_hidden_states.shape)\n",
    "\n",
    "# fully connected layer\n",
    "dense_layer = Dense(num_dense_neurons, \n",
    "    activation='relu', \n",
    "    name = 'dense_layer'\n",
    "    )\n",
    "\n",
    "dense_output = dense_layer(bilstm_hidden_states)\n",
    "\n",
    "# drop out\n",
    "drop_out = Dropout(0.25,name='dense_dropout')(dense_output)\n",
    "\n",
    "# make prediction\n",
    "flattened = Flatten(name='flatten')(drop_out)\n",
    "predictions = Dense(num_classes,\n",
    "                    name='predictions',\n",
    "                    activation = 'softmax', \n",
    "                   )(flattened)\n",
    "\n"
   ]
  },
  {
   "cell_type": "code",
   "execution_count": 103,
   "metadata": {
    "collapsed": true
   },
   "outputs": [],
   "source": [
    "# define and compile model\n",
    "bilstm_model = Model(inputs=[input_fwd, input_rev], outputs=predictions)\n",
    "\n",
    "bilstm_model.compile(loss=keras.losses.categorical_crossentropy,\n",
    "              optimizer=keras.optimizers.Adam(),\n",
    "              metrics=['accuracy'])"
   ]
  },
  {
   "cell_type": "code",
   "execution_count": 104,
   "metadata": {},
   "outputs": [
    {
     "data": {
      "image/svg+xml": [
       "<svg height=\"968pt\" viewBox=\"0.00 0.00 676.00 968.00\" width=\"676pt\" xmlns=\"http://www.w3.org/2000/svg\" xmlns:xlink=\"http://www.w3.org/1999/xlink\">\n",
       "<g class=\"graph\" id=\"graph0\" transform=\"scale(1 1) rotate(0) translate(4 964)\">\n",
       "<title>G</title>\n",
       "<polygon fill=\"white\" points=\"-4,4 -4,-964 672,-964 672,4 -4,4\" stroke=\"none\"/>\n",
       "<!-- 139650392903072 -->\n",
       "<g class=\"node\" id=\"node1\"><title>139650392903072</title>\n",
       "<polygon fill=\"none\" points=\"34.5,-913.5 34.5,-959.5 326.5,-959.5 326.5,-913.5 34.5,-913.5\" stroke=\"black\"/>\n",
       "<text font-family=\"Times,serif\" font-size=\"14.00\" text-anchor=\"middle\" x=\"104.5\" y=\"-932.8\">input_fwd: InputLayer</text>\n",
       "<polyline fill=\"none\" points=\"174.5,-913.5 174.5,-959.5 \" stroke=\"black\"/>\n",
       "<text font-family=\"Times,serif\" font-size=\"14.00\" text-anchor=\"middle\" x=\"202\" y=\"-944.3\">input:</text>\n",
       "<polyline fill=\"none\" points=\"174.5,-936.5 229.5,-936.5 \" stroke=\"black\"/>\n",
       "<text font-family=\"Times,serif\" font-size=\"14.00\" text-anchor=\"middle\" x=\"202\" y=\"-921.3\">output:</text>\n",
       "<polyline fill=\"none\" points=\"229.5,-913.5 229.5,-959.5 \" stroke=\"black\"/>\n",
       "<text font-family=\"Times,serif\" font-size=\"14.00\" text-anchor=\"middle\" x=\"278\" y=\"-944.3\">(None, 200, 4)</text>\n",
       "<polyline fill=\"none\" points=\"229.5,-936.5 326.5,-936.5 \" stroke=\"black\"/>\n",
       "<text font-family=\"Times,serif\" font-size=\"14.00\" text-anchor=\"middle\" x=\"278\" y=\"-921.3\">(None, 200, 4)</text>\n",
       "</g>\n",
       "<!-- 139650392903520 -->\n",
       "<g class=\"node\" id=\"node3\"><title>139650392903520</title>\n",
       "<polygon fill=\"none\" points=\"171,-830.5 171,-876.5 498,-876.5 498,-830.5 171,-830.5\" stroke=\"black\"/>\n",
       "<text font-family=\"Times,serif\" font-size=\"14.00\" text-anchor=\"middle\" x=\"255\" y=\"-849.8\">convolution_layer: Conv1D</text>\n",
       "<polyline fill=\"none\" points=\"339,-830.5 339,-876.5 \" stroke=\"black\"/>\n",
       "<text font-family=\"Times,serif\" font-size=\"14.00\" text-anchor=\"middle\" x=\"366.5\" y=\"-861.3\">input:</text>\n",
       "<polyline fill=\"none\" points=\"339,-853.5 394,-853.5 \" stroke=\"black\"/>\n",
       "<text font-family=\"Times,serif\" font-size=\"14.00\" text-anchor=\"middle\" x=\"366.5\" y=\"-838.3\">output:</text>\n",
       "<polyline fill=\"none\" points=\"394,-830.5 394,-876.5 \" stroke=\"black\"/>\n",
       "<text font-family=\"Times,serif\" font-size=\"14.00\" text-anchor=\"middle\" x=\"446\" y=\"-861.3\">(None, 200, 4)</text>\n",
       "<polyline fill=\"none\" points=\"394,-853.5 498,-853.5 \" stroke=\"black\"/>\n",
       "<text font-family=\"Times,serif\" font-size=\"14.00\" text-anchor=\"middle\" x=\"446\" y=\"-838.3\">(None, 200, 50)</text>\n",
       "</g>\n",
       "<!-- 139650392903072&#45;&gt;139650392903520 -->\n",
       "<g class=\"edge\" id=\"edge1\"><title>139650392903072-&gt;139650392903520</title>\n",
       "<path d=\"M222.581,-913.366C241.425,-903.455 263.808,-891.682 283.587,-881.279\" fill=\"none\" stroke=\"black\"/>\n",
       "<polygon fill=\"black\" points=\"285.249,-884.36 292.47,-876.607 281.99,-878.164 285.249,-884.36\" stroke=\"black\"/>\n",
       "</g>\n",
       "<!-- 139650392903184 -->\n",
       "<g class=\"node\" id=\"node2\"><title>139650392903184</title>\n",
       "<polygon fill=\"none\" points=\"344.5,-913.5 344.5,-959.5 632.5,-959.5 632.5,-913.5 344.5,-913.5\" stroke=\"black\"/>\n",
       "<text font-family=\"Times,serif\" font-size=\"14.00\" text-anchor=\"middle\" x=\"412.5\" y=\"-932.8\">input_rev: InputLayer</text>\n",
       "<polyline fill=\"none\" points=\"480.5,-913.5 480.5,-959.5 \" stroke=\"black\"/>\n",
       "<text font-family=\"Times,serif\" font-size=\"14.00\" text-anchor=\"middle\" x=\"508\" y=\"-944.3\">input:</text>\n",
       "<polyline fill=\"none\" points=\"480.5,-936.5 535.5,-936.5 \" stroke=\"black\"/>\n",
       "<text font-family=\"Times,serif\" font-size=\"14.00\" text-anchor=\"middle\" x=\"508\" y=\"-921.3\">output:</text>\n",
       "<polyline fill=\"none\" points=\"535.5,-913.5 535.5,-959.5 \" stroke=\"black\"/>\n",
       "<text font-family=\"Times,serif\" font-size=\"14.00\" text-anchor=\"middle\" x=\"584\" y=\"-944.3\">(None, 200, 4)</text>\n",
       "<polyline fill=\"none\" points=\"535.5,-936.5 632.5,-936.5 \" stroke=\"black\"/>\n",
       "<text font-family=\"Times,serif\" font-size=\"14.00\" text-anchor=\"middle\" x=\"584\" y=\"-921.3\">(None, 200, 4)</text>\n",
       "</g>\n",
       "<!-- 139650392903184&#45;&gt;139650392903520 -->\n",
       "<g class=\"edge\" id=\"edge2\"><title>139650392903184-&gt;139650392903520</title>\n",
       "<path d=\"M446.419,-913.366C427.575,-903.455 405.192,-891.682 385.413,-881.279\" fill=\"none\" stroke=\"black\"/>\n",
       "<polygon fill=\"black\" points=\"387.01,-878.164 376.53,-876.607 383.751,-884.36 387.01,-878.164\" stroke=\"black\"/>\n",
       "</g>\n",
       "<!-- 139650392217808 -->\n",
       "<g class=\"node\" id=\"node4\"><title>139650392217808</title>\n",
       "<polygon fill=\"none\" points=\"180.5,-747.5 180.5,-793.5 488.5,-793.5 488.5,-747.5 180.5,-747.5\" stroke=\"black\"/>\n",
       "<text font-family=\"Times,serif\" font-size=\"14.00\" text-anchor=\"middle\" x=\"255\" y=\"-766.8\">crop_layer: Cropping1D</text>\n",
       "<polyline fill=\"none\" points=\"329.5,-747.5 329.5,-793.5 \" stroke=\"black\"/>\n",
       "<text font-family=\"Times,serif\" font-size=\"14.00\" text-anchor=\"middle\" x=\"357\" y=\"-778.3\">input:</text>\n",
       "<polyline fill=\"none\" points=\"329.5,-770.5 384.5,-770.5 \" stroke=\"black\"/>\n",
       "<text font-family=\"Times,serif\" font-size=\"14.00\" text-anchor=\"middle\" x=\"357\" y=\"-755.3\">output:</text>\n",
       "<polyline fill=\"none\" points=\"384.5,-747.5 384.5,-793.5 \" stroke=\"black\"/>\n",
       "<text font-family=\"Times,serif\" font-size=\"14.00\" text-anchor=\"middle\" x=\"436.5\" y=\"-778.3\">(None, 200, 50)</text>\n",
       "<polyline fill=\"none\" points=\"384.5,-770.5 488.5,-770.5 \" stroke=\"black\"/>\n",
       "<text font-family=\"Times,serif\" font-size=\"14.00\" text-anchor=\"middle\" x=\"436.5\" y=\"-755.3\">(None, 150, 50)</text>\n",
       "</g>\n",
       "<!-- 139650392903520&#45;&gt;139650392217808 -->\n",
       "<g class=\"edge\" id=\"edge3\"><title>139650392903520-&gt;139650392217808</title>\n",
       "<path d=\"M334.5,-830.366C334.5,-822.152 334.5,-812.658 334.5,-803.725\" fill=\"none\" stroke=\"black\"/>\n",
       "<polygon fill=\"black\" points=\"338,-803.607 334.5,-793.607 331,-803.607 338,-803.607\" stroke=\"black\"/>\n",
       "</g>\n",
       "<!-- 139650392308984 -->\n",
       "<g class=\"node\" id=\"node5\"><title>139650392308984</title>\n",
       "<polygon fill=\"none\" points=\"110,-664.5 110,-710.5 391,-710.5 391,-664.5 110,-664.5\" stroke=\"black\"/>\n",
       "<text font-family=\"Times,serif\" font-size=\"14.00\" text-anchor=\"middle\" x=\"171\" y=\"-683.8\">flip_layer: Lambda</text>\n",
       "<polyline fill=\"none\" points=\"232,-664.5 232,-710.5 \" stroke=\"black\"/>\n",
       "<text font-family=\"Times,serif\" font-size=\"14.00\" text-anchor=\"middle\" x=\"259.5\" y=\"-695.3\">input:</text>\n",
       "<polyline fill=\"none\" points=\"232,-687.5 287,-687.5 \" stroke=\"black\"/>\n",
       "<text font-family=\"Times,serif\" font-size=\"14.00\" text-anchor=\"middle\" x=\"259.5\" y=\"-672.3\">output:</text>\n",
       "<polyline fill=\"none\" points=\"287,-664.5 287,-710.5 \" stroke=\"black\"/>\n",
       "<text font-family=\"Times,serif\" font-size=\"14.00\" text-anchor=\"middle\" x=\"339\" y=\"-695.3\">(None, 150, 50)</text>\n",
       "<polyline fill=\"none\" points=\"287,-687.5 391,-687.5 \" stroke=\"black\"/>\n",
       "<text font-family=\"Times,serif\" font-size=\"14.00\" text-anchor=\"middle\" x=\"339\" y=\"-672.3\">(None, 150, 50)</text>\n",
       "</g>\n",
       "<!-- 139650392217808&#45;&gt;139650392308984 -->\n",
       "<g class=\"edge\" id=\"edge5\"><title>139650392217808-&gt;139650392308984</title>\n",
       "<path d=\"M311.547,-747.366C302.009,-738.169 290.809,-727.369 280.624,-717.548\" fill=\"none\" stroke=\"black\"/>\n",
       "<polygon fill=\"black\" points=\"283.054,-715.029 273.426,-710.607 278.195,-720.068 283.054,-715.029\" stroke=\"black\"/>\n",
       "</g>\n",
       "<!-- 139650392386024 -->\n",
       "<g class=\"node\" id=\"node6\"><title>139650392386024</title>\n",
       "<polygon fill=\"none\" points=\"109.5,-581.5 109.5,-627.5 559.5,-627.5 559.5,-581.5 109.5,-581.5\" stroke=\"black\"/>\n",
       "<text font-family=\"Times,serif\" font-size=\"14.00\" text-anchor=\"middle\" x=\"203.5\" y=\"-600.8\">concatenate_layer: Concatenate</text>\n",
       "<polyline fill=\"none\" points=\"297.5,-581.5 297.5,-627.5 \" stroke=\"black\"/>\n",
       "<text font-family=\"Times,serif\" font-size=\"14.00\" text-anchor=\"middle\" x=\"325\" y=\"-612.3\">input:</text>\n",
       "<polyline fill=\"none\" points=\"297.5,-604.5 352.5,-604.5 \" stroke=\"black\"/>\n",
       "<text font-family=\"Times,serif\" font-size=\"14.00\" text-anchor=\"middle\" x=\"325\" y=\"-589.3\">output:</text>\n",
       "<polyline fill=\"none\" points=\"352.5,-581.5 352.5,-627.5 \" stroke=\"black\"/>\n",
       "<text font-family=\"Times,serif\" font-size=\"14.00\" text-anchor=\"middle\" x=\"456\" y=\"-612.3\">[(None, 150, 50), (None, 150, 50)]</text>\n",
       "<polyline fill=\"none\" points=\"352.5,-604.5 559.5,-604.5 \" stroke=\"black\"/>\n",
       "<text font-family=\"Times,serif\" font-size=\"14.00\" text-anchor=\"middle\" x=\"456\" y=\"-589.3\">(None, 150, 100)</text>\n",
       "</g>\n",
       "<!-- 139650392217808&#45;&gt;139650392386024 -->\n",
       "<g class=\"edge\" id=\"edge6\"><title>139650392217808-&gt;139650392386024</title>\n",
       "<path d=\"M369.762,-747.478C381.849,-737.9 393.966,-725.522 400.5,-711 409.071,-691.95 409.071,-683.05 400.5,-664 395.396,-652.655 386.883,-642.618 377.64,-634.203\" fill=\"none\" stroke=\"black\"/>\n",
       "<polygon fill=\"black\" points=\"379.653,-631.321 369.762,-627.522 375.125,-636.659 379.653,-631.321\" stroke=\"black\"/>\n",
       "</g>\n",
       "<!-- 139650392308984&#45;&gt;139650392386024 -->\n",
       "<g class=\"edge\" id=\"edge7\"><title>139650392308984-&gt;139650392386024</title>\n",
       "<path d=\"M273.453,-664.366C282.991,-655.169 294.191,-644.369 304.376,-634.548\" fill=\"none\" stroke=\"black\"/>\n",
       "<polygon fill=\"black\" points=\"306.805,-637.068 311.574,-627.607 301.946,-632.029 306.805,-637.068\" stroke=\"black\"/>\n",
       "</g>\n",
       "<!-- 139650392308536 -->\n",
       "<g class=\"node\" id=\"node7\"><title>139650392308536</title>\n",
       "<polygon fill=\"none\" points=\"132.5,-498.5 132.5,-544.5 536.5,-544.5 536.5,-498.5 132.5,-498.5\" stroke=\"black\"/>\n",
       "<text font-family=\"Times,serif\" font-size=\"14.00\" text-anchor=\"middle\" x=\"252\" y=\"-517.8\">sequence_pooling_layer: MaxPooling1D</text>\n",
       "<polyline fill=\"none\" points=\"371.5,-498.5 371.5,-544.5 \" stroke=\"black\"/>\n",
       "<text font-family=\"Times,serif\" font-size=\"14.00\" text-anchor=\"middle\" x=\"399\" y=\"-529.3\">input:</text>\n",
       "<polyline fill=\"none\" points=\"371.5,-521.5 426.5,-521.5 \" stroke=\"black\"/>\n",
       "<text font-family=\"Times,serif\" font-size=\"14.00\" text-anchor=\"middle\" x=\"399\" y=\"-506.3\">output:</text>\n",
       "<polyline fill=\"none\" points=\"426.5,-498.5 426.5,-544.5 \" stroke=\"black\"/>\n",
       "<text font-family=\"Times,serif\" font-size=\"14.00\" text-anchor=\"middle\" x=\"481.5\" y=\"-529.3\">(None, 150, 100)</text>\n",
       "<polyline fill=\"none\" points=\"426.5,-521.5 536.5,-521.5 \" stroke=\"black\"/>\n",
       "<text font-family=\"Times,serif\" font-size=\"14.00\" text-anchor=\"middle\" x=\"481.5\" y=\"-506.3\">(None, 15, 100)</text>\n",
       "</g>\n",
       "<!-- 139650392386024&#45;&gt;139650392308536 -->\n",
       "<g class=\"edge\" id=\"edge8\"><title>139650392386024-&gt;139650392308536</title>\n",
       "<path d=\"M334.5,-581.366C334.5,-573.152 334.5,-563.658 334.5,-554.725\" fill=\"none\" stroke=\"black\"/>\n",
       "<polygon fill=\"black\" points=\"338,-554.607 334.5,-544.607 331,-554.607 338,-554.607\" stroke=\"black\"/>\n",
       "</g>\n",
       "<!-- 139650392476472 -->\n",
       "<g class=\"node\" id=\"node8\"><title>139650392476472</title>\n",
       "<polygon fill=\"none\" points=\"0,-415.5 0,-461.5 327,-461.5 327,-415.5 0,-415.5\" stroke=\"black\"/>\n",
       "<text font-family=\"Times,serif\" font-size=\"14.00\" text-anchor=\"middle\" x=\"84\" y=\"-434.8\">forward_lstm_layer: LSTM</text>\n",
       "<polyline fill=\"none\" points=\"168,-415.5 168,-461.5 \" stroke=\"black\"/>\n",
       "<text font-family=\"Times,serif\" font-size=\"14.00\" text-anchor=\"middle\" x=\"195.5\" y=\"-446.3\">input:</text>\n",
       "<polyline fill=\"none\" points=\"168,-438.5 223,-438.5 \" stroke=\"black\"/>\n",
       "<text font-family=\"Times,serif\" font-size=\"14.00\" text-anchor=\"middle\" x=\"195.5\" y=\"-423.3\">output:</text>\n",
       "<polyline fill=\"none\" points=\"223,-415.5 223,-461.5 \" stroke=\"black\"/>\n",
       "<text font-family=\"Times,serif\" font-size=\"14.00\" text-anchor=\"middle\" x=\"275\" y=\"-446.3\">(None, 15, 100)</text>\n",
       "<polyline fill=\"none\" points=\"223,-438.5 327,-438.5 \" stroke=\"black\"/>\n",
       "<text font-family=\"Times,serif\" font-size=\"14.00\" text-anchor=\"middle\" x=\"275\" y=\"-423.3\">(None, 15, 15)</text>\n",
       "</g>\n",
       "<!-- 139650392308536&#45;&gt;139650392476472 -->\n",
       "<g class=\"edge\" id=\"edge9\"><title>139650392308536-&gt;139650392476472</title>\n",
       "<path d=\"M287.773,-498.366C266.661,-488.366 241.547,-476.47 219.44,-465.998\" fill=\"none\" stroke=\"black\"/>\n",
       "<polygon fill=\"black\" points=\"220.706,-462.725 210.17,-461.607 217.709,-469.051 220.706,-462.725\" stroke=\"black\"/>\n",
       "</g>\n",
       "<!-- 139650392476976 -->\n",
       "<g class=\"node\" id=\"node9\"><title>139650392476976</title>\n",
       "<polygon fill=\"none\" points=\"345,-415.5 345,-461.5 668,-461.5 668,-415.5 345,-415.5\" stroke=\"black\"/>\n",
       "<text font-family=\"Times,serif\" font-size=\"14.00\" text-anchor=\"middle\" x=\"427\" y=\"-434.8\">reverse_lstm_layer: LSTM</text>\n",
       "<polyline fill=\"none\" points=\"509,-415.5 509,-461.5 \" stroke=\"black\"/>\n",
       "<text font-family=\"Times,serif\" font-size=\"14.00\" text-anchor=\"middle\" x=\"536.5\" y=\"-446.3\">input:</text>\n",
       "<polyline fill=\"none\" points=\"509,-438.5 564,-438.5 \" stroke=\"black\"/>\n",
       "<text font-family=\"Times,serif\" font-size=\"14.00\" text-anchor=\"middle\" x=\"536.5\" y=\"-423.3\">output:</text>\n",
       "<polyline fill=\"none\" points=\"564,-415.5 564,-461.5 \" stroke=\"black\"/>\n",
       "<text font-family=\"Times,serif\" font-size=\"14.00\" text-anchor=\"middle\" x=\"616\" y=\"-446.3\">(None, 15, 100)</text>\n",
       "<polyline fill=\"none\" points=\"564,-438.5 668,-438.5 \" stroke=\"black\"/>\n",
       "<text font-family=\"Times,serif\" font-size=\"14.00\" text-anchor=\"middle\" x=\"616\" y=\"-423.3\">(None, 15, 15)</text>\n",
       "</g>\n",
       "<!-- 139650392308536&#45;&gt;139650392476976 -->\n",
       "<g class=\"edge\" id=\"edge10\"><title>139650392308536-&gt;139650392476976</title>\n",
       "<path d=\"M381.5,-498.366C402.736,-488.366 427.996,-476.47 450.233,-465.998\" fill=\"none\" stroke=\"black\"/>\n",
       "<polygon fill=\"black\" points=\"452.001,-469.034 459.557,-461.607 449.019,-462.701 452.001,-469.034\" stroke=\"black\"/>\n",
       "</g>\n",
       "<!-- 139650318112976 -->\n",
       "<g class=\"node\" id=\"node10\"><title>139650318112976</title>\n",
       "<polygon fill=\"none\" points=\"126,-332.5 126,-378.5 543,-378.5 543,-332.5 126,-332.5\" stroke=\"black\"/>\n",
       "<text font-family=\"Times,serif\" font-size=\"14.00\" text-anchor=\"middle\" x=\"210\" y=\"-351.8\">concatenate_9: Concatenate</text>\n",
       "<polyline fill=\"none\" points=\"294,-332.5 294,-378.5 \" stroke=\"black\"/>\n",
       "<text font-family=\"Times,serif\" font-size=\"14.00\" text-anchor=\"middle\" x=\"321.5\" y=\"-363.3\">input:</text>\n",
       "<polyline fill=\"none\" points=\"294,-355.5 349,-355.5 \" stroke=\"black\"/>\n",
       "<text font-family=\"Times,serif\" font-size=\"14.00\" text-anchor=\"middle\" x=\"321.5\" y=\"-340.3\">output:</text>\n",
       "<polyline fill=\"none\" points=\"349,-332.5 349,-378.5 \" stroke=\"black\"/>\n",
       "<text font-family=\"Times,serif\" font-size=\"14.00\" text-anchor=\"middle\" x=\"446\" y=\"-363.3\">[(None, 15, 15), (None, 15, 15)]</text>\n",
       "<polyline fill=\"none\" points=\"349,-355.5 543,-355.5 \" stroke=\"black\"/>\n",
       "<text font-family=\"Times,serif\" font-size=\"14.00\" text-anchor=\"middle\" x=\"446\" y=\"-340.3\">(None, 15, 30)</text>\n",
       "</g>\n",
       "<!-- 139650392476472&#45;&gt;139650318112976 -->\n",
       "<g class=\"edge\" id=\"edge11\"><title>139650392476472-&gt;139650318112976</title>\n",
       "<path d=\"M210.227,-415.366C231.339,-405.366 256.453,-393.47 278.56,-382.998\" fill=\"none\" stroke=\"black\"/>\n",
       "<polygon fill=\"black\" points=\"280.291,-386.051 287.83,-378.607 277.294,-379.725 280.291,-386.051\" stroke=\"black\"/>\n",
       "</g>\n",
       "<!-- 139650392476976&#45;&gt;139650318112976 -->\n",
       "<g class=\"edge\" id=\"edge12\"><title>139650392476976-&gt;139650318112976</title>\n",
       "<path d=\"M459.5,-415.366C438.264,-405.366 413.004,-393.47 390.767,-382.998\" fill=\"none\" stroke=\"black\"/>\n",
       "<polygon fill=\"black\" points=\"391.981,-379.701 381.443,-378.607 388.999,-386.034 391.981,-379.701\" stroke=\"black\"/>\n",
       "</g>\n",
       "<!-- 139650317061088 -->\n",
       "<g class=\"node\" id=\"node11\"><title>139650317061088</title>\n",
       "<polygon fill=\"none\" points=\"194,-249.5 194,-295.5 475,-295.5 475,-249.5 194,-249.5\" stroke=\"black\"/>\n",
       "<text font-family=\"Times,serif\" font-size=\"14.00\" text-anchor=\"middle\" x=\"255\" y=\"-268.8\">dense_layer: Dense</text>\n",
       "<polyline fill=\"none\" points=\"316,-249.5 316,-295.5 \" stroke=\"black\"/>\n",
       "<text font-family=\"Times,serif\" font-size=\"14.00\" text-anchor=\"middle\" x=\"343.5\" y=\"-280.3\">input:</text>\n",
       "<polyline fill=\"none\" points=\"316,-272.5 371,-272.5 \" stroke=\"black\"/>\n",
       "<text font-family=\"Times,serif\" font-size=\"14.00\" text-anchor=\"middle\" x=\"343.5\" y=\"-257.3\">output:</text>\n",
       "<polyline fill=\"none\" points=\"371,-249.5 371,-295.5 \" stroke=\"black\"/>\n",
       "<text font-family=\"Times,serif\" font-size=\"14.00\" text-anchor=\"middle\" x=\"423\" y=\"-280.3\">(None, 15, 30)</text>\n",
       "<polyline fill=\"none\" points=\"371,-272.5 475,-272.5 \" stroke=\"black\"/>\n",
       "<text font-family=\"Times,serif\" font-size=\"14.00\" text-anchor=\"middle\" x=\"423\" y=\"-257.3\">(None, 15, 200)</text>\n",
       "</g>\n",
       "<!-- 139650318112976&#45;&gt;139650317061088 -->\n",
       "<g class=\"edge\" id=\"edge13\"><title>139650318112976-&gt;139650317061088</title>\n",
       "<path d=\"M334.5,-332.366C334.5,-324.152 334.5,-314.658 334.5,-305.725\" fill=\"none\" stroke=\"black\"/>\n",
       "<polygon fill=\"black\" points=\"338,-305.607 334.5,-295.607 331,-305.607 338,-305.607\" stroke=\"black\"/>\n",
       "</g>\n",
       "<!-- 139650392572032 -->\n",
       "<g class=\"node\" id=\"node12\"><title>139650392572032</title>\n",
       "<polygon fill=\"none\" points=\"180.5,-166.5 180.5,-212.5 488.5,-212.5 488.5,-166.5 180.5,-166.5\" stroke=\"black\"/>\n",
       "<text font-family=\"Times,serif\" font-size=\"14.00\" text-anchor=\"middle\" x=\"255\" y=\"-185.8\">dense_dropout: Dropout</text>\n",
       "<polyline fill=\"none\" points=\"329.5,-166.5 329.5,-212.5 \" stroke=\"black\"/>\n",
       "<text font-family=\"Times,serif\" font-size=\"14.00\" text-anchor=\"middle\" x=\"357\" y=\"-197.3\">input:</text>\n",
       "<polyline fill=\"none\" points=\"329.5,-189.5 384.5,-189.5 \" stroke=\"black\"/>\n",
       "<text font-family=\"Times,serif\" font-size=\"14.00\" text-anchor=\"middle\" x=\"357\" y=\"-174.3\">output:</text>\n",
       "<polyline fill=\"none\" points=\"384.5,-166.5 384.5,-212.5 \" stroke=\"black\"/>\n",
       "<text font-family=\"Times,serif\" font-size=\"14.00\" text-anchor=\"middle\" x=\"436.5\" y=\"-197.3\">(None, 15, 200)</text>\n",
       "<polyline fill=\"none\" points=\"384.5,-189.5 488.5,-189.5 \" stroke=\"black\"/>\n",
       "<text font-family=\"Times,serif\" font-size=\"14.00\" text-anchor=\"middle\" x=\"436.5\" y=\"-174.3\">(None, 15, 200)</text>\n",
       "</g>\n",
       "<!-- 139650317061088&#45;&gt;139650392572032 -->\n",
       "<g class=\"edge\" id=\"edge14\"><title>139650317061088-&gt;139650392572032</title>\n",
       "<path d=\"M334.5,-249.366C334.5,-241.152 334.5,-231.658 334.5,-222.725\" fill=\"none\" stroke=\"black\"/>\n",
       "<polygon fill=\"black\" points=\"338,-222.607 334.5,-212.607 331,-222.607 338,-222.607\" stroke=\"black\"/>\n",
       "</g>\n",
       "<!-- 139650316318592 -->\n",
       "<g class=\"node\" id=\"node13\"><title>139650316318592</title>\n",
       "<polygon fill=\"none\" points=\"207,-83.5 207,-129.5 462,-129.5 462,-83.5 207,-83.5\" stroke=\"black\"/>\n",
       "<text font-family=\"Times,serif\" font-size=\"14.00\" text-anchor=\"middle\" x=\"255\" y=\"-102.8\">flatten: Flatten</text>\n",
       "<polyline fill=\"none\" points=\"303,-83.5 303,-129.5 \" stroke=\"black\"/>\n",
       "<text font-family=\"Times,serif\" font-size=\"14.00\" text-anchor=\"middle\" x=\"330.5\" y=\"-114.3\">input:</text>\n",
       "<polyline fill=\"none\" points=\"303,-106.5 358,-106.5 \" stroke=\"black\"/>\n",
       "<text font-family=\"Times,serif\" font-size=\"14.00\" text-anchor=\"middle\" x=\"330.5\" y=\"-91.3\">output:</text>\n",
       "<polyline fill=\"none\" points=\"358,-83.5 358,-129.5 \" stroke=\"black\"/>\n",
       "<text font-family=\"Times,serif\" font-size=\"14.00\" text-anchor=\"middle\" x=\"410\" y=\"-114.3\">(None, 15, 200)</text>\n",
       "<polyline fill=\"none\" points=\"358,-106.5 462,-106.5 \" stroke=\"black\"/>\n",
       "<text font-family=\"Times,serif\" font-size=\"14.00\" text-anchor=\"middle\" x=\"410\" y=\"-91.3\">(None, 3000)</text>\n",
       "</g>\n",
       "<!-- 139650392572032&#45;&gt;139650316318592 -->\n",
       "<g class=\"edge\" id=\"edge15\"><title>139650392572032-&gt;139650316318592</title>\n",
       "<path d=\"M334.5,-166.366C334.5,-158.152 334.5,-148.658 334.5,-139.725\" fill=\"none\" stroke=\"black\"/>\n",
       "<polygon fill=\"black\" points=\"338,-139.607 334.5,-129.607 331,-139.607 338,-139.607\" stroke=\"black\"/>\n",
       "</g>\n",
       "<!-- 139650316408648 -->\n",
       "<g class=\"node\" id=\"node14\"><title>139650316408648</title>\n",
       "<polygon fill=\"none\" points=\"203.5,-0.5 203.5,-46.5 465.5,-46.5 465.5,-0.5 203.5,-0.5\" stroke=\"black\"/>\n",
       "<text font-family=\"Times,serif\" font-size=\"14.00\" text-anchor=\"middle\" x=\"262.5\" y=\"-19.8\">predictions: Dense</text>\n",
       "<polyline fill=\"none\" points=\"321.5,-0.5 321.5,-46.5 \" stroke=\"black\"/>\n",
       "<text font-family=\"Times,serif\" font-size=\"14.00\" text-anchor=\"middle\" x=\"349\" y=\"-31.3\">input:</text>\n",
       "<polyline fill=\"none\" points=\"321.5,-23.5 376.5,-23.5 \" stroke=\"black\"/>\n",
       "<text font-family=\"Times,serif\" font-size=\"14.00\" text-anchor=\"middle\" x=\"349\" y=\"-8.3\">output:</text>\n",
       "<polyline fill=\"none\" points=\"376.5,-0.5 376.5,-46.5 \" stroke=\"black\"/>\n",
       "<text font-family=\"Times,serif\" font-size=\"14.00\" text-anchor=\"middle\" x=\"421\" y=\"-31.3\">(None, 3000)</text>\n",
       "<polyline fill=\"none\" points=\"376.5,-23.5 465.5,-23.5 \" stroke=\"black\"/>\n",
       "<text font-family=\"Times,serif\" font-size=\"14.00\" text-anchor=\"middle\" x=\"421\" y=\"-8.3\">(None, 2)</text>\n",
       "</g>\n",
       "<!-- 139650316318592&#45;&gt;139650316408648 -->\n",
       "<g class=\"edge\" id=\"edge16\"><title>139650316318592-&gt;139650316408648</title>\n",
       "<path d=\"M334.5,-83.3664C334.5,-75.1516 334.5,-65.6579 334.5,-56.7252\" fill=\"none\" stroke=\"black\"/>\n",
       "<polygon fill=\"black\" points=\"338,-56.6068 334.5,-46.6068 331,-56.6069 338,-56.6068\" stroke=\"black\"/>\n",
       "</g>\n",
       "</g>\n",
       "</svg>"
      ],
      "text/plain": [
       "<IPython.core.display.SVG object>"
      ]
     },
     "execution_count": 104,
     "metadata": {},
     "output_type": "execute_result"
    }
   ],
   "source": [
    "SVG(model_to_dot(bilstm_model, show_shapes=True, show_layer_names=True).create(prog='dot', format='svg'))"
   ]
  },
  {
   "cell_type": "code",
   "execution_count": null,
   "metadata": {
    "scrolled": false
   },
   "outputs": [],
   "source": [
    "bilstm_model.fit([x_train, x_rc_train], y_train,\n",
    "          batch_size=100,\n",
    "          epochs=10,\n",
    "          verbose=1,\n",
    "          validation_data=([x_test, x_rc_test], y_test))\n",
    "score = bilstm_model.evaluate([x_test, x_rc_test], y_test, verbose=0)\n",
    "print('Test loss:', score[0])\n",
    "print('Test accuracy:', score[1])"
   ]
  },
  {
   "cell_type": "code",
   "execution_count": 106,
   "metadata": {},
   "outputs": [
    {
     "data": {
      "text/plain": [
       "0.9191636151350157"
      ]
     },
     "execution_count": 106,
     "metadata": {},
     "output_type": "execute_result"
    }
   ],
   "source": [
    "probs = bilstm_model.predict([x_test, x_rc_test])\n",
    "\n",
    "sklearn.metrics.roc_auc_score([y[1] for y in y_test], probs[:,1], )"
   ]
  },
  {
   "cell_type": "markdown",
   "metadata": {},
   "source": [
    "## Visualize Model"
   ]
  },
  {
   "cell_type": "code",
   "execution_count": 4,
   "metadata": {
    "collapsed": true
   },
   "outputs": [],
   "source": [
    "from keras.layers import Bidirectional\n",
    "\n",
    "from keras.layers import LSTM\n",
    "\n",
    "from keras.layers import Activation"
   ]
  },
  {
   "cell_type": "code",
   "execution_count": 7,
   "metadata": {
    "collapsed": true
   },
   "outputs": [],
   "source": [
    "model = Sequential()\n",
    "model.add(Bidirectional(LSTM(10, return_sequences=True),\n",
    "                        input_shape=(5, 10)))\n",
    "model.add(Bidirectional(LSTM(10)))\n",
    "model.add(Dense(5))\n",
    "model.add(Activation('softmax'))\n",
    "model.compile(loss='categorical_crossentropy', optimizer='rmsprop')"
   ]
  },
  {
   "cell_type": "code",
   "execution_count": 8,
   "metadata": {
    "collapsed": true
   },
   "outputs": [],
   "source": [
    "from keras.utils import plot_model\n",
    "plot_model(model, to_file='model.png')"
   ]
  },
  {
   "cell_type": "code",
   "execution_count": 9,
   "metadata": {},
   "outputs": [
    {
     "data": {
      "image/svg+xml": [
       "<svg height=\"342pt\" viewBox=\"0.00 0.00 276.00 342.00\" width=\"276pt\" xmlns=\"http://www.w3.org/2000/svg\" xmlns:xlink=\"http://www.w3.org/1999/xlink\">\n",
       "<g class=\"graph\" id=\"graph0\" transform=\"scale(1 1) rotate(0) translate(4 338)\">\n",
       "<title>G</title>\n",
       "<polygon fill=\"white\" points=\"-4,5 -4,-338 273,-338 273,5 -4,5\" stroke=\"white\"/>\n",
       "<!-- 139847517225648 -->\n",
       "<g class=\"node\" id=\"node1\"><title>139847517225648</title>\n",
       "<polygon fill=\"none\" points=\"34,-297 34,-333 234,-333 234,-297 34,-297\" stroke=\"black\"/>\n",
       "<text font-family=\"Times,serif\" font-size=\"14.00\" text-anchor=\"middle\" x=\"134\" y=\"-311.3\">bidirectional_1_input: InputLayer</text>\n",
       "</g>\n",
       "<!-- 139848767086888 -->\n",
       "<g class=\"node\" id=\"node2\"><title>139848767086888</title>\n",
       "<polygon fill=\"none\" points=\"-0.5,-223 -0.5,-259 268.5,-259 268.5,-223 -0.5,-223\" stroke=\"black\"/>\n",
       "<text font-family=\"Times,serif\" font-size=\"14.00\" text-anchor=\"middle\" x=\"134\" y=\"-237.3\">bidirectional_1(lstm_1): Bidirectional(LSTM)</text>\n",
       "</g>\n",
       "<!-- 139847517225648&#45;&gt;139848767086888 -->\n",
       "<g class=\"edge\" id=\"edge1\"><title>139847517225648-&gt;139848767086888</title>\n",
       "<path d=\"M134,-296.937C134,-288.807 134,-278.876 134,-269.705\" fill=\"none\" stroke=\"black\"/>\n",
       "<polygon fill=\"black\" points=\"137.5,-269.441 134,-259.441 130.5,-269.441 137.5,-269.441\" stroke=\"black\"/>\n",
       "</g>\n",
       "<!-- 139846882892208 -->\n",
       "<g class=\"node\" id=\"node3\"><title>139846882892208</title>\n",
       "<polygon fill=\"none\" points=\"-0.5,-149 -0.5,-185 268.5,-185 268.5,-149 -0.5,-149\" stroke=\"black\"/>\n",
       "<text font-family=\"Times,serif\" font-size=\"14.00\" text-anchor=\"middle\" x=\"134\" y=\"-163.3\">bidirectional_2(lstm_2): Bidirectional(LSTM)</text>\n",
       "</g>\n",
       "<!-- 139848767086888&#45;&gt;139846882892208 -->\n",
       "<g class=\"edge\" id=\"edge2\"><title>139848767086888-&gt;139846882892208</title>\n",
       "<path d=\"M134,-222.937C134,-214.807 134,-204.876 134,-195.705\" fill=\"none\" stroke=\"black\"/>\n",
       "<polygon fill=\"black\" points=\"137.5,-195.441 134,-185.441 130.5,-195.441 137.5,-195.441\" stroke=\"black\"/>\n",
       "</g>\n",
       "<!-- 139847517225704 -->\n",
       "<g class=\"node\" id=\"node4\"><title>139847517225704</title>\n",
       "<polygon fill=\"none\" points=\"83,-75 83,-111 185,-111 185,-75 83,-75\" stroke=\"black\"/>\n",
       "<text font-family=\"Times,serif\" font-size=\"14.00\" text-anchor=\"middle\" x=\"134\" y=\"-89.3\">dense_1: Dense</text>\n",
       "</g>\n",
       "<!-- 139846882892208&#45;&gt;139847517225704 -->\n",
       "<g class=\"edge\" id=\"edge3\"><title>139846882892208-&gt;139847517225704</title>\n",
       "<path d=\"M134,-148.937C134,-140.807 134,-130.876 134,-121.705\" fill=\"none\" stroke=\"black\"/>\n",
       "<polygon fill=\"black\" points=\"137.5,-121.441 134,-111.441 130.5,-121.441 137.5,-121.441\" stroke=\"black\"/>\n",
       "</g>\n",
       "<!-- 139846881738704 -->\n",
       "<g class=\"node\" id=\"node5\"><title>139846881738704</title>\n",
       "<polygon fill=\"none\" points=\"60,-1 60,-37 208,-37 208,-1 60,-1\" stroke=\"black\"/>\n",
       "<text font-family=\"Times,serif\" font-size=\"14.00\" text-anchor=\"middle\" x=\"134\" y=\"-15.3\">activation_1: Activation</text>\n",
       "</g>\n",
       "<!-- 139847517225704&#45;&gt;139846881738704 -->\n",
       "<g class=\"edge\" id=\"edge4\"><title>139847517225704-&gt;139846881738704</title>\n",
       "<path d=\"M134,-74.937C134,-66.8072 134,-56.8761 134,-47.7047\" fill=\"none\" stroke=\"black\"/>\n",
       "<polygon fill=\"black\" points=\"137.5,-47.4406 134,-37.4407 130.5,-47.4407 137.5,-47.4406\" stroke=\"black\"/>\n",
       "</g>\n",
       "</g>\n",
       "</svg>"
      ],
      "text/plain": [
       "<IPython.core.display.SVG object>"
      ]
     },
     "execution_count": 9,
     "metadata": {},
     "output_type": "execute_result"
    }
   ],
   "source": [
    "from IPython.display import SVG\n",
    "from keras.utils.vis_utils import model_to_dot\n",
    "\n",
    "SVG(model_to_dot(model).create(prog='dot', format='svg'))"
   ]
  },
  {
   "cell_type": "code",
   "execution_count": null,
   "metadata": {
    "collapsed": true
   },
   "outputs": [],
   "source": []
  }
 ],
 "metadata": {
  "anaconda-cloud": {},
  "kernelspec": {
   "display_name": "Python 3",
   "language": "python",
   "name": "python3"
  },
  "language_info": {
   "codemirror_mode": {
    "name": "ipython",
    "version": 3
   },
   "file_extension": ".py",
   "mimetype": "text/x-python",
   "name": "python",
   "nbconvert_exporter": "python",
   "pygments_lexer": "ipython3",
   "version": "3.6.1"
  }
 },
 "nbformat": 4,
 "nbformat_minor": 1
}
