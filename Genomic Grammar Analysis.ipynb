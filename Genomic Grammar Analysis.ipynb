{
 "cells": [
  {
   "cell_type": "markdown",
   "metadata": {},
   "source": [
    "# Genomic Grammar Analysis"
   ]
  },
  {
   "cell_type": "code",
   "execution_count": 1,
   "metadata": {},
   "outputs": [
    {
     "name": "stderr",
     "output_type": "stream",
     "text": [
      "/home/jenhan/anaconda3/lib/python3.6/site-packages/h5py/__init__.py:34: FutureWarning: Conversion of the second argument of issubdtype from `float` to `np.floating` is deprecated. In future, it will be treated as `np.float64 == np.dtype(float).type`.\n",
      "  from ._conv import register_converters as _register_converters\n",
      "Using TensorFlow backend.\n"
     ]
    }
   ],
   "source": [
    "from __future__ import print_function\n",
    "import keras\n",
    "from keras.datasets import mnist\n",
    "from keras.models import Sequential\n",
    "from keras.layers import *\n",
    "from keras.models import Model\n",
    "from keras import backend as K"
   ]
  },
  {
   "cell_type": "code",
   "execution_count": 2,
   "metadata": {
    "collapsed": true
   },
   "outputs": [],
   "source": [
    "import os\n",
    "import numpy as np\n",
    "import Bio\n",
    "from Bio import SeqIO\n",
    "import seaborn as sns\n",
    "import pandas as pd\n",
    "import Bio.motifs\n",
    "%matplotlib inline\n",
    "from sklearn import model_selection\n",
    "import seaborn as sns\n",
    "from matplotlib import pyplot as plt\n",
    "import sklearn\n",
    "from IPython.display import SVG\n",
    "from keras.utils.vis_utils import model_to_dot\n",
    "sns.set_context('notebook')"
   ]
  },
  {
   "cell_type": "code",
   "execution_count": 3,
   "metadata": {
    "collapsed": true
   },
   "outputs": [],
   "source": [
    "if not os.path.isdir('/home/jtao/analysis/genomic_grammar_analysis/'):\n",
    "    os.mkdir('/home/jtao/analysis/genomic_grammar_analysis')\n",
    "os.chdir('/home/jtao/analysis/genomic_grammar_analysis')"
   ]
  },
  {
   "cell_type": "markdown",
   "metadata": {},
   "source": [
    "## Functions"
   ]
  },
  {
   "cell_type": "code",
   "execution_count": 4,
   "metadata": {
    "collapsed": true
   },
   "outputs": [],
   "source": [
    "def convert_sequences_to_array(sequences):\n",
    "    '''\n",
    "    inputs: sequence of nucleotides represented as a string composed of A, C, G, T\n",
    "    outputs: a list of numpy array representations of a sequence with:\n",
    "             A = [1, 0, 0, 0]\n",
    "             C = [0, 1, 0, 0]\n",
    "             G = [0, 0, 1, 0]\n",
    "             T = [0, 0, 0, 1]\n",
    "             \n",
    "    '''\n",
    "\n",
    "    nucleotide_array_dict = {'A': [1, 0, 0, 0],\n",
    "                             'C': [0, 1, 0, 0],\n",
    "                             'G': [0, 0, 1, 0],\n",
    "                             'T': [0, 0, 0, 1],\n",
    "                             'N': [0.25,0.25,0.25,0.25]}\n",
    "\n",
    "    sequence_array_list = []\n",
    "    for seq in sequences:\n",
    "        seq_array = []\n",
    "        for nuc in seq:\n",
    "            seq_array.append(nucleotide_array_dict[nuc])\n",
    "        seq_array = np.array(seq_array)\n",
    "        sequence_array_list.append(seq_array)\n",
    "    sequence_array_list = np.array(sequence_array_list)\n",
    "    return sequence_array_list"
   ]
  },
  {
   "cell_type": "markdown",
   "metadata": {},
   "source": [
    "## Extract Sequence"
   ]
  },
  {
   "cell_type": "code",
   "execution_count": 612,
   "metadata": {},
   "outputs": [
    {
     "name": "stdout",
     "output_type": "stream",
     "text": [
      "./atac_idr_peaks/c57bl6_il4-24h_peaks.tsv\n",
      "./bed_files/c57bl6_il4-24h_peaks.bed\n",
      "./atac_idr_peaks/c57bl6_kla-1h_peaks.tsv\n",
      "./bed_files/c57bl6_kla-1h_peaks.bed\n",
      "./atac_idr_peaks/c57bl6_veh_peaks.tsv\n",
      "./bed_files/c57bl6_veh_peaks.bed\n"
     ]
    },
    {
     "name": "stderr",
     "output_type": "stream",
     "text": [
      "bash: line 7: pos2bed.pl: command not found\n",
      "bash: line 7: pos2bed.pl: command not found\n",
      "bash: line 7: pos2bed.pl: command not found\n"
     ]
    }
   ],
   "source": [
    "%%bash\n",
    "if [ ! -d ./bed_files ]; then mkdir ./bed_files; else rm ./bed_files/*; fi\n",
    "for peak in ./atac_idr_peaks/*tsv;\n",
    "do echo $peak;\n",
    "new_path=${peak/atac_idr_peaks/bed_files};\n",
    "new_path=${new_path/.tsv/.bed};\n",
    "echo $new_path;\n",
    "pos2bed.pl $peak >$new_path\n",
    "done"
   ]
  },
  {
   "cell_type": "code",
   "execution_count": 78,
   "metadata": {},
   "outputs": [
    {
     "name": "stdout",
     "output_type": "stream",
     "text": [
      "./bed_files/c57bl6_il4-24h_peaks.bed\n",
      "./fasta_files/c57bl6_il4-24h_peaks.fa\n",
      "reading genome mm10\n",
      "./bed_files/c57bl6_kla-1h_peaks.bed\n",
      "./fasta_files/c57bl6_kla-1h_peaks.fa\n",
      "reading genome mm10\n",
      "./bed_files/c57bl6_veh_peaks.bed\n",
      "./fasta_files/c57bl6_veh_peaks.fa\n",
      "reading genome mm10\n"
     ]
    },
    {
     "name": "stderr",
     "output_type": "stream",
     "text": [
      "rm: cannot remove ‘./fasta_files/*’: No such file or directory\n"
     ]
    }
   ],
   "source": [
    "%%bash\n",
    "if [ ! -d ./fasta_files ]; then mkdir ./fasta_files; else rm ./fasta_files/*; fi\n",
    "for bed_path in ./bed_files/*bed;\n",
    "do echo $bed_path;\n",
    "new_path=${bed_path/bed_files/fasta_files};\n",
    "new_path=${new_path/.bed/.fa};\n",
    "echo $new_path;\n",
    "/home/jtao/code/tba/model_training/extract_sequences.py $bed_path mm10 $new_path\n",
    "done"
   ]
  },
  {
   "cell_type": "markdown",
   "metadata": {},
   "source": [
    "## Generate Background Coordinates"
   ]
  },
  {
   "cell_type": "code",
   "execution_count": 81,
   "metadata": {},
   "outputs": [
    {
     "name": "stdout",
     "output_type": "stream",
     "text": [
      "./bed_files/c57bl6_il4-24h_peaks.bed\n",
      "/home/jtao/code/tba/model_training/generate_background_coordinates.py ./bed_files/c57bl6_il4-24h_peaks.bed ./background_files -genome mm10\n",
      "./bed_files/c57bl6_kla-1h_peaks.bed\n",
      "/home/jtao/code/tba/model_training/generate_background_coordinates.py ./bed_files/c57bl6_kla-1h_peaks.bed ./background_files -genome mm10\n",
      "./bed_files/c57bl6_veh_peaks.bed\n",
      "/home/jtao/code/tba/model_training/generate_background_coordinates.py ./bed_files/c57bl6_veh_peaks.bed ./background_files -genome mm10\n"
     ]
    },
    {
     "name": "stderr",
     "output_type": "stream",
     "text": [
      "rm: cannot remove ‘./background_files/*’: No such file or directory\n"
     ]
    }
   ],
   "source": [
    "%%bash\n",
    "if [ ! -d ./background_files ]; then mkdir ./background_files; else rm ./background_files/*; fi\n",
    "for bed_path in ./bed_files/*bed;\n",
    "do echo $bed_path;\n",
    "echo /home/jtao/code/tba/model_training/generate_background_coordinates.py $bed_path ./background_files -genome mm10\n",
    "done"
   ]
  },
  {
   "cell_type": "code",
   "execution_count": 88,
   "metadata": {
    "collapsed": true
   },
   "outputs": [],
   "source": [
    "%%bash\n",
    "rm ./make_background.sh\n",
    "script_path=\"./make_background.sh\"\n",
    "if [ ! -d ./background_files/ ]; then mkdir ./background_files/ ; fi\n",
    "for i in ./bed_files/*bed;\n",
    "do \n",
    "    factor=${i##*/};\n",
    "    factor=${factor%.bed};\n",
    "    fasta_path=\"./background_files/${factor}_background.fasta\"\n",
    "    bed_path=\"./background_files/${factor}_background.bed\"\n",
    "\n",
    "    echo \"/home/jtao/code/tba/model_training/generate_background_coordinates.py $i ./background_files/ -genome mm10\" >> $script_path;\n",
    "    echo \"mv ./background_files/background.bed $bed_path\" >> $script_path;\n",
    "    echo \"mv ./background_files/background.fasta $fasta_path\" >> $script_path;\n",
    "done"
   ]
  },
  {
   "cell_type": "code",
   "execution_count": null,
   "metadata": {
    "collapsed": true
   },
   "outputs": [],
   "source": [
    "%%bash\n",
    "rm ./background/*\n",
    "chmod a+x ./*sh\n",
    "bash ./make_background.sh"
   ]
  },
  {
   "cell_type": "markdown",
   "metadata": {},
   "source": [
    "## Read in Data"
   ]
  },
  {
   "cell_type": "code",
   "execution_count": 186,
   "metadata": {
    "collapsed": true
   },
   "outputs": [],
   "source": [
    "# positive_seqRecords = list(SeqIO.parse('./fasta_files/c57bl6_il4-24h_peaks.fa', 'fasta'))\n",
    "# negative_seqRecords = list(SeqIO.parse('./background_files/c57bl6_il4-24h_peaks_background.fasta', 'fasta'))\n",
    "\n",
    "positive_seqRecords = list(SeqIO.parse('/home/jtao/analysis/ap1_fdr_analysis/fasta_files/c57bl6_atf3_veh_idr.fasta', 'fasta'))\n",
    "negative_seqRecords = list(SeqIO.parse('./background_files/c57bl6_il4-24h_peaks_background.fasta', 'fasta'))[:len(positive_seqRecords)]\n",
    "\n",
    "fasta_seq = [str(x.seq[:200]) for x in positive_seqRecords] + [str(x[:200].seq) for x in negative_seqRecords]\n",
    "\n",
    "fasta_rc_seq = [str(x[:200].reverse_complement().seq) for x in positive_seqRecords] + \\\n",
    "    [str(x[:200].reverse_complement().seq) for x in negative_seqRecords]\n",
    "\n",
    "sequence_arrays = convert_sequences_to_array(fasta_seq)\n",
    "sequence_arrays = np.array(sequence_arrays)\n",
    "\n",
    "sequence_rc_arrays = convert_sequences_to_array(fasta_rc_seq)\n",
    "sequence_rc_arrays = np.array(sequence_rc_arrays)\n",
    "\n",
    "\n",
    "labels = [1 for x in positive_seqRecords] + [0 for x in negative_seqRecords]\n",
    "labels = np.array(labels)\n",
    "\n",
    "x_train, x_test, x_rc_train, x_rc_test, y_train, y_test = model_selection.train_test_split(sequence_arrays, sequence_rc_arrays, labels, test_size=0.2)\n",
    "\n",
    "num_classes = 2\n",
    "y_train = keras.utils.to_categorical(y_train, num_classes)\n",
    "y_test = keras.utils.to_categorical(y_test, num_classes)"
   ]
  },
  {
   "cell_type": "markdown",
   "metadata": {},
   "source": [
    "## Count Params"
   ]
  },
  {
   "cell_type": "code",
   "execution_count": 7,
   "metadata": {
    "collapsed": true
   },
   "outputs": [],
   "source": [
    "def count_num_params(seq_size,\n",
    "                     num_motifs, \n",
    "                     motif_size,\n",
    "                     adjacent_bp_pool_size,\n",
    "                     attention_dim,\n",
    "                     attention_hops,\n",
    "                     num_dense_neurons\n",
    "                    ):\n",
    "    total_params = 0\n",
    "    \n",
    "    # convolution layer\n",
    "    convolution_params = num_motifs * motif_size * 4\n",
    "    total_params += convolution_params\n",
    "    print('Convolution Params:', convolution_params)\n",
    "    \n",
    "    # lstm layer\n",
    "    # account for pooling\n",
    "    lstm_input_size = num_motifs\n",
    "    # account for reverse complement sequence\n",
    "    lstm_input_size = lstm_input_size * 2\n",
    "    \n",
    "    num_lstm_neurons = seq_size/ adjacent_bp_pool_size\n",
    "    \n",
    "    lstm_params = lstm_input_size * 4 * num_lstm_neurons\n",
    "    # account for bidrectional lstm\n",
    "    lstm_params = lstm_params * 2\n",
    "    \n",
    "    total_params += lstm_params\n",
    "    print('LSTM Params:', lstm_params)\n",
    "    \n",
    "    # attention layer\n",
    "    # first layer of perceptron\n",
    "    attention_params = attention_dim * (seq_size/adjacent_bp_pool_size) \n",
    "    # account for hops of attention (second layer of perceptron)\n",
    "    attention_params += attention_dim * attention_hops\n",
    "    \n",
    "    total_params += attention_params\n",
    "    print('Attention Params:', attention_params)\n",
    "    \n",
    "    # dense layer\n",
    "    dense_params = (seq_size/adjacent_bp_pool_size) * num_dense_neurons\n",
    "    total_params += dense_params\n",
    "    print('Dense Params:', dense_params)\n",
    "    \n",
    "    return total_params"
   ]
  },
  {
   "cell_type": "code",
   "execution_count": 8,
   "metadata": {},
   "outputs": [
    {
     "name": "stdout",
     "output_type": "stream",
     "text": [
      "Convolution Params: 4000\n",
      "LSTM Params: 12000.0\n",
      "Attention Params: 800.0\n",
      "Dense Params: 7500.0\n"
     ]
    },
    {
     "data": {
      "text/plain": [
       "24300.0"
      ]
     },
     "execution_count": 8,
     "metadata": {},
     "output_type": "execute_result"
    }
   ],
   "source": [
    "seq_size = 150\n",
    "num_classes = 2\n",
    "num_motifs = 50\n",
    "motif_size = 20\n",
    "adjacent_bp_pool_size = 10\n",
    "attention_dim = 50 # 350 from A Structured Self-attentive Sentence Embedding\n",
    "attention_hops = 1 # from A Structured Self-attentive Sentence Embedding\n",
    "num_dense_neurons = 500 # 2-layer, 2000 units, from A Structured Self-attentive Sentence Embedding\n",
    "\n",
    "count_num_params(seq_size,\n",
    "    num_motifs, \n",
    "    motif_size,\n",
    "    adjacent_bp_pool_size,\n",
    "    attention_dim,\n",
    "    attention_hops,\n",
    "    num_dense_neurons\n",
    "    )"
   ]
  },
  {
   "cell_type": "markdown",
   "metadata": {},
   "source": [
    "## Define Model"
   ]
  },
  {
   "cell_type": "code",
   "execution_count": 141,
   "metadata": {
    "collapsed": true
   },
   "outputs": [],
   "source": [
    "seq_size = 150\n",
    "num_classes = 2\n",
    "num_motifs = 100\n",
    "motif_size = 20\n",
    "adjacent_bp_pool_size = 1\n",
    "attention_dim = 50 \n",
    "attention_hops = 1 \n",
    "num_dense_neurons = 500 "
   ]
  },
  {
   "cell_type": "markdown",
   "metadata": {},
   "source": [
    "### Top Motif Scores"
   ]
  },
  {
   "cell_type": "code",
   "execution_count": 142,
   "metadata": {},
   "outputs": [
    {
     "name": "stdout",
     "output_type": "stream",
     "text": [
      "forward_motif_scores (?, 200, 100)\n",
      "cropped_fwd_scores (?, 150, 100)\n",
      "max_fwd_scores (?, 1, 100)\n",
      "max_seq_scores (?, 1, 100)\n"
     ]
    }
   ],
   "source": [
    "total_seq_length = len(fasta_seq[0])\n",
    "\n",
    "input_fwd = Input(shape=(total_seq_length,4), name='input_fwd')\n",
    "input_rev = Input(shape=(total_seq_length,4), name='input_rev')\n",
    "\n",
    "# find motifs\n",
    "convolution_layer = Conv1D(filters=num_motifs, \n",
    "    kernel_size=motif_size,\n",
    "    activation='relu',\n",
    "    input_shape=(total_seq_length,4),\n",
    "    name='convolution_layer',\n",
    "    padding = 'same'\n",
    "    )\n",
    "forward_motif_scores = convolution_layer(input_fwd)\n",
    "reverse_motif_scores = convolution_layer(input_rev)\n",
    "print('forward_motif_scores', forward_motif_scores.shape)\n",
    "\n",
    "# crop motif scores to avoid parts of sequence where motif score is computed in only one direction\n",
    "to_crop = int((total_seq_length - seq_size)/2)\n",
    "crop_layer = Cropping1D(cropping=(to_crop, to_crop), \n",
    "    name='crop_layer')\n",
    "cropped_fwd_scores = crop_layer(forward_motif_scores)\n",
    "cropped_rev_scores = crop_layer(reverse_motif_scores)\n",
    "print('cropped_fwd_scores', cropped_fwd_scores.shape)\n",
    "\n",
    "# # flip motif scores\n",
    "# flip_layer = Lambda(lambda x: K.reverse(x,axes=0),\n",
    "#     output_shape=(seq_size, num_motifs),\n",
    "#     name='flip_layer')\n",
    "# flipped_rev_scores = flip_layer(cropped_rev_scores)\n",
    "# print('flipped_rev_scores', flipped_rev_scores.shape)\n",
    "\n",
    "# calculate max scores for each orientation\n",
    "seq_pool_layer = MaxPool1D(pool_size=seq_size)\n",
    "max_fwd_scores = seq_pool_layer(cropped_fwd_scores)\n",
    "max_rev_scores = seq_pool_layer(cropped_rev_scores)\n",
    "print('max_fwd_scores', max_fwd_scores.shape)\n",
    "\n",
    "# calculate max score for strand\n",
    "orientation_max_layer = Maximum()\n",
    "max_seq_scores = orientation_max_layer([max_fwd_scores, max_rev_scores])\n",
    "print('max_seq_scores', max_seq_scores.shape)\n",
    "\n",
    "# fully connected layer\n",
    "dense_out = Dense(num_dense_neurons, activation='relu', \n",
    "                 )(max_seq_scores)\n",
    "\n",
    "# drop out\n",
    "drop_out = Dropout(0.25)(dense_out)\n",
    "\n",
    "# make prediction\n",
    "flattened = Flatten()(drop_out)\n",
    "predictions = Dense(num_classes,\n",
    "                    activation = 'softmax', \n",
    "                   )(flattened)\n"
   ]
  },
  {
   "cell_type": "code",
   "execution_count": 143,
   "metadata": {
    "collapsed": true
   },
   "outputs": [],
   "source": [
    "# define and compile model\n",
    "convolution_model = Model(inputs=[input_fwd, input_rev], outputs=predictions)\n",
    "\n",
    "convolution_model.compile(loss=keras.losses.categorical_crossentropy,\n",
    "              optimizer=keras.optimizers.Adam(),\n",
    "              metrics=['accuracy'])"
   ]
  },
  {
   "cell_type": "code",
   "execution_count": 144,
   "metadata": {},
   "outputs": [
    {
     "data": {
      "image/svg+xml": [
       "<svg height=\"719pt\" viewBox=\"0.00 0.00 606.00 719.00\" width=\"606pt\" xmlns=\"http://www.w3.org/2000/svg\" xmlns:xlink=\"http://www.w3.org/1999/xlink\">\n",
       "<g class=\"graph\" id=\"graph0\" transform=\"scale(1 1) rotate(0) translate(4 715)\">\n",
       "<title>G</title>\n",
       "<polygon fill=\"white\" points=\"-4,4 -4,-715 602,-715 602,4 -4,4\" stroke=\"none\"/>\n",
       "<!-- 139649720136872 -->\n",
       "<g class=\"node\" id=\"node1\"><title>139649720136872</title>\n",
       "<polygon fill=\"none\" points=\"0,-664.5 0,-710.5 292,-710.5 292,-664.5 0,-664.5\" stroke=\"black\"/>\n",
       "<text font-family=\"Times,serif\" font-size=\"14.00\" text-anchor=\"middle\" x=\"70\" y=\"-683.8\">input_fwd: InputLayer</text>\n",
       "<polyline fill=\"none\" points=\"140,-664.5 140,-710.5 \" stroke=\"black\"/>\n",
       "<text font-family=\"Times,serif\" font-size=\"14.00\" text-anchor=\"middle\" x=\"167.5\" y=\"-695.3\">input:</text>\n",
       "<polyline fill=\"none\" points=\"140,-687.5 195,-687.5 \" stroke=\"black\"/>\n",
       "<text font-family=\"Times,serif\" font-size=\"14.00\" text-anchor=\"middle\" x=\"167.5\" y=\"-672.3\">output:</text>\n",
       "<polyline fill=\"none\" points=\"195,-664.5 195,-710.5 \" stroke=\"black\"/>\n",
       "<text font-family=\"Times,serif\" font-size=\"14.00\" text-anchor=\"middle\" x=\"243.5\" y=\"-695.3\">(None, 200, 4)</text>\n",
       "<polyline fill=\"none\" points=\"195,-687.5 292,-687.5 \" stroke=\"black\"/>\n",
       "<text font-family=\"Times,serif\" font-size=\"14.00\" text-anchor=\"middle\" x=\"243.5\" y=\"-672.3\">(None, 200, 4)</text>\n",
       "</g>\n",
       "<!-- 139649720136928 -->\n",
       "<g class=\"node\" id=\"node3\"><title>139649720136928</title>\n",
       "<polygon fill=\"none\" points=\"133.5,-581.5 133.5,-627.5 466.5,-627.5 466.5,-581.5 133.5,-581.5\" stroke=\"black\"/>\n",
       "<text font-family=\"Times,serif\" font-size=\"14.00\" text-anchor=\"middle\" x=\"217.5\" y=\"-600.8\">convolution_layer: Conv1D</text>\n",
       "<polyline fill=\"none\" points=\"301.5,-581.5 301.5,-627.5 \" stroke=\"black\"/>\n",
       "<text font-family=\"Times,serif\" font-size=\"14.00\" text-anchor=\"middle\" x=\"329\" y=\"-612.3\">input:</text>\n",
       "<polyline fill=\"none\" points=\"301.5,-604.5 356.5,-604.5 \" stroke=\"black\"/>\n",
       "<text font-family=\"Times,serif\" font-size=\"14.00\" text-anchor=\"middle\" x=\"329\" y=\"-589.3\">output:</text>\n",
       "<polyline fill=\"none\" points=\"356.5,-581.5 356.5,-627.5 \" stroke=\"black\"/>\n",
       "<text font-family=\"Times,serif\" font-size=\"14.00\" text-anchor=\"middle\" x=\"411.5\" y=\"-612.3\">(None, 200, 4)</text>\n",
       "<polyline fill=\"none\" points=\"356.5,-604.5 466.5,-604.5 \" stroke=\"black\"/>\n",
       "<text font-family=\"Times,serif\" font-size=\"14.00\" text-anchor=\"middle\" x=\"411.5\" y=\"-589.3\">(None, 200, 100)</text>\n",
       "</g>\n",
       "<!-- 139649720136872&#45;&gt;139649720136928 -->\n",
       "<g class=\"edge\" id=\"edge1\"><title>139649720136872-&gt;139649720136928</title>\n",
       "<path d=\"M188.081,-664.366C206.925,-654.455 229.308,-642.682 249.087,-632.279\" fill=\"none\" stroke=\"black\"/>\n",
       "<polygon fill=\"black\" points=\"250.749,-635.36 257.97,-627.607 247.49,-629.164 250.749,-635.36\" stroke=\"black\"/>\n",
       "</g>\n",
       "<!-- 139649720136984 -->\n",
       "<g class=\"node\" id=\"node2\"><title>139649720136984</title>\n",
       "<polygon fill=\"none\" points=\"310,-664.5 310,-710.5 598,-710.5 598,-664.5 310,-664.5\" stroke=\"black\"/>\n",
       "<text font-family=\"Times,serif\" font-size=\"14.00\" text-anchor=\"middle\" x=\"378\" y=\"-683.8\">input_rev: InputLayer</text>\n",
       "<polyline fill=\"none\" points=\"446,-664.5 446,-710.5 \" stroke=\"black\"/>\n",
       "<text font-family=\"Times,serif\" font-size=\"14.00\" text-anchor=\"middle\" x=\"473.5\" y=\"-695.3\">input:</text>\n",
       "<polyline fill=\"none\" points=\"446,-687.5 501,-687.5 \" stroke=\"black\"/>\n",
       "<text font-family=\"Times,serif\" font-size=\"14.00\" text-anchor=\"middle\" x=\"473.5\" y=\"-672.3\">output:</text>\n",
       "<polyline fill=\"none\" points=\"501,-664.5 501,-710.5 \" stroke=\"black\"/>\n",
       "<text font-family=\"Times,serif\" font-size=\"14.00\" text-anchor=\"middle\" x=\"549.5\" y=\"-695.3\">(None, 200, 4)</text>\n",
       "<polyline fill=\"none\" points=\"501,-687.5 598,-687.5 \" stroke=\"black\"/>\n",
       "<text font-family=\"Times,serif\" font-size=\"14.00\" text-anchor=\"middle\" x=\"549.5\" y=\"-672.3\">(None, 200, 4)</text>\n",
       "</g>\n",
       "<!-- 139649720136984&#45;&gt;139649720136928 -->\n",
       "<g class=\"edge\" id=\"edge2\"><title>139649720136984-&gt;139649720136928</title>\n",
       "<path d=\"M411.919,-664.366C393.075,-654.455 370.692,-642.682 350.913,-632.279\" fill=\"none\" stroke=\"black\"/>\n",
       "<polygon fill=\"black\" points=\"352.51,-629.164 342.03,-627.607 349.251,-635.36 352.51,-629.164\" stroke=\"black\"/>\n",
       "</g>\n",
       "<!-- 139649719890776 -->\n",
       "<g class=\"node\" id=\"node4\"><title>139649719890776</title>\n",
       "<polygon fill=\"none\" points=\"143,-498.5 143,-544.5 457,-544.5 457,-498.5 143,-498.5\" stroke=\"black\"/>\n",
       "<text font-family=\"Times,serif\" font-size=\"14.00\" text-anchor=\"middle\" x=\"217.5\" y=\"-517.8\">crop_layer: Cropping1D</text>\n",
       "<polyline fill=\"none\" points=\"292,-498.5 292,-544.5 \" stroke=\"black\"/>\n",
       "<text font-family=\"Times,serif\" font-size=\"14.00\" text-anchor=\"middle\" x=\"319.5\" y=\"-529.3\">input:</text>\n",
       "<polyline fill=\"none\" points=\"292,-521.5 347,-521.5 \" stroke=\"black\"/>\n",
       "<text font-family=\"Times,serif\" font-size=\"14.00\" text-anchor=\"middle\" x=\"319.5\" y=\"-506.3\">output:</text>\n",
       "<polyline fill=\"none\" points=\"347,-498.5 347,-544.5 \" stroke=\"black\"/>\n",
       "<text font-family=\"Times,serif\" font-size=\"14.00\" text-anchor=\"middle\" x=\"402\" y=\"-529.3\">(None, 200, 100)</text>\n",
       "<polyline fill=\"none\" points=\"347,-521.5 457,-521.5 \" stroke=\"black\"/>\n",
       "<text font-family=\"Times,serif\" font-size=\"14.00\" text-anchor=\"middle\" x=\"402\" y=\"-506.3\">(None, 150, 100)</text>\n",
       "</g>\n",
       "<!-- 139649720136928&#45;&gt;139649719890776 -->\n",
       "<g class=\"edge\" id=\"edge3\"><title>139649720136928-&gt;139649719890776</title>\n",
       "<path d=\"M300,-581.366C300,-573.152 300,-563.658 300,-554.725\" fill=\"none\" stroke=\"black\"/>\n",
       "<polygon fill=\"black\" points=\"303.5,-554.607 300,-544.607 296.5,-554.607 303.5,-554.607\" stroke=\"black\"/>\n",
       "</g>\n",
       "<!-- 139649720138272 -->\n",
       "<g class=\"node\" id=\"node5\"><title>139649720138272</title>\n",
       "<polygon fill=\"none\" points=\"114,-415.5 114,-461.5 486,-461.5 486,-415.5 114,-415.5\" stroke=\"black\"/>\n",
       "<text font-family=\"Times,serif\" font-size=\"14.00\" text-anchor=\"middle\" x=\"217.5\" y=\"-434.8\">max_pooling1d_8: MaxPooling1D</text>\n",
       "<polyline fill=\"none\" points=\"321,-415.5 321,-461.5 \" stroke=\"black\"/>\n",
       "<text font-family=\"Times,serif\" font-size=\"14.00\" text-anchor=\"middle\" x=\"348.5\" y=\"-446.3\">input:</text>\n",
       "<polyline fill=\"none\" points=\"321,-438.5 376,-438.5 \" stroke=\"black\"/>\n",
       "<text font-family=\"Times,serif\" font-size=\"14.00\" text-anchor=\"middle\" x=\"348.5\" y=\"-423.3\">output:</text>\n",
       "<polyline fill=\"none\" points=\"376,-415.5 376,-461.5 \" stroke=\"black\"/>\n",
       "<text font-family=\"Times,serif\" font-size=\"14.00\" text-anchor=\"middle\" x=\"431\" y=\"-446.3\">(None, 150, 100)</text>\n",
       "<polyline fill=\"none\" points=\"376,-438.5 486,-438.5 \" stroke=\"black\"/>\n",
       "<text font-family=\"Times,serif\" font-size=\"14.00\" text-anchor=\"middle\" x=\"431\" y=\"-423.3\">(None, 1, 100)</text>\n",
       "</g>\n",
       "<!-- 139649719890776&#45;&gt;139649720138272 -->\n",
       "<g class=\"edge\" id=\"edge5\"><title>139649719890776-&gt;139649720138272</title>\n",
       "<path d=\"M300,-498.366C300,-490.152 300,-480.658 300,-471.725\" fill=\"none\" stroke=\"black\"/>\n",
       "<polygon fill=\"black\" points=\"303.5,-471.607 300,-461.607 296.5,-471.607 303.5,-471.607\" stroke=\"black\"/>\n",
       "</g>\n",
       "<!-- 139649720137544 -->\n",
       "<g class=\"node\" id=\"node6\"><title>139649720137544</title>\n",
       "<polygon fill=\"none\" points=\"99,-332.5 99,-378.5 501,-378.5 501,-332.5 99,-332.5\" stroke=\"black\"/>\n",
       "<text font-family=\"Times,serif\" font-size=\"14.00\" text-anchor=\"middle\" x=\"175.5\" y=\"-351.8\">maximum_8: Maximum</text>\n",
       "<polyline fill=\"none\" points=\"252,-332.5 252,-378.5 \" stroke=\"black\"/>\n",
       "<text font-family=\"Times,serif\" font-size=\"14.00\" text-anchor=\"middle\" x=\"279.5\" y=\"-363.3\">input:</text>\n",
       "<polyline fill=\"none\" points=\"252,-355.5 307,-355.5 \" stroke=\"black\"/>\n",
       "<text font-family=\"Times,serif\" font-size=\"14.00\" text-anchor=\"middle\" x=\"279.5\" y=\"-340.3\">output:</text>\n",
       "<polyline fill=\"none\" points=\"307,-332.5 307,-378.5 \" stroke=\"black\"/>\n",
       "<text font-family=\"Times,serif\" font-size=\"14.00\" text-anchor=\"middle\" x=\"404\" y=\"-363.3\">[(None, 1, 100), (None, 1, 100)]</text>\n",
       "<polyline fill=\"none\" points=\"307,-355.5 501,-355.5 \" stroke=\"black\"/>\n",
       "<text font-family=\"Times,serif\" font-size=\"14.00\" text-anchor=\"middle\" x=\"404\" y=\"-340.3\">(None, 1, 100)</text>\n",
       "</g>\n",
       "<!-- 139649720138272&#45;&gt;139649720137544 -->\n",
       "<g class=\"edge\" id=\"edge7\"><title>139649720138272-&gt;139649720137544</title>\n",
       "<path d=\"M300,-415.366C300,-407.152 300,-397.658 300,-388.725\" fill=\"none\" stroke=\"black\"/>\n",
       "<polygon fill=\"black\" points=\"303.5,-388.607 300,-378.607 296.5,-388.607 303.5,-388.607\" stroke=\"black\"/>\n",
       "</g>\n",
       "<!-- 139649708523080 -->\n",
       "<g class=\"node\" id=\"node7\"><title>139649708523080</title>\n",
       "<polygon fill=\"none\" points=\"169.5,-249.5 169.5,-295.5 430.5,-295.5 430.5,-249.5 169.5,-249.5\" stroke=\"black\"/>\n",
       "<text font-family=\"Times,serif\" font-size=\"14.00\" text-anchor=\"middle\" x=\"224\" y=\"-268.8\">dense_15: Dense</text>\n",
       "<polyline fill=\"none\" points=\"278.5,-249.5 278.5,-295.5 \" stroke=\"black\"/>\n",
       "<text font-family=\"Times,serif\" font-size=\"14.00\" text-anchor=\"middle\" x=\"306\" y=\"-280.3\">input:</text>\n",
       "<polyline fill=\"none\" points=\"278.5,-272.5 333.5,-272.5 \" stroke=\"black\"/>\n",
       "<text font-family=\"Times,serif\" font-size=\"14.00\" text-anchor=\"middle\" x=\"306\" y=\"-257.3\">output:</text>\n",
       "<polyline fill=\"none\" points=\"333.5,-249.5 333.5,-295.5 \" stroke=\"black\"/>\n",
       "<text font-family=\"Times,serif\" font-size=\"14.00\" text-anchor=\"middle\" x=\"382\" y=\"-280.3\">(None, 1, 100)</text>\n",
       "<polyline fill=\"none\" points=\"333.5,-272.5 430.5,-272.5 \" stroke=\"black\"/>\n",
       "<text font-family=\"Times,serif\" font-size=\"14.00\" text-anchor=\"middle\" x=\"382\" y=\"-257.3\">(None, 1, 500)</text>\n",
       "</g>\n",
       "<!-- 139649720137544&#45;&gt;139649708523080 -->\n",
       "<g class=\"edge\" id=\"edge9\"><title>139649720137544-&gt;139649708523080</title>\n",
       "<path d=\"M300,-332.366C300,-324.152 300,-314.658 300,-305.725\" fill=\"none\" stroke=\"black\"/>\n",
       "<polygon fill=\"black\" points=\"303.5,-305.607 300,-295.607 296.5,-305.607 303.5,-305.607\" stroke=\"black\"/>\n",
       "</g>\n",
       "<!-- 139649719891336 -->\n",
       "<g class=\"node\" id=\"node8\"><title>139649719891336</title>\n",
       "<polygon fill=\"none\" points=\"161.5,-166.5 161.5,-212.5 438.5,-212.5 438.5,-166.5 161.5,-166.5\" stroke=\"black\"/>\n",
       "<text font-family=\"Times,serif\" font-size=\"14.00\" text-anchor=\"middle\" x=\"224\" y=\"-185.8\">dropout_8: Dropout</text>\n",
       "<polyline fill=\"none\" points=\"286.5,-166.5 286.5,-212.5 \" stroke=\"black\"/>\n",
       "<text font-family=\"Times,serif\" font-size=\"14.00\" text-anchor=\"middle\" x=\"314\" y=\"-197.3\">input:</text>\n",
       "<polyline fill=\"none\" points=\"286.5,-189.5 341.5,-189.5 \" stroke=\"black\"/>\n",
       "<text font-family=\"Times,serif\" font-size=\"14.00\" text-anchor=\"middle\" x=\"314\" y=\"-174.3\">output:</text>\n",
       "<polyline fill=\"none\" points=\"341.5,-166.5 341.5,-212.5 \" stroke=\"black\"/>\n",
       "<text font-family=\"Times,serif\" font-size=\"14.00\" text-anchor=\"middle\" x=\"390\" y=\"-197.3\">(None, 1, 500)</text>\n",
       "<polyline fill=\"none\" points=\"341.5,-189.5 438.5,-189.5 \" stroke=\"black\"/>\n",
       "<text font-family=\"Times,serif\" font-size=\"14.00\" text-anchor=\"middle\" x=\"390\" y=\"-174.3\">(None, 1, 500)</text>\n",
       "</g>\n",
       "<!-- 139649708523080&#45;&gt;139649719891336 -->\n",
       "<g class=\"edge\" id=\"edge10\"><title>139649708523080-&gt;139649719891336</title>\n",
       "<path d=\"M300,-249.366C300,-241.152 300,-231.658 300,-222.725\" fill=\"none\" stroke=\"black\"/>\n",
       "<polygon fill=\"black\" points=\"303.5,-222.607 300,-212.607 296.5,-222.607 303.5,-222.607\" stroke=\"black\"/>\n",
       "</g>\n",
       "<!-- 139649708084192 -->\n",
       "<g class=\"node\" id=\"node9\"><title>139649708084192</title>\n",
       "<polygon fill=\"none\" points=\"169,-83.5 169,-129.5 431,-129.5 431,-83.5 169,-83.5\" stroke=\"black\"/>\n",
       "<text font-family=\"Times,serif\" font-size=\"14.00\" text-anchor=\"middle\" x=\"224\" y=\"-102.8\">flatten_8: Flatten</text>\n",
       "<polyline fill=\"none\" points=\"279,-83.5 279,-129.5 \" stroke=\"black\"/>\n",
       "<text font-family=\"Times,serif\" font-size=\"14.00\" text-anchor=\"middle\" x=\"306.5\" y=\"-114.3\">input:</text>\n",
       "<polyline fill=\"none\" points=\"279,-106.5 334,-106.5 \" stroke=\"black\"/>\n",
       "<text font-family=\"Times,serif\" font-size=\"14.00\" text-anchor=\"middle\" x=\"306.5\" y=\"-91.3\">output:</text>\n",
       "<polyline fill=\"none\" points=\"334,-83.5 334,-129.5 \" stroke=\"black\"/>\n",
       "<text font-family=\"Times,serif\" font-size=\"14.00\" text-anchor=\"middle\" x=\"382.5\" y=\"-114.3\">(None, 1, 500)</text>\n",
       "<polyline fill=\"none\" points=\"334,-106.5 431,-106.5 \" stroke=\"black\"/>\n",
       "<text font-family=\"Times,serif\" font-size=\"14.00\" text-anchor=\"middle\" x=\"382.5\" y=\"-91.3\">(None, 500)</text>\n",
       "</g>\n",
       "<!-- 139649719891336&#45;&gt;139649708084192 -->\n",
       "<g class=\"edge\" id=\"edge11\"><title>139649719891336-&gt;139649708084192</title>\n",
       "<path d=\"M300,-166.366C300,-158.152 300,-148.658 300,-139.725\" fill=\"none\" stroke=\"black\"/>\n",
       "<polygon fill=\"black\" points=\"303.5,-139.607 300,-129.607 296.5,-139.607 303.5,-139.607\" stroke=\"black\"/>\n",
       "</g>\n",
       "<!-- 139649708081784 -->\n",
       "<g class=\"node\" id=\"node10\"><title>139649708081784</title>\n",
       "<polygon fill=\"none\" points=\"176.5,-0.5 176.5,-46.5 423.5,-46.5 423.5,-0.5 176.5,-0.5\" stroke=\"black\"/>\n",
       "<text font-family=\"Times,serif\" font-size=\"14.00\" text-anchor=\"middle\" x=\"231\" y=\"-19.8\">dense_16: Dense</text>\n",
       "<polyline fill=\"none\" points=\"285.5,-0.5 285.5,-46.5 \" stroke=\"black\"/>\n",
       "<text font-family=\"Times,serif\" font-size=\"14.00\" text-anchor=\"middle\" x=\"313\" y=\"-31.3\">input:</text>\n",
       "<polyline fill=\"none\" points=\"285.5,-23.5 340.5,-23.5 \" stroke=\"black\"/>\n",
       "<text font-family=\"Times,serif\" font-size=\"14.00\" text-anchor=\"middle\" x=\"313\" y=\"-8.3\">output:</text>\n",
       "<polyline fill=\"none\" points=\"340.5,-0.5 340.5,-46.5 \" stroke=\"black\"/>\n",
       "<text font-family=\"Times,serif\" font-size=\"14.00\" text-anchor=\"middle\" x=\"382\" y=\"-31.3\">(None, 500)</text>\n",
       "<polyline fill=\"none\" points=\"340.5,-23.5 423.5,-23.5 \" stroke=\"black\"/>\n",
       "<text font-family=\"Times,serif\" font-size=\"14.00\" text-anchor=\"middle\" x=\"382\" y=\"-8.3\">(None, 2)</text>\n",
       "</g>\n",
       "<!-- 139649708084192&#45;&gt;139649708081784 -->\n",
       "<g class=\"edge\" id=\"edge12\"><title>139649708084192-&gt;139649708081784</title>\n",
       "<path d=\"M300,-83.3664C300,-75.1516 300,-65.6579 300,-56.7252\" fill=\"none\" stroke=\"black\"/>\n",
       "<polygon fill=\"black\" points=\"303.5,-56.6068 300,-46.6068 296.5,-56.6069 303.5,-56.6068\" stroke=\"black\"/>\n",
       "</g>\n",
       "</g>\n",
       "</svg>"
      ],
      "text/plain": [
       "<IPython.core.display.SVG object>"
      ]
     },
     "execution_count": 144,
     "metadata": {},
     "output_type": "execute_result"
    }
   ],
   "source": [
    "SVG(model_to_dot(convolution_model, show_shapes=True, show_layer_names=True).create(prog='dot', format='svg'))"
   ]
  },
  {
   "cell_type": "code",
   "execution_count": 145,
   "metadata": {},
   "outputs": [
    {
     "name": "stdout",
     "output_type": "stream",
     "text": [
      "Train on 59352 samples, validate on 14838 samples\n",
      "Epoch 1/10\n",
      "59352/59352 [==============================] - 5s 80us/step - loss: 0.5249 - acc: 0.7198 - val_loss: 0.4040 - val_acc: 0.8152\n",
      "Epoch 2/10\n",
      "59352/59352 [==============================] - 4s 60us/step - loss: 0.3783 - acc: 0.8312 - val_loss: 0.3662 - val_acc: 0.8353\n",
      "Epoch 3/10\n",
      "59352/59352 [==============================] - 4s 60us/step - loss: 0.3459 - acc: 0.8490 - val_loss: 0.3574 - val_acc: 0.8425\n",
      "Epoch 4/10\n",
      "59352/59352 [==============================] - 4s 60us/step - loss: 0.3189 - acc: 0.8631 - val_loss: 0.3472 - val_acc: 0.8457\n",
      "Epoch 5/10\n",
      "59352/59352 [==============================] - 4s 60us/step - loss: 0.3075 - acc: 0.8688 - val_loss: 0.3667 - val_acc: 0.8375\n",
      "Epoch 6/10\n",
      "59352/59352 [==============================] - 4s 60us/step - loss: 0.2954 - acc: 0.8748 - val_loss: 0.3948 - val_acc: 0.8215\n",
      "Epoch 7/10\n",
      "59352/59352 [==============================] - 4s 60us/step - loss: 0.2853 - acc: 0.8799 - val_loss: 0.3662 - val_acc: 0.8397\n",
      "Epoch 8/10\n",
      "59352/59352 [==============================] - 4s 60us/step - loss: 0.2769 - acc: 0.8847 - val_loss: 0.3425 - val_acc: 0.8500\n",
      "Epoch 9/10\n",
      "59352/59352 [==============================] - 4s 60us/step - loss: 0.2734 - acc: 0.8859 - val_loss: 0.3539 - val_acc: 0.8464\n",
      "Epoch 10/10\n",
      "59352/59352 [==============================] - 4s 60us/step - loss: 0.2674 - acc: 0.8890 - val_loss: 0.3518 - val_acc: 0.8508\n",
      "Test loss: 0.35175506580404586\n",
      "Test accuracy: 0.8507885159885712\n"
     ]
    }
   ],
   "source": [
    "convolution_model.fit([x_train, x_rc_train], y_train,\n",
    "          batch_size=100,\n",
    "          epochs=10,\n",
    "          verbose=1,\n",
    "          validation_data=([x_test, x_rc_test], y_test))\n",
    "score = convolution_model.evaluate([x_test, x_rc_test], y_test, verbose=0)\n",
    "print('Test loss:', score[0])\n",
    "print('Test accuracy:', score[1])"
   ]
  },
  {
   "cell_type": "code",
   "execution_count": 146,
   "metadata": {},
   "outputs": [
    {
     "data": {
      "text/plain": [
       "0.9290040404301393"
      ]
     },
     "execution_count": 146,
     "metadata": {},
     "output_type": "execute_result"
    }
   ],
   "source": [
    "probs = convolution_model.predict([x_test, x_rc_test])\n",
    "\n",
    "sklearn.metrics.roc_auc_score([y[1] for y in y_test], probs[:,1], )"
   ]
  },
  {
   "cell_type": "markdown",
   "metadata": {},
   "source": [
    "### Attention Model"
   ]
  },
  {
   "cell_type": "code",
   "execution_count": 214,
   "metadata": {},
   "outputs": [
    {
     "name": "stdout",
     "output_type": "stream",
     "text": [
      "Convolution Params: 4000\n",
      "LSTM Params: 12000.0\n",
      "Attention Params: 5600.0\n",
      "Dense Params: 15000.0\n"
     ]
    },
    {
     "data": {
      "text/plain": [
       "36600.0"
      ]
     },
     "execution_count": 214,
     "metadata": {},
     "output_type": "execute_result"
    }
   ],
   "source": [
    "seq_size = 150\n",
    "num_classes = 2\n",
    "num_motifs = 50\n",
    "motif_size = 20\n",
    "adjacent_bp_pool_size = 10\n",
    "attention_dim = 350 \n",
    "attention_hops = 1 \n",
    "num_dense_neurons = 1000 \n",
    "count_num_params(seq_size,\n",
    "    num_motifs, \n",
    "    motif_size,\n",
    "    adjacent_bp_pool_size,\n",
    "    attention_dim,\n",
    "    attention_hops,\n",
    "    num_dense_neurons\n",
    "    )"
   ]
  },
  {
   "cell_type": "code",
   "execution_count": 162,
   "metadata": {},
   "outputs": [
    {
     "name": "stdout",
     "output_type": "stream",
     "text": [
      "forward_motif_scores (?, 200, 100)\n",
      "cropped_fwd_scores (?, 150, 100)\n",
      "flipped_rev_scores (?, 150, 100)\n",
      "concatenated_motif_scores (?, 150, 200)\n",
      "pooled_scores (?, 15, 200)\n",
      "forward_hidden_states (?, ?, 15)\n",
      "reverse_hidden_states (?, ?, 15)\n",
      "bilstm_hidden_states (?, ?, 30)\n"
     ]
    }
   ],
   "source": [
    "total_seq_length = len(fasta_seq[0])\n",
    "\n",
    "input_fwd = Input(shape=(total_seq_length,4), name='input_fwd')\n",
    "input_rev = Input(shape=(total_seq_length,4), name='input_rev')\n",
    "\n",
    "# find motifs\n",
    "convolution_layer = Conv1D(filters=num_motifs, \n",
    "    kernel_size=motif_size,\n",
    "    activation='relu',\n",
    "    input_shape=(total_seq_length,4),\n",
    "    name='convolution_layer',\n",
    "    padding = 'same'\n",
    "    )\n",
    "forward_motif_scores = convolution_layer(input_fwd)\n",
    "reverse_motif_scores = convolution_layer(input_rev)\n",
    "print('forward_motif_scores', forward_motif_scores.shape)\n",
    "\n",
    "# crop motif scores to avoid parts of sequence where motif score is computed in only one direction\n",
    "to_crop = int((total_seq_length - seq_size)/2)\n",
    "crop_layer = Cropping1D(cropping=(to_crop, to_crop), \n",
    "    name='crop_layer')\n",
    "cropped_fwd_scores = crop_layer(forward_motif_scores)\n",
    "cropped_rev_scores = crop_layer(reverse_motif_scores)\n",
    "print('cropped_fwd_scores', cropped_fwd_scores.shape)\n",
    "\n",
    "# flip motif scores\n",
    "flip_layer = Lambda(lambda x: K.reverse(x,axes=0),\n",
    "    output_shape=(seq_size, num_motifs),\n",
    "    name='flip_layer')\n",
    "flipped_rev_scores = flip_layer(cropped_rev_scores)\n",
    "print('flipped_rev_scores', flipped_rev_scores.shape)\n",
    "\n",
    "# concatenate motif scores\n",
    "concatenate_layer = keras.layers.Concatenate(axis=2, name='concatenate_layer')\n",
    "concatenated_motif_scores = concatenate_layer([cropped_fwd_scores, flipped_rev_scores])\n",
    "print('concatenated_motif_scores', concatenated_motif_scores.shape)\n",
    "\n",
    "# pool across length of sequence\n",
    "sequence_pooling_layer = MaxPool1D(pool_size=adjacent_bp_pool_size, \n",
    "    strides=adjacent_bp_pool_size,\n",
    "    name='sequence_pooling_layer')\n",
    "pooled_scores = sequence_pooling_layer(concatenated_motif_scores)\n",
    "print('pooled_scores', pooled_scores.shape)\n",
    "\n",
    "# bidirectional LSTM\n",
    "forward_lstm_layer = LSTM(units=int(seq_size/adjacent_bp_pool_size),\n",
    "    return_sequences=True,\n",
    "    name = 'forward_lstm_layer'\n",
    "    )\n",
    "forward_hidden_states = forward_lstm_layer(pooled_scores)\n",
    "print('forward_hidden_states', forward_hidden_states.shape)\n",
    "\n",
    "reverse_lstm_layer = LSTM(units=int(seq_size/adjacent_bp_pool_size),\n",
    "    return_sequences=True,\n",
    "    name = 'reverse_lstm_layer',\n",
    "    go_backwards=True\n",
    "    )\n",
    "reverse_hidden_states = reverse_lstm_layer(pooled_scores)\n",
    "print('reverse_hidden_states', reverse_hidden_states.shape)\n",
    "\n",
    "# concatenate lstm hidden states\n",
    "lstm_concatenate_layer = Concatenate(axis=2)\n",
    "bilstm_hidden_states = lstm_concatenate_layer([forward_hidden_states, reverse_hidden_states])\n",
    "print('bilstm_hidden_states', bilstm_hidden_states.shape)\n",
    "\n",
    "# fully connected layer\n",
    "dense_layer = Dense(num_dense_neurons, \n",
    "    activation='relu', \n",
    "    name = 'dense_layer'\n",
    "    )\n",
    "\n",
    "dense_output = dense_layer(bilstm_hidden_states)\n",
    "\n",
    "# drop out\n",
    "drop_out = Dropout(0.25,name='dense_dropout')(dense_output)\n",
    "\n",
    "# make prediction\n",
    "flattened = Flatten(name='flatten')(drop_out)\n",
    "predictions = Dense(num_classes,\n",
    "                    name='predictions',\n",
    "                    activation = 'softmax', \n",
    "                   )(flattened)"
   ]
  },
  {
   "cell_type": "code",
   "execution_count": 163,
   "metadata": {
    "collapsed": true
   },
   "outputs": [],
   "source": [
    "# define and compile model\n",
    "bilstm_model = Model(inputs=[input_fwd, input_rev], outputs=predictions)\n",
    "\n",
    "bilstm_model.compile(loss=keras.losses.categorical_crossentropy,\n",
    "              optimizer=keras.optimizers.Adam(),\n",
    "              metrics=['accuracy'])"
   ]
  },
  {
   "cell_type": "code",
   "execution_count": 184,
   "metadata": {},
   "outputs": [
    {
     "data": {
      "image/svg+xml": [
       "<svg height=\"968pt\" viewBox=\"0.00 0.00 676.00 968.00\" width=\"676pt\" xmlns=\"http://www.w3.org/2000/svg\" xmlns:xlink=\"http://www.w3.org/1999/xlink\">\n",
       "<g class=\"graph\" id=\"graph0\" transform=\"scale(1 1) rotate(0) translate(4 964)\">\n",
       "<title>G</title>\n",
       "<polygon fill=\"white\" points=\"-4,4 -4,-964 672,-964 672,4 -4,4\" stroke=\"none\"/>\n",
       "<!-- 139649673675496 -->\n",
       "<g class=\"node\" id=\"node1\"><title>139649673675496</title>\n",
       "<polygon fill=\"none\" points=\"34.5,-913.5 34.5,-959.5 326.5,-959.5 326.5,-913.5 34.5,-913.5\" stroke=\"black\"/>\n",
       "<text font-family=\"Times,serif\" font-size=\"14.00\" text-anchor=\"middle\" x=\"104.5\" y=\"-932.8\">input_fwd: InputLayer</text>\n",
       "<polyline fill=\"none\" points=\"174.5,-913.5 174.5,-959.5 \" stroke=\"black\"/>\n",
       "<text font-family=\"Times,serif\" font-size=\"14.00\" text-anchor=\"middle\" x=\"202\" y=\"-944.3\">input:</text>\n",
       "<polyline fill=\"none\" points=\"174.5,-936.5 229.5,-936.5 \" stroke=\"black\"/>\n",
       "<text font-family=\"Times,serif\" font-size=\"14.00\" text-anchor=\"middle\" x=\"202\" y=\"-921.3\">output:</text>\n",
       "<polyline fill=\"none\" points=\"229.5,-913.5 229.5,-959.5 \" stroke=\"black\"/>\n",
       "<text font-family=\"Times,serif\" font-size=\"14.00\" text-anchor=\"middle\" x=\"278\" y=\"-944.3\">(None, 200, 4)</text>\n",
       "<polyline fill=\"none\" points=\"229.5,-936.5 326.5,-936.5 \" stroke=\"black\"/>\n",
       "<text font-family=\"Times,serif\" font-size=\"14.00\" text-anchor=\"middle\" x=\"278\" y=\"-921.3\">(None, 200, 4)</text>\n",
       "</g>\n",
       "<!-- 139649673675552 -->\n",
       "<g class=\"node\" id=\"node3\"><title>139649673675552</title>\n",
       "<polygon fill=\"none\" points=\"168,-830.5 168,-876.5 501,-876.5 501,-830.5 168,-830.5\" stroke=\"black\"/>\n",
       "<text font-family=\"Times,serif\" font-size=\"14.00\" text-anchor=\"middle\" x=\"252\" y=\"-849.8\">convolution_layer: Conv1D</text>\n",
       "<polyline fill=\"none\" points=\"336,-830.5 336,-876.5 \" stroke=\"black\"/>\n",
       "<text font-family=\"Times,serif\" font-size=\"14.00\" text-anchor=\"middle\" x=\"363.5\" y=\"-861.3\">input:</text>\n",
       "<polyline fill=\"none\" points=\"336,-853.5 391,-853.5 \" stroke=\"black\"/>\n",
       "<text font-family=\"Times,serif\" font-size=\"14.00\" text-anchor=\"middle\" x=\"363.5\" y=\"-838.3\">output:</text>\n",
       "<polyline fill=\"none\" points=\"391,-830.5 391,-876.5 \" stroke=\"black\"/>\n",
       "<text font-family=\"Times,serif\" font-size=\"14.00\" text-anchor=\"middle\" x=\"446\" y=\"-861.3\">(None, 200, 4)</text>\n",
       "<polyline fill=\"none\" points=\"391,-853.5 501,-853.5 \" stroke=\"black\"/>\n",
       "<text font-family=\"Times,serif\" font-size=\"14.00\" text-anchor=\"middle\" x=\"446\" y=\"-838.3\">(None, 200, 100)</text>\n",
       "</g>\n",
       "<!-- 139649673675496&#45;&gt;139649673675552 -->\n",
       "<g class=\"edge\" id=\"edge1\"><title>139649673675496-&gt;139649673675552</title>\n",
       "<path d=\"M222.581,-913.366C241.425,-903.455 263.808,-891.682 283.587,-881.279\" fill=\"none\" stroke=\"black\"/>\n",
       "<polygon fill=\"black\" points=\"285.249,-884.36 292.47,-876.607 281.99,-878.164 285.249,-884.36\" stroke=\"black\"/>\n",
       "</g>\n",
       "<!-- 139649673675608 -->\n",
       "<g class=\"node\" id=\"node2\"><title>139649673675608</title>\n",
       "<polygon fill=\"none\" points=\"344.5,-913.5 344.5,-959.5 632.5,-959.5 632.5,-913.5 344.5,-913.5\" stroke=\"black\"/>\n",
       "<text font-family=\"Times,serif\" font-size=\"14.00\" text-anchor=\"middle\" x=\"412.5\" y=\"-932.8\">input_rev: InputLayer</text>\n",
       "<polyline fill=\"none\" points=\"480.5,-913.5 480.5,-959.5 \" stroke=\"black\"/>\n",
       "<text font-family=\"Times,serif\" font-size=\"14.00\" text-anchor=\"middle\" x=\"508\" y=\"-944.3\">input:</text>\n",
       "<polyline fill=\"none\" points=\"480.5,-936.5 535.5,-936.5 \" stroke=\"black\"/>\n",
       "<text font-family=\"Times,serif\" font-size=\"14.00\" text-anchor=\"middle\" x=\"508\" y=\"-921.3\">output:</text>\n",
       "<polyline fill=\"none\" points=\"535.5,-913.5 535.5,-959.5 \" stroke=\"black\"/>\n",
       "<text font-family=\"Times,serif\" font-size=\"14.00\" text-anchor=\"middle\" x=\"584\" y=\"-944.3\">(None, 200, 4)</text>\n",
       "<polyline fill=\"none\" points=\"535.5,-936.5 632.5,-936.5 \" stroke=\"black\"/>\n",
       "<text font-family=\"Times,serif\" font-size=\"14.00\" text-anchor=\"middle\" x=\"584\" y=\"-921.3\">(None, 200, 4)</text>\n",
       "</g>\n",
       "<!-- 139649673675608&#45;&gt;139649673675552 -->\n",
       "<g class=\"edge\" id=\"edge2\"><title>139649673675608-&gt;139649673675552</title>\n",
       "<path d=\"M446.419,-913.366C427.575,-903.455 405.192,-891.682 385.413,-881.279\" fill=\"none\" stroke=\"black\"/>\n",
       "<polygon fill=\"black\" points=\"387.01,-878.164 376.53,-876.607 383.751,-884.36 387.01,-878.164\" stroke=\"black\"/>\n",
       "</g>\n",
       "<!-- 139649673720160 -->\n",
       "<g class=\"node\" id=\"node4\"><title>139649673720160</title>\n",
       "<polygon fill=\"none\" points=\"177.5,-747.5 177.5,-793.5 491.5,-793.5 491.5,-747.5 177.5,-747.5\" stroke=\"black\"/>\n",
       "<text font-family=\"Times,serif\" font-size=\"14.00\" text-anchor=\"middle\" x=\"252\" y=\"-766.8\">crop_layer: Cropping1D</text>\n",
       "<polyline fill=\"none\" points=\"326.5,-747.5 326.5,-793.5 \" stroke=\"black\"/>\n",
       "<text font-family=\"Times,serif\" font-size=\"14.00\" text-anchor=\"middle\" x=\"354\" y=\"-778.3\">input:</text>\n",
       "<polyline fill=\"none\" points=\"326.5,-770.5 381.5,-770.5 \" stroke=\"black\"/>\n",
       "<text font-family=\"Times,serif\" font-size=\"14.00\" text-anchor=\"middle\" x=\"354\" y=\"-755.3\">output:</text>\n",
       "<polyline fill=\"none\" points=\"381.5,-747.5 381.5,-793.5 \" stroke=\"black\"/>\n",
       "<text font-family=\"Times,serif\" font-size=\"14.00\" text-anchor=\"middle\" x=\"436.5\" y=\"-778.3\">(None, 200, 100)</text>\n",
       "<polyline fill=\"none\" points=\"381.5,-770.5 491.5,-770.5 \" stroke=\"black\"/>\n",
       "<text font-family=\"Times,serif\" font-size=\"14.00\" text-anchor=\"middle\" x=\"436.5\" y=\"-755.3\">(None, 150, 100)</text>\n",
       "</g>\n",
       "<!-- 139649673675552&#45;&gt;139649673720160 -->\n",
       "<g class=\"edge\" id=\"edge3\"><title>139649673675552-&gt;139649673720160</title>\n",
       "<path d=\"M334.5,-830.366C334.5,-822.152 334.5,-812.658 334.5,-803.725\" fill=\"none\" stroke=\"black\"/>\n",
       "<polygon fill=\"black\" points=\"338,-803.607 334.5,-793.607 331,-803.607 338,-803.607\" stroke=\"black\"/>\n",
       "</g>\n",
       "<!-- 139649673805720 -->\n",
       "<g class=\"node\" id=\"node5\"><title>139649673805720</title>\n",
       "<polygon fill=\"none\" points=\"105,-664.5 105,-710.5 392,-710.5 392,-664.5 105,-664.5\" stroke=\"black\"/>\n",
       "<text font-family=\"Times,serif\" font-size=\"14.00\" text-anchor=\"middle\" x=\"166\" y=\"-683.8\">flip_layer: Lambda</text>\n",
       "<polyline fill=\"none\" points=\"227,-664.5 227,-710.5 \" stroke=\"black\"/>\n",
       "<text font-family=\"Times,serif\" font-size=\"14.00\" text-anchor=\"middle\" x=\"254.5\" y=\"-695.3\">input:</text>\n",
       "<polyline fill=\"none\" points=\"227,-687.5 282,-687.5 \" stroke=\"black\"/>\n",
       "<text font-family=\"Times,serif\" font-size=\"14.00\" text-anchor=\"middle\" x=\"254.5\" y=\"-672.3\">output:</text>\n",
       "<polyline fill=\"none\" points=\"282,-664.5 282,-710.5 \" stroke=\"black\"/>\n",
       "<text font-family=\"Times,serif\" font-size=\"14.00\" text-anchor=\"middle\" x=\"337\" y=\"-695.3\">(None, 150, 100)</text>\n",
       "<polyline fill=\"none\" points=\"282,-687.5 392,-687.5 \" stroke=\"black\"/>\n",
       "<text font-family=\"Times,serif\" font-size=\"14.00\" text-anchor=\"middle\" x=\"337\" y=\"-672.3\">(None, 150, 100)</text>\n",
       "</g>\n",
       "<!-- 139649673720160&#45;&gt;139649673805720 -->\n",
       "<g class=\"edge\" id=\"edge5\"><title>139649673720160-&gt;139649673805720</title>\n",
       "<path d=\"M311,-747.366C301.235,-738.169 289.769,-727.369 279.341,-717.548\" fill=\"none\" stroke=\"black\"/>\n",
       "<polygon fill=\"black\" points=\"281.651,-714.915 271.971,-710.607 276.851,-720.011 281.651,-714.915\" stroke=\"black\"/>\n",
       "</g>\n",
       "<!-- 139649673719648 -->\n",
       "<g class=\"node\" id=\"node6\"><title>139649673719648</title>\n",
       "<polygon fill=\"none\" points=\"102.5,-581.5 102.5,-627.5 566.5,-627.5 566.5,-581.5 102.5,-581.5\" stroke=\"black\"/>\n",
       "<text font-family=\"Times,serif\" font-size=\"14.00\" text-anchor=\"middle\" x=\"196.5\" y=\"-600.8\">concatenate_layer: Concatenate</text>\n",
       "<polyline fill=\"none\" points=\"290.5,-581.5 290.5,-627.5 \" stroke=\"black\"/>\n",
       "<text font-family=\"Times,serif\" font-size=\"14.00\" text-anchor=\"middle\" x=\"318\" y=\"-612.3\">input:</text>\n",
       "<polyline fill=\"none\" points=\"290.5,-604.5 345.5,-604.5 \" stroke=\"black\"/>\n",
       "<text font-family=\"Times,serif\" font-size=\"14.00\" text-anchor=\"middle\" x=\"318\" y=\"-589.3\">output:</text>\n",
       "<polyline fill=\"none\" points=\"345.5,-581.5 345.5,-627.5 \" stroke=\"black\"/>\n",
       "<text font-family=\"Times,serif\" font-size=\"14.00\" text-anchor=\"middle\" x=\"456\" y=\"-612.3\">[(None, 150, 100), (None, 150, 100)]</text>\n",
       "<polyline fill=\"none\" points=\"345.5,-604.5 566.5,-604.5 \" stroke=\"black\"/>\n",
       "<text font-family=\"Times,serif\" font-size=\"14.00\" text-anchor=\"middle\" x=\"456\" y=\"-589.3\">(None, 150, 200)</text>\n",
       "</g>\n",
       "<!-- 139649673720160&#45;&gt;139649673719648 -->\n",
       "<g class=\"edge\" id=\"edge6\"><title>139649673720160-&gt;139649673719648</title>\n",
       "<path d=\"M370.639,-747.306C382.789,-737.778 394.92,-725.48 401.5,-711 410.142,-691.982 410.142,-683.018 401.5,-664 396.359,-652.687 387.831,-642.706 378.552,-634.338\" fill=\"none\" stroke=\"black\"/>\n",
       "<polygon fill=\"black\" points=\"380.548,-631.444 370.639,-627.694 376.046,-636.805 380.548,-631.444\" stroke=\"black\"/>\n",
       "</g>\n",
       "<!-- 139649673805720&#45;&gt;139649673719648 -->\n",
       "<g class=\"edge\" id=\"edge7\"><title>139649673805720-&gt;139649673719648</title>\n",
       "<path d=\"M272,-664.366C281.765,-655.169 293.231,-644.369 303.659,-634.548\" fill=\"none\" stroke=\"black\"/>\n",
       "<polygon fill=\"black\" points=\"306.149,-637.011 311.029,-627.607 301.349,-631.915 306.149,-637.011\" stroke=\"black\"/>\n",
       "</g>\n",
       "<!-- 139649637232144 -->\n",
       "<g class=\"node\" id=\"node7\"><title>139649637232144</title>\n",
       "<polygon fill=\"none\" points=\"132.5,-498.5 132.5,-544.5 536.5,-544.5 536.5,-498.5 132.5,-498.5\" stroke=\"black\"/>\n",
       "<text font-family=\"Times,serif\" font-size=\"14.00\" text-anchor=\"middle\" x=\"252\" y=\"-517.8\">sequence_pooling_layer: MaxPooling1D</text>\n",
       "<polyline fill=\"none\" points=\"371.5,-498.5 371.5,-544.5 \" stroke=\"black\"/>\n",
       "<text font-family=\"Times,serif\" font-size=\"14.00\" text-anchor=\"middle\" x=\"399\" y=\"-529.3\">input:</text>\n",
       "<polyline fill=\"none\" points=\"371.5,-521.5 426.5,-521.5 \" stroke=\"black\"/>\n",
       "<text font-family=\"Times,serif\" font-size=\"14.00\" text-anchor=\"middle\" x=\"399\" y=\"-506.3\">output:</text>\n",
       "<polyline fill=\"none\" points=\"426.5,-498.5 426.5,-544.5 \" stroke=\"black\"/>\n",
       "<text font-family=\"Times,serif\" font-size=\"14.00\" text-anchor=\"middle\" x=\"481.5\" y=\"-529.3\">(None, 150, 200)</text>\n",
       "<polyline fill=\"none\" points=\"426.5,-521.5 536.5,-521.5 \" stroke=\"black\"/>\n",
       "<text font-family=\"Times,serif\" font-size=\"14.00\" text-anchor=\"middle\" x=\"481.5\" y=\"-506.3\">(None, 15, 200)</text>\n",
       "</g>\n",
       "<!-- 139649673719648&#45;&gt;139649637232144 -->\n",
       "<g class=\"edge\" id=\"edge8\"><title>139649673719648-&gt;139649637232144</title>\n",
       "<path d=\"M334.5,-581.366C334.5,-573.152 334.5,-563.658 334.5,-554.725\" fill=\"none\" stroke=\"black\"/>\n",
       "<polygon fill=\"black\" points=\"338,-554.607 334.5,-544.607 331,-554.607 338,-554.607\" stroke=\"black\"/>\n",
       "</g>\n",
       "<!-- 139649673805776 -->\n",
       "<g class=\"node\" id=\"node8\"><title>139649673805776</title>\n",
       "<polygon fill=\"none\" points=\"0,-415.5 0,-461.5 327,-461.5 327,-415.5 0,-415.5\" stroke=\"black\"/>\n",
       "<text font-family=\"Times,serif\" font-size=\"14.00\" text-anchor=\"middle\" x=\"84\" y=\"-434.8\">forward_lstm_layer: LSTM</text>\n",
       "<polyline fill=\"none\" points=\"168,-415.5 168,-461.5 \" stroke=\"black\"/>\n",
       "<text font-family=\"Times,serif\" font-size=\"14.00\" text-anchor=\"middle\" x=\"195.5\" y=\"-446.3\">input:</text>\n",
       "<polyline fill=\"none\" points=\"168,-438.5 223,-438.5 \" stroke=\"black\"/>\n",
       "<text font-family=\"Times,serif\" font-size=\"14.00\" text-anchor=\"middle\" x=\"195.5\" y=\"-423.3\">output:</text>\n",
       "<polyline fill=\"none\" points=\"223,-415.5 223,-461.5 \" stroke=\"black\"/>\n",
       "<text font-family=\"Times,serif\" font-size=\"14.00\" text-anchor=\"middle\" x=\"275\" y=\"-446.3\">(None, 15, 200)</text>\n",
       "<polyline fill=\"none\" points=\"223,-438.5 327,-438.5 \" stroke=\"black\"/>\n",
       "<text font-family=\"Times,serif\" font-size=\"14.00\" text-anchor=\"middle\" x=\"275\" y=\"-423.3\">(None, 15, 15)</text>\n",
       "</g>\n",
       "<!-- 139649637232144&#45;&gt;139649673805776 -->\n",
       "<g class=\"edge\" id=\"edge9\"><title>139649637232144-&gt;139649673805776</title>\n",
       "<path d=\"M287.773,-498.366C266.661,-488.366 241.547,-476.47 219.44,-465.998\" fill=\"none\" stroke=\"black\"/>\n",
       "<polygon fill=\"black\" points=\"220.706,-462.725 210.17,-461.607 217.709,-469.051 220.706,-462.725\" stroke=\"black\"/>\n",
       "</g>\n",
       "<!-- 139649637324728 -->\n",
       "<g class=\"node\" id=\"node9\"><title>139649637324728</title>\n",
       "<polygon fill=\"none\" points=\"345,-415.5 345,-461.5 668,-461.5 668,-415.5 345,-415.5\" stroke=\"black\"/>\n",
       "<text font-family=\"Times,serif\" font-size=\"14.00\" text-anchor=\"middle\" x=\"427\" y=\"-434.8\">reverse_lstm_layer: LSTM</text>\n",
       "<polyline fill=\"none\" points=\"509,-415.5 509,-461.5 \" stroke=\"black\"/>\n",
       "<text font-family=\"Times,serif\" font-size=\"14.00\" text-anchor=\"middle\" x=\"536.5\" y=\"-446.3\">input:</text>\n",
       "<polyline fill=\"none\" points=\"509,-438.5 564,-438.5 \" stroke=\"black\"/>\n",
       "<text font-family=\"Times,serif\" font-size=\"14.00\" text-anchor=\"middle\" x=\"536.5\" y=\"-423.3\">output:</text>\n",
       "<polyline fill=\"none\" points=\"564,-415.5 564,-461.5 \" stroke=\"black\"/>\n",
       "<text font-family=\"Times,serif\" font-size=\"14.00\" text-anchor=\"middle\" x=\"616\" y=\"-446.3\">(None, 15, 200)</text>\n",
       "<polyline fill=\"none\" points=\"564,-438.5 668,-438.5 \" stroke=\"black\"/>\n",
       "<text font-family=\"Times,serif\" font-size=\"14.00\" text-anchor=\"middle\" x=\"616\" y=\"-423.3\">(None, 15, 15)</text>\n",
       "</g>\n",
       "<!-- 139649637232144&#45;&gt;139649637324728 -->\n",
       "<g class=\"edge\" id=\"edge10\"><title>139649637232144-&gt;139649637324728</title>\n",
       "<path d=\"M381.5,-498.366C402.736,-488.366 427.996,-476.47 450.233,-465.998\" fill=\"none\" stroke=\"black\"/>\n",
       "<polygon fill=\"black\" points=\"452.001,-469.034 459.557,-461.607 449.019,-462.701 452.001,-469.034\" stroke=\"black\"/>\n",
       "</g>\n",
       "<!-- 139649633378376 -->\n",
       "<g class=\"node\" id=\"node10\"><title>139649633378376</title>\n",
       "<polygon fill=\"none\" points=\"122.5,-332.5 122.5,-378.5 546.5,-378.5 546.5,-332.5 122.5,-332.5\" stroke=\"black\"/>\n",
       "<text font-family=\"Times,serif\" font-size=\"14.00\" text-anchor=\"middle\" x=\"210\" y=\"-351.8\">concatenate_12: Concatenate</text>\n",
       "<polyline fill=\"none\" points=\"297.5,-332.5 297.5,-378.5 \" stroke=\"black\"/>\n",
       "<text font-family=\"Times,serif\" font-size=\"14.00\" text-anchor=\"middle\" x=\"325\" y=\"-363.3\">input:</text>\n",
       "<polyline fill=\"none\" points=\"297.5,-355.5 352.5,-355.5 \" stroke=\"black\"/>\n",
       "<text font-family=\"Times,serif\" font-size=\"14.00\" text-anchor=\"middle\" x=\"325\" y=\"-340.3\">output:</text>\n",
       "<polyline fill=\"none\" points=\"352.5,-332.5 352.5,-378.5 \" stroke=\"black\"/>\n",
       "<text font-family=\"Times,serif\" font-size=\"14.00\" text-anchor=\"middle\" x=\"449.5\" y=\"-363.3\">[(None, 15, 15), (None, 15, 15)]</text>\n",
       "<polyline fill=\"none\" points=\"352.5,-355.5 546.5,-355.5 \" stroke=\"black\"/>\n",
       "<text font-family=\"Times,serif\" font-size=\"14.00\" text-anchor=\"middle\" x=\"449.5\" y=\"-340.3\">(None, 15, 30)</text>\n",
       "</g>\n",
       "<!-- 139649673805776&#45;&gt;139649633378376 -->\n",
       "<g class=\"edge\" id=\"edge11\"><title>139649673805776-&gt;139649633378376</title>\n",
       "<path d=\"M210.227,-415.366C231.339,-405.366 256.453,-393.47 278.56,-382.998\" fill=\"none\" stroke=\"black\"/>\n",
       "<polygon fill=\"black\" points=\"280.291,-386.051 287.83,-378.607 277.294,-379.725 280.291,-386.051\" stroke=\"black\"/>\n",
       "</g>\n",
       "<!-- 139649637324728&#45;&gt;139649633378376 -->\n",
       "<g class=\"edge\" id=\"edge12\"><title>139649637324728-&gt;139649633378376</title>\n",
       "<path d=\"M459.5,-415.366C438.264,-405.366 413.004,-393.47 390.767,-382.998\" fill=\"none\" stroke=\"black\"/>\n",
       "<polygon fill=\"black\" points=\"391.981,-379.701 381.443,-378.607 388.999,-386.034 391.981,-379.701\" stroke=\"black\"/>\n",
       "</g>\n",
       "<!-- 139649631792208 -->\n",
       "<g class=\"node\" id=\"node11\"><title>139649631792208</title>\n",
       "<polygon fill=\"none\" points=\"191,-249.5 191,-295.5 478,-295.5 478,-249.5 191,-249.5\" stroke=\"black\"/>\n",
       "<text font-family=\"Times,serif\" font-size=\"14.00\" text-anchor=\"middle\" x=\"252\" y=\"-268.8\">dense_layer: Dense</text>\n",
       "<polyline fill=\"none\" points=\"313,-249.5 313,-295.5 \" stroke=\"black\"/>\n",
       "<text font-family=\"Times,serif\" font-size=\"14.00\" text-anchor=\"middle\" x=\"340.5\" y=\"-280.3\">input:</text>\n",
       "<polyline fill=\"none\" points=\"313,-272.5 368,-272.5 \" stroke=\"black\"/>\n",
       "<text font-family=\"Times,serif\" font-size=\"14.00\" text-anchor=\"middle\" x=\"340.5\" y=\"-257.3\">output:</text>\n",
       "<polyline fill=\"none\" points=\"368,-249.5 368,-295.5 \" stroke=\"black\"/>\n",
       "<text font-family=\"Times,serif\" font-size=\"14.00\" text-anchor=\"middle\" x=\"423\" y=\"-280.3\">(None, 15, 30)</text>\n",
       "<polyline fill=\"none\" points=\"368,-272.5 478,-272.5 \" stroke=\"black\"/>\n",
       "<text font-family=\"Times,serif\" font-size=\"14.00\" text-anchor=\"middle\" x=\"423\" y=\"-257.3\">(None, 15, 1000)</text>\n",
       "</g>\n",
       "<!-- 139649633378376&#45;&gt;139649631792208 -->\n",
       "<g class=\"edge\" id=\"edge13\"><title>139649633378376-&gt;139649631792208</title>\n",
       "<path d=\"M334.5,-332.366C334.5,-324.152 334.5,-314.658 334.5,-305.725\" fill=\"none\" stroke=\"black\"/>\n",
       "<polygon fill=\"black\" points=\"338,-305.607 334.5,-295.607 331,-305.607 338,-305.607\" stroke=\"black\"/>\n",
       "</g>\n",
       "<!-- 139649631493592 -->\n",
       "<g class=\"node\" id=\"node12\"><title>139649631493592</title>\n",
       "<polygon fill=\"none\" points=\"177.5,-166.5 177.5,-212.5 491.5,-212.5 491.5,-166.5 177.5,-166.5\" stroke=\"black\"/>\n",
       "<text font-family=\"Times,serif\" font-size=\"14.00\" text-anchor=\"middle\" x=\"252\" y=\"-185.8\">dense_dropout: Dropout</text>\n",
       "<polyline fill=\"none\" points=\"326.5,-166.5 326.5,-212.5 \" stroke=\"black\"/>\n",
       "<text font-family=\"Times,serif\" font-size=\"14.00\" text-anchor=\"middle\" x=\"354\" y=\"-197.3\">input:</text>\n",
       "<polyline fill=\"none\" points=\"326.5,-189.5 381.5,-189.5 \" stroke=\"black\"/>\n",
       "<text font-family=\"Times,serif\" font-size=\"14.00\" text-anchor=\"middle\" x=\"354\" y=\"-174.3\">output:</text>\n",
       "<polyline fill=\"none\" points=\"381.5,-166.5 381.5,-212.5 \" stroke=\"black\"/>\n",
       "<text font-family=\"Times,serif\" font-size=\"14.00\" text-anchor=\"middle\" x=\"436.5\" y=\"-197.3\">(None, 15, 1000)</text>\n",
       "<polyline fill=\"none\" points=\"381.5,-189.5 491.5,-189.5 \" stroke=\"black\"/>\n",
       "<text font-family=\"Times,serif\" font-size=\"14.00\" text-anchor=\"middle\" x=\"436.5\" y=\"-174.3\">(None, 15, 1000)</text>\n",
       "</g>\n",
       "<!-- 139649631792208&#45;&gt;139649631493592 -->\n",
       "<g class=\"edge\" id=\"edge14\"><title>139649631792208-&gt;139649631493592</title>\n",
       "<path d=\"M334.5,-249.366C334.5,-241.152 334.5,-231.658 334.5,-222.725\" fill=\"none\" stroke=\"black\"/>\n",
       "<polygon fill=\"black\" points=\"338,-222.607 334.5,-212.607 331,-222.607 338,-222.607\" stroke=\"black\"/>\n",
       "</g>\n",
       "<!-- 139649631494040 -->\n",
       "<g class=\"node\" id=\"node13\"><title>139649631494040</title>\n",
       "<polygon fill=\"none\" points=\"204,-83.5 204,-129.5 465,-129.5 465,-83.5 204,-83.5\" stroke=\"black\"/>\n",
       "<text font-family=\"Times,serif\" font-size=\"14.00\" text-anchor=\"middle\" x=\"252\" y=\"-102.8\">flatten: Flatten</text>\n",
       "<polyline fill=\"none\" points=\"300,-83.5 300,-129.5 \" stroke=\"black\"/>\n",
       "<text font-family=\"Times,serif\" font-size=\"14.00\" text-anchor=\"middle\" x=\"327.5\" y=\"-114.3\">input:</text>\n",
       "<polyline fill=\"none\" points=\"300,-106.5 355,-106.5 \" stroke=\"black\"/>\n",
       "<text font-family=\"Times,serif\" font-size=\"14.00\" text-anchor=\"middle\" x=\"327.5\" y=\"-91.3\">output:</text>\n",
       "<polyline fill=\"none\" points=\"355,-83.5 355,-129.5 \" stroke=\"black\"/>\n",
       "<text font-family=\"Times,serif\" font-size=\"14.00\" text-anchor=\"middle\" x=\"410\" y=\"-114.3\">(None, 15, 1000)</text>\n",
       "<polyline fill=\"none\" points=\"355,-106.5 465,-106.5 \" stroke=\"black\"/>\n",
       "<text font-family=\"Times,serif\" font-size=\"14.00\" text-anchor=\"middle\" x=\"410\" y=\"-91.3\">(None, 15000)</text>\n",
       "</g>\n",
       "<!-- 139649631493592&#45;&gt;139649631494040 -->\n",
       "<g class=\"edge\" id=\"edge15\"><title>139649631493592-&gt;139649631494040</title>\n",
       "<path d=\"M334.5,-166.366C334.5,-158.152 334.5,-148.658 334.5,-139.725\" fill=\"none\" stroke=\"black\"/>\n",
       "<polygon fill=\"black\" points=\"338,-139.607 334.5,-129.607 331,-139.607 338,-139.607\" stroke=\"black\"/>\n",
       "</g>\n",
       "<!-- 139649631165296 -->\n",
       "<g class=\"node\" id=\"node14\"><title>139649631165296</title>\n",
       "<polygon fill=\"none\" points=\"200,-0.5 200,-46.5 469,-46.5 469,-0.5 200,-0.5\" stroke=\"black\"/>\n",
       "<text font-family=\"Times,serif\" font-size=\"14.00\" text-anchor=\"middle\" x=\"259\" y=\"-19.8\">predictions: Dense</text>\n",
       "<polyline fill=\"none\" points=\"318,-0.5 318,-46.5 \" stroke=\"black\"/>\n",
       "<text font-family=\"Times,serif\" font-size=\"14.00\" text-anchor=\"middle\" x=\"345.5\" y=\"-31.3\">input:</text>\n",
       "<polyline fill=\"none\" points=\"318,-23.5 373,-23.5 \" stroke=\"black\"/>\n",
       "<text font-family=\"Times,serif\" font-size=\"14.00\" text-anchor=\"middle\" x=\"345.5\" y=\"-8.3\">output:</text>\n",
       "<polyline fill=\"none\" points=\"373,-0.5 373,-46.5 \" stroke=\"black\"/>\n",
       "<text font-family=\"Times,serif\" font-size=\"14.00\" text-anchor=\"middle\" x=\"421\" y=\"-31.3\">(None, 15000)</text>\n",
       "<polyline fill=\"none\" points=\"373,-23.5 469,-23.5 \" stroke=\"black\"/>\n",
       "<text font-family=\"Times,serif\" font-size=\"14.00\" text-anchor=\"middle\" x=\"421\" y=\"-8.3\">(None, 2)</text>\n",
       "</g>\n",
       "<!-- 139649631494040&#45;&gt;139649631165296 -->\n",
       "<g class=\"edge\" id=\"edge16\"><title>139649631494040-&gt;139649631165296</title>\n",
       "<path d=\"M334.5,-83.3664C334.5,-75.1516 334.5,-65.6579 334.5,-56.7252\" fill=\"none\" stroke=\"black\"/>\n",
       "<polygon fill=\"black\" points=\"338,-56.6068 334.5,-46.6068 331,-56.6069 338,-56.6068\" stroke=\"black\"/>\n",
       "</g>\n",
       "</g>\n",
       "</svg>"
      ],
      "text/plain": [
       "<IPython.core.display.SVG object>"
      ]
     },
     "execution_count": 184,
     "metadata": {},
     "output_type": "execute_result"
    }
   ],
   "source": [
    "SVG(model_to_dot(bilstm_model, show_shapes=True, show_layer_names=True).create(prog='dot', format='svg'))"
   ]
  },
  {
   "cell_type": "code",
   "execution_count": 165,
   "metadata": {
    "scrolled": false
   },
   "outputs": [
    {
     "name": "stdout",
     "output_type": "stream",
     "text": [
      "Train on 59352 samples, validate on 14838 samples\n",
      "Epoch 1/10\n",
      "59352/59352 [==============================] - 20s 338us/step - loss: 0.6107 - acc: 0.6445 - val_loss: 0.5357 - val_acc: 0.7328\n",
      "Epoch 2/10\n",
      "59352/59352 [==============================] - 18s 310us/step - loss: 0.4618 - acc: 0.7808 - val_loss: 0.4214 - val_acc: 0.8024\n",
      "Epoch 3/10\n",
      "59352/59352 [==============================] - 18s 310us/step - loss: 0.3931 - acc: 0.8217 - val_loss: 0.3870 - val_acc: 0.8267\n",
      "Epoch 4/10\n",
      "59352/59352 [==============================] - 18s 310us/step - loss: 0.3601 - acc: 0.8420 - val_loss: 0.3789 - val_acc: 0.8333\n",
      "Epoch 5/10\n",
      "59352/59352 [==============================] - 18s 310us/step - loss: 0.3352 - acc: 0.8551 - val_loss: 0.3592 - val_acc: 0.8430\n",
      "Epoch 6/10\n",
      "59352/59352 [==============================] - 18s 310us/step - loss: 0.3200 - acc: 0.8625 - val_loss: 0.3528 - val_acc: 0.8469\n",
      "Epoch 7/10\n",
      "59352/59352 [==============================] - 18s 310us/step - loss: 0.3077 - acc: 0.8692 - val_loss: 0.3483 - val_acc: 0.8499\n",
      "Epoch 8/10\n",
      "59352/59352 [==============================] - 18s 310us/step - loss: 0.2956 - acc: 0.8742 - val_loss: 0.3550 - val_acc: 0.8461\n",
      "Epoch 9/10\n",
      "59352/59352 [==============================] - 18s 310us/step - loss: 0.2868 - acc: 0.8791 - val_loss: 0.3481 - val_acc: 0.8478\n",
      "Epoch 10/10\n",
      "59352/59352 [==============================] - 18s 311us/step - loss: 0.2823 - acc: 0.8813 - val_loss: 0.3507 - val_acc: 0.8517\n",
      "Test loss: 0.35110518303758165\n",
      "Test accuracy: 0.8503841488392531\n"
     ]
    }
   ],
   "source": [
    "bilstm_model.fit([x_train, x_rc_train], y_train,\n",
    "          batch_size=100,\n",
    "          epochs=10,\n",
    "          verbose=1,\n",
    "          validation_data=([x_test, x_rc_test], y_test))\n",
    "score = bilstm_model.evaluate([x_test, x_rc_test], y_test, verbose=0)\n",
    "print('Test loss:', score[0])\n",
    "print('Test accuracy:', score[1])"
   ]
  },
  {
   "cell_type": "code",
   "execution_count": 166,
   "metadata": {},
   "outputs": [
    {
     "data": {
      "text/plain": [
       "0.926895845746917"
      ]
     },
     "execution_count": 166,
     "metadata": {},
     "output_type": "execute_result"
    }
   ],
   "source": [
    "probs = bilstm_model.predict([x_test, x_rc_test])\n",
    "\n",
    "sklearn.metrics.roc_auc_score([y[1] for y in y_test], probs[:,1], )"
   ]
  },
  {
   "cell_type": "markdown",
   "metadata": {},
   "source": [
    "### Attention Model"
   ]
  },
  {
   "cell_type": "code",
   "execution_count": 627,
   "metadata": {},
   "outputs": [
    {
     "name": "stdout",
     "output_type": "stream",
     "text": [
      "Convolution Params: 1200\n",
      "LSTM Params: 60000.0\n",
      "Attention Params: 30200.0\n",
      "Dense Params: 75000.0\n"
     ]
    },
    {
     "data": {
      "text/plain": [
       "166400.0"
      ]
     },
     "execution_count": 627,
     "metadata": {},
     "output_type": "execute_result"
    }
   ],
   "source": [
    "seq_size = 150\n",
    "num_classes = 2\n",
    "num_motifs = 25\n",
    "motif_size = 12\n",
    "adjacent_bp_pool_size = 1\n",
    "attention_dim = 200\n",
    "attention_hops = 1\n",
    "num_dense_neurons = 500 \n",
    "count_num_params(seq_size,\n",
    "    num_motifs, \n",
    "    motif_size,\n",
    "    adjacent_bp_pool_size,\n",
    "    attention_dim,\n",
    "    attention_hops,\n",
    "    num_dense_neurons\n",
    "    )"
   ]
  },
  {
   "cell_type": "code",
   "execution_count": 631,
   "metadata": {},
   "outputs": [
    {
     "name": "stdout",
     "output_type": "stream",
     "text": [
      "forward_motif_scores (?, 200, 25)\n",
      "cropped_fwd_scores (?, 150, 25)\n",
      "flipped_rev_scores (?, 150, 25)\n",
      "concatenated_motif_scores (?, 150, 50)\n",
      "pooled_scores (?, 150, 50)\n",
      "forward_hidden_states (?, ?, 150)\n",
      "reverse_hidden_states (?, ?, 150)\n",
      "bilstm_hidden_states (?, ?, 300)\n",
      "attention_tanh_layer_out (?, 150, 200)\n",
      "attention_outer_layer_out (?, 150, 1)\n",
      "attention_softmax_layer_out (?, 150, 1)\n",
      "attended_states (?, 1, 300)\n"
     ]
    }
   ],
   "source": [
    "total_seq_length = len(fasta_seq[0])\n",
    "\n",
    "input_fwd = Input(shape=(total_seq_length,4), name='input_fwd')\n",
    "input_rev = Input(shape=(total_seq_length,4), name='input_rev')\n",
    "\n",
    "### find motifs ###\n",
    "convolution_layer = Conv1D(filters=num_motifs, \n",
    "    kernel_size=motif_size,\n",
    "    activation='relu',\n",
    "    input_shape=(total_seq_length,4),\n",
    "    name='convolution_layer',\n",
    "    padding = 'same'\n",
    "    )\n",
    "forward_motif_scores = convolution_layer(input_fwd)\n",
    "reverse_motif_scores = convolution_layer(input_rev)\n",
    "print('forward_motif_scores', forward_motif_scores.get_shape())\n",
    "\n",
    "### crop motif scores to avoid parts of sequence where motif score is computed in only one direction ###\n",
    "to_crop = int((total_seq_length - seq_size)/2)\n",
    "crop_layer = Cropping1D(cropping=(to_crop, to_crop), \n",
    "    name='crop_layer')\n",
    "cropped_fwd_scores = crop_layer(forward_motif_scores)\n",
    "cropped_rev_scores = crop_layer(reverse_motif_scores)\n",
    "print('cropped_fwd_scores', cropped_fwd_scores.get_shape())\n",
    "\n",
    "### flip motif scores ###\n",
    "flip_layer = Lambda(lambda x: K.reverse(x,axes=0),\n",
    "    output_shape=(seq_size, num_motifs),\n",
    "    name='flip_layer')\n",
    "flipped_rev_scores = flip_layer(cropped_rev_scores)\n",
    "print('flipped_rev_scores', flipped_rev_scores.get_shape())\n",
    "\n",
    "### concatenate motif scores ###\n",
    "concatenate_layer = keras.layers.Concatenate(axis=2, name='concatenate_layer')\n",
    "concatenated_motif_scores = concatenate_layer([cropped_fwd_scores, flipped_rev_scores])\n",
    "print('concatenated_motif_scores', concatenated_motif_scores.get_shape())\n",
    "\n",
    "### pool across length of sequence ###\n",
    "sequence_pooling_layer = MaxPool1D(pool_size=adjacent_bp_pool_size, \n",
    "    strides=adjacent_bp_pool_size,\n",
    "    name='sequence_pooling_layer')\n",
    "pooled_scores = sequence_pooling_layer(concatenated_motif_scores)\n",
    "print('pooled_scores', pooled_scores.get_shape())\n",
    "\n",
    "## bidirectional LSTM ###\n",
    "forward_lstm_layer = LSTM(units=int(seq_size/adjacent_bp_pool_size),\n",
    "    return_sequences=True,\n",
    "    input_shape = (int(seq_size/adjacent_bp_pool_size), 2*num_motifs),\n",
    "    name = 'forward_lstm_layer'\n",
    "    )\n",
    "forward_hidden_states = forward_lstm_layer(pooled_scores)\n",
    "print('forward_hidden_states', forward_hidden_states.get_shape())\n",
    "\n",
    "reverse_lstm_layer = LSTM(units=int(seq_size/adjacent_bp_pool_size),\n",
    "    return_sequences=True,\n",
    "    input_shape = (int(seq_size/adjacent_bp_pool_size), 2*num_motifs),\n",
    "    name = 'reverse_lstm_layer',\n",
    "    go_backwards=True,\n",
    "    )\n",
    "reverse_hidden_states = reverse_lstm_layer(pooled_scores)\n",
    "print('reverse_hidden_states', reverse_hidden_states.get_shape())\n",
    "### concatenate lstm hidden states ###\n",
    "lstm_concatenate_layer = Concatenate(axis=2)\n",
    "bilstm_hidden_states = lstm_concatenate_layer([forward_hidden_states, reverse_hidden_states])\n",
    "\n",
    "# bilstm_layer = Bidirectional(LSTM(\n",
    "#     units=int(seq_size/adjacent_bp_pool_size),\n",
    "#     return_sequences=True,\n",
    "#     input_shape = (int(seq_size/adjacent_bp_pool_size), 2*num_motifs),\n",
    "#     name = 'bilstm_layer'))\n",
    "# bilstm_hidden_states = bilstm_layer(pooled_scores)\n",
    "print('bilstm_hidden_states', bilstm_hidden_states.get_shape())\n",
    "\n",
    "### attention layer ###\n",
    "# transpose hidden states\n",
    "# transpose_layer = Lambda(lambda x: K.permute_dimensions(x,(0,2,1)),\n",
    "#     name='transpose_layer')\n",
    "# transposed_hidden_states = transpose_layer(bilstm_hidden_states)\n",
    "# print('transposed_hidden_states', transposed_hidden_states.get_shape())\n",
    "\n",
    "# tanh layer\n",
    "attention_tanh_layer = Dense(attention_dim,\n",
    "    activation='tanh',\n",
    "    use_bias=False,\n",
    "    name = 'attention_tanh_layer')\n",
    "attention_tanh_layer_out = attention_tanh_layer(bilstm_hidden_states)\n",
    "print('attention_tanh_layer_out', attention_tanh_layer_out.get_shape())\n",
    "\n",
    "# rotate_layer = Lambda(lambda x: K.permute_dimensions(x,(0,2,1)),\n",
    "# #     name='rotate_layer'\n",
    "#     )\n",
    "# rotated_attention_tanh_layer_out = rotate_layer(attention_tanh_layer_out)\n",
    "\n",
    "# outer layer\n",
    "attention_outer_layer = Dense(attention_hops,\n",
    "    activation='relu',\n",
    "    use_bias=False,\n",
    "    name = 'attention_outer_layer')\n",
    "attention_outer_layer_out = attention_outer_layer(attention_tanh_layer_out)\n",
    "print('attention_outer_layer_out', attention_outer_layer_out.get_shape())\n",
    "\n",
    "# apply softmax\n",
    "softmax_layer = Softmax(axis=1, name='attention_softmax_layer')\n",
    "attention_softmax_layer_out = softmax_layer(attention_outer_layer_out)\n",
    "print('attention_softmax_layer_out', attention_softmax_layer_out.get_shape())\n",
    "\n",
    "# attend to hidden states\n",
    "attending_layer = Dot(axes=(1,1),\n",
    "    name='attending_layer')\n",
    "\n",
    "attended_states = attending_layer([attention_softmax_layer_out, bilstm_hidden_states])\n",
    "print('attended_states', attended_states.get_shape())\n",
    "\n",
    "# # fully connected layer\n",
    "dense_layer = Dense(num_dense_neurons, \n",
    "    activation='relu', \n",
    "    name = 'dense_layer'\n",
    "    )\n",
    "\n",
    "dense_output = dense_layer(attended_states)\n",
    "\n",
    "# drop out\n",
    "drop_out = Dropout(0.25,name='dense_dropout')(dense_output)\n",
    "\n",
    "# make prediction\n",
    "flattened = Flatten(name='flatten')(drop_out)\n",
    "predictions = Dense(num_classes,\n",
    "                    name='predictions',\n",
    "                    activation = 'softmax', \n",
    "                   )(flattened)\n",
    "\n"
   ]
  },
  {
   "cell_type": "code",
   "execution_count": 632,
   "metadata": {
    "collapsed": true
   },
   "outputs": [],
   "source": [
    "# define and compile model\n",
    "attention_model = Model(inputs=[input_fwd, input_rev], outputs=predictions)\n",
    "\n",
    "attention_model.compile(loss=keras.losses.categorical_crossentropy,\n",
    "              optimizer=keras.optimizers.Adam(),\n",
    "              metrics=['accuracy'])"
   ]
  },
  {
   "cell_type": "code",
   "execution_count": 633,
   "metadata": {},
   "outputs": [
    {
     "data": {
      "image/svg+xml": [
       "<svg height=\"1300pt\" viewBox=\"0.00 0.00 688.00 1300.00\" width=\"688pt\" xmlns=\"http://www.w3.org/2000/svg\" xmlns:xlink=\"http://www.w3.org/1999/xlink\">\n",
       "<g class=\"graph\" id=\"graph0\" transform=\"scale(1 1) rotate(0) translate(4 1296)\">\n",
       "<title>G</title>\n",
       "<polygon fill=\"white\" points=\"-4,4 -4,-1296 684,-1296 684,4 -4,4\" stroke=\"none\"/>\n",
       "<!-- 140176993877576 -->\n",
       "<g class=\"node\" id=\"node1\"><title>140176993877576</title>\n",
       "<polygon fill=\"none\" points=\"40.5,-1245.5 40.5,-1291.5 332.5,-1291.5 332.5,-1245.5 40.5,-1245.5\" stroke=\"black\"/>\n",
       "<text font-family=\"Times,serif\" font-size=\"14.00\" text-anchor=\"middle\" x=\"110.5\" y=\"-1264.8\">input_fwd: InputLayer</text>\n",
       "<polyline fill=\"none\" points=\"180.5,-1245.5 180.5,-1291.5 \" stroke=\"black\"/>\n",
       "<text font-family=\"Times,serif\" font-size=\"14.00\" text-anchor=\"middle\" x=\"208\" y=\"-1276.3\">input:</text>\n",
       "<polyline fill=\"none\" points=\"180.5,-1268.5 235.5,-1268.5 \" stroke=\"black\"/>\n",
       "<text font-family=\"Times,serif\" font-size=\"14.00\" text-anchor=\"middle\" x=\"208\" y=\"-1253.3\">output:</text>\n",
       "<polyline fill=\"none\" points=\"235.5,-1245.5 235.5,-1291.5 \" stroke=\"black\"/>\n",
       "<text font-family=\"Times,serif\" font-size=\"14.00\" text-anchor=\"middle\" x=\"284\" y=\"-1276.3\">(None, 200, 4)</text>\n",
       "<polyline fill=\"none\" points=\"235.5,-1268.5 332.5,-1268.5 \" stroke=\"black\"/>\n",
       "<text font-family=\"Times,serif\" font-size=\"14.00\" text-anchor=\"middle\" x=\"284\" y=\"-1253.3\">(None, 200, 4)</text>\n",
       "</g>\n",
       "<!-- 140177099524416 -->\n",
       "<g class=\"node\" id=\"node3\"><title>140177099524416</title>\n",
       "<polygon fill=\"none\" points=\"177,-1162.5 177,-1208.5 504,-1208.5 504,-1162.5 177,-1162.5\" stroke=\"black\"/>\n",
       "<text font-family=\"Times,serif\" font-size=\"14.00\" text-anchor=\"middle\" x=\"261\" y=\"-1181.8\">convolution_layer: Conv1D</text>\n",
       "<polyline fill=\"none\" points=\"345,-1162.5 345,-1208.5 \" stroke=\"black\"/>\n",
       "<text font-family=\"Times,serif\" font-size=\"14.00\" text-anchor=\"middle\" x=\"372.5\" y=\"-1193.3\">input:</text>\n",
       "<polyline fill=\"none\" points=\"345,-1185.5 400,-1185.5 \" stroke=\"black\"/>\n",
       "<text font-family=\"Times,serif\" font-size=\"14.00\" text-anchor=\"middle\" x=\"372.5\" y=\"-1170.3\">output:</text>\n",
       "<polyline fill=\"none\" points=\"400,-1162.5 400,-1208.5 \" stroke=\"black\"/>\n",
       "<text font-family=\"Times,serif\" font-size=\"14.00\" text-anchor=\"middle\" x=\"452\" y=\"-1193.3\">(None, 200, 4)</text>\n",
       "<polyline fill=\"none\" points=\"400,-1185.5 504,-1185.5 \" stroke=\"black\"/>\n",
       "<text font-family=\"Times,serif\" font-size=\"14.00\" text-anchor=\"middle\" x=\"452\" y=\"-1170.3\">(None, 200, 25)</text>\n",
       "</g>\n",
       "<!-- 140176993877576&#45;&gt;140177099524416 -->\n",
       "<g class=\"edge\" id=\"edge1\"><title>140176993877576-&gt;140177099524416</title>\n",
       "<path d=\"M228.581,-1245.37C247.425,-1235.46 269.808,-1223.68 289.587,-1213.28\" fill=\"none\" stroke=\"black\"/>\n",
       "<polygon fill=\"black\" points=\"291.249,-1216.36 298.47,-1208.61 287.99,-1210.16 291.249,-1216.36\" stroke=\"black\"/>\n",
       "</g>\n",
       "<!-- 140176993874776 -->\n",
       "<g class=\"node\" id=\"node2\"><title>140176993874776</title>\n",
       "<polygon fill=\"none\" points=\"350.5,-1245.5 350.5,-1291.5 638.5,-1291.5 638.5,-1245.5 350.5,-1245.5\" stroke=\"black\"/>\n",
       "<text font-family=\"Times,serif\" font-size=\"14.00\" text-anchor=\"middle\" x=\"418.5\" y=\"-1264.8\">input_rev: InputLayer</text>\n",
       "<polyline fill=\"none\" points=\"486.5,-1245.5 486.5,-1291.5 \" stroke=\"black\"/>\n",
       "<text font-family=\"Times,serif\" font-size=\"14.00\" text-anchor=\"middle\" x=\"514\" y=\"-1276.3\">input:</text>\n",
       "<polyline fill=\"none\" points=\"486.5,-1268.5 541.5,-1268.5 \" stroke=\"black\"/>\n",
       "<text font-family=\"Times,serif\" font-size=\"14.00\" text-anchor=\"middle\" x=\"514\" y=\"-1253.3\">output:</text>\n",
       "<polyline fill=\"none\" points=\"541.5,-1245.5 541.5,-1291.5 \" stroke=\"black\"/>\n",
       "<text font-family=\"Times,serif\" font-size=\"14.00\" text-anchor=\"middle\" x=\"590\" y=\"-1276.3\">(None, 200, 4)</text>\n",
       "<polyline fill=\"none\" points=\"541.5,-1268.5 638.5,-1268.5 \" stroke=\"black\"/>\n",
       "<text font-family=\"Times,serif\" font-size=\"14.00\" text-anchor=\"middle\" x=\"590\" y=\"-1253.3\">(None, 200, 4)</text>\n",
       "</g>\n",
       "<!-- 140176993874776&#45;&gt;140177099524416 -->\n",
       "<g class=\"edge\" id=\"edge2\"><title>140176993874776-&gt;140177099524416</title>\n",
       "<path d=\"M452.419,-1245.37C433.575,-1235.46 411.192,-1223.68 391.413,-1213.28\" fill=\"none\" stroke=\"black\"/>\n",
       "<polygon fill=\"black\" points=\"393.01,-1210.16 382.53,-1208.61 389.751,-1216.36 393.01,-1210.16\" stroke=\"black\"/>\n",
       "</g>\n",
       "<!-- 140177433522752 -->\n",
       "<g class=\"node\" id=\"node4\"><title>140177433522752</title>\n",
       "<polygon fill=\"none\" points=\"186.5,-1079.5 186.5,-1125.5 494.5,-1125.5 494.5,-1079.5 186.5,-1079.5\" stroke=\"black\"/>\n",
       "<text font-family=\"Times,serif\" font-size=\"14.00\" text-anchor=\"middle\" x=\"261\" y=\"-1098.8\">crop_layer: Cropping1D</text>\n",
       "<polyline fill=\"none\" points=\"335.5,-1079.5 335.5,-1125.5 \" stroke=\"black\"/>\n",
       "<text font-family=\"Times,serif\" font-size=\"14.00\" text-anchor=\"middle\" x=\"363\" y=\"-1110.3\">input:</text>\n",
       "<polyline fill=\"none\" points=\"335.5,-1102.5 390.5,-1102.5 \" stroke=\"black\"/>\n",
       "<text font-family=\"Times,serif\" font-size=\"14.00\" text-anchor=\"middle\" x=\"363\" y=\"-1087.3\">output:</text>\n",
       "<polyline fill=\"none\" points=\"390.5,-1079.5 390.5,-1125.5 \" stroke=\"black\"/>\n",
       "<text font-family=\"Times,serif\" font-size=\"14.00\" text-anchor=\"middle\" x=\"442.5\" y=\"-1110.3\">(None, 200, 25)</text>\n",
       "<polyline fill=\"none\" points=\"390.5,-1102.5 494.5,-1102.5 \" stroke=\"black\"/>\n",
       "<text font-family=\"Times,serif\" font-size=\"14.00\" text-anchor=\"middle\" x=\"442.5\" y=\"-1087.3\">(None, 150, 25)</text>\n",
       "</g>\n",
       "<!-- 140177099524416&#45;&gt;140177433522752 -->\n",
       "<g class=\"edge\" id=\"edge3\"><title>140177099524416-&gt;140177433522752</title>\n",
       "<path d=\"M340.5,-1162.37C340.5,-1154.15 340.5,-1144.66 340.5,-1135.73\" fill=\"none\" stroke=\"black\"/>\n",
       "<polygon fill=\"black\" points=\"344,-1135.61 340.5,-1125.61 337,-1135.61 344,-1135.61\" stroke=\"black\"/>\n",
       "</g>\n",
       "<!-- 140175246389600 -->\n",
       "<g class=\"node\" id=\"node5\"><title>140175246389600</title>\n",
       "<polygon fill=\"none\" points=\"116,-996.5 116,-1042.5 397,-1042.5 397,-996.5 116,-996.5\" stroke=\"black\"/>\n",
       "<text font-family=\"Times,serif\" font-size=\"14.00\" text-anchor=\"middle\" x=\"177\" y=\"-1015.8\">flip_layer: Lambda</text>\n",
       "<polyline fill=\"none\" points=\"238,-996.5 238,-1042.5 \" stroke=\"black\"/>\n",
       "<text font-family=\"Times,serif\" font-size=\"14.00\" text-anchor=\"middle\" x=\"265.5\" y=\"-1027.3\">input:</text>\n",
       "<polyline fill=\"none\" points=\"238,-1019.5 293,-1019.5 \" stroke=\"black\"/>\n",
       "<text font-family=\"Times,serif\" font-size=\"14.00\" text-anchor=\"middle\" x=\"265.5\" y=\"-1004.3\">output:</text>\n",
       "<polyline fill=\"none\" points=\"293,-996.5 293,-1042.5 \" stroke=\"black\"/>\n",
       "<text font-family=\"Times,serif\" font-size=\"14.00\" text-anchor=\"middle\" x=\"345\" y=\"-1027.3\">(None, 150, 25)</text>\n",
       "<polyline fill=\"none\" points=\"293,-1019.5 397,-1019.5 \" stroke=\"black\"/>\n",
       "<text font-family=\"Times,serif\" font-size=\"14.00\" text-anchor=\"middle\" x=\"345\" y=\"-1004.3\">(None, 150, 25)</text>\n",
       "</g>\n",
       "<!-- 140177433522752&#45;&gt;140175246389600 -->\n",
       "<g class=\"edge\" id=\"edge5\"><title>140177433522752-&gt;140175246389600</title>\n",
       "<path d=\"M317.547,-1079.37C308.009,-1070.17 296.809,-1059.37 286.624,-1049.55\" fill=\"none\" stroke=\"black\"/>\n",
       "<polygon fill=\"black\" points=\"289.054,-1047.03 279.426,-1042.61 284.195,-1052.07 289.054,-1047.03\" stroke=\"black\"/>\n",
       "</g>\n",
       "<!-- 140177432512272 -->\n",
       "<g class=\"node\" id=\"node6\"><title>140177432512272</title>\n",
       "<polygon fill=\"none\" points=\"115.5,-913.5 115.5,-959.5 565.5,-959.5 565.5,-913.5 115.5,-913.5\" stroke=\"black\"/>\n",
       "<text font-family=\"Times,serif\" font-size=\"14.00\" text-anchor=\"middle\" x=\"209.5\" y=\"-932.8\">concatenate_layer: Concatenate</text>\n",
       "<polyline fill=\"none\" points=\"303.5,-913.5 303.5,-959.5 \" stroke=\"black\"/>\n",
       "<text font-family=\"Times,serif\" font-size=\"14.00\" text-anchor=\"middle\" x=\"331\" y=\"-944.3\">input:</text>\n",
       "<polyline fill=\"none\" points=\"303.5,-936.5 358.5,-936.5 \" stroke=\"black\"/>\n",
       "<text font-family=\"Times,serif\" font-size=\"14.00\" text-anchor=\"middle\" x=\"331\" y=\"-921.3\">output:</text>\n",
       "<polyline fill=\"none\" points=\"358.5,-913.5 358.5,-959.5 \" stroke=\"black\"/>\n",
       "<text font-family=\"Times,serif\" font-size=\"14.00\" text-anchor=\"middle\" x=\"462\" y=\"-944.3\">[(None, 150, 25), (None, 150, 25)]</text>\n",
       "<polyline fill=\"none\" points=\"358.5,-936.5 565.5,-936.5 \" stroke=\"black\"/>\n",
       "<text font-family=\"Times,serif\" font-size=\"14.00\" text-anchor=\"middle\" x=\"462\" y=\"-921.3\">(None, 150, 50)</text>\n",
       "</g>\n",
       "<!-- 140177433522752&#45;&gt;140177432512272 -->\n",
       "<g class=\"edge\" id=\"edge6\"><title>140177433522752-&gt;140177432512272</title>\n",
       "<path d=\"M375.24,-1079.37C387.144,-1069.78 399.076,-1057.42 405.5,-1043 413.998,-1023.92 413.998,-1015.08 405.5,-996 400.481,-984.732 392.101,-974.723 382.998,-966.31\" fill=\"none\" stroke=\"black\"/>\n",
       "<polygon fill=\"black\" points=\"385.1,-963.501 375.24,-959.626 380.531,-968.804 385.1,-963.501\" stroke=\"black\"/>\n",
       "</g>\n",
       "<!-- 140175246389600&#45;&gt;140177432512272 -->\n",
       "<g class=\"edge\" id=\"edge7\"><title>140175246389600-&gt;140177432512272</title>\n",
       "<path d=\"M279.453,-996.366C288.991,-987.169 300.191,-976.369 310.376,-966.548\" fill=\"none\" stroke=\"black\"/>\n",
       "<polygon fill=\"black\" points=\"312.805,-969.068 317.574,-959.607 307.946,-964.029 312.805,-969.068\" stroke=\"black\"/>\n",
       "</g>\n",
       "<!-- 140177432512216 -->\n",
       "<g class=\"node\" id=\"node7\"><title>140177432512216</title>\n",
       "<polygon fill=\"none\" points=\"141.5,-830.5 141.5,-876.5 539.5,-876.5 539.5,-830.5 141.5,-830.5\" stroke=\"black\"/>\n",
       "<text font-family=\"Times,serif\" font-size=\"14.00\" text-anchor=\"middle\" x=\"261\" y=\"-849.8\">sequence_pooling_layer: MaxPooling1D</text>\n",
       "<polyline fill=\"none\" points=\"380.5,-830.5 380.5,-876.5 \" stroke=\"black\"/>\n",
       "<text font-family=\"Times,serif\" font-size=\"14.00\" text-anchor=\"middle\" x=\"408\" y=\"-861.3\">input:</text>\n",
       "<polyline fill=\"none\" points=\"380.5,-853.5 435.5,-853.5 \" stroke=\"black\"/>\n",
       "<text font-family=\"Times,serif\" font-size=\"14.00\" text-anchor=\"middle\" x=\"408\" y=\"-838.3\">output:</text>\n",
       "<polyline fill=\"none\" points=\"435.5,-830.5 435.5,-876.5 \" stroke=\"black\"/>\n",
       "<text font-family=\"Times,serif\" font-size=\"14.00\" text-anchor=\"middle\" x=\"487.5\" y=\"-861.3\">(None, 150, 50)</text>\n",
       "<polyline fill=\"none\" points=\"435.5,-853.5 539.5,-853.5 \" stroke=\"black\"/>\n",
       "<text font-family=\"Times,serif\" font-size=\"14.00\" text-anchor=\"middle\" x=\"487.5\" y=\"-838.3\">(None, 150, 50)</text>\n",
       "</g>\n",
       "<!-- 140177432512272&#45;&gt;140177432512216 -->\n",
       "<g class=\"edge\" id=\"edge8\"><title>140177432512272-&gt;140177432512216</title>\n",
       "<path d=\"M340.5,-913.366C340.5,-905.152 340.5,-895.658 340.5,-886.725\" fill=\"none\" stroke=\"black\"/>\n",
       "<polygon fill=\"black\" points=\"344,-886.607 340.5,-876.607 337,-886.607 344,-886.607\" stroke=\"black\"/>\n",
       "</g>\n",
       "<!-- 140177099553816 -->\n",
       "<g class=\"node\" id=\"node8\"><title>140177099553816</title>\n",
       "<polygon fill=\"none\" points=\"0,-747.5 0,-793.5 333,-793.5 333,-747.5 0,-747.5\" stroke=\"black\"/>\n",
       "<text font-family=\"Times,serif\" font-size=\"14.00\" text-anchor=\"middle\" x=\"84\" y=\"-766.8\">forward_lstm_layer: LSTM</text>\n",
       "<polyline fill=\"none\" points=\"168,-747.5 168,-793.5 \" stroke=\"black\"/>\n",
       "<text font-family=\"Times,serif\" font-size=\"14.00\" text-anchor=\"middle\" x=\"195.5\" y=\"-778.3\">input:</text>\n",
       "<polyline fill=\"none\" points=\"168,-770.5 223,-770.5 \" stroke=\"black\"/>\n",
       "<text font-family=\"Times,serif\" font-size=\"14.00\" text-anchor=\"middle\" x=\"195.5\" y=\"-755.3\">output:</text>\n",
       "<polyline fill=\"none\" points=\"223,-747.5 223,-793.5 \" stroke=\"black\"/>\n",
       "<text font-family=\"Times,serif\" font-size=\"14.00\" text-anchor=\"middle\" x=\"278\" y=\"-778.3\">(None, 150, 50)</text>\n",
       "<polyline fill=\"none\" points=\"223,-770.5 333,-770.5 \" stroke=\"black\"/>\n",
       "<text font-family=\"Times,serif\" font-size=\"14.00\" text-anchor=\"middle\" x=\"278\" y=\"-755.3\">(None, 150, 150)</text>\n",
       "</g>\n",
       "<!-- 140177432512216&#45;&gt;140177099553816 -->\n",
       "<g class=\"edge\" id=\"edge9\"><title>140177432512216-&gt;140177099553816</title>\n",
       "<path d=\"M292.954,-830.366C271.375,-820.321 245.688,-808.363 223.12,-797.858\" fill=\"none\" stroke=\"black\"/>\n",
       "<polygon fill=\"black\" points=\"224.532,-794.654 213.989,-793.607 221.577,-801 224.532,-794.654\" stroke=\"black\"/>\n",
       "</g>\n",
       "<!-- 140176997364624 -->\n",
       "<g class=\"node\" id=\"node9\"><title>140176997364624</title>\n",
       "<polygon fill=\"none\" points=\"351,-747.5 351,-793.5 680,-793.5 680,-747.5 351,-747.5\" stroke=\"black\"/>\n",
       "<text font-family=\"Times,serif\" font-size=\"14.00\" text-anchor=\"middle\" x=\"433\" y=\"-766.8\">reverse_lstm_layer: LSTM</text>\n",
       "<polyline fill=\"none\" points=\"515,-747.5 515,-793.5 \" stroke=\"black\"/>\n",
       "<text font-family=\"Times,serif\" font-size=\"14.00\" text-anchor=\"middle\" x=\"542.5\" y=\"-778.3\">input:</text>\n",
       "<polyline fill=\"none\" points=\"515,-770.5 570,-770.5 \" stroke=\"black\"/>\n",
       "<text font-family=\"Times,serif\" font-size=\"14.00\" text-anchor=\"middle\" x=\"542.5\" y=\"-755.3\">output:</text>\n",
       "<polyline fill=\"none\" points=\"570,-747.5 570,-793.5 \" stroke=\"black\"/>\n",
       "<text font-family=\"Times,serif\" font-size=\"14.00\" text-anchor=\"middle\" x=\"625\" y=\"-778.3\">(None, 150, 50)</text>\n",
       "<polyline fill=\"none\" points=\"570,-770.5 680,-770.5 \" stroke=\"black\"/>\n",
       "<text font-family=\"Times,serif\" font-size=\"14.00\" text-anchor=\"middle\" x=\"625\" y=\"-755.3\">(None, 150, 150)</text>\n",
       "</g>\n",
       "<!-- 140177432512216&#45;&gt;140176997364624 -->\n",
       "<g class=\"edge\" id=\"edge10\"><title>140177432512216-&gt;140176997364624</title>\n",
       "<path d=\"M388.32,-830.366C410.022,-820.321 435.857,-808.363 458.554,-797.858\" fill=\"none\" stroke=\"black\"/>\n",
       "<polygon fill=\"black\" points=\"460.133,-800.984 467.738,-793.607 457.193,-794.631 460.133,-800.984\" stroke=\"black\"/>\n",
       "</g>\n",
       "<!-- 140177437375008 -->\n",
       "<g class=\"node\" id=\"node10\"><title>140177437375008</title>\n",
       "<polygon fill=\"none\" points=\"115,-664.5 115,-710.5 566,-710.5 566,-664.5 115,-664.5\" stroke=\"black\"/>\n",
       "<text font-family=\"Times,serif\" font-size=\"14.00\" text-anchor=\"middle\" x=\"202.5\" y=\"-683.8\">concatenate_65: Concatenate</text>\n",
       "<polyline fill=\"none\" points=\"290,-664.5 290,-710.5 \" stroke=\"black\"/>\n",
       "<text font-family=\"Times,serif\" font-size=\"14.00\" text-anchor=\"middle\" x=\"317.5\" y=\"-695.3\">input:</text>\n",
       "<polyline fill=\"none\" points=\"290,-687.5 345,-687.5 \" stroke=\"black\"/>\n",
       "<text font-family=\"Times,serif\" font-size=\"14.00\" text-anchor=\"middle\" x=\"317.5\" y=\"-672.3\">output:</text>\n",
       "<polyline fill=\"none\" points=\"345,-664.5 345,-710.5 \" stroke=\"black\"/>\n",
       "<text font-family=\"Times,serif\" font-size=\"14.00\" text-anchor=\"middle\" x=\"455.5\" y=\"-695.3\">[(None, 150, 150), (None, 150, 150)]</text>\n",
       "<polyline fill=\"none\" points=\"345,-687.5 566,-687.5 \" stroke=\"black\"/>\n",
       "<text font-family=\"Times,serif\" font-size=\"14.00\" text-anchor=\"middle\" x=\"455.5\" y=\"-672.3\">(None, 150, 300)</text>\n",
       "</g>\n",
       "<!-- 140177099553816&#45;&gt;140177437375008 -->\n",
       "<g class=\"edge\" id=\"edge11\"><title>140177099553816-&gt;140177437375008</title>\n",
       "<path d=\"M214.046,-747.366C235.625,-737.321 261.312,-725.363 283.88,-714.858\" fill=\"none\" stroke=\"black\"/>\n",
       "<polygon fill=\"black\" points=\"285.423,-718 293.011,-710.607 282.468,-711.654 285.423,-718\" stroke=\"black\"/>\n",
       "</g>\n",
       "<!-- 140176997364624&#45;&gt;140177437375008 -->\n",
       "<g class=\"edge\" id=\"edge12\"><title>140176997364624-&gt;140177437375008</title>\n",
       "<path d=\"M467.68,-747.366C445.978,-737.321 420.143,-725.363 397.446,-714.858\" fill=\"none\" stroke=\"black\"/>\n",
       "<polygon fill=\"black\" points=\"398.807,-711.631 388.262,-710.607 395.867,-717.984 398.807,-711.631\" stroke=\"black\"/>\n",
       "</g>\n",
       "<!-- 140177432687840 -->\n",
       "<g class=\"node\" id=\"node11\"><title>140177432687840</title>\n",
       "<polygon fill=\"none\" points=\"70.5,-581.5 70.5,-627.5 404.5,-627.5 404.5,-581.5 70.5,-581.5\" stroke=\"black\"/>\n",
       "<text font-family=\"Times,serif\" font-size=\"14.00\" text-anchor=\"middle\" x=\"155\" y=\"-600.8\">attention_tanh_layer: Dense</text>\n",
       "<polyline fill=\"none\" points=\"239.5,-581.5 239.5,-627.5 \" stroke=\"black\"/>\n",
       "<text font-family=\"Times,serif\" font-size=\"14.00\" text-anchor=\"middle\" x=\"267\" y=\"-612.3\">input:</text>\n",
       "<polyline fill=\"none\" points=\"239.5,-604.5 294.5,-604.5 \" stroke=\"black\"/>\n",
       "<text font-family=\"Times,serif\" font-size=\"14.00\" text-anchor=\"middle\" x=\"267\" y=\"-589.3\">output:</text>\n",
       "<polyline fill=\"none\" points=\"294.5,-581.5 294.5,-627.5 \" stroke=\"black\"/>\n",
       "<text font-family=\"Times,serif\" font-size=\"14.00\" text-anchor=\"middle\" x=\"349.5\" y=\"-612.3\">(None, 150, 300)</text>\n",
       "<polyline fill=\"none\" points=\"294.5,-604.5 404.5,-604.5 \" stroke=\"black\"/>\n",
       "<text font-family=\"Times,serif\" font-size=\"14.00\" text-anchor=\"middle\" x=\"349.5\" y=\"-589.3\">(None, 150, 200)</text>\n",
       "</g>\n",
       "<!-- 140177437375008&#45;&gt;140177432687840 -->\n",
       "<g class=\"edge\" id=\"edge13\"><title>140177437375008-&gt;140177432687840</title>\n",
       "<path d=\"M312.355,-664.366C300.433,-654.991 286.392,-643.949 273.712,-633.977\" fill=\"none\" stroke=\"black\"/>\n",
       "<polygon fill=\"black\" points=\"275.635,-631.037 265.611,-627.607 271.308,-636.54 275.635,-631.037\" stroke=\"black\"/>\n",
       "</g>\n",
       "<!-- 140177440096552 -->\n",
       "<g class=\"node\" id=\"node14\"><title>140177440096552</title>\n",
       "<polygon fill=\"none\" points=\"137.5,-332.5 137.5,-378.5 527.5,-378.5 527.5,-332.5 137.5,-332.5\" stroke=\"black\"/>\n",
       "<text font-family=\"Times,serif\" font-size=\"14.00\" text-anchor=\"middle\" x=\"201.5\" y=\"-351.8\">attending_layer: Dot</text>\n",
       "<polyline fill=\"none\" points=\"265.5,-332.5 265.5,-378.5 \" stroke=\"black\"/>\n",
       "<text font-family=\"Times,serif\" font-size=\"14.00\" text-anchor=\"middle\" x=\"293\" y=\"-363.3\">input:</text>\n",
       "<polyline fill=\"none\" points=\"265.5,-355.5 320.5,-355.5 \" stroke=\"black\"/>\n",
       "<text font-family=\"Times,serif\" font-size=\"14.00\" text-anchor=\"middle\" x=\"293\" y=\"-340.3\">output:</text>\n",
       "<polyline fill=\"none\" points=\"320.5,-332.5 320.5,-378.5 \" stroke=\"black\"/>\n",
       "<text font-family=\"Times,serif\" font-size=\"14.00\" text-anchor=\"middle\" x=\"424\" y=\"-363.3\">[(None, 150, 1), (None, 150, 300)]</text>\n",
       "<polyline fill=\"none\" points=\"320.5,-355.5 527.5,-355.5 \" stroke=\"black\"/>\n",
       "<text font-family=\"Times,serif\" font-size=\"14.00\" text-anchor=\"middle\" x=\"424\" y=\"-340.3\">(None, 1, 300)</text>\n",
       "</g>\n",
       "<!-- 140177437375008&#45;&gt;140177440096552 -->\n",
       "<g class=\"edge\" id=\"edge17\"><title>140177437375008-&gt;140177440096552</title>\n",
       "<path d=\"M380.472,-664.348C393.432,-654.96 406.311,-642.744 413.5,-628 454.988,-542.904 459.084,-499.041 415.5,-415 409.226,-402.903 399.174,-392.778 388.198,-384.537\" fill=\"none\" stroke=\"black\"/>\n",
       "<polygon fill=\"black\" points=\"389.877,-381.442 379.671,-378.6 385.878,-387.186 389.877,-381.442\" stroke=\"black\"/>\n",
       "</g>\n",
       "<!-- 140176993744936 -->\n",
       "<g class=\"node\" id=\"node12\"><title>140176993744936</title>\n",
       "<polygon fill=\"none\" points=\"63.5,-498.5 63.5,-544.5 401.5,-544.5 401.5,-498.5 63.5,-498.5\" stroke=\"black\"/>\n",
       "<text font-family=\"Times,serif\" font-size=\"14.00\" text-anchor=\"middle\" x=\"150\" y=\"-517.8\">attention_outer_layer: Dense</text>\n",
       "<polyline fill=\"none\" points=\"236.5,-498.5 236.5,-544.5 \" stroke=\"black\"/>\n",
       "<text font-family=\"Times,serif\" font-size=\"14.00\" text-anchor=\"middle\" x=\"264\" y=\"-529.3\">input:</text>\n",
       "<polyline fill=\"none\" points=\"236.5,-521.5 291.5,-521.5 \" stroke=\"black\"/>\n",
       "<text font-family=\"Times,serif\" font-size=\"14.00\" text-anchor=\"middle\" x=\"264\" y=\"-506.3\">output:</text>\n",
       "<polyline fill=\"none\" points=\"291.5,-498.5 291.5,-544.5 \" stroke=\"black\"/>\n",
       "<text font-family=\"Times,serif\" font-size=\"14.00\" text-anchor=\"middle\" x=\"346.5\" y=\"-529.3\">(None, 150, 200)</text>\n",
       "<polyline fill=\"none\" points=\"291.5,-521.5 401.5,-521.5 \" stroke=\"black\"/>\n",
       "<text font-family=\"Times,serif\" font-size=\"14.00\" text-anchor=\"middle\" x=\"346.5\" y=\"-506.3\">(None, 150, 1)</text>\n",
       "</g>\n",
       "<!-- 140177432687840&#45;&gt;140176993744936 -->\n",
       "<g class=\"edge\" id=\"edge14\"><title>140177432687840-&gt;140176993744936</title>\n",
       "<path d=\"M236.134,-581.366C235.627,-573.152 235.041,-563.658 234.489,-554.725\" fill=\"none\" stroke=\"black\"/>\n",
       "<polygon fill=\"black\" points=\"237.974,-554.372 233.865,-544.607 230.987,-554.804 237.974,-554.372\" stroke=\"black\"/>\n",
       "</g>\n",
       "<!-- 140176993661952 -->\n",
       "<g class=\"node\" id=\"node13\"><title>140176993661952</title>\n",
       "<polygon fill=\"none\" points=\"52,-415.5 52,-461.5 407,-461.5 407,-415.5 52,-415.5\" stroke=\"black\"/>\n",
       "<text font-family=\"Times,serif\" font-size=\"14.00\" text-anchor=\"middle\" x=\"153.5\" y=\"-434.8\">attention_softmax_layer: Softmax</text>\n",
       "<polyline fill=\"none\" points=\"255,-415.5 255,-461.5 \" stroke=\"black\"/>\n",
       "<text font-family=\"Times,serif\" font-size=\"14.00\" text-anchor=\"middle\" x=\"282.5\" y=\"-446.3\">input:</text>\n",
       "<polyline fill=\"none\" points=\"255,-438.5 310,-438.5 \" stroke=\"black\"/>\n",
       "<text font-family=\"Times,serif\" font-size=\"14.00\" text-anchor=\"middle\" x=\"282.5\" y=\"-423.3\">output:</text>\n",
       "<polyline fill=\"none\" points=\"310,-415.5 310,-461.5 \" stroke=\"black\"/>\n",
       "<text font-family=\"Times,serif\" font-size=\"14.00\" text-anchor=\"middle\" x=\"358.5\" y=\"-446.3\">(None, 150, 1)</text>\n",
       "<polyline fill=\"none\" points=\"310,-438.5 407,-438.5 \" stroke=\"black\"/>\n",
       "<text font-family=\"Times,serif\" font-size=\"14.00\" text-anchor=\"middle\" x=\"358.5\" y=\"-423.3\">(None, 150, 1)</text>\n",
       "</g>\n",
       "<!-- 140176993744936&#45;&gt;140176993661952 -->\n",
       "<g class=\"edge\" id=\"edge15\"><title>140176993744936-&gt;140176993661952</title>\n",
       "<path d=\"M231.68,-498.366C231.376,-490.152 231.024,-480.658 230.694,-471.725\" fill=\"none\" stroke=\"black\"/>\n",
       "<polygon fill=\"black\" points=\"234.187,-471.47 230.319,-461.607 227.191,-471.73 234.187,-471.47\" stroke=\"black\"/>\n",
       "</g>\n",
       "<!-- 140176993661952&#45;&gt;140177440096552 -->\n",
       "<g class=\"edge\" id=\"edge16\"><title>140176993661952-&gt;140177440096552</title>\n",
       "<path d=\"M257.645,-415.366C269.567,-405.991 283.608,-394.949 296.288,-384.977\" fill=\"none\" stroke=\"black\"/>\n",
       "<polygon fill=\"black\" points=\"298.692,-387.54 304.389,-378.607 294.365,-382.037 298.692,-387.54\" stroke=\"black\"/>\n",
       "</g>\n",
       "<!-- 140176992529712 -->\n",
       "<g class=\"node\" id=\"node15\"><title>140176992529712</title>\n",
       "<polygon fill=\"none\" points=\"195.5,-249.5 195.5,-295.5 469.5,-295.5 469.5,-249.5 195.5,-249.5\" stroke=\"black\"/>\n",
       "<text font-family=\"Times,serif\" font-size=\"14.00\" text-anchor=\"middle\" x=\"256.5\" y=\"-268.8\">dense_layer: Dense</text>\n",
       "<polyline fill=\"none\" points=\"317.5,-249.5 317.5,-295.5 \" stroke=\"black\"/>\n",
       "<text font-family=\"Times,serif\" font-size=\"14.00\" text-anchor=\"middle\" x=\"345\" y=\"-280.3\">input:</text>\n",
       "<polyline fill=\"none\" points=\"317.5,-272.5 372.5,-272.5 \" stroke=\"black\"/>\n",
       "<text font-family=\"Times,serif\" font-size=\"14.00\" text-anchor=\"middle\" x=\"345\" y=\"-257.3\">output:</text>\n",
       "<polyline fill=\"none\" points=\"372.5,-249.5 372.5,-295.5 \" stroke=\"black\"/>\n",
       "<text font-family=\"Times,serif\" font-size=\"14.00\" text-anchor=\"middle\" x=\"421\" y=\"-280.3\">(None, 1, 300)</text>\n",
       "<polyline fill=\"none\" points=\"372.5,-272.5 469.5,-272.5 \" stroke=\"black\"/>\n",
       "<text font-family=\"Times,serif\" font-size=\"14.00\" text-anchor=\"middle\" x=\"421\" y=\"-257.3\">(None, 1, 500)</text>\n",
       "</g>\n",
       "<!-- 140177440096552&#45;&gt;140176992529712 -->\n",
       "<g class=\"edge\" id=\"edge18\"><title>140177440096552-&gt;140176992529712</title>\n",
       "<path d=\"M332.5,-332.366C332.5,-324.152 332.5,-314.658 332.5,-305.725\" fill=\"none\" stroke=\"black\"/>\n",
       "<polygon fill=\"black\" points=\"336,-305.607 332.5,-295.607 329,-305.607 336,-305.607\" stroke=\"black\"/>\n",
       "</g>\n",
       "<!-- 140176993713624 -->\n",
       "<g class=\"node\" id=\"node16\"><title>140176993713624</title>\n",
       "<polygon fill=\"none\" points=\"182,-166.5 182,-212.5 483,-212.5 483,-166.5 182,-166.5\" stroke=\"black\"/>\n",
       "<text font-family=\"Times,serif\" font-size=\"14.00\" text-anchor=\"middle\" x=\"256.5\" y=\"-185.8\">dense_dropout: Dropout</text>\n",
       "<polyline fill=\"none\" points=\"331,-166.5 331,-212.5 \" stroke=\"black\"/>\n",
       "<text font-family=\"Times,serif\" font-size=\"14.00\" text-anchor=\"middle\" x=\"358.5\" y=\"-197.3\">input:</text>\n",
       "<polyline fill=\"none\" points=\"331,-189.5 386,-189.5 \" stroke=\"black\"/>\n",
       "<text font-family=\"Times,serif\" font-size=\"14.00\" text-anchor=\"middle\" x=\"358.5\" y=\"-174.3\">output:</text>\n",
       "<polyline fill=\"none\" points=\"386,-166.5 386,-212.5 \" stroke=\"black\"/>\n",
       "<text font-family=\"Times,serif\" font-size=\"14.00\" text-anchor=\"middle\" x=\"434.5\" y=\"-197.3\">(None, 1, 500)</text>\n",
       "<polyline fill=\"none\" points=\"386,-189.5 483,-189.5 \" stroke=\"black\"/>\n",
       "<text font-family=\"Times,serif\" font-size=\"14.00\" text-anchor=\"middle\" x=\"434.5\" y=\"-174.3\">(None, 1, 500)</text>\n",
       "</g>\n",
       "<!-- 140176992529712&#45;&gt;140176993713624 -->\n",
       "<g class=\"edge\" id=\"edge19\"><title>140176992529712-&gt;140176993713624</title>\n",
       "<path d=\"M332.5,-249.366C332.5,-241.152 332.5,-231.658 332.5,-222.725\" fill=\"none\" stroke=\"black\"/>\n",
       "<polygon fill=\"black\" points=\"336,-222.607 332.5,-212.607 329,-222.607 336,-222.607\" stroke=\"black\"/>\n",
       "</g>\n",
       "<!-- 140177432656584 -->\n",
       "<g class=\"node\" id=\"node17\"><title>140177432656584</title>\n",
       "<polygon fill=\"none\" points=\"208.5,-83.5 208.5,-129.5 456.5,-129.5 456.5,-83.5 208.5,-83.5\" stroke=\"black\"/>\n",
       "<text font-family=\"Times,serif\" font-size=\"14.00\" text-anchor=\"middle\" x=\"256.5\" y=\"-102.8\">flatten: Flatten</text>\n",
       "<polyline fill=\"none\" points=\"304.5,-83.5 304.5,-129.5 \" stroke=\"black\"/>\n",
       "<text font-family=\"Times,serif\" font-size=\"14.00\" text-anchor=\"middle\" x=\"332\" y=\"-114.3\">input:</text>\n",
       "<polyline fill=\"none\" points=\"304.5,-106.5 359.5,-106.5 \" stroke=\"black\"/>\n",
       "<text font-family=\"Times,serif\" font-size=\"14.00\" text-anchor=\"middle\" x=\"332\" y=\"-91.3\">output:</text>\n",
       "<polyline fill=\"none\" points=\"359.5,-83.5 359.5,-129.5 \" stroke=\"black\"/>\n",
       "<text font-family=\"Times,serif\" font-size=\"14.00\" text-anchor=\"middle\" x=\"408\" y=\"-114.3\">(None, 1, 500)</text>\n",
       "<polyline fill=\"none\" points=\"359.5,-106.5 456.5,-106.5 \" stroke=\"black\"/>\n",
       "<text font-family=\"Times,serif\" font-size=\"14.00\" text-anchor=\"middle\" x=\"408\" y=\"-91.3\">(None, 500)</text>\n",
       "</g>\n",
       "<!-- 140176993713624&#45;&gt;140177432656584 -->\n",
       "<g class=\"edge\" id=\"edge20\"><title>140176993713624-&gt;140177432656584</title>\n",
       "<path d=\"M332.5,-166.366C332.5,-158.152 332.5,-148.658 332.5,-139.725\" fill=\"none\" stroke=\"black\"/>\n",
       "<polygon fill=\"black\" points=\"336,-139.607 332.5,-129.607 329,-139.607 336,-139.607\" stroke=\"black\"/>\n",
       "</g>\n",
       "<!-- 140176994010560 -->\n",
       "<g class=\"node\" id=\"node18\"><title>140176994010560</title>\n",
       "<polygon fill=\"none\" points=\"204.5,-0.5 204.5,-46.5 460.5,-46.5 460.5,-0.5 204.5,-0.5\" stroke=\"black\"/>\n",
       "<text font-family=\"Times,serif\" font-size=\"14.00\" text-anchor=\"middle\" x=\"263.5\" y=\"-19.8\">predictions: Dense</text>\n",
       "<polyline fill=\"none\" points=\"322.5,-0.5 322.5,-46.5 \" stroke=\"black\"/>\n",
       "<text font-family=\"Times,serif\" font-size=\"14.00\" text-anchor=\"middle\" x=\"350\" y=\"-31.3\">input:</text>\n",
       "<polyline fill=\"none\" points=\"322.5,-23.5 377.5,-23.5 \" stroke=\"black\"/>\n",
       "<text font-family=\"Times,serif\" font-size=\"14.00\" text-anchor=\"middle\" x=\"350\" y=\"-8.3\">output:</text>\n",
       "<polyline fill=\"none\" points=\"377.5,-0.5 377.5,-46.5 \" stroke=\"black\"/>\n",
       "<text font-family=\"Times,serif\" font-size=\"14.00\" text-anchor=\"middle\" x=\"419\" y=\"-31.3\">(None, 500)</text>\n",
       "<polyline fill=\"none\" points=\"377.5,-23.5 460.5,-23.5 \" stroke=\"black\"/>\n",
       "<text font-family=\"Times,serif\" font-size=\"14.00\" text-anchor=\"middle\" x=\"419\" y=\"-8.3\">(None, 2)</text>\n",
       "</g>\n",
       "<!-- 140177432656584&#45;&gt;140176994010560 -->\n",
       "<g class=\"edge\" id=\"edge21\"><title>140177432656584-&gt;140176994010560</title>\n",
       "<path d=\"M332.5,-83.3664C332.5,-75.1516 332.5,-65.6579 332.5,-56.7252\" fill=\"none\" stroke=\"black\"/>\n",
       "<polygon fill=\"black\" points=\"336,-56.6068 332.5,-46.6068 329,-56.6069 336,-56.6068\" stroke=\"black\"/>\n",
       "</g>\n",
       "</g>\n",
       "</svg>"
      ],
      "text/plain": [
       "<IPython.core.display.SVG object>"
      ]
     },
     "execution_count": 633,
     "metadata": {},
     "output_type": "execute_result"
    }
   ],
   "source": [
    "keras.utils.plot_model(attention_model, to_file='attention_model.pdf')\n",
    "SVG(model_to_dot(attention_model, show_shapes=True, show_layer_names=True).create(prog='dot', format='svg'))\n"
   ]
  },
  {
   "cell_type": "code",
   "execution_count": 250,
   "metadata": {
    "collapsed": true
   },
   "outputs": [],
   "source": [
    "parallel_attention_model = keras.utils.multi_gpu_model(attention_model, gpus=2)\n",
    "parallel_attention_model.compile(loss=keras.losses.categorical_crossentropy,\n",
    "              optimizer=keras.optimizers.Adam(),\n",
    "              metrics=['accuracy'])"
   ]
  },
  {
   "cell_type": "code",
   "execution_count": null,
   "metadata": {
    "collapsed": true,
    "scrolled": false
   },
   "outputs": [],
   "source": [
    "parallel_attention_model.fit([x_train, x_rc_train], y_train,\n",
    "          batch_size=200,\n",
    "          epochs=50,\n",
    "          verbose=1,\n",
    "          validation_data=([x_test, x_rc_test], y_test))\n",
    "score = parallel_attention_model.evaluate([x_test, x_rc_test], y_test, verbose=0)\n",
    "print('Test loss:', score[0])\n",
    "print('Test accuracy:', score[1])"
   ]
  },
  {
   "cell_type": "code",
   "execution_count": 261,
   "metadata": {},
   "outputs": [
    {
     "data": {
      "text/plain": [
       "0.9507857947721864"
      ]
     },
     "execution_count": 261,
     "metadata": {},
     "output_type": "execute_result"
    }
   ],
   "source": [
    "probs = attention_model.predict([x_test, x_rc_test])\n",
    "\n",
    "sklearn.metrics.roc_auc_score([y[1] for y in y_test], probs[:,1], )"
   ]
  },
  {
   "cell_type": "code",
   "execution_count": 270,
   "metadata": {},
   "outputs": [
    {
     "data": {
      "image/png": "[encoded data removed]",
      "text/plain": [
       "<matplotlib.figure.Figure at 0x7f7f066cfe80>"
      ]
     },
     "metadata": {},
     "output_type": "display_data"
    }
   ],
   "source": [
    "attention_output, full_attention, attended_sequence = get_sequence_attention(attention_model,\n",
    "                      str(positive_seqRecords[2].seq),\n",
    "                      5)\n",
    "frame = pd.DataFrame(full_attention).T\n",
    "frame.columns = list(attended_sequence)\n",
    "fig, ax = plt.subplots(figsize=(30,1)) \n",
    "hm=sns.heatmap(frame, square=True, ax=ax, vmin=0, vmax=0.10)"
   ]
  },
  {
   "cell_type": "code",
   "execution_count": 277,
   "metadata": {},
   "outputs": [
    {
     "data": {
      "image/png": "[encoded data removed]",
      "text/plain": [
       "<matplotlib.figure.Figure at 0x7f7f06083160>"
      ]
     },
     "metadata": {},
     "output_type": "display_data"
    }
   ],
   "source": [
    "attention_output, full_attention, attended_sequence = get_sequence_attention(attention_model,\n",
    "                      str(positive_seqRecords[9000].seq),\n",
    "                      5)\n",
    "frame = pd.DataFrame(full_attention).T\n",
    "frame.columns = list(attended_sequence)\n",
    "fig, ax = plt.subplots(figsize=(30,1)) \n",
    "hm=sns.heatmap(frame, square=True, ax=ax, vmin=0, vmax=0.10)"
   ]
  },
  {
   "cell_type": "code",
   "execution_count": 280,
   "metadata": {},
   "outputs": [
    {
     "data": {
      "image/png": "[encoded data removed]",
      "text/plain": [
       "<matplotlib.figure.Figure at 0x7f7f056d65f8>"
      ]
     },
     "metadata": {},
     "output_type": "display_data"
    }
   ],
   "source": [
    "attention_output, full_attention, attended_sequence = get_sequence_attention(attention_model,\n",
    "                      str(positive_seqRecords[999].seq),\n",
    "                      5)\n",
    "frame = pd.DataFrame(full_attention).T\n",
    "frame.columns = list(attended_sequence)\n",
    "fig, ax = plt.subplots(figsize=(30,1)) \n",
    "hm=sns.heatmap(frame, square=True, ax=ax, vmin=0, vmax=0.10)"
   ]
  },
  {
   "cell_type": "code",
   "execution_count": 279,
   "metadata": {
    "collapsed": true
   },
   "outputs": [],
   "source": [
    "def get_sequence_attention(model, sequence, adjacent_bp_pool_size):\n",
    "    get_attention = K.function([model.get_layer('input_fwd').input, \n",
    "                                model.get_layer('input_rev').input,\n",
    "                                K.learning_phase()\n",
    "                               ], \n",
    "                               [model.get_layer('attention_softmax_layer').output])\n",
    "    fwd_seq = sequence[:200]\n",
    "    rev_seq = str(Bio.Seq.Seq(fwd_seq).reverse_complement())\n",
    "    \n",
    "    fwd_seq_array = convert_sequences_to_array([fwd_seq])[0]\n",
    "    rev_seq_array = convert_sequences_to_array([rev_seq])[0]\n",
    "\n",
    "    layer_output = get_attention(([fwd_seq_array], [rev_seq_array], 0))[0]\n",
    "    reshaped_output = layer_output.reshape((layer_output.shape[1], layer_output.shape[2]))\n",
    "\n",
    "\n",
    "    full_attention = []\n",
    "    for x in reshaped_output:\n",
    "        for i in range(adjacent_bp_pool_size):\n",
    "            full_attention.append(x)\n",
    "    full_attention = np.array(full_attention)\n",
    "\n",
    "    crop_distance = int((len(fwd_seq) - full_attention.shape[0])/2)\n",
    "\n",
    "    attended_sequence = fwd_seq[crop_distance:-crop_distance]\n",
    "    return layer_output, full_attention, attended_sequence"
   ]
  },
  {
   "cell_type": "code",
   "execution_count": 403,
   "metadata": {
    "collapsed": true
   },
   "outputs": [],
   "source": [
    "def convert_arrays_to_sequences(sequence_arrays):\n",
    "    sequence_list = []\n",
    "    for arr in sequence_arrays:\n",
    "        current_seq = ''\n",
    "        for pos in arr:\n",
    "            if int(pos[0]) == 1:\n",
    "                current_seq += 'A'\n",
    "            elif int(pos[1]) == 1:\n",
    "                current_seq += 'C'\n",
    "            elif int(pos[2]) == 1:\n",
    "                current_seq += 'G'\n",
    "            elif int(pos[3]) == 1:\n",
    "                current_seq += 'T'\n",
    "            else:\n",
    "                current_seq += 'N'\n",
    "        sequence_list.append(current_seq)\n",
    "    return sequence_list"
   ]
  },
  {
   "cell_type": "markdown",
   "metadata": {},
   "source": [
    "## Train Models For each signal"
   ]
  },
  {
   "cell_type": "code",
   "execution_count": 289,
   "metadata": {
    "collapsed": true
   },
   "outputs": [],
   "source": [
    "def get_attention_model(total_seq_length,\n",
    "                        seq_size,\n",
    "                        num_motifs, \n",
    "                        motif_size,\n",
    "                        adjacent_bp_pool_size,\n",
    "                        attention_dim,\n",
    "                        attention_hops,\n",
    "                        num_dense_neurons):\n",
    "    input_fwd = Input(shape=(total_seq_length,4), name='input_fwd')\n",
    "    input_rev = Input(shape=(total_seq_length,4), name='input_rev')\n",
    "\n",
    "    ### find motifs ###\n",
    "    convolution_layer = Conv1D(filters=num_motifs, \n",
    "        kernel_size=motif_size,\n",
    "        activation='relu',\n",
    "        input_shape=(total_seq_length,4),\n",
    "        name='convolution_layer',\n",
    "        padding = 'same'\n",
    "        )\n",
    "    forward_motif_scores = convolution_layer(input_fwd)\n",
    "    reverse_motif_scores = convolution_layer(input_rev)\n",
    "    print('forward_motif_scores', forward_motif_scores.get_shape())\n",
    "\n",
    "    ### crop motif scores to avoid parts of sequence where motif score is computed in only one direction ###\n",
    "    to_crop = int((total_seq_length - seq_size)/2)\n",
    "    crop_layer = Cropping1D(cropping=(to_crop, to_crop), \n",
    "        name='crop_layer')\n",
    "    cropped_fwd_scores = crop_layer(forward_motif_scores)\n",
    "    cropped_rev_scores = crop_layer(reverse_motif_scores)\n",
    "    print('cropped_fwd_scores', cropped_fwd_scores.get_shape())\n",
    "\n",
    "    ### flip motif scores ###\n",
    "    flip_layer = Lambda(lambda x: K.reverse(x,axes=0),\n",
    "        output_shape=(seq_size, num_motifs),\n",
    "        name='flip_layer')\n",
    "    flipped_rev_scores = flip_layer(cropped_rev_scores)\n",
    "    print('flipped_rev_scores', flipped_rev_scores.get_shape())\n",
    "\n",
    "    ### concatenate motif scores ###\n",
    "    concatenate_layer = keras.layers.Concatenate(axis=2, name='concatenate_layer')\n",
    "    concatenated_motif_scores = concatenate_layer([cropped_fwd_scores, flipped_rev_scores])\n",
    "    print('concatenated_motif_scores', concatenated_motif_scores.get_shape())\n",
    "\n",
    "    ### pool across length of sequence ###\n",
    "    sequence_pooling_layer = MaxPool1D(pool_size=adjacent_bp_pool_size, \n",
    "        strides=adjacent_bp_pool_size,\n",
    "        name='sequence_pooling_layer')\n",
    "    pooled_scores = sequence_pooling_layer(concatenated_motif_scores)\n",
    "    print('pooled_scores', pooled_scores.get_shape())\n",
    "\n",
    "    ## bidirectional LSTM ###\n",
    "    forward_lstm_layer = LSTM(units=int(seq_size/adjacent_bp_pool_size),\n",
    "        return_sequences=True,\n",
    "        input_shape = (int(seq_size/adjacent_bp_pool_size), 2*num_motifs),\n",
    "        name = 'forward_lstm_layer'\n",
    "        )\n",
    "    forward_hidden_states = forward_lstm_layer(pooled_scores)\n",
    "    print('forward_hidden_states', forward_hidden_states.get_shape())\n",
    "\n",
    "    reverse_lstm_layer = LSTM(units=int(seq_size/adjacent_bp_pool_size),\n",
    "        return_sequences=True,\n",
    "        input_shape = (int(seq_size/adjacent_bp_pool_size), 2*num_motifs),\n",
    "        name = 'reverse_lstm_layer',\n",
    "        go_backwards=True,\n",
    "        )\n",
    "    reverse_hidden_states = reverse_lstm_layer(pooled_scores)\n",
    "    print('reverse_hidden_states', reverse_hidden_states.get_shape())\n",
    "    ### concatenate lstm hidden states ###\n",
    "    lstm_concatenate_layer = Concatenate(axis=2)\n",
    "    bilstm_hidden_states = lstm_concatenate_layer([forward_hidden_states, reverse_hidden_states])\n",
    "\n",
    "    print('bilstm_hidden_states', bilstm_hidden_states.get_shape())\n",
    "\n",
    "    # tanh layer\n",
    "    attention_tanh_layer = Dense(attention_dim,\n",
    "        activation='tanh',\n",
    "        use_bias=False,\n",
    "        name = 'attention_tanh_layer')\n",
    "    attention_tanh_layer_out = attention_tanh_layer(bilstm_hidden_states)\n",
    "    print('attention_tanh_layer_out', attention_tanh_layer_out.get_shape())\n",
    "\n",
    "    # outer layer\n",
    "    attention_outer_layer = Dense(attention_hops,\n",
    "        activation='relu',\n",
    "        use_bias=False,\n",
    "        name = 'attention_outer_layer')\n",
    "    attention_outer_layer_out = attention_outer_layer(attention_tanh_layer_out)\n",
    "    print('attention_outer_layer_out', attention_outer_layer_out.get_shape())\n",
    "\n",
    "    # apply softmax\n",
    "    softmax_layer = Softmax(axis=1, name='attention_softmax_layer')\n",
    "    attention_softmax_layer_out = softmax_layer(attention_outer_layer_out)\n",
    "    print('attention_softmax_layer_out', attention_softmax_layer_out.get_shape())\n",
    "\n",
    "    # attend to hidden states\n",
    "    attending_layer = Dot(axes=(1,1),\n",
    "        name='attending_layer')\n",
    "\n",
    "    attended_states = attending_layer([attention_softmax_layer_out, bilstm_hidden_states])\n",
    "    print('attended_states', attended_states.get_shape())\n",
    "\n",
    "    # # fully connected layer\n",
    "    dense_layer = Dense(num_dense_neurons, \n",
    "        activation='relu', \n",
    "        name = 'dense_layer'\n",
    "        )\n",
    "\n",
    "    dense_output = dense_layer(attended_states)\n",
    "\n",
    "    # drop out\n",
    "    drop_out = Dropout(0.25,name='dense_dropout')(dense_output)\n",
    "\n",
    "    # make prediction\n",
    "    flattened = Flatten(name='flatten')(drop_out)\n",
    "    predictions = Dense(num_classes,\n",
    "                        name='predictions',\n",
    "                        activation = 'softmax', \n",
    "                       )(flattened)\n",
    "    # define and compile model\n",
    "    model = Model(inputs=[input_fwd, input_rev], outputs=predictions)\n",
    "\n",
    "    model.compile(loss=keras.losses.categorical_crossentropy,\n",
    "                  optimizer=keras.optimizers.Adam(),\n",
    "                  metrics=['accuracy'])\n",
    "    return model"
   ]
  },
  {
   "cell_type": "code",
   "execution_count": 585,
   "metadata": {},
   "outputs": [
    {
     "name": "stdout",
     "output_type": "stream",
     "text": [
      "Convolution Params: 3000\n",
      "LSTM Params: 24000.0\n",
      "Attention Params: 6200.0\n",
      "Dense Params: 15000.0\n"
     ]
    },
    {
     "data": {
      "text/plain": [
       "48200.0"
      ]
     },
     "execution_count": 585,
     "metadata": {},
     "output_type": "execute_result"
    }
   ],
   "source": [
    "total_seq_length = len(fasta_seq[0])\n",
    "seq_size = 150\n",
    "num_classes = 2\n",
    "num_motifs = 50\n",
    "motif_size = 15\n",
    "adjacent_bp_pool_size = 5\n",
    "attention_dim = 200\n",
    "attention_hops = 1\n",
    "num_dense_neurons = 500 \n",
    "count_num_params(seq_size,\n",
    "    num_motifs, \n",
    "    motif_size,\n",
    "    adjacent_bp_pool_size,\n",
    "    attention_dim,\n",
    "    attention_hops,\n",
    "    num_dense_neurons\n",
    "    )"
   ]
  },
  {
   "cell_type": "markdown",
   "metadata": {},
   "source": [
    "### KLA"
   ]
  },
  {
   "cell_type": "code",
   "execution_count": 606,
   "metadata": {
    "collapsed": true
   },
   "outputs": [],
   "source": [
    "positive_seqRecords = list(SeqIO.parse('./fasta_files/c57bl6_kla-1h_peaks.fa', 'fasta'))\n",
    "negative_seqRecords = list(SeqIO.parse('./background_files/c57bl6_kla-1h_peaks_background.fasta', 'fasta'))\n",
    "\n",
    "fasta_seq = [str(x.seq[:200]) for x in positive_seqRecords] + [str(x[:200].seq) for x in negative_seqRecords]\n",
    "\n",
    "fasta_rc_seq = [str(x[:200].reverse_complement().seq) for x in positive_seqRecords] + \\\n",
    "    [str(x[:200].reverse_complement().seq) for x in negative_seqRecords]\n",
    "\n",
    "sequence_arrays = convert_sequences_to_array(fasta_seq)\n",
    "sequence_arrays = np.array(sequence_arrays)\n",
    "\n",
    "sequence_rc_arrays = convert_sequences_to_array(fasta_rc_seq)\n",
    "sequence_rc_arrays = np.array(sequence_rc_arrays)\n",
    "\n",
    "\n",
    "labels = [1 for x in positive_seqRecords] + [0 for x in negative_seqRecords]\n",
    "labels = np.array(labels)\n",
    "\n",
    "x_train, x_test, x_rc_train, x_rc_test, y_train, y_test = model_selection.train_test_split(sequence_arrays, sequence_rc_arrays, labels, test_size=0.2)\n",
    "\n",
    "num_classes = 2\n",
    "y_train = keras.utils.to_categorical(y_train, num_classes)\n",
    "y_test = keras.utils.to_categorical(y_test, num_classes)"
   ]
  },
  {
   "cell_type": "code",
   "execution_count": 607,
   "metadata": {},
   "outputs": [
    {
     "name": "stdout",
     "output_type": "stream",
     "text": [
      "forward_motif_scores (?, 200, 50)\n",
      "cropped_fwd_scores (?, 150, 50)\n",
      "flipped_rev_scores (?, 150, 50)\n",
      "concatenated_motif_scores (?, 150, 100)\n",
      "pooled_scores (?, 30, 100)\n",
      "forward_hidden_states (?, ?, 30)\n",
      "reverse_hidden_states (?, ?, 30)\n",
      "bilstm_hidden_states (?, ?, 60)\n",
      "attention_tanh_layer_out (?, 30, 200)\n",
      "attention_outer_layer_out (?, 30, 1)\n",
      "attention_softmax_layer_out (?, 30, 1)\n",
      "attended_states (?, 1, 60)\n"
     ]
    }
   ],
   "source": [
    "kla_model = get_attention_model(total_seq_length,\n",
    "                        seq_size,\n",
    "                        num_motifs, \n",
    "                        motif_size,\n",
    "                        adjacent_bp_pool_size,\n",
    "                        attention_dim,\n",
    "                        attention_hops,\n",
    "                        num_dense_neurons)"
   ]
  },
  {
   "cell_type": "code",
   "execution_count": 608,
   "metadata": {
    "collapsed": true
   },
   "outputs": [],
   "source": [
    "parallel_attention_model = keras.utils.multi_gpu_model(kla_model, gpus=2)\n",
    "parallel_attention_model.compile(loss=keras.losses.binary_crossentropy,\n",
    "              optimizer=keras.optimizers.Adam(),\n",
    "              metrics=['accuracy'])"
   ]
  },
  {
   "cell_type": "code",
   "execution_count": null,
   "metadata": {
    "collapsed": true,
    "scrolled": false
   },
   "outputs": [],
   "source": [
    "parallel_attention_model.fit([x_train, x_rc_train], y_train,\n",
    "          batch_size=200,\n",
    "          epochs=50,\n",
    "          verbose=1,\n",
    "          validation_data=([x_test, x_rc_test], y_test))\n",
    "score = parallel_attention_model.evaluate([x_test, x_rc_test], y_test, verbose=0)\n",
    "print('Test loss:', score[0])\n",
    "print('Test accuracy:', score[1])"
   ]
  },
  {
   "cell_type": "code",
   "execution_count": 590,
   "metadata": {},
   "outputs": [
    {
     "name": "stdout",
     "output_type": "stream",
     "text": [
      "Saved model to disk\n"
     ]
    }
   ],
   "source": [
    "# serialize model to JSON\n",
    "model_json = kla_model.to_json()\n",
    "with open(\"kla_model.json\", \"w\") as json_file:\n",
    "    json_file.write(model_json)\n",
    "# serialize weights to HDF5\n",
    "kla_model.save_weights(\"kla_model.h5\")\n",
    "print(\"Saved model to disk\")\n",
    " "
   ]
  },
  {
   "cell_type": "markdown",
   "metadata": {},
   "source": [
    "## Veh Model"
   ]
  },
  {
   "cell_type": "code",
   "execution_count": 591,
   "metadata": {
    "collapsed": true
   },
   "outputs": [],
   "source": [
    "positive_seqRecords = list(SeqIO.parse('./fasta_files/c57bl6_veh_peaks.fa', 'fasta'))\n",
    "negative_seqRecords = list(SeqIO.parse('./background_files/c57bl6_veh_peaks_background.fasta', 'fasta'))\n",
    "\n",
    "fasta_seq = [str(x.seq[:200]) for x in positive_seqRecords] + [str(x[:200].seq) for x in negative_seqRecords]\n",
    "\n",
    "fasta_rc_seq = [str(x[:200].reverse_complement().seq) for x in positive_seqRecords] + \\\n",
    "    [str(x[:200].reverse_complement().seq) for x in negative_seqRecords]\n",
    "\n",
    "sequence_arrays = convert_sequences_to_array(fasta_seq)\n",
    "sequence_arrays = np.array(sequence_arrays)\n",
    "\n",
    "sequence_rc_arrays = convert_sequences_to_array(fasta_rc_seq)\n",
    "sequence_rc_arrays = np.array(sequence_rc_arrays)\n",
    "\n",
    "\n",
    "labels = [1 for x in positive_seqRecords] + [0 for x in negative_seqRecords]\n",
    "labels = np.array(labels)\n",
    "\n",
    "x_train, x_test, x_rc_train, x_rc_test, y_train, y_test = model_selection.train_test_split(sequence_arrays, sequence_rc_arrays, labels, test_size=0.2)\n",
    "\n",
    "num_classes = 2\n",
    "y_train = keras.utils.to_categorical(y_train, num_classes)\n",
    "y_test = keras.utils.to_categorical(y_test, num_classes)"
   ]
  },
  {
   "cell_type": "code",
   "execution_count": 636,
   "metadata": {},
   "outputs": [
    {
     "name": "stdout",
     "output_type": "stream",
     "text": [
      "forward_motif_scores (?, 200, 25)\n",
      "cropped_fwd_scores (?, 150, 25)\n",
      "flipped_rev_scores (?, 150, 25)\n",
      "concatenated_motif_scores (?, 150, 50)\n",
      "pooled_scores (?, 150, 50)\n",
      "forward_hidden_states (?, ?, 150)\n",
      "reverse_hidden_states (?, ?, 150)\n",
      "bilstm_hidden_states (?, ?, 300)\n",
      "attention_tanh_layer_out (?, 150, 200)\n",
      "attention_outer_layer_out (?, 150, 1)\n",
      "attention_softmax_layer_out (?, 150, 1)\n",
      "attended_states (?, 1, 300)\n"
     ]
    }
   ],
   "source": [
    "veh_model = get_attention_model(total_seq_length,\n",
    "                        seq_size,\n",
    "                        num_motifs, \n",
    "                        motif_size,\n",
    "                        adjacent_bp_pool_size,\n",
    "                        attention_dim,\n",
    "                        attention_hops,\n",
    "                        num_dense_neurons)"
   ]
  },
  {
   "cell_type": "code",
   "execution_count": 593,
   "metadata": {
    "collapsed": true
   },
   "outputs": [],
   "source": [
    "parallel_attention_model = keras.utils.multi_gpu_model(veh_model, gpus=2)\n",
    "parallel_attention_model.compile(loss=keras.losses.categorical_crossentropy,\n",
    "              optimizer=keras.optimizers.Adam(),\n",
    "              metrics=['accuracy'])"
   ]
  },
  {
   "cell_type": "code",
   "execution_count": 594,
   "metadata": {
    "scrolled": false
   },
   "outputs": [
    {
     "name": "stdout",
     "output_type": "stream",
     "text": [
      "Train on 43225 samples, validate on 10807 samples\n",
      "Epoch 1/50\n",
      "43225/43225 [==============================] - 28s 638us/step - loss: 0.6533 - acc: 0.5935 - val_loss: 0.5984 - val_acc: 0.6762\n",
      "Epoch 2/50\n",
      "43225/43225 [==============================] - 16s 366us/step - loss: 0.5654 - acc: 0.7057 - val_loss: 0.5534 - val_acc: 0.7206\n",
      "Epoch 3/50\n",
      "43225/43225 [==============================] - 16s 363us/step - loss: 0.5398 - acc: 0.7260 - val_loss: 0.5339 - val_acc: 0.7274\n",
      "Epoch 4/50\n",
      "43225/43225 [==============================] - 16s 365us/step - loss: 0.5056 - acc: 0.7514 - val_loss: 0.5622 - val_acc: 0.7218\n",
      "Epoch 5/50\n",
      "43225/43225 [==============================] - 16s 365us/step - loss: 0.4841 - acc: 0.7652 - val_loss: 0.4749 - val_acc: 0.7726\n",
      "Epoch 6/50\n",
      "43225/43225 [==============================] - 16s 365us/step - loss: 0.4551 - acc: 0.7863 - val_loss: 0.4601 - val_acc: 0.7806\n",
      "Epoch 7/50\n",
      "43225/43225 [==============================] - 16s 363us/step - loss: 0.4396 - acc: 0.7945 - val_loss: 0.4378 - val_acc: 0.7958\n",
      "Epoch 8/50\n",
      "43225/43225 [==============================] - 16s 365us/step - loss: 0.4211 - acc: 0.8049 - val_loss: 0.4290 - val_acc: 0.8012\n",
      "Epoch 9/50\n",
      "43225/43225 [==============================] - 16s 365us/step - loss: 0.4051 - acc: 0.8168 - val_loss: 0.4294 - val_acc: 0.8002\n",
      "Epoch 10/50\n",
      "43225/43225 [==============================] - 16s 362us/step - loss: 0.3916 - acc: 0.8247 - val_loss: 0.4152 - val_acc: 0.8129\n",
      "Epoch 11/50\n",
      "43225/43225 [==============================] - 16s 362us/step - loss: 0.3921 - acc: 0.8226 - val_loss: 0.4349 - val_acc: 0.8013\n",
      "Epoch 12/50\n",
      "43225/43225 [==============================] - 16s 364us/step - loss: 0.3826 - acc: 0.8286 - val_loss: 0.4036 - val_acc: 0.8171\n",
      "Epoch 13/50\n",
      "43225/43225 [==============================] - 16s 364us/step - loss: 0.3724 - acc: 0.8335 - val_loss: 0.4126 - val_acc: 0.8073\n",
      "Epoch 14/50\n",
      "43225/43225 [==============================] - 16s 365us/step - loss: 0.3731 - acc: 0.8342 - val_loss: 0.4215 - val_acc: 0.8072\n",
      "Epoch 15/50\n",
      "43225/43225 [==============================] - 16s 363us/step - loss: 0.3633 - acc: 0.8390 - val_loss: 0.4693 - val_acc: 0.7818\n",
      "Epoch 16/50\n",
      "43225/43225 [==============================] - 16s 366us/step - loss: 0.3621 - acc: 0.8399 - val_loss: 0.4239 - val_acc: 0.8081\n",
      "Epoch 17/50\n",
      "43225/43225 [==============================] - 16s 365us/step - loss: 0.3552 - acc: 0.8421 - val_loss: 0.3856 - val_acc: 0.8301\n",
      "Epoch 18/50\n",
      "43225/43225 [==============================] - 16s 364us/step - loss: 0.3520 - acc: 0.8440 - val_loss: 0.4039 - val_acc: 0.8171\n",
      "Epoch 19/50\n",
      "43225/43225 [==============================] - 16s 363us/step - loss: 0.3465 - acc: 0.8485 - val_loss: 0.3890 - val_acc: 0.8298\n",
      "Epoch 20/50\n",
      "43225/43225 [==============================] - 16s 365us/step - loss: 0.3471 - acc: 0.8480 - val_loss: 0.3822 - val_acc: 0.8300\n",
      "Epoch 21/50\n",
      "43225/43225 [==============================] - 16s 364us/step - loss: 0.3465 - acc: 0.8467 - val_loss: 0.4183 - val_acc: 0.8053\n",
      "Epoch 22/50\n",
      "43225/43225 [==============================] - 16s 364us/step - loss: 0.3378 - acc: 0.8528 - val_loss: 0.4145 - val_acc: 0.8190\n",
      "Epoch 23/50\n",
      "43225/43225 [==============================] - 16s 363us/step - loss: 0.3403 - acc: 0.8523 - val_loss: 0.4026 - val_acc: 0.8160\n",
      "Epoch 24/50\n",
      "43225/43225 [==============================] - 16s 363us/step - loss: 0.3400 - acc: 0.8524 - val_loss: 0.4068 - val_acc: 0.8164\n",
      "Epoch 25/50\n",
      "43225/43225 [==============================] - 16s 363us/step - loss: 0.3360 - acc: 0.8530 - val_loss: 0.3837 - val_acc: 0.8324\n",
      "Epoch 26/50\n",
      "43225/43225 [==============================] - 16s 361us/step - loss: 0.3272 - acc: 0.8589 - val_loss: 0.3951 - val_acc: 0.8265\n",
      "Epoch 27/50\n",
      "43225/43225 [==============================] - 16s 363us/step - loss: 0.3312 - acc: 0.8582 - val_loss: 0.4215 - val_acc: 0.8130\n",
      "Epoch 28/50\n",
      "43225/43225 [==============================] - 16s 364us/step - loss: 0.3279 - acc: 0.8582 - val_loss: 0.3869 - val_acc: 0.8271\n",
      "Epoch 29/50\n",
      "43225/43225 [==============================] - 16s 366us/step - loss: 0.3247 - acc: 0.8597 - val_loss: 0.3718 - val_acc: 0.8380\n",
      "Epoch 30/50\n",
      "43225/43225 [==============================] - 16s 363us/step - loss: 0.3220 - acc: 0.8617 - val_loss: 0.4990 - val_acc: 0.7981\n",
      "Epoch 31/50\n",
      "43225/43225 [==============================] - 16s 363us/step - loss: 0.3228 - acc: 0.8622 - val_loss: 0.3822 - val_acc: 0.8373\n",
      "Epoch 32/50\n",
      "43225/43225 [==============================] - 16s 363us/step - loss: 0.3162 - acc: 0.8655 - val_loss: 0.4096 - val_acc: 0.8272\n",
      "Epoch 33/50\n",
      "43225/43225 [==============================] - 16s 364us/step - loss: 0.3146 - acc: 0.8650 - val_loss: 0.3756 - val_acc: 0.8399\n",
      "Epoch 34/50\n",
      "43225/43225 [==============================] - 16s 363us/step - loss: 0.3113 - acc: 0.8668 - val_loss: 0.3807 - val_acc: 0.8347\n",
      "Epoch 35/50\n",
      "43225/43225 [==============================] - 16s 364us/step - loss: 0.3093 - acc: 0.8673 - val_loss: 0.3777 - val_acc: 0.8393\n",
      "Epoch 36/50\n",
      "43225/43225 [==============================] - 16s 362us/step - loss: 0.3095 - acc: 0.8676 - val_loss: 0.4057 - val_acc: 0.8327\n",
      "Epoch 37/50\n",
      "43225/43225 [==============================] - 16s 362us/step - loss: 0.3067 - acc: 0.8690 - val_loss: 0.3957 - val_acc: 0.8266\n",
      "Epoch 38/50\n",
      "43225/43225 [==============================] - 16s 364us/step - loss: 0.3035 - acc: 0.8702 - val_loss: 0.3793 - val_acc: 0.8374\n",
      "Epoch 39/50\n",
      "43225/43225 [==============================] - 16s 366us/step - loss: 0.3013 - acc: 0.8731 - val_loss: 0.3710 - val_acc: 0.8436\n",
      "Epoch 40/50\n",
      "43225/43225 [==============================] - 16s 364us/step - loss: 0.3006 - acc: 0.8720 - val_loss: 0.3770 - val_acc: 0.8383\n",
      "Epoch 41/50\n",
      "43225/43225 [==============================] - 16s 367us/step - loss: 0.2980 - acc: 0.8734 - val_loss: 0.4191 - val_acc: 0.8194\n",
      "Epoch 42/50\n",
      "43225/43225 [==============================] - 16s 364us/step - loss: 0.2996 - acc: 0.8733 - val_loss: 0.3699 - val_acc: 0.8408\n",
      "Epoch 43/50\n",
      "43225/43225 [==============================] - 16s 363us/step - loss: 0.2933 - acc: 0.8760 - val_loss: 0.3869 - val_acc: 0.8411\n",
      "Epoch 44/50\n",
      "43225/43225 [==============================] - 16s 365us/step - loss: 0.2899 - acc: 0.8763 - val_loss: 0.3895 - val_acc: 0.8306\n",
      "Epoch 45/50\n",
      "43225/43225 [==============================] - 16s 364us/step - loss: 0.2973 - acc: 0.8738 - val_loss: 0.3746 - val_acc: 0.8422\n",
      "Epoch 46/50\n",
      "43225/43225 [==============================] - 16s 364us/step - loss: 0.2870 - acc: 0.8791 - val_loss: 0.4290 - val_acc: 0.8185\n",
      "Epoch 47/50\n",
      "43225/43225 [==============================] - 16s 362us/step - loss: 0.2859 - acc: 0.8792 - val_loss: 0.3821 - val_acc: 0.8329\n",
      "Epoch 48/50\n",
      "43225/43225 [==============================] - 16s 362us/step - loss: 0.2843 - acc: 0.8812 - val_loss: 0.3850 - val_acc: 0.8395\n",
      "Epoch 49/50\n",
      "43225/43225 [==============================] - 16s 362us/step - loss: 0.2840 - acc: 0.8797 - val_loss: 0.3920 - val_acc: 0.8285\n",
      "Epoch 50/50\n",
      "43225/43225 [==============================] - 16s 365us/step - loss: 0.2815 - acc: 0.8814 - val_loss: 0.3968 - val_acc: 0.8389\n",
      "Test loss: 0.39790159156400356\n",
      "Test accuracy: 0.83723512542582\n"
     ]
    }
   ],
   "source": [
    "parallel_attention_model.fit([x_train, x_rc_train], y_train,\n",
    "          batch_size=200,\n",
    "          epochs=50,\n",
    "          verbose=1,\n",
    "          validation_data=([x_test, x_rc_test], y_test))\n",
    "score = parallel_attention_model.evaluate([x_test, x_rc_test], y_test, verbose=0)\n",
    "print('Test loss:', score[0])\n",
    "print('Test accuracy:', score[1])"
   ]
  },
  {
   "cell_type": "code",
   "execution_count": 595,
   "metadata": {},
   "outputs": [
    {
     "name": "stdout",
     "output_type": "stream",
     "text": [
      "Saved model to disk\n"
     ]
    }
   ],
   "source": [
    "# serialize model to JSON\n",
    "model_json = veh_model.to_json()\n",
    "with open(\"veh_model.json\", \"w\") as json_file:\n",
    "    json_file.write(model_json)\n",
    "# serialize weights to HDF5\n",
    "veh_model.save_weights(\"veh_model.h5\")\n",
    "print(\"Saved model to disk\")\n",
    " "
   ]
  },
  {
   "cell_type": "markdown",
   "metadata": {},
   "source": [
    "## IL4 Model"
   ]
  },
  {
   "cell_type": "code",
   "execution_count": 596,
   "metadata": {
    "collapsed": true
   },
   "outputs": [],
   "source": [
    "positive_seqRecords = list(SeqIO.parse('./fasta_files/c57bl6_il4-24h_peaks.fa', 'fasta'))\n",
    "negative_seqRecords = list(SeqIO.parse('./background_files/c57bl6_il4-24h_peaks_background.fasta', 'fasta'))\n",
    "\n",
    "fasta_seq = [str(x.seq[:200]) for x in positive_seqRecords] + [str(x[:200].seq) for x in negative_seqRecords]\n",
    "\n",
    "fasta_rc_seq = [str(x[:200].reverse_complement().seq) for x in positive_seqRecords] + \\\n",
    "    [str(x[:200].reverse_complement().seq) for x in negative_seqRecords]\n",
    "\n",
    "sequence_arrays = convert_sequences_to_array(fasta_seq)\n",
    "sequence_arrays = np.array(sequence_arrays)\n",
    "\n",
    "sequence_rc_arrays = convert_sequences_to_array(fasta_rc_seq)\n",
    "sequence_rc_arrays = np.array(sequence_rc_arrays)\n",
    "\n",
    "\n",
    "labels = [1 for x in positive_seqRecords] + [0 for x in negative_seqRecords]\n",
    "labels = np.array(labels)\n",
    "\n",
    "x_train, x_test, x_rc_train, x_rc_test, y_train, y_test = model_selection.train_test_split(sequence_arrays, sequence_rc_arrays, labels, test_size=0.2)\n",
    "\n",
    "num_classes = 2\n",
    "y_train = keras.utils.to_categorical(y_train, num_classes)\n",
    "y_test = keras.utils.to_categorical(y_test, num_classes)"
   ]
  },
  {
   "cell_type": "code",
   "execution_count": 597,
   "metadata": {},
   "outputs": [
    {
     "name": "stdout",
     "output_type": "stream",
     "text": [
      "forward_motif_scores (?, 200, 50)\n",
      "cropped_fwd_scores (?, 150, 50)\n",
      "flipped_rev_scores (?, 150, 50)\n",
      "concatenated_motif_scores (?, 150, 100)\n",
      "pooled_scores (?, 30, 100)\n",
      "forward_hidden_states (?, ?, 30)\n",
      "reverse_hidden_states (?, ?, 30)\n",
      "bilstm_hidden_states (?, ?, 60)\n",
      "attention_tanh_layer_out (?, 30, 200)\n",
      "attention_outer_layer_out (?, 30, 1)\n",
      "attention_softmax_layer_out (?, 30, 1)\n",
      "attended_states (?, 1, 60)\n"
     ]
    }
   ],
   "source": [
    "il4_model = get_attention_model(total_seq_length,\n",
    "                        seq_size,\n",
    "                        num_motifs, \n",
    "                        motif_size,\n",
    "                        adjacent_bp_pool_size,\n",
    "                        attention_dim,\n",
    "                        attention_hops,\n",
    "                        num_dense_neurons)"
   ]
  },
  {
   "cell_type": "code",
   "execution_count": 598,
   "metadata": {
    "collapsed": true
   },
   "outputs": [],
   "source": [
    "parallel_attention_model = keras.utils.multi_gpu_model(il4_model, gpus=2)\n",
    "parallel_attention_model.compile(loss=keras.losses.categorical_crossentropy,\n",
    "              optimizer=keras.optimizers.Adam(),\n",
    "              metrics=['accuracy'])"
   ]
  },
  {
   "cell_type": "code",
   "execution_count": 599,
   "metadata": {
    "scrolled": false
   },
   "outputs": [
    {
     "name": "stdout",
     "output_type": "stream",
     "text": [
      "Train on 42678 samples, validate on 10670 samples\n",
      "Epoch 1/50\n",
      "42678/42678 [==============================] - 28s 648us/step - loss: 0.6619 - acc: 0.5795 - val_loss: 0.5859 - val_acc: 0.6894\n",
      "Epoch 2/50\n",
      "42678/42678 [==============================] - 15s 362us/step - loss: 0.5641 - acc: 0.7090 - val_loss: 0.5341 - val_acc: 0.7312\n",
      "Epoch 3/50\n",
      "42678/42678 [==============================] - 15s 363us/step - loss: 0.5314 - acc: 0.7340 - val_loss: 0.5078 - val_acc: 0.7522\n",
      "Epoch 4/50\n",
      "42678/42678 [==============================] - 15s 362us/step - loss: 0.5016 - acc: 0.7546 - val_loss: 0.4801 - val_acc: 0.7705\n",
      "Epoch 5/50\n",
      "42678/42678 [==============================] - 15s 360us/step - loss: 0.4651 - acc: 0.7797 - val_loss: 0.4545 - val_acc: 0.7840\n",
      "Epoch 6/50\n",
      "42678/42678 [==============================] - 16s 365us/step - loss: 0.4439 - acc: 0.7921 - val_loss: 0.4703 - val_acc: 0.7729\n",
      "Epoch 7/50\n",
      "42678/42678 [==============================] - 15s 362us/step - loss: 0.4271 - acc: 0.8019 - val_loss: 0.4310 - val_acc: 0.8008\n",
      "Epoch 8/50\n",
      "42678/42678 [==============================] - 15s 362us/step - loss: 0.4104 - acc: 0.8123 - val_loss: 0.4385 - val_acc: 0.7943\n",
      "Epoch 9/50\n",
      "42678/42678 [==============================] - 15s 363us/step - loss: 0.4089 - acc: 0.8143 - val_loss: 0.4108 - val_acc: 0.8147\n",
      "Epoch 10/50\n",
      "42678/42678 [==============================] - 16s 364us/step - loss: 0.3992 - acc: 0.8210 - val_loss: 0.4329 - val_acc: 0.7998\n",
      "Epoch 11/50\n",
      "42678/42678 [==============================] - 15s 362us/step - loss: 0.3828 - acc: 0.8299 - val_loss: 0.4095 - val_acc: 0.8138\n",
      "Epoch 12/50\n",
      "42678/42678 [==============================] - 16s 364us/step - loss: 0.3748 - acc: 0.8324 - val_loss: 0.4278 - val_acc: 0.7993\n",
      "Epoch 13/50\n",
      "42678/42678 [==============================] - 16s 364us/step - loss: 0.3796 - acc: 0.8314 - val_loss: 0.4023 - val_acc: 0.8208\n",
      "Epoch 14/50\n",
      "42678/42678 [==============================] - 15s 361us/step - loss: 0.3674 - acc: 0.8381 - val_loss: 0.4186 - val_acc: 0.8120\n",
      "Epoch 15/50\n",
      "42678/42678 [==============================] - 16s 365us/step - loss: 0.3631 - acc: 0.8413 - val_loss: 0.3848 - val_acc: 0.8302\n",
      "Epoch 16/50\n",
      "42678/42678 [==============================] - 15s 361us/step - loss: 0.3536 - acc: 0.8455 - val_loss: 0.4093 - val_acc: 0.8191\n",
      "Epoch 17/50\n",
      "42678/42678 [==============================] - 15s 362us/step - loss: 0.3606 - acc: 0.8416 - val_loss: 0.3944 - val_acc: 0.8238\n",
      "Epoch 18/50\n",
      "42678/42678 [==============================] - 15s 363us/step - loss: 0.3511 - acc: 0.8454 - val_loss: 0.3883 - val_acc: 0.8285\n",
      "Epoch 19/50\n",
      "42678/42678 [==============================] - 15s 363us/step - loss: 0.3476 - acc: 0.8481 - val_loss: 0.4279 - val_acc: 0.8152\n",
      "Epoch 20/50\n",
      "42678/42678 [==============================] - 16s 364us/step - loss: 0.3412 - acc: 0.8510 - val_loss: 0.3821 - val_acc: 0.8317\n",
      "Epoch 21/50\n",
      "42678/42678 [==============================] - 15s 363us/step - loss: 0.3401 - acc: 0.8524 - val_loss: 0.3884 - val_acc: 0.8363\n",
      "Epoch 22/50\n",
      "42678/42678 [==============================] - 16s 366us/step - loss: 0.3396 - acc: 0.8529 - val_loss: 0.3819 - val_acc: 0.8338\n",
      "Epoch 23/50\n",
      "42678/42678 [==============================] - 16s 365us/step - loss: 0.3348 - acc: 0.8546 - val_loss: 0.3781 - val_acc: 0.8384\n",
      "Epoch 24/50\n",
      "42678/42678 [==============================] - 15s 363us/step - loss: 0.3352 - acc: 0.8549 - val_loss: 0.3798 - val_acc: 0.8287\n",
      "Epoch 25/50\n",
      "42678/42678 [==============================] - 16s 364us/step - loss: 0.3303 - acc: 0.8549 - val_loss: 0.3839 - val_acc: 0.8281\n",
      "Epoch 26/50\n",
      "42678/42678 [==============================] - 15s 363us/step - loss: 0.3300 - acc: 0.8588 - val_loss: 0.3819 - val_acc: 0.8276\n",
      "Epoch 27/50\n",
      "42678/42678 [==============================] - 16s 364us/step - loss: 0.3218 - acc: 0.8619 - val_loss: 0.3834 - val_acc: 0.8298\n",
      "Epoch 28/50\n",
      "42678/42678 [==============================] - 15s 362us/step - loss: 0.3199 - acc: 0.8626 - val_loss: 0.3744 - val_acc: 0.8352\n",
      "Epoch 29/50\n",
      "42678/42678 [==============================] - 15s 362us/step - loss: 0.3180 - acc: 0.8641 - val_loss: 0.3795 - val_acc: 0.8327\n",
      "Epoch 30/50\n",
      "42678/42678 [==============================] - 16s 364us/step - loss: 0.3217 - acc: 0.8615 - val_loss: 0.3935 - val_acc: 0.8287\n",
      "Epoch 31/50\n",
      "42678/42678 [==============================] - 15s 362us/step - loss: 0.3181 - acc: 0.8630 - val_loss: 0.3839 - val_acc: 0.8285\n",
      "Epoch 32/50\n",
      "42678/42678 [==============================] - 16s 364us/step - loss: 0.3184 - acc: 0.8625 - val_loss: 0.4101 - val_acc: 0.8263\n",
      "Epoch 33/50\n",
      "42678/42678 [==============================] - 15s 363us/step - loss: 0.3140 - acc: 0.8654 - val_loss: 0.3899 - val_acc: 0.8276\n",
      "Epoch 34/50\n",
      "42678/42678 [==============================] - 17s 401us/step - loss: 0.3109 - acc: 0.8676 - val_loss: 0.3795 - val_acc: 0.8355\n",
      "Epoch 35/50\n",
      "42678/42678 [==============================] - 18s 414us/step - loss: 0.3059 - acc: 0.8693 - val_loss: 0.4046 - val_acc: 0.8255\n",
      "Epoch 36/50\n",
      "42678/42678 [==============================] - 16s 364us/step - loss: 0.3082 - acc: 0.8699 - val_loss: 0.3985 - val_acc: 0.8238\n",
      "Epoch 37/50\n",
      "42678/42678 [==============================] - 15s 362us/step - loss: 0.3056 - acc: 0.8698 - val_loss: 0.3773 - val_acc: 0.8371\n",
      "Epoch 38/50\n",
      "42678/42678 [==============================] - 15s 362us/step - loss: 0.3054 - acc: 0.8699 - val_loss: 0.3822 - val_acc: 0.8339\n",
      "Epoch 39/50\n",
      "42678/42678 [==============================] - 16s 364us/step - loss: 0.3014 - acc: 0.8729 - val_loss: 0.3855 - val_acc: 0.8376\n",
      "Epoch 40/50\n",
      "42678/42678 [==============================] - 15s 363us/step - loss: 0.3025 - acc: 0.8715 - val_loss: 0.3921 - val_acc: 0.8339\n",
      "Epoch 41/50\n",
      "42678/42678 [==============================] - 16s 363us/step - loss: 0.2955 - acc: 0.8765 - val_loss: 0.3894 - val_acc: 0.8261\n",
      "Epoch 42/50\n",
      "42678/42678 [==============================] - 16s 366us/step - loss: 0.2950 - acc: 0.8756 - val_loss: 0.4017 - val_acc: 0.8277\n",
      "Epoch 43/50\n",
      "42678/42678 [==============================] - 15s 361us/step - loss: 0.2958 - acc: 0.8750 - val_loss: 0.3866 - val_acc: 0.8316\n",
      "Epoch 44/50\n",
      "42678/42678 [==============================] - 16s 364us/step - loss: 0.3025 - acc: 0.8724 - val_loss: 0.3840 - val_acc: 0.8317\n",
      "Epoch 45/50\n",
      "42678/42678 [==============================] - 16s 363us/step - loss: 0.2926 - acc: 0.8756 - val_loss: 0.3993 - val_acc: 0.8256\n",
      "Epoch 46/50\n",
      "42678/42678 [==============================] - 15s 362us/step - loss: 0.2898 - acc: 0.8770 - val_loss: 0.3841 - val_acc: 0.8333\n",
      "Epoch 47/50\n",
      "42678/42678 [==============================] - 15s 363us/step - loss: 0.2837 - acc: 0.8818 - val_loss: 0.3910 - val_acc: 0.8316\n",
      "Epoch 48/50\n",
      "42678/42678 [==============================] - 16s 363us/step - loss: 0.2848 - acc: 0.8808 - val_loss: 0.4121 - val_acc: 0.8305\n",
      "Epoch 49/50\n",
      "42678/42678 [==============================] - 16s 364us/step - loss: 0.2809 - acc: 0.8818 - val_loss: 0.4049 - val_acc: 0.8268\n",
      "Epoch 50/50\n",
      "42678/42678 [==============================] - 15s 363us/step - loss: 0.2814 - acc: 0.8821 - val_loss: 0.4073 - val_acc: 0.8276\n",
      "Test loss: 0.4065295668327596\n",
      "Test accuracy: 0.8280224929932913\n"
     ]
    }
   ],
   "source": [
    "parallel_attention_model.fit([x_train, x_rc_train], y_train,\n",
    "          batch_size=200,\n",
    "          epochs=50,\n",
    "          verbose=1,\n",
    "          validation_data=([x_test, x_rc_test], y_test))\n",
    "score = parallel_attention_model.evaluate([x_test, x_rc_test], y_test, verbose=0)\n",
    "print('Test loss:', score[0])\n",
    "print('Test accuracy:', score[1])"
   ]
  },
  {
   "cell_type": "code",
   "execution_count": 600,
   "metadata": {},
   "outputs": [
    {
     "name": "stdout",
     "output_type": "stream",
     "text": [
      "Saved model to disk\n"
     ]
    }
   ],
   "source": [
    "# serialize model to JSON\n",
    "model_json = il4_model.to_json()\n",
    "with open(\"il4_model.json\", \"w\") as json_file:\n",
    "    json_file.write(model_json)\n",
    "# serialize weights to HDF5\n",
    "il4_model.save_weights(\"il4_model.h5\")\n",
    "print(\"Saved model to disk\")\n",
    " "
   ]
  },
  {
   "cell_type": "markdown",
   "metadata": {},
   "source": [
    "# Restore Model"
   ]
  },
  {
   "cell_type": "code",
   "execution_count": null,
   "metadata": {
    "collapsed": true
   },
   "outputs": [],
   "source": [
    "# load json and create model\n",
    "json_file = open('kla_model.json', 'r')\n",
    "loaded_model_json = json_file.read()\n",
    "json_file.close()\n",
    "loaded_model = keras.models.model_from_json(loaded_model_json)\n",
    "# load weights into new model\n",
    "loaded_model.load_weights(\"kla_model.h5\")\n",
    "print(\"Loaded model from disk\")\n",
    "loaded_model.compile(loss=keras.losses.categorical_crossentropy,\n",
    "              optimizer=keras.optimizers.Adam(),\n",
    "              metrics=['accuracy'])\n",
    "kla_model = loaded_model"
   ]
  },
  {
   "cell_type": "code",
   "execution_count": null,
   "metadata": {
    "collapsed": true
   },
   "outputs": [],
   "source": [
    "# load json and create model\n",
    "json_file = open('veh_model.json', 'r')\n",
    "loaded_model_json = json_file.read()\n",
    "json_file.close()\n",
    "loaded_model = keras.models.model_from_json(loaded_model_json)\n",
    "# load weights into new model\n",
    "loaded_model.load_weights(\"veh_model.h5\")\n",
    "print(\"Loaded model from disk\")\n",
    "loaded_model.compile(loss=keras.losses.categorical_crossentropy,\n",
    "              optimizer=keras.optimizers.Adam(),\n",
    "              metrics=['accuracy'])\n",
    "veh_model = loaded_model"
   ]
  },
  {
   "cell_type": "code",
   "execution_count": null,
   "metadata": {
    "collapsed": true
   },
   "outputs": [],
   "source": [
    "# load json and create model\n",
    "json_file = open('il4_model.json', 'r')\n",
    "loaded_model_json = json_file.read()\n",
    "json_file.close()\n",
    "loaded_model = keras.models.model_from_json(loaded_model_json)\n",
    "# load weights into new model\n",
    "loaded_model.load_weights(\"il4_model.h5\")\n",
    "print(\"Loaded model from disk\")\n",
    "loaded_model.compile(loss=keras.losses.categorical_crossentropy,\n",
    "              optimizer=keras.optimizers.Adam(),\n",
    "              metrics=['accuracy'])\n",
    "il4_model = loaded_model"
   ]
  },
  {
   "cell_type": "markdown",
   "metadata": {},
   "source": [
    "## Visualization"
   ]
  },
  {
   "cell_type": "code",
   "execution_count": 363,
   "metadata": {
    "collapsed": true
   },
   "outputs": [],
   "source": [
    "arg1_enhancer = 'ggtagccgacgagagaccagctcatcttcaataaggaagtcagagagcagaaggctttgtcagcagggcaagactatactttgttaggaagtgaggcattgttcagacttccttatgctttcttatgaacaggctgtattagccaacagtcctgtc'"
   ]
  },
  {
   "cell_type": "code",
   "execution_count": 371,
   "metadata": {
    "collapsed": true
   },
   "outputs": [],
   "source": [
    "arg1_enhancer = 'AAAGTGGCACAACTCACGTACAGACAGGACTGTTGGCTAATACAGCCTGTTCATAAGAAAGCATAAGGAAGTCTGAACAATGCCTCACTTCCTAACAAAGTATAGTCTTGCCCTGCTGACAAAGCCTTCTGCTCTCTGACTTCCTTATTGAAGATGAGCTGGTCTCTCGTCGGCTACCACCCTCCGTGACCTTATGCAGA'"
   ]
  },
  {
   "cell_type": "code",
   "execution_count": 383,
   "metadata": {
    "collapsed": true
   },
   "outputs": [],
   "source": [
    "tnf_enhancer = 'CTAAGCTGTGTCACGGGAGCTGGCAGCACGCTGGCGGATATGCCTTGCCATGGGCCAATTTTGGTTTCAATCTCAGTTTTAGAGGTTGTGTGAAATTCAGTTTCTCTCTTGGGGAGGCCAACAGCTGTCTGGGACTTTCCCCGGGGGGGAGGGCTGATGACTAGGAGTCTTGTGCATCGTCTATAACCACTCTCAGGAAG'"
   ]
  },
  {
   "cell_type": "code",
   "execution_count": 611,
   "metadata": {},
   "outputs": [
    {
     "data": {
      "image/png": "[encoded data removed]",
      "text/plain": [
       "<matplotlib.figure.Figure at 0x7f7d17bdc4a8>"
      ]
     },
     "metadata": {},
     "output_type": "display_data"
    },
    {
     "data": {
      "image/png": "[encoded data removed]",
      "text/plain": [
       "<matplotlib.figure.Figure at 0x7f7d17bdc9b0>"
      ]
     },
     "metadata": {},
     "output_type": "display_data"
    },
    {
     "data": {
      "image/png": "[encoded data removed]",
      "text/plain": [
       "<matplotlib.figure.Figure at 0x7f7d17bf55c0>"
      ]
     },
     "metadata": {},
     "output_type": "display_data"
    }
   ],
   "source": [
    "index = 0\n",
    "attention_output, full_attention, attended_sequence = get_sequence_attention(veh_model,\n",
    "                      str(positive_seqRecords[index].seq),\n",
    "                      5)\n",
    "frame = pd.DataFrame(full_attention).T\n",
    "frame.columns = list(attended_sequence)\n",
    "fig, ax = plt.subplots(figsize=(30,1)) \n",
    "hm=sns.heatmap(frame, square=True, ax=ax, vmin=0, vmax=0.20)\n",
    "plt.ylabel('Vehicle')\n",
    "plt.show()\n",
    "\n",
    "attention_output, full_attention, attended_sequence = get_sequence_attention(il4_model,\n",
    "                      str(positive_seqRecords[index].seq),\n",
    "                      5)\n",
    "\n",
    "frame = pd.DataFrame(full_attention).T\n",
    "frame.columns = list(attended_sequence)\n",
    "fig, ax = plt.subplots(figsize=(30,1)) \n",
    "hm=sns.heatmap(frame, square=True, ax=ax, vmin=0, vmax=0.20)\n",
    "plt.ylabel('IL4')\n",
    "plt.show()\n",
    "\n",
    "attention_output, full_attention, attended_sequence = get_sequence_attention(kla_model,\n",
    "                      str(positive_seqRecords[index].seq),\n",
    "                      5)\n",
    "frame = pd.DataFrame(full_attention).T\n",
    "frame.columns = list(attended_sequence)\n",
    "fig, ax = plt.subplots(figsize=(30,1)) \n",
    "hm=sns.heatmap(frame, square=True, ax=ax, vmin=0, vmax=0.20)\n",
    "plt.ylabel('KLA')\n",
    "plt.show()"
   ]
  },
  {
   "cell_type": "markdown",
   "metadata": {},
   "source": [
    "## Multilabel Model"
   ]
  },
  {
   "cell_type": "code",
   "execution_count": 1047,
   "metadata": {
    "collapsed": true
   },
   "outputs": [],
   "source": [
    "def get_attention_multilabel_model(total_seq_length,\n",
    "                        seq_size,\n",
    "                        num_motifs, \n",
    "                        motif_size,\n",
    "                        adjacent_bp_pool_size,\n",
    "                        attention_dim,\n",
    "                        attention_hops,\n",
    "                        num_dense_neurons,\n",
    "                        dropout_rate=0.25):\n",
    "    input_fwd = Input(shape=(total_seq_length,4), name='input_fwd')\n",
    "    input_rev = Input(shape=(total_seq_length,4), name='input_rev')\n",
    "\n",
    "    ### find motifs ###\n",
    "    convolution_layer = Conv1D(filters=num_motifs, \n",
    "        kernel_size=motif_size,\n",
    "        activation='relu',\n",
    "        input_shape=(total_seq_length,4),\n",
    "        name='convolution_layer',\n",
    "        padding = 'same'\n",
    "        )\n",
    "    forward_motif_scores = convolution_layer(input_fwd)\n",
    "    reverse_motif_scores = convolution_layer(input_rev)\n",
    "    print('forward_motif_scores', forward_motif_scores.get_shape())\n",
    "\n",
    "    ### crop motif scores to avoid parts of sequence where motif score is computed in only one direction ###\n",
    "    to_crop = int((total_seq_length - seq_size)/2)\n",
    "    crop_layer = Cropping1D(cropping=(to_crop, to_crop), \n",
    "        name='crop_layer')\n",
    "    cropped_fwd_scores = crop_layer(forward_motif_scores)\n",
    "    cropped_rev_scores = crop_layer(reverse_motif_scores)\n",
    "    print('cropped_fwd_scores', cropped_fwd_scores.get_shape())\n",
    "\n",
    "    ### flip motif scores ###\n",
    "    flip_layer = Lambda(lambda x: K.reverse(x,axes=0),\n",
    "        output_shape=(seq_size, num_motifs),\n",
    "        name='flip_layer')\n",
    "    flipped_rev_scores = flip_layer(cropped_rev_scores)\n",
    "    print('flipped_rev_scores', flipped_rev_scores.get_shape())\n",
    "\n",
    "    ### concatenate motif scores ###\n",
    "    concatenate_layer = keras.layers.Concatenate(axis=2, name='concatenate_layer')\n",
    "    concatenated_motif_scores = concatenate_layer([cropped_fwd_scores, flipped_rev_scores])\n",
    "    print('concatenated_motif_scores', concatenated_motif_scores.get_shape())\n",
    "\n",
    "    ### pool across length of sequence ###\n",
    "    sequence_pooling_layer = MaxPool1D(pool_size=adjacent_bp_pool_size, \n",
    "        strides=adjacent_bp_pool_size,\n",
    "        name='sequence_pooling_layer')\n",
    "    pooled_scores = sequence_pooling_layer(concatenated_motif_scores)\n",
    "    print('pooled_scores', pooled_scores.get_shape())\n",
    "\n",
    "    ## bidirectional LSTM ###\n",
    "    forward_lstm_layer = LSTM(units=int(seq_size/adjacent_bp_pool_size),\n",
    "        return_sequences=True,\n",
    "        input_shape = (int(seq_size/adjacent_bp_pool_size), 2*num_motifs),\n",
    "        name = 'forward_lstm_layer'\n",
    "        )\n",
    "    forward_hidden_states = forward_lstm_layer(pooled_scores)\n",
    "    print('forward_hidden_states', forward_hidden_states.get_shape())\n",
    "\n",
    "    reverse_lstm_layer = LSTM(units=int(seq_size/adjacent_bp_pool_size),\n",
    "        return_sequences=True,\n",
    "        input_shape = (int(seq_size/adjacent_bp_pool_size), 2*num_motifs),\n",
    "        name = 'reverse_lstm_layer',\n",
    "        go_backwards=True,\n",
    "        )\n",
    "    reverse_hidden_states = reverse_lstm_layer(pooled_scores)\n",
    "    print('reverse_hidden_states', reverse_hidden_states.get_shape())\n",
    "    ### concatenate lstm hidden states ###\n",
    "    lstm_concatenate_layer = Concatenate(axis=2)\n",
    "    bilstm_hidden_states = lstm_concatenate_layer([forward_hidden_states, reverse_hidden_states])\n",
    "\n",
    "    print('bilstm_hidden_states', bilstm_hidden_states.get_shape())\n",
    "\n",
    "    # tanh layer\n",
    "    attention_tanh_layer = Dense(attention_dim,\n",
    "        activation='tanh',\n",
    "        use_bias=False,\n",
    "        name = 'attention_tanh_layer')\n",
    "    attention_tanh_layer_out = attention_tanh_layer(bilstm_hidden_states)\n",
    "    print('attention_tanh_layer_out', attention_tanh_layer_out.get_shape())\n",
    "\n",
    "    # outer layer\n",
    "    attention_outer_layer = Dense(attention_hops,\n",
    "        activation='linear',\n",
    "        use_bias=False,\n",
    "        name = 'attention_outer_layer')\n",
    "    attention_outer_layer_out = attention_outer_layer(attention_tanh_layer_out)\n",
    "    print('attention_outer_layer_out', attention_outer_layer_out.get_shape())\n",
    "\n",
    "    # apply softmax\n",
    "    softmax_layer = Softmax(axis=1, name='attention_softmax_layer')\n",
    "    attention_softmax_layer_out = softmax_layer(attention_outer_layer_out)\n",
    "    print('attention_softmax_layer_out', attention_softmax_layer_out.get_shape())\n",
    "\n",
    "    # attend to hidden states\n",
    "    attending_layer = Dot(axes=(1,1),\n",
    "        name='attending_layer')\n",
    "\n",
    "    attended_states = attending_layer([attention_softmax_layer_out, bilstm_hidden_states])\n",
    "    print('attended_states', attended_states.get_shape())\n",
    "\n",
    "    # # fully connected layer\n",
    "    dense_layer = Dense(num_dense_neurons, \n",
    "        activation='relu', \n",
    "        name = 'dense_layer'\n",
    "        )\n",
    "\n",
    "    dense_output = dense_layer(attended_states)\n",
    "    print('dense_output', dense_output.shape)\n",
    "    \n",
    "    # drop out\n",
    "    drop_out = Dropout(dropout_rate,name='dense_dropout')(dense_output)\n",
    "    print('drop_out', drop_out.shape)\n",
    "    \n",
    "    # make prediction\n",
    "    flattened = Flatten(name='flatten')(drop_out)\n",
    "    print('flattened', flattened.shape)\n",
    "    \n",
    "    predictions = Dense(num_classes,\n",
    "                        name='predictions',\n",
    "                        activation = 'sigmoid', \n",
    "                       )(flattened)\n",
    "    print('predictions', predictions.shape)\n",
    "    \n",
    "    # define and compile model\n",
    "    model = Model(inputs=[input_fwd, input_rev], outputs=predictions)\n",
    "\n",
    "    model.compile(loss=keras.losses.binary_crossentropy,\n",
    "                  optimizer=keras.optimizers.Adam(),\n",
    "                  metrics=['binary_accuracy'])\n",
    "    return model"
   ]
  },
  {
   "cell_type": "code",
   "execution_count": null,
   "metadata": {
    "collapsed": true
   },
   "outputs": [],
   "source": [
    "def quantile_normalize_df(df_input):\n",
    "    df = df_input.copy()\n",
    "    #compute rank\n",
    "    dic = {}\n",
    "    for col in df:\n",
    "        dic.update({col : sorted(df[col])})\n",
    "    sorted_df = pd.DataFrame(dic)\n",
    "    rank = sorted_df.mean(axis = 1).tolist()\n",
    "    #sort\n",
    "    for col in df:\n",
    "        t = np.searchsorted(np.sort(df[col]), df[col])\n",
    "        df[col] = [rank[i] for i in t]\n",
    "    return df"
   ]
  },
  {
   "cell_type": "code",
   "execution_count": 1135,
   "metadata": {
    "collapsed": true
   },
   "outputs": [],
   "source": [
    "negative_seqRecords = list(SeqIO.parse('./background.fasta', 'fasta'))\n",
    "negative_seq = [str(x.seq[:200]) for x in negative_seqRecords]\n",
    "negative_rc_seq = [str(x.seq[:200]) for x in negative_seqRecords]\n",
    "\n",
    "negative_sequence_arrays = convert_sequences_to_array(negative_seq)\n",
    "negative_sequence_arrays = np.array(negative_sequence_arrays)\n",
    "\n",
    "negative_sequence_rc_arrays = convert_sequences_to_array(negative_rc_seq)\n",
    "negative_sequence_rc_arrays = np.array(negative_sequence_rc_arrays)"
   ]
  },
  {
   "cell_type": "code",
   "execution_count": 1024,
   "metadata": {
    "collapsed": true
   },
   "outputs": [],
   "source": [
    "positive_seqRecords = list(SeqIO.parse('./merged_atac_peaks_filtered_resized.fasta', 'fasta'))\n",
    "positive_seqRecords = [x for x in positive_seqRecords]\n",
    "fasta_seq = [str(x.seq[:200]) for x in positive_seqRecords]\n",
    "\n",
    "fasta_rc_seq = [str(x[:200].reverse_complement().seq) for x in positive_seqRecords ]\n",
    "\n",
    "seq_ids = [x.name for x in positive_seqRecords]\n",
    "\n",
    "sequence_arrays = convert_sequences_to_array(fasta_seq)\n",
    "sequence_arrays = np.array(sequence_arrays)\n",
    "\n",
    "sequence_rc_arrays = convert_sequences_to_array(fasta_rc_seq)\n",
    "sequence_rc_arrays = np.array(sequence_rc_arrays)\n",
    "\n",
    "index_seqArray_dict = dict(zip(seq_ids, zip(sequence_arrays, sequence_rc_arrays)))"
   ]
  },
  {
   "cell_type": "code",
   "execution_count": 1160,
   "metadata": {
    "collapsed": true
   },
   "outputs": [],
   "source": [
    "summary_frame = pd.read_csv('./group_atac_summary.tsv' , sep='\\t', low_memory=False)\n",
    "summary_frame = summary_frame.fillna('0')\n",
    "for col in summary_frame.columns[5:]:\n",
    "    floatValues = []\n",
    "    for val in summary_frame[col].values.astype(str):\n",
    "        if ',' in val:\n",
    "            maxVal = np.mean([float(x) for x in val.split(',')])\n",
    "            floatValues.append(maxVal)\n",
    "        else:\n",
    "            floatValues.append(float(val))\n",
    "    summary_frame[col] = floatValues\n",
    "# summary_frame.index = summary_frame['ID'].values\n",
    "summary_frame.index = summary_frame['chr'] + ':' + (summary_frame['start'] - 1).astype(str) + '-' + summary_frame['end'].astype(str)\n",
    "\n",
    "# remove peaks in unknown/random chromosomes\n",
    "summary_frame = summary_frame[~summary_frame['chr'].str.contains('random')]\n",
    "summary_frame = summary_frame[~summary_frame['chr'].str.contains('Un')]"
   ]
  },
  {
   "cell_type": "code",
   "execution_count": 1161,
   "metadata": {},
   "outputs": [
    {
     "data": {
      "text/plain": [
       "c57bl6_ifng-24h    33333\n",
       "c57bl6_il13-24h    23066\n",
       "c57bl6_il1b-24h    13650\n",
       "c57bl6_il23-24h    33482\n",
       "c57bl6_il4-24h     33518\n",
       "c57bl6_il5-24h      2091\n",
       "c57bl6_il6-24h     20308\n",
       "c57bl6_kla-1h      21776\n",
       "c57bl6_tgfb-24h    29540\n",
       "c57bl6_tnfa-24h    31600\n",
       "c57bl6_veh-24h     11500\n",
       "c57bl6_veh         31550\n",
       "dtype: int64"
      ]
     },
     "execution_count": 1161,
     "metadata": {},
     "output_type": "execute_result"
    }
   ],
   "source": [
    "(summary_frame[[x for x in summary_frame.columns if 'c57' in x]]>0).sum(axis=0)"
   ]
  },
  {
   "cell_type": "code",
   "execution_count": 1162,
   "metadata": {},
   "outputs": [
    {
     "data": {
      "text/plain": [
       "c57bl6_ifng-24h    0.608588\n",
       "c57bl6_il13-24h    0.421135\n",
       "c57bl6_il1b-24h    0.249219\n",
       "c57bl6_il23-24h    0.611309\n",
       "c57bl6_il4-24h     0.611966\n",
       "c57bl6_il5-24h     0.038177\n",
       "c57bl6_il6-24h     0.370780\n",
       "c57bl6_kla-1h      0.397583\n",
       "c57bl6_tgfb-24h    0.539337\n",
       "c57bl6_tnfa-24h    0.576948\n",
       "c57bl6_veh-24h     0.209965\n",
       "c57bl6_veh         0.576035\n",
       "dtype: float64"
      ]
     },
     "execution_count": 1162,
     "metadata": {},
     "output_type": "execute_result"
    }
   ],
   "source": [
    "(summary_frame[[x for x in summary_frame.columns if 'c57' in x]]>0).mean(axis=0)"
   ]
  },
  {
   "cell_type": "code",
   "execution_count": 1163,
   "metadata": {},
   "outputs": [
    {
     "name": "stderr",
     "output_type": "stream",
     "text": [
      "/home/jenhan/anaconda3/lib/python3.6/site-packages/ipykernel_launcher.py:6: SettingWithCopyWarning: \n",
      "A value is trying to be set on a copy of a slice from a DataFrame\n",
      "\n",
      "See the caveats in the documentation: http://pandas.pydata.org/pandas-docs/stable/indexing.html#indexing-view-versus-copy\n",
      "  \n"
     ]
    }
   ],
   "source": [
    "peak_count_threshold = 20000\n",
    "peak_counts = (summary_frame[[x for x in summary_frame.columns if 'c57' in x]]>0).sum(axis=0)\n",
    "to_filter_conditions = peak_counts[peak_counts < peak_count_threshold].index.values\n",
    "label_frame = summary_frame[[x for x in summary_frame.columns if 'c57' in x]]\n",
    "for cond in to_filter_conditions:\n",
    "    label_frame.drop(cond, axis=1, inplace=True)"
   ]
  },
  {
   "cell_type": "code",
   "execution_count": 1219,
   "metadata": {
    "collapsed": true
   },
   "outputs": [],
   "source": [
    "label_frame = summary_frame[['c57bl6_il4-24h', 'c57bl6_kla-1h', 'c57bl6_veh']]"
   ]
  },
  {
   "cell_type": "code",
   "execution_count": 1220,
   "metadata": {
    "collapsed": true
   },
   "outputs": [],
   "source": [
    "quantiled_label_frame = quantile_normalize_df(label_frame)"
   ]
  },
  {
   "cell_type": "code",
   "execution_count": 1221,
   "metadata": {},
   "outputs": [
    {
     "data": {
      "text/plain": [
       "(54771, 3)"
      ]
     },
     "execution_count": 1221,
     "metadata": {},
     "output_type": "execute_result"
    }
   ],
   "source": [
    "label_frame.shape"
   ]
  },
  {
   "cell_type": "code",
   "execution_count": 1222,
   "metadata": {},
   "outputs": [
    {
     "data": {
      "text/plain": [
       "<matplotlib.legend.Legend at 0x7f7c879d4c88>"
      ]
     },
     "execution_count": 1222,
     "metadata": {},
     "output_type": "execute_result"
    },
    {
     "data": {
      "image/png": "[encoded data removed]",
      "text/plain": [
       "<matplotlib.figure.Figure at 0x7f7c87a1b6d8>"
      ]
     },
     "metadata": {},
     "output_type": "display_data"
    }
   ],
   "source": [
    "sns.distplot(np.log2(np.array([x for x in label_frame.values.flatten()])+1), label = 'peakScore')\n",
    "sns.distplot(np.log2(np.array([x for x in quantiled_label_frame.values.flatten()])+1), label = 'quantile normed')\n",
    "plt.ylim(0,1)\n",
    "plt.xlabel('tags')\n",
    "plt.ylabel('frequency')\n",
    "plt.legend()"
   ]
  },
  {
   "cell_type": "code",
   "execution_count": 1223,
   "metadata": {
    "collapsed": true
   },
   "outputs": [],
   "source": [
    "score_threshold = 1\n",
    "labels = (quantiled_label_frame >= score_threshold + 0).values\n",
    "target_indices = quantiled_label_frame[quantiled_label_frame.max(axis=1) >= score_threshold].index.values\n",
    "index_label_dict = dict(zip(target_indices, labels))"
   ]
  },
  {
   "cell_type": "code",
   "execution_count": 1224,
   "metadata": {},
   "outputs": [
    {
     "data": {
      "text/plain": [
       "c57bl6_il4-24h    33518\n",
       "c57bl6_kla-1h     21776\n",
       "c57bl6_veh        31550\n",
       "dtype: int64"
      ]
     },
     "execution_count": 1224,
     "metadata": {},
     "output_type": "execute_result"
    }
   ],
   "source": [
    "(quantiled_label_frame >= score_threshold + 0).sum(axis=0)"
   ]
  },
  {
   "cell_type": "code",
   "execution_count": 1225,
   "metadata": {
    "collapsed": true
   },
   "outputs": [],
   "source": [
    "num_classes = quantiled_label_frame.shape[1]\n",
    "labels = [index_label_dict[x] for x in target_indices] + [[0]*num_classes] * len(negative_seq)\n",
    "labels = np.array(labels)"
   ]
  },
  {
   "cell_type": "code",
   "execution_count": 1226,
   "metadata": {},
   "outputs": [],
   "source": [
    "target_seq_arrays = np.array([index_seqArray_dict[x][0] for x in target_indices])\n",
    "target_seq_rc_arrays = np.array([index_seqArray_dict[x][1] for x in target_indices])\n",
    "\n",
    "seq_arrays = np.concatenate([target_seq_arrays, negative_sequence_arrays])\n",
    "seq_rc_arrays = np.concatenate([target_seq_rc_arrays, negative_sequence_rc_arrays])"
   ]
  },
  {
   "cell_type": "code",
   "execution_count": 1227,
   "metadata": {
    "collapsed": true
   },
   "outputs": [],
   "source": [
    "\n",
    "x_train, x_test, x_rc_train, x_rc_test, y_train, y_test = model_selection.train_test_split(seq_arrays, seq_rc_arrays, labels, test_size=0.2)"
   ]
  },
  {
   "cell_type": "code",
   "execution_count": 1228,
   "metadata": {},
   "outputs": [
    {
     "name": "stdout",
     "output_type": "stream",
     "text": [
      "label counts [25795 16140 24768]\n",
      "naive accuracy 0.2595853879440475\n"
     ]
    }
   ],
   "source": [
    "print('label counts', labels.sum(axis=0))\n",
    "print('naive accuracy', max(labels.sum(axis=0))/len(labels))"
   ]
  },
  {
   "cell_type": "markdown",
   "metadata": {},
   "source": [
    "### Convolution Model"
   ]
  },
  {
   "cell_type": "code",
   "execution_count": 1229,
   "metadata": {
    "collapsed": true
   },
   "outputs": [],
   "source": [
    "def get_convolution_multilabel_model(total_seq_length,\n",
    "                        seq_size,\n",
    "                        num_motifs, \n",
    "                        motif_size):\n",
    "    input_fwd = Input(shape=(total_seq_length,4), name='input_fwd')\n",
    "    input_rev = Input(shape=(total_seq_length,4), name='input_rev')\n",
    "\n",
    "    ### find motifs ###\n",
    "    convolution_layer = Conv1D(filters=num_motifs, \n",
    "        kernel_size=motif_size,\n",
    "        activation='relu',\n",
    "        input_shape=(total_seq_length,4),\n",
    "        name='convolution_layer',\n",
    "        padding = 'same'\n",
    "        )\n",
    "    forward_motif_scores = convolution_layer(input_fwd)\n",
    "    reverse_motif_scores = convolution_layer(input_rev)\n",
    "    print('forward_motif_scores', forward_motif_scores.get_shape())\n",
    "\n",
    "    ### crop motif scores to avoid parts of sequence where motif score is computed in only one direction ###\n",
    "    to_crop = int((total_seq_length - seq_size)/2)\n",
    "    crop_layer = Cropping1D(cropping=(to_crop, to_crop), \n",
    "        name='crop_layer')\n",
    "    cropped_fwd_scores = crop_layer(forward_motif_scores)\n",
    "    cropped_rev_scores = crop_layer(reverse_motif_scores)\n",
    "    print('cropped_fwd_scores', cropped_fwd_scores.get_shape())\n",
    "\n",
    "    ### flip motif scores ###\n",
    "    flip_layer = Lambda(lambda x: K.reverse(x,axes=0),\n",
    "        output_shape=(seq_size, num_motifs),\n",
    "        name='flip_layer')\n",
    "    flipped_rev_scores = flip_layer(cropped_rev_scores)\n",
    "    print('flipped_rev_scores', flipped_rev_scores.get_shape())\n",
    "\n",
    "    ### pool across length of sequence ###\n",
    "    sequence_pooling_layer = MaxPool1D(pool_size=seq_size, \n",
    "        strides=adjacent_bp_pool_size,\n",
    "        name='sequence_pooling_layer')\n",
    "    pooled_fwd_scores = sequence_pooling_layer(cropped_fwd_scores)\n",
    "    pooled_rev_scores = sequence_pooling_layer(cropped_rev_scores)\n",
    "    print('pooled_fwd_scores', pooled_fwd_scores.get_shape())\n",
    "    print('pooled_rev_scores', pooled_rev_scores.get_shape())\n",
    "\n",
    "    ### concatenate motif scores ###\n",
    "    concatenate_layer = keras.layers.Concatenate(axis=1, name='concatenate_layer')\n",
    "    concatenated_motif_scores = concatenate_layer([pooled_fwd_scores, pooled_rev_scores])\n",
    "    print('concatenated_motif_scores', concatenated_motif_scores.get_shape())\n",
    "\n",
    "    ## pool across forward and reverse strand ###\n",
    "    strand_pooling_layer = MaxPool1D(pool_size=2, \n",
    "        strides=2,\n",
    "        name='strand_pooling_layer',\n",
    "        )\n",
    "    pooled_strand_scores = strand_pooling_layer(concatenated_motif_scores)\n",
    "    print('pooled_strand_scores', pooled_strand_scores.shape)\n",
    "    \n",
    "    # make prediction\n",
    "    flattened = Flatten(name='flatten')(pooled_strand_scores)\n",
    "    print('flattened', flattened.shape)\n",
    "    \n",
    "    predictions = Dense(num_classes,\n",
    "                        name='predictions',\n",
    "                        activation = 'relu', \n",
    "                       )(flattened)\n",
    "    print('predictions', predictions.shape)\n",
    "    \n",
    "    # define and compile model\n",
    "    model = Model(inputs=[input_fwd, input_rev], outputs=predictions)\n",
    "\n",
    "    model.compile(loss=keras.losses.binary_crossentropy,\n",
    "                  optimizer=keras.optimizers.adam(),\n",
    "                  metrics=['binary_accuracy'])\n",
    "    return model"
   ]
  },
  {
   "cell_type": "code",
   "execution_count": 1178,
   "metadata": {
    "collapsed": true
   },
   "outputs": [],
   "source": [
    "num_classes = len(labels[0])\n",
    "total_seq_length = 200\n",
    "seq_size = 150\n",
    "num_motifs = 30\n",
    "motif_size = 20\n",
    "adjacent_bp_pool_size = 5\n",
    "attention_dim = 100\n",
    "attention_hops = 1\n",
    "num_dense_neurons = 100 "
   ]
  },
  {
   "cell_type": "code",
   "execution_count": 1179,
   "metadata": {
    "scrolled": true
   },
   "outputs": [
    {
     "name": "stdout",
     "output_type": "stream",
     "text": [
      "forward_motif_scores (?, 200, 30)\n",
      "cropped_fwd_scores (?, 150, 30)\n",
      "flipped_rev_scores (?, 150, 30)\n",
      "pooled_fwd_scores (?, 1, 30)\n",
      "pooled_rev_scores (?, 1, 30)\n",
      "concatenated_motif_scores (?, 2, 30)\n",
      "pooled_strand_scores (?, 1, 30)\n",
      "flattened (?, ?)\n",
      "predictions (?, 9)\n"
     ]
    }
   ],
   "source": [
    "signal_convolution_model = get_convolution_multilabel_model(total_seq_length,\n",
    "                        seq_size,\n",
    "                        num_motifs, \n",
    "                        motif_size\n",
    "                                                           )"
   ]
  },
  {
   "cell_type": "code",
   "execution_count": null,
   "metadata": {
    "scrolled": false
   },
   "outputs": [],
   "source": [
    "signal_convolution_model.fit([x_train, x_rc_train], y_train,\n",
    "          batch_size=128,\n",
    "          epochs=50,\n",
    "          verbose=1,\n",
    "          validation_data=([x_test, x_rc_test], y_test))\n",
    "score = signal_convolution_model.evaluate([x_test, x_rc_test], y_test, verbose=0)\n",
    "print('Test loss:', score[0])\n",
    "print('Test accuracy:', score[1])"
   ]
  },
  {
   "cell_type": "code",
   "execution_count": null,
   "metadata": {
    "collapsed": true
   },
   "outputs": [],
   "source": [
    "signal_convolution_model.predict([x_train[0:100], x_rc_train[0:100]])"
   ]
  },
  {
   "cell_type": "markdown",
   "metadata": {},
   "source": [
    "### Attention Model"
   ]
  },
  {
   "cell_type": "code",
   "execution_count": 1239,
   "metadata": {},
   "outputs": [
    {
     "name": "stdout",
     "output_type": "stream",
     "text": [
      "forward_motif_scores (?, 200, 25)\n",
      "cropped_fwd_scores (?, 150, 25)\n",
      "flipped_rev_scores (?, 150, 25)\n",
      "concatenated_motif_scores (?, 150, 50)\n",
      "pooled_scores (?, 30, 50)\n",
      "forward_hidden_states (?, ?, 30)\n",
      "reverse_hidden_states (?, ?, 30)\n",
      "bilstm_hidden_states (?, ?, 60)\n",
      "attention_tanh_layer_out (?, 30, 100)\n",
      "attention_outer_layer_out (?, 30, 1)\n",
      "attention_softmax_layer_out (?, 30, 1)\n",
      "attended_states (?, 1, 60)\n",
      "dense_output (?, 1, 100)\n",
      "drop_out (?, 1, 100)\n",
      "flattened (?, ?)\n",
      "predictions (?, 3)\n"
     ]
    }
   ],
   "source": [
    "num_classes = len(labels[0])\n",
    "total_seq_length = 200\n",
    "seq_size = 150\n",
    "num_motifs = 25\n",
    "motif_size = 20\n",
    "adjacent_bp_pool_size = 5\n",
    "attention_dim = 100\n",
    "attention_hops = 1\n",
    "num_dense_neurons = 100 \n",
    "\n",
    "signal_model = get_attention_multilabel_model(total_seq_length,\n",
    "                        seq_size,\n",
    "                        num_motifs, \n",
    "                        motif_size,\n",
    "                        adjacent_bp_pool_size,\n",
    "                        attention_dim,\n",
    "                        attention_hops,\n",
    "                        num_dense_neurons,\n",
    "                        dropout_rate=0.25)"
   ]
  },
  {
   "cell_type": "code",
   "execution_count": 1240,
   "metadata": {},
   "outputs": [
    {
     "name": "stdout",
     "output_type": "stream",
     "text": [
      "__________________________________________________________________________________________________\n",
      "Layer (type)                    Output Shape         Param #     Connected to                     \n",
      "==================================================================================================\n",
      "input_fwd (InputLayer)          (None, 200, 4)       0                                            \n",
      "__________________________________________________________________________________________________\n",
      "input_rev (InputLayer)          (None, 200, 4)       0                                            \n",
      "__________________________________________________________________________________________________\n",
      "convolution_layer (Conv1D)      (None, 200, 25)      2025        input_fwd[0][0]                  \n",
      "                                                                 input_rev[0][0]                  \n",
      "__________________________________________________________________________________________________\n",
      "crop_layer (Cropping1D)         (None, 150, 25)      0           convolution_layer[0][0]          \n",
      "                                                                 convolution_layer[1][0]          \n",
      "__________________________________________________________________________________________________\n",
      "flip_layer (Lambda)             (None, 150, 25)      0           crop_layer[1][0]                 \n",
      "__________________________________________________________________________________________________\n",
      "concatenate_layer (Concatenate) (None, 150, 50)      0           crop_layer[0][0]                 \n",
      "                                                                 flip_layer[0][0]                 \n",
      "__________________________________________________________________________________________________\n",
      "sequence_pooling_layer (MaxPool (None, 30, 50)       0           concatenate_layer[0][0]          \n",
      "__________________________________________________________________________________________________\n",
      "forward_lstm_layer (LSTM)       (None, 30, 30)       9720        sequence_pooling_layer[0][0]     \n",
      "__________________________________________________________________________________________________\n",
      "reverse_lstm_layer (LSTM)       (None, 30, 30)       9720        sequence_pooling_layer[0][0]     \n",
      "__________________________________________________________________________________________________\n",
      "concatenate_122 (Concatenate)   (None, 30, 60)       0           forward_lstm_layer[0][0]         \n",
      "                                                                 reverse_lstm_layer[0][0]         \n",
      "__________________________________________________________________________________________________\n",
      "attention_tanh_layer (Dense)    (None, 30, 100)      6000        concatenate_122[0][0]            \n",
      "__________________________________________________________________________________________________\n",
      "attention_outer_layer (Dense)   (None, 30, 1)        100         attention_tanh_layer[0][0]       \n",
      "__________________________________________________________________________________________________\n",
      "attention_softmax_layer (Softma (None, 30, 1)        0           attention_outer_layer[0][0]      \n",
      "__________________________________________________________________________________________________\n",
      "attending_layer (Dot)           (None, 1, 60)        0           attention_softmax_layer[0][0]    \n",
      "                                                                 concatenate_122[0][0]            \n",
      "__________________________________________________________________________________________________\n",
      "dense_layer (Dense)             (None, 1, 100)       6100        attending_layer[0][0]            \n",
      "__________________________________________________________________________________________________\n",
      "dense_dropout (Dropout)         (None, 1, 100)       0           dense_layer[0][0]                \n",
      "__________________________________________________________________________________________________\n",
      "flatten (Flatten)               (None, 100)          0           dense_dropout[0][0]              \n",
      "__________________________________________________________________________________________________\n",
      "predictions (Dense)             (None, 3)            303         flatten[0][0]                    \n",
      "==================================================================================================\n",
      "Total params: 33,968\n",
      "Trainable params: 33,968\n",
      "Non-trainable params: 0\n",
      "__________________________________________________________________________________________________\n"
     ]
    }
   ],
   "source": [
    "signal_model.summary()"
   ]
  },
  {
   "cell_type": "code",
   "execution_count": 1241,
   "metadata": {
    "collapsed": true
   },
   "outputs": [],
   "source": [
    "parallel_attention_model = keras.utils.multi_gpu_model(signal_model, gpus=2)\n",
    "parallel_attention_model.compile(loss=keras.losses.binary_crossentropy,\n",
    "              optimizer=keras.optimizers.Adam(),\n",
    "              metrics=['acc'])"
   ]
  },
  {
   "cell_type": "code",
   "execution_count": 1242,
   "metadata": {
    "scrolled": false
   },
   "outputs": [
    {
     "name": "stdout",
     "output_type": "stream",
     "text": [
      "Train on 79496 samples, validate on 19874 samples\n",
      "Epoch 1/50\n",
      "79496/79496 [==============================] - 51s 644us/step - loss: 0.5290 - acc: 0.7745 - val_loss: 0.5165 - val_acc: 0.7764\n",
      "Epoch 2/50\n",
      "79496/79496 [==============================] - 29s 368us/step - loss: 0.4900 - acc: 0.7762 - val_loss: 0.4739 - val_acc: 0.7770\n",
      "Epoch 3/50\n",
      "79496/79496 [==============================] - 29s 371us/step - loss: 0.4680 - acc: 0.7783 - val_loss: 0.4598 - val_acc: 0.7787\n",
      "Epoch 4/50\n",
      "79496/79496 [==============================] - 29s 368us/step - loss: 0.4583 - acc: 0.7804 - val_loss: 0.4620 - val_acc: 0.7790\n",
      "Epoch 5/50\n",
      "79496/79496 [==============================] - 29s 369us/step - loss: 0.4496 - acc: 0.7826 - val_loss: 0.4482 - val_acc: 0.7837\n",
      "Epoch 6/50\n",
      "79496/79496 [==============================] - 29s 369us/step - loss: 0.4425 - acc: 0.7840 - val_loss: 0.4488 - val_acc: 0.7807\n",
      "Epoch 7/50\n",
      "79496/79496 [==============================] - 29s 368us/step - loss: 0.4368 - acc: 0.7864 - val_loss: 0.4440 - val_acc: 0.7842\n",
      "Epoch 8/50\n",
      "79496/79496 [==============================] - 29s 368us/step - loss: 0.4317 - acc: 0.7873 - val_loss: 0.4346 - val_acc: 0.7875\n",
      "Epoch 9/50\n",
      "79496/79496 [==============================] - 29s 369us/step - loss: 0.4285 - acc: 0.7890 - val_loss: 0.4319 - val_acc: 0.7886\n",
      "Epoch 10/50\n",
      "79496/79496 [==============================] - 29s 369us/step - loss: 0.4238 - acc: 0.7898 - val_loss: 0.4298 - val_acc: 0.7890\n",
      "Epoch 11/50\n",
      "79496/79496 [==============================] - 29s 371us/step - loss: 0.4212 - acc: 0.7908 - val_loss: 0.4358 - val_acc: 0.7888\n",
      "Epoch 12/50\n",
      "79496/79496 [==============================] - 29s 369us/step - loss: 0.4202 - acc: 0.7910 - val_loss: 0.4357 - val_acc: 0.7868\n",
      "Epoch 13/50\n",
      "79496/79496 [==============================] - 29s 368us/step - loss: 0.4160 - acc: 0.7923 - val_loss: 0.4238 - val_acc: 0.7891\n",
      "Epoch 14/50\n",
      "79496/79496 [==============================] - 29s 369us/step - loss: 0.4120 - acc: 0.7938 - val_loss: 0.4254 - val_acc: 0.7884\n",
      "Epoch 15/50\n",
      "79496/79496 [==============================] - 30s 371us/step - loss: 0.4103 - acc: 0.7938 - val_loss: 0.4203 - val_acc: 0.7907\n",
      "Epoch 16/50\n",
      "79496/79496 [==============================] - 29s 368us/step - loss: 0.4084 - acc: 0.7943 - val_loss: 0.4200 - val_acc: 0.7927\n",
      "Epoch 17/50\n",
      "79496/79496 [==============================] - 29s 370us/step - loss: 0.4053 - acc: 0.7957 - val_loss: 0.4154 - val_acc: 0.7923\n",
      "Epoch 18/50\n",
      "79496/79496 [==============================] - 29s 370us/step - loss: 0.4032 - acc: 0.7962 - val_loss: 0.4131 - val_acc: 0.7920\n",
      "Epoch 19/50\n",
      "79496/79496 [==============================] - 29s 368us/step - loss: 0.4019 - acc: 0.7971 - val_loss: 0.4183 - val_acc: 0.7919\n",
      "Epoch 20/50\n",
      "79496/79496 [==============================] - 29s 369us/step - loss: 0.4020 - acc: 0.7968 - val_loss: 0.4288 - val_acc: 0.7911\n",
      "Epoch 21/50\n",
      "79496/79496 [==============================] - 29s 370us/step - loss: 0.3986 - acc: 0.7966 - val_loss: 0.4280 - val_acc: 0.7924\n",
      "Epoch 22/50\n",
      "79496/79496 [==============================] - 29s 368us/step - loss: 0.3978 - acc: 0.7978 - val_loss: 0.4094 - val_acc: 0.7933\n",
      "Epoch 23/50\n",
      "79496/79496 [==============================] - 29s 370us/step - loss: 0.3970 - acc: 0.7988 - val_loss: 0.4145 - val_acc: 0.7913\n",
      "Epoch 24/50\n",
      "79496/79496 [==============================] - 29s 370us/step - loss: 0.3956 - acc: 0.7981 - val_loss: 0.4135 - val_acc: 0.7889\n",
      "Epoch 25/50\n",
      "79496/79496 [==============================] - 29s 368us/step - loss: 0.3942 - acc: 0.7988 - val_loss: 0.4326 - val_acc: 0.7911\n",
      "Epoch 26/50\n",
      "79496/79496 [==============================] - 29s 368us/step - loss: 0.3937 - acc: 0.7994 - val_loss: 0.4098 - val_acc: 0.7938\n",
      "Epoch 27/50\n",
      "79496/79496 [==============================] - 29s 370us/step - loss: 0.3919 - acc: 0.7999 - val_loss: 0.4085 - val_acc: 0.7944\n",
      "Epoch 28/50\n",
      "79496/79496 [==============================] - 29s 369us/step - loss: 0.3908 - acc: 0.8003 - val_loss: 0.4046 - val_acc: 0.7945\n",
      "Epoch 29/50\n",
      "79496/79496 [==============================] - 29s 369us/step - loss: 0.3895 - acc: 0.8011 - val_loss: 0.4054 - val_acc: 0.7947\n",
      "Epoch 30/50\n",
      "79496/79496 [==============================] - 29s 367us/step - loss: 0.3895 - acc: 0.8011 - val_loss: 0.4039 - val_acc: 0.7942\n",
      "Epoch 31/50\n",
      "79496/79496 [==============================] - 29s 369us/step - loss: 0.3866 - acc: 0.8015 - val_loss: 0.4036 - val_acc: 0.7940\n",
      "Epoch 32/50\n",
      "79496/79496 [==============================] - 29s 369us/step - loss: 0.3863 - acc: 0.8022 - val_loss: 0.4018 - val_acc: 0.7954\n",
      "Epoch 33/50\n",
      "79496/79496 [==============================] - 29s 369us/step - loss: 0.3853 - acc: 0.8025 - val_loss: 0.4042 - val_acc: 0.7948\n",
      "Epoch 34/50\n",
      "79496/79496 [==============================] - 29s 368us/step - loss: 0.3849 - acc: 0.8025 - val_loss: 0.4017 - val_acc: 0.7941\n",
      "Epoch 35/50\n",
      "79496/79496 [==============================] - 29s 369us/step - loss: 0.3827 - acc: 0.8034 - val_loss: 0.4057 - val_acc: 0.7947\n",
      "Epoch 36/50\n",
      "79496/79496 [==============================] - 29s 368us/step - loss: 0.3815 - acc: 0.8037 - val_loss: 0.4025 - val_acc: 0.7946\n",
      "Epoch 37/50\n",
      "79496/79496 [==============================] - 30s 371us/step - loss: 0.3811 - acc: 0.8034 - val_loss: 0.4014 - val_acc: 0.7952\n",
      "Epoch 38/50\n",
      "79496/79496 [==============================] - 29s 369us/step - loss: 0.3815 - acc: 0.8040 - val_loss: 0.4033 - val_acc: 0.7949\n",
      "Epoch 39/50\n",
      "79496/79496 [==============================] - 29s 368us/step - loss: 0.3795 - acc: 0.8042 - val_loss: 0.4001 - val_acc: 0.7957\n",
      "Epoch 40/50\n",
      "79496/79496 [==============================] - 29s 367us/step - loss: 0.3793 - acc: 0.8042 - val_loss: 0.3982 - val_acc: 0.7954\n",
      "Epoch 41/50\n",
      "79496/79496 [==============================] - 29s 369us/step - loss: 0.3780 - acc: 0.8050 - val_loss: 0.4031 - val_acc: 0.7953\n",
      "Epoch 42/50\n",
      "79496/79496 [==============================] - 29s 369us/step - loss: 0.3786 - acc: 0.8047 - val_loss: 0.4045 - val_acc: 0.7950\n",
      "Epoch 43/50\n",
      "79496/79496 [==============================] - 29s 369us/step - loss: 0.3765 - acc: 0.8049 - val_loss: 0.4023 - val_acc: 0.7959\n",
      "Epoch 44/50\n",
      "79496/79496 [==============================] - 29s 369us/step - loss: 0.3767 - acc: 0.8053 - val_loss: 0.3989 - val_acc: 0.7958\n",
      "Epoch 45/50\n",
      "79496/79496 [==============================] - 29s 369us/step - loss: 0.3760 - acc: 0.8052 - val_loss: 0.4047 - val_acc: 0.7959\n",
      "Epoch 46/50\n",
      "79496/79496 [==============================] - 29s 368us/step - loss: 0.3750 - acc: 0.8057 - val_loss: 0.3984 - val_acc: 0.7970\n",
      "Epoch 47/50\n",
      "79496/79496 [==============================] - 29s 368us/step - loss: 0.3744 - acc: 0.8067 - val_loss: 0.3990 - val_acc: 0.7969\n",
      "Epoch 48/50\n",
      "79496/79496 [==============================] - 29s 370us/step - loss: 0.3737 - acc: 0.8065 - val_loss: 0.3999 - val_acc: 0.7945\n",
      "Epoch 49/50\n",
      "79496/79496 [==============================] - 29s 369us/step - loss: 0.3734 - acc: 0.8060 - val_loss: 0.3983 - val_acc: 0.7951\n",
      "Epoch 50/50\n",
      "79496/79496 [==============================] - 29s 369us/step - loss: 0.3736 - acc: 0.8062 - val_loss: 0.3992 - val_acc: 0.7941\n",
      "Test loss: 0.3991017606736573\n",
      "Test accuracy: 0.7934319734921262\n"
     ]
    }
   ],
   "source": [
    "parallel_attention_model.fit([x_train, x_rc_train], y_train,\n",
    "          batch_size=200,\n",
    "          epochs=50,\n",
    "          verbose=1,\n",
    "          validation_data=([x_test, x_rc_test], y_test))\n",
    "score = signal_model.evaluate([x_test, x_rc_test], y_test, verbose=0)\n",
    "print('Test loss:', score[0])\n",
    "print('Test accuracy:', score[1])"
   ]
  },
  {
   "cell_type": "code",
   "execution_count": 1243,
   "metadata": {},
   "outputs": [],
   "source": [
    "predictions = signal_model.predict([x_test, x_rc_test])"
   ]
  },
  {
   "cell_type": "code",
   "execution_count": null,
   "metadata": {},
   "outputs": [],
   "source": [
    "np.round(predictions[:2])"
   ]
  },
  {
   "cell_type": "code",
   "execution_count": null,
   "metadata": {},
   "outputs": [],
   "source": [
    "print(sklearn.metrics.classification_report(np.round(predictions), y_test))"
   ]
  },
  {
   "cell_type": "code",
   "execution_count": 1218,
   "metadata": {},
   "outputs": [
    {
     "name": "stdout",
     "output_type": "stream",
     "text": [
      "0.4882170259408111\n"
     ]
    }
   ],
   "source": [
    "print(sklearn.metrics.accuracy_score(np.round(predictions), y_test))"
   ]
  },
  {
   "cell_type": "code",
   "execution_count": null,
   "metadata": {
    "collapsed": true
   },
   "outputs": [],
   "source": [
    "# # serialize model to JSON\n",
    "# model_json = signal_model.to_json()\n",
    "# with open(\"signal_model.json\", \"w\") as json_file:\n",
    "#     json_file.write(model_json)\n",
    "# # serialize weights to HDF5\n",
    "# signal_model.save_weights(\"signal_model.h5\")\n",
    "# print(\"Saved model to disk\")\n",
    " "
   ]
  },
  {
   "cell_type": "code",
   "execution_count": null,
   "metadata": {
    "collapsed": true
   },
   "outputs": [],
   "source": []
  }
 ],
 "metadata": {
  "anaconda-cloud": {},
  "kernelspec": {
   "display_name": "Python 3",
   "language": "python",
   "name": "python3"
  },
  "language_info": {
   "codemirror_mode": {
    "name": "ipython",
    "version": 3
   },
   "file_extension": ".py",
   "mimetype": "text/x-python",
   "name": "python",
   "nbconvert_exporter": "python",
   "pygments_lexer": "ipython3",
   "version": "3.6.1"
  }
 },
 "nbformat": 4,
 "nbformat_minor": 1
}
