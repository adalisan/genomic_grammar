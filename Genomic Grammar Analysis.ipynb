{
 "cells": [
  {
   "cell_type": "markdown",
   "metadata": {},
   "source": [
    "# Genomic Grammar Analysis"
   ]
  },
  {
   "cell_type": "code",
   "execution_count": 1,
   "metadata": {
    "collapsed": false
   },
   "outputs": [
    {
     "name": "stderr",
     "output_type": "stream",
     "text": [
      "Using TensorFlow backend.\n"
     ]
    }
   ],
   "source": [
    "from __future__ import print_function\n",
    "import keras\n",
    "from keras.datasets import mnist\n",
    "from keras.models import Sequential\n",
    "from keras.layers import *\n",
    "from keras.models import Model\n",
    "from keras import backend as K"
   ]
  },
  {
   "cell_type": "code",
   "execution_count": 331,
   "metadata": {
    "collapsed": true
   },
   "outputs": [],
   "source": [
    "import os\n",
    "import numpy as np\n",
    "import Bio\n",
    "from Bio import SeqIO\n",
    "import seaborn as sns\n",
    "import pandas as pd\n",
    "import Bio.motifs\n",
    "%matplotlib inline\n",
    "from sklearn import model_selection\n",
    "import seaborn as sns\n",
    "from matplotlib import pyplot as plt\n",
    "import sklearn\n",
    "from IPython.display import SVG\n",
    "from keras.utils.vis_utils import model_to_dot"
   ]
  },
  {
   "cell_type": "code",
   "execution_count": 3,
   "metadata": {
    "collapsed": true
   },
   "outputs": [],
   "source": [
    "if not os.path.isdir('/home/jtao/analysis/genomic_grammar_analysis/'):\n",
    "    os.mkdir('/home/jtao/analysis/genomic_grammar_analysis')\n",
    "os.chdir('/home/jtao/analysis/genomic_grammar_analysis')"
   ]
  },
  {
   "cell_type": "markdown",
   "metadata": {},
   "source": [
    "## Functions"
   ]
  },
  {
   "cell_type": "code",
   "execution_count": 93,
   "metadata": {
    "collapsed": true
   },
   "outputs": [],
   "source": [
    "def convert_sequences_to_array(sequences):\n",
    "    '''\n",
    "    inputs: sequence of nucleotides represented as a string composed of A, C, G, T\n",
    "    outputs: a list of numpy array representations of a sequence with:\n",
    "             A = [1, 0, 0, 0]\n",
    "             C = [0, 1, 0, 0]\n",
    "             G = [0, 0, 1, 0]\n",
    "             T = [0, 0, 0, 1]\n",
    "             \n",
    "    '''\n",
    "\n",
    "    nucleotide_array_dict = {'A': [1, 0, 0, 0],\n",
    "                             'C': [0, 1, 0, 0],\n",
    "                             'G': [0, 0, 1, 0],\n",
    "                             'T': [0, 0, 0, 1],\n",
    "                             'N': [0.25,0.25,0.25,0.25]}\n",
    "\n",
    "    sequence_array_list = []\n",
    "    for seq in sequences:\n",
    "        seq_array = []\n",
    "        for nuc in seq:\n",
    "            seq_array.append(nucleotide_array_dict[nuc])\n",
    "        seq_array = np.array(seq_array)\n",
    "        sequence_array_list.append(seq_array)\n",
    "    sequence_array_list = np.array(sequence_array_list)\n",
    "    return sequence_array_list"
   ]
  },
  {
   "cell_type": "markdown",
   "metadata": {},
   "source": [
    "## Extract Sequence"
   ]
  },
  {
   "cell_type": "code",
   "execution_count": 72,
   "metadata": {
    "collapsed": false
   },
   "outputs": [
    {
     "name": "stdout",
     "output_type": "stream",
     "text": [
      "./atac_idr_peaks/c57bl6_il4-24h_peaks.tsv\n",
      "./bed_files/c57bl6_il4-24h_peaks.bed\n",
      "./atac_idr_peaks/c57bl6_kla-1h_peaks.tsv\n",
      "./bed_files/c57bl6_kla-1h_peaks.bed\n",
      "./atac_idr_peaks/c57bl6_veh_peaks.tsv\n",
      "./bed_files/c57bl6_veh_peaks.bed\n"
     ]
    },
    {
     "name": "stderr",
     "output_type": "stream",
     "text": [
      "\n",
      "\tConverted 37096 peaks total\n",
      "\n",
      "\n",
      "\tConverted 31419 peaks total\n",
      "\n",
      "\n",
      "\tConverted 39536 peaks total\n",
      "\n"
     ]
    }
   ],
   "source": [
    "%%bash\n",
    "if [ ! -d ./bed_files ]; then mkdir ./bed_files; else rm ./bed_files/*; fi\n",
    "for peak in ./atac_idr_peaks/*tsv;\n",
    "do echo $peak;\n",
    "new_path=${peak/atac_idr_peaks/bed_files};\n",
    "new_path=${new_path/.tsv/.bed};\n",
    "echo $new_path;\n",
    "pos2bed.pl $peak >$new_path\n",
    "done"
   ]
  },
  {
   "cell_type": "code",
   "execution_count": 78,
   "metadata": {
    "collapsed": false
   },
   "outputs": [
    {
     "name": "stdout",
     "output_type": "stream",
     "text": [
      "./bed_files/c57bl6_il4-24h_peaks.bed\n",
      "./fasta_files/c57bl6_il4-24h_peaks.fa\n",
      "reading genome mm10\n",
      "./bed_files/c57bl6_kla-1h_peaks.bed\n",
      "./fasta_files/c57bl6_kla-1h_peaks.fa\n",
      "reading genome mm10\n",
      "./bed_files/c57bl6_veh_peaks.bed\n",
      "./fasta_files/c57bl6_veh_peaks.fa\n",
      "reading genome mm10\n"
     ]
    },
    {
     "name": "stderr",
     "output_type": "stream",
     "text": [
      "rm: cannot remove ‘./fasta_files/*’: No such file or directory\n"
     ]
    }
   ],
   "source": [
    "%%bash\n",
    "if [ ! -d ./fasta_files ]; then mkdir ./fasta_files; else rm ./fasta_files/*; fi\n",
    "for bed_path in ./bed_files/*bed;\n",
    "do echo $bed_path;\n",
    "new_path=${bed_path/bed_files/fasta_files};\n",
    "new_path=${new_path/.bed/.fa};\n",
    "echo $new_path;\n",
    "/home/jtao/code/tba/model_training/extract_sequences.py $bed_path mm10 $new_path\n",
    "done"
   ]
  },
  {
   "cell_type": "markdown",
   "metadata": {},
   "source": [
    "## Generate Background Coordinates"
   ]
  },
  {
   "cell_type": "code",
   "execution_count": 81,
   "metadata": {
    "collapsed": false
   },
   "outputs": [
    {
     "name": "stdout",
     "output_type": "stream",
     "text": [
      "./bed_files/c57bl6_il4-24h_peaks.bed\n",
      "/home/jtao/code/tba/model_training/generate_background_coordinates.py ./bed_files/c57bl6_il4-24h_peaks.bed ./background_files -genome mm10\n",
      "./bed_files/c57bl6_kla-1h_peaks.bed\n",
      "/home/jtao/code/tba/model_training/generate_background_coordinates.py ./bed_files/c57bl6_kla-1h_peaks.bed ./background_files -genome mm10\n",
      "./bed_files/c57bl6_veh_peaks.bed\n",
      "/home/jtao/code/tba/model_training/generate_background_coordinates.py ./bed_files/c57bl6_veh_peaks.bed ./background_files -genome mm10\n"
     ]
    },
    {
     "name": "stderr",
     "output_type": "stream",
     "text": [
      "rm: cannot remove ‘./background_files/*’: No such file or directory\n"
     ]
    }
   ],
   "source": [
    "%%bash\n",
    "if [ ! -d ./background_files ]; then mkdir ./background_files; else rm ./background_files/*; fi\n",
    "for bed_path in ./bed_files/*bed;\n",
    "do echo $bed_path;\n",
    "echo /home/jtao/code/tba/model_training/generate_background_coordinates.py $bed_path ./background_files -genome mm10\n",
    "done"
   ]
  },
  {
   "cell_type": "code",
   "execution_count": 88,
   "metadata": {
    "collapsed": false
   },
   "outputs": [],
   "source": [
    "%%bash\n",
    "rm ./make_background.sh\n",
    "script_path=\"./make_background.sh\"\n",
    "if [ ! -d ./background_files/ ]; then mkdir ./background_files/ ; fi\n",
    "for i in ./bed_files/*bed;\n",
    "do \n",
    "    factor=${i##*/};\n",
    "    factor=${factor%.bed};\n",
    "    fasta_path=\"./background_files/${factor}_background.fasta\"\n",
    "    bed_path=\"./background_files/${factor}_background.bed\"\n",
    "\n",
    "    echo \"/home/jtao/code/tba/model_training/generate_background_coordinates.py $i ./background_files/ -genome mm10\" >> $script_path;\n",
    "    echo \"mv ./background_files/background.bed $bed_path\" >> $script_path;\n",
    "    echo \"mv ./background_files/background.fasta $fasta_path\" >> $script_path;\n",
    "done"
   ]
  },
  {
   "cell_type": "code",
   "execution_count": null,
   "metadata": {
    "collapsed": false
   },
   "outputs": [],
   "source": [
    "%%bash\n",
    "rm ./background/*\n",
    "chmod a+x ./*sh\n",
    "bash ./make_background.sh"
   ]
  },
  {
   "cell_type": "markdown",
   "metadata": {},
   "source": [
    "## Read in Data"
   ]
  },
  {
   "cell_type": "code",
   "execution_count": 232,
   "metadata": {
    "collapsed": false
   },
   "outputs": [],
   "source": [
    "positive_seqRecords = list(SeqIO.parse('./fasta_files/c57bl6_il4-24h_peaks.fa', 'fasta'))\n",
    "negative_seqRecords = list(SeqIO.parse('./background_files/c57bl6_il4-24h_peaks_background.fasta', 'fasta'))\n",
    "\n",
    "fasta_seq = [str(x.seq[:200]) for x in positive_seqRecords] + [str(x[:200].seq) for x in negative_seqRecords]\n",
    "\n",
    "fasta_rc_seq = [str(x[:200].reverse_complement().seq) for x in positive_seqRecords] + \\\n",
    "    [str(x[:200].reverse_complement().seq) for x in negative_seqRecords]\n",
    "\n",
    "sequence_arrays = convert_sequences_to_array(fasta_seq)\n",
    "sequence_arrays = np.array(sequence_arrays)\n",
    "\n",
    "sequence_rc_arrays = convert_sequences_to_array(fasta_rc_seq)\n",
    "sequence_rc_arrays = np.array(sequence_rc_arrays)\n",
    "\n",
    "\n",
    "labels = [1 for x in positive_seqRecords] + [0 for x in negative_seqRecords]\n",
    "labels = np.array(labels)\n",
    "\n",
    "\n",
    "x_train, x_test, x_rc_train, x_rc_test, y_train, y_test = model_selection.train_test_split(sequence_arrays, sequence_rc_arrays, labels, test_size=0.2)\n"
   ]
  },
  {
   "cell_type": "code",
   "execution_count": 233,
   "metadata": {
    "collapsed": true
   },
   "outputs": [],
   "source": [
    "num_classes = 2\n",
    "y_train = keras.utils.to_categorical(y_train, num_classes)\n",
    "y_test = keras.utils.to_categorical(y_test, num_classes)"
   ]
  },
  {
   "cell_type": "markdown",
   "metadata": {},
   "source": [
    "## Count Params"
   ]
  },
  {
   "cell_type": "code",
   "execution_count": 234,
   "metadata": {
    "collapsed": true
   },
   "outputs": [],
   "source": [
    "def count_num_params(seq_size,\n",
    "                     num_motifs, \n",
    "                     motif_size,\n",
    "                     adjacent_bp_pool_size,\n",
    "                     attention_dim,\n",
    "                     attention_hops,\n",
    "                     num_dense_neurons\n",
    "                    ):\n",
    "    total_params = 0\n",
    "    \n",
    "    # convolution layer\n",
    "    convolution_params = num_motifs * motif_size * 4\n",
    "    total_params += convolution_params\n",
    "    print('Convolution Params:', convolution_params)\n",
    "    \n",
    "    # lstm layer\n",
    "    # account for pooling\n",
    "    lstm_input_size = num_motifs\n",
    "    # account for reverse complement sequence\n",
    "    lstm_input_size = lstm_input_size * 2\n",
    "    \n",
    "    num_lstm_neurons = seq_size/ adjacent_bp_pool_size\n",
    "    \n",
    "    lstm_params = lstm_input_size * 4 * num_lstm_neurons\n",
    "    # account for bidrectional lstm\n",
    "    lstm_params = lstm_params * 2\n",
    "    \n",
    "    total_params += lstm_params\n",
    "    print('LSTM Params:', lstm_params)\n",
    "    \n",
    "    # attention layer\n",
    "    # first layer of perceptron\n",
    "    attention_params = attention_dim * (seq_size/adjacent_bp_pool_size*2) \n",
    "    # account for hops of attention (second layer of perceptron)\n",
    "    attention_params += attention_dim * attention_hops\n",
    "    \n",
    "    total_params += attention_params\n",
    "    print('Attention Params:', attention_params)\n",
    "    \n",
    "    # dense layer\n",
    "    dense_params = lstm_input_size * num_dense_neurons\n",
    "    total_params += dense_params\n",
    "    print('Dense Params:', dense_params)\n",
    "    \n",
    "    return total_params"
   ]
  },
  {
   "cell_type": "code",
   "execution_count": 101,
   "metadata": {
    "collapsed": false
   },
   "outputs": [
    {
     "name": "stdout",
     "output_type": "stream",
     "text": [
      "Convolution Params: 1600\n",
      "LSTM Params: 48000.0\n",
      "Attention Params: 15050.0\n",
      "Dense Params: 4000\n"
     ]
    },
    {
     "data": {
      "text/plain": [
       "68650.0"
      ]
     },
     "execution_count": 101,
     "metadata": {},
     "output_type": "execute_result"
    }
   ],
   "source": [
    "seq_size = 150\n",
    "num_classes = 2\n",
    "num_motifs = 20\n",
    "motif_size = 20\n",
    "adjacent_bp_pool_size = 1\n",
    "attention_dim = 50 # 350 from A Structured Self-attentive Sentence Embedding\n",
    "attention_hops = 1 # from A Structured Self-attentive Sentence Embedding\n",
    "num_dense_neurons = 100 # 2-layer, 2000 units, from A Structured Self-attentive Sentence Embedding\n",
    "\n",
    "count_num_params(seq_size,\n",
    "    num_motifs, \n",
    "    motif_size,\n",
    "    adjacent_bp_pool_size,\n",
    "    attention_dim,\n",
    "    attention_hops,\n",
    "    num_dense_neurons\n",
    "    )"
   ]
  },
  {
   "cell_type": "markdown",
   "metadata": {},
   "source": [
    "## Define Model"
   ]
  },
  {
   "cell_type": "code",
   "execution_count": 265,
   "metadata": {
    "collapsed": true
   },
   "outputs": [],
   "source": [
    "seq_size = 150\n",
    "num_classes = 2\n",
    "num_motifs = 20\n",
    "motif_size = 20\n",
    "adjacent_bp_pool_size = 1\n",
    "attention_dim = 50 \n",
    "attention_hops = 1 \n",
    "num_dense_neurons = 100 "
   ]
  },
  {
   "cell_type": "markdown",
   "metadata": {},
   "source": [
    "### Top Motif Scores"
   ]
  },
  {
   "cell_type": "code",
   "execution_count": 289,
   "metadata": {
    "collapsed": false
   },
   "outputs": [
    {
     "name": "stdout",
     "output_type": "stream",
     "text": [
      "forward_motif_scores (?, 200, 20)\n",
      "cropped_fwd_scores (?, 150, 20)\n",
      "max_fwd_scores (?, 1, 20)\n",
      "max_seq_scores (?, 1, 20)\n"
     ]
    }
   ],
   "source": [
    "total_seq_length = len(fasta_seq[0])\n",
    "\n",
    "input_fwd = Input(shape=(total_seq_length,4), name='input_fwd')\n",
    "input_rev = Input(shape=(total_seq_length,4), name='input_rev')\n",
    "\n",
    "# find motifs\n",
    "convolution_layer = Conv1D(filters=num_motifs, \n",
    "    kernel_size=motif_size,\n",
    "    activation='relu',\n",
    "    input_shape=(total_seq_length,4),\n",
    "    name='convolution_layer',\n",
    "    padding = 'same'\n",
    "    )\n",
    "forward_motif_scores = convolution_layer(input_fwd)\n",
    "reverse_motif_scores = convolution_layer(input_rev)\n",
    "print('forward_motif_scores', forward_motif_scores.shape)\n",
    "\n",
    "# crop motif scores to avoid parts of sequence where motif score is computed in only one direction\n",
    "to_crop = int((total_seq_length - seq_size)/2)\n",
    "crop_layer = Cropping1D(cropping=(to_crop, to_crop), \n",
    "    name='crop_layer')\n",
    "cropped_fwd_scores = crop_layer(forward_motif_scores)\n",
    "cropped_rev_scores = crop_layer(reverse_motif_scores)\n",
    "print('cropped_fwd_scores', cropped_fwd_scores.shape)\n",
    "\n",
    "# # flip motif scores\n",
    "# flip_layer = Lambda(lambda x: K.reverse(x,axes=0),\n",
    "#     output_shape=(seq_size, num_motifs),\n",
    "#     name='flip_layer')\n",
    "# flipped_rev_scores = flip_layer(cropped_rev_scores)\n",
    "# print('flipped_rev_scores', flipped_rev_scores.shape)\n",
    "\n",
    "# calculate max scores for each orientation\n",
    "seq_pool_layer = MaxPool1D(pool_size=seq_size)\n",
    "max_fwd_scores = seq_pool_layer(cropped_fwd_scores)\n",
    "max_rev_scores = seq_pool_layer(cropped_rev_scores)\n",
    "print('max_fwd_scores', max_fwd_scores.shape)\n",
    "\n",
    "# calculate max score for strand\n",
    "orientation_max_layer = Maximum()\n",
    "max_seq_scores = orientation_max_layer([max_fwd_scores, max_rev_scores])\n",
    "print('max_seq_scores', max_seq_scores.shape)\n",
    "\n",
    "# fully connected layer\n",
    "dense_out = Dense(num_dense_neurons, activation='relu', \n",
    "                 )(max_seq_scores)\n",
    "\n",
    "# drop out\n",
    "drop_out = Dropout(0.25)(dense_out)\n",
    "\n",
    "# make prediction\n",
    "flattened = Flatten()(drop_out)\n",
    "predictions = Dense(num_classes,\n",
    "                    activation = 'softmax', \n",
    "                   )(flattened)"
   ]
  },
  {
   "cell_type": "code",
   "execution_count": 340,
   "metadata": {
    "collapsed": false
   },
   "outputs": [
    {
     "data": {
      "image/svg+xml": [
       "<svg height=\"638pt\" viewBox=\"0.00 0.00 302.00 638.00\" width=\"302pt\" xmlns=\"http://www.w3.org/2000/svg\" xmlns:xlink=\"http://www.w3.org/1999/xlink\">\n",
       "<g class=\"graph\" id=\"graph0\" transform=\"scale(1 1) rotate(0) translate(4 634)\">\n",
       "<title>G</title>\n",
       "<polygon fill=\"white\" points=\"-4,5 -4,-634 299,-634 299,5 -4,5\" stroke=\"white\"/>\n",
       "<!-- 139827700844696 -->\n",
       "<g class=\"node\" id=\"node1\"><title>139827700844696</title>\n",
       "<polygon fill=\"none\" points=\"0,-593 0,-629 140,-629 140,-593 0,-593\" stroke=\"black\"/>\n",
       "<text font-family=\"Times,serif\" font-size=\"14.00\" text-anchor=\"middle\" x=\"70\" y=\"-607.3\">input_fwd: InputLayer</text>\n",
       "</g>\n",
       "<!-- 139828203076576 -->\n",
       "<g class=\"node\" id=\"node3\"><title>139828203076576</title>\n",
       "<polygon fill=\"none\" points=\"64,-519 64,-555 232,-555 232,-519 64,-519\" stroke=\"black\"/>\n",
       "<text font-family=\"Times,serif\" font-size=\"14.00\" text-anchor=\"middle\" x=\"148\" y=\"-533.3\">convolution_layer: Conv1D</text>\n",
       "</g>\n",
       "<!-- 139827700844696&#45;&gt;139828203076576 -->\n",
       "<g class=\"edge\" id=\"edge1\"><title>139827700844696-&gt;139828203076576</title>\n",
       "<path d=\"M88.4849,-592.937C98.4178,-583.768 110.833,-572.308 121.75,-562.231\" fill=\"none\" stroke=\"black\"/>\n",
       "<polygon fill=\"black\" points=\"124.403,-564.545 129.377,-555.19 119.655,-559.401 124.403,-564.545\" stroke=\"black\"/>\n",
       "</g>\n",
       "<!-- 139828203076464 -->\n",
       "<g class=\"node\" id=\"node2\"><title>139828203076464</title>\n",
       "<polygon fill=\"none\" points=\"158,-593 158,-629 294,-629 294,-593 158,-593\" stroke=\"black\"/>\n",
       "<text font-family=\"Times,serif\" font-size=\"14.00\" text-anchor=\"middle\" x=\"226\" y=\"-607.3\">input_rev: InputLayer</text>\n",
       "</g>\n",
       "<!-- 139828203076464&#45;&gt;139828203076576 -->\n",
       "<g class=\"edge\" id=\"edge2\"><title>139828203076464-&gt;139828203076576</title>\n",
       "<path d=\"M207.515,-592.937C197.582,-583.768 185.167,-572.308 174.25,-562.231\" fill=\"none\" stroke=\"black\"/>\n",
       "<polygon fill=\"black\" points=\"176.345,-559.401 166.623,-555.19 171.597,-564.545 176.345,-559.401\" stroke=\"black\"/>\n",
       "</g>\n",
       "<!-- 139827700087944 -->\n",
       "<g class=\"node\" id=\"node4\"><title>139827700087944</title>\n",
       "<polygon fill=\"none\" points=\"73.5,-445 73.5,-481 222.5,-481 222.5,-445 73.5,-445\" stroke=\"black\"/>\n",
       "<text font-family=\"Times,serif\" font-size=\"14.00\" text-anchor=\"middle\" x=\"148\" y=\"-459.3\">crop_layer: Cropping1D</text>\n",
       "</g>\n",
       "<!-- 139828203076576&#45;&gt;139827700087944 -->\n",
       "<g class=\"edge\" id=\"edge3\"><title>139828203076576-&gt;139827700087944</title>\n",
       "<path d=\"M148,-518.937C148,-510.807 148,-500.876 148,-491.705\" fill=\"none\" stroke=\"black\"/>\n",
       "<polygon fill=\"black\" points=\"151.5,-491.441 148,-481.441 144.5,-491.441 151.5,-491.441\" stroke=\"black\"/>\n",
       "</g>\n",
       "<!-- 139828203074840 -->\n",
       "<g class=\"node\" id=\"node5\"><title>139828203074840</title>\n",
       "<polygon fill=\"none\" points=\"41,-371 41,-407 255,-407 255,-371 41,-371\" stroke=\"black\"/>\n",
       "<text font-family=\"Times,serif\" font-size=\"14.00\" text-anchor=\"middle\" x=\"148\" y=\"-385.3\">max_pooling1d_13: MaxPooling1D</text>\n",
       "</g>\n",
       "<!-- 139827700087944&#45;&gt;139828203074840 -->\n",
       "<g class=\"edge\" id=\"edge5\"><title>139827700087944-&gt;139828203074840</title>\n",
       "<path d=\"M148,-444.937C148,-436.807 148,-426.876 148,-417.705\" fill=\"none\" stroke=\"black\"/>\n",
       "<polygon fill=\"black\" points=\"151.5,-417.441 148,-407.441 144.5,-417.441 151.5,-417.441\" stroke=\"black\"/>\n",
       "</g>\n",
       "<!-- 139827683797928 -->\n",
       "<g class=\"node\" id=\"node6\"><title>139827683797928</title>\n",
       "<polygon fill=\"none\" points=\"71.5,-297 71.5,-333 224.5,-333 224.5,-297 71.5,-297\" stroke=\"black\"/>\n",
       "<text font-family=\"Times,serif\" font-size=\"14.00\" text-anchor=\"middle\" x=\"148\" y=\"-311.3\">maximum_9: Maximum</text>\n",
       "</g>\n",
       "<!-- 139828203074840&#45;&gt;139827683797928 -->\n",
       "<g class=\"edge\" id=\"edge7\"><title>139828203074840-&gt;139827683797928</title>\n",
       "<path d=\"M148,-370.937C148,-362.807 148,-352.876 148,-343.705\" fill=\"none\" stroke=\"black\"/>\n",
       "<polygon fill=\"black\" points=\"151.5,-343.441 148,-333.441 144.5,-343.441 151.5,-343.441\" stroke=\"black\"/>\n",
       "</g>\n",
       "<!-- 139827696567128 -->\n",
       "<g class=\"node\" id=\"node7\"><title>139827696567128</title>\n",
       "<polygon fill=\"none\" points=\"93.5,-223 93.5,-259 202.5,-259 202.5,-223 93.5,-223\" stroke=\"black\"/>\n",
       "<text font-family=\"Times,serif\" font-size=\"14.00\" text-anchor=\"middle\" x=\"148\" y=\"-237.3\">dense_22: Dense</text>\n",
       "</g>\n",
       "<!-- 139827683797928&#45;&gt;139827696567128 -->\n",
       "<g class=\"edge\" id=\"edge9\"><title>139827683797928-&gt;139827696567128</title>\n",
       "<path d=\"M148,-296.937C148,-288.807 148,-278.876 148,-269.705\" fill=\"none\" stroke=\"black\"/>\n",
       "<polygon fill=\"black\" points=\"151.5,-269.441 148,-259.441 144.5,-269.441 151.5,-269.441\" stroke=\"black\"/>\n",
       "</g>\n",
       "<!-- 139827683795184 -->\n",
       "<g class=\"node\" id=\"node8\"><title>139827683795184</title>\n",
       "<polygon fill=\"none\" points=\"82.5,-149 82.5,-185 213.5,-185 213.5,-149 82.5,-149\" stroke=\"black\"/>\n",
       "<text font-family=\"Times,serif\" font-size=\"14.00\" text-anchor=\"middle\" x=\"148\" y=\"-163.3\">dropout_11: Dropout</text>\n",
       "</g>\n",
       "<!-- 139827696567128&#45;&gt;139827683795184 -->\n",
       "<g class=\"edge\" id=\"edge10\"><title>139827696567128-&gt;139827683795184</title>\n",
       "<path d=\"M148,-222.937C148,-214.807 148,-204.876 148,-195.705\" fill=\"none\" stroke=\"black\"/>\n",
       "<polygon fill=\"black\" points=\"151.5,-195.441 148,-185.441 144.5,-195.441 151.5,-195.441\" stroke=\"black\"/>\n",
       "</g>\n",
       "<!-- 139827683944712 -->\n",
       "<g class=\"node\" id=\"node9\"><title>139827683944712</title>\n",
       "<polygon fill=\"none\" points=\"90,-75 90,-111 206,-111 206,-75 90,-75\" stroke=\"black\"/>\n",
       "<text font-family=\"Times,serif\" font-size=\"14.00\" text-anchor=\"middle\" x=\"148\" y=\"-89.3\">flatten_12: Flatten</text>\n",
       "</g>\n",
       "<!-- 139827683795184&#45;&gt;139827683944712 -->\n",
       "<g class=\"edge\" id=\"edge11\"><title>139827683795184-&gt;139827683944712</title>\n",
       "<path d=\"M148,-148.937C148,-140.807 148,-130.876 148,-121.705\" fill=\"none\" stroke=\"black\"/>\n",
       "<polygon fill=\"black\" points=\"151.5,-121.441 148,-111.441 144.5,-121.441 151.5,-121.441\" stroke=\"black\"/>\n",
       "</g>\n",
       "<!-- 139827684006376 -->\n",
       "<g class=\"node\" id=\"node10\"><title>139827684006376</title>\n",
       "<polygon fill=\"none\" points=\"93.5,-1 93.5,-37 202.5,-37 202.5,-1 93.5,-1\" stroke=\"black\"/>\n",
       "<text font-family=\"Times,serif\" font-size=\"14.00\" text-anchor=\"middle\" x=\"148\" y=\"-15.3\">dense_23: Dense</text>\n",
       "</g>\n",
       "<!-- 139827683944712&#45;&gt;139827684006376 -->\n",
       "<g class=\"edge\" id=\"edge12\"><title>139827683944712-&gt;139827684006376</title>\n",
       "<path d=\"M148,-74.937C148,-66.8072 148,-56.8761 148,-47.7047\" fill=\"none\" stroke=\"black\"/>\n",
       "<polygon fill=\"black\" points=\"151.5,-47.4406 148,-37.4407 144.5,-47.4407 151.5,-47.4406\" stroke=\"black\"/>\n",
       "</g>\n",
       "</g>\n",
       "</svg>"
      ],
      "text/plain": [
       "<IPython.core.display.SVG object>"
      ]
     },
     "execution_count": 340,
     "metadata": {},
     "output_type": "execute_result"
    }
   ],
   "source": [
    "SVG(model_to_dot(convolution_model).create(prog='dot', format='svg'))"
   ]
  },
  {
   "cell_type": "code",
   "execution_count": 290,
   "metadata": {
    "collapsed": false
   },
   "outputs": [],
   "source": [
    "# define and compile model\n",
    "convolution_model = Model(inputs=[input_fwd, input_rev], outputs=predictions)\n",
    "\n",
    "convolution_model.compile(loss=keras.losses.categorical_crossentropy,\n",
    "              optimizer=keras.optimizers.Adam(),\n",
    "              metrics=['accuracy'])"
   ]
  },
  {
   "cell_type": "code",
   "execution_count": 294,
   "metadata": {
    "collapsed": false
   },
   "outputs": [
    {
     "name": "stdout",
     "output_type": "stream",
     "text": [
      "Train on 59352 samples, validate on 14838 samples\n",
      "Epoch 1/10\n",
      "59352/59352 [==============================] - 9s - loss: 0.3606 - acc: 0.8407 - val_loss: 0.3785 - val_acc: 0.8298\n",
      "Epoch 2/10\n",
      "59352/59352 [==============================] - 8s - loss: 0.3602 - acc: 0.8417 - val_loss: 0.3746 - val_acc: 0.8340\n",
      "Epoch 3/10\n",
      "59352/59352 [==============================] - 8s - loss: 0.3595 - acc: 0.8424 - val_loss: 0.3762 - val_acc: 0.8322\n",
      "Epoch 4/10\n",
      "59352/59352 [==============================] - 9s - loss: 0.3591 - acc: 0.8425 - val_loss: 0.3757 - val_acc: 0.8316\n",
      "Epoch 5/10\n",
      "59352/59352 [==============================] - 9s - loss: 0.3565 - acc: 0.8433 - val_loss: 0.3830 - val_acc: 0.8296\n",
      "Epoch 6/10\n",
      "59352/59352 [==============================] - 9s - loss: 0.3559 - acc: 0.8437 - val_loss: 0.3820 - val_acc: 0.8290\n",
      "Epoch 7/10\n",
      "59352/59352 [==============================] - 9s - loss: 0.3562 - acc: 0.8440 - val_loss: 0.3806 - val_acc: 0.8296\n",
      "Epoch 8/10\n",
      "59352/59352 [==============================] - 9s - loss: 0.3555 - acc: 0.8443 - val_loss: 0.3764 - val_acc: 0.8325\n",
      "Epoch 9/10\n",
      "59352/59352 [==============================] - 9s - loss: 0.3543 - acc: 0.8443 - val_loss: 0.3793 - val_acc: 0.8331\n",
      "Epoch 10/10\n",
      "59352/59352 [==============================] - 9s - loss: 0.3536 - acc: 0.8456 - val_loss: 0.3757 - val_acc: 0.8332\n",
      "Test loss: 0.37574581252964606\n",
      "Test accuracy: 0.8331985443103408\n"
     ]
    }
   ],
   "source": [
    "convolution_model.fit([x_train, x_rc_train], y_train,\n",
    "          batch_size=100,\n",
    "          epochs=10,\n",
    "          verbose=1,\n",
    "          validation_data=([x_test, x_rc_test], y_test))\n",
    "score = convolution_model.evaluate([x_test, x_rc_test], y_test, verbose=0)\n",
    "print('Test loss:', score[0])\n",
    "print('Test accuracy:', score[1])"
   ]
  },
  {
   "cell_type": "code",
   "execution_count": 298,
   "metadata": {
    "collapsed": false
   },
   "outputs": [
    {
     "data": {
      "text/plain": [
       "0.9128515573099559"
      ]
     },
     "execution_count": 298,
     "metadata": {},
     "output_type": "execute_result"
    }
   ],
   "source": [
    "probs = convolution_model.predict([x_test, x_rc_test])\n",
    "\n",
    "sklearn.metrics.roc_auc_score([y[1] for y in y_test], probs[:,1], )"
   ]
  },
  {
   "cell_type": "markdown",
   "metadata": {},
   "source": [
    "### LSTM Model"
   ]
  },
  {
   "cell_type": "code",
   "execution_count": 319,
   "metadata": {
    "collapsed": true
   },
   "outputs": [],
   "source": [
    "seq_size = 150\n",
    "num_classes = 2\n",
    "num_motifs = 20\n",
    "motif_size = 20\n",
    "adjacent_bp_pool_size = 5\n",
    "attention_dim = 50 \n",
    "attention_hops = 1 \n",
    "num_dense_neurons = 100 "
   ]
  },
  {
   "cell_type": "code",
   "execution_count": 337,
   "metadata": {
    "collapsed": false
   },
   "outputs": [
    {
     "name": "stdout",
     "output_type": "stream",
     "text": [
      "forward_motif_scores (?, 200, 20)\n",
      "cropped_fwd_scores (?, 150, 20)\n",
      "flipped_rev_scores (?, 150, 20)\n",
      "concatenated_motif_scores (?, 150, 40)\n",
      "pooled_scores (?, 30, 40)\n",
      "forward_hidden_states (?, ?, 30)\n",
      "reverse_hidden_states (?, ?, 30)\n",
      "bilstm_hidden_states (?, ?, 60)\n"
     ]
    }
   ],
   "source": [
    "total_seq_length = len(fasta_seq[0])\n",
    "\n",
    "input_fwd = Input(shape=(total_seq_length,4), name='input_fwd')\n",
    "input_rev = Input(shape=(total_seq_length,4), name='input_rev')\n",
    "\n",
    "# find motifs\n",
    "convolution_layer = Conv1D(filters=num_motifs, \n",
    "    kernel_size=motif_size,\n",
    "    activation='relu',\n",
    "    input_shape=(total_seq_length,4),\n",
    "    name='convolution_layer',\n",
    "    padding = 'same'\n",
    "    )\n",
    "forward_motif_scores = convolution_layer(input_fwd)\n",
    "reverse_motif_scores = convolution_layer(input_rev)\n",
    "print('forward_motif_scores', forward_motif_scores.shape)\n",
    "\n",
    "# crop motif scores to avoid parts of sequence where motif score is computed in only one direction\n",
    "to_crop = int((total_seq_length - seq_size)/2)\n",
    "crop_layer = Cropping1D(cropping=(to_crop, to_crop), \n",
    "    name='crop_layer')\n",
    "cropped_fwd_scores = crop_layer(forward_motif_scores)\n",
    "cropped_rev_scores = crop_layer(reverse_motif_scores)\n",
    "print('cropped_fwd_scores', cropped_fwd_scores.shape)\n",
    "\n",
    "# flip motif scores\n",
    "flip_layer = Lambda(lambda x: K.reverse(x,axes=0),\n",
    "    output_shape=(seq_size, num_motifs),\n",
    "    name='flip_layer')\n",
    "flipped_rev_scores = flip_layer(cropped_rev_scores)\n",
    "print('flipped_rev_scores', flipped_rev_scores.shape)\n",
    "\n",
    "# concatenate motif scores\n",
    "concatenate_layer = keras.layers.Concatenate(axis=2, name='concatenate_layer')\n",
    "concatenated_motif_scores = concatenate_layer([cropped_fwd_scores, flipped_rev_scores])\n",
    "print('concatenated_motif_scores', concatenated_motif_scores.shape)\n",
    "\n",
    "# pool across length of sequence\n",
    "sequence_pooling_layer = MaxPool1D(pool_size=adjacent_bp_pool_size, \n",
    "    strides=adjacent_bp_pool_size,\n",
    "    name='sequence_pooling_layer')\n",
    "pooled_scores = sequence_pooling_layer(concatenated_motif_scores)\n",
    "print('pooled_scores', pooled_scores.shape)\n",
    "\n",
    "# bidirectional LSTM\n",
    "forward_lstm_layer = LSTM(units=int(seq_size/adjacent_bp_pool_size),\n",
    "    return_sequences=True,\n",
    "    name = 'forward_lstm_layer'\n",
    "    )\n",
    "forward_hidden_states = forward_lstm_layer(pooled_scores)\n",
    "print('forward_hidden_states', forward_hidden_states.shape)\n",
    "\n",
    "reverse_lstm_layer = LSTM(units=int(seq_size/adjacent_bp_pool_size),\n",
    "    return_sequences=True,\n",
    "    name = 'reverse_lstm_layer',\n",
    "    go_backwards=True\n",
    "    )\n",
    "reverse_hidden_states = reverse_lstm_layer(pooled_scores)\n",
    "print('reverse_hidden_states', reverse_hidden_states.shape)\n",
    "\n",
    "# concatenate lstm hidden states\n",
    "lstm_concatenate_layer = Concatenate(axis=2)\n",
    "bilstm_hidden_states = lstm_concatenate_layer([forward_hidden_states, reverse_hidden_states])\n",
    "print('bilstm_hidden_states', bilstm_hidden_states.shape)\n",
    "\n",
    "# fully connected layer\n",
    "dense_layer = Dense(num_dense_neurons, \n",
    "    activation='relu', \n",
    "    name = 'dense_layer'\n",
    "    )\n",
    "\n",
    "dense_output = dense_layer(bilstm_hidden_states)\n",
    "\n",
    "# drop out\n",
    "drop_out = Dropout(0.25,name='dense_dropout')(dense_output)\n",
    "\n",
    "# make prediction\n",
    "flattened = Flatten(name='flatten')(drop_out)\n",
    "predictions = Dense(num_classes,\n",
    "                    name='predictions',\n",
    "                    activation = 'softmax', \n",
    "                   )(flattened)"
   ]
  },
  {
   "cell_type": "code",
   "execution_count": 338,
   "metadata": {
    "collapsed": false
   },
   "outputs": [
    {
     "data": {
      "image/svg+xml": [
       "<svg height=\"860pt\" viewBox=\"0.00 0.00 358.00 860.00\" width=\"358pt\" xmlns=\"http://www.w3.org/2000/svg\" xmlns:xlink=\"http://www.w3.org/1999/xlink\">\n",
       "<g class=\"graph\" id=\"graph0\" transform=\"scale(1 1) rotate(0) translate(4 856)\">\n",
       "<title>G</title>\n",
       "<polygon fill=\"white\" points=\"-4,5 -4,-856 355,-856 355,5 -4,5\" stroke=\"white\"/>\n",
       "<!-- 139821913879160 -->\n",
       "<g class=\"node\" id=\"node1\"><title>139821913879160</title>\n",
       "<polygon fill=\"none\" points=\"30,-815 30,-851 166,-851 166,-815 30,-815\" stroke=\"black\"/>\n",
       "<text font-family=\"Times,serif\" font-size=\"14.00\" text-anchor=\"middle\" x=\"98\" y=\"-829.3\">input_rev: InputLayer</text>\n",
       "</g>\n",
       "<!-- 139821913879104 -->\n",
       "<g class=\"node\" id=\"node2\"><title>139821913879104</title>\n",
       "<polygon fill=\"none\" points=\"92,-741 92,-777 260,-777 260,-741 92,-741\" stroke=\"black\"/>\n",
       "<text font-family=\"Times,serif\" font-size=\"14.00\" text-anchor=\"middle\" x=\"176\" y=\"-755.3\">convolution_layer: Conv1D</text>\n",
       "</g>\n",
       "<!-- 139821913879160&#45;&gt;139821913879104 -->\n",
       "<g class=\"edge\" id=\"edge2\"><title>139821913879160-&gt;139821913879104</title>\n",
       "<path d=\"M116.485,-814.937C126.418,-805.768 138.833,-794.308 149.75,-784.231\" fill=\"none\" stroke=\"black\"/>\n",
       "<polygon fill=\"black\" points=\"152.403,-786.545 157.377,-777.19 147.655,-781.401 152.403,-786.545\" stroke=\"black\"/>\n",
       "</g>\n",
       "<!-- 139821913879664 -->\n",
       "<g class=\"node\" id=\"node4\"><title>139821913879664</title>\n",
       "<polygon fill=\"none\" points=\"101.5,-667 101.5,-703 250.5,-703 250.5,-667 101.5,-667\" stroke=\"black\"/>\n",
       "<text font-family=\"Times,serif\" font-size=\"14.00\" text-anchor=\"middle\" x=\"176\" y=\"-681.3\">crop_layer: Cropping1D</text>\n",
       "</g>\n",
       "<!-- 139821913879104&#45;&gt;139821913879664 -->\n",
       "<g class=\"edge\" id=\"edge3\"><title>139821913879104-&gt;139821913879664</title>\n",
       "<path d=\"M176,-740.937C176,-732.807 176,-722.876 176,-713.705\" fill=\"none\" stroke=\"black\"/>\n",
       "<polygon fill=\"black\" points=\"179.5,-713.441 176,-703.441 172.5,-713.441 179.5,-713.441\" stroke=\"black\"/>\n",
       "</g>\n",
       "<!-- 139821913879216 -->\n",
       "<g class=\"node\" id=\"node3\"><title>139821913879216</title>\n",
       "<polygon fill=\"none\" points=\"184,-815 184,-851 324,-851 324,-815 184,-815\" stroke=\"black\"/>\n",
       "<text font-family=\"Times,serif\" font-size=\"14.00\" text-anchor=\"middle\" x=\"254\" y=\"-829.3\">input_fwd: InputLayer</text>\n",
       "</g>\n",
       "<!-- 139821913879216&#45;&gt;139821913879104 -->\n",
       "<g class=\"edge\" id=\"edge1\"><title>139821913879216-&gt;139821913879104</title>\n",
       "<path d=\"M235.515,-814.937C225.582,-805.768 213.167,-794.308 202.25,-784.231\" fill=\"none\" stroke=\"black\"/>\n",
       "<polygon fill=\"black\" points=\"204.345,-781.401 194.623,-777.19 199.597,-786.545 204.345,-781.401\" stroke=\"black\"/>\n",
       "</g>\n",
       "<!-- 139821913874104 -->\n",
       "<g class=\"node\" id=\"node5\"><title>139821913874104</title>\n",
       "<polygon fill=\"none\" points=\"71,-593 71,-629 193,-629 193,-593 71,-593\" stroke=\"black\"/>\n",
       "<text font-family=\"Times,serif\" font-size=\"14.00\" text-anchor=\"middle\" x=\"132\" y=\"-607.3\">flip_layer: Lambda</text>\n",
       "</g>\n",
       "<!-- 139821913879664&#45;&gt;139821913874104 -->\n",
       "<g class=\"edge\" id=\"edge5\"><title>139821913879664-&gt;139821913874104</title>\n",
       "<path d=\"M165.573,-666.937C160.334,-658.365 153.873,-647.791 148.021,-638.217\" fill=\"none\" stroke=\"black\"/>\n",
       "<polygon fill=\"black\" points=\"150.859,-636.148 142.658,-629.441 144.886,-639.799 150.859,-636.148\" stroke=\"black\"/>\n",
       "</g>\n",
       "<!-- 139821913987952 -->\n",
       "<g class=\"node\" id=\"node6\"><title>139821913987952</title>\n",
       "<polygon fill=\"none\" points=\"82,-519 82,-555 270,-555 270,-519 82,-519\" stroke=\"black\"/>\n",
       "<text font-family=\"Times,serif\" font-size=\"14.00\" text-anchor=\"middle\" x=\"176\" y=\"-533.3\">concatenate_layer: Concatenate</text>\n",
       "</g>\n",
       "<!-- 139821913879664&#45;&gt;139821913987952 -->\n",
       "<g class=\"edge\" id=\"edge6\"><title>139821913879664-&gt;139821913987952</title>\n",
       "<path d=\"M186.778,-666.739C192.537,-656.485 199.037,-642.985 202,-630 205.758,-613.534 205.758,-608.466 202,-592 199.847,-582.566 195.827,-572.86 191.581,-564.324\" fill=\"none\" stroke=\"black\"/>\n",
       "<polygon fill=\"black\" points=\"194.553,-562.458 186.778,-555.261 188.368,-565.736 194.553,-562.458\" stroke=\"black\"/>\n",
       "</g>\n",
       "<!-- 139821913874104&#45;&gt;139821913987952 -->\n",
       "<g class=\"edge\" id=\"edge7\"><title>139821913874104-&gt;139821913987952</title>\n",
       "<path d=\"M142.427,-592.937C147.666,-584.365 154.127,-573.791 159.979,-564.217\" fill=\"none\" stroke=\"black\"/>\n",
       "<polygon fill=\"black\" points=\"163.114,-565.799 165.342,-555.441 157.141,-562.148 163.114,-565.799\" stroke=\"black\"/>\n",
       "</g>\n",
       "<!-- 139821913988456 -->\n",
       "<g class=\"node\" id=\"node7\"><title>139821913988456</title>\n",
       "<polygon fill=\"none\" points=\"56.5,-445 56.5,-481 295.5,-481 295.5,-445 56.5,-445\" stroke=\"black\"/>\n",
       "<text font-family=\"Times,serif\" font-size=\"14.00\" text-anchor=\"middle\" x=\"176\" y=\"-459.3\">sequence_pooling_layer: MaxPooling1D</text>\n",
       "</g>\n",
       "<!-- 139821913987952&#45;&gt;139821913988456 -->\n",
       "<g class=\"edge\" id=\"edge8\"><title>139821913987952-&gt;139821913988456</title>\n",
       "<path d=\"M176,-518.937C176,-510.807 176,-500.876 176,-491.705\" fill=\"none\" stroke=\"black\"/>\n",
       "<polygon fill=\"black\" points=\"179.5,-491.441 176,-481.441 172.5,-491.441 179.5,-491.441\" stroke=\"black\"/>\n",
       "</g>\n",
       "<!-- 139821913872872 -->\n",
       "<g class=\"node\" id=\"node8\"><title>139821913872872</title>\n",
       "<polygon fill=\"none\" points=\"0,-371 0,-407 168,-407 168,-371 0,-371\" stroke=\"black\"/>\n",
       "<text font-family=\"Times,serif\" font-size=\"14.00\" text-anchor=\"middle\" x=\"84\" y=\"-385.3\">forward_lstm_layer: LSTM</text>\n",
       "</g>\n",
       "<!-- 139821913988456&#45;&gt;139821913872872 -->\n",
       "<g class=\"edge\" id=\"edge9\"><title>139821913988456-&gt;139821913872872</title>\n",
       "<path d=\"M154.197,-444.937C142.14,-435.501 126.983,-423.639 113.841,-413.354\" fill=\"none\" stroke=\"black\"/>\n",
       "<polygon fill=\"black\" points=\"115.997,-410.597 105.965,-407.19 111.683,-416.109 115.997,-410.597\" stroke=\"black\"/>\n",
       "</g>\n",
       "<!-- 139821911439456 -->\n",
       "<g class=\"node\" id=\"node9\"><title>139821911439456</title>\n",
       "<polygon fill=\"none\" points=\"186,-371 186,-407 350,-407 350,-371 186,-371\" stroke=\"black\"/>\n",
       "<text font-family=\"Times,serif\" font-size=\"14.00\" text-anchor=\"middle\" x=\"268\" y=\"-385.3\">reverse_lstm_layer: LSTM</text>\n",
       "</g>\n",
       "<!-- 139821913988456&#45;&gt;139821911439456 -->\n",
       "<g class=\"edge\" id=\"edge10\"><title>139821913988456-&gt;139821911439456</title>\n",
       "<path d=\"M197.803,-444.937C209.86,-435.501 225.017,-423.639 238.159,-413.354\" fill=\"none\" stroke=\"black\"/>\n",
       "<polygon fill=\"black\" points=\"240.317,-416.109 246.035,-407.19 236.003,-410.597 240.317,-416.109\" stroke=\"black\"/>\n",
       "</g>\n",
       "<!-- 139821911525080 -->\n",
       "<g class=\"node\" id=\"node10\"><title>139821911525080</title>\n",
       "<polygon fill=\"none\" points=\"88.5,-297 88.5,-333 263.5,-333 263.5,-297 88.5,-297\" stroke=\"black\"/>\n",
       "<text font-family=\"Times,serif\" font-size=\"14.00\" text-anchor=\"middle\" x=\"176\" y=\"-311.3\">concatenate_12: Concatenate</text>\n",
       "</g>\n",
       "<!-- 139821913872872&#45;&gt;139821911525080 -->\n",
       "<g class=\"edge\" id=\"edge11\"><title>139821913872872-&gt;139821911525080</title>\n",
       "<path d=\"M105.803,-370.937C117.86,-361.501 133.017,-349.639 146.159,-339.354\" fill=\"none\" stroke=\"black\"/>\n",
       "<polygon fill=\"black\" points=\"148.317,-342.109 154.035,-333.19 144.003,-336.597 148.317,-342.109\" stroke=\"black\"/>\n",
       "</g>\n",
       "<!-- 139821911439456&#45;&gt;139821911525080 -->\n",
       "<g class=\"edge\" id=\"edge12\"><title>139821911439456-&gt;139821911525080</title>\n",
       "<path d=\"M246.197,-370.937C234.14,-361.501 218.983,-349.639 205.841,-339.354\" fill=\"none\" stroke=\"black\"/>\n",
       "<polygon fill=\"black\" points=\"207.997,-336.597 197.965,-333.19 203.683,-342.109 207.997,-336.597\" stroke=\"black\"/>\n",
       "</g>\n",
       "<!-- 139821910559040 -->\n",
       "<g class=\"node\" id=\"node11\"><title>139821910559040</title>\n",
       "<polygon fill=\"none\" points=\"115,-223 115,-259 237,-259 237,-223 115,-223\" stroke=\"black\"/>\n",
       "<text font-family=\"Times,serif\" font-size=\"14.00\" text-anchor=\"middle\" x=\"176\" y=\"-237.3\">dense_layer: Dense</text>\n",
       "</g>\n",
       "<!-- 139821911525080&#45;&gt;139821910559040 -->\n",
       "<g class=\"edge\" id=\"edge13\"><title>139821911525080-&gt;139821910559040</title>\n",
       "<path d=\"M176,-296.937C176,-288.807 176,-278.876 176,-269.705\" fill=\"none\" stroke=\"black\"/>\n",
       "<polygon fill=\"black\" points=\"179.5,-269.441 176,-259.441 172.5,-269.441 179.5,-269.441\" stroke=\"black\"/>\n",
       "</g>\n",
       "<!-- 139821907655648 -->\n",
       "<g class=\"node\" id=\"node12\"><title>139821907655648</title>\n",
       "<polygon fill=\"none\" points=\"110.5,-149 110.5,-185 241.5,-185 241.5,-149 110.5,-149\" stroke=\"black\"/>\n",
       "<text font-family=\"Times,serif\" font-size=\"14.00\" text-anchor=\"middle\" x=\"176\" y=\"-163.3\">dropout_16: Dropout</text>\n",
       "</g>\n",
       "<!-- 139821910559040&#45;&gt;139821907655648 -->\n",
       "<g class=\"edge\" id=\"edge14\"><title>139821910559040-&gt;139821907655648</title>\n",
       "<path d=\"M176,-222.937C176,-214.807 176,-204.876 176,-195.705\" fill=\"none\" stroke=\"black\"/>\n",
       "<polygon fill=\"black\" points=\"179.5,-195.441 176,-185.441 172.5,-195.441 179.5,-195.441\" stroke=\"black\"/>\n",
       "</g>\n",
       "<!-- 139821908447184 -->\n",
       "<g class=\"node\" id=\"node13\"><title>139821908447184</title>\n",
       "<polygon fill=\"none\" points=\"118,-75 118,-111 234,-111 234,-75 118,-75\" stroke=\"black\"/>\n",
       "<text font-family=\"Times,serif\" font-size=\"14.00\" text-anchor=\"middle\" x=\"176\" y=\"-89.3\">flatten_17: Flatten</text>\n",
       "</g>\n",
       "<!-- 139821907655648&#45;&gt;139821908447184 -->\n",
       "<g class=\"edge\" id=\"edge15\"><title>139821907655648-&gt;139821908447184</title>\n",
       "<path d=\"M176,-148.937C176,-140.807 176,-130.876 176,-121.705\" fill=\"none\" stroke=\"black\"/>\n",
       "<polygon fill=\"black\" points=\"179.5,-121.441 176,-111.441 172.5,-121.441 179.5,-121.441\" stroke=\"black\"/>\n",
       "</g>\n",
       "<!-- 139821907343456 -->\n",
       "<g class=\"node\" id=\"node14\"><title>139821907343456</title>\n",
       "<polygon fill=\"none\" points=\"121.5,-1 121.5,-37 230.5,-37 230.5,-1 121.5,-1\" stroke=\"black\"/>\n",
       "<text font-family=\"Times,serif\" font-size=\"14.00\" text-anchor=\"middle\" x=\"176\" y=\"-15.3\">dense_28: Dense</text>\n",
       "</g>\n",
       "<!-- 139821908447184&#45;&gt;139821907343456 -->\n",
       "<g class=\"edge\" id=\"edge16\"><title>139821908447184-&gt;139821907343456</title>\n",
       "<path d=\"M176,-74.937C176,-66.8072 176,-56.8761 176,-47.7047\" fill=\"none\" stroke=\"black\"/>\n",
       "<polygon fill=\"black\" points=\"179.5,-47.4406 176,-37.4407 172.5,-47.4407 179.5,-47.4406\" stroke=\"black\"/>\n",
       "</g>\n",
       "</g>\n",
       "</svg>"
      ],
      "text/plain": [
       "<IPython.core.display.SVG object>"
      ]
     },
     "execution_count": 338,
     "metadata": {},
     "output_type": "execute_result"
    }
   ],
   "source": [
    "SVG(model_to_dot(bilstm_model).create(prog='dot', format='svg'))"
   ]
  },
  {
   "cell_type": "code",
   "execution_count": 321,
   "metadata": {
    "collapsed": false
   },
   "outputs": [],
   "source": [
    "# define and compile model\n",
    "bilstm_model = Model(inputs=[input_fwd, input_rev], outputs=predictions)\n",
    "\n",
    "bilstm_model.compile(loss=keras.losses.categorical_crossentropy,\n",
    "              optimizer=keras.optimizers.Adam(),\n",
    "              metrics=['accuracy'])"
   ]
  },
  {
   "cell_type": "code",
   "execution_count": 339,
   "metadata": {
    "collapsed": false
   },
   "outputs": [
    {
     "name": "stdout",
     "output_type": "stream",
     "text": [
      "Train on 59352 samples, validate on 14838 samples\n",
      "Epoch 1/10\n",
      "59352/59352 [==============================] - 27s - loss: 0.2989 - acc: 0.8709 - val_loss: 0.3832 - val_acc: 0.8381\n",
      "Epoch 2/10\n",
      "59352/59352 [==============================] - 27s - loss: 0.2966 - acc: 0.8719 - val_loss: 0.3863 - val_acc: 0.8370\n",
      "Epoch 3/10\n",
      "59352/59352 [==============================] - 27s - loss: 0.2947 - acc: 0.8731 - val_loss: 0.3832 - val_acc: 0.8347\n",
      "Epoch 4/10\n",
      "59352/59352 [==============================] - 27s - loss: 0.2924 - acc: 0.8735 - val_loss: 0.3901 - val_acc: 0.8343\n",
      "Epoch 5/10\n",
      "59352/59352 [==============================] - 27s - loss: 0.2888 - acc: 0.8753 - val_loss: 0.3867 - val_acc: 0.8335\n",
      "Epoch 6/10\n",
      "59352/59352 [==============================] - 27s - loss: 0.2890 - acc: 0.8760 - val_loss: 0.4035 - val_acc: 0.8288\n",
      "Epoch 7/10\n",
      "59352/59352 [==============================] - 27s - loss: 0.2844 - acc: 0.8778 - val_loss: 0.3953 - val_acc: 0.8308\n",
      "Epoch 8/10\n",
      "59352/59352 [==============================] - 26s - loss: 0.2817 - acc: 0.8775 - val_loss: 0.3954 - val_acc: 0.8321\n",
      "Epoch 9/10\n",
      "59352/59352 [==============================] - 26s - loss: 0.2805 - acc: 0.8793 - val_loss: 0.3994 - val_acc: 0.8325\n",
      "Epoch 10/10\n",
      "59352/59352 [==============================] - 26s - loss: 0.2788 - acc: 0.8795 - val_loss: 0.3993 - val_acc: 0.8300\n",
      "Test loss: 0.39810992963135056\n",
      "Test accuracy: 0.8297614234125924\n"
     ]
    }
   ],
   "source": [
    "bilstm_model.fit([x_train, x_rc_train], y_train,\n",
    "          batch_size=100,\n",
    "          epochs=10,\n",
    "          verbose=1,\n",
    "          validation_data=([x_test, x_rc_test], y_test))\n",
    "score = bilstm_model.evaluate([x_test, x_rc_test], y_test, verbose=0)\n",
    "print('Test loss:', score[0])\n",
    "print('Test accuracy:', score[1])"
   ]
  },
  {
   "cell_type": "code",
   "execution_count": 327,
   "metadata": {
    "collapsed": false
   },
   "outputs": [
    {
     "data": {
      "text/plain": [
       "0.9157733002206709"
      ]
     },
     "execution_count": 327,
     "metadata": {},
     "output_type": "execute_result"
    }
   ],
   "source": [
    "probs = bilstm_model.predict([x_test, x_rc_test])\n",
    "\n",
    "sklearn.metrics.roc_auc_score([y[1] for y in y_test], probs[:,1], )"
   ]
  },
  {
   "cell_type": "code",
   "execution_count": 330,
   "metadata": {
    "collapsed": false
   },
   "outputs": [
    {
     "data": {
      "text/plain": [
       "{0: [<keras.layers.core.Dense at 0x7f2ad31e7860>],\n",
       " 1: [<keras.layers.core.Flatten at 0x7f2ad32f4fd0>],\n",
       " 2: [<keras.layers.core.Dropout at 0x7f2ad3233be0>],\n",
       " 3: [<keras.layers.core.Dense at 0x7f2ad34f8940>],\n",
       " 4: [<keras.layers.merge.Concatenate at 0x7f2ad35e46d8>],\n",
       " 5: [<keras.layers.recurrent.LSTM at 0x7f2ad38219e8>,\n",
       "  <keras.layers.recurrent.LSTM at 0x7f2ad35cf860>],\n",
       " 6: [<keras.layers.pooling.MaxPooling1D at 0x7f2ad383dd68>],\n",
       " 7: [<keras.layers.merge.Concatenate at 0x7f2ad383db70>],\n",
       " 8: [<keras.layers.core.Lambda at 0x7f2ad3821eb8>],\n",
       " 9: [<keras.layers.convolutional.Cropping1D at 0x7f2ad3823470>],\n",
       " 10: [<keras.layers.convolutional.Conv1D at 0x7f2ad3823240>,\n",
       "  <keras.engine.topology.InputLayer at 0x7f2ad38232b0>],\n",
       " 11: [<keras.engine.topology.InputLayer at 0x7f2ad3823278>]}"
      ]
     },
     "execution_count": 330,
     "metadata": {},
     "output_type": "execute_result"
    }
   ],
   "source": [
    "bilstm_model.layers_by_depth"
   ]
  },
  {
   "cell_type": "code",
   "execution_count": null,
   "metadata": {
    "collapsed": true
   },
   "outputs": [],
   "source": [
    "bilstm_model.get_output_at"
   ]
  },
  {
   "cell_type": "markdown",
   "metadata": {},
   "source": [
    "## Visualize Model"
   ]
  },
  {
   "cell_type": "code",
   "execution_count": 4,
   "metadata": {
    "collapsed": true
   },
   "outputs": [],
   "source": [
    "from keras.layers import Bidirectional\n",
    "\n",
    "from keras.layers import LSTM\n",
    "\n",
    "from keras.layers import Activation"
   ]
  },
  {
   "cell_type": "code",
   "execution_count": 7,
   "metadata": {
    "collapsed": false
   },
   "outputs": [],
   "source": [
    "model = Sequential()\n",
    "model.add(Bidirectional(LSTM(10, return_sequences=True),\n",
    "                        input_shape=(5, 10)))\n",
    "model.add(Bidirectional(LSTM(10)))\n",
    "model.add(Dense(5))\n",
    "model.add(Activation('softmax'))\n",
    "model.compile(loss='categorical_crossentropy', optimizer='rmsprop')"
   ]
  },
  {
   "cell_type": "code",
   "execution_count": 8,
   "metadata": {
    "collapsed": false
   },
   "outputs": [],
   "source": [
    "from keras.utils import plot_model\n",
    "plot_model(model, to_file='model.png')"
   ]
  },
  {
   "cell_type": "code",
   "execution_count": 9,
   "metadata": {
    "collapsed": false
   },
   "outputs": [
    {
     "data": {
      "image/svg+xml": [
       "<svg height=\"342pt\" viewBox=\"0.00 0.00 276.00 342.00\" width=\"276pt\" xmlns=\"http://www.w3.org/2000/svg\" xmlns:xlink=\"http://www.w3.org/1999/xlink\">\n",
       "<g class=\"graph\" id=\"graph0\" transform=\"scale(1 1) rotate(0) translate(4 338)\">\n",
       "<title>G</title>\n",
       "<polygon fill=\"white\" points=\"-4,5 -4,-338 273,-338 273,5 -4,5\" stroke=\"white\"/>\n",
       "<!-- 139847517225648 -->\n",
       "<g class=\"node\" id=\"node1\"><title>139847517225648</title>\n",
       "<polygon fill=\"none\" points=\"34,-297 34,-333 234,-333 234,-297 34,-297\" stroke=\"black\"/>\n",
       "<text font-family=\"Times,serif\" font-size=\"14.00\" text-anchor=\"middle\" x=\"134\" y=\"-311.3\">bidirectional_1_input: InputLayer</text>\n",
       "</g>\n",
       "<!-- 139848767086888 -->\n",
       "<g class=\"node\" id=\"node2\"><title>139848767086888</title>\n",
       "<polygon fill=\"none\" points=\"-0.5,-223 -0.5,-259 268.5,-259 268.5,-223 -0.5,-223\" stroke=\"black\"/>\n",
       "<text font-family=\"Times,serif\" font-size=\"14.00\" text-anchor=\"middle\" x=\"134\" y=\"-237.3\">bidirectional_1(lstm_1): Bidirectional(LSTM)</text>\n",
       "</g>\n",
       "<!-- 139847517225648&#45;&gt;139848767086888 -->\n",
       "<g class=\"edge\" id=\"edge1\"><title>139847517225648-&gt;139848767086888</title>\n",
       "<path d=\"M134,-296.937C134,-288.807 134,-278.876 134,-269.705\" fill=\"none\" stroke=\"black\"/>\n",
       "<polygon fill=\"black\" points=\"137.5,-269.441 134,-259.441 130.5,-269.441 137.5,-269.441\" stroke=\"black\"/>\n",
       "</g>\n",
       "<!-- 139846882892208 -->\n",
       "<g class=\"node\" id=\"node3\"><title>139846882892208</title>\n",
       "<polygon fill=\"none\" points=\"-0.5,-149 -0.5,-185 268.5,-185 268.5,-149 -0.5,-149\" stroke=\"black\"/>\n",
       "<text font-family=\"Times,serif\" font-size=\"14.00\" text-anchor=\"middle\" x=\"134\" y=\"-163.3\">bidirectional_2(lstm_2): Bidirectional(LSTM)</text>\n",
       "</g>\n",
       "<!-- 139848767086888&#45;&gt;139846882892208 -->\n",
       "<g class=\"edge\" id=\"edge2\"><title>139848767086888-&gt;139846882892208</title>\n",
       "<path d=\"M134,-222.937C134,-214.807 134,-204.876 134,-195.705\" fill=\"none\" stroke=\"black\"/>\n",
       "<polygon fill=\"black\" points=\"137.5,-195.441 134,-185.441 130.5,-195.441 137.5,-195.441\" stroke=\"black\"/>\n",
       "</g>\n",
       "<!-- 139847517225704 -->\n",
       "<g class=\"node\" id=\"node4\"><title>139847517225704</title>\n",
       "<polygon fill=\"none\" points=\"83,-75 83,-111 185,-111 185,-75 83,-75\" stroke=\"black\"/>\n",
       "<text font-family=\"Times,serif\" font-size=\"14.00\" text-anchor=\"middle\" x=\"134\" y=\"-89.3\">dense_1: Dense</text>\n",
       "</g>\n",
       "<!-- 139846882892208&#45;&gt;139847517225704 -->\n",
       "<g class=\"edge\" id=\"edge3\"><title>139846882892208-&gt;139847517225704</title>\n",
       "<path d=\"M134,-148.937C134,-140.807 134,-130.876 134,-121.705\" fill=\"none\" stroke=\"black\"/>\n",
       "<polygon fill=\"black\" points=\"137.5,-121.441 134,-111.441 130.5,-121.441 137.5,-121.441\" stroke=\"black\"/>\n",
       "</g>\n",
       "<!-- 139846881738704 -->\n",
       "<g class=\"node\" id=\"node5\"><title>139846881738704</title>\n",
       "<polygon fill=\"none\" points=\"60,-1 60,-37 208,-37 208,-1 60,-1\" stroke=\"black\"/>\n",
       "<text font-family=\"Times,serif\" font-size=\"14.00\" text-anchor=\"middle\" x=\"134\" y=\"-15.3\">activation_1: Activation</text>\n",
       "</g>\n",
       "<!-- 139847517225704&#45;&gt;139846881738704 -->\n",
       "<g class=\"edge\" id=\"edge4\"><title>139847517225704-&gt;139846881738704</title>\n",
       "<path d=\"M134,-74.937C134,-66.8072 134,-56.8761 134,-47.7047\" fill=\"none\" stroke=\"black\"/>\n",
       "<polygon fill=\"black\" points=\"137.5,-47.4406 134,-37.4407 130.5,-47.4407 137.5,-47.4406\" stroke=\"black\"/>\n",
       "</g>\n",
       "</g>\n",
       "</svg>"
      ],
      "text/plain": [
       "<IPython.core.display.SVG object>"
      ]
     },
     "execution_count": 9,
     "metadata": {},
     "output_type": "execute_result"
    }
   ],
   "source": [
    "from IPython.display import SVG\n",
    "from keras.utils.vis_utils import model_to_dot\n",
    "\n",
    "SVG(model_to_dot(model).create(prog='dot', format='svg'))"
   ]
  },
  {
   "cell_type": "code",
   "execution_count": null,
   "metadata": {
    "collapsed": true
   },
   "outputs": [],
   "source": []
  }
 ],
 "metadata": {
  "anaconda-cloud": {},
  "kernelspec": {
   "display_name": "Python [Root]",
   "language": "python",
   "name": "Python [Root]"
  },
  "language_info": {
   "codemirror_mode": {
    "name": "ipython",
    "version": 3
   },
   "file_extension": ".py",
   "mimetype": "text/x-python",
   "name": "python",
   "nbconvert_exporter": "python",
   "pygments_lexer": "ipython3",
   "version": "3.5.1"
  }
 },
 "nbformat": 4,
 "nbformat_minor": 0
}
