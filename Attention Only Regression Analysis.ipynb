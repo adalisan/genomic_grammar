{
 "cells": [
  {
   "cell_type": "markdown",
   "metadata": {},
   "source": [
    "## Attention Only Analysis"
   ]
  },
  {
   "cell_type": "code",
   "execution_count": 9,
   "metadata": {},
   "outputs": [],
   "source": [
    "from __future__ import print_function\n",
    "import keras\n",
    "from keras.datasets import mnist\n",
    "from keras.models import Sequential\n",
    "from keras.layers import *\n",
    "from keras.models import Model\n",
    "from keras import backend as K"
   ]
  },
  {
   "cell_type": "code",
   "execution_count": 10,
   "metadata": {},
   "outputs": [],
   "source": [
    "import copy\n",
    "import types as python_types\n",
    "import warnings\n",
    "from keras import activations\n",
    "from keras import initializers\n",
    "from keras import regularizers\n",
    "from keras import constraints\n",
    "from keras.engine.base_layer import InputSpec\n",
    "from keras.engine.base_layer import Layer\n"
   ]
  },
  {
   "cell_type": "code",
   "execution_count": 11,
   "metadata": {},
   "outputs": [],
   "source": [
    "import tensorflow as tf"
   ]
  },
  {
   "cell_type": "code",
   "execution_count": 12,
   "metadata": {},
   "outputs": [],
   "source": [
    "import os\n",
    "import numpy as np\n",
    "import Bio\n",
    "from Bio import SeqIO\n",
    "import seaborn as sns\n",
    "import pandas as pd\n",
    "import Bio.motifs\n",
    "%matplotlib inline\n",
    "from sklearn import model_selection\n",
    "import seaborn as sns\n",
    "from matplotlib import pyplot as plt\n",
    "import sklearn\n",
    "from IPython.display import SVG\n",
    "from keras.utils.vis_utils import model_to_dot\n",
    "import scipy\n",
    "sns.set_context('notebook')"
   ]
  },
  {
   "cell_type": "code",
   "execution_count": 13,
   "metadata": {},
   "outputs": [],
   "source": [
    "if not os.path.isdir('/home/jtao/analysis/genomic_grammar_analysis/'):\n",
    "    os.mkdir('/home/jtao/analysis/genomic_grammar_analysis')\n",
    "os.chdir('/home/jtao/analysis/genomic_grammar_analysis')"
   ]
  },
  {
   "cell_type": "markdown",
   "metadata": {},
   "source": [
    "## Functions"
   ]
  },
  {
   "cell_type": "code",
   "execution_count": 14,
   "metadata": {},
   "outputs": [],
   "source": [
    "def convert_sequences_to_array(sequences):\n",
    "    '''\n",
    "    inputs: sequence of nucleotides represented as a string composed of A, C, G, T\n",
    "    outputs: a list of numpy array representations of a sequence with:\n",
    "             A = [1, 0, 0, 0]\n",
    "             C = [0, 1, 0, 0]\n",
    "             G = [0, 0, 1, 0]\n",
    "             T = [0, 0, 0, 1]\n",
    "             \n",
    "    '''\n",
    "\n",
    "    nucleotide_array_dict = {'A': [1, 0, 0, 0],\n",
    "                             'C': [0, 1, 0, 0],\n",
    "                             'G': [0, 0, 1, 0],\n",
    "                             'T': [0, 0, 0, 1],\n",
    "                             'N': [0.25,0.25,0.25,0.25]}\n",
    "\n",
    "    sequence_array_list = []\n",
    "    for seq in sequences:\n",
    "        seq_array = []\n",
    "        for nuc in seq:\n",
    "            seq_array.append(nucleotide_array_dict[nuc])\n",
    "        seq_array = np.array(seq_array, dtype=np.float16)\n",
    "        sequence_array_list.append(seq_array)\n",
    "    sequence_array_list = np.array(sequence_array_list,dtype=np.float16)\n",
    "    return sequence_array_list"
   ]
  },
  {
   "cell_type": "code",
   "execution_count": 15,
   "metadata": {},
   "outputs": [],
   "source": [
    "def quantile_normalize_df(df_input):\n",
    "    df = df_input.copy()\n",
    "    #compute rank\n",
    "    dic = {}\n",
    "    for col in df:\n",
    "        dic.update({col : sorted(df[col])})\n",
    "    sorted_df = pd.DataFrame(dic)\n",
    "    rank = sorted_df.mean(axis = 1).tolist()\n",
    "    #sort\n",
    "    for col in df:\n",
    "        t = np.searchsorted(np.sort(df[col]), df[col])\n",
    "        df[col] = [rank[i] for i in t]\n",
    "    return df"
   ]
  },
  {
   "cell_type": "markdown",
   "metadata": {},
   "source": [
    "## Data Processing"
   ]
  },
  {
   "cell_type": "code",
   "execution_count": 21,
   "metadata": {
    "scrolled": true
   },
   "outputs": [
    {
     "name": "stdout",
     "output_type": "stream",
     "text": [
      "\tMax distance to merge: 100 bp\n",
      "\tMerging peaks... \n",
      "\tComparing ./resized_peak_files/c57bl6_veh_peaks.tsv (31553 total) and ./resized_peak_files/c57bl6_veh_peaks.tsv (31553 total)\n",
      "\tComparing ./resized_peak_files/c57bl6_veh_peaks.tsv (31553 total) and ./resized_peak_files/c57bl6_kla-1h_peaks.tsv (21783 total)\n",
      "\tComparing ./resized_peak_files/c57bl6_veh_peaks.tsv (31553 total) and ./resized_peak_files/c57bl6_il4-24h_peaks.tsv (33580 total)\n",
      "\tComparing ./resized_peak_files/c57bl6_kla-1h_peaks.tsv (21783 total) and ./resized_peak_files/c57bl6_veh_peaks.tsv (31553 total)\n",
      "\tComparing ./resized_peak_files/c57bl6_kla-1h_peaks.tsv (21783 total) and ./resized_peak_files/c57bl6_kla-1h_peaks.tsv (21783 total)\n",
      "\tComparing ./resized_peak_files/c57bl6_kla-1h_peaks.tsv (21783 total) and ./resized_peak_files/c57bl6_il4-24h_peaks.tsv (33580 total)\n",
      "\tComparing ./resized_peak_files/c57bl6_il4-24h_peaks.tsv (33580 total) and ./resized_peak_files/c57bl6_veh_peaks.tsv (31553 total)\n",
      "\tComparing ./resized_peak_files/c57bl6_il4-24h_peaks.tsv (33580 total) and ./resized_peak_files/c57bl6_kla-1h_peaks.tsv (21783 total)\n",
      "\tComparing ./resized_peak_files/c57bl6_il4-24h_peaks.tsv (33580 total) and ./resized_peak_files/c57bl6_il4-24h_peaks.tsv (33580 total)\n",
      "\n",
      "./resized_peak_files/c57bl6_veh_peaks.tsv\t./resized_peak_files/c57bl6_kla-1h_peaks.tsv\t./resized_peak_files/c57bl6_il4-24h_peaks.tsv\tTotal\tName\n",
      "\t\tX\t8221\t./resized_peak_files/c57bl6_il4-24h_peaks.tsv\n",
      "\tX\t\t3389\t./resized_peak_files/c57bl6_kla-1h_peaks.tsv\n",
      "\tX\tX\t2275\t./resized_peak_files/c57bl6_kla-1h_peaks.tsv|./resized_peak_files/c57bl6_il4-24h_peaks.tsv\n",
      "X\t\t\t7105\t./resized_peak_files/c57bl6_veh_peaks.tsv\n",
      "X\t\tX\t8329\t./resized_peak_files/c57bl6_veh_peaks.tsv|./resized_peak_files/c57bl6_il4-24h_peaks.tsv\n",
      "X\tX\t\t1364\t./resized_peak_files/c57bl6_veh_peaks.tsv|./resized_peak_files/c57bl6_kla-1h_peaks.tsv\n",
      "X\tX\tX\t14755\t./resized_peak_files/c57bl6_veh_peaks.tsv|./resized_peak_files/c57bl6_kla-1h_peaks.tsv|./resized_peak_files/c57bl6_il4-24h_peaks.tsv\n"
     ]
    }
   ],
   "source": [
    "!mergePeaks -d ./atac_idr_peaks/c57bl6_veh_peaks.tsv ./resized_peak_files/c57bl6_veh_peaks.tsv ./resized_peak_files/c57bl6_kla-1h_peaks.tsv ./resized_peak_files/c57bl6_il4-24h_peaks.tsv > merged_veh_kla_il4_peaks.tsv"
   ]
  },
  {
   "cell_type": "code",
   "execution_count": 98,
   "metadata": {},
   "outputs": [
    {
     "name": "stderr",
     "output_type": "stream",
     "text": [
      "/home/jtao/software/anaconda3/lib/python3.5/site-packages/ipykernel_launcher.py:16: SettingWithCopyWarning: \n",
      "A value is trying to be set on a copy of a slice from a DataFrame.\n",
      "Try using .loc[row_indexer,col_indexer] = value instead\n",
      "\n",
      "See the caveats in the documentation: http://pandas.pydata.org/pandas-docs/stable/indexing.html#indexing-view-versus-copy\n",
      "  app.launch_new_instance()\n",
      "/home/jtao/software/anaconda3/lib/python3.5/site-packages/ipykernel_launcher.py:17: SettingWithCopyWarning: \n",
      "A value is trying to be set on a copy of a slice from a DataFrame.\n",
      "Try using .loc[row_indexer,col_indexer] = value instead\n",
      "\n",
      "See the caveats in the documentation: http://pandas.pydata.org/pandas-docs/stable/indexing.html#indexing-view-versus-copy\n"
     ]
    }
   ],
   "source": [
    "merged_frame = pd.read_csv('./merged_veh_kla_il4_peaks.tsv', sep='\\t')\n",
    "\n",
    "# filter away peaks in unused chromsomes\n",
    "filtered_frame = merged_frame[\n",
    "             ~(merged_frame['chr'].str.contains('chrY')) & \n",
    "             ~(merged_frame['chr'].str.contains('chrM')) &\n",
    "             ~(merged_frame['chr'].str.contains('random')) &\n",
    "             ~(merged_frame['chr'].str.contains('Un'))]\n",
    "\n",
    "# resize peaks\n",
    "target_peak_size = 200\n",
    "peakCenters = (filtered_frame['start'] + filtered_frame['end']) /2\n",
    "int_peakCenters = np.ceil(peakCenters).astype(int)\n",
    "new_starts = int_peakCenters - int(target_peak_size/2)\n",
    "new_ends = int_peakCenters + int(target_peak_size/2)\n",
    "filtered_frame['start'] = new_starts\n",
    "filtered_frame['end'] = new_ends\n",
    "filtered_frame.to_csv('./merged_veh_kla_il4_peaks_resized.tsv', sep='\\t', index=False)"
   ]
  },
  {
   "cell_type": "code",
   "execution_count": 99,
   "metadata": {},
   "outputs": [
    {
     "name": "stderr",
     "output_type": "stream",
     "text": [
      "\n",
      "\tConverted 45369 peaks total\n",
      "\n"
     ]
    }
   ],
   "source": [
    "%%bash\n",
    "# extract sequences for analysis\n",
    "pos2bed.pl ./merged_veh_kla_il4_peaks_resized.tsv > ./tmp\n",
    "tail -n +2 ./tmp > ./merged_veh_kla_il4_peaks_resized.bed\n",
    "rm tmp"
   ]
  },
  {
   "cell_type": "code",
   "execution_count": 100,
   "metadata": {},
   "outputs": [
    {
     "name": "stdout",
     "output_type": "stream",
     "text": [
      "reading genome mm10\r\n"
     ]
    }
   ],
   "source": [
    "!/gpfs/data01/glasslab/home/jtao/code/tba/model_training/extract_sequences.py ./merged_veh_kla_il4_peaks_resized.bed mm10 ./merged_veh_kla_il4_peaks_resized.fasta"
   ]
  },
  {
   "cell_type": "code",
   "execution_count": 60,
   "metadata": {
    "scrolled": true
   },
   "outputs": [
    {
     "name": "stdout",
     "output_type": "stream",
     "text": [
      "\n",
      "\tPeak file = merged_veh_kla_il4_peaks_resized.tsv\n",
      "\tGenome = mm10\n",
      "\tOrganism = mouse\n",
      "\tPeak Region set to 500\n",
      "\tTag Directories:\n",
      "\t\t./tag_directories_enhancer_marks/C57Bl6_BMDM_ChIP_H3K27Ac_KLA-1h_BC_16-04-15-rep1\n",
      "\t\t./tag_directories_enhancer_marks/C57Bl6_BMDM_ChIP_H3K27Ac_KLA-1h_BC_16-04-15-rep2\n",
      "\t\t./tag_directories_enhancer_marks/C57Bl6_BMDM_ChIP_H3K27ac_IL4-24h_MAH_l20171004\n",
      "\t\t./tag_directories_enhancer_marks/C57Bl6_BMDM_ChIP_H3K27ac_IL4-24h_MAH_l20171129\n",
      "\t\t./tag_directories_enhancer_marks/C57Bl6_BMDM_ChIP_H3K27ac_Veh_MAH_l20171004/\n",
      "\t\t./tag_directories_enhancer_marks/C57Bl6_BMDM_ChIP_H3K27ac_Veh_MAH_l20171121/\n",
      "\tPeak/BED file conversion summary:\n",
      "\t\tBED/Header formatted lines: 0\n",
      "\t\tpeakfile formatted lines: 45369\n",
      "\t\tDuplicated Peak IDs: 0\n",
      "\n",
      "\tPeak File Statistics:\n",
      "\t\tTotal Peaks: 45369\n",
      "\t\tRedundant Peak IDs: 0\n",
      "\t\tPeaks lacking information: 0 (need at least 5 columns per peak)\n",
      "\t\tPeaks with misformatted coordinates: 0 (should be integer)\n",
      "\t\tPeaks with misformatted strand: 0 (should be either +/- or 0/1)\n",
      "\n",
      "\tPeak file looks good!\n",
      "\n",
      "\tResizing peaks...\n",
      "\tReading Positions...\n",
      "\t-----------------------\n",
      "\tFinding Closest TSS...\n",
      "\tAnnotating:....................\n",
      "\t\tAnnotation\tNumber of peaks\tTotal size (bp)\tLog2 Enrichment\n",
      "\t\t3UTR\t397.0\t19668322\t0.227\n",
      "\t\tmiRNA\t2.0\t20053\t2.532\n",
      "\t\tncRNA\t126.0\t2893366\t1.336\n",
      "\t\tTTS\t580.0\t26128255\t0.364\n",
      "\t\tpseudo\t9.0\t509738\t0.034\n",
      "\t\tExon\t649.0\t33217203\t0.180\n",
      "\t\tIntron\t17593.0\t926318212\t0.139\n",
      "\t\tIntergenic\t14866.0\t1591257167\t-0.885\n",
      "\t\tPromoter\t10725.0\t28309367\t4.457\n",
      "\t\t5UTR\t415.0\t2077761\t3.534\n",
      "\t\tsnoRNA\t0.0\t19\t-15.469\n",
      "\t\trRNA\t7.0\t5631\t6.171\n",
      "\tNOTE: If this part takes more than 2 minutes, there is a good chance\n",
      "\t\tyour machine ran out of memory: consider hitting ctrl+C and rerunning\n",
      "\t\tthe command with \"-noann\"\n",
      "\tTo capture annotation stats in a file, use \"-annStats <filename>\" next time\n",
      "\tAnnotating:....................\n",
      "\t\tAnnotation\tNumber of peaks\tTotal size (bp)\tLog2 Enrichment\n",
      "\t\t3UTR\t397.0\t19668322\t0.228\n",
      "\t\tOther\t82.0\t7166306\t-0.591\n",
      "\t\tRC?\t0.0\t10979\t-15.469\n",
      "\t\tRNA\t1.0\t114021\t-0.975\n",
      "\t\tmiRNA\t2.0\t20053\t2.532\n",
      "\t\tncRNA\t126.0\t2893366\t1.337\n",
      "\t\tTTS\t580.0\t26128255\t0.365\n",
      "\t\tLINE\t1328.0\t521357097\t-2.759\n",
      "\t\tLINE?\t0.0\t8168\t-15.469\n",
      "\t\tsrpRNA\t1.0\t43388\t0.419\n",
      "\t\tSINE\t1172.0\t194261631\t-1.515\n",
      "\t\tRC\t0.0\t65909\t-15.469\n",
      "\t\ttRNA\t24.0\t266920\t2.383\n",
      "\t\tDNA?\t0.0\t142594\t-15.469\n",
      "\t\tpseudo\t9.0\t509738\t0.034\n",
      "\t\tDNA\t294.0\t28414247\t-0.737\n",
      "\t\tExon\t649.0\t33217203\t0.181\n",
      "\t\tIntron\t13853.0\t589127896\t0.448\n",
      "\t\tIntergenic\t11191.0\t801077083\t-0.303\n",
      "\t\tPromoter\t10723.0\t28309367\t4.458\n",
      "\t\t5UTR\t415.0\t2077761\t3.534\n",
      "\t\tsnoRNA\t0.0\t19\t-15.469\n",
      "\t\tLTR?\t4.0\t193659\t0.261\n",
      "\t\tscRNA\t3.0\t579110\t-1.735\n",
      "\t\tCpG-Island\t1343.0\t3345642\t4.541\n",
      "\t\tLow_complexity\t72.0\t18533957\t-2.150\n",
      "\t\tLTR\t2889.0\t293374785\t-0.808\n",
      "\t\tSimple_repeat\t121.0\t55384339\t-2.980\n",
      "\t\tsnRNA\t2.0\t237355\t-1.033\n",
      "\t\tUnknown\t11.0\t1251155\t-0.971\n",
      "\t\tSINE?\t0.0\t29758\t-15.469\n",
      "\t\tSatellite\t49.0\t3706654\t-0.383\n",
      "\t\trRNA\t28.0\t165655\t3.293\n",
      "\tCounting Tags in Peaks from each directory...\n",
      "\tRatio for ./tag_directories_enhancer_marks/C57Bl6_BMDM_ChIP_H3K27Ac_KLA-1h_BC_16-04-15-rep1 : 0.552817695207944\n",
      "\tRatio for ./tag_directories_enhancer_marks/C57Bl6_BMDM_ChIP_H3K27Ac_KLA-1h_BC_16-04-15-rep2 : 0.726581550060016\n",
      "\tRatio for ./tag_directories_enhancer_marks/C57Bl6_BMDM_ChIP_H3K27ac_IL4-24h_MAH_l20171004 : 0.848831655377064\n",
      "\tRatio for ./tag_directories_enhancer_marks/C57Bl6_BMDM_ChIP_H3K27ac_IL4-24h_MAH_l20171129 : 0.656306087508047\n",
      "\tRatio for ./tag_directories_enhancer_marks/C57Bl6_BMDM_ChIP_H3K27ac_Veh_MAH_l20171004/ : 0.678429273409032\n",
      "\tRatio for ./tag_directories_enhancer_marks/C57Bl6_BMDM_ChIP_H3K27ac_Veh_MAH_l20171121/ : 0.713051422273758\n",
      "\tOrganism: mouse\n",
      "\tLoading Gene Informaiton...\n",
      "\tOutputing Annotation File...\n",
      "\tDone annotating peaks file\n",
      "\n"
     ]
    }
   ],
   "source": [
    "!annotatePeaks.pl merged_veh_kla_il4_peaks_resized.tsv mm10 -size 500 -d ./tag_directories_enhancer_marks/*KLA* ./tag_directories_enhancer_marks/*IL4* ./tag_directories_enhancer_marks/*Veh*/ > ./merged_veh_kla_il4_peaks_resized_annotated.tsv"
   ]
  },
  {
   "cell_type": "code",
   "execution_count": 93,
   "metadata": {},
   "outputs": [
    {
     "data": {
      "text/html": [
       "<div>\n",
       "<style>\n",
       "    .dataframe thead tr:only-child th {\n",
       "        text-align: right;\n",
       "    }\n",
       "\n",
       "    .dataframe thead th {\n",
       "        text-align: left;\n",
       "    }\n",
       "\n",
       "    .dataframe tbody tr th {\n",
       "        vertical-align: top;\n",
       "    }\n",
       "</style>\n",
       "<table border=\"1\" class=\"dataframe\">\n",
       "  <thead>\n",
       "    <tr style=\"text-align: right;\">\n",
       "      <th></th>\n",
       "      <th>kla-1h_16-04-15-rep1</th>\n",
       "      <th>kla-1h_16-04-15-rep2</th>\n",
       "      <th>il4-24h_l20171004</th>\n",
       "      <th>il4-24h_l20171129</th>\n",
       "      <th>veh_l20171004</th>\n",
       "      <th>veh_l20171121</th>\n",
       "    </tr>\n",
       "  </thead>\n",
       "  <tbody>\n",
       "    <tr>\n",
       "      <th>chr11:110696968-110697468</th>\n",
       "      <td>43.67</td>\n",
       "      <td>30.52</td>\n",
       "      <td>61.12</td>\n",
       "      <td>49.88</td>\n",
       "      <td>145.86</td>\n",
       "      <td>104.82</td>\n",
       "    </tr>\n",
       "    <tr>\n",
       "      <th>chr16:78576481-78576981</th>\n",
       "      <td>37.59</td>\n",
       "      <td>47.23</td>\n",
       "      <td>51.78</td>\n",
       "      <td>12.47</td>\n",
       "      <td>88.20</td>\n",
       "      <td>39.93</td>\n",
       "    </tr>\n",
       "    <tr>\n",
       "      <th>chr2:174673931-174674431</th>\n",
       "      <td>3.32</td>\n",
       "      <td>2.18</td>\n",
       "      <td>2.55</td>\n",
       "      <td>0.00</td>\n",
       "      <td>0.68</td>\n",
       "      <td>0.71</td>\n",
       "    </tr>\n",
       "    <tr>\n",
       "      <th>chr9:5356775-5357275</th>\n",
       "      <td>1.11</td>\n",
       "      <td>3.63</td>\n",
       "      <td>0.85</td>\n",
       "      <td>2.63</td>\n",
       "      <td>1.36</td>\n",
       "      <td>2.14</td>\n",
       "    </tr>\n",
       "    <tr>\n",
       "      <th>chr6:136914543-136915043</th>\n",
       "      <td>2.21</td>\n",
       "      <td>4.36</td>\n",
       "      <td>1.70</td>\n",
       "      <td>2.63</td>\n",
       "      <td>2.71</td>\n",
       "      <td>0.00</td>\n",
       "    </tr>\n",
       "  </tbody>\n",
       "</table>\n",
       "</div>"
      ],
      "text/plain": [
       "                           kla-1h_16-04-15-rep1  kla-1h_16-04-15-rep2  \\\n",
       "chr11:110696968-110697468                 43.67                 30.52   \n",
       "chr16:78576481-78576981                   37.59                 47.23   \n",
       "chr2:174673931-174674431                   3.32                  2.18   \n",
       "chr9:5356775-5357275                       1.11                  3.63   \n",
       "chr6:136914543-136915043                   2.21                  4.36   \n",
       "\n",
       "                           il4-24h_l20171004  il4-24h_l20171129  \\\n",
       "chr11:110696968-110697468              61.12              49.88   \n",
       "chr16:78576481-78576981                51.78              12.47   \n",
       "chr2:174673931-174674431                2.55               0.00   \n",
       "chr9:5356775-5357275                    0.85               2.63   \n",
       "chr6:136914543-136915043                1.70               2.63   \n",
       "\n",
       "                           veh_l20171004  veh_l20171121  \n",
       "chr11:110696968-110697468         145.86         104.82  \n",
       "chr16:78576481-78576981            88.20          39.93  \n",
       "chr2:174673931-174674431            0.68           0.71  \n",
       "chr9:5356775-5357275                1.36           2.14  \n",
       "chr6:136914543-136915043            2.71           0.00  "
      ]
     },
     "execution_count": 93,
     "metadata": {},
     "output_type": "execute_result"
    }
   ],
   "source": [
    "h3k27ac_tag_frame.head()"
   ]
  },
  {
   "cell_type": "code",
   "execution_count": 104,
   "metadata": {},
   "outputs": [],
   "source": [
    "# average tag counts from both replicates\n",
    "h3k27ac_tag_frame = pd.read_csv('./merged_veh_kla_il4_peaks_resized_annotated.tsv', sep = '\\t')\n",
    "\n",
    "h3k27ac_tag_frame.index = h3k27ac_tag_frame['Chr'] + ':' + (h3k27ac_tag_frame['Start'] - 1 +150).astype(str) + '-' + \\\n",
    "    (h3k27ac_tag_frame['End'] -150).astype(str)\n",
    "\n",
    "h3k27ac_tag_frame = h3k27ac_tag_frame[[x for x in h3k27ac_tag_frame.columns.values if 'Tag Count' in x]]\n",
    "columns = [x.split(' ')[0].split('/')[2].lower() for x in h3k27ac_tag_frame.columns.values]\n",
    "columns = [x.split('_')[4] + '_' + x.split('_')[6] for x in columns]\n",
    "h3k27ac_tag_frame.columns = columns\n",
    "\n",
    "h3k27ac_quantileTag_frame = quantile_normalize_df(h3k27ac_tag_frame)\n",
    "\n",
    "treatments = sorted(set([x.split('_')[0] for x in columns]))\n",
    "\n",
    "h3k27ac_meanTag_dict = {}\n",
    "for t in treatments:\n",
    "    h3k27ac_meanTag_dict[t] = h3k27ac_tag_frame[[x for x in h3k27ac_tag_frame.columns if t in x]].mean(axis=1).values\n",
    "h3k27ac_meanTag_frame = pd.DataFrame(h3k27ac_meanTag_dict)\n",
    "h3k27ac_meanTag_frame.index = h3k27ac_tag_frame.index.values\n",
    "\n",
    "h3k27ac_quantileTag_dict = {}\n",
    "for t in treatments:\n",
    "    h3k27ac_quantileTag_dict[t] = h3k27ac_quantileTag_frame[[x for x in h3k27ac_quantileTag_frame.columns if t in x]].mean(axis=1).values\n",
    "h3k27ac_meanQuantileTag_frame = pd.DataFrame(h3k27ac_quantileTag_dict)\n",
    "h3k27ac_meanQuantileTag_frame.index = h3k27ac_quantileTag_frame.index.values"
   ]
  },
  {
   "cell_type": "code",
   "execution_count": 105,
   "metadata": {},
   "outputs": [
    {
     "data": {
      "text/plain": [
       "kla-1h_16-04-15-rep1    24.504577\n",
       "kla-1h_16-04-15-rep2    23.015659\n",
       "il4-24h_l20171004       39.684403\n",
       "il4-24h_l20171129       31.201952\n",
       "veh_l20171004           62.341607\n",
       "veh_l20171121           50.138751\n",
       "dtype: float64"
      ]
     },
     "execution_count": 105,
     "metadata": {},
     "output_type": "execute_result"
    }
   ],
   "source": [
    "h3k27ac_tag_frame.mean()"
   ]
  },
  {
   "cell_type": "code",
   "execution_count": 106,
   "metadata": {},
   "outputs": [
    {
     "data": {
      "text/plain": [
       "kla-1h_16-04-15-rep1    1406.089578\n",
       "kla-1h_16-04-15-rep2    1539.370667\n",
       "il4-24h_l20171004       4754.250734\n",
       "il4-24h_l20171129       2776.557190\n",
       "veh_l20171004           9467.284816\n",
       "veh_l20171121           5291.817536\n",
       "dtype: float64"
      ]
     },
     "execution_count": 106,
     "metadata": {},
     "output_type": "execute_result"
    }
   ],
   "source": [
    "h3k27ac_tag_frame.var()"
   ]
  },
  {
   "cell_type": "code",
   "execution_count": 107,
   "metadata": {},
   "outputs": [
    {
     "data": {
      "text/plain": [
       "il4-24h    38.134231\n",
       "kla-1h     38.048826\n",
       "veh        38.259562\n",
       "dtype: float64"
      ]
     },
     "execution_count": 107,
     "metadata": {},
     "output_type": "execute_result"
    }
   ],
   "source": [
    "h3k27ac_meanQuantileTag_frame.mean()"
   ]
  },
  {
   "cell_type": "code",
   "execution_count": 108,
   "metadata": {},
   "outputs": [
    {
     "data": {
      "text/plain": [
       "il4-24h    3275.454161\n",
       "kla-1h     3344.582430\n",
       "veh        3225.955232\n",
       "dtype: float64"
      ]
     },
     "execution_count": 108,
     "metadata": {},
     "output_type": "execute_result"
    }
   ],
   "source": [
    "h3k27ac_meanQuantileTag_frame.var()"
   ]
  },
  {
   "cell_type": "code",
   "execution_count": 123,
   "metadata": {},
   "outputs": [
    {
     "data": {
      "text/plain": [
       "<matplotlib.legend.Legend at 0x7f2992df7860>"
      ]
     },
     "execution_count": 123,
     "metadata": {},
     "output_type": "execute_result"
    },
    {
     "data": {
      "image/png": "[encoded data removed]",
      "text/plain": [
       "<matplotlib.figure.Figure at 0x7f2992df7668>"
      ]
     },
     "metadata": {},
     "output_type": "display_data"
    }
   ],
   "source": [
    "for treatment in h3k27ac_meanQuantileTag_frame:\n",
    "    sns.distplot(np.log2(h3k27ac_meanQuantileTag_frame[treatment]+ 1) , label = treatment)\n",
    "plt.legend()"
   ]
  },
  {
   "cell_type": "code",
   "execution_count": 127,
   "metadata": {},
   "outputs": [
    {
     "data": {
      "text/plain": [
       "<matplotlib.legend.Legend at 0x7f2997f5e128>"
      ]
     },
     "execution_count": 127,
     "metadata": {},
     "output_type": "execute_result"
    },
    {
     "data": {
      "image/png": "[encoded data removed]",
      "text/plain": [
       "<matplotlib.figure.Figure at 0x7f297ff0e320>"
      ]
     },
     "metadata": {},
     "output_type": "display_data"
    }
   ],
   "source": [
    "for treatment in h3k27ac_meanQuantileTag_frame:\n",
    "    if not treatment == 'veh':\n",
    "        sns.distplot(np.log2((h3k27ac_meanQuantileTag_frame['il4-24h'] + 1) / (h3k27ac_meanQuantileTag_frame['veh'] + 1)),\n",
    "                     label = treatment)\n",
    "plt.legend()\n",
    "\n"
   ]
  },
  {
   "cell_type": "markdown",
   "metadata": {},
   "source": [
    "### Read in Sequence Data"
   ]
  },
  {
   "cell_type": "code",
   "execution_count": 109,
   "metadata": {},
   "outputs": [
    {
     "data": {
      "text/plain": [
       "0"
      ]
     },
     "execution_count": 109,
     "metadata": {},
     "output_type": "execute_result"
    }
   ],
   "source": [
    "len(set(seq_ids) - set(h3k27ac_meanQuantileTag_frame.index.values))"
   ]
  },
  {
   "cell_type": "code",
   "execution_count": 101,
   "metadata": {},
   "outputs": [],
   "source": [
    "positive_seqRecords = list(SeqIO.parse('./merged_veh_kla_il4_peaks_resized.fasta', 'fasta'))\n",
    "positive_seqRecords = [x for x in positive_seqRecords]\n",
    "fasta_seq = [str(x.seq[:200]) for x in positive_seqRecords]\n",
    "\n",
    "fasta_rc_seq = [str(x[:200].reverse_complement().seq) for x in positive_seqRecords ]\n",
    "\n",
    "seq_ids = [x.name for x in positive_seqRecords]\n",
    "\n",
    "sequence_arrays = convert_sequences_to_array(fasta_seq)\n",
    "sequence_arrays = np.array(sequence_arrays)\n",
    "\n",
    "sequence_rc_arrays = convert_sequences_to_array(fasta_rc_seq)\n",
    "sequence_rc_arrays = np.array(sequence_rc_arrays)\n",
    "\n",
    "index_seqArray_dict = dict(zip(seq_ids, zip(sequence_arrays, sequence_rc_arrays)))"
   ]
  },
  {
   "cell_type": "code",
   "execution_count": 128,
   "metadata": {},
   "outputs": [
    {
     "data": {
      "text/plain": [
       "Index(['il4-24h', 'kla-1h', 'veh'], dtype='object')"
      ]
     },
     "execution_count": 128,
     "metadata": {},
     "output_type": "execute_result"
    }
   ],
   "source": [
    "h3k27ac_meanQuantileTag_frame.columns"
   ]
  },
  {
   "cell_type": "code",
   "execution_count": 1150,
   "metadata": {},
   "outputs": [],
   "source": [
    "treatment = 'kla-1h'\n",
    "# treatment = 'veh'\n",
    "# labels = np.log2((h3k27ac_meanQuantileTag_frame.loc[seq_ids,treatment] + 1)/\n",
    "#                  (h3k27ac_meanQuantileTag_frame.loc[seq_ids,'veh'] + 1)).values\n",
    "# labels = ((h3k27ac_meanQuantileTag_frame.loc[seq_ids,treatment] + 1)/\n",
    "#          (h3k27ac_meanQuantileTag_frame.loc[seq_ids,'veh'] + 1)).values\n",
    "# labels = np.log2(h3k27ac_meanQuantileTag_frame.loc[seq_ids, treatment] + 1)\n",
    "labels = np.log2(h3k27ac_meanTag_frame.loc[seq_ids, treatment] + 1)\n",
    "# labels = h3k27ac_meanTag_frame.loc[seq_ids, treatment]\n",
    "\n",
    "x_train, x_test, x_rc_train, x_rc_test, y_train, y_test = model_selection.train_test_split(sequence_arrays, sequence_rc_arrays, labels, test_size=0.2)\n"
   ]
  },
  {
   "cell_type": "markdown",
   "metadata": {},
   "source": [
    "## Additive Attention"
   ]
  },
  {
   "cell_type": "code",
   "execution_count": 1177,
   "metadata": {},
   "outputs": [],
   "source": [
    "def get_additiveAttention_regression_model(total_seq_length,\n",
    "                        num_classes = 2,\n",
    "                        num_motifs=32, \n",
    "                        motif_size=10,\n",
    "                        adjacent_bp_pool_size=10,\n",
    "                        attention_dim=32,\n",
    "                        attention_hops=1,\n",
    "                        num_dense_neurons=32,\n",
    "                        dropout_rate=0.5):\n",
    "    input_fwd = Input(shape=(total_seq_length,4), name='input_fwd')\n",
    "    input_rev = Input(shape=(total_seq_length,4), name='input_rev')\n",
    "\n",
    "    ### find motifs ###\n",
    "    convolution_layer = Conv1D(filters=num_motifs, \n",
    "        kernel_size=motif_size,\n",
    "        activation='relu',\n",
    "        input_shape=(total_seq_length,4),\n",
    "        name='convolution_layer',\n",
    "        padding = 'same'\n",
    "        )\n",
    "    forward_motif_scores = convolution_layer(input_fwd)\n",
    "    ### attention tanh layer ###\n",
    "    attention_tanh_layer = Dense(attention_dim,\n",
    "        activation='tanh',\n",
    "        use_bias=False,\n",
    "        name = 'attention_tanh_layer')\n",
    "    attention_tanh_layer_out = attention_tanh_layer(forward_motif_scores)\n",
    "\n",
    "    ### outer layer ###\n",
    "    attention_outer_layer = Dense(attention_hops,\n",
    "        activation='linear',\n",
    "        use_bias=False,\n",
    "        name = 'attention_outer_layer')\n",
    "    attention_outer_layer_out = attention_outer_layer(attention_tanh_layer_out)\n",
    "\n",
    "    \n",
    "    ### apply softmax ###\n",
    "    softmax_layer = Softmax(axis=1, name='attention_softmax_layer')\n",
    "    attention_softmax_layer_out = softmax_layer(attention_outer_layer_out)\n",
    "\n",
    "    ### attention dropout ###\n",
    "    attention_dropout_layer = Dropout(dropout_rate, name='attention_dropout')\n",
    "    attention_dropout_layer_out = attention_dropout_layer(attention_softmax_layer_out)\n",
    "    \n",
    "    ### attend to hidden states ###\n",
    "    attending_layer = Dot(axes=(1,1),\n",
    "        name='attending_layer')\n",
    "\n",
    "    attended_states = attending_layer([attention_dropout_layer_out, forward_motif_scores])\n",
    "\n",
    "    ### fully connected layer ###\n",
    "    dense_layer = Dense(num_dense_neurons, \n",
    "        activation='relu', \n",
    "        name = 'dense_layer'\n",
    "        )\n",
    "\n",
    "    dense_output = dense_layer(attended_states)\n",
    "    \n",
    "    # drop out\n",
    "    drop_out = Dropout(dropout_rate,name='dense_dropout')(dense_output)\n",
    "    \n",
    "    # make prediction\n",
    "    flattened = Flatten(name='flatten')(drop_out)\n",
    "    \n",
    "    predictions = Dense(num_classes,\n",
    "                        name='predictions',\n",
    "                        activation = 'linear', \n",
    "                       )(flattened)\n",
    "    \n",
    "    # define and compile model\n",
    "    model = Model(inputs=[input_fwd, input_rev], outputs=predictions)\n",
    "\n",
    "    model.compile(loss=keras.losses.mean_squared_logarithmic_error,\n",
    "                  optimizer=keras.optimizers.RMSprop(),\n",
    "                  metrics=[pearson_correlation])\n",
    "    return model"
   ]
  },
  {
   "cell_type": "code",
   "execution_count": 1179,
   "metadata": {
    "scrolled": true
   },
   "outputs": [],
   "source": [
    "additiveProductAttention_regression_model = get_additiveAttention_regression_model(\n",
    "    200,\n",
    "    num_classes = 1,\n",
    "    num_motifs=150, \n",
    "    motif_size=10,\n",
    "    adjacent_bp_pool_size=10,\n",
    "    attention_dim=10,\n",
    "    attention_hops=1,\n",
    "    num_dense_neurons=50,\n",
    "    dropout_rate=0.1)"
   ]
  },
  {
   "cell_type": "code",
   "execution_count": 1180,
   "metadata": {},
   "outputs": [
    {
     "name": "stdout",
     "output_type": "stream",
     "text": [
      "__________________________________________________________________________________________________\n",
      "Layer (type)                    Output Shape         Param #     Connected to                     \n",
      "==================================================================================================\n",
      "input_fwd (InputLayer)          (None, 200, 4)       0                                            \n",
      "__________________________________________________________________________________________________\n",
      "convolution_layer (Conv1D)      (None, 200, 150)     6150        input_fwd[0][0]                  \n",
      "__________________________________________________________________________________________________\n",
      "attention_tanh_layer (Dense)    (None, 200, 10)      1500        convolution_layer[0][0]          \n",
      "__________________________________________________________________________________________________\n",
      "attention_outer_layer (Dense)   (None, 200, 1)       10          attention_tanh_layer[0][0]       \n",
      "__________________________________________________________________________________________________\n",
      "attention_softmax_layer (Softma (None, 200, 1)       0           attention_outer_layer[0][0]      \n",
      "__________________________________________________________________________________________________\n",
      "attention_dropout (Dropout)     (None, 200, 1)       0           attention_softmax_layer[0][0]    \n",
      "__________________________________________________________________________________________________\n",
      "attending_layer (Dot)           (None, 1, 150)       0           attention_dropout[0][0]          \n",
      "                                                                 convolution_layer[0][0]          \n",
      "__________________________________________________________________________________________________\n",
      "dense_layer (Dense)             (None, 1, 50)        7550        attending_layer[0][0]            \n",
      "__________________________________________________________________________________________________\n",
      "dense_dropout (Dropout)         (None, 1, 50)        0           dense_layer[0][0]                \n",
      "__________________________________________________________________________________________________\n",
      "flatten (Flatten)               (None, 50)           0           dense_dropout[0][0]              \n",
      "__________________________________________________________________________________________________\n",
      "predictions (Dense)             (None, 1)            51          flatten[0][0]                    \n",
      "==================================================================================================\n",
      "Total params: 15,261\n",
      "Trainable params: 15,261\n",
      "Non-trainable params: 0\n",
      "__________________________________________________________________________________________________\n"
     ]
    }
   ],
   "source": [
    "additiveProductAttention_regression_model.summary()"
   ]
  },
  {
   "cell_type": "code",
   "execution_count": 1181,
   "metadata": {},
   "outputs": [
    {
     "data": {
      "text/plain": [
       "15261"
      ]
     },
     "execution_count": 1181,
     "metadata": {},
     "output_type": "execute_result"
    }
   ],
   "source": [
    "additiveProductAttention_regression_model.count_params()"
   ]
  },
  {
   "cell_type": "code",
   "execution_count": null,
   "metadata": {},
   "outputs": [
    {
     "name": "stdout",
     "output_type": "stream",
     "text": [
      "Train on 36295 samples, validate on 9074 samples\n",
      "Epoch 1/10\n",
      "36295/36295 [==============================] - 10s 289us/step - loss: 0.1017 - pearson_correlation: 0.4873 - val_loss: 0.1182 - val_pearson_correlation: 0.4933\n",
      "Epoch 2/10\n",
      "36295/36295 [==============================] - 10s 284us/step - loss: 0.1009 - pearson_correlation: 0.4911 - val_loss: 0.1131 - val_pearson_correlation: 0.4990\n",
      "Epoch 3/10\n",
      "36295/36295 [==============================] - 10s 289us/step - loss: 0.1000 - pearson_correlation: 0.4983 - val_loss: 0.1026 - val_pearson_correlation: 0.5016\n",
      "Epoch 4/10\n",
      "19840/36295 [===============>..............] - ETA: 4s - loss: 0.0988 - pearson_correlation: 0.5000"
     ]
    }
   ],
   "source": [
    "additiveProductAttention_regression_model.fit([x_train, x_rc_train], y_train,\n",
    "              batch_size=64,\n",
    "              epochs=10,\n",
    "              verbose=1,\n",
    "              validation_data=([x_test, x_rc_test], y_test))\n",
    "\n"
   ]
  },
  {
   "cell_type": "code",
   "execution_count": 1156,
   "metadata": {},
   "outputs": [
    {
     "name": "stdout",
     "output_type": "stream",
     "text": [
      "(0.5615687447960093, 0.0)\n",
      "(0.5600446831691726, 0.0)\n",
      "(0.31161680425863714, 0.0)\n"
     ]
    }
   ],
   "source": [
    "print(scipy.stats.pearsonr(labels, predictions.flatten()))\n",
    "print(scipy.stats.pearsonr(np.log2(labels+1), np.log2(predictions.flatten()+1)))\n",
    "print(scipy.stats.pearsonr(np.exp2(labels), np.exp2(predictions.flatten())))\n",
    "\n",
    "\n",
    "\n"
   ]
  },
  {
   "cell_type": "code",
   "execution_count": 1157,
   "metadata": {},
   "outputs": [
    {
     "name": "stderr",
     "output_type": "stream",
     "text": [
      "/home/jtao/software/anaconda3/lib/python3.5/site-packages/numpy/ma/core.py:6434: MaskedArrayFutureWarning: In the future the default for ma.maximum.reduce will be axis=0, not the current None, to match np.maximum.reduce. Explicitly pass 0 or None to silence this warning.\n",
      "  return self.reduce(a)\n",
      "/home/jtao/software/anaconda3/lib/python3.5/site-packages/numpy/ma/core.py:6434: MaskedArrayFutureWarning: In the future the default for ma.minimum.reduce will be axis=0, not the current None, to match np.minimum.reduce. Explicitly pass 0 or None to silence this warning.\n",
      "  return self.reduce(a)\n"
     ]
    },
    {
     "data": {
      "text/plain": [
       "<matplotlib.text.Text at 0x7f24a8eb40f0>"
      ]
     },
     "execution_count": 1157,
     "metadata": {},
     "output_type": "execute_result"
    },
    {
     "data": {
      "image/png": "[encoded data removed]",
      "text/plain": [
       "<matplotlib.figure.Figure at 0x7f24a9545eb8>"
      ]
     },
     "metadata": {},
     "output_type": "display_data"
    }
   ],
   "source": [
    "predictions = additiveProductAttention_regression_model.predict([sequence_arrays, sequence_rc_arrays])\n",
    "\n",
    "pearson, _ = scipy.stats.pearsonr(labels, predictions.flatten())\n",
    "sns.kdeplot(labels, predictions.flatten(), shade = True)\n",
    "plt.gca().set_aspect(1)\n",
    "plt.xlabel('True')\n",
    "plt.ylabel('Predictions')\n",
    "plt.title(treatment + ', Additive Attention Model, Pearson='+str(np.round(pearson,3)))"
   ]
  },
  {
   "cell_type": "markdown",
   "metadata": {},
   "source": [
    "## Dot Product Attention"
   ]
  },
  {
   "cell_type": "code",
   "execution_count": 1158,
   "metadata": {},
   "outputs": [],
   "source": [
    "def root_mean_squared_log_error(y_true, y_pred):\n",
    "        return K.sqrt(K.mean(K.square(K.log(y_pred + 1) - K.log(y_true + 1)), axis=-1)) "
   ]
  },
  {
   "cell_type": "code",
   "execution_count": 1159,
   "metadata": {},
   "outputs": [],
   "source": [
    "def root_mean_squared_error(y_true, y_pred):\n",
    "        return K.sqrt(K.mean(K.square(y_pred - y_true), axis=-1)) "
   ]
  },
  {
   "cell_type": "code",
   "execution_count": 1160,
   "metadata": {},
   "outputs": [],
   "source": [
    "def pearson_correlation(y_true, y_pred):\n",
    "    mean_true = tf.reduce_mean(y_true)\n",
    "    mean_pred = tf.reduce_mean(y_pred)\n",
    "    diff_true = y_true - mean_true\n",
    "    diff_pred = y_pred - mean_pred\n",
    "    \n",
    "    \n",
    "    diff_true_squared = tf.sqrt(tf.reduce_sum(tf.square(y_true - mean_true)))\n",
    "    diff_pred_squared = tf.sqrt(tf.reduce_sum(tf.square(y_pred - mean_pred)))\n",
    "    correlation = tf.reduce_sum(diff_true * diff_pred)/(diff_true_squared * diff_pred_squared)\n",
    "    return correlation\n",
    "    \n"
   ]
  },
  {
   "cell_type": "code",
   "execution_count": 1161,
   "metadata": {},
   "outputs": [],
   "source": [
    "def element_multiply (x,y):\n",
    "    x_shape = []\n",
    "    for i, s in zip(K.int_shape(x), tf.unstack(tf.shape(x))):\n",
    "        if i is not None:\n",
    "            x_shape.append(i)\n",
    "        else:\n",
    "            x_shape.append(s)\n",
    "    x_shape = tuple(x_shape)\n",
    "    y_shape = []\n",
    "    for i, s in zip(K.int_shape(y), tf.unstack(tf.shape(y))):\n",
    "        if i is not None:\n",
    "            y_shape.append(i)\n",
    "        else:\n",
    "            y_shape.append(s)\n",
    "    y_shape = tuple(y_shape)\n",
    "\n",
    "    xt = tf.reshape(x, [-1, x_shape[-1],1])\n",
    "    yt = tf.reshape(y, [y_shape[-2],1])\n",
    "\n",
    "    return tf.multiply(xt,yt)\n",
    "\n",
    "class Projection(Layer):\n",
    "    \"\"\"\n",
    "    Learn linear transform of imput tensor\n",
    "    \"\"\"\n",
    "    def __init__(self, units,\n",
    "                 kernel_initializer='glorot_uniform',\n",
    "                 kernel_constraint=None,\n",
    "                 **kwargs):\n",
    "        if 'input_shape' not in kwargs and 'input_dim' in kwargs:\n",
    "            kwargs['input_shape'] = (kwargs.pop('input_dim'),)\n",
    "        super(Projection, self).__init__(**kwargs)\n",
    "        self.units = units\n",
    "        self.activation = activations.tanh\n",
    "        self.kernel_initializer = initializers.get(kernel_initializer)\n",
    "        self.kernel_constraint = constraints.get(kernel_constraint)\n",
    "        self.input_spec = InputSpec(min_ndim=2)\n",
    "        self.supports_masking = True\n",
    "\n",
    "    def build(self, input_shape):\n",
    "        assert len(input_shape) >= 2\n",
    "        input_dim = input_shape[-1]\n",
    "\n",
    "        self.kernel = self.add_weight(shape=(input_dim, self.units),\n",
    "                                      initializer=self.kernel_initializer,\n",
    "                                      name='kernel',\n",
    "                                      constraint=self.kernel_constraint)\n",
    "\n",
    "        self.input_spec = InputSpec(min_ndim=2, axes={-1: input_dim})\n",
    "        self.built = True\n",
    "\n",
    "    \n",
    "    def call(self, inputs):\n",
    "        output = element_multiply(inputs, self.kernel)\n",
    "        output = self.activation(output)\n",
    "        \n",
    "        return output"
   ]
  },
  {
   "cell_type": "code",
   "execution_count": 1162,
   "metadata": {
    "scrolled": true
   },
   "outputs": [],
   "source": [
    "def get_dotProductAttention_regression_model(total_seq_length,\n",
    "    num_classes = 1,\n",
    "    seq_size=150,\n",
    "    num_motifs=150, \n",
    "    motif_size=10,\n",
    "    adjacent_bp_pool_size=10,\n",
    "    num_dense_neurons=50,\n",
    "    dropout_rate=0.75):\n",
    "    input_fwd = Input(shape=(total_seq_length,4), name='input_fwd')\n",
    "    input_rev = Input(shape=(total_seq_length,4), name='input_rev')\n",
    "\n",
    "    ### find motifs ###\n",
    "    convolution_layer = Conv1D(filters=num_motifs, \n",
    "        kernel_size=motif_size,\n",
    "        activation='relu',\n",
    "        input_shape=(total_seq_length,4),\n",
    "        name='convolution_layer',\n",
    "        padding = 'same'\n",
    "        )\n",
    "    forward_motif_scores = convolution_layer(input_fwd)\n",
    "    reverse_motif_scores = convolution_layer(input_rev)\n",
    "\n",
    "    ### crop motif scores to avoid parts of sequence where motif score is computed in only one direction ###\n",
    "    to_crop = int((total_seq_length - seq_size)/2)\n",
    "    crop_layer = Cropping1D(cropping=(to_crop, to_crop), \n",
    "        name='crop_layer')\n",
    "    cropped_fwd_scores = crop_layer(forward_motif_scores)\n",
    "#     cropped_rev_scores = crop_layer(reverse_motif_scores)\n",
    "\n",
    "    ### flip motif scores ###\n",
    "#     flip_layer = Lambda(lambda x: K.reverse(x,axes=0),\n",
    "#         output_shape=(seq_size, num_motifs),\n",
    "#         name='flip_layer')\n",
    "#     flipped_rev_scores = flip_layer(cropped_rev_scores)\n",
    "\n",
    "    ### concatenate motif scores ###\n",
    "#     concatenate_layer = keras.layers.Concatenate(axis=2, name='concatenate_layer')\n",
    "#     concatenated_motif_scores = concatenate_layer([cropped_fwd_scores, flipped_rev_scores])\n",
    "    concatenated_motif_scores = cropped_fwd_scores\n",
    "    ### pool across length of sequence ###\n",
    "    sequence_pooling_layer = MaxPool1D(pool_size=adjacent_bp_pool_size, \n",
    "        strides=adjacent_bp_pool_size,\n",
    "        name='sequence_pooling_layer')\n",
    "    pooled_scores = sequence_pooling_layer(concatenated_motif_scores)\n",
    "        \n",
    "    ### compute attention ###\n",
    "    ### weight queries ###\n",
    "    query_transformer = TimeDistributed(Projection(units=1), \n",
    "                                        input_shape=(int(seq_size/adjacent_bp_pool_size), num_motifs*2),\n",
    "                                        name='query_transformer'\n",
    "                                       )\n",
    "    weighted_queries = query_transformer(pooled_scores)\n",
    "    \n",
    "    ### weight keys ###\n",
    "    key_transformer = TimeDistributed(Projection(units=1), \n",
    "                                      input_shape=(int(seq_size/adjacent_bp_pool_size), num_motifs*2),\n",
    "                                      name = 'key_transformer')\n",
    "    weighted_keys = key_transformer(pooled_scores)\n",
    "    \n",
    "    dot_product = Dot(axes=(2,2),name='dot_product')\n",
    "    attention_weights = dot_product([weighted_queries, weighted_keys])\n",
    "\n",
    "    ### apply softmax ###\n",
    "    softmax_layer = Softmax(axis=1, name='attention_softmax_layer')\n",
    "    attention_softmax_layer_out = softmax_layer(attention_weights)\n",
    "    \n",
    "    attention_dropout_layer = Dropout(dropout_rate, name='attention_dropout')\n",
    "    attention_dropout_layer_out = attention_dropout_layer(attention_softmax_layer_out)\n",
    "    \n",
    "    ### weight values ###\n",
    "    value_transformer = TimeDistributed(Projection(units=1), \n",
    "                                        input_shape=(int(seq_size/adjacent_bp_pool_size), num_motifs*2),\n",
    "                                        name='value_transformer'\n",
    "                                       )\n",
    "    \n",
    "    weighted_values = value_transformer(pooled_scores)\n",
    "    \n",
    "    ### attend to hidden states ###\n",
    "    attending_layer = Dot(axes=(1,1),\n",
    "        name='attending_layer')\n",
    "    attended_states = attending_layer([attention_dropout_layer_out, weighted_values])\n",
    "    \n",
    "    ### fully connected layer ###\n",
    "    dense_layer = Dense(num_dense_neurons, \n",
    "        activation='tanh', \n",
    "        name = 'dense_layer'\n",
    "        )\n",
    "\n",
    "    dense_output = dense_layer(attended_states)\n",
    "    \n",
    "    # drop out\n",
    "    drop_out = Dropout(dropout_rate,name='dense_dropout')(dense_output)\n",
    "    \n",
    "    # make prediction\n",
    "    flattened = Flatten(name='flatten')(drop_out)\n",
    "    \n",
    "    predictions = Dense(num_classes,\n",
    "                        name='predictions',\n",
    "                        activation = 'relu', \n",
    "                       )(flattened)\n",
    "    \n",
    "    # define and compile model\n",
    "    model = Model(inputs=[input_fwd, input_rev], outputs=predictions)\n",
    "\n",
    "    model.compile(\n",
    "#         loss= root_mean_squared_log_error,\n",
    "#         loss = root_mean_squared_error,\n",
    "        loss=keras.losses.mean_squared_logarithmic_error,\n",
    "        optimizer = keras.optimizers.RMSprop(),\n",
    "        metrics = [pearson_correlation])\n",
    "\n",
    "\n",
    "    return model\n"
   ]
  },
  {
   "cell_type": "code",
   "execution_count": 1163,
   "metadata": {
    "scrolled": true
   },
   "outputs": [],
   "source": [
    "dotProductAttention_regression_model = get_dotProductAttention_regression_model(200,\n",
    "    num_classes = 1,\n",
    "    seq_size=150,\n",
    "    num_motifs=150, \n",
    "    motif_size=10,\n",
    "    adjacent_bp_pool_size=10,\n",
    "    num_dense_neurons=50,\n",
    "    dropout_rate=0.1)"
   ]
  },
  {
   "cell_type": "code",
   "execution_count": 1164,
   "metadata": {
    "scrolled": false
   },
   "outputs": [],
   "source": [
    "# SVG(model_to_dot(dotProductAttention_model, show_shapes=True, show_layer_names=True).create(prog='dot', format='svg'))"
   ]
  },
  {
   "cell_type": "code",
   "execution_count": 1165,
   "metadata": {},
   "outputs": [],
   "source": [
    "# dotProductAttention_regression_model.summary()"
   ]
  },
  {
   "cell_type": "code",
   "execution_count": 1166,
   "metadata": {},
   "outputs": [
    {
     "data": {
      "text/plain": [
       "14901"
      ]
     },
     "execution_count": 1166,
     "metadata": {},
     "output_type": "execute_result"
    }
   ],
   "source": [
    "dotProductAttention_regression_model.count_params()"
   ]
  },
  {
   "cell_type": "code",
   "execution_count": 1167,
   "metadata": {},
   "outputs": [
    {
     "name": "stdout",
     "output_type": "stream",
     "text": [
      "Train on 36295 samples, validate on 9074 samples\n",
      "Epoch 1/10\n",
      "36295/36295 [==============================] - 20s 549us/step - loss: 2.4540 - pearson_correlation: nan - val_loss: 2.4453 - val_pearson_correlation: nan\n",
      "Epoch 2/10\n",
      "36295/36295 [==============================] - 12s 341us/step - loss: 1.6585 - pearson_correlation: nan - val_loss: 0.1388 - val_pearson_correlation: 0.3839\n",
      "Epoch 3/10\n",
      "36295/36295 [==============================] - 12s 343us/step - loss: 0.1145 - pearson_correlation: 0.4072 - val_loss: 0.1109 - val_pearson_correlation: 0.4319\n",
      "Epoch 4/10\n",
      "36295/36295 [==============================] - 12s 342us/step - loss: 0.1107 - pearson_correlation: 0.4429 - val_loss: 0.1300 - val_pearson_correlation: 0.4522\n",
      "Epoch 5/10\n",
      "36295/36295 [==============================] - 12s 342us/step - loss: 0.1086 - pearson_correlation: 0.4573 - val_loss: 0.1085 - val_pearson_correlation: 0.4604\n",
      "Epoch 6/10\n",
      "36295/36295 [==============================] - 12s 342us/step - loss: 0.1073 - pearson_correlation: 0.4676 - val_loss: 0.1303 - val_pearson_correlation: 0.4660\n",
      "Epoch 7/10\n",
      "36295/36295 [==============================] - 12s 342us/step - loss: 0.1055 - pearson_correlation: 0.4784 - val_loss: 0.1048 - val_pearson_correlation: 0.4752\n",
      "Epoch 8/10\n",
      "36295/36295 [==============================] - 12s 340us/step - loss: 0.1030 - pearson_correlation: 0.4888 - val_loss: 0.1044 - val_pearson_correlation: 0.4844\n",
      "Epoch 9/10\n",
      "36295/36295 [==============================] - 12s 341us/step - loss: 0.1014 - pearson_correlation: 0.5011 - val_loss: 0.1102 - val_pearson_correlation: 0.4896\n",
      "Epoch 10/10\n",
      "36295/36295 [==============================] - 12s 340us/step - loss: 0.0999 - pearson_correlation: 0.5079 - val_loss: 0.1016 - val_pearson_correlation: 0.4938\n"
     ]
    },
    {
     "data": {
      "text/plain": [
       "<keras.callbacks.History at 0x7f24a8c1f5f8>"
      ]
     },
     "execution_count": 1167,
     "metadata": {},
     "output_type": "execute_result"
    }
   ],
   "source": [
    "dotProductAttention_regression_model.fit([x_train, x_rc_train], y_train,\n",
    "              batch_size=64,\n",
    "              epochs=10,\n",
    "              verbose=1,\n",
    "              validation_data=([x_test, x_rc_test], y_test))\n",
    "\n"
   ]
  },
  {
   "cell_type": "code",
   "execution_count": 1168,
   "metadata": {},
   "outputs": [
    {
     "name": "stdout",
     "output_type": "stream",
     "text": [
      "(0.5065070685554892, 0.0)\n",
      "(0.48228185409120333, 0.0)\n",
      "(0.3111930918209469, 0.0)\n"
     ]
    }
   ],
   "source": [
    "print(scipy.stats.pearsonr(labels, predictions.flatten()))\n",
    "print(scipy.stats.pearsonr(np.log2(labels+1), np.log2(predictions.flatten()+1)))\n",
    "print(scipy.stats.pearsonr(np.exp2(labels), np.exp2(predictions.flatten())))\n",
    "\n",
    "\n",
    "\n"
   ]
  },
  {
   "cell_type": "code",
   "execution_count": 1176,
   "metadata": {},
   "outputs": [
    {
     "name": "stderr",
     "output_type": "stream",
     "text": [
      "/home/jtao/software/anaconda3/lib/python3.5/site-packages/numpy/ma/core.py:6434: MaskedArrayFutureWarning: In the future the default for ma.maximum.reduce will be axis=0, not the current None, to match np.maximum.reduce. Explicitly pass 0 or None to silence this warning.\n",
      "  return self.reduce(a)\n",
      "/home/jtao/software/anaconda3/lib/python3.5/site-packages/numpy/ma/core.py:6434: MaskedArrayFutureWarning: In the future the default for ma.minimum.reduce will be axis=0, not the current None, to match np.minimum.reduce. Explicitly pass 0 or None to silence this warning.\n",
      "  return self.reduce(a)\n"
     ]
    },
    {
     "data": {
      "text/plain": [
       "<matplotlib.text.Text at 0x7f24a80d7940>"
      ]
     },
     "execution_count": 1176,
     "metadata": {},
     "output_type": "execute_result"
    },
    {
     "data": {
      "image/png": "[encoded data removed]",
      "text/plain": [
       "<matplotlib.figure.Figure at 0x7f24ab4a3898>"
      ]
     },
     "metadata": {},
     "output_type": "display_data"
    }
   ],
   "source": [
    "predictions = dotProductAttention_regression_model.predict([sequence_arrays, sequence_rc_arrays])\n",
    "\n",
    "pearson, _ = scipy.stats.pearsonr(labels, predictions.flatten())\n",
    "sns.kdeplot(labels, predictions.flatten(), shade = True)\n",
    "plt.gca().set_aspect(1)\n",
    "plt.xlabel('True')\n",
    "plt.ylabel('Predictions')\n",
    "plt.title(treatment + ', Attention Model, Pearson='+str(np.round(pearson,3)))"
   ]
  },
  {
   "cell_type": "markdown",
   "metadata": {},
   "source": [
    "## Compare against Convolution"
   ]
  },
  {
   "cell_type": "code",
   "execution_count": 1170,
   "metadata": {},
   "outputs": [],
   "source": [
    "def get_convolution_regression_model(\n",
    "    total_seq_length=200,\n",
    "    seq_size = 150,\n",
    "    num_classes = 1,\n",
    "    num_motifs = 150,\n",
    "    motif_size = 10,\n",
    "    num_dense_neurons = 50, \n",
    "    dropout_rate = 0.75\n",
    "    ):\n",
    "    input_fwd = Input(shape=(total_seq_length,4), name='input_fwd')\n",
    "    input_rev = Input(shape=(total_seq_length,4), name='input_rev')\n",
    "\n",
    "    # find motifs\n",
    "    convolution_layer = Conv1D(filters=num_motifs, \n",
    "        kernel_size=motif_size,\n",
    "        activation='relu',\n",
    "        input_shape=(total_seq_length,4),\n",
    "        name='convolution_layer',\n",
    "        padding = 'same'\n",
    "        )\n",
    "    forward_motif_scores = convolution_layer(input_fwd)\n",
    "    reverse_motif_scores = convolution_layer(input_rev)\n",
    "\n",
    "    # crop motif scores to avoid parts of sequence where motif score is computed in only one direction\n",
    "    to_crop = int((total_seq_length - seq_size)/2)\n",
    "    crop_layer = Cropping1D(cropping=(to_crop, to_crop), \n",
    "        name='crop_layer')\n",
    "    cropped_fwd_scores = crop_layer(forward_motif_scores)\n",
    "    cropped_rev_scores = crop_layer(reverse_motif_scores)\n",
    "\n",
    "    # calculate max scores for each orientation\n",
    "    seq_pool_layer = MaxPool1D(pool_size=seq_size)\n",
    "    max_fwd_scores = seq_pool_layer(cropped_fwd_scores)\n",
    "    max_rev_scores = seq_pool_layer(cropped_rev_scores)\n",
    "\n",
    "    # calculate max score for strand\n",
    "    orientation_max_layer = Maximum()\n",
    "    max_seq_scores = orientation_max_layer([max_fwd_scores, max_rev_scores])\n",
    "\n",
    "    # fully connected layer\n",
    "    dense_out = Dense(num_dense_neurons, activation='relu', \n",
    "                     )(max_seq_scores)\n",
    "\n",
    "    # drop out\n",
    "    drop_out = Dropout(dropout_rate)(dense_out)\n",
    "\n",
    "    # make prediction\n",
    "    flattened = Flatten()(drop_out)\n",
    "    predictions = Dense(num_classes,\n",
    "                        activation = 'relu', \n",
    "                       )(flattened)\n",
    "    \n",
    "    # define and compile model\n",
    "    convolution_model = Model(inputs=[input_fwd, input_rev], outputs=predictions)\n",
    "    convolution_model.compile(loss=keras.losses.mean_squared_logarithmic_error,\n",
    "                  optimizer = keras.optimizers.RMSprop(),\n",
    "                  metrics = [pearson_correlation])\n",
    "    return convolution_model"
   ]
  },
  {
   "cell_type": "code",
   "execution_count": 1171,
   "metadata": {},
   "outputs": [],
   "source": [
    "convolution_regression_model = get_convolution_regression_model(200,\n",
    "    num_classes = 1,\n",
    "    seq_size=150,\n",
    "    num_motifs=150, \n",
    "    motif_size=24,\n",
    "    num_dense_neurons=50,\n",
    "    dropout_rate=0.75)"
   ]
  },
  {
   "cell_type": "code",
   "execution_count": 1172,
   "metadata": {},
   "outputs": [
    {
     "data": {
      "text/plain": [
       "22151"
      ]
     },
     "execution_count": 1172,
     "metadata": {},
     "output_type": "execute_result"
    }
   ],
   "source": [
    "convolution_regression_model.count_params()"
   ]
  },
  {
   "cell_type": "code",
   "execution_count": 1173,
   "metadata": {},
   "outputs": [
    {
     "name": "stdout",
     "output_type": "stream",
     "text": [
      "Train on 36295 samples, validate on 9074 samples\n",
      "Epoch 1/10\n",
      " - 24s - loss: 0.2723 - pearson_correlation: 0.1129 - val_loss: 0.1197 - val_pearson_correlation: 0.4384\n",
      "Epoch 2/10\n",
      " - 14s - loss: 0.1984 - pearson_correlation: 0.2158 - val_loss: 0.1070 - val_pearson_correlation: 0.4841\n",
      "Epoch 3/10\n",
      " - 15s - loss: 0.1557 - pearson_correlation: 0.2909 - val_loss: 0.1004 - val_pearson_correlation: 0.4971\n",
      "Epoch 4/10\n",
      " - 14s - loss: 0.1319 - pearson_correlation: 0.3401 - val_loss: 0.1002 - val_pearson_correlation: 0.5075\n",
      "Epoch 5/10\n",
      " - 14s - loss: 0.1167 - pearson_correlation: 0.3899 - val_loss: 0.1042 - val_pearson_correlation: 0.5052\n",
      "Epoch 6/10\n",
      " - 18s - loss: 0.1081 - pearson_correlation: 0.4284 - val_loss: 0.1021 - val_pearson_correlation: 0.5139\n",
      "Epoch 7/10\n",
      " - 15s - loss: 0.1025 - pearson_correlation: 0.4655 - val_loss: 0.0997 - val_pearson_correlation: 0.5096\n",
      "Epoch 8/10\n",
      " - 14s - loss: 0.0992 - pearson_correlation: 0.4857 - val_loss: 0.1011 - val_pearson_correlation: 0.5147\n",
      "Epoch 9/10\n",
      " - 15s - loss: 0.0971 - pearson_correlation: 0.5021 - val_loss: 0.0993 - val_pearson_correlation: 0.5091\n",
      "Epoch 10/10\n",
      " - 16s - loss: 0.0952 - pearson_correlation: 0.5189 - val_loss: 0.1068 - val_pearson_correlation: 0.5044\n"
     ]
    },
    {
     "data": {
      "text/plain": [
       "<keras.callbacks.History at 0x7f24a85a4a58>"
      ]
     },
     "execution_count": 1173,
     "metadata": {},
     "output_type": "execute_result"
    }
   ],
   "source": [
    "convolution_regression_model.fit([x_train, x_rc_train], y_train,\n",
    "      batch_size=64,\n",
    "      epochs=10,\n",
    "      verbose=2,\n",
    "      validation_data=([x_test, x_rc_test], y_test))"
   ]
  },
  {
   "cell_type": "code",
   "execution_count": 1174,
   "metadata": {},
   "outputs": [
    {
     "name": "stderr",
     "output_type": "stream",
     "text": [
      "/home/jtao/software/anaconda3/lib/python3.5/site-packages/numpy/ma/core.py:6434: MaskedArrayFutureWarning: In the future the default for ma.maximum.reduce will be axis=0, not the current None, to match np.maximum.reduce. Explicitly pass 0 or None to silence this warning.\n",
      "  return self.reduce(a)\n",
      "/home/jtao/software/anaconda3/lib/python3.5/site-packages/numpy/ma/core.py:6434: MaskedArrayFutureWarning: In the future the default for ma.minimum.reduce will be axis=0, not the current None, to match np.minimum.reduce. Explicitly pass 0 or None to silence this warning.\n",
      "  return self.reduce(a)\n"
     ]
    },
    {
     "data": {
      "text/plain": [
       "<matplotlib.text.Text at 0x7f24a873f7f0>"
      ]
     },
     "execution_count": 1174,
     "metadata": {},
     "output_type": "execute_result"
    },
    {
     "data": {
      "image/png": "[encoded data removed]",
      "text/plain": [
       "<matplotlib.figure.Figure at 0x7f24a86cada0>"
      ]
     },
     "metadata": {},
     "output_type": "display_data"
    }
   ],
   "source": [
    "predictions = convolution_regression_model.predict([sequence_arrays, sequence_rc_arrays])\n",
    "\n",
    "pearson, _ = scipy.stats.pearsonr(labels, predictions.flatten())\n",
    "sns.kdeplot(labels, predictions.flatten(), shade = True)\n",
    "plt.gca().set_aspect(1)\n",
    "plt.xlabel('True')\n",
    "plt.ylabel('Predictions')\n",
    "plt.title(treatment + ' Convolution, Pearson='+str(np.round(pearson,3)))"
   ]
  },
  {
   "cell_type": "markdown",
   "metadata": {},
   "source": [
    "## Compare against Logistic Regression"
   ]
  },
  {
   "cell_type": "code",
   "execution_count": 876,
   "metadata": {},
   "outputs": [],
   "source": [
    "def get_regression_model(\n",
    "    total_seq_length=200,\n",
    "    seq_size = 150,\n",
    "    num_classes = 1,\n",
    "    num_motifs = 150,\n",
    "    motif_size = 10,\n",
    "    ):\n",
    "    input_fwd = Input(shape=(total_seq_length,4), name='input_fwd')\n",
    "    input_rev = Input(shape=(total_seq_length,4), name='input_rev')\n",
    "\n",
    "    # find motifs\n",
    "    regression_layer = Conv1D(filters=num_motifs, \n",
    "        kernel_size=motif_size,\n",
    "        activation='relu',\n",
    "        input_shape=(total_seq_length,4),\n",
    "        name='regression_layer',\n",
    "        padding = 'same'\n",
    "        )\n",
    "    forward_motif_scores = regression_layer(input_fwd)\n",
    "    reverse_motif_scores = regression_layer(input_rev)\n",
    "\n",
    "    # crop motif scores to avoid parts of sequence where motif score is computed in only one direction\n",
    "    to_crop = int((total_seq_length - seq_size)/2)\n",
    "    crop_layer = Cropping1D(cropping=(to_crop, to_crop), \n",
    "        name='crop_layer')\n",
    "    cropped_fwd_scores = crop_layer(forward_motif_scores)\n",
    "    cropped_rev_scores = crop_layer(reverse_motif_scores)\n",
    "\n",
    "    # calculate max scores for each orientation\n",
    "    seq_pool_layer = MaxPool1D(pool_size=seq_size)\n",
    "    max_fwd_scores = seq_pool_layer(cropped_fwd_scores)\n",
    "    max_rev_scores = seq_pool_layer(cropped_rev_scores)\n",
    "\n",
    "    # calculate max score for strand\n",
    "    orientation_max_layer = Maximum()\n",
    "    max_seq_scores = orientation_max_layer([max_fwd_scores, max_rev_scores])\n",
    "\n",
    "    flattened = Flatten()(max_seq_scores)\n",
    "    # fully connected layer\n",
    "    predictions = Dense(num_classes, activation='relu', \n",
    "                     )(flattened)\n",
    "\n",
    "    # define and compile model\n",
    "    regression_model = Model(inputs=[input_fwd, input_rev], outputs=predictions)\n",
    "    regression_model.compile(loss=keras.losses.mean_squared_logarithmic_error,\n",
    "                  optimizer = keras.optimizers.RMSprop(),\n",
    "                  metrics = [pearson_correlation])\n",
    "    return regression_model"
   ]
  },
  {
   "cell_type": "code",
   "execution_count": 877,
   "metadata": {},
   "outputs": [],
   "source": [
    "regression_model = get_regression_model(200,\n",
    "    num_classes = 1,\n",
    "    seq_size=150,\n",
    "    num_motifs=150, \n",
    "    motif_size=24)"
   ]
  },
  {
   "cell_type": "code",
   "execution_count": 878,
   "metadata": {},
   "outputs": [
    {
     "data": {
      "text/plain": [
       "14701"
      ]
     },
     "execution_count": 878,
     "metadata": {},
     "output_type": "execute_result"
    }
   ],
   "source": [
    "regression_model.count_params()"
   ]
  },
  {
   "cell_type": "code",
   "execution_count": 879,
   "metadata": {},
   "outputs": [
    {
     "name": "stdout",
     "output_type": "stream",
     "text": [
      "Train on 36295 samples, validate on 9074 samples\n",
      "Epoch 1/10\n",
      " - 19s - loss: 0.2377 - pearson_correlation: 0.3325 - val_loss: 0.2447 - val_pearson_correlation: 0.3865\n",
      "Epoch 2/10\n",
      " - 14s - loss: 0.2138 - pearson_correlation: 0.4189 - val_loss: 0.2131 - val_pearson_correlation: 0.4042\n",
      "Epoch 3/10\n",
      " - 14s - loss: 0.2072 - pearson_correlation: 0.4492 - val_loss: 0.2601 - val_pearson_correlation: 0.4111\n",
      "Epoch 4/10\n",
      " - 14s - loss: 0.2014 - pearson_correlation: 0.4694 - val_loss: 0.2168 - val_pearson_correlation: 0.4138\n",
      "Epoch 5/10\n",
      " - 14s - loss: 0.1975 - pearson_correlation: 0.4882 - val_loss: 0.2334 - val_pearson_correlation: 0.4157\n",
      "Epoch 6/10\n",
      " - 14s - loss: 0.1933 - pearson_correlation: 0.5043 - val_loss: 0.2171 - val_pearson_correlation: 0.4135\n",
      "Epoch 7/10\n",
      " - 14s - loss: 0.1896 - pearson_correlation: 0.5176 - val_loss: 0.2127 - val_pearson_correlation: 0.4105\n",
      "Epoch 8/10\n",
      " - 14s - loss: 0.1856 - pearson_correlation: 0.5312 - val_loss: 0.2510 - val_pearson_correlation: 0.4086\n",
      "Epoch 9/10\n",
      " - 14s - loss: 0.1826 - pearson_correlation: 0.5443 - val_loss: 0.2133 - val_pearson_correlation: 0.4055\n",
      "Epoch 10/10\n",
      " - 18s - loss: 0.1788 - pearson_correlation: 0.5546 - val_loss: 0.2138 - val_pearson_correlation: 0.3990\n"
     ]
    },
    {
     "data": {
      "text/plain": [
       "<keras.callbacks.History at 0x7f24dc5ccda0>"
      ]
     },
     "execution_count": 879,
     "metadata": {},
     "output_type": "execute_result"
    }
   ],
   "source": [
    "regression_model.fit([x_train, x_rc_train], y_train,\n",
    "      batch_size=64,\n",
    "      epochs=10,\n",
    "      verbose=2,\n",
    "      validation_data=([x_test, x_rc_test], y_test))"
   ]
  },
  {
   "cell_type": "code",
   "execution_count": 880,
   "metadata": {},
   "outputs": [
    {
     "name": "stderr",
     "output_type": "stream",
     "text": [
      "/home/jtao/software/anaconda3/lib/python3.5/site-packages/numpy/ma/core.py:6434: MaskedArrayFutureWarning: In the future the default for ma.maximum.reduce will be axis=0, not the current None, to match np.maximum.reduce. Explicitly pass 0 or None to silence this warning.\n",
      "  return self.reduce(a)\n",
      "/home/jtao/software/anaconda3/lib/python3.5/site-packages/numpy/ma/core.py:6434: MaskedArrayFutureWarning: In the future the default for ma.minimum.reduce will be axis=0, not the current None, to match np.minimum.reduce. Explicitly pass 0 or None to silence this warning.\n",
      "  return self.reduce(a)\n"
     ]
    },
    {
     "data": {
      "text/plain": [
       "<matplotlib.text.Text at 0x7f24dc31f5c0>"
      ]
     },
     "execution_count": 880,
     "metadata": {},
     "output_type": "execute_result"
    },
    {
     "data": {
      "image/png": "[encoded data removed]",
      "text/plain": [
       "<matplotlib.figure.Figure at 0x7f24dc3bd4a8>"
      ]
     },
     "metadata": {},
     "output_type": "display_data"
    }
   ],
   "source": [
    "predictions = regression_model.predict([sequence_arrays, sequence_rc_arrays])\n",
    "\n",
    "pearson, _ = scipy.stats.pearsonr(labels, predictions.flatten())\n",
    "sns.kdeplot(labels, predictions.flatten())\n",
    "plt.gca().set_aspect(1)\n",
    "plt.xlabel('True')\n",
    "plt.ylabel('Predictions')\n",
    "plt.title(treatment + ' Regression, Pearson='+str(np.round(pearson,3)))"
   ]
  },
  {
   "cell_type": "markdown",
   "metadata": {},
   "source": [
    "## Compare against Stranded Convolution"
   ]
  },
  {
   "cell_type": "code",
   "execution_count": 881,
   "metadata": {},
   "outputs": [],
   "source": [
    "def get_stranded_convolution_regression_model(\n",
    "    total_seq_length=200,\n",
    "    seq_size = 150,\n",
    "    num_classes = 1,\n",
    "    num_motifs = 150,\n",
    "    motif_size = 10,\n",
    "    num_dense_neurons = 50, \n",
    "    dropout_rate = 0.75\n",
    "    ):\n",
    "    input_fwd = Input(shape=(total_seq_length,4), name='input_fwd')\n",
    "    input_rev = Input(shape=(total_seq_length,4), name='input_rev')\n",
    "\n",
    "    # find motifs\n",
    "    convolution_layer = Conv1D(filters=num_motifs, \n",
    "        kernel_size=motif_size,\n",
    "        activation='relu',\n",
    "        input_shape=(total_seq_length,4),\n",
    "        name='convolution_layer',\n",
    "        padding = 'same'\n",
    "        )\n",
    "    forward_motif_scores = convolution_layer(input_fwd)\n",
    "    reverse_motif_scores = convolution_layer(input_rev)\n",
    "\n",
    "    # crop motif scores to avoid parts of sequence where motif score is computed in only one direction\n",
    "    to_crop = int((total_seq_length - seq_size)/2)\n",
    "    crop_layer = Cropping1D(cropping=(to_crop, to_crop), \n",
    "        name='crop_layer')\n",
    "    cropped_fwd_scores = crop_layer(forward_motif_scores)\n",
    "    cropped_rev_scores = crop_layer(reverse_motif_scores)\n",
    "\n",
    "    # calculate max scores for each orientation\n",
    "    seq_pool_layer = MaxPool1D(pool_size=seq_size)\n",
    "    max_fwd_scores = seq_pool_layer(cropped_fwd_scores)\n",
    "    max_rev_scores = seq_pool_layer(cropped_rev_scores)\n",
    "\n",
    "    # concatenate scores\n",
    "    concatenate_layer = keras.layers.Concatenate(axis=2, name='concatenate_layer')\n",
    "    concatenated_motif_scores = concatenate_layer([max_fwd_scores, max_rev_scores])\n",
    "\n",
    "    # fully connected layer\n",
    "    dense_out = Dense(num_dense_neurons, activation='relu', \n",
    "                     )(concatenated_motif_scores)\n",
    "\n",
    "    # drop out\n",
    "    drop_out = Dropout(dropout_rate)(dense_out)\n",
    "\n",
    "    # make prediction\n",
    "    flattened = Flatten()(drop_out)\n",
    "    predictions = Dense(num_classes,\n",
    "                        activation = 'relu', \n",
    "                       )(flattened)\n",
    "    \n",
    "    # define and compile model\n",
    "    convolution_model = Model(inputs=[input_fwd, input_rev], outputs=predictions)\n",
    "    convolution_model.compile(loss=keras.losses.mean_squared_logarithmic_error,\n",
    "                  optimizer = keras.optimizers.RMSprop(),\n",
    "                  metrics = [pearson_correlation])\n",
    "    return convolution_model"
   ]
  },
  {
   "cell_type": "code",
   "execution_count": 882,
   "metadata": {},
   "outputs": [],
   "source": [
    "stranded_convolution_regression_model = get_stranded_convolution_regression_model(200,\n",
    "    num_classes = 1,\n",
    "    seq_size=150,\n",
    "    num_motifs=150, \n",
    "    motif_size=24,\n",
    "    num_dense_neurons=50,\n",
    "    dropout_rate=0.75)"
   ]
  },
  {
   "cell_type": "code",
   "execution_count": 883,
   "metadata": {},
   "outputs": [
    {
     "name": "stdout",
     "output_type": "stream",
     "text": [
      "__________________________________________________________________________________________________\n",
      "Layer (type)                    Output Shape         Param #     Connected to                     \n",
      "==================================================================================================\n",
      "input_fwd (InputLayer)          (None, 200, 4)       0                                            \n",
      "__________________________________________________________________________________________________\n",
      "input_rev (InputLayer)          (None, 200, 4)       0                                            \n",
      "__________________________________________________________________________________________________\n",
      "convolution_layer (Conv1D)      (None, 200, 150)     14550       input_fwd[0][0]                  \n",
      "                                                                 input_rev[0][0]                  \n",
      "__________________________________________________________________________________________________\n",
      "crop_layer (Cropping1D)         (None, 150, 150)     0           convolution_layer[0][0]          \n",
      "                                                                 convolution_layer[1][0]          \n",
      "__________________________________________________________________________________________________\n",
      "max_pooling1d_18 (MaxPooling1D) (None, 1, 150)       0           crop_layer[0][0]                 \n",
      "                                                                 crop_layer[1][0]                 \n",
      "__________________________________________________________________________________________________\n",
      "concatenate_layer (Concatenate) (None, 1, 300)       0           max_pooling1d_18[0][0]           \n",
      "                                                                 max_pooling1d_18[1][0]           \n",
      "__________________________________________________________________________________________________\n",
      "dense_30 (Dense)                (None, 1, 50)        15050       concatenate_layer[0][0]          \n",
      "__________________________________________________________________________________________________\n",
      "dropout_13 (Dropout)            (None, 1, 50)        0           dense_30[0][0]                   \n",
      "__________________________________________________________________________________________________\n",
      "flatten_17 (Flatten)            (None, 50)           0           dropout_13[0][0]                 \n",
      "__________________________________________________________________________________________________\n",
      "dense_31 (Dense)                (None, 1)            51          flatten_17[0][0]                 \n",
      "==================================================================================================\n",
      "Total params: 29,651\n",
      "Trainable params: 29,651\n",
      "Non-trainable params: 0\n",
      "__________________________________________________________________________________________________\n"
     ]
    }
   ],
   "source": [
    "stranded_convolution_regression_model.summary()"
   ]
  },
  {
   "cell_type": "code",
   "execution_count": 884,
   "metadata": {},
   "outputs": [
    {
     "data": {
      "text/plain": [
       "29651"
      ]
     },
     "execution_count": 884,
     "metadata": {},
     "output_type": "execute_result"
    }
   ],
   "source": [
    "stranded_convolution_regression_model.count_params()"
   ]
  },
  {
   "cell_type": "code",
   "execution_count": 885,
   "metadata": {},
   "outputs": [
    {
     "name": "stdout",
     "output_type": "stream",
     "text": [
      "Train on 36295 samples, validate on 9074 samples\n",
      "Epoch 1/10\n",
      " - 19s - loss: 0.3708 - pearson_correlation: 0.0793 - val_loss: 0.2604 - val_pearson_correlation: 0.3482\n",
      "Epoch 2/10\n",
      " - 14s - loss: 0.2963 - pearson_correlation: 0.2022 - val_loss: 0.2808 - val_pearson_correlation: 0.3836\n",
      "Epoch 3/10\n",
      " - 14s - loss: 0.2635 - pearson_correlation: 0.2663 - val_loss: 0.2313 - val_pearson_correlation: 0.4118\n",
      "Epoch 4/10\n",
      " - 14s - loss: 0.2437 - pearson_correlation: 0.3133 - val_loss: 0.2101 - val_pearson_correlation: 0.4130\n",
      "Epoch 5/10\n",
      " - 14s - loss: 0.2330 - pearson_correlation: 0.3409 - val_loss: 0.2243 - val_pearson_correlation: 0.4055\n",
      "Epoch 6/10\n",
      " - 14s - loss: 0.2252 - pearson_correlation: 0.3629 - val_loss: 0.2283 - val_pearson_correlation: 0.4176\n",
      "Epoch 7/10\n",
      " - 14s - loss: 0.2191 - pearson_correlation: 0.3855 - val_loss: 0.2118 - val_pearson_correlation: 0.4131\n",
      "Epoch 8/10\n",
      " - 17s - loss: 0.2126 - pearson_correlation: 0.4118 - val_loss: 0.2145 - val_pearson_correlation: 0.4009\n",
      "Epoch 9/10\n",
      " - 14s - loss: 0.2078 - pearson_correlation: 0.4307 - val_loss: 0.2132 - val_pearson_correlation: 0.3998\n",
      "Epoch 10/10\n",
      " - 14s - loss: 0.2032 - pearson_correlation: 0.4493 - val_loss: 0.2154 - val_pearson_correlation: 0.3926\n"
     ]
    },
    {
     "data": {
      "text/plain": [
       "<keras.callbacks.History at 0x7f24dc144a20>"
      ]
     },
     "execution_count": 885,
     "metadata": {},
     "output_type": "execute_result"
    }
   ],
   "source": [
    "stranded_convolution_regression_model.fit([x_train, x_rc_train], y_train,\n",
    "      batch_size=64,\n",
    "      epochs=10,\n",
    "      verbose=2,\n",
    "      validation_data=([x_test, x_rc_test], y_test))"
   ]
  },
  {
   "cell_type": "code",
   "execution_count": 886,
   "metadata": {},
   "outputs": [
    {
     "name": "stderr",
     "output_type": "stream",
     "text": [
      "/home/jtao/software/anaconda3/lib/python3.5/site-packages/numpy/ma/core.py:6434: MaskedArrayFutureWarning: In the future the default for ma.maximum.reduce will be axis=0, not the current None, to match np.maximum.reduce. Explicitly pass 0 or None to silence this warning.\n",
      "  return self.reduce(a)\n",
      "/home/jtao/software/anaconda3/lib/python3.5/site-packages/numpy/ma/core.py:6434: MaskedArrayFutureWarning: In the future the default for ma.minimum.reduce will be axis=0, not the current None, to match np.minimum.reduce. Explicitly pass 0 or None to silence this warning.\n",
      "  return self.reduce(a)\n"
     ]
    },
    {
     "data": {
      "text/plain": [
       "<matplotlib.text.Text at 0x7f24dbe22358>"
      ]
     },
     "execution_count": 886,
     "metadata": {},
     "output_type": "execute_result"
    },
    {
     "data": {
      "image/png": "[encoded data removed]",
      "text/plain": [
       "<matplotlib.figure.Figure at 0x7f24dc2c5e10>"
      ]
     },
     "metadata": {},
     "output_type": "display_data"
    }
   ],
   "source": [
    "predictions = stranded_convolution_regression_model.predict([sequence_arrays, sequence_rc_arrays])\n",
    "\n",
    "pearson, _ = scipy.stats.pearsonr(labels, predictions.flatten())\n",
    "sns.kdeplot(labels, predictions.flatten())\n",
    "plt.gca().set_aspect(1)\n",
    "plt.xlabel('True')\n",
    "plt.ylabel('Predictions')\n",
    "plt.title(treatment + ' Stranded Convolution, Pearson='+str(np.round(pearson,3)))"
   ]
  },
  {
   "cell_type": "code",
   "execution_count": null,
   "metadata": {},
   "outputs": [],
   "source": []
  },
  {
   "cell_type": "code",
   "execution_count": null,
   "metadata": {},
   "outputs": [],
   "source": []
  }
 ],
 "metadata": {
  "kernelspec": {
   "display_name": "Python 3",
   "language": "python",
   "name": "python3"
  },
  "language_info": {
   "codemirror_mode": {
    "name": "ipython",
    "version": 3
   },
   "file_extension": ".py",
   "mimetype": "text/x-python",
   "name": "python",
   "nbconvert_exporter": "python",
   "pygments_lexer": "ipython3",
   "version": "3.5.1"
  }
 },
 "nbformat": 4,
 "nbformat_minor": 1
}
