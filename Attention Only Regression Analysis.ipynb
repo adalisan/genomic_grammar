{
 "cells": [
  {
   "cell_type": "markdown",
   "metadata": {},
   "source": [
    "## Attention Only Analysis"
   ]
  },
  {
   "cell_type": "code",
   "execution_count": 1,
   "metadata": {},
   "outputs": [
    {
     "name": "stderr",
     "output_type": "stream",
     "text": [
      "Using TensorFlow backend.\n"
     ]
    }
   ],
   "source": [
    "from __future__ import print_function\n",
    "import keras\n",
    "from keras.models import Sequential\n",
    "from keras.layers import *\n",
    "from keras.models import Model\n",
    "from keras import backend as K"
   ]
  },
  {
   "cell_type": "code",
   "execution_count": 2,
   "metadata": {},
   "outputs": [],
   "source": [
    "import tensorflow as tf"
   ]
  },
  {
   "cell_type": "code",
   "execution_count": 3,
   "metadata": {},
   "outputs": [],
   "source": [
    "import os\n",
    "import numpy as np\n",
    "import Bio\n",
    "from Bio import SeqIO\n",
    "import seaborn as sns\n",
    "import pandas as pd\n",
    "import Bio.motifs\n",
    "%matplotlib inline\n",
    "from sklearn import model_selection\n",
    "import seaborn as sns\n",
    "from matplotlib import pyplot as plt\n",
    "import sklearn\n",
    "from IPython.display import SVG\n",
    "from keras.utils.vis_utils import model_to_dot\n",
    "import scipy\n",
    "sns.set_context('notebook')"
   ]
  },
  {
   "cell_type": "code",
   "execution_count": 2,
   "metadata": {},
   "outputs": [
    {
     "name": "stdout",
     "output_type": "stream",
     "text": [
      "The autoreload extension is already loaded. To reload it, use:\n",
      "  %reload_ext autoreload\n"
     ]
    }
   ],
   "source": [
    "%load_ext autoreload\n",
    "%autoreload 2"
   ]
  },
  {
   "cell_type": "code",
   "execution_count": 3,
   "metadata": {},
   "outputs": [
    {
     "name": "stderr",
     "output_type": "stream",
     "text": [
      "Using TensorFlow backend.\n"
     ]
    }
   ],
   "source": [
    "from signal_models import *"
   ]
  },
  {
   "cell_type": "code",
   "execution_count": 4,
   "metadata": {},
   "outputs": [],
   "source": [
    "# if not os.path.isdir('/home/jtao/analysis/genomic_grammar_analysis/'):\n",
    "#     os.mkdir('/home/jtao/analysis/genomic_grammar_analysis')\n",
    "# os.chdir('/home/jtao/analysis/genomic_grammar_analysis')"
   ]
  },
  {
   "cell_type": "markdown",
   "metadata": {},
   "source": [
    "## Functions"
   ]
  },
  {
   "cell_type": "code",
   "execution_count": 4,
   "metadata": {},
   "outputs": [],
   "source": [
    "def convert_sequences_to_array(sequences):\n",
    "    '''\n",
    "    inputs: sequence of nucleotides represented as a string composed of A, C, G, T\n",
    "    outputs: a list of numpy array representations of a sequence with:\n",
    "             A = [1, 0, 0, 0]\n",
    "             C = [0, 1, 0, 0]\n",
    "             G = [0, 0, 1, 0]\n",
    "             T = [0, 0, 0, 1]\n",
    "             \n",
    "    '''\n",
    "\n",
    "    nucleotide_array_dict = {'A': [1, 0, 0, 0],\n",
    "                             'C': [0, 1, 0, 0],\n",
    "                             'G': [0, 0, 1, 0],\n",
    "                             'T': [0, 0, 0, 1],\n",
    "                             'N': [0.25,0.25,0.25,0.25]}\n",
    "\n",
    "    sequence_array_list = []\n",
    "    for seq in sequences:\n",
    "        seq_array = []\n",
    "        for nuc in seq:\n",
    "            seq_array.append(nucleotide_array_dict[nuc])\n",
    "        seq_array = np.array(seq_array, dtype=np.float16)\n",
    "        sequence_array_list.append(seq_array)\n",
    "    sequence_array_list = np.array(sequence_array_list,dtype=np.float16)\n",
    "    return sequence_array_list"
   ]
  },
  {
   "cell_type": "code",
   "execution_count": 5,
   "metadata": {},
   "outputs": [],
   "source": [
    "def quantile_normalize_df(df_input):\n",
    "    df = df_input.copy()\n",
    "    #compute rank\n",
    "    dic = {}\n",
    "    for col in df:\n",
    "        dic.update({col : sorted(df[col])})\n",
    "    sorted_df = pd.DataFrame(dic)\n",
    "    rank = sorted_df.mean(axis = 1).tolist()\n",
    "    #sort\n",
    "    for col in df:\n",
    "        t = np.searchsorted(np.sort(df[col]), df[col])\n",
    "        df[col] = [rank[i] for i in t]\n",
    "    return df"
   ]
  },
  {
   "cell_type": "markdown",
   "metadata": {},
   "source": [
    "## Data Processing"
   ]
  },
  {
   "cell_type": "code",
   "execution_count": 21,
   "metadata": {
    "scrolled": true
   },
   "outputs": [
    {
     "name": "stdout",
     "output_type": "stream",
     "text": [
      "\tMax distance to merge: 100 bp\n",
      "\tMerging peaks... \n",
      "\tComparing ./resized_peak_files/c57bl6_veh_peaks.tsv (31553 total) and ./resized_peak_files/c57bl6_veh_peaks.tsv (31553 total)\n",
      "\tComparing ./resized_peak_files/c57bl6_veh_peaks.tsv (31553 total) and ./resized_peak_files/c57bl6_kla-1h_peaks.tsv (21783 total)\n",
      "\tComparing ./resized_peak_files/c57bl6_veh_peaks.tsv (31553 total) and ./resized_peak_files/c57bl6_il4-24h_peaks.tsv (33580 total)\n",
      "\tComparing ./resized_peak_files/c57bl6_kla-1h_peaks.tsv (21783 total) and ./resized_peak_files/c57bl6_veh_peaks.tsv (31553 total)\n",
      "\tComparing ./resized_peak_files/c57bl6_kla-1h_peaks.tsv (21783 total) and ./resized_peak_files/c57bl6_kla-1h_peaks.tsv (21783 total)\n",
      "\tComparing ./resized_peak_files/c57bl6_kla-1h_peaks.tsv (21783 total) and ./resized_peak_files/c57bl6_il4-24h_peaks.tsv (33580 total)\n",
      "\tComparing ./resized_peak_files/c57bl6_il4-24h_peaks.tsv (33580 total) and ./resized_peak_files/c57bl6_veh_peaks.tsv (31553 total)\n",
      "\tComparing ./resized_peak_files/c57bl6_il4-24h_peaks.tsv (33580 total) and ./resized_peak_files/c57bl6_kla-1h_peaks.tsv (21783 total)\n",
      "\tComparing ./resized_peak_files/c57bl6_il4-24h_peaks.tsv (33580 total) and ./resized_peak_files/c57bl6_il4-24h_peaks.tsv (33580 total)\n",
      "\n",
      "./resized_peak_files/c57bl6_veh_peaks.tsv\t./resized_peak_files/c57bl6_kla-1h_peaks.tsv\t./resized_peak_files/c57bl6_il4-24h_peaks.tsv\tTotal\tName\n",
      "\t\tX\t8221\t./resized_peak_files/c57bl6_il4-24h_peaks.tsv\n",
      "\tX\t\t3389\t./resized_peak_files/c57bl6_kla-1h_peaks.tsv\n",
      "\tX\tX\t2275\t./resized_peak_files/c57bl6_kla-1h_peaks.tsv|./resized_peak_files/c57bl6_il4-24h_peaks.tsv\n",
      "X\t\t\t7105\t./resized_peak_files/c57bl6_veh_peaks.tsv\n",
      "X\t\tX\t8329\t./resized_peak_files/c57bl6_veh_peaks.tsv|./resized_peak_files/c57bl6_il4-24h_peaks.tsv\n",
      "X\tX\t\t1364\t./resized_peak_files/c57bl6_veh_peaks.tsv|./resized_peak_files/c57bl6_kla-1h_peaks.tsv\n",
      "X\tX\tX\t14755\t./resized_peak_files/c57bl6_veh_peaks.tsv|./resized_peak_files/c57bl6_kla-1h_peaks.tsv|./resized_peak_files/c57bl6_il4-24h_peaks.tsv\n"
     ]
    }
   ],
   "source": [
    "!mergePeaks -d /home/jtao/analysis/genomic_grammar_analysis/atac_idr_peaks/c57bl6_veh_peaks.tsv /home/jtao/analysis/genomic_grammar_analysis/resized_peak_files/c57bl6_veh_peaks.tsv /home/jtao/analysis/genomic_grammar_analysis/resized_peak_files/c57bl6_kla-1h_peaks.tsv /home/jtao/analysis/genomic_grammar_analysis/resized_peak_files/c57bl6_il4-24h_peaks.tsv > merged_veh_kla_il4_peaks.tsv"
   ]
  },
  {
   "cell_type": "code",
   "execution_count": 98,
   "metadata": {},
   "outputs": [
    {
     "name": "stderr",
     "output_type": "stream",
     "text": [
      "/home/jtao/software/anaconda3/lib/python3.5/site-packages/ipykernel_launcher.py:16: SettingWithCopyWarning: \n",
      "A value is trying to be set on a copy of a slice from a DataFrame.\n",
      "Try using .loc[row_indexer,col_indexer] = value instead\n",
      "\n",
      "See the caveats in the documentation: http://pandas.pydata.org/pandas-docs/stable/indexing.html#indexing-view-versus-copy\n",
      "  app.launch_new_instance()\n",
      "/home/jtao/software/anaconda3/lib/python3.5/site-packages/ipykernel_launcher.py:17: SettingWithCopyWarning: \n",
      "A value is trying to be set on a copy of a slice from a DataFrame.\n",
      "Try using .loc[row_indexer,col_indexer] = value instead\n",
      "\n",
      "See the caveats in the documentation: http://pandas.pydata.org/pandas-docs/stable/indexing.html#indexing-view-versus-copy\n"
     ]
    }
   ],
   "source": [
    "merged_frame = pd.read_csv('/home/jtao/analysis/genomic_grammar_analysis/merged_veh_kla_il4_peaks.tsv', sep='\\t')\n",
    "\n",
    "# filter away peaks in unused chromsomes\n",
    "filtered_frame = merged_frame[\n",
    "             ~(merged_frame['chr'].str.contains('chrY')) & \n",
    "             ~(merged_frame['chr'].str.contains('chrM')) &\n",
    "             ~(merged_frame['chr'].str.contains('random')) &\n",
    "             ~(merged_frame['chr'].str.contains('Un'))]\n",
    "\n",
    "# resize peaks\n",
    "target_peak_size = 200\n",
    "peakCenters = (filtered_frame['start'] + filtered_frame['end']) /2\n",
    "int_peakCenters = np.ceil(peakCenters).astype(int)\n",
    "new_starts = int_peakCenters - int(target_peak_size/2)\n",
    "new_ends = int_peakCenters + int(target_peak_size/2)\n",
    "filtered_frame['start'] = new_starts\n",
    "filtered_frame['end'] = new_ends\n",
    "filtered_frame.to_csv('/home/jtao/analysis/genomic_grammar_analysis/merged_veh_kla_il4_peaks_resized.tsv', sep='\\t', index=False)"
   ]
  },
  {
   "cell_type": "code",
   "execution_count": 99,
   "metadata": {},
   "outputs": [
    {
     "name": "stderr",
     "output_type": "stream",
     "text": [
      "\n",
      "\tConverted 45369 peaks total\n",
      "\n"
     ]
    }
   ],
   "source": [
    "%%bash\n",
    "# extract sequences for analysis\n",
    "pos2bed.pl /home/jtao/analysis/genomic_grammar_analysis/merged_veh_kla_il4_peaks_resized.tsv > /home/jtao/analysis/genomic_grammar_analysis/tmp\n",
    "tail -n +2 /home/jtao/analysis/genomic_grammar_analysis/tmp > /home/jtao/analysis/genomic_grammar_analysis/merged_veh_kla_il4_peaks_resized.bed\n",
    "rm tmp"
   ]
  },
  {
   "cell_type": "code",
   "execution_count": 100,
   "metadata": {},
   "outputs": [
    {
     "name": "stdout",
     "output_type": "stream",
     "text": [
      "reading genome mm10\r\n"
     ]
    }
   ],
   "source": [
    "!/gpfs/data01/glasslab/home/jtao/code/tba/model_training/extract_sequences.py /home/jtao/analysis/genomic_grammar_analysis/merged_veh_kla_il4_peaks_resized.bed mm10 /home/jtao/analysis/genomic_grammar_analysis/merged_veh_kla_il4_peaks_resized.fasta"
   ]
  },
  {
   "cell_type": "code",
   "execution_count": 60,
   "metadata": {
    "scrolled": true
   },
   "outputs": [
    {
     "name": "stdout",
     "output_type": "stream",
     "text": [
      "\n",
      "\tPeak file = merged_veh_kla_il4_peaks_resized.tsv\n",
      "\tGenome = mm10\n",
      "\tOrganism = mouse\n",
      "\tPeak Region set to 500\n",
      "\tTag Directories:\n",
      "\t\t./tag_directories_enhancer_marks/C57Bl6_BMDM_ChIP_H3K27Ac_KLA-1h_BC_16-04-15-rep1\n",
      "\t\t./tag_directories_enhancer_marks/C57Bl6_BMDM_ChIP_H3K27Ac_KLA-1h_BC_16-04-15-rep2\n",
      "\t\t./tag_directories_enhancer_marks/C57Bl6_BMDM_ChIP_H3K27ac_IL4-24h_MAH_l20171004\n",
      "\t\t./tag_directories_enhancer_marks/C57Bl6_BMDM_ChIP_H3K27ac_IL4-24h_MAH_l20171129\n",
      "\t\t./tag_directories_enhancer_marks/C57Bl6_BMDM_ChIP_H3K27ac_Veh_MAH_l20171004/\n",
      "\t\t./tag_directories_enhancer_marks/C57Bl6_BMDM_ChIP_H3K27ac_Veh_MAH_l20171121/\n",
      "\tPeak/BED file conversion summary:\n",
      "\t\tBED/Header formatted lines: 0\n",
      "\t\tpeakfile formatted lines: 45369\n",
      "\t\tDuplicated Peak IDs: 0\n",
      "\n",
      "\tPeak File Statistics:\n",
      "\t\tTotal Peaks: 45369\n",
      "\t\tRedundant Peak IDs: 0\n",
      "\t\tPeaks lacking information: 0 (need at least 5 columns per peak)\n",
      "\t\tPeaks with misformatted coordinates: 0 (should be integer)\n",
      "\t\tPeaks with misformatted strand: 0 (should be either +/- or 0/1)\n",
      "\n",
      "\tPeak file looks good!\n",
      "\n",
      "\tResizing peaks...\n",
      "\tReading Positions...\n",
      "\t-----------------------\n",
      "\tFinding Closest TSS...\n",
      "\tAnnotating:....................\n",
      "\t\tAnnotation\tNumber of peaks\tTotal size (bp)\tLog2 Enrichment\n",
      "\t\t3UTR\t397.0\t19668322\t0.227\n",
      "\t\tmiRNA\t2.0\t20053\t2.532\n",
      "\t\tncRNA\t126.0\t2893366\t1.336\n",
      "\t\tTTS\t580.0\t26128255\t0.364\n",
      "\t\tpseudo\t9.0\t509738\t0.034\n",
      "\t\tExon\t649.0\t33217203\t0.180\n",
      "\t\tIntron\t17593.0\t926318212\t0.139\n",
      "\t\tIntergenic\t14866.0\t1591257167\t-0.885\n",
      "\t\tPromoter\t10725.0\t28309367\t4.457\n",
      "\t\t5UTR\t415.0\t2077761\t3.534\n",
      "\t\tsnoRNA\t0.0\t19\t-15.469\n",
      "\t\trRNA\t7.0\t5631\t6.171\n",
      "\tNOTE: If this part takes more than 2 minutes, there is a good chance\n",
      "\t\tyour machine ran out of memory: consider hitting ctrl+C and rerunning\n",
      "\t\tthe command with \"-noann\"\n",
      "\tTo capture annotation stats in a file, use \"-annStats <filename>\" next time\n",
      "\tAnnotating:....................\n",
      "\t\tAnnotation\tNumber of peaks\tTotal size (bp)\tLog2 Enrichment\n",
      "\t\t3UTR\t397.0\t19668322\t0.228\n",
      "\t\tOther\t82.0\t7166306\t-0.591\n",
      "\t\tRC?\t0.0\t10979\t-15.469\n",
      "\t\tRNA\t1.0\t114021\t-0.975\n",
      "\t\tmiRNA\t2.0\t20053\t2.532\n",
      "\t\tncRNA\t126.0\t2893366\t1.337\n",
      "\t\tTTS\t580.0\t26128255\t0.365\n",
      "\t\tLINE\t1328.0\t521357097\t-2.759\n",
      "\t\tLINE?\t0.0\t8168\t-15.469\n",
      "\t\tsrpRNA\t1.0\t43388\t0.419\n",
      "\t\tSINE\t1172.0\t194261631\t-1.515\n",
      "\t\tRC\t0.0\t65909\t-15.469\n",
      "\t\ttRNA\t24.0\t266920\t2.383\n",
      "\t\tDNA?\t0.0\t142594\t-15.469\n",
      "\t\tpseudo\t9.0\t509738\t0.034\n",
      "\t\tDNA\t294.0\t28414247\t-0.737\n",
      "\t\tExon\t649.0\t33217203\t0.181\n",
      "\t\tIntron\t13853.0\t589127896\t0.448\n",
      "\t\tIntergenic\t11191.0\t801077083\t-0.303\n",
      "\t\tPromoter\t10723.0\t28309367\t4.458\n",
      "\t\t5UTR\t415.0\t2077761\t3.534\n",
      "\t\tsnoRNA\t0.0\t19\t-15.469\n",
      "\t\tLTR?\t4.0\t193659\t0.261\n",
      "\t\tscRNA\t3.0\t579110\t-1.735\n",
      "\t\tCpG-Island\t1343.0\t3345642\t4.541\n",
      "\t\tLow_complexity\t72.0\t18533957\t-2.150\n",
      "\t\tLTR\t2889.0\t293374785\t-0.808\n",
      "\t\tSimple_repeat\t121.0\t55384339\t-2.980\n",
      "\t\tsnRNA\t2.0\t237355\t-1.033\n",
      "\t\tUnknown\t11.0\t1251155\t-0.971\n",
      "\t\tSINE?\t0.0\t29758\t-15.469\n",
      "\t\tSatellite\t49.0\t3706654\t-0.383\n",
      "\t\trRNA\t28.0\t165655\t3.293\n",
      "\tCounting Tags in Peaks from each directory...\n",
      "\tRatio for ./tag_directories_enhancer_marks/C57Bl6_BMDM_ChIP_H3K27Ac_KLA-1h_BC_16-04-15-rep1 : 0.552817695207944\n",
      "\tRatio for ./tag_directories_enhancer_marks/C57Bl6_BMDM_ChIP_H3K27Ac_KLA-1h_BC_16-04-15-rep2 : 0.726581550060016\n",
      "\tRatio for ./tag_directories_enhancer_marks/C57Bl6_BMDM_ChIP_H3K27ac_IL4-24h_MAH_l20171004 : 0.848831655377064\n",
      "\tRatio for ./tag_directories_enhancer_marks/C57Bl6_BMDM_ChIP_H3K27ac_IL4-24h_MAH_l20171129 : 0.656306087508047\n",
      "\tRatio for ./tag_directories_enhancer_marks/C57Bl6_BMDM_ChIP_H3K27ac_Veh_MAH_l20171004/ : 0.678429273409032\n",
      "\tRatio for ./tag_directories_enhancer_marks/C57Bl6_BMDM_ChIP_H3K27ac_Veh_MAH_l20171121/ : 0.713051422273758\n",
      "\tOrganism: mouse\n",
      "\tLoading Gene Informaiton...\n",
      "\tOutputing Annotation File...\n",
      "\tDone annotating peaks file\n",
      "\n"
     ]
    }
   ],
   "source": [
    "!annotatePeaks.pl merged_veh_kla_il4_peaks_resized.tsv mm10 -size 500 -d /home/jtao/analysis/genomic_grammar_analysis/tag_directories_enhancer_marks/*KLA* /home/jtao/analysis/genomic_grammar_analysis/tag_directories_enhancer_marks/*IL4* /home/jtao/analysis/genomic_grammar_analysis/tag_directories_enhancer_marks/*Veh*/ > /home/jtao/analysis/genomic_grammar_analysis/merged_veh_kla_il4_peaks_resized_annotated.tsv"
   ]
  },
  {
   "cell_type": "code",
   "execution_count": 104,
   "metadata": {},
   "outputs": [],
   "source": [
    "# average tag counts from both replicates\n",
    "h3k27ac_tag_frame = pd.read_csv('/home/jtao/analysis/genomic_grammar_analysis/merged_veh_kla_il4_peaks_resized_annotated.tsv', sep = '\\t')\n",
    "\n",
    "h3k27ac_tag_frame.index = h3k27ac_tag_frame['Chr'] + ':' + (h3k27ac_tag_frame['Start'] - 1 +150).astype(str) + '-' + \\\n",
    "    (h3k27ac_tag_frame['End'] -150).astype(str)\n",
    "\n",
    "h3k27ac_tag_frame = h3k27ac_tag_frame[[x for x in h3k27ac_tag_frame.columns.values if 'Tag Count' in x]]\n",
    "columns = [x.split(' ')[0].split('/')[2].lower() for x in h3k27ac_tag_frame.columns.values]\n",
    "columns = [x.split('_')[4] + '_' + x.split('_')[6] for x in columns]\n",
    "h3k27ac_tag_frame.columns = columns\n",
    "\n",
    "h3k27ac_quantileTag_frame = quantile_normalize_df(h3k27ac_tag_frame)\n",
    "\n",
    "treatments = sorted(set([x.split('_')[0] for x in columns]))\n",
    "\n",
    "h3k27ac_meanTag_dict = {}\n",
    "for t in treatments:\n",
    "    h3k27ac_meanTag_dict[t] = h3k27ac_tag_frame[[x for x in h3k27ac_tag_frame.columns if t in x]].mean(axis=1).values\n",
    "h3k27ac_meanTag_frame = pd.DataFrame(h3k27ac_meanTag_dict)\n",
    "h3k27ac_meanTag_frame.index = h3k27ac_tag_frame.index.values\n",
    "\n",
    "h3k27ac_quantileTag_dict = {}\n",
    "for t in treatments:\n",
    "    h3k27ac_quantileTag_dict[t] = h3k27ac_quantileTag_frame[[x for x in h3k27ac_quantileTag_frame.columns if t in x]].mean(axis=1).values\n",
    "h3k27ac_meanQuantileTag_frame = pd.DataFrame(h3k27ac_quantileTag_dict)\n",
    "h3k27ac_meanQuantileTag_frame.index = h3k27ac_quantileTag_frame.index.values"
   ]
  },
  {
   "cell_type": "code",
   "execution_count": 105,
   "metadata": {},
   "outputs": [
    {
     "data": {
      "text/plain": [
       "kla-1h_16-04-15-rep1    24.504577\n",
       "kla-1h_16-04-15-rep2    23.015659\n",
       "il4-24h_l20171004       39.684403\n",
       "il4-24h_l20171129       31.201952\n",
       "veh_l20171004           62.341607\n",
       "veh_l20171121           50.138751\n",
       "dtype: float64"
      ]
     },
     "execution_count": 105,
     "metadata": {},
     "output_type": "execute_result"
    }
   ],
   "source": [
    "h3k27ac_tag_frame.mean()"
   ]
  },
  {
   "cell_type": "code",
   "execution_count": 106,
   "metadata": {},
   "outputs": [
    {
     "data": {
      "text/plain": [
       "kla-1h_16-04-15-rep1    1406.089578\n",
       "kla-1h_16-04-15-rep2    1539.370667\n",
       "il4-24h_l20171004       4754.250734\n",
       "il4-24h_l20171129       2776.557190\n",
       "veh_l20171004           9467.284816\n",
       "veh_l20171121           5291.817536\n",
       "dtype: float64"
      ]
     },
     "execution_count": 106,
     "metadata": {},
     "output_type": "execute_result"
    }
   ],
   "source": [
    "h3k27ac_tag_frame.var()"
   ]
  },
  {
   "cell_type": "code",
   "execution_count": 107,
   "metadata": {},
   "outputs": [
    {
     "data": {
      "text/plain": [
       "il4-24h    38.134231\n",
       "kla-1h     38.048826\n",
       "veh        38.259562\n",
       "dtype: float64"
      ]
     },
     "execution_count": 107,
     "metadata": {},
     "output_type": "execute_result"
    }
   ],
   "source": [
    "h3k27ac_meanQuantileTag_frame.mean()"
   ]
  },
  {
   "cell_type": "code",
   "execution_count": 108,
   "metadata": {},
   "outputs": [
    {
     "data": {
      "text/plain": [
       "il4-24h    3275.454161\n",
       "kla-1h     3344.582430\n",
       "veh        3225.955232\n",
       "dtype: float64"
      ]
     },
     "execution_count": 108,
     "metadata": {},
     "output_type": "execute_result"
    }
   ],
   "source": [
    "h3k27ac_meanQuantileTag_frame.var()"
   ]
  },
  {
   "cell_type": "code",
   "execution_count": 123,
   "metadata": {},
   "outputs": [
    {
     "data": {
      "text/plain": [
       "<matplotlib.legend.Legend at 0x7f2992df7860>"
      ]
     },
     "execution_count": 123,
     "metadata": {},
     "output_type": "execute_result"
    },
    {
     "data": {
      "image/png": "[encoded data removed]",
      "text/plain": [
       "<matplotlib.figure.Figure at 0x7f2992df7668>"
      ]
     },
     "metadata": {},
     "output_type": "display_data"
    }
   ],
   "source": [
    "for treatment in h3k27ac_meanQuantileTag_frame:\n",
    "    sns.distplot(np.log2(h3k27ac_meanQuantileTag_frame[treatment]+ 1) , label = treatment)\n",
    "plt.legend()"
   ]
  },
  {
   "cell_type": "code",
   "execution_count": 127,
   "metadata": {},
   "outputs": [
    {
     "data": {
      "text/plain": [
       "<matplotlib.legend.Legend at 0x7f2997f5e128>"
      ]
     },
     "execution_count": 127,
     "metadata": {},
     "output_type": "execute_result"
    },
    {
     "data": {
      "image/png": "[encoded data removed]",
      "text/plain": [
       "<matplotlib.figure.Figure at 0x7f297ff0e320>"
      ]
     },
     "metadata": {},
     "output_type": "display_data"
    }
   ],
   "source": [
    "for treatment in h3k27ac_meanQuantileTag_frame:\n",
    "    if not treatment == 'veh':\n",
    "        sns.distplot(np.log2((h3k27ac_meanQuantileTag_frame['il4-24h'] + 1) / (h3k27ac_meanQuantileTag_frame['veh'] + 1)),\n",
    "                     label = treatment)\n",
    "plt.legend()\n",
    "\n"
   ]
  },
  {
   "cell_type": "markdown",
   "metadata": {},
   "source": [
    "### Read in Sequence Data"
   ]
  },
  {
   "cell_type": "code",
   "execution_count": 109,
   "metadata": {},
   "outputs": [
    {
     "data": {
      "text/plain": [
       "0"
      ]
     },
     "execution_count": 109,
     "metadata": {},
     "output_type": "execute_result"
    }
   ],
   "source": [
    "len(set(seq_ids) - set(h3k27ac_meanQuantileTag_frame.index.values))"
   ]
  },
  {
   "cell_type": "code",
   "execution_count": 101,
   "metadata": {},
   "outputs": [],
   "source": [
    "positive_seqRecords = list(SeqIO.parse('/home/jtao/analysis/genomic_grammar_analysis/merged_veh_kla_il4_peaks_resized.fasta', 'fasta'))\n",
    "positive_seqRecords = [x for x in positive_seqRecords]\n",
    "fasta_seq = [str(x.seq[:200]) for x in positive_seqRecords]\n",
    "\n",
    "fasta_rc_seq = [str(x[:200].reverse_complement().seq) for x in positive_seqRecords ]\n",
    "\n",
    "seq_ids = [x.name for x in positive_seqRecords]\n",
    "\n",
    "sequence_arrays = convert_sequences_to_array(fasta_seq)\n",
    "sequence_arrays = np.array(sequence_arrays)\n",
    "\n",
    "sequence_rc_arrays = convert_sequences_to_array(fasta_rc_seq)\n",
    "sequence_rc_arrays = np.array(sequence_rc_arrays)\n",
    "\n",
    "index_seqArray_dict = dict(zip(seq_ids, zip(sequence_arrays, sequence_rc_arrays)))"
   ]
  },
  {
   "cell_type": "code",
   "execution_count": 128,
   "metadata": {},
   "outputs": [
    {
     "data": {
      "text/plain": [
       "Index(['il4-24h', 'kla-1h', 'veh'], dtype='object')"
      ]
     },
     "execution_count": 128,
     "metadata": {},
     "output_type": "execute_result"
    }
   ],
   "source": [
    "h3k27ac_meanQuantileTag_frame.columns"
   ]
  },
  {
   "cell_type": "code",
   "execution_count": 1439,
   "metadata": {},
   "outputs": [],
   "source": [
    "pseudocount = 8\n",
    "treatment = 'kla-1h'\n",
    "# treatment = 'veh'\n",
    "# treatment = 'il4-24h'\n",
    "labels = np.log2((h3k27ac_meanQuantileTag_frame.loc[seq_ids,treatment] + pseudocount)/\n",
    "                 (h3k27ac_meanQuantileTag_frame.loc[seq_ids,'veh'] + pseudocount)).values\n",
    "# labels = ((h3k27ac_meanQuantileTag_frame.loc[seq_ids,treatment] + pseudocount)/\n",
    "#          (h3k27ac_meanQuantileTag_frame.loc[seq_ids,'veh'] + pseudocount)).values\n",
    "# labels = np.log2(h3k27ac_meanQuantileTag_frame.loc[seq_ids, treatment] + 1)\n",
    "# labels = np.log2(h3k27ac_meanTag_frame.loc[seq_ids, treatment] + 1)\n",
    "# labels = h3k27ac_meanTag_frame.loc[seq_ids, treatment]\n",
    "\n",
    "x_train, x_test, x_rc_train, x_rc_test, y_train, y_test = model_selection.train_test_split(sequence_arrays, sequence_rc_arrays, labels, test_size=0.2)\n"
   ]
  },
  {
   "cell_type": "code",
   "execution_count": 1440,
   "metadata": {},
   "outputs": [
    {
     "data": {
      "text/plain": [
       "<matplotlib.axes._subplots.AxesSubplot at 0x7f24ae5e0080>"
      ]
     },
     "execution_count": 1440,
     "metadata": {},
     "output_type": "execute_result"
    },
    {
     "data": {
      "image/png": "[encoded data removed]",
      "text/plain": [
       "<matplotlib.figure.Figure at 0x7f24ae5dfe10>"
      ]
     },
     "metadata": {},
     "output_type": "display_data"
    }
   ],
   "source": [
    "sns.distplot(labels)"
   ]
  },
  {
   "cell_type": "markdown",
   "metadata": {},
   "source": [
    "## Additive Attention"
   ]
  },
  {
   "cell_type": "code",
   "execution_count": 1547,
   "metadata": {},
   "outputs": [],
   "source": [
    "del get_additiveAttention_regression_model"
   ]
  },
  {
   "cell_type": "code",
   "execution_count": 2,
   "metadata": {},
   "outputs": [],
   "source": [
    "%load_ext autoreload\n"
   ]
  },
  {
   "cell_type": "code",
   "execution_count": 3,
   "metadata": {},
   "outputs": [],
   "source": [
    "%autoreload 2"
   ]
  },
  {
   "cell_type": "code",
   "execution_count": 4,
   "metadata": {},
   "outputs": [
    {
     "name": "stderr",
     "output_type": "stream",
     "text": [
      "Using TensorFlow backend.\n"
     ]
    }
   ],
   "source": [
    "# os.chdir('/home/jtao/genomic_grammar/')\n",
    "\n",
    "from signal_models import *\n",
    "\n",
    "# os.chdir('/home/jtao/analysis/genomic_grammar_analysis/')"
   ]
  },
  {
   "cell_type": "code",
   "execution_count": 6,
   "metadata": {
    "scrolled": true
   },
   "outputs": [
    {
     "name": "stdout",
     "output_type": "stream",
     "text": [
      "hi\n"
     ]
    }
   ],
   "source": [
    "additiveProductAttention_regression_model = get_additiveAttention_regression_model(\n",
    "    200,\n",
    "    num_classes = 1,\n",
    "    num_motifs=150, \n",
    "    motif_size=10,\n",
    "    adjacent_bp_pool_size=10,\n",
    "    attention_dim=10,\n",
    "    attention_hops=1,\n",
    "    num_dense_neurons=50,\n",
    "    dropout_rate=0.1)"
   ]
  },
  {
   "cell_type": "code",
   "execution_count": 1543,
   "metadata": {},
   "outputs": [
    {
     "name": "stdout",
     "output_type": "stream",
     "text": [
      "__________________________________________________________________________________________________\n",
      "Layer (type)                    Output Shape         Param #     Connected to                     \n",
      "==================================================================================================\n",
      "input_fwd (InputLayer)          (None, 200, 4)       0                                            \n",
      "__________________________________________________________________________________________________\n",
      "convolution_layer (Conv1D)      (None, 200, 150)     6150        input_fwd[0][0]                  \n",
      "__________________________________________________________________________________________________\n",
      "attention_tanh_layer (Dense)    (None, 200, 10)      1500        convolution_layer[0][0]          \n",
      "__________________________________________________________________________________________________\n",
      "attention_outer_layer (Dense)   (None, 200, 1)       10          attention_tanh_layer[0][0]       \n",
      "__________________________________________________________________________________________________\n",
      "attention_softmax_layer (Softma (None, 200, 1)       0           attention_outer_layer[0][0]      \n",
      "__________________________________________________________________________________________________\n",
      "attention_dropout (Dropout)     (None, 200, 1)       0           attention_softmax_layer[0][0]    \n",
      "__________________________________________________________________________________________________\n",
      "attending_layer (Dot)           (None, 1, 150)       0           attention_dropout[0][0]          \n",
      "                                                                 convolution_layer[0][0]          \n",
      "__________________________________________________________________________________________________\n",
      "flatten (Flatten)               (None, 150)          0           attending_layer[0][0]            \n",
      "__________________________________________________________________________________________________\n",
      "predictions (Dense)             (None, 1)            151         flatten[0][0]                    \n",
      "==================================================================================================\n",
      "Total params: 7,811\n",
      "Trainable params: 7,811\n",
      "Non-trainable params: 0\n",
      "__________________________________________________________________________________________________\n"
     ]
    }
   ],
   "source": [
    "additiveProductAttention_regression_model.summary()"
   ]
  },
  {
   "cell_type": "code",
   "execution_count": 1544,
   "metadata": {},
   "outputs": [
    {
     "data": {
      "text/plain": [
       "7811"
      ]
     },
     "execution_count": 1544,
     "metadata": {},
     "output_type": "execute_result"
    }
   ],
   "source": [
    "additiveProductAttention_regression_model.count_params()"
   ]
  },
  {
   "cell_type": "code",
   "execution_count": 1546,
   "metadata": {},
   "outputs": [
    {
     "name": "stdout",
     "output_type": "stream",
     "text": [
      "Train on 36295 samples, validate on 9074 samples\n",
      "Epoch 1/10\n",
      "36295/36295 [==============================] - 11s 316us/step - loss: 0.5300 - pearson_correlation: 0.3301 - val_loss: 0.5413 - val_pearson_correlation: 0.3121\n",
      "Epoch 2/10\n",
      "36295/36295 [==============================] - 11s 292us/step - loss: 0.5293 - pearson_correlation: 0.3365 - val_loss: 0.5531 - val_pearson_correlation: 0.3218\n",
      "Epoch 3/10\n",
      "36295/36295 [==============================] - 11s 297us/step - loss: 0.5274 - pearson_correlation: 0.3435 - val_loss: 0.5348 - val_pearson_correlation: 0.3180\n",
      "Epoch 4/10\n",
      "36295/36295 [==============================] - 11s 294us/step - loss: 0.5263 - pearson_correlation: 0.3489 - val_loss: 0.5405 - val_pearson_correlation: 0.3249\n",
      "Epoch 5/10\n",
      "36295/36295 [==============================] - 11s 293us/step - loss: 0.5249 - pearson_correlation: 0.3539 - val_loss: 0.5433 - val_pearson_correlation: 0.3257\n",
      "Epoch 6/10\n",
      "36295/36295 [==============================] - 11s 293us/step - loss: 0.5240 - pearson_correlation: 0.3559 - val_loss: 0.5430 - val_pearson_correlation: 0.3190\n",
      "Epoch 7/10\n",
      "36295/36295 [==============================] - 11s 291us/step - loss: 0.5230 - pearson_correlation: 0.3613 - val_loss: 0.5364 - val_pearson_correlation: 0.3170\n",
      "Epoch 8/10\n",
      "36295/36295 [==============================] - 11s 292us/step - loss: 0.5219 - pearson_correlation: 0.3643 - val_loss: 0.5569 - val_pearson_correlation: 0.3164\n",
      "Epoch 9/10\n",
      "36295/36295 [==============================] - 11s 293us/step - loss: 0.5213 - pearson_correlation: 0.3673 - val_loss: 0.5446 - val_pearson_correlation: 0.3194\n",
      "Epoch 10/10\n",
      "36295/36295 [==============================] - 11s 294us/step - loss: 0.5195 - pearson_correlation: 0.3708 - val_loss: 0.5369 - val_pearson_correlation: 0.3139\n"
     ]
    },
    {
     "data": {
      "text/plain": [
       "<keras.callbacks.History at 0x7f24a70e3048>"
      ]
     },
     "execution_count": 1546,
     "metadata": {},
     "output_type": "execute_result"
    }
   ],
   "source": [
    "additiveProductAttention_regression_model.fit([x_train, x_rc_train], y_train,\n",
    "              batch_size=64,\n",
    "              epochs=10,\n",
    "              verbose=1,\n",
    "              validation_data=([x_test, x_rc_test], y_test))\n",
    "\n"
   ]
  },
  {
   "cell_type": "code",
   "execution_count": 1450,
   "metadata": {},
   "outputs": [
    {
     "name": "stdout",
     "output_type": "stream",
     "text": [
      "(0.3527602386063607, 0.0)\n",
      "(nan, 1.0)\n",
      "(0.31252842449641977, 0.0)\n"
     ]
    },
    {
     "name": "stderr",
     "output_type": "stream",
     "text": [
      "/home/jtao/software/anaconda3/lib/python3.5/site-packages/ipykernel_launcher.py:4: RuntimeWarning: invalid value encountered in log2\n",
      "  after removing the cwd from sys.path.\n"
     ]
    }
   ],
   "source": [
    "predictions = additiveProductAttention_regression_model.predict([sequence_arrays, sequence_rc_arrays])\n",
    "\n",
    "print(scipy.stats.pearsonr(labels, predictions.flatten()))\n",
    "print(scipy.stats.pearsonr(np.log2(labels+1), np.log2(predictions.flatten()+1)))\n",
    "print(scipy.stats.pearsonr(np.exp2(labels), np.exp2(predictions.flatten())))\n",
    "\n",
    "\n",
    "\n"
   ]
  },
  {
   "cell_type": "code",
   "execution_count": 1398,
   "metadata": {},
   "outputs": [
    {
     "name": "stderr",
     "output_type": "stream",
     "text": [
      "/home/jtao/software/anaconda3/lib/python3.5/site-packages/numpy/ma/core.py:6434: MaskedArrayFutureWarning: In the future the default for ma.maximum.reduce will be axis=0, not the current None, to match np.maximum.reduce. Explicitly pass 0 or None to silence this warning.\n",
      "  return self.reduce(a)\n",
      "/home/jtao/software/anaconda3/lib/python3.5/site-packages/numpy/ma/core.py:6434: MaskedArrayFutureWarning: In the future the default for ma.minimum.reduce will be axis=0, not the current None, to match np.minimum.reduce. Explicitly pass 0 or None to silence this warning.\n",
      "  return self.reduce(a)\n"
     ]
    },
    {
     "data": {
      "text/plain": [
       "<matplotlib.text.Text at 0x7f24b0d2d710>"
      ]
     },
     "execution_count": 1398,
     "metadata": {},
     "output_type": "execute_result"
    },
    {
     "data": {
      "image/png": "[encoded data removed]",
      "text/plain": [
       "<matplotlib.figure.Figure at 0x7f24b13c2278>"
      ]
     },
     "metadata": {},
     "output_type": "display_data"
    }
   ],
   "source": [
    "pearson, _ = scipy.stats.pearsonr(labels, predictions.flatten())\n",
    "sns.kdeplot(labels, predictions.flatten(), shade = True)\n",
    "ax = plt.gca()\n",
    "ax.set_aspect(ax.get_xlim()[1]/ax.get_ylim()[1])\n",
    "plt.xlabel('True')\n",
    "plt.ylabel('Predictions')\n",
    "plt.title(treatment + ', Additive Attention Model, Pearson='+str(np.round(pearson,3)))"
   ]
  },
  {
   "cell_type": "markdown",
   "metadata": {},
   "source": [
    "## Dot Product Attention"
   ]
  },
  {
   "cell_type": "code",
   "execution_count": 12,
   "metadata": {
    "scrolled": true
   },
   "outputs": [],
   "source": [
    "dotProductAttention_regression_model = get_dotProductAttention_regression_model(200,\n",
    "    num_classes = 1,\n",
    "    num_motifs=150, \n",
    "    motif_size=10,\n",
    "    adjacent_bp_pool_size=10,\n",
    "    num_dense_neurons=1,\n",
    "    dropout_rate=0.1)"
   ]
  },
  {
   "cell_type": "code",
   "execution_count": 1536,
   "metadata": {
    "scrolled": false
   },
   "outputs": [],
   "source": [
    "# SVG(model_to_dot(dotProductAttention_model, show_shapes=True, show_layer_names=True).create(prog='dot', format='svg'))"
   ]
  },
  {
   "cell_type": "code",
   "execution_count": 1537,
   "metadata": {},
   "outputs": [],
   "source": [
    "# dotProductAttention_regression_model.summary()"
   ]
  },
  {
   "cell_type": "code",
   "execution_count": 1538,
   "metadata": {},
   "outputs": [
    {
     "data": {
      "text/plain": [
       "9601"
      ]
     },
     "execution_count": 1538,
     "metadata": {},
     "output_type": "execute_result"
    }
   ],
   "source": [
    "dotProductAttention_regression_model.count_params()"
   ]
  },
  {
   "cell_type": "code",
   "execution_count": 1539,
   "metadata": {},
   "outputs": [
    {
     "name": "stdout",
     "output_type": "stream",
     "text": [
      "Train on 36295 samples, validate on 9074 samples\n",
      "Epoch 1/10\n",
      "36295/36295 [==============================] - 20s 562us/step - loss: 0.5372 - pearson_correlation: 0.2475 - val_loss: 0.5282 - val_pearson_correlation: 0.2743\n",
      "Epoch 2/10\n",
      "36295/36295 [==============================] - 10s 271us/step - loss: 0.5261 - pearson_correlation: 0.2824 - val_loss: 0.5231 - val_pearson_correlation: 0.3042\n",
      "Epoch 3/10\n",
      "36295/36295 [==============================] - 10s 269us/step - loss: 0.5182 - pearson_correlation: 0.3086 - val_loss: 0.5361 - val_pearson_correlation: 0.3255\n",
      "Epoch 4/10\n",
      "36295/36295 [==============================] - 10s 263us/step - loss: 0.5115 - pearson_correlation: 0.3295 - val_loss: 0.5195 - val_pearson_correlation: 0.3314\n",
      "Epoch 5/10\n",
      "36295/36295 [==============================] - 10s 268us/step - loss: 0.5058 - pearson_correlation: 0.3454 - val_loss: 0.5402 - val_pearson_correlation: 0.3387\n",
      "Epoch 6/10\n",
      "36295/36295 [==============================] - 10s 269us/step - loss: 0.4991 - pearson_correlation: 0.3610 - val_loss: 0.5030 - val_pearson_correlation: 0.3445\n",
      "Epoch 7/10\n",
      "36295/36295 [==============================] - 10s 268us/step - loss: 0.4942 - pearson_correlation: 0.3739 - val_loss: 0.5004 - val_pearson_correlation: 0.3535\n",
      "Epoch 8/10\n",
      "36295/36295 [==============================] - 10s 265us/step - loss: 0.4883 - pearson_correlation: 0.3878 - val_loss: 0.5002 - val_pearson_correlation: 0.3526\n",
      "Epoch 9/10\n",
      "36295/36295 [==============================] - 10s 267us/step - loss: 0.4844 - pearson_correlation: 0.3975 - val_loss: 0.5016 - val_pearson_correlation: 0.3571\n",
      "Epoch 10/10\n",
      "36295/36295 [==============================] - 9s 261us/step - loss: 0.4801 - pearson_correlation: 0.4052 - val_loss: 0.5015 - val_pearson_correlation: 0.3588\n"
     ]
    },
    {
     "data": {
      "text/plain": [
       "<keras.callbacks.History at 0x7f24d6507748>"
      ]
     },
     "execution_count": 1539,
     "metadata": {},
     "output_type": "execute_result"
    }
   ],
   "source": [
    "dotProductAttention_regression_model.fit([x_train, x_rc_train], y_train,\n",
    "              batch_size=64,\n",
    "              epochs=10,\n",
    "              verbose=1,\n",
    "              validation_data=([x_test, x_rc_test], y_test))\n",
    "\n"
   ]
  },
  {
   "cell_type": "code",
   "execution_count": 1540,
   "metadata": {},
   "outputs": [
    {
     "name": "stdout",
     "output_type": "stream",
     "text": [
      "(0.40847450035783517, 0.0)\n",
      "(nan, 1.0)\n",
      "(0.37890021651000444, 0.0)\n"
     ]
    },
    {
     "name": "stderr",
     "output_type": "stream",
     "text": [
      "/home/jtao/software/anaconda3/lib/python3.5/site-packages/ipykernel_launcher.py:5: RuntimeWarning: invalid value encountered in log2\n",
      "  \"\"\"\n"
     ]
    }
   ],
   "source": [
    "predictions = dotProductAttention_regression_model.predict([sequence_arrays, sequence_rc_arrays])\n",
    "\n",
    "\n",
    "print(scipy.stats.pearsonr(labels, predictions.flatten()))\n",
    "print(scipy.stats.pearsonr(np.log2(labels+1), np.log2(predictions.flatten()+1)))\n",
    "print(scipy.stats.pearsonr(np.exp2(labels), np.exp2(predictions.flatten())))\n",
    "\n",
    "\n",
    "\n"
   ]
  },
  {
   "cell_type": "code",
   "execution_count": 1410,
   "metadata": {},
   "outputs": [
    {
     "name": "stderr",
     "output_type": "stream",
     "text": [
      "/home/jtao/software/anaconda3/lib/python3.5/site-packages/numpy/ma/core.py:6434: MaskedArrayFutureWarning: In the future the default for ma.maximum.reduce will be axis=0, not the current None, to match np.maximum.reduce. Explicitly pass 0 or None to silence this warning.\n",
      "  return self.reduce(a)\n",
      "/home/jtao/software/anaconda3/lib/python3.5/site-packages/numpy/ma/core.py:6434: MaskedArrayFutureWarning: In the future the default for ma.minimum.reduce will be axis=0, not the current None, to match np.minimum.reduce. Explicitly pass 0 or None to silence this warning.\n",
      "  return self.reduce(a)\n"
     ]
    },
    {
     "data": {
      "text/plain": [
       "<matplotlib.text.Text at 0x7f24b0d4fb38>"
      ]
     },
     "execution_count": 1410,
     "metadata": {},
     "output_type": "execute_result"
    },
    {
     "data": {
      "image/png": "[encoded data removed]",
      "text/plain": [
       "<matplotlib.figure.Figure at 0x7f24b0dcb9e8>"
      ]
     },
     "metadata": {},
     "output_type": "display_data"
    }
   ],
   "source": [
    "\n",
    "pearson, _ = scipy.stats.pearsonr(labels, predictions.flatten())\n",
    "sns.kdeplot(labels, predictions.flatten(), shade = True)\n",
    "ax = plt.gca()\n",
    "ax.set_aspect(ax.get_xlim()[1]/ax.get_ylim()[1])\n",
    "plt.xlabel('True')\n",
    "plt.ylabel('Predictions')\n",
    "plt.title(treatment + ', Attention Model, Pearson='+str(np.round(pearson,3)))"
   ]
  },
  {
   "cell_type": "markdown",
   "metadata": {},
   "source": [
    "## Compare against Convolution"
   ]
  },
  {
   "cell_type": "code",
   "execution_count": 1474,
   "metadata": {},
   "outputs": [],
   "source": [
    "convolution_regression_model = get_convolution_regression_model(200,\n",
    "    num_classes = 1,\n",
    "    seq_size=150,\n",
    "    num_motifs=100, \n",
    "    motif_size=24,\n",
    "    num_dense_neurons=50,\n",
    "    dropout_rate=0.75)"
   ]
  },
  {
   "cell_type": "code",
   "execution_count": 1475,
   "metadata": {},
   "outputs": [
    {
     "data": {
      "text/plain": [
       "14801"
      ]
     },
     "execution_count": 1475,
     "metadata": {},
     "output_type": "execute_result"
    }
   ],
   "source": [
    "convolution_regression_model.count_params()"
   ]
  },
  {
   "cell_type": "code",
   "execution_count": 1476,
   "metadata": {},
   "outputs": [
    {
     "name": "stdout",
     "output_type": "stream",
     "text": [
      "Train on 36295 samples, validate on 9074 samples\n",
      "Epoch 1/10\n",
      "36295/36295 [==============================] - 21s 568us/step - loss: 0.5625 - pearson_correlation: 0.1308 - val_loss: 0.5415 - val_pearson_correlation: 0.2577\n",
      "Epoch 2/10\n",
      "36295/36295 [==============================] - 12s 324us/step - loss: 0.5484 - pearson_correlation: 0.1888 - val_loss: 0.5385 - val_pearson_correlation: 0.2656\n",
      "Epoch 3/10\n",
      "36295/36295 [==============================] - 12s 323us/step - loss: 0.5434 - pearson_correlation: 0.2124 - val_loss: 0.5372 - val_pearson_correlation: 0.2770\n",
      "Epoch 4/10\n",
      "36295/36295 [==============================] - 12s 322us/step - loss: 0.5386 - pearson_correlation: 0.2325 - val_loss: 0.5318 - val_pearson_correlation: 0.2933\n",
      "Epoch 5/10\n",
      "36295/36295 [==============================] - 12s 322us/step - loss: 0.5365 - pearson_correlation: 0.2397 - val_loss: 0.5292 - val_pearson_correlation: 0.2977\n",
      "Epoch 6/10\n",
      "36295/36295 [==============================] - 12s 325us/step - loss: 0.5287 - pearson_correlation: 0.2687 - val_loss: 0.5314 - val_pearson_correlation: 0.3082\n",
      "Epoch 7/10\n",
      "36295/36295 [==============================] - 12s 323us/step - loss: 0.5242 - pearson_correlation: 0.2830 - val_loss: 0.5270 - val_pearson_correlation: 0.3129\n",
      "Epoch 8/10\n",
      "36295/36295 [==============================] - 12s 323us/step - loss: 0.5201 - pearson_correlation: 0.2958 - val_loss: 0.5416 - val_pearson_correlation: 0.3138\n",
      "Epoch 9/10\n",
      "36295/36295 [==============================] - 12s 321us/step - loss: 0.5142 - pearson_correlation: 0.3135 - val_loss: 0.5298 - val_pearson_correlation: 0.3157\n",
      "Epoch 10/10\n",
      "36295/36295 [==============================] - 12s 322us/step - loss: 0.5112 - pearson_correlation: 0.3230 - val_loss: 0.5292 - val_pearson_correlation: 0.3173\n"
     ]
    },
    {
     "data": {
      "text/plain": [
       "<keras.callbacks.History at 0x7f248d143be0>"
      ]
     },
     "execution_count": 1476,
     "metadata": {},
     "output_type": "execute_result"
    }
   ],
   "source": [
    "convolution_regression_model.fit([x_train, x_rc_train], y_train,\n",
    "      batch_size=64,\n",
    "      epochs=10,\n",
    "      verbose=1,\n",
    "      validation_data=([x_test, x_rc_test], y_test))"
   ]
  },
  {
   "cell_type": "code",
   "execution_count": 1464,
   "metadata": {},
   "outputs": [
    {
     "name": "stdout",
     "output_type": "stream",
     "text": [
      "(0.4287576850305929, 0.0)\n",
      "(nan, 1.0)\n",
      "(0.4173367445545139, 0.0)\n"
     ]
    },
    {
     "name": "stderr",
     "output_type": "stream",
     "text": [
      "/home/jtao/software/anaconda3/lib/python3.5/site-packages/ipykernel_launcher.py:4: RuntimeWarning: invalid value encountered in log2\n",
      "  after removing the cwd from sys.path.\n"
     ]
    }
   ],
   "source": [
    "predictions = convolution_regression_model.predict([sequence_arrays, sequence_rc_arrays])\n",
    "\n",
    "print(scipy.stats.pearsonr(labels, predictions.flatten()))\n",
    "print(scipy.stats.pearsonr(np.log2(labels+1), np.log2(predictions.flatten()+1)))\n",
    "print(scipy.stats.pearsonr(np.exp2(labels), np.exp2(predictions.flatten())))"
   ]
  },
  {
   "cell_type": "code",
   "execution_count": 1373,
   "metadata": {},
   "outputs": [
    {
     "name": "stderr",
     "output_type": "stream",
     "text": [
      "/home/jtao/software/anaconda3/lib/python3.5/site-packages/numpy/ma/core.py:6434: MaskedArrayFutureWarning: In the future the default for ma.maximum.reduce will be axis=0, not the current None, to match np.maximum.reduce. Explicitly pass 0 or None to silence this warning.\n",
      "  return self.reduce(a)\n",
      "/home/jtao/software/anaconda3/lib/python3.5/site-packages/numpy/ma/core.py:6434: MaskedArrayFutureWarning: In the future the default for ma.minimum.reduce will be axis=0, not the current None, to match np.minimum.reduce. Explicitly pass 0 or None to silence this warning.\n",
      "  return self.reduce(a)\n"
     ]
    },
    {
     "data": {
      "text/plain": [
       "<matplotlib.text.Text at 0x7f24b61da710>"
      ]
     },
     "execution_count": 1373,
     "metadata": {},
     "output_type": "execute_result"
    },
    {
     "data": {
      "image/png": "[encoded data removed]",
      "text/plain": [
       "<matplotlib.figure.Figure at 0x7f24b6832cc0>"
      ]
     },
     "metadata": {},
     "output_type": "display_data"
    }
   ],
   "source": [
    "pearson, _ = scipy.stats.pearsonr(labels, predictions.flatten())\n",
    "sns.kdeplot(labels, predictions.flatten(), shade = True)\n",
    "# ax = plt.gca()\n",
    "# ax.set_aspect(ax.get_xlim()[1]/ax.get_ylim()[1])\n",
    "plt.xlabel('True')\n",
    "plt.ylabel('Predictions')\n",
    "plt.title(treatment + ' Convolution, Pearson='+str(np.round(pearson,3)))"
   ]
  }
 ],
 "metadata": {
  "kernelspec": {
   "display_name": "Python 3",
   "language": "python",
   "name": "python3"
  },
  "language_info": {
   "codemirror_mode": {
    "name": "ipython",
    "version": 3
   },
   "file_extension": ".py",
   "mimetype": "text/x-python",
   "name": "python",
   "nbconvert_exporter": "python",
   "pygments_lexer": "ipython3",
   "version": "3.5.1"
  }
 },
 "nbformat": 4,
 "nbformat_minor": 1
}
