{
 "cells": [
  {
   "cell_type": "markdown",
   "metadata": {},
   "source": [
    "## Attention Only Classification Analysis"
   ]
  },
  {
   "cell_type": "code",
   "execution_count": 1,
   "metadata": {},
   "outputs": [
    {
     "name": "stderr",
     "output_type": "stream",
     "text": [
      "Using TensorFlow backend.\n"
     ]
    }
   ],
   "source": [
    "%load_ext autoreload\n",
    "%autoreload 2\n",
    "\n",
    "from __future__ import print_function\n",
    "import keras\n",
    "from keras import backend as K\n",
    "import tensorflow as tf\n",
    "\n",
    "import os\n",
    "import numpy as np\n",
    "import pandas as pd\n",
    "import scipy\n",
    "\n",
    "import Bio\n",
    "from Bio import SeqIO\n",
    "import Bio.motifs\n",
    "\n",
    "%matplotlib inline\n",
    "from matplotlib import pyplot as plt\n",
    "import seaborn as sns\n",
    "from sklearn import model_selection\n",
    "import sklearn\n",
    "\n",
    "from IPython.display import SVG\n",
    "from keras.utils.vis_utils import model_to_dot\n",
    "\n",
    "from signal_models import *\n",
    "from utility_functions import *\n",
    "\n",
    "sns.set_context('notebook')"
   ]
  },
  {
   "cell_type": "code",
   "execution_count": 2,
   "metadata": {},
   "outputs": [],
   "source": [
    "working_directory = '/home/jtao/analysis/genomic_grammar_analysis/'"
   ]
  },
  {
   "cell_type": "markdown",
   "metadata": {},
   "source": [
    "## Set Model Settings"
   ]
  },
  {
   "cell_type": "code",
   "execution_count": 3,
   "metadata": {},
   "outputs": [],
   "source": [
    "### settings for attention model ###\n",
    "attention_num_motifs=150\n",
    "attention_motif_size=10\n",
    "adjacent_bp_pool_size=10\n",
    "attention_dropout_rate=0.1\n",
    "\n",
    "### settings for convolution model ###\n",
    "convolution_num_motifs=32\n",
    "convolution_motif_size=24\n",
    "num_dense_neurons=32\n",
    "convolution_dropout_rate=0.25"
   ]
  },
  {
   "cell_type": "markdown",
   "metadata": {},
   "source": [
    "## Train All Models for all Data Sets"
   ]
  },
  {
   "cell_type": "code",
   "execution_count": 8,
   "metadata": {
    "scrolled": true
   },
   "outputs": [
    {
     "name": "stdout",
     "output_type": "stream",
     "text": [
      "*** kla-1h ***\n",
      "Training DotAttention kla-1h\n",
      "Train on 34841 samples, validate on 8711 samples\n",
      "Epoch 1/20\n",
      "34841/34841 [==============================] - 9s 249us/step - loss: 0.6503 - categorical_accuracy: 0.6025 - val_loss: 0.5635 - val_categorical_accuracy: 0.7097\n",
      "Epoch 2/20\n",
      "34841/34841 [==============================] - 8s 235us/step - loss: 0.5289 - categorical_accuracy: 0.7363 - val_loss: 0.4899 - val_categorical_accuracy: 0.7678\n",
      "Epoch 3/20\n",
      "34841/34841 [==============================] - 8s 234us/step - loss: 0.4676 - categorical_accuracy: 0.7795 - val_loss: 0.4563 - val_categorical_accuracy: 0.7907\n",
      "Epoch 4/20\n",
      "34841/34841 [==============================] - 8s 233us/step - loss: 0.4361 - categorical_accuracy: 0.7999 - val_loss: 0.4321 - val_categorical_accuracy: 0.8055\n",
      "Epoch 5/20\n",
      "34841/34841 [==============================] - 8s 239us/step - loss: 0.4050 - categorical_accuracy: 0.8171 - val_loss: 0.4087 - val_categorical_accuracy: 0.8160\n",
      "Epoch 6/20\n",
      "34841/34841 [==============================] - 8s 236us/step - loss: 0.3880 - categorical_accuracy: 0.8258 - val_loss: 0.4381 - val_categorical_accuracy: 0.8034\n",
      "Epoch 7/20\n",
      "34841/34841 [==============================] - 8s 234us/step - loss: 0.3746 - categorical_accuracy: 0.8337 - val_loss: 0.4152 - val_categorical_accuracy: 0.8052\n",
      "Epoch 8/20\n",
      "34841/34841 [==============================] - 8s 235us/step - loss: 0.3602 - categorical_accuracy: 0.8429 - val_loss: 0.3883 - val_categorical_accuracy: 0.8256\n",
      "Epoch 9/20\n",
      "34841/34841 [==============================] - 8s 234us/step - loss: 0.3486 - categorical_accuracy: 0.8492 - val_loss: 0.4047 - val_categorical_accuracy: 0.8222\n",
      "Epoch 10/20\n",
      "34841/34841 [==============================] - 8s 234us/step - loss: 0.3370 - categorical_accuracy: 0.8551 - val_loss: 0.3889 - val_categorical_accuracy: 0.8283\n",
      "Epoch 11/20\n",
      "34841/34841 [==============================] - 8s 234us/step - loss: 0.3332 - categorical_accuracy: 0.8564 - val_loss: 0.3694 - val_categorical_accuracy: 0.8349\n",
      "Epoch 12/20\n",
      "34841/34841 [==============================] - 8s 232us/step - loss: 0.3262 - categorical_accuracy: 0.8590 - val_loss: 0.3788 - val_categorical_accuracy: 0.8300\n",
      "Epoch 13/20\n",
      "34841/34841 [==============================] - 8s 233us/step - loss: 0.3171 - categorical_accuracy: 0.8645 - val_loss: 0.3786 - val_categorical_accuracy: 0.8333\n",
      "Epoch 14/20\n",
      "34841/34841 [==============================] - 8s 231us/step - loss: 0.3107 - categorical_accuracy: 0.8682 - val_loss: 0.4031 - val_categorical_accuracy: 0.8248\n",
      "Epoch 15/20\n",
      "34841/34841 [==============================] - 8s 230us/step - loss: 0.3087 - categorical_accuracy: 0.8699 - val_loss: 0.3615 - val_categorical_accuracy: 0.8419\n",
      "Epoch 16/20\n",
      "34841/34841 [==============================] - 8s 231us/step - loss: 0.3043 - categorical_accuracy: 0.8695 - val_loss: 0.3620 - val_categorical_accuracy: 0.8422\n",
      "Epoch 17/20\n",
      "34841/34841 [==============================] - 8s 231us/step - loss: 0.2923 - categorical_accuracy: 0.8774 - val_loss: 0.3650 - val_categorical_accuracy: 0.8431\n",
      "Epoch 18/20\n",
      "34841/34841 [==============================] - 8s 231us/step - loss: 0.2880 - categorical_accuracy: 0.8799 - val_loss: 0.3627 - val_categorical_accuracy: 0.8395\n",
      "Epoch 19/20\n",
      "34841/34841 [==============================] - 8s 233us/step - loss: 0.2893 - categorical_accuracy: 0.8791 - val_loss: 0.3780 - val_categorical_accuracy: 0.8385\n",
      "Epoch 20/20\n",
      "34841/34841 [==============================] - 8s 233us/step - loss: 0.2803 - categorical_accuracy: 0.8835 - val_loss: 0.3616 - val_categorical_accuracy: 0.8410\n",
      "Training Convolution kla-1h\n",
      "Train on 34841 samples, validate on 8711 samples\n",
      "Epoch 1/20\n",
      "34841/34841 [==============================] - 6s 159us/step - loss: 0.6346 - categorical_accuracy: 0.6237 - val_loss: 0.5296 - val_categorical_accuracy: 0.7352\n",
      "Epoch 2/20\n",
      "34841/34841 [==============================] - 5s 150us/step - loss: 0.4691 - categorical_accuracy: 0.7803 - val_loss: 0.4326 - val_categorical_accuracy: 0.8021\n",
      "Epoch 3/20\n",
      "34841/34841 [==============================] - 5s 150us/step - loss: 0.4224 - categorical_accuracy: 0.8096 - val_loss: 0.4158 - val_categorical_accuracy: 0.8106\n",
      "Epoch 4/20\n",
      "34841/34841 [==============================] - 5s 150us/step - loss: 0.3938 - categorical_accuracy: 0.8291 - val_loss: 0.4268 - val_categorical_accuracy: 0.8021\n",
      "Epoch 5/20\n",
      "34841/34841 [==============================] - 5s 150us/step - loss: 0.3772 - categorical_accuracy: 0.8365 - val_loss: 0.4005 - val_categorical_accuracy: 0.8158\n",
      "Epoch 6/20\n",
      "34841/34841 [==============================] - 5s 150us/step - loss: 0.3644 - categorical_accuracy: 0.8433 - val_loss: 0.3996 - val_categorical_accuracy: 0.8182\n",
      "Epoch 7/20\n",
      "34841/34841 [==============================] - 5s 151us/step - loss: 0.3548 - categorical_accuracy: 0.8491 - val_loss: 0.4001 - val_categorical_accuracy: 0.8178\n",
      "Epoch 8/20\n",
      "34841/34841 [==============================] - 5s 150us/step - loss: 0.3427 - categorical_accuracy: 0.8551 - val_loss: 0.4011 - val_categorical_accuracy: 0.8211\n",
      "Epoch 9/20\n",
      "34841/34841 [==============================] - 5s 151us/step - loss: 0.3405 - categorical_accuracy: 0.8551 - val_loss: 0.3953 - val_categorical_accuracy: 0.8270\n",
      "Epoch 10/20\n",
      "34841/34841 [==============================] - 5s 151us/step - loss: 0.3296 - categorical_accuracy: 0.8592 - val_loss: 0.3986 - val_categorical_accuracy: 0.8174\n",
      "Epoch 11/20\n",
      "34841/34841 [==============================] - 5s 150us/step - loss: 0.3222 - categorical_accuracy: 0.8640 - val_loss: 0.3878 - val_categorical_accuracy: 0.8262\n",
      "Epoch 12/20\n",
      "34841/34841 [==============================] - 5s 151us/step - loss: 0.3191 - categorical_accuracy: 0.8651 - val_loss: 0.4042 - val_categorical_accuracy: 0.8184\n",
      "Epoch 13/20\n",
      "34841/34841 [==============================] - 5s 150us/step - loss: 0.3150 - categorical_accuracy: 0.8689 - val_loss: 0.3857 - val_categorical_accuracy: 0.8291\n",
      "Epoch 14/20\n",
      "34841/34841 [==============================] - 5s 150us/step - loss: 0.3105 - categorical_accuracy: 0.8714 - val_loss: 0.4092 - val_categorical_accuracy: 0.8237\n",
      "Epoch 15/20\n",
      "34841/34841 [==============================] - 5s 149us/step - loss: 0.3070 - categorical_accuracy: 0.8727 - val_loss: 0.3874 - val_categorical_accuracy: 0.8345\n",
      "Epoch 16/20\n",
      "34841/34841 [==============================] - 5s 150us/step - loss: 0.3019 - categorical_accuracy: 0.8741 - val_loss: 0.4151 - val_categorical_accuracy: 0.8270\n",
      "Epoch 17/20\n",
      "34841/34841 [==============================] - 5s 150us/step - loss: 0.2996 - categorical_accuracy: 0.8756 - val_loss: 0.4339 - val_categorical_accuracy: 0.8229\n",
      "Epoch 18/20\n",
      "34841/34841 [==============================] - 5s 150us/step - loss: 0.2956 - categorical_accuracy: 0.8786 - val_loss: 0.3896 - val_categorical_accuracy: 0.8337\n",
      "Epoch 19/20\n",
      "34841/34841 [==============================] - 5s 150us/step - loss: 0.2968 - categorical_accuracy: 0.8787 - val_loss: 0.3910 - val_categorical_accuracy: 0.8310\n",
      "Epoch 20/20\n",
      "34841/34841 [==============================] - 5s 150us/step - loss: 0.2921 - categorical_accuracy: 0.8795 - val_loss: 0.3900 - val_categorical_accuracy: 0.8325\n",
      "*** veh ***\n",
      "Training DotAttention veh\n",
      "Train on 50480 samples, validate on 12620 samples\n",
      "Epoch 1/20\n",
      "50480/50480 [==============================] - 12s 240us/step - loss: 0.6148 - categorical_accuracy: 0.6456 - val_loss: 0.5201 - val_categorical_accuracy: 0.7383\n",
      "Epoch 2/20\n",
      "50480/50480 [==============================] - 12s 234us/step - loss: 0.4877 - categorical_accuracy: 0.7682 - val_loss: 0.4590 - val_categorical_accuracy: 0.7876\n",
      "Epoch 3/20\n",
      "50480/50480 [==============================] - 12s 235us/step - loss: 0.4369 - categorical_accuracy: 0.7988 - val_loss: 0.4175 - val_categorical_accuracy: 0.8099\n",
      "Epoch 4/20\n",
      "50480/50480 [==============================] - 12s 233us/step - loss: 0.4111 - categorical_accuracy: 0.8138 - val_loss: 0.4108 - val_categorical_accuracy: 0.8101\n",
      "Epoch 5/20\n",
      "50480/50480 [==============================] - 12s 236us/step - loss: 0.3960 - categorical_accuracy: 0.8226 - val_loss: 0.3927 - val_categorical_accuracy: 0.8273\n",
      "Epoch 6/20\n",
      "50480/50480 [==============================] - 12s 236us/step - loss: 0.3793 - categorical_accuracy: 0.8319 - val_loss: 0.3935 - val_categorical_accuracy: 0.8193\n"
     ]
    },
    {
     "name": "stdout",
     "output_type": "stream",
     "text": [
      "Epoch 7/20\n",
      "50480/50480 [==============================] - 12s 234us/step - loss: 0.3703 - categorical_accuracy: 0.8374 - val_loss: 0.3712 - val_categorical_accuracy: 0.8360\n",
      "Epoch 8/20\n",
      "50480/50480 [==============================] - 12s 231us/step - loss: 0.3582 - categorical_accuracy: 0.8438 - val_loss: 0.4053 - val_categorical_accuracy: 0.8216\n",
      "Epoch 9/20\n",
      "50480/50480 [==============================] - 12s 233us/step - loss: 0.3514 - categorical_accuracy: 0.8466 - val_loss: 0.3665 - val_categorical_accuracy: 0.8367\n",
      "Epoch 10/20\n",
      "50480/50480 [==============================] - 12s 233us/step - loss: 0.3433 - categorical_accuracy: 0.8519 - val_loss: 0.3658 - val_categorical_accuracy: 0.8358\n",
      "Epoch 11/20\n",
      "50480/50480 [==============================] - 12s 233us/step - loss: 0.3356 - categorical_accuracy: 0.8565 - val_loss: 0.3557 - val_categorical_accuracy: 0.8456\n",
      "Epoch 12/20\n",
      "50480/50480 [==============================] - 12s 233us/step - loss: 0.3283 - categorical_accuracy: 0.8585 - val_loss: 0.3537 - val_categorical_accuracy: 0.8493\n",
      "Epoch 13/20\n",
      "50480/50480 [==============================] - 12s 234us/step - loss: 0.3227 - categorical_accuracy: 0.8626 - val_loss: 0.3571 - val_categorical_accuracy: 0.8463\n",
      "Epoch 14/20\n",
      "50480/50480 [==============================] - 12s 231us/step - loss: 0.3174 - categorical_accuracy: 0.8640 - val_loss: 0.3431 - val_categorical_accuracy: 0.8512\n",
      "Epoch 15/20\n",
      "50480/50480 [==============================] - 12s 232us/step - loss: 0.3102 - categorical_accuracy: 0.8676 - val_loss: 0.3413 - val_categorical_accuracy: 0.8528\n",
      "Epoch 16/20\n",
      "50480/50480 [==============================] - 12s 231us/step - loss: 0.3058 - categorical_accuracy: 0.8709 - val_loss: 0.3367 - val_categorical_accuracy: 0.8575\n",
      "Epoch 17/20\n",
      "50480/50480 [==============================] - 12s 231us/step - loss: 0.3004 - categorical_accuracy: 0.8717 - val_loss: 0.3426 - val_categorical_accuracy: 0.8533\n",
      "Epoch 18/20\n",
      "50480/50480 [==============================] - 12s 231us/step - loss: 0.3002 - categorical_accuracy: 0.8716 - val_loss: 0.3338 - val_categorical_accuracy: 0.8602\n",
      "Epoch 19/20\n",
      "50480/50480 [==============================] - 12s 235us/step - loss: 0.2941 - categorical_accuracy: 0.8762 - val_loss: 0.3330 - val_categorical_accuracy: 0.8591\n",
      "Epoch 20/20\n",
      "50480/50480 [==============================] - 12s 232us/step - loss: 0.2882 - categorical_accuracy: 0.8775 - val_loss: 0.3351 - val_categorical_accuracy: 0.8560\n",
      "Training Convolution veh\n",
      "Train on 50480 samples, validate on 12620 samples\n",
      "Epoch 1/20\n",
      "50480/50480 [==============================] - 8s 157us/step - loss: 0.6167 - categorical_accuracy: 0.6391 - val_loss: 0.4759 - val_categorical_accuracy: 0.7765\n",
      "Epoch 2/20\n",
      "50480/50480 [==============================] - 8s 151us/step - loss: 0.4636 - categorical_accuracy: 0.7820 - val_loss: 0.4225 - val_categorical_accuracy: 0.8056\n",
      "Epoch 3/20\n",
      "50480/50480 [==============================] - 8s 149us/step - loss: 0.4233 - categorical_accuracy: 0.8082 - val_loss: 0.4368 - val_categorical_accuracy: 0.7975\n",
      "Epoch 4/20\n",
      "50480/50480 [==============================] - 8s 149us/step - loss: 0.4020 - categorical_accuracy: 0.8220 - val_loss: 0.3941 - val_categorical_accuracy: 0.8204\n",
      "Epoch 5/20\n",
      "50480/50480 [==============================] - 8s 150us/step - loss: 0.3864 - categorical_accuracy: 0.8302 - val_loss: 0.4134 - val_categorical_accuracy: 0.8105\n",
      "Epoch 6/20\n",
      "50480/50480 [==============================] - 8s 152us/step - loss: 0.3758 - categorical_accuracy: 0.8363 - val_loss: 0.4035 - val_categorical_accuracy: 0.8200\n",
      "Epoch 7/20\n",
      "50480/50480 [==============================] - 8s 151us/step - loss: 0.3661 - categorical_accuracy: 0.8391 - val_loss: 0.3872 - val_categorical_accuracy: 0.8300\n",
      "Epoch 8/20\n",
      "50480/50480 [==============================] - 8s 151us/step - loss: 0.3580 - categorical_accuracy: 0.8457 - val_loss: 0.3756 - val_categorical_accuracy: 0.8376\n",
      "Epoch 9/20\n",
      "50480/50480 [==============================] - 8s 150us/step - loss: 0.3509 - categorical_accuracy: 0.8489 - val_loss: 0.3746 - val_categorical_accuracy: 0.8333\n",
      "Epoch 10/20\n",
      "50480/50480 [==============================] - 8s 152us/step - loss: 0.3484 - categorical_accuracy: 0.8508 - val_loss: 0.3735 - val_categorical_accuracy: 0.8338\n",
      "Epoch 11/20\n",
      "50480/50480 [==============================] - 8s 154us/step - loss: 0.3422 - categorical_accuracy: 0.8546 - val_loss: 0.3780 - val_categorical_accuracy: 0.8321\n",
      "Epoch 12/20\n",
      "50480/50480 [==============================] - 8s 152us/step - loss: 0.3396 - categorical_accuracy: 0.8560 - val_loss: 0.3743 - val_categorical_accuracy: 0.8352\n",
      "Epoch 13/20\n",
      "50480/50480 [==============================] - 8s 150us/step - loss: 0.3367 - categorical_accuracy: 0.8558 - val_loss: 0.4074 - val_categorical_accuracy: 0.8187\n",
      "Epoch 14/20\n",
      "50480/50480 [==============================] - 8s 151us/step - loss: 0.3343 - categorical_accuracy: 0.8570 - val_loss: 0.4186 - val_categorical_accuracy: 0.8165\n",
      "Epoch 15/20\n",
      "50480/50480 [==============================] - 8s 150us/step - loss: 0.3315 - categorical_accuracy: 0.8594 - val_loss: 0.3702 - val_categorical_accuracy: 0.8360\n",
      "Epoch 16/20\n",
      "50480/50480 [==============================] - 8s 151us/step - loss: 0.3291 - categorical_accuracy: 0.8593 - val_loss: 0.3723 - val_categorical_accuracy: 0.8353\n",
      "Epoch 17/20\n",
      "50480/50480 [==============================] - 8s 150us/step - loss: 0.3262 - categorical_accuracy: 0.8614 - val_loss: 0.3694 - val_categorical_accuracy: 0.8393\n",
      "Epoch 18/20\n",
      "50480/50480 [==============================] - 8s 150us/step - loss: 0.3247 - categorical_accuracy: 0.8611 - val_loss: 0.3660 - val_categorical_accuracy: 0.8372\n",
      "Epoch 19/20\n",
      "50480/50480 [==============================] - 8s 151us/step - loss: 0.3229 - categorical_accuracy: 0.8629 - val_loss: 0.3732 - val_categorical_accuracy: 0.8375\n",
      "Epoch 20/20\n",
      "50480/50480 [==============================] - 8s 150us/step - loss: 0.3199 - categorical_accuracy: 0.8650 - val_loss: 0.3724 - val_categorical_accuracy: 0.8403\n",
      "*** il4-24h ***\n",
      "Training DotAttention il4-24h\n",
      "Train on 53628 samples, validate on 13408 samples\n",
      "Epoch 1/20\n",
      "53628/53628 [==============================] - 13s 238us/step - loss: 0.6193 - categorical_accuracy: 0.6429 - val_loss: 0.5158 - val_categorical_accuracy: 0.7458\n",
      "Epoch 2/20\n",
      "53628/53628 [==============================] - 12s 231us/step - loss: 0.4833 - categorical_accuracy: 0.7689 - val_loss: 0.4833 - val_categorical_accuracy: 0.7722\n",
      "Epoch 3/20\n",
      "53628/53628 [==============================] - 13s 233us/step - loss: 0.4351 - categorical_accuracy: 0.7995 - val_loss: 0.4293 - val_categorical_accuracy: 0.8047\n",
      "Epoch 4/20\n",
      "53628/53628 [==============================] - 12s 232us/step - loss: 0.4083 - categorical_accuracy: 0.8145 - val_loss: 0.4103 - val_categorical_accuracy: 0.8114\n",
      "Epoch 5/20\n",
      "53628/53628 [==============================] - 13s 235us/step - loss: 0.3951 - categorical_accuracy: 0.8218 - val_loss: 0.4085 - val_categorical_accuracy: 0.8085\n",
      "Epoch 6/20\n",
      "53628/53628 [==============================] - 12s 231us/step - loss: 0.3810 - categorical_accuracy: 0.8303 - val_loss: 0.3887 - val_categorical_accuracy: 0.8224\n",
      "Epoch 7/20\n",
      "53628/53628 [==============================] - 12s 230us/step - loss: 0.3680 - categorical_accuracy: 0.8375 - val_loss: 0.3871 - val_categorical_accuracy: 0.8280\n",
      "Epoch 8/20\n",
      "53628/53628 [==============================] - 12s 230us/step - loss: 0.3561 - categorical_accuracy: 0.8433 - val_loss: 0.3871 - val_categorical_accuracy: 0.8288\n",
      "Epoch 9/20\n",
      "53628/53628 [==============================] - 12s 230us/step - loss: 0.3429 - categorical_accuracy: 0.8499 - val_loss: 0.3457 - val_categorical_accuracy: 0.8506\n",
      "Epoch 10/20\n",
      "53628/53628 [==============================] - 12s 230us/step - loss: 0.3339 - categorical_accuracy: 0.8552 - val_loss: 0.3611 - val_categorical_accuracy: 0.8420\n",
      "Epoch 11/20\n",
      "53628/53628 [==============================] - 12s 228us/step - loss: 0.3280 - categorical_accuracy: 0.8550 - val_loss: 0.3552 - val_categorical_accuracy: 0.8451\n",
      "Epoch 12/20\n",
      "53628/53628 [==============================] - 12s 229us/step - loss: 0.3205 - categorical_accuracy: 0.8620 - val_loss: 0.3363 - val_categorical_accuracy: 0.8524\n",
      "Epoch 13/20\n"
     ]
    },
    {
     "name": "stdout",
     "output_type": "stream",
     "text": [
      "53628/53628 [==============================] - 12s 232us/step - loss: 0.3136 - categorical_accuracy: 0.8646 - val_loss: 0.3306 - val_categorical_accuracy: 0.8570\n",
      "Epoch 14/20\n",
      "53628/53628 [==============================] - 12s 231us/step - loss: 0.3060 - categorical_accuracy: 0.8675 - val_loss: 0.3335 - val_categorical_accuracy: 0.8559\n",
      "Epoch 15/20\n",
      "53628/53628 [==============================] - 13s 235us/step - loss: 0.3001 - categorical_accuracy: 0.8712 - val_loss: 0.3314 - val_categorical_accuracy: 0.8571\n",
      "Epoch 16/20\n",
      "53628/53628 [==============================] - 12s 233us/step - loss: 0.2954 - categorical_accuracy: 0.8742 - val_loss: 0.3299 - val_categorical_accuracy: 0.8591\n",
      "Epoch 17/20\n",
      "53628/53628 [==============================] - 13s 235us/step - loss: 0.2909 - categorical_accuracy: 0.8758 - val_loss: 0.3286 - val_categorical_accuracy: 0.8595\n",
      "Epoch 18/20\n",
      "53628/53628 [==============================] - 13s 234us/step - loss: 0.2866 - categorical_accuracy: 0.8786 - val_loss: 0.3851 - val_categorical_accuracy: 0.8370\n",
      "Epoch 19/20\n",
      "53628/53628 [==============================] - 12s 232us/step - loss: 0.2820 - categorical_accuracy: 0.8807 - val_loss: 0.3334 - val_categorical_accuracy: 0.8575\n",
      "Epoch 20/20\n",
      "53628/53628 [==============================] - 12s 232us/step - loss: 0.2782 - categorical_accuracy: 0.8812 - val_loss: 0.3346 - val_categorical_accuracy: 0.8549\n",
      "Training Convolution il4-24h\n",
      "Train on 53628 samples, validate on 13408 samples\n",
      "Epoch 1/20\n",
      "53628/53628 [==============================] - 9s 160us/step - loss: 0.6126 - categorical_accuracy: 0.6493 - val_loss: 0.4917 - val_categorical_accuracy: 0.7603\n",
      "Epoch 2/20\n",
      "53628/53628 [==============================] - 8s 155us/step - loss: 0.4739 - categorical_accuracy: 0.7790 - val_loss: 0.4356 - val_categorical_accuracy: 0.7968\n",
      "Epoch 3/20\n",
      "53628/53628 [==============================] - 8s 151us/step - loss: 0.4350 - categorical_accuracy: 0.8027 - val_loss: 0.4146 - val_categorical_accuracy: 0.8099\n",
      "Epoch 4/20\n",
      "53628/53628 [==============================] - 8s 151us/step - loss: 0.4078 - categorical_accuracy: 0.8193 - val_loss: 0.3925 - val_categorical_accuracy: 0.8227\n",
      "Epoch 5/20\n",
      "53628/53628 [==============================] - 8s 151us/step - loss: 0.3900 - categorical_accuracy: 0.8287 - val_loss: 0.3898 - val_categorical_accuracy: 0.8214\n",
      "Epoch 6/20\n",
      "53628/53628 [==============================] - 8s 151us/step - loss: 0.3759 - categorical_accuracy: 0.8382 - val_loss: 0.4184 - val_categorical_accuracy: 0.8077\n",
      "Epoch 7/20\n",
      "53628/53628 [==============================] - 8s 151us/step - loss: 0.3704 - categorical_accuracy: 0.8412 - val_loss: 0.3953 - val_categorical_accuracy: 0.8202\n",
      "Epoch 8/20\n",
      "53628/53628 [==============================] - 8s 151us/step - loss: 0.3612 - categorical_accuracy: 0.8445 - val_loss: 0.3718 - val_categorical_accuracy: 0.8314\n",
      "Epoch 9/20\n",
      "53628/53628 [==============================] - 8s 151us/step - loss: 0.3549 - categorical_accuracy: 0.8486 - val_loss: 0.3706 - val_categorical_accuracy: 0.8341\n",
      "Epoch 10/20\n",
      "53628/53628 [==============================] - 8s 152us/step - loss: 0.3519 - categorical_accuracy: 0.8516 - val_loss: 0.3771 - val_categorical_accuracy: 0.8281\n",
      "Epoch 11/20\n",
      "53628/53628 [==============================] - 8s 151us/step - loss: 0.3472 - categorical_accuracy: 0.8529 - val_loss: 0.3724 - val_categorical_accuracy: 0.8346\n",
      "Epoch 12/20\n",
      "53628/53628 [==============================] - 8s 151us/step - loss: 0.3441 - categorical_accuracy: 0.8532 - val_loss: 0.3692 - val_categorical_accuracy: 0.8339\n",
      "Epoch 13/20\n",
      "53628/53628 [==============================] - 8s 152us/step - loss: 0.3381 - categorical_accuracy: 0.8575 - val_loss: 0.3704 - val_categorical_accuracy: 0.8359\n",
      "Epoch 14/20\n",
      "53628/53628 [==============================] - 8s 151us/step - loss: 0.3373 - categorical_accuracy: 0.8576 - val_loss: 0.3782 - val_categorical_accuracy: 0.8372\n",
      "Epoch 15/20\n",
      "53628/53628 [==============================] - 8s 151us/step - loss: 0.3329 - categorical_accuracy: 0.8596 - val_loss: 0.3801 - val_categorical_accuracy: 0.8301\n",
      "Epoch 16/20\n",
      "53628/53628 [==============================] - 8s 151us/step - loss: 0.3307 - categorical_accuracy: 0.8610 - val_loss: 0.3721 - val_categorical_accuracy: 0.8375\n",
      "Epoch 17/20\n",
      "53628/53628 [==============================] - 8s 150us/step - loss: 0.3286 - categorical_accuracy: 0.8619 - val_loss: 0.3670 - val_categorical_accuracy: 0.8369\n",
      "Epoch 18/20\n",
      "53628/53628 [==============================] - 8s 151us/step - loss: 0.3249 - categorical_accuracy: 0.8645 - val_loss: 0.3806 - val_categorical_accuracy: 0.8376\n",
      "Epoch 19/20\n",
      "53628/53628 [==============================] - 8s 151us/step - loss: 0.3238 - categorical_accuracy: 0.8629 - val_loss: 0.3656 - val_categorical_accuracy: 0.8370\n",
      "Epoch 20/20\n",
      "53628/53628 [==============================] - 8s 151us/step - loss: 0.3204 - categorical_accuracy: 0.8647 - val_loss: 0.3670 - val_categorical_accuracy: 0.8370\n"
     ]
    }
   ],
   "source": [
    "num_epochs = 20\n",
    "all_rocs = []\n",
    "all_accuracies = []\n",
    "all_precisions = []\n",
    "all_treatments = []\n",
    "model_types = []\n",
    "parameter_counts = []\n",
    "condition_model_dict = {}\n",
    "for ps in ['c57bl6_kla-1h_peaks.fasta', 'c57bl6_veh_peaks.fasta', 'c57bl6_il4-24h_peaks.fasta']:\n",
    "    treatment = ps.split('_')[1]\n",
    "    print('***',treatment, '***')\n",
    "    positive_seqRecords = list(SeqIO.parse(working_directory + '/peak_sequences/' + ps, 'fasta'))\n",
    "    negative_seqRecords = list(SeqIO.parse(working_directory + '/background_files/' + ps.replace('_peaks', '_background'), 'fasta'))[:len(positive_seqRecords)]\n",
    "\n",
    "    fasta_seq = [str(x.seq[:200]) for x in positive_seqRecords] + [str(x[:200].seq) for x in negative_seqRecords]\n",
    "\n",
    "    fasta_rc_seq = [str(x[:200].reverse_complement().seq) for x in positive_seqRecords] + \\\n",
    "        [str(x[:200].reverse_complement().seq) for x in negative_seqRecords]\n",
    "\n",
    "    sequence_arrays = convert_sequences_to_array(fasta_seq)\n",
    "\n",
    "    sequence_rc_arrays = convert_sequences_to_array(fasta_rc_seq)\n",
    "\n",
    "\n",
    "    labels = [1 for x in positive_seqRecords] + [0 for x in negative_seqRecords]\n",
    "    labels = np.array(labels)\n",
    "\n",
    "    x_train, x_test, x_rc_train, x_rc_test, y_train, y_test = model_selection.train_test_split(sequence_arrays, sequence_rc_arrays, labels, test_size=0.2)\n",
    "\n",
    "    num_classes = 2\n",
    "    y_train = keras.utils.to_categorical(y_train, num_classes)\n",
    "    y_test = keras.utils.to_categorical(y_test, num_classes)\n",
    "       \n",
    "    ### additive attention model ###\n",
    "#     print('Training AddAttention', treatment)\n",
    "#     additiveAttention_model = get_additiveAttention_model(200,\n",
    "#         mode='classification',\n",
    "#         num_motifs=150, \n",
    "#         motif_size=10,\n",
    "#         adjacent_bp_pool_size=10,\n",
    "#         attention_dim=10,\n",
    "#         attention_hops=10,\n",
    "#         dropout_rate=0.1\n",
    "#     )\n",
    "        \n",
    "#     additiveAttention_model.fit([x_train], y_train,\n",
    "#               batch_size=64,\n",
    "#               epochs=num_epochs,\n",
    "#               verbose=1,\n",
    "#               validation_data=([x_test], y_test))\n",
    "\n",
    "#     probs = additiveAttention_model.predict([x_test])\n",
    "#     test_predictions = [0 if x[0] > x[1] else 1 for x in probs]\n",
    "#     roc = sklearn.metrics.roc_auc_score([y[1] for y in y_test], probs[:,1], )\n",
    "#     precision = sklearn.metrics.precision_score([y[1] for y in y_test], test_predictions)\n",
    "#     acc = sklearn.metrics.accuracy_score([y[1] for y in y_test], test_predictions)\n",
    "#     param_count = additiveAttention_model.count_params()\n",
    "# \n",
    "#     all_rocs.append(roc)\n",
    "#     all_accuracies.append(acc)\n",
    "#     all_precisions.append(precision)\n",
    "#     all_treatments.append(treatment)\n",
    "#     model_types.append('AddAttention')\n",
    "#     parameter_counts.append(param_count)\n",
    "#     condition_model_dict['AddAttention_'+treatment] = additiveAttention_model\n",
    "    ### ###\n",
    "    \n",
    "    ### dot product attention model ###\n",
    "    print('Training DotAttention', treatment)\n",
    "    dotProductAttention_model = get_dotProductAttention_model(200,\n",
    "        mode='classification',\n",
    "        num_motifs=attention_num_motifs, \n",
    "        motif_size=attention_motif_size,\n",
    "        adjacent_bp_pool_size=adjacent_bp_pool_size,\n",
    "        dropout_rate=attention_dropout_rate,\n",
    "        num_classes=2)\n",
    "\n",
    "    dotProductAttention_model.fit([x_train], y_train,\n",
    "              batch_size=64,\n",
    "              epochs=num_epochs,\n",
    "              verbose=1,\n",
    "              validation_data=([x_test], y_test))\n",
    "\n",
    "    probs = dotProductAttention_model.predict([x_test])\n",
    "    test_predictions = [0 if x[0] > x[1] else 1 for x in probs]\n",
    "    roc = sklearn.metrics.roc_auc_score([y[1] for y in y_test], probs[:,1], )\n",
    "    precision = sklearn.metrics.precision_score([y[1] for y in y_test], [0 if x[0] > x[1] else 1 for x in probs])\n",
    "    acc = sklearn.metrics.accuracy_score([y[1] for y in y_test], test_predictions)\n",
    "    param_count = dotProductAttention_model.count_params()\n",
    "    \n",
    "    all_rocs.append(roc)\n",
    "    all_accuracies.append(acc)\n",
    "    all_precisions.append(precision)\n",
    "    all_treatments.append(treatment)\n",
    "    model_types.append('DotAttention')\n",
    "    parameter_counts.append(param_count)\n",
    "    condition_model_dict['DotAttention_'+treatment] = dotProductAttention_model\n",
    "    ### ###\n",
    "\n",
    "    ### convolution model ###\n",
    "    print('Training Convolution', treatment)\n",
    "    convolution_model = get_convolution_model(200,\n",
    "        mode='classification',\n",
    "        num_motifs=convolution_num_motifs, \n",
    "        motif_size=convolution_motif_size,\n",
    "        num_dense_neurons=num_dense_neurons,\n",
    "        dropout_rate=convolution_dropout_rate,\n",
    "        num_classes=2)\n",
    "    convolution_model.fit([x_train, x_rc_train], y_train,\n",
    "              batch_size=64,\n",
    "              epochs=num_epochs,\n",
    "              verbose=1,\n",
    "              validation_data=([x_test, x_rc_test], y_test))\n",
    "\n",
    "    probs = convolution_model.predict([x_test, x_rc_test])\n",
    "    test_predictions = [0 if x[0] > x[1] else 1 for x in probs]\n",
    "    roc = sklearn.metrics.roc_auc_score([y[1] for y in y_test], probs[:,1], )\n",
    "    precision = sklearn.metrics.precision_score([y[1] for y in y_test], [0 if x[0] > x[1] else 1 for x in probs])\n",
    "    acc = sklearn.metrics.accuracy_score([y[1] for y in y_test], test_predictions)\n",
    "    param_count = convolution_model.count_params()\n",
    "    \n",
    "    all_rocs.append(roc)\n",
    "    all_accuracies.append(acc)\n",
    "    all_precisions.append(precision)\n",
    "    all_treatments.append(treatment)\n",
    "    model_types.append('Convolution')\n",
    "    parameter_counts.append(param_count)\n",
    "    condition_model_dict['Convolution_'+treatment] = convolution_model"
   ]
  },
  {
   "cell_type": "markdown",
   "metadata": {},
   "source": [
    "## Serialize Models"
   ]
  },
  {
   "cell_type": "code",
   "execution_count": 9,
   "metadata": {},
   "outputs": [],
   "source": [
    "if len(condition_model_dict) > 0:\n",
    "    if not os.path.isdir(working_directory + '/models_classification'):\n",
    "        os.mkdir(working_directory + '/models_classification')\n",
    "    else:\n",
    "        for f in os.listdir(working_directory + '/models_classification'):\n",
    "            os.remove(working_directory + '/models_classification/' + f)\n",
    "    for treatment_modelType in condition_model_dict.keys():\n",
    "        current_model = condition_model_dict[treatment_modelType]\n",
    "        current_model.save_weights(working_directory + '/models_classification/' + treatment_modelType + '_weights.h5',\n",
    "                          )"
   ]
  },
  {
   "cell_type": "markdown",
   "metadata": {},
   "source": [
    "## Read in Models"
   ]
  },
  {
   "cell_type": "code",
   "execution_count": 10,
   "metadata": {},
   "outputs": [],
   "source": [
    "condition_model_dict = {}\n",
    "for f in os.listdir(working_directory + '/models_classification/'):\n",
    "    treatment_modelType = f.replace('_weights.h5','')\n",
    "    modelType = treatment_modelType.split('_')[0]    \n",
    "    if modelType == 'DotAttention':\n",
    "        current_model = get_dotProductAttention_model(200,\n",
    "            mode='classification',\n",
    "            num_motifs=attention_num_motifs, \n",
    "            motif_size=attention_motif_size,\n",
    "            adjacent_bp_pool_size=adjacent_bp_pool_size,\n",
    "            dropout_rate=attention_dropout_rate,\n",
    "            num_classes=2)  \n",
    "    elif modelType == 'Convolution':\n",
    "        current_model = get_convolution_model(200,\n",
    "            mode='classification',\n",
    "            num_motifs=convolution_num_motifs, \n",
    "            motif_size=convolution_motif_size,\n",
    "            num_dense_neurons=num_dense_neurons,\n",
    "            dropout_rate=convolution_dropout_rate,\n",
    "            num_classes=2)\n",
    "    current_model.load_weights(working_directory + '/models_classification/' + treatment_modelType + '_weights.h5',\n",
    "                              )\n",
    "    condition_model_dict[treatment_modelType] = current_model"
   ]
  },
  {
   "cell_type": "markdown",
   "metadata": {},
   "source": [
    "## Test Model Performance"
   ]
  },
  {
   "cell_type": "code",
   "execution_count": 14,
   "metadata": {},
   "outputs": [
    {
     "name": "stdout",
     "output_type": "stream",
     "text": [
      "*** kla-1h ***\n",
      "Convolution_kla-1h 0.84043163815865 0.9170128501158739 0.8197029910060657\n",
      "DotAttention_kla-1h 0.8811847089886351 0.947349800717308 0.9095055208833414\n",
      "*** veh ***\n",
      "DotAttention_veh 0.8766244057052298 0.9325005206272935 0.8873050477947342\n",
      "Convolution_veh 0.8431854199683043 0.9213737329057357 0.8130687751752946\n",
      "*** il4-24h ***\n",
      "Convolution_il4-24h 0.8722404534606205 0.9444091131047525 0.8544303797468354\n",
      "DotAttention_il4-24h 0.8814886634844868 0.930110712405083 0.9231399541134054\n"
     ]
    }
   ],
   "source": [
    "all_rocs = []\n",
    "all_accuracies = []\n",
    "all_precisions = []\n",
    "all_treatments = []\n",
    "model_types = []\n",
    "parameter_counts = []\n",
    "for ps in ['c57bl6_kla-1h_peaks.fasta', 'c57bl6_veh_peaks.fasta', 'c57bl6_il4-24h_peaks.fasta']:\n",
    "    treatment = ps.split('_')[1]\n",
    "    print('***',treatment, '***')\n",
    "    positive_seqRecords = list(SeqIO.parse(working_directory + '/peak_sequences/' + ps, 'fasta'))\n",
    "    negative_seqRecords = list(SeqIO.parse(working_directory + '/background_files/' + ps.replace('_peaks', '_background'), 'fasta'))[:len(positive_seqRecords)]\n",
    "\n",
    "    fasta_seq = [str(x.seq[:200]) for x in positive_seqRecords] + [str(x[:200].seq) for x in negative_seqRecords]\n",
    "\n",
    "    fasta_rc_seq = [str(x[:200].reverse_complement().seq) for x in positive_seqRecords] + \\\n",
    "        [str(x[:200].reverse_complement().seq) for x in negative_seqRecords]\n",
    "\n",
    "    sequence_arrays = convert_sequences_to_array(fasta_seq)\n",
    "\n",
    "    sequence_rc_arrays = convert_sequences_to_array(fasta_rc_seq)\n",
    "\n",
    "\n",
    "    labels = [1 for x in positive_seqRecords] + [0 for x in negative_seqRecords]\n",
    "    labels = np.array(labels)\n",
    "\n",
    "    x_train, x_test, x_rc_train, x_rc_test, y_train, y_test = model_selection.train_test_split(sequence_arrays, sequence_rc_arrays, labels, test_size=0.2)\n",
    "\n",
    "    num_classes = 2\n",
    "    y_train = keras.utils.to_categorical(y_train, num_classes)\n",
    "    y_test = keras.utils.to_categorical(y_test, num_classes)\n",
    "    for treatment_model in condition_model_dict.keys():\n",
    "        if treatment_model.split('_')[1] == treatment:\n",
    "            current_model = condition_model_dict[treatment_model] \n",
    "            if treatment_model.split('_')[0] == 'Convolution':\n",
    "                probs = convolution_model.predict([x_test, x_rc_test])\n",
    "                test_predictions = [0 if x[0] > x[1] else 1 for x in probs]\n",
    "                roc = sklearn.metrics.roc_auc_score([y[1] for y in y_test], probs[:,1], )\n",
    "                precision = sklearn.metrics.precision_score([y[1] for y in y_test], [0 if x[0] > x[1] else 1 for x in probs])\n",
    "                acc = sklearn.metrics.accuracy_score([y[1] for y in y_test], test_predictions)\n",
    "                param_count = convolution_model.count_params()\n",
    "                model_types.append('Convolution')\n",
    "            elif treatment_model.split('_')[0] == 'DotAttention':\n",
    "                probs = current_model.predict([x_test])\n",
    "                test_predictions = [0 if x[0] > x[1] else 1 for x in probs]\n",
    "                roc = sklearn.metrics.roc_auc_score([y[1] for y in y_test], probs[:,1], )\n",
    "                precision = sklearn.metrics.precision_score([y[1] for y in y_test], [0 if x[0] > x[1] else 1 for x in probs])\n",
    "                acc = sklearn.metrics.accuracy_score([y[1] for y in y_test], test_predictions)\n",
    "                param_count = current_model.count_params()\n",
    "                model_types.append('DotAttention')\n",
    "\n",
    "            \n",
    "            \n",
    "            all_rocs.append(roc)\n",
    "            all_accuracies.append(acc)\n",
    "            all_precisions.append(precision)\n",
    "            all_treatments.append(treatment)\n",
    "            \n",
    "            parameter_counts.append(param_count)\n",
    "            print(treatment_model, acc, roc, precision)"
   ]
  },
  {
   "cell_type": "code",
   "execution_count": 16,
   "metadata": {},
   "outputs": [],
   "source": [
    "performance_frame = pd.DataFrame({'Model Type': model_types, \n",
    "                                  'Treatment':all_treatments,\n",
    "                                  'Accuracy':all_accuracies, \n",
    "                                  'aucROC':all_rocs,\n",
    "                                  'Precision':all_precisions})"
   ]
  },
  {
   "cell_type": "code",
   "execution_count": 21,
   "metadata": {},
   "outputs": [
    {
     "data": {
      "image/png": "[encoded data removed]",
      "text/plain": [
       "<matplotlib.figure.Figure at 0x7fa68bee7f28>"
      ]
     },
     "metadata": {},
     "output_type": "display_data"
    }
   ],
   "source": [
    "with sns.axes_style('whitegrid'):\n",
    "    sns.factorplot(data = performance_frame,\n",
    "        x = 'Treatment', \n",
    "        y = 'Accuracy',\n",
    "        hue = 'Model Type',\n",
    "        kind = 'bar'\n",
    "        )\n",
    "    plt.ylim(0,1)"
   ]
  },
  {
   "cell_type": "code",
   "execution_count": 22,
   "metadata": {},
   "outputs": [
    {
     "data": {
      "image/png": "[encoded data removed]",
      "text/plain": [
       "<matplotlib.figure.Figure at 0x7fa71d1b50b8>"
      ]
     },
     "metadata": {},
     "output_type": "display_data"
    }
   ],
   "source": [
    "with sns.axes_style('whitegrid'):\n",
    "    sns.factorplot(data = performance_frame,\n",
    "        x = 'Treatment', \n",
    "        y = 'aucROC',\n",
    "        hue = 'Model Type',\n",
    "        kind = 'bar'\n",
    "        )\n",
    "    plt.ylim(0,1)"
   ]
  },
  {
   "cell_type": "code",
   "execution_count": 23,
   "metadata": {},
   "outputs": [
    {
     "data": {
      "image/png": "[encoded data removed]",
      "text/plain": [
       "<matplotlib.figure.Figure at 0x7fa72c4da9b0>"
      ]
     },
     "metadata": {},
     "output_type": "display_data"
    }
   ],
   "source": [
    "with sns.axes_style('whitegrid'):\n",
    "    sns.factorplot(data = performance_frame,\n",
    "        x = 'Treatment', \n",
    "        y = 'Precision',\n",
    "        hue = 'Model Type',\n",
    "        kind = 'bar'\n",
    "        )\n",
    "    plt.ylim(0,1)"
   ]
  },
  {
   "cell_type": "markdown",
   "metadata": {},
   "source": [
    "## Grid Search for Dot Product Attention Model"
   ]
  },
  {
   "cell_type": "code",
   "execution_count": null,
   "metadata": {
    "scrolled": true
   },
   "outputs": [],
   "source": [
    "all_rocs = []\n",
    "all_accuracies = []\n",
    "all_precisions = []\n",
    "poolSize_list = []\n",
    "all_treatments = []\n",
    "motifCount_list = []\n",
    "numDense_list = []\n",
    "paramCount_list = []\n",
    "dropoutRate_list = []\n",
    "num_epochs = 20\n",
    "for ps in ['c57bl6_kla-1h_peaks.fasta', 'c57bl6_veh_peaks.fasta', 'c57bl6_il4-24h_peaks.fasta']:\n",
    "    print(ps)\n",
    "    positive_seqRecords = list(SeqIO.parse(working_directory + '/peak_sequences/' + ps, 'fasta'))\n",
    "    negative_seqRecords = list(SeqIO.parse(working_directory + '/background_files/' + ps.replace('_peaks', '_background'), 'fasta'))[:len(positive_seqRecords)]\n",
    "\n",
    "    fasta_seq = [str(x.seq[:200]) for x in positive_seqRecords] + [str(x[:200].seq) for x in negative_seqRecords]\n",
    "\n",
    "    fasta_rc_seq = [str(x[:200].reverse_complement().seq) for x in positive_seqRecords] + \\\n",
    "        [str(x[:200].reverse_complement().seq) for x in negative_seqRecords]\n",
    "\n",
    "    sequence_arrays = convert_sequences_to_array(fasta_seq)\n",
    "\n",
    "    sequence_rc_arrays = convert_sequences_to_array(fasta_rc_seq)\n",
    "\n",
    "\n",
    "    labels = [1 for x in positive_seqRecords] + [0 for x in negative_seqRecords]\n",
    "    labels = np.array(labels)\n",
    "\n",
    "    x_train, x_test, x_rc_train, x_rc_test, y_train, y_test = model_selection.train_test_split(sequence_arrays, sequence_rc_arrays, labels, test_size=0.2)\n",
    "\n",
    "    num_classes = 2\n",
    "    y_train = keras.utils.to_categorical(y_train, num_classes)\n",
    "    y_test = keras.utils.to_categorical(y_test, num_classes)\n",
    "    \n",
    "    treatment = ps.split('_')[1]\n",
    "    \n",
    "    for d in range(50,200,50):\n",
    "        for m in range(50,200,50):\n",
    "            for p in [5,10,20]:\n",
    "                for do in [0.25,0.5,0.75]:\n",
    "                    \n",
    "                    current_model = get_dotProductAttention_model(200,\n",
    "                        mode='classification',\n",
    "                        num_classes = 2,\n",
    "                        num_motifs=m, \n",
    "                        motif_size=10,\n",
    "                        adjacent_bp_pool_size=p,\n",
    "                        num_dense_neurons=d,\n",
    "                        dropout_rate=do)\n",
    "                    num_params = current_model.count_params()\n",
    "                    print(treatment, \n",
    "                         'num dense', d,\n",
    "                         'num motifs', m,\n",
    "                         'pool size', p,\n",
    "                         'dropout rate', do,\n",
    "                         'param count', num_params)\n",
    "                    current_model.fit(x_train, y_train,\n",
    "                          batch_size=64,\n",
    "                          epochs=num_epochs,\n",
    "                          verbose=1,\n",
    "                          validation_data=([x_test], y_test))\n",
    "\n",
    "                    probs = current_model.predict([x_test])\n",
    "                    test_predictions = [0 if x[0] > x[1] else 1 for x in probs]\n",
    "                    roc = sklearn.metrics.roc_auc_score([y[1] for y in y_test], probs[:,1])\n",
    "                    precision = sklearn.metrics.precision_score([y[1] for y in y_test], test_predictions)\n",
    "                    acc = sklearn.metrics.accuracy_score([y[1] for y in y_test], test_predictions)\n",
    "                    \n",
    "                    all_rocs.append(roc)\n",
    "                    all_accuracies.append(acc)\n",
    "                    all_precisions.append(precision)\n",
    "                    poolSize_list.append(p)\n",
    "                    all_treatments.append(treatment)\n",
    "                    motifCount_list.append(m)\n",
    "                    numDense_list.append(d)\n",
    "                    paramCount_list.append(num_params)\n",
    "                    dropoutRate_list.append(do)"
   ]
  },
  {
   "cell_type": "code",
   "execution_count": 21,
   "metadata": {
    "scrolled": false
   },
   "outputs": [],
   "source": [
    "performance_frame = pd.DataFrame({'aucROC':all_rocs, \n",
    "                      'Accuracy':all_accuracies, \n",
    "                      'Pool Size':poolSize_list, \n",
    "                      'Precision':all_precisions,\n",
    "                      'Treatment':all_treatments,\n",
    "                      'Num Motifs':motifCount_list,\n",
    "                      'Num Dense':numDense_list,\n",
    "                      'Num Params':paramCount_list,\n",
    "                      'Dropout Rate':dropoutRate_list\n",
    "                      })\n",
    "\n",
    "# sns.factorplot(data = frame, x='p', y='aucROC', hue = 'Treatment', size=10)\n",
    "# plt.ylim(0.7,1)\n",
    "# plt.show()\n",
    "# sns.factorplot(data = frame, x='p', y='Precision', hue = 'Treatment', size=10)\n",
    "# plt.ylim(0.7,1)\n",
    "# plt.show()\n",
    "\n",
    "# sns.factorplot(data = frame, x='p', y='Accuracy', hue = 'Treatment', size=10)\n",
    "# plt.ylim(0.7,1)\n",
    "# plt.show()\n",
    "\n"
   ]
  },
  {
   "cell_type": "code",
   "execution_count": 22,
   "metadata": {},
   "outputs": [],
   "source": [
    "performance_frame.to_csv('./grid_search_results.tsv', sep='\\t')"
   ]
  },
  {
   "cell_type": "code",
   "execution_count": 29,
   "metadata": {},
   "outputs": [
    {
     "data": {
      "text/html": [
       "<div>\n",
       "<style>\n",
       "    .dataframe thead tr:only-child th {\n",
       "        text-align: right;\n",
       "    }\n",
       "\n",
       "    .dataframe thead th {\n",
       "        text-align: left;\n",
       "    }\n",
       "\n",
       "    .dataframe tbody tr th {\n",
       "        vertical-align: top;\n",
       "    }\n",
       "</style>\n",
       "<table border=\"1\" class=\"dataframe\">\n",
       "  <thead>\n",
       "    <tr style=\"text-align: right;\">\n",
       "      <th></th>\n",
       "      <th>Accuracy</th>\n",
       "      <th>Dropout Rate</th>\n",
       "      <th>Num Dense</th>\n",
       "      <th>Num Motifs</th>\n",
       "      <th>Num Params</th>\n",
       "      <th>Pool Size</th>\n",
       "      <th>Precision</th>\n",
       "      <th>Treatment</th>\n",
       "      <th>aucROC</th>\n",
       "    </tr>\n",
       "  </thead>\n",
       "  <tbody>\n",
       "    <tr>\n",
       "      <th>50</th>\n",
       "      <td>0.835725</td>\n",
       "      <td>0.75</td>\n",
       "      <td>100</td>\n",
       "      <td>150</td>\n",
       "      <td>40152</td>\n",
       "      <td>10</td>\n",
       "      <td>0.870618</td>\n",
       "      <td>kla-1h</td>\n",
       "      <td>0.920197</td>\n",
       "    </tr>\n",
       "    <tr>\n",
       "      <th>77</th>\n",
       "      <td>0.837447</td>\n",
       "      <td>0.75</td>\n",
       "      <td>150</td>\n",
       "      <td>150</td>\n",
       "      <td>56702</td>\n",
       "      <td>10</td>\n",
       "      <td>0.873728</td>\n",
       "      <td>kla-1h</td>\n",
       "      <td>0.916011</td>\n",
       "    </tr>\n",
       "    <tr>\n",
       "      <th>23</th>\n",
       "      <td>0.837791</td>\n",
       "      <td>0.75</td>\n",
       "      <td>50</td>\n",
       "      <td>150</td>\n",
       "      <td>23602</td>\n",
       "      <td>10</td>\n",
       "      <td>0.879173</td>\n",
       "      <td>kla-1h</td>\n",
       "      <td>0.915555</td>\n",
       "    </tr>\n",
       "    <tr>\n",
       "      <th>68</th>\n",
       "      <td>0.839972</td>\n",
       "      <td>0.75</td>\n",
       "      <td>150</td>\n",
       "      <td>100</td>\n",
       "      <td>39352</td>\n",
       "      <td>10</td>\n",
       "      <td>0.896112</td>\n",
       "      <td>kla-1h</td>\n",
       "      <td>0.915317</td>\n",
       "    </tr>\n",
       "    <tr>\n",
       "      <th>11</th>\n",
       "      <td>0.831133</td>\n",
       "      <td>0.75</td>\n",
       "      <td>50</td>\n",
       "      <td>100</td>\n",
       "      <td>17752</td>\n",
       "      <td>5</td>\n",
       "      <td>0.866940</td>\n",
       "      <td>kla-1h</td>\n",
       "      <td>0.914013</td>\n",
       "    </tr>\n",
       "  </tbody>\n",
       "</table>\n",
       "</div>"
      ],
      "text/plain": [
       "    Accuracy  Dropout Rate  Num Dense  Num Motifs  Num Params  Pool Size  \\\n",
       "50  0.835725          0.75        100         150       40152         10   \n",
       "77  0.837447          0.75        150         150       56702         10   \n",
       "23  0.837791          0.75         50         150       23602         10   \n",
       "68  0.839972          0.75        150         100       39352         10   \n",
       "11  0.831133          0.75         50         100       17752          5   \n",
       "\n",
       "    Precision Treatment    aucROC  \n",
       "50   0.870618    kla-1h  0.920197  \n",
       "77   0.873728    kla-1h  0.916011  \n",
       "23   0.879173    kla-1h  0.915555  \n",
       "68   0.896112    kla-1h  0.915317  \n",
       "11   0.866940    kla-1h  0.914013  "
      ]
     },
     "execution_count": 29,
     "metadata": {},
     "output_type": "execute_result"
    }
   ],
   "source": [
    "performance_frame[performance_frame['Treatment'] == 'kla-1h'].sort_values('aucROC',ascending = False).head()"
   ]
  },
  {
   "cell_type": "code",
   "execution_count": 30,
   "metadata": {},
   "outputs": [
    {
     "data": {
      "text/html": [
       "<div>\n",
       "<style>\n",
       "    .dataframe thead tr:only-child th {\n",
       "        text-align: right;\n",
       "    }\n",
       "\n",
       "    .dataframe thead th {\n",
       "        text-align: left;\n",
       "    }\n",
       "\n",
       "    .dataframe tbody tr th {\n",
       "        vertical-align: top;\n",
       "    }\n",
       "</style>\n",
       "<table border=\"1\" class=\"dataframe\">\n",
       "  <thead>\n",
       "    <tr style=\"text-align: right;\">\n",
       "      <th></th>\n",
       "      <th>Accuracy</th>\n",
       "      <th>Dropout Rate</th>\n",
       "      <th>Num Dense</th>\n",
       "      <th>Num Motifs</th>\n",
       "      <th>Num Params</th>\n",
       "      <th>Pool Size</th>\n",
       "      <th>Precision</th>\n",
       "      <th>Treatment</th>\n",
       "      <th>aucROC</th>\n",
       "    </tr>\n",
       "  </thead>\n",
       "  <tbody>\n",
       "    <tr>\n",
       "      <th>185</th>\n",
       "      <td>0.853222</td>\n",
       "      <td>0.75</td>\n",
       "      <td>50</td>\n",
       "      <td>150</td>\n",
       "      <td>23602</td>\n",
       "      <td>10</td>\n",
       "      <td>0.885384</td>\n",
       "      <td>il4-24h</td>\n",
       "      <td>0.930444</td>\n",
       "    </tr>\n",
       "    <tr>\n",
       "      <th>209</th>\n",
       "      <td>0.848150</td>\n",
       "      <td>0.75</td>\n",
       "      <td>100</td>\n",
       "      <td>150</td>\n",
       "      <td>43152</td>\n",
       "      <td>5</td>\n",
       "      <td>0.851699</td>\n",
       "      <td>il4-24h</td>\n",
       "      <td>0.927972</td>\n",
       "    </tr>\n",
       "    <tr>\n",
       "      <th>200</th>\n",
       "      <td>0.842035</td>\n",
       "      <td>0.75</td>\n",
       "      <td>100</td>\n",
       "      <td>100</td>\n",
       "      <td>30802</td>\n",
       "      <td>5</td>\n",
       "      <td>0.912084</td>\n",
       "      <td>il4-24h</td>\n",
       "      <td>0.927763</td>\n",
       "    </tr>\n",
       "    <tr>\n",
       "      <th>212</th>\n",
       "      <td>0.829430</td>\n",
       "      <td>0.75</td>\n",
       "      <td>100</td>\n",
       "      <td>150</td>\n",
       "      <td>40152</td>\n",
       "      <td>10</td>\n",
       "      <td>0.818121</td>\n",
       "      <td>il4-24h</td>\n",
       "      <td>0.927611</td>\n",
       "    </tr>\n",
       "    <tr>\n",
       "      <th>239</th>\n",
       "      <td>0.847554</td>\n",
       "      <td>0.75</td>\n",
       "      <td>150</td>\n",
       "      <td>150</td>\n",
       "      <td>56702</td>\n",
       "      <td>10</td>\n",
       "      <td>0.849713</td>\n",
       "      <td>il4-24h</td>\n",
       "      <td>0.927164</td>\n",
       "    </tr>\n",
       "  </tbody>\n",
       "</table>\n",
       "</div>"
      ],
      "text/plain": [
       "     Accuracy  Dropout Rate  Num Dense  Num Motifs  Num Params  Pool Size  \\\n",
       "185  0.853222          0.75         50         150       23602         10   \n",
       "209  0.848150          0.75        100         150       43152          5   \n",
       "200  0.842035          0.75        100         100       30802          5   \n",
       "212  0.829430          0.75        100         150       40152         10   \n",
       "239  0.847554          0.75        150         150       56702         10   \n",
       "\n",
       "     Precision Treatment    aucROC  \n",
       "185   0.885384   il4-24h  0.930444  \n",
       "209   0.851699   il4-24h  0.927972  \n",
       "200   0.912084   il4-24h  0.927763  \n",
       "212   0.818121   il4-24h  0.927611  \n",
       "239   0.849713   il4-24h  0.927164  "
      ]
     },
     "execution_count": 30,
     "metadata": {},
     "output_type": "execute_result"
    }
   ],
   "source": [
    "performance_frame[performance_frame['Treatment'] == 'il4-24h'].sort_values('aucROC',ascending = False).head()"
   ]
  },
  {
   "cell_type": "code",
   "execution_count": 31,
   "metadata": {},
   "outputs": [
    {
     "data": {
      "text/html": [
       "<div>\n",
       "<style>\n",
       "    .dataframe thead tr:only-child th {\n",
       "        text-align: right;\n",
       "    }\n",
       "\n",
       "    .dataframe thead th {\n",
       "        text-align: left;\n",
       "    }\n",
       "\n",
       "    .dataframe tbody tr th {\n",
       "        vertical-align: top;\n",
       "    }\n",
       "</style>\n",
       "<table border=\"1\" class=\"dataframe\">\n",
       "  <thead>\n",
       "    <tr style=\"text-align: right;\">\n",
       "      <th></th>\n",
       "      <th>Accuracy</th>\n",
       "      <th>Dropout Rate</th>\n",
       "      <th>Num Dense</th>\n",
       "      <th>Num Motifs</th>\n",
       "      <th>Num Params</th>\n",
       "      <th>Pool Size</th>\n",
       "      <th>Precision</th>\n",
       "      <th>Treatment</th>\n",
       "      <th>aucROC</th>\n",
       "    </tr>\n",
       "  </thead>\n",
       "  <tbody>\n",
       "    <tr>\n",
       "      <th>104</th>\n",
       "      <td>0.854675</td>\n",
       "      <td>0.75</td>\n",
       "      <td>50</td>\n",
       "      <td>150</td>\n",
       "      <td>23602</td>\n",
       "      <td>10</td>\n",
       "      <td>0.885764</td>\n",
       "      <td>veh</td>\n",
       "      <td>0.928435</td>\n",
       "    </tr>\n",
       "    <tr>\n",
       "      <th>158</th>\n",
       "      <td>0.853645</td>\n",
       "      <td>0.75</td>\n",
       "      <td>150</td>\n",
       "      <td>150</td>\n",
       "      <td>56702</td>\n",
       "      <td>10</td>\n",
       "      <td>0.880882</td>\n",
       "      <td>veh</td>\n",
       "      <td>0.926461</td>\n",
       "    </tr>\n",
       "    <tr>\n",
       "      <th>157</th>\n",
       "      <td>0.843978</td>\n",
       "      <td>0.50</td>\n",
       "      <td>150</td>\n",
       "      <td>150</td>\n",
       "      <td>56702</td>\n",
       "      <td>10</td>\n",
       "      <td>0.887498</td>\n",
       "      <td>veh</td>\n",
       "      <td>0.924575</td>\n",
       "    </tr>\n",
       "    <tr>\n",
       "      <th>155</th>\n",
       "      <td>0.848653</td>\n",
       "      <td>0.75</td>\n",
       "      <td>150</td>\n",
       "      <td>150</td>\n",
       "      <td>61202</td>\n",
       "      <td>5</td>\n",
       "      <td>0.884820</td>\n",
       "      <td>veh</td>\n",
       "      <td>0.923599</td>\n",
       "    </tr>\n",
       "    <tr>\n",
       "      <th>149</th>\n",
       "      <td>0.850634</td>\n",
       "      <td>0.75</td>\n",
       "      <td>150</td>\n",
       "      <td>100</td>\n",
       "      <td>39352</td>\n",
       "      <td>10</td>\n",
       "      <td>0.846551</td>\n",
       "      <td>veh</td>\n",
       "      <td>0.923239</td>\n",
       "    </tr>\n",
       "  </tbody>\n",
       "</table>\n",
       "</div>"
      ],
      "text/plain": [
       "     Accuracy  Dropout Rate  Num Dense  Num Motifs  Num Params  Pool Size  \\\n",
       "104  0.854675          0.75         50         150       23602         10   \n",
       "158  0.853645          0.75        150         150       56702         10   \n",
       "157  0.843978          0.50        150         150       56702         10   \n",
       "155  0.848653          0.75        150         150       61202          5   \n",
       "149  0.850634          0.75        150         100       39352         10   \n",
       "\n",
       "     Precision Treatment    aucROC  \n",
       "104   0.885764       veh  0.928435  \n",
       "158   0.880882       veh  0.926461  \n",
       "157   0.887498       veh  0.924575  \n",
       "155   0.884820       veh  0.923599  \n",
       "149   0.846551       veh  0.923239  "
      ]
     },
     "execution_count": 31,
     "metadata": {},
     "output_type": "execute_result"
    }
   ],
   "source": [
    "performance_frame[performance_frame['Treatment'] == 'veh'].sort_values('aucROC',ascending = False).head()"
   ]
  },
  {
   "cell_type": "code",
   "execution_count": 64,
   "metadata": {},
   "outputs": [
    {
     "data": {
      "text/plain": [
       "(0.8, 0.9)"
      ]
     },
     "execution_count": 64,
     "metadata": {},
     "output_type": "execute_result"
    },
    {
     "data": {
      "image/png": "[encoded data removed]",
      "text/plain": [
       "<matplotlib.figure.Figure at 0x7efae8816198>"
      ]
     },
     "metadata": {},
     "output_type": "display_data"
    }
   ],
   "source": [
    "sns.factorplot(data = performance_frame, x = 'Num Motifs', y='Accuracy', hue = 'Treatment')\n",
    "plt.ylim(0.8,0.9)"
   ]
  },
  {
   "cell_type": "code",
   "execution_count": 63,
   "metadata": {},
   "outputs": [
    {
     "data": {
      "text/plain": [
       "(0.8, 0.9)"
      ]
     },
     "execution_count": 63,
     "metadata": {},
     "output_type": "execute_result"
    },
    {
     "data": {
      "image/png": "[encoded data removed]",
      "text/plain": [
       "<matplotlib.figure.Figure at 0x7efae8883be0>"
      ]
     },
     "metadata": {},
     "output_type": "display_data"
    }
   ],
   "source": [
    "sns.factorplot(data = performance_frame, x = 'Pool Size', y='Accuracy', hue = 'Treatment')\n",
    "plt.ylim(0.8,0.9)"
   ]
  },
  {
   "cell_type": "code",
   "execution_count": 62,
   "metadata": {},
   "outputs": [
    {
     "data": {
      "text/plain": [
       "(0.8, 0.9)"
      ]
     },
     "execution_count": 62,
     "metadata": {},
     "output_type": "execute_result"
    },
    {
     "data": {
      "image/png": "[encoded data removed]",
      "text/plain": [
       "<matplotlib.figure.Figure at 0x7efae8a39f60>"
      ]
     },
     "metadata": {},
     "output_type": "display_data"
    }
   ],
   "source": [
    "sns.factorplot(data = performance_frame, x = 'Num Dense', y='Accuracy', hue = 'Treatment')\n",
    "plt.ylim(0.8,0.9)"
   ]
  },
  {
   "cell_type": "markdown",
   "metadata": {},
   "source": [
    "## Weight Extraction"
   ]
  },
  {
   "cell_type": "code",
   "execution_count": 128,
   "metadata": {},
   "outputs": [],
   "source": [
    "def get_sequence_attention(model, sequence, adjacent_bp_pool_size):\n",
    "    get_attention = K.function([model.get_layer('input_fwd').input, \n",
    "                                model.get_layer('input_rev').input,\n",
    "                                K.learning_phase()\n",
    "                               ], \n",
    "                               [model.get_layer('attention_softmax_layer').output])\n",
    "    fwd_seq = sequence[:200]\n",
    "    rev_seq = str(Bio.Seq.Seq(fwd_seq).reverse_complement())\n",
    "    \n",
    "    fwd_seq_array = convert_sequences_to_array([fwd_seq])[0]\n",
    "    rev_seq_array = convert_sequences_to_array([rev_seq])[0]\n",
    "\n",
    "    layer_output = get_attention(([fwd_seq_array], [rev_seq_array], 0))[0]\n",
    "    reshaped_output = layer_output.reshape((layer_output.shape[1], layer_output.shape[2]))\n",
    "\n",
    "\n",
    "    full_attention = []\n",
    "    for x in reshaped_output:\n",
    "        for i in range(adjacent_bp_pool_size):\n",
    "            full_attention.append(x)\n",
    "    full_attention = np.array(full_attention)\n",
    "\n",
    "    crop_distance = int((len(fwd_seq) - full_attention.shape[0])/2)\n",
    "\n",
    "    attended_sequence = fwd_seq[crop_distance:-crop_distance]\n",
    "    return layer_output, full_attention, attended_sequence"
   ]
  },
  {
   "cell_type": "code",
   "execution_count": null,
   "metadata": {},
   "outputs": [],
   "source": [
    "layer_output, full_attention, attended_sequence = get_sequence_attention(dotProductAttention_model,\n",
    "                                                                         str(positive_seqRecords[100].seq),\n",
    "                                                                         10)"
   ]
  },
  {
   "cell_type": "code",
   "execution_count": 53,
   "metadata": {},
   "outputs": [
    {
     "data": {
      "text/plain": [
       "(150, 15)"
      ]
     },
     "execution_count": 53,
     "metadata": {},
     "output_type": "execute_result"
    }
   ],
   "source": [
    "full_attention.shape"
   ]
  },
  {
   "cell_type": "code",
   "execution_count": 54,
   "metadata": {},
   "outputs": [
    {
     "data": {
      "text/plain": [
       "'AGACGCCTCCTAGGGCCGAAACCTCACCTCCCTTTGCCCGCCTGTTCCCTATGCATCTTGGAAATCGTAGTCCTCTGTAAACCAGCTGCTGAGGCGAGCGCCTCTAGTGTACTACAAGTCCCAGGATTCCATGCATCCGCAGGGCCTTAG'"
      ]
     },
     "execution_count": 54,
     "metadata": {},
     "output_type": "execute_result"
    }
   ],
   "source": [
    "attended_sequence"
   ]
  },
  {
   "cell_type": "code",
   "execution_count": 55,
   "metadata": {},
   "outputs": [],
   "source": [
    "chunks = []\n",
    "for i in range(0,len(attended_sequence),10):\n",
    "#     print(i, i+5, attended_sequence[i:i+5])\n",
    "    chunks.append(attended_sequence[i:i+10])"
   ]
  },
  {
   "cell_type": "code",
   "execution_count": 56,
   "metadata": {},
   "outputs": [
    {
     "data": {
      "text/plain": [
       "(array([ 0.5,  1.5,  2.5,  3.5,  4.5,  5.5,  6.5,  7.5,  8.5,  9.5, 10.5,\n",
       "        11.5, 12.5, 13.5, 14.5]), <a list of 15 Text yticklabel objects>)"
      ]
     },
     "execution_count": 56,
     "metadata": {},
     "output_type": "execute_result"
    },
    {
     "data": {
      "image/png": "[encoded data removed]",
      "text/plain": [
       "<matplotlib.figure.Figure at 0x7efae8c3e5f8>"
      ]
     },
     "metadata": {},
     "output_type": "display_data"
    }
   ],
   "source": [
    "plt.figure(figsize = (10,10))\n",
    "sns.heatmap(layer_output.reshape(layer_output.shape[1], \n",
    "                                 layer_output.shape[2]), \n",
    "    square = True,\n",
    "    yticklabels = chunks,\n",
    "    xticklabels=chunks)\n",
    "plt.xticks(rotation = 90)\n",
    "plt.yticks(rotation = 0)"
   ]
  },
  {
   "cell_type": "code",
   "execution_count": 39,
   "metadata": {},
   "outputs": [],
   "source": [
    "summed_attention = layer_output.reshape(layer_output.shape[1], \n",
    "                                 layer_output.shape[2]).sum(axis=1)"
   ]
  },
  {
   "cell_type": "code",
   "execution_count": 40,
   "metadata": {},
   "outputs": [],
   "source": [
    "summed_attention = summed_attention.reshape((len(summed_attention),1))"
   ]
  },
  {
   "cell_type": "code",
   "execution_count": 41,
   "metadata": {},
   "outputs": [
    {
     "data": {
      "text/plain": [
       "<matplotlib.axes._subplots.AxesSubplot at 0x7efae8e5f550>"
      ]
     },
     "execution_count": 41,
     "metadata": {},
     "output_type": "execute_result"
    },
    {
     "data": {
      "image/png": "[encoded data removed]",
      "text/plain": [
       "<matplotlib.figure.Figure at 0x7efae8e51198>"
      ]
     },
     "metadata": {},
     "output_type": "display_data"
    }
   ],
   "source": [
    "plt.figure(figsize = (10,10))\n",
    "\n",
    "\n",
    "sns.heatmap(summed_attention.T,\n",
    "            square = True,\n",
    "            xticklabels=chunks)"
   ]
  },
  {
   "cell_type": "code",
   "execution_count": null,
   "metadata": {},
   "outputs": [],
   "source": []
  }
 ],
 "metadata": {
  "kernelspec": {
   "display_name": "Python 3",
   "language": "python",
   "name": "python3"
  },
  "language_info": {
   "codemirror_mode": {
    "name": "ipython",
    "version": 3
   },
   "file_extension": ".py",
   "mimetype": "text/x-python",
   "name": "python",
   "nbconvert_exporter": "python",
   "pygments_lexer": "ipython3",
   "version": "3.5.1"
  }
 },
 "nbformat": 4,
 "nbformat_minor": 1
}
