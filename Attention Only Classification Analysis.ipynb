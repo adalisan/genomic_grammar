{
 "cells": [
  {
   "cell_type": "markdown",
   "metadata": {},
   "source": [
    "## Attention Only Classification Analysis"
   ]
  },
  {
   "cell_type": "code",
   "execution_count": 2,
   "metadata": {},
   "outputs": [
    {
     "name": "stdout",
     "output_type": "stream",
     "text": [
      "The autoreload extension is already loaded. To reload it, use:\n",
      "  %reload_ext autoreload\n"
     ]
    }
   ],
   "source": [
    "%load_ext autoreload\n",
    "%autoreload 2\n",
    "\n",
    "from __future__ import print_function\n",
    "import keras\n",
    "from keras import backend as K\n",
    "import tensorflow as tf\n",
    "\n",
    "import os\n",
    "import numpy as np\n",
    "import pandas as pd\n",
    "import scipy\n",
    "\n",
    "import Bio\n",
    "from Bio import SeqIO\n",
    "import Bio.motifs\n",
    "\n",
    "%matplotlib inline\n",
    "from matplotlib import pyplot as plt\n",
    "import seaborn as sns\n",
    "from sklearn import model_selection\n",
    "import sklearn\n",
    "\n",
    "from IPython.display import SVG\n",
    "from keras.utils.vis_utils import model_to_dot\n",
    "\n",
    "from signal_models import *\n",
    "from utility_functions import *\n",
    "\n",
    "sns.set_context('notebook')"
   ]
  },
  {
   "cell_type": "code",
   "execution_count": 3,
   "metadata": {
    "collapsed": true
   },
   "outputs": [],
   "source": [
    "working_directory = '/home/jtao/analysis/genomic_grammar_analysis/'"
   ]
  },
  {
   "cell_type": "markdown",
   "metadata": {},
   "source": [
    "## Read Data"
   ]
  },
  {
   "cell_type": "code",
   "execution_count": 5,
   "metadata": {},
   "outputs": [
    {
     "name": "stdout",
     "output_type": "stream",
     "text": [
      "*** kla-1h ***\n",
      "*** veh ***\n",
      "*** il4-24h ***\n"
     ]
    }
   ],
   "source": [
    "treatment_positive_fasta_dict = {}\n",
    "treatment_negative_fasta_dict = {}\n",
    "treatment_positive_seqArray_dict = {}\n",
    "treatment_positive_rc_seqArray_dict = {}\n",
    "treatment_negative_seqArray_dict = {}\n",
    "treatment_negative_rc_seqArray_dict = {}\n",
    "\n",
    "for ps in ['c57bl6_kla-1h_peaks.fasta', 'c57bl6_veh_peaks.fasta', 'c57bl6_il4-24h_peaks.fasta']:\n",
    "    treatment = ps.split('_')[1]\n",
    "    print('***',treatment, '***')\n",
    "    positive_seqRecords = list(SeqIO.parse(working_directory + '/peak_sequences/' + ps, 'fasta'))\n",
    "    negative_seqRecords = list(SeqIO.parse(working_directory + '/background_files/' + ps.replace('_peaks', '_background'), 'fasta'))[:len(positive_seqRecords)]\n",
    "    \n",
    "    positive_fasta_seq = [str(x.seq[:200]) for x in positive_seqRecords]\n",
    "    negative_fasta_seq = [str(x.seq[:200]) for x in negative_seqRecords]\n",
    "    \n",
    "    positive_rc_fasta_seq = [str(x[:200].reverse_complement().seq) for x in positive_seqRecords]\n",
    "    negative_rc_fasta_seq = [str(x[:200].reverse_complement().seq) for x in negative_seqRecords]\n",
    "    \n",
    "    positive_sequence_arrays = convert_sequences_to_array(positive_fasta_seq)\n",
    "    positive_rc_sequence_arrays = convert_sequences_to_array(positive_rc_fasta_seq)\n",
    "    \n",
    "    negative_sequence_arrays = convert_sequences_to_array(negative_fasta_seq)\n",
    "    negative_rc_sequence_arrays = convert_sequences_to_array(negative_rc_fasta_seq)\n",
    "    \n",
    "    treatment_positive_fasta_dict[treatment] = positive_fasta_seq\n",
    "    treatment_negative_fasta_dict[treatment] = negative_fasta_seq\n",
    "    treatment_positive_seqArray_dict[treatment] = positive_sequence_arrays\n",
    "    treatment_positive_rc_seqArray_dict[treatment] = positive_rc_sequence_arrays\n",
    "    treatment_negative_seqArray_dict[treatment] = negative_sequence_arrays\n",
    "    treatment_negative_rc_seqArray_dict[treatment] = negative_rc_sequence_arrays"
   ]
  },
  {
   "cell_type": "markdown",
   "metadata": {},
   "source": [
    "## Set Model Settings"
   ]
  },
  {
   "cell_type": "code",
   "execution_count": 73,
   "metadata": {
    "collapsed": true
   },
   "outputs": [],
   "source": [
    "### settings for attention model ###\n",
    "attention_num_motifs=150\n",
    "attention_motif_size=10\n",
    "adjacent_bp_pool_size=1\n",
    "attention_dropout_rate=0.1\n",
    "\n",
    "### settings for convolution model ###\n",
    "convolution_num_motifs=16\n",
    "convolution_motif_size=24\n",
    "num_dense_neurons=32\n",
    "convolution_dropout_rate=0.5\n",
    "\n",
    "largeConvolution_num_motifs = 50\n",
    "large_num_dense_neurons = 50"
   ]
  },
  {
   "cell_type": "code",
   "execution_count": 74,
   "metadata": {},
   "outputs": [
    {
     "name": "stdout",
     "output_type": "stream",
     "text": [
      "attending axes 1 1 linear\n",
      "dotProductAttention_model 7153\n",
      "convolution_model 2162\n",
      "large_convolution_model 7502\n"
     ]
    }
   ],
   "source": [
    "dotProductAttention_model = get_dotProductAttention_model(200,\n",
    "    mode='classification',\n",
    "    num_motifs=attention_num_motifs, \n",
    "    motif_size=attention_motif_size,\n",
    "    adjacent_bp_pool_size=adjacent_bp_pool_size,\n",
    "    dropout_rate=attention_dropout_rate,\n",
    "    num_classes=2)\n",
    "print('dotProductAttention_model', dotProductAttention_model.count_params())\n",
    "\n",
    "convolution_model = get_convolution_model(200,\n",
    "    mode='classification',\n",
    "    num_motifs=convolution_num_motifs, \n",
    "    motif_size=convolution_motif_size,\n",
    "    num_dense_neurons=num_dense_neurons,\n",
    "    dropout_rate=convolution_dropout_rate,\n",
    "    num_classes=2)\n",
    "print('convolution_model', convolution_model.count_params())\n",
    "\n",
    "large_convolution_model = get_convolution_model(200,\n",
    "    mode='classification',\n",
    "    num_motifs=largeConvolution_num_motifs, \n",
    "    motif_size=convolution_motif_size,\n",
    "    num_dense_neurons=large_num_dense_neurons,\n",
    "    dropout_rate=convolution_dropout_rate,\n",
    "    num_classes=2)\n",
    "print('large_convolution_model', large_convolution_model.count_params())\n",
    "\n"
   ]
  },
  {
   "cell_type": "markdown",
   "metadata": {},
   "source": [
    "## Train All Models for all Data Sets"
   ]
  },
  {
   "cell_type": "code",
   "execution_count": null,
   "metadata": {
    "scrolled": true
   },
   "outputs": [
    {
     "name": "stdout",
     "output_type": "stream",
     "text": [
      "Training DotAttention kla-1h\n",
      "attending axes 1 1 linear\n",
      "Train on 34841 samples, validate on 8711 samples\n",
      "Epoch 1/30\n",
      "34841/34841 [==============================] - 34s 964us/step - loss: 0.6774 - categorical_accuracy: 0.5582 - val_loss: 0.6345 - val_categorical_accuracy: 0.6299\n",
      "Epoch 2/30\n",
      "34841/34841 [==============================] - 31s 898us/step - loss: 0.6019 - categorical_accuracy: 0.6731 - val_loss: 0.5632 - val_categorical_accuracy: 0.7137\n",
      "Epoch 3/30\n",
      "34176/34841 [============================>.] - ETA: 0s - loss: 0.5596 - categorical_accuracy: 0.7160"
     ]
    }
   ],
   "source": [
    "num_epochs = 30\n",
    "all_rocs = []\n",
    "all_accuracies = []\n",
    "all_precisions = []\n",
    "all_treatments = []\n",
    "model_types = []\n",
    "parameter_counts = []\n",
    "train_addAttention = True\n",
    "train_dotAttention = True\n",
    "train_convolution = True\n",
    "train_large_convolution = True\n",
    "\n",
    "condition_model_dict = {}\n",
    "for treatment in treatment_positive_fasta_dict:\n",
    "    positive_sequence_arrays = treatment_positive_seqArray_dict[treatment] \n",
    "    positive_rc_sequence_arrays = treatment_positive_rc_seqArray_dict[treatment]\n",
    "    negative_sequence_arrays = treatment_negative_seqArray_dict[treatment]\n",
    "    negative_rc_sequence_arrays = treatment_negative_rc_seqArray_dict[treatment]\n",
    "\n",
    "    sequence_arrays = np.concatenate([positive_sequence_arrays, negative_sequence_arrays])\n",
    "    sequence_rc_arrays = np.concatenate([positive_rc_sequence_arrays, negative_rc_sequence_arrays])\n",
    "    labels = [1 for x in positive_sequence_arrays] + [0 for x in negative_sequence_arrays]\n",
    "    labels = np.array(labels)\n",
    "\n",
    "    x_train, x_test, x_rc_train, x_rc_test, y_train, y_test = model_selection.train_test_split(\n",
    "        sequence_arrays, \n",
    "        sequence_rc_arrays, \n",
    "        labels, \n",
    "        test_size=0.2)\n",
    "\n",
    "    num_classes = 2\n",
    "    y_train = keras.utils.to_categorical(y_train, num_classes)\n",
    "    y_test = keras.utils.to_categorical(y_test, num_classes)\n",
    "       \n",
    "    ### additive attention model ###\n",
    "#     if train_addAttention:\n",
    "#         print('Training AddAttention', treatment)\n",
    "#         additiveAttention_model = get_additiveAttention_model(200,\n",
    "#             mode='classification',\n",
    "#             num_motifs=attention_num_motifs, \n",
    "#             motif_size=attention_motif_size,\n",
    "#             adjacent_bp_pool_size=adjacent_bp_pool_size,\n",
    "#             attention_dim=50,\n",
    "#             attention_hops=1,\n",
    "#             dropout_rate=attention_dropout_rate\n",
    "#         )\n",
    "# \n",
    "#         additiveAttention_model.fit([x_train], y_train,\n",
    "#                   batch_size=64,\n",
    "#                   epochs=num_epochs,\n",
    "#                   verbose=1,\n",
    "#                   validation_data=([x_test], y_test))\n",
    "\n",
    "#         probs = additiveAttention_model.predict([x_test])\n",
    "#         test_predictions = [0 if x[0] > x[1] else 1 for x in probs]\n",
    "#         roc = sklearn.metrics.roc_auc_score([y[1] for y in y_test], probs[:,1], )\n",
    "#         precision = sklearn.metrics.precision_score([y[1] for y in y_test], test_predictions)\n",
    "#         acc = sklearn.metrics.accuracy_score([y[1] for y in y_test], test_predictions)\n",
    "#         param_count = additiveAttention_model.count_params()\n",
    "#         all_rocs.append(roc)\n",
    "#         all_accuracies.append(acc)\n",
    "#         all_precisions.append(precision)\n",
    "#         all_treatments.append(treatment)\n",
    "#         model_types.append('AddAttention')\n",
    "#         parameter_counts.append(param_count)\n",
    "#         condition_model_dict['AddAttention_'+treatment] = additiveAttention_model\n",
    "    ### ###\n",
    "    \n",
    "    ### dot product attention model ###\n",
    "    if train_dotAttention:\n",
    "        print('Training DotAttention', treatment)\n",
    "        dotProductAttention_model = get_dotProductAttention_model(200,\n",
    "            mode='classification',\n",
    "            num_motifs=attention_num_motifs, \n",
    "            motif_size=attention_motif_size,\n",
    "            adjacent_bp_pool_size=adjacent_bp_pool_size,\n",
    "            dropout_rate=attention_dropout_rate,\n",
    "            num_classes=2)\n",
    "\n",
    "        dotProductAttention_model.fit([x_train], y_train,\n",
    "                  batch_size=64,\n",
    "                  epochs=num_epochs,\n",
    "                  verbose=1,\n",
    "                  validation_data=([x_test], y_test))\n",
    "\n",
    "        probs = dotProductAttention_model.predict([x_test])\n",
    "        test_predictions = [0 if x[0] > x[1] else 1 for x in probs]\n",
    "        roc = sklearn.metrics.roc_auc_score([y[1] for y in y_test], probs[:,1], )\n",
    "        precision = sklearn.metrics.precision_score([y[1] for y in y_test], [0 if x[0] > x[1] else 1 for x in probs])\n",
    "        acc = sklearn.metrics.accuracy_score([y[1] for y in y_test], test_predictions)\n",
    "        param_count = dotProductAttention_model.count_params()\n",
    "\n",
    "        all_rocs.append(roc)\n",
    "        all_accuracies.append(acc)\n",
    "        all_precisions.append(precision)\n",
    "        all_treatments.append(treatment)\n",
    "        model_types.append('DotAttention')\n",
    "        parameter_counts.append(param_count)\n",
    "        condition_model_dict['DotAttention_'+treatment] = dotProductAttention_model\n",
    "    ### ###\n",
    "\n",
    "    ### convolution model ###\n",
    "    if train_convolution:\n",
    "        print('Training Convolution', treatment)\n",
    "        convolution_model = get_convolution_model(200,\n",
    "            mode='classification',\n",
    "            num_motifs=convolution_num_motifs, \n",
    "            motif_size=convolution_motif_size,\n",
    "            num_dense_neurons=num_dense_neurons,\n",
    "            dropout_rate=convolution_dropout_rate,\n",
    "            num_classes=2)\n",
    "        convolution_model.fit([x_train, x_rc_train], y_train,\n",
    "                  batch_size=64,\n",
    "                  epochs=num_epochs,\n",
    "                  verbose=1,\n",
    "                  validation_data=([x_test, x_rc_test], y_test))\n",
    "\n",
    "        probs = convolution_model.predict([x_test, x_rc_test])\n",
    "        test_predictions = [0 if x[0] > x[1] else 1 for x in probs]\n",
    "        roc = sklearn.metrics.roc_auc_score([y[1] for y in y_test], probs[:,1], )\n",
    "        precision = sklearn.metrics.precision_score([y[1] for y in y_test], [0 if x[0] > x[1] else 1 for x in probs])\n",
    "        acc = sklearn.metrics.accuracy_score([y[1] for y in y_test], test_predictions)\n",
    "        param_count = convolution_model.count_params()\n",
    "\n",
    "        all_rocs.append(roc)\n",
    "        all_accuracies.append(acc)\n",
    "        all_precisions.append(precision)\n",
    "        all_treatments.append(treatment)\n",
    "        model_types.append('Convolution')\n",
    "        parameter_counts.append(param_count)\n",
    "        condition_model_dict['Convolution_'+treatment] = convolution_model\n",
    "    \n",
    "    ### large convolution model ###\n",
    "    if train_large_convolution:\n",
    "        print('Training Large Convolution', treatment)\n",
    "        large_convolution_model = get_convolution_model(200,\n",
    "            mode='classification',\n",
    "            num_motifs=largeConvolution_num_motifs, \n",
    "            motif_size=convolution_motif_size,\n",
    "            num_dense_neurons=large_num_dense_neurons,\n",
    "            dropout_rate=convolution_dropout_rate,\n",
    "            num_classes=2)\n",
    "        large_convolution_model.fit([x_train, x_rc_train], y_train,\n",
    "                  batch_size=64,\n",
    "                  epochs=num_epochs,\n",
    "                  verbose=1,\n",
    "                  validation_data=([x_test, x_rc_test], y_test))\n",
    "\n",
    "        probs = large_convolution_model.predict([x_test, x_rc_test])\n",
    "        test_predictions = [0 if x[0] > x[1] else 1 for x in probs]\n",
    "        roc = sklearn.metrics.roc_auc_score([y[1] for y in y_test], probs[:,1], )\n",
    "        precision = sklearn.metrics.precision_score([y[1] for y in y_test], [0 if x[0] > x[1] else 1 for x in probs])\n",
    "        acc = sklearn.metrics.accuracy_score([y[1] for y in y_test], test_predictions)\n",
    "        param_count = convolution_model.count_params()\n",
    "\n",
    "        all_rocs.append(roc)\n",
    "        all_accuracies.append(acc)\n",
    "        all_precisions.append(precision)\n",
    "        all_treatments.append(treatment)\n",
    "        model_types.append('LargeConvolution')\n",
    "        parameter_counts.append(param_count)\n",
    "        condition_model_dict['LargeConvolution_'+treatment] = large_convolution_model"
   ]
  },
  {
   "cell_type": "markdown",
   "metadata": {},
   "source": [
    "## Serialize Models"
   ]
  },
  {
   "cell_type": "code",
   "execution_count": null,
   "metadata": {
    "collapsed": true
   },
   "outputs": [],
   "source": [
    "if len(condition_model_dict) > 0:\n",
    "    if not os.path.isdir(working_directory + '/models_classification'):\n",
    "        os.mkdir(working_directory + '/models_classification')\n",
    "    else:\n",
    "        for f in os.listdir(working_directory + '/models_classification'):\n",
    "            os.remove(working_directory + '/models_classification/' + f)\n",
    "    for treatment_modelType in condition_model_dict.keys():\n",
    "        current_model = condition_model_dict[treatment_modelType]\n",
    "        current_model.save_weights(working_directory + '/models_classification/' + treatment_modelType + '_weights.h5',\n",
    "                          )"
   ]
  },
  {
   "cell_type": "markdown",
   "metadata": {},
   "source": [
    "## Read in Models"
   ]
  },
  {
   "cell_type": "code",
   "execution_count": null,
   "metadata": {},
   "outputs": [],
   "source": [
    "condition_model_dict = {}\n",
    "for f in os.listdir(working_directory + '/models_classification/'):\n",
    "    treatment_modelType = f.replace('_weights.h5','')\n",
    "    modelType = treatment_modelType.split('_')[0]    \n",
    "    if modelType == 'DotAttention':\n",
    "        current_model = get_dotProductAttention_model(200,\n",
    "            mode='classification',\n",
    "            num_motifs=attention_num_motifs, \n",
    "            motif_size=attention_motif_size,\n",
    "            adjacent_bp_pool_size=adjacent_bp_pool_size,\n",
    "            dropout_rate=attention_dropout_rate,\n",
    "            num_classes=2)  \n",
    "    elif modelType == 'Convolution':\n",
    "        current_model = get_convolution_model(200,\n",
    "            mode='classification',\n",
    "            num_motifs=convolution_num_motifs, \n",
    "            motif_size=convolution_motif_size,\n",
    "            num_dense_neurons=num_dense_neurons,\n",
    "            dropout_rate=convolution_dropout_rate,\n",
    "            num_classes=2)\n",
    "    elif modelType == 'LargeConvolution':\n",
    "        current_model = get_convolution_model(200,\n",
    "            mode='classification',\n",
    "            num_motifs= largeConvolution_num_motifs, \n",
    "            motif_size=convolution_motif_size,\n",
    "            num_dense_neurons=large_num_dense_neurons,\n",
    "            dropout_rate=convolution_dropout_rate,\n",
    "            num_classes=2)\n",
    "    current_model.load_weights(working_directory + '/models_classification/' + treatment_modelType + '_weights.h5',\n",
    "                              )\n",
    "    condition_model_dict[treatment_modelType] = current_model"
   ]
  },
  {
   "cell_type": "markdown",
   "metadata": {},
   "source": [
    "## Test Model Performance"
   ]
  },
  {
   "cell_type": "code",
   "execution_count": null,
   "metadata": {},
   "outputs": [],
   "source": [
    "all_rocs = []\n",
    "all_accuracies = []\n",
    "all_precisions = []\n",
    "all_treatments = []\n",
    "model_types = []\n",
    "parameter_counts = []\n",
    "for treatment in treatment_positive_fasta_dict:\n",
    "    positive_sequence_arrays = treatment_positive_seqArray_dict[treatment] \n",
    "    positive_rc_sequence_arrays = treatment_positive_rc_seqArray_dict[treatment]\n",
    "    negative_sequence_arrays = treatment_negative_seqArray_dict[treatment]\n",
    "    negative_rc_sequence_arrays = treatment_negative_rc_seqArray_dict[treatment]\n",
    "\n",
    "    sequence_arrays = np.concatenate([positive_sequence_arrays, negative_sequence_arrays])\n",
    "    sequence_rc_arrays = np.concatenate([positive_rc_sequence_arrays, negative_rc_sequence_arrays])\n",
    "    labels = [1 for x in positive_sequence_arrays] + [0 for x in negative_sequence_arrays]\n",
    "    labels = np.array(labels)\n",
    "\n",
    "    x_train, x_test, x_rc_train, x_rc_test, y_train, y_test = model_selection.train_test_split(\n",
    "        sequence_arrays, \n",
    "        sequence_rc_arrays, \n",
    "        labels, \n",
    "        test_size=0.2)\n",
    "\n",
    "    num_classes = 2\n",
    "    y_train = keras.utils.to_categorical(y_train, num_classes)\n",
    "    y_test = keras.utils.to_categorical(y_test, num_classes)\n",
    "    \n",
    "    \n",
    "    for treatment_model in condition_model_dict.keys():      \n",
    "        if treatment_model.split('_')[1] == treatment:\n",
    "            current_model = condition_model_dict[treatment_model] \n",
    "            if treatment_model.split('_')[0] == 'Convolution':\n",
    "                probs = current_model.predict([x_test, x_rc_test])\n",
    "                test_predictions = [0 if x[0] > x[1] else 1 for x in probs]\n",
    "                roc = sklearn.metrics.roc_auc_score([y[1] for y in y_test], probs[:,1], )\n",
    "                precision = sklearn.metrics.precision_score([y[1] for y in y_test], [0 if x[0] > x[1] else 1 for x in probs])\n",
    "                acc = sklearn.metrics.accuracy_score([y[1] for y in y_test], test_predictions)\n",
    "                param_count = convolution_model.count_params()\n",
    "                model_types.append('Convolution')\n",
    "            elif treatment_model.split('_')[0] == 'LargeConvolution':\n",
    "                probs = current_model.predict([x_test, x_rc_test])\n",
    "                test_predictions = [0 if x[0] > x[1] else 1 for x in probs]\n",
    "                roc = sklearn.metrics.roc_auc_score([y[1] for y in y_test], probs[:,1], )\n",
    "                precision = sklearn.metrics.precision_score([y[1] for y in y_test], [0 if x[0] > x[1] else 1 for x in probs])\n",
    "                acc = sklearn.metrics.accuracy_score([y[1] for y in y_test], test_predictions)\n",
    "                param_count = convolution_model.count_params()\n",
    "                model_types.append('LargeConvolution')\n",
    "            elif treatment_model.split('_')[0] == 'DotAttention':\n",
    "                probs = current_model.predict([x_test])\n",
    "                test_predictions = [0 if x[0] > x[1] else 1 for x in probs]\n",
    "                roc = sklearn.metrics.roc_auc_score([y[1] for y in y_test], probs[:,1], )\n",
    "                precision = sklearn.metrics.precision_score([y[1] for y in y_test], [0 if x[0] > x[1] else 1 for x in probs])\n",
    "                acc = sklearn.metrics.accuracy_score([y[1] for y in y_test], test_predictions)\n",
    "                param_count = current_model.count_params()\n",
    "                model_types.append('DotAttention')\n",
    "            else:\n",
    "                print('moo', treatment_model)\n",
    "            \n",
    "            \n",
    "            all_rocs.append(roc)\n",
    "            all_accuracies.append(acc)\n",
    "            all_precisions.append(precision)\n",
    "            all_treatments.append(treatment)\n",
    "            \n",
    "            parameter_counts.append(param_count)\n",
    "            print(treatment_model, acc, roc, precision)"
   ]
  },
  {
   "cell_type": "code",
   "execution_count": null,
   "metadata": {
    "collapsed": true
   },
   "outputs": [],
   "source": [
    "performance_frame = pd.DataFrame({'Model Type': model_types, \n",
    "                                  'Treatment':all_treatments,\n",
    "                                  'Accuracy':all_accuracies, \n",
    "                                  'aucROC':all_rocs,\n",
    "                                  'Precision':all_precisions})"
   ]
  },
  {
   "cell_type": "code",
   "execution_count": null,
   "metadata": {},
   "outputs": [],
   "source": [
    "with sns.axes_style('whitegrid'):\n",
    "    sns.factorplot(data = performance_frame,\n",
    "        x = 'Treatment', \n",
    "        y = 'Accuracy',\n",
    "        hue = 'Model Type',\n",
    "        kind = 'bar'\n",
    "        )\n",
    "    plt.ylim(0,1)"
   ]
  },
  {
   "cell_type": "code",
   "execution_count": null,
   "metadata": {},
   "outputs": [],
   "source": [
    "with sns.axes_style('whitegrid'):\n",
    "    sns.factorplot(data = performance_frame,\n",
    "        x = 'Treatment', \n",
    "        y = 'Precision',\n",
    "        hue = 'Model Type',\n",
    "        kind = 'bar'\n",
    "        )\n",
    "    plt.ylim(0,1)"
   ]
  },
  {
   "cell_type": "code",
   "execution_count": null,
   "metadata": {},
   "outputs": [],
   "source": [
    "with sns.axes_style('whitegrid'):\n",
    "    sns.factorplot(data = performance_frame,\n",
    "        x = 'Treatment', \n",
    "        y = 'aucROC',\n",
    "        hue = 'Model Type',\n",
    "        kind = 'bar'\n",
    "        )\n",
    "    plt.ylim(0,1)"
   ]
  },
  {
   "cell_type": "markdown",
   "metadata": {},
   "source": [
    "## Grid Search for Dot Product Attention Model"
   ]
  },
  {
   "cell_type": "code",
   "execution_count": null,
   "metadata": {
    "collapsed": true,
    "scrolled": true
   },
   "outputs": [],
   "source": [
    "all_rocs = []\n",
    "all_accuracies = []\n",
    "all_precisions = []\n",
    "poolSize_list = []\n",
    "all_treatments = []\n",
    "motifCount_list = []\n",
    "numDense_list = []\n",
    "paramCount_list = []\n",
    "dropoutRate_list = []\n",
    "num_epochs = 20\n",
    "for ps in ['c57bl6_kla-1h_peaks.fasta', 'c57bl6_veh_peaks.fasta', 'c57bl6_il4-24h_peaks.fasta']:\n",
    "    print(ps)\n",
    "    positive_seqRecords = list(SeqIO.parse(working_directory + '/peak_sequences/' + ps, 'fasta'))\n",
    "    negative_seqRecords = list(SeqIO.parse(working_directory + '/background_files/' + ps.replace('_peaks', '_background'), 'fasta'))[:len(positive_seqRecords)]\n",
    "\n",
    "    fasta_seq = [str(x.seq[:200]) for x in positive_seqRecords] + [str(x[:200].seq) for x in negative_seqRecords]\n",
    "\n",
    "    fasta_rc_seq = [str(x[:200].reverse_complement().seq) for x in positive_seqRecords] + \\\n",
    "        [str(x[:200].reverse_complement().seq) for x in negative_seqRecords]\n",
    "\n",
    "    sequence_arrays = convert_sequences_to_array(fasta_seq)\n",
    "\n",
    "    sequence_rc_arrays = convert_sequences_to_array(fasta_rc_seq)\n",
    "\n",
    "\n",
    "    labels = [1 for x in positive_seqRecords] + [0 for x in negative_seqRecords]\n",
    "    labels = np.array(labels)\n",
    "\n",
    "    x_train, x_test, x_rc_train, x_rc_test, y_train, y_test = model_selection.train_test_split(sequence_arrays, sequence_rc_arrays, labels, test_size=0.2)\n",
    "\n",
    "    num_classes = 2\n",
    "    y_train = keras.utils.to_categorical(y_train, num_classes)\n",
    "    y_test = keras.utils.to_categorical(y_test, num_classes)\n",
    "    \n",
    "    treatment = ps.split('_')[1]\n",
    "    \n",
    "    for d in range(50,200,50):\n",
    "        for m in range(50,200,50):\n",
    "            for p in [5,10,20]:\n",
    "                for do in [0.25,0.5,0.75]:\n",
    "                    \n",
    "                    current_model = get_dotProductAttention_model(200,\n",
    "                        mode='classification',\n",
    "                        num_classes = 2,\n",
    "                        num_motifs=m, \n",
    "                        motif_size=10,\n",
    "                        adjacent_bp_pool_size=p,\n",
    "                        num_dense_neurons=d,\n",
    "                        dropout_rate=do)\n",
    "                    num_params = current_model.count_params()\n",
    "                    print(treatment, \n",
    "                         'num dense', d,\n",
    "                         'num motifs', m,\n",
    "                         'pool size', p,\n",
    "                         'dropout rate', do,\n",
    "                         'param count', num_params)\n",
    "                    current_model.fit(x_train, y_train,\n",
    "                          batch_size=64,\n",
    "                          epochs=num_epochs,\n",
    "                          verbose=1,\n",
    "                          validation_data=([x_test], y_test))\n",
    "\n",
    "                    probs = current_model.predict([x_test])\n",
    "                    test_predictions = [0 if x[0] > x[1] else 1 for x in probs]\n",
    "                    roc = sklearn.metrics.roc_auc_score([y[1] for y in y_test], probs[:,1])\n",
    "                    precision = sklearn.metrics.precision_score([y[1] for y in y_test], test_predictions)\n",
    "                    acc = sklearn.metrics.accuracy_score([y[1] for y in y_test], test_predictions)\n",
    "                    \n",
    "                    all_rocs.append(roc)\n",
    "                    all_accuracies.append(acc)\n",
    "                    all_precisions.append(precision)\n",
    "                    poolSize_list.append(p)\n",
    "                    all_treatments.append(treatment)\n",
    "                    motifCount_list.append(m)\n",
    "                    numDense_list.append(d)\n",
    "                    paramCount_list.append(num_params)\n",
    "                    dropoutRate_list.append(do)"
   ]
  },
  {
   "cell_type": "code",
   "execution_count": 21,
   "metadata": {
    "collapsed": true,
    "scrolled": false
   },
   "outputs": [],
   "source": [
    "performance_frame = pd.DataFrame({'aucROC':all_rocs, \n",
    "                      'Accuracy':all_accuracies, \n",
    "                      'Pool Size':poolSize_list, \n",
    "                      'Precision':all_precisions,\n",
    "                      'Treatment':all_treatments,\n",
    "                      'Num Motifs':motifCount_list,\n",
    "                      'Num Dense':numDense_list,\n",
    "                      'Num Params':paramCount_list,\n",
    "                      'Dropout Rate':dropoutRate_list\n",
    "                      })"
   ]
  },
  {
   "cell_type": "code",
   "execution_count": 22,
   "metadata": {
    "collapsed": true
   },
   "outputs": [],
   "source": [
    "performance_frame.to_csv('./grid_search_results.tsv', sep='\\t')"
   ]
  },
  {
   "cell_type": "code",
   "execution_count": 29,
   "metadata": {},
   "outputs": [
    {
     "data": {
      "text/html": [
       "<div>\n",
       "<style>\n",
       "    .dataframe thead tr:only-child th {\n",
       "        text-align: right;\n",
       "    }\n",
       "\n",
       "    .dataframe thead th {\n",
       "        text-align: left;\n",
       "    }\n",
       "\n",
       "    .dataframe tbody tr th {\n",
       "        vertical-align: top;\n",
       "    }\n",
       "</style>\n",
       "<table border=\"1\" class=\"dataframe\">\n",
       "  <thead>\n",
       "    <tr style=\"text-align: right;\">\n",
       "      <th></th>\n",
       "      <th>Accuracy</th>\n",
       "      <th>Dropout Rate</th>\n",
       "      <th>Num Dense</th>\n",
       "      <th>Num Motifs</th>\n",
       "      <th>Num Params</th>\n",
       "      <th>Pool Size</th>\n",
       "      <th>Precision</th>\n",
       "      <th>Treatment</th>\n",
       "      <th>aucROC</th>\n",
       "    </tr>\n",
       "  </thead>\n",
       "  <tbody>\n",
       "    <tr>\n",
       "      <th>50</th>\n",
       "      <td>0.835725</td>\n",
       "      <td>0.75</td>\n",
       "      <td>100</td>\n",
       "      <td>150</td>\n",
       "      <td>40152</td>\n",
       "      <td>10</td>\n",
       "      <td>0.870618</td>\n",
       "      <td>kla-1h</td>\n",
       "      <td>0.920197</td>\n",
       "    </tr>\n",
       "    <tr>\n",
       "      <th>77</th>\n",
       "      <td>0.837447</td>\n",
       "      <td>0.75</td>\n",
       "      <td>150</td>\n",
       "      <td>150</td>\n",
       "      <td>56702</td>\n",
       "      <td>10</td>\n",
       "      <td>0.873728</td>\n",
       "      <td>kla-1h</td>\n",
       "      <td>0.916011</td>\n",
       "    </tr>\n",
       "    <tr>\n",
       "      <th>23</th>\n",
       "      <td>0.837791</td>\n",
       "      <td>0.75</td>\n",
       "      <td>50</td>\n",
       "      <td>150</td>\n",
       "      <td>23602</td>\n",
       "      <td>10</td>\n",
       "      <td>0.879173</td>\n",
       "      <td>kla-1h</td>\n",
       "      <td>0.915555</td>\n",
       "    </tr>\n",
       "    <tr>\n",
       "      <th>68</th>\n",
       "      <td>0.839972</td>\n",
       "      <td>0.75</td>\n",
       "      <td>150</td>\n",
       "      <td>100</td>\n",
       "      <td>39352</td>\n",
       "      <td>10</td>\n",
       "      <td>0.896112</td>\n",
       "      <td>kla-1h</td>\n",
       "      <td>0.915317</td>\n",
       "    </tr>\n",
       "    <tr>\n",
       "      <th>11</th>\n",
       "      <td>0.831133</td>\n",
       "      <td>0.75</td>\n",
       "      <td>50</td>\n",
       "      <td>100</td>\n",
       "      <td>17752</td>\n",
       "      <td>5</td>\n",
       "      <td>0.866940</td>\n",
       "      <td>kla-1h</td>\n",
       "      <td>0.914013</td>\n",
       "    </tr>\n",
       "  </tbody>\n",
       "</table>\n",
       "</div>"
      ],
      "text/plain": [
       "    Accuracy  Dropout Rate  Num Dense  Num Motifs  Num Params  Pool Size  \\\n",
       "50  0.835725          0.75        100         150       40152         10   \n",
       "77  0.837447          0.75        150         150       56702         10   \n",
       "23  0.837791          0.75         50         150       23602         10   \n",
       "68  0.839972          0.75        150         100       39352         10   \n",
       "11  0.831133          0.75         50         100       17752          5   \n",
       "\n",
       "    Precision Treatment    aucROC  \n",
       "50   0.870618    kla-1h  0.920197  \n",
       "77   0.873728    kla-1h  0.916011  \n",
       "23   0.879173    kla-1h  0.915555  \n",
       "68   0.896112    kla-1h  0.915317  \n",
       "11   0.866940    kla-1h  0.914013  "
      ]
     },
     "execution_count": 29,
     "metadata": {},
     "output_type": "execute_result"
    }
   ],
   "source": [
    "performance_frame[performance_frame['Treatment'] == 'kla-1h'].sort_values('aucROC',ascending = False).head()"
   ]
  },
  {
   "cell_type": "code",
   "execution_count": 30,
   "metadata": {},
   "outputs": [
    {
     "data": {
      "text/html": [
       "<div>\n",
       "<style>\n",
       "    .dataframe thead tr:only-child th {\n",
       "        text-align: right;\n",
       "    }\n",
       "\n",
       "    .dataframe thead th {\n",
       "        text-align: left;\n",
       "    }\n",
       "\n",
       "    .dataframe tbody tr th {\n",
       "        vertical-align: top;\n",
       "    }\n",
       "</style>\n",
       "<table border=\"1\" class=\"dataframe\">\n",
       "  <thead>\n",
       "    <tr style=\"text-align: right;\">\n",
       "      <th></th>\n",
       "      <th>Accuracy</th>\n",
       "      <th>Dropout Rate</th>\n",
       "      <th>Num Dense</th>\n",
       "      <th>Num Motifs</th>\n",
       "      <th>Num Params</th>\n",
       "      <th>Pool Size</th>\n",
       "      <th>Precision</th>\n",
       "      <th>Treatment</th>\n",
       "      <th>aucROC</th>\n",
       "    </tr>\n",
       "  </thead>\n",
       "  <tbody>\n",
       "    <tr>\n",
       "      <th>185</th>\n",
       "      <td>0.853222</td>\n",
       "      <td>0.75</td>\n",
       "      <td>50</td>\n",
       "      <td>150</td>\n",
       "      <td>23602</td>\n",
       "      <td>10</td>\n",
       "      <td>0.885384</td>\n",
       "      <td>il4-24h</td>\n",
       "      <td>0.930444</td>\n",
       "    </tr>\n",
       "    <tr>\n",
       "      <th>209</th>\n",
       "      <td>0.848150</td>\n",
       "      <td>0.75</td>\n",
       "      <td>100</td>\n",
       "      <td>150</td>\n",
       "      <td>43152</td>\n",
       "      <td>5</td>\n",
       "      <td>0.851699</td>\n",
       "      <td>il4-24h</td>\n",
       "      <td>0.927972</td>\n",
       "    </tr>\n",
       "    <tr>\n",
       "      <th>200</th>\n",
       "      <td>0.842035</td>\n",
       "      <td>0.75</td>\n",
       "      <td>100</td>\n",
       "      <td>100</td>\n",
       "      <td>30802</td>\n",
       "      <td>5</td>\n",
       "      <td>0.912084</td>\n",
       "      <td>il4-24h</td>\n",
       "      <td>0.927763</td>\n",
       "    </tr>\n",
       "    <tr>\n",
       "      <th>212</th>\n",
       "      <td>0.829430</td>\n",
       "      <td>0.75</td>\n",
       "      <td>100</td>\n",
       "      <td>150</td>\n",
       "      <td>40152</td>\n",
       "      <td>10</td>\n",
       "      <td>0.818121</td>\n",
       "      <td>il4-24h</td>\n",
       "      <td>0.927611</td>\n",
       "    </tr>\n",
       "    <tr>\n",
       "      <th>239</th>\n",
       "      <td>0.847554</td>\n",
       "      <td>0.75</td>\n",
       "      <td>150</td>\n",
       "      <td>150</td>\n",
       "      <td>56702</td>\n",
       "      <td>10</td>\n",
       "      <td>0.849713</td>\n",
       "      <td>il4-24h</td>\n",
       "      <td>0.927164</td>\n",
       "    </tr>\n",
       "  </tbody>\n",
       "</table>\n",
       "</div>"
      ],
      "text/plain": [
       "     Accuracy  Dropout Rate  Num Dense  Num Motifs  Num Params  Pool Size  \\\n",
       "185  0.853222          0.75         50         150       23602         10   \n",
       "209  0.848150          0.75        100         150       43152          5   \n",
       "200  0.842035          0.75        100         100       30802          5   \n",
       "212  0.829430          0.75        100         150       40152         10   \n",
       "239  0.847554          0.75        150         150       56702         10   \n",
       "\n",
       "     Precision Treatment    aucROC  \n",
       "185   0.885384   il4-24h  0.930444  \n",
       "209   0.851699   il4-24h  0.927972  \n",
       "200   0.912084   il4-24h  0.927763  \n",
       "212   0.818121   il4-24h  0.927611  \n",
       "239   0.849713   il4-24h  0.927164  "
      ]
     },
     "execution_count": 30,
     "metadata": {},
     "output_type": "execute_result"
    }
   ],
   "source": [
    "performance_frame[performance_frame['Treatment'] == 'il4-24h'].sort_values('aucROC',ascending = False).head()"
   ]
  },
  {
   "cell_type": "code",
   "execution_count": 31,
   "metadata": {},
   "outputs": [
    {
     "data": {
      "text/html": [
       "<div>\n",
       "<style>\n",
       "    .dataframe thead tr:only-child th {\n",
       "        text-align: right;\n",
       "    }\n",
       "\n",
       "    .dataframe thead th {\n",
       "        text-align: left;\n",
       "    }\n",
       "\n",
       "    .dataframe tbody tr th {\n",
       "        vertical-align: top;\n",
       "    }\n",
       "</style>\n",
       "<table border=\"1\" class=\"dataframe\">\n",
       "  <thead>\n",
       "    <tr style=\"text-align: right;\">\n",
       "      <th></th>\n",
       "      <th>Accuracy</th>\n",
       "      <th>Dropout Rate</th>\n",
       "      <th>Num Dense</th>\n",
       "      <th>Num Motifs</th>\n",
       "      <th>Num Params</th>\n",
       "      <th>Pool Size</th>\n",
       "      <th>Precision</th>\n",
       "      <th>Treatment</th>\n",
       "      <th>aucROC</th>\n",
       "    </tr>\n",
       "  </thead>\n",
       "  <tbody>\n",
       "    <tr>\n",
       "      <th>104</th>\n",
       "      <td>0.854675</td>\n",
       "      <td>0.75</td>\n",
       "      <td>50</td>\n",
       "      <td>150</td>\n",
       "      <td>23602</td>\n",
       "      <td>10</td>\n",
       "      <td>0.885764</td>\n",
       "      <td>veh</td>\n",
       "      <td>0.928435</td>\n",
       "    </tr>\n",
       "    <tr>\n",
       "      <th>158</th>\n",
       "      <td>0.853645</td>\n",
       "      <td>0.75</td>\n",
       "      <td>150</td>\n",
       "      <td>150</td>\n",
       "      <td>56702</td>\n",
       "      <td>10</td>\n",
       "      <td>0.880882</td>\n",
       "      <td>veh</td>\n",
       "      <td>0.926461</td>\n",
       "    </tr>\n",
       "    <tr>\n",
       "      <th>157</th>\n",
       "      <td>0.843978</td>\n",
       "      <td>0.50</td>\n",
       "      <td>150</td>\n",
       "      <td>150</td>\n",
       "      <td>56702</td>\n",
       "      <td>10</td>\n",
       "      <td>0.887498</td>\n",
       "      <td>veh</td>\n",
       "      <td>0.924575</td>\n",
       "    </tr>\n",
       "    <tr>\n",
       "      <th>155</th>\n",
       "      <td>0.848653</td>\n",
       "      <td>0.75</td>\n",
       "      <td>150</td>\n",
       "      <td>150</td>\n",
       "      <td>61202</td>\n",
       "      <td>5</td>\n",
       "      <td>0.884820</td>\n",
       "      <td>veh</td>\n",
       "      <td>0.923599</td>\n",
       "    </tr>\n",
       "    <tr>\n",
       "      <th>149</th>\n",
       "      <td>0.850634</td>\n",
       "      <td>0.75</td>\n",
       "      <td>150</td>\n",
       "      <td>100</td>\n",
       "      <td>39352</td>\n",
       "      <td>10</td>\n",
       "      <td>0.846551</td>\n",
       "      <td>veh</td>\n",
       "      <td>0.923239</td>\n",
       "    </tr>\n",
       "  </tbody>\n",
       "</table>\n",
       "</div>"
      ],
      "text/plain": [
       "     Accuracy  Dropout Rate  Num Dense  Num Motifs  Num Params  Pool Size  \\\n",
       "104  0.854675          0.75         50         150       23602         10   \n",
       "158  0.853645          0.75        150         150       56702         10   \n",
       "157  0.843978          0.50        150         150       56702         10   \n",
       "155  0.848653          0.75        150         150       61202          5   \n",
       "149  0.850634          0.75        150         100       39352         10   \n",
       "\n",
       "     Precision Treatment    aucROC  \n",
       "104   0.885764       veh  0.928435  \n",
       "158   0.880882       veh  0.926461  \n",
       "157   0.887498       veh  0.924575  \n",
       "155   0.884820       veh  0.923599  \n",
       "149   0.846551       veh  0.923239  "
      ]
     },
     "execution_count": 31,
     "metadata": {},
     "output_type": "execute_result"
    }
   ],
   "source": [
    "performance_frame[performance_frame['Treatment'] == 'veh'].sort_values('aucROC',ascending = False).head()"
   ]
  },
  {
   "cell_type": "code",
   "execution_count": 64,
   "metadata": {},
   "outputs": [
    {
     "data": {
      "text/plain": [
       "(0.8, 0.9)"
      ]
     },
     "execution_count": 64,
     "metadata": {},
     "output_type": "execute_result"
    },
    {
     "data": {
      "image/png": "[encoded data removed]",
      "text/plain": [
       "<matplotlib.figure.Figure at 0x7efae8816198>"
      ]
     },
     "metadata": {},
     "output_type": "display_data"
    }
   ],
   "source": [
    "sns.factorplot(data = performance_frame, x = 'Num Motifs', y='Accuracy', hue = 'Treatment')\n",
    "plt.ylim(0.8,0.9)"
   ]
  },
  {
   "cell_type": "code",
   "execution_count": 63,
   "metadata": {},
   "outputs": [
    {
     "data": {
      "text/plain": [
       "(0.8, 0.9)"
      ]
     },
     "execution_count": 63,
     "metadata": {},
     "output_type": "execute_result"
    },
    {
     "data": {
      "image/png": "[encoded data removed]",
      "text/plain": [
       "<matplotlib.figure.Figure at 0x7efae8883be0>"
      ]
     },
     "metadata": {},
     "output_type": "display_data"
    }
   ],
   "source": [
    "sns.factorplot(data = performance_frame, x = 'Pool Size', y='Accuracy', hue = 'Treatment')\n",
    "plt.ylim(0.8,0.9)"
   ]
  },
  {
   "cell_type": "code",
   "execution_count": 62,
   "metadata": {},
   "outputs": [
    {
     "data": {
      "text/plain": [
       "(0.8, 0.9)"
      ]
     },
     "execution_count": 62,
     "metadata": {},
     "output_type": "execute_result"
    },
    {
     "data": {
      "image/png": "[encoded data removed]",
      "text/plain": [
       "<matplotlib.figure.Figure at 0x7efae8a39f60>"
      ]
     },
     "metadata": {},
     "output_type": "display_data"
    }
   ],
   "source": [
    "sns.factorplot(data = performance_frame, x = 'Num Dense', y='Accuracy', hue = 'Treatment')\n",
    "plt.ylim(0.8,0.9)"
   ]
  },
  {
   "cell_type": "markdown",
   "metadata": {},
   "source": [
    "## Weight Extraction"
   ]
  },
  {
   "cell_type": "code",
   "execution_count": 549,
   "metadata": {
    "collapsed": true
   },
   "outputs": [],
   "source": [
    "def get_sequence_attention(model, sequence_arrays, sequence_size, adjacent_bp_pool_size):\n",
    "    get_attention = K.function([model.get_layer('input_fwd').input, \n",
    "                                K.learning_phase()\n",
    "                               ], \n",
    "                               [model.get_layer('attention_softmax_layer').output])\n",
    "    trimmed_sequences = [x[:sequence_size] for x in sequence_arrays]\n",
    "    \n",
    "    attention = get_attention((trimmed_sequences, 0))[0]\n",
    "\n",
    "    return attention"
   ]
  },
  {
   "cell_type": "code",
   "execution_count": 550,
   "metadata": {},
   "outputs": [
    {
     "name": "stdout",
     "output_type": "stream",
     "text": [
      "*** kla-1h ***\n",
      "*** veh ***\n",
      "*** il4-24h ***\n"
     ]
    }
   ],
   "source": [
    "treatment_attention_dict = {}\n",
    "for ps in ['c57bl6_kla-1h_peaks.fasta', 'c57bl6_veh_peaks.fasta', 'c57bl6_il4-24h_peaks.fasta']:\n",
    "    treatment = ps.split('_')[1]\n",
    "    print('***',treatment, '***')\n",
    "    fasta_seq = treatment_positive_fasta_dict[treatment]\n",
    "    \n",
    "    sequence_arrays = treatment_positive_seqArray_dict[treatment]\n",
    "    if 'DotAttention_'+treatment in condition_model_dict:\n",
    "        current_model = condition_model_dict['DotAttention_'+treatment]\n",
    "\n",
    "        attention = get_sequence_attention(current_model,\n",
    "            sequence_arrays,\n",
    "            200,\n",
    "            10)\n",
    "\n",
    "        treatment_attention_dict[treatment] = attention\n"
   ]
  },
  {
   "cell_type": "markdown",
   "metadata": {},
   "source": [
    "## Visualize Attention"
   ]
  },
  {
   "cell_type": "markdown",
   "metadata": {},
   "source": [
    "### Overall Matrix"
   ]
  },
  {
   "cell_type": "code",
   "execution_count": 551,
   "metadata": {},
   "outputs": [
    {
     "data": {
      "text/plain": [
       "<matplotlib.legend.Legend at 0x7f9c00482080>"
      ]
     },
     "execution_count": 551,
     "metadata": {},
     "output_type": "execute_result"
    },
    {
     "data": {
      "image/png": "[encoded data removed]",
      "text/plain": [
       "<matplotlib.figure.Figure at 0x7f9c0d4d16a0>"
      ]
     },
     "metadata": {},
     "output_type": "display_data"
    }
   ],
   "source": [
    "for treatment in treatment_attention_dict:\n",
    "    treatment_attention = treatment_attention_dict[treatment]\n",
    "    sns.distplot(treatment_attention.flatten(), label = treatment)\n",
    "plt.xlabel('Attention')\n",
    "plt.ylabel('Frequency')\n",
    "plt.legend()"
   ]
  },
  {
   "cell_type": "markdown",
   "metadata": {},
   "source": [
    "#### Per sequence frequencies"
   ]
  },
  {
   "cell_type": "code",
   "execution_count": 552,
   "metadata": {},
   "outputs": [
    {
     "name": "stdout",
     "output_type": "stream",
     "text": [
      "veh\n",
      "il4-24h\n",
      "kla-1h\n"
     ]
    }
   ],
   "source": [
    "num_positions = 20\n",
    "matrix_size = num_positions**2\n",
    "count_list = []\n",
    "treatment_list = []\n",
    "threshold_list = []\n",
    "normalized_count_list = []\n",
    "for treatment in treatment_attention_dict:\n",
    "    treatment_attention = treatment_attention_dict[treatment]\n",
    "    print(treatment)\n",
    "    for threshold in [np.round(x,2) for x in np.arange(0.1,1,0.05)]:\n",
    "        for am in treatment_attention:\n",
    "            count = np.sum(am.flatten() > threshold)\n",
    "            count_list.append(count)\n",
    "            normalized_count_list.append(count/matrix_size)\n",
    "            treatment_list.append(treatment)\n",
    "            threshold_list.append(threshold)\n",
    "        \n"
   ]
  },
  {
   "cell_type": "code",
   "execution_count": 553,
   "metadata": {
    "collapsed": true
   },
   "outputs": [],
   "source": [
    "frame = pd.DataFrame({'Treatment': treatment_list, \n",
    "                      'Threshold': threshold_list,\n",
    "                      'Count':count_list,\n",
    "                      'Normalized Count':normalized_count_list})"
   ]
  },
  {
   "cell_type": "code",
   "execution_count": 554,
   "metadata": {},
   "outputs": [
    {
     "data": {
      "text/plain": [
       "<seaborn.axisgrid.FacetGrid at 0x7fa5e380c4e0>"
      ]
     },
     "execution_count": 554,
     "metadata": {},
     "output_type": "execute_result"
    },
    {
     "data": {
      "image/png": "[encoded data removed]",
      "text/plain": [
       "<matplotlib.figure.Figure at 0x7fa5e3a119e8>"
      ]
     },
     "metadata": {},
     "output_type": "display_data"
    }
   ],
   "source": [
    "sns.factorplot(data = frame, \n",
    "    x = 'Treatment',\n",
    "    y = 'Count',\n",
    "    hue='Threshold',\n",
    "    kind = 'box',\n",
    "    palette = 'Blues',\n",
    "    showfliers=False,\n",
    "    size = 10)"
   ]
  },
  {
   "cell_type": "code",
   "execution_count": 555,
   "metadata": {},
   "outputs": [
    {
     "data": {
      "text/plain": [
       "<seaborn.axisgrid.FacetGrid at 0x7f9c08bb45f8>"
      ]
     },
     "execution_count": 555,
     "metadata": {},
     "output_type": "execute_result"
    },
    {
     "data": {
      "image/png": "[encoded data removed]",
      "text/plain": [
       "<matplotlib.figure.Figure at 0x7f9c08bb46a0>"
      ]
     },
     "metadata": {},
     "output_type": "display_data"
    }
   ],
   "source": [
    "sns.factorplot(data = frame, \n",
    "    x = 'Treatment',\n",
    "    y = 'Normalized Count',\n",
    "    hue='Threshold',\n",
    "    kind = 'box',\n",
    "    palette = 'Greens',\n",
    "    showfliers=False,\n",
    "    size = 10)"
   ]
  },
  {
   "cell_type": "markdown",
   "metadata": {},
   "source": [
    "### Max per Position"
   ]
  },
  {
   "cell_type": "code",
   "execution_count": 637,
   "metadata": {},
   "outputs": [
    {
     "data": {
      "text/plain": [
       "<matplotlib.legend.Legend at 0x7f9a970a9fd0>"
      ]
     },
     "execution_count": 637,
     "metadata": {},
     "output_type": "execute_result"
    },
    {
     "data": {
      "image/png": "[encoded data removed]",
      "text/plain": [
       "<matplotlib.figure.Figure at 0x7f9a970a9cc0>"
      ]
     },
     "metadata": {},
     "output_type": "display_data"
    }
   ],
   "source": [
    "for treatment in treatment_attention_dict:\n",
    "    treatment_attention = treatment_attention_dict[treatment]\n",
    "    max_attention = np.array([x.max(axis=0) for x in treatment_attention])\n",
    "    sns.distplot(max_attention.flatten(), label = treatment)\n",
    "plt.xlabel('Max Attention Per Position')\n",
    "plt.ylabel('Frequency')\n",
    "plt.legend()"
   ]
  },
  {
   "cell_type": "markdown",
   "metadata": {},
   "source": [
    "#### Per sequence frequencies"
   ]
  },
  {
   "cell_type": "code",
   "execution_count": 638,
   "metadata": {},
   "outputs": [
    {
     "name": "stdout",
     "output_type": "stream",
     "text": [
      "veh\n",
      "il4-24h\n",
      "kla-1h\n"
     ]
    }
   ],
   "source": [
    "num_positions = 20\n",
    "count_list = []\n",
    "treatment_list = []\n",
    "threshold_list = []\n",
    "normalized_count_list = []\n",
    "for treatment in treatment_attention_dict:\n",
    "    treatment_attention = treatment_attention_dict[treatment]\n",
    "    max_attention = np.array([x.max(axis=0) for x in treatment_attention])\n",
    "    print(treatment)\n",
    "    for threshold in [np.round(x,2) for x in np.arange(0.1,1,0.1)]:\n",
    "        for fam in max_attention:\n",
    "            count = np.sum(fam.flatten() >= threshold)\n",
    "            count_list.append(count)\n",
    "            normalized_count_list.append(count/num_positions)\n",
    "            treatment_list.append(treatment)\n",
    "            threshold_list.append(threshold)\n",
    "        \n"
   ]
  },
  {
   "cell_type": "code",
   "execution_count": 639,
   "metadata": {
    "collapsed": true
   },
   "outputs": [],
   "source": [
    "frame = pd.DataFrame({'Treatment': treatment_list, \n",
    "                      'Threshold': threshold_list,\n",
    "                      'Count':count_list,\n",
    "                      'Normalized Count':normalized_count_list})"
   ]
  },
  {
   "cell_type": "code",
   "execution_count": 640,
   "metadata": {},
   "outputs": [
    {
     "data": {
      "text/plain": [
       "<seaborn.axisgrid.FacetGrid at 0x7f9a96dd8b70>"
      ]
     },
     "execution_count": 640,
     "metadata": {},
     "output_type": "execute_result"
    },
    {
     "data": {
      "image/png": "[encoded data removed]",
      "text/plain": [
       "<matplotlib.figure.Figure at 0x7f9a96dd8ba8>"
      ]
     },
     "metadata": {},
     "output_type": "display_data"
    }
   ],
   "source": [
    "sns.factorplot(data = frame, \n",
    "    x = 'Treatment',\n",
    "    y = 'Count',\n",
    "    hue='Threshold',\n",
    "    kind = 'box',\n",
    "    palette = 'Blues',\n",
    "    showfliers=False,\n",
    "    size = 10)\n"
   ]
  },
  {
   "cell_type": "markdown",
   "metadata": {},
   "source": [
    "## Per k-mer attention analysis"
   ]
  },
  {
   "cell_type": "markdown",
   "metadata": {},
   "source": [
    "### K-mers observed"
   ]
  },
  {
   "cell_type": "code",
   "execution_count": 573,
   "metadata": {},
   "outputs": [
    {
     "name": "stdout",
     "output_type": "stream",
     "text": [
      "1048576 10-mers possible\n"
     ]
    }
   ],
   "source": [
    "print(4**10, '10-mers possible')"
   ]
  },
  {
   "cell_type": "code",
   "execution_count": 574,
   "metadata": {},
   "outputs": [
    {
     "name": "stdout",
     "output_type": "stream",
     "text": [
      "*** veh ***\n",
      "917179 10-mers observed\n",
      "*** il4-24h ***\n",
      "918403 10-mers observed\n",
      "*** kla-1h ***\n",
      "852757 10-mers observed\n"
     ]
    }
   ],
   "source": [
    "kmer_size = 10\n",
    "sequence_size = 200\n",
    "\n",
    "for treatment in treatment_positive_fasta_dict:\n",
    "    kmer_set = set()\n",
    "    print('***',treatment, '***')\n",
    "\n",
    "    fasta_seq = treatment_positive_fasta_dict[treatment]\n",
    "    for seq in fasta_seq:\n",
    "        for i in range(0,sequence_size-kmer_size):\n",
    "            kmer = seq[i:i+kmer_size]\n",
    "            kmer_set.add(kmer)\n",
    "    print(len(kmer_set), '10-mers observed')   "
   ]
  },
  {
   "cell_type": "markdown",
   "metadata": {},
   "source": [
    "### Attention Accumulated by each 10-mer"
   ]
  },
  {
   "cell_type": "markdown",
   "metadata": {},
   "source": [
    "#### Total"
   ]
  },
  {
   "cell_type": "code",
   "execution_count": 641,
   "metadata": {
    "collapsed": true
   },
   "outputs": [],
   "source": [
    "kmer_size = 10\n",
    "sequence_size = 200\n",
    "count_list = []\n",
    "treatment_list = []\n",
    "threshold_list = []\n",
    "normalized_count_list = []\n",
    "treatment_maxAttention_dict = {}\n",
    "for treatment in treatment_attention_dict:\n",
    "    kmer_maxAttention_dict = {}\n",
    "    treatment_attention = treatment_attention_dict[treatment]\n",
    "    max_attention = np.array([x.max(axis=0) for x in treatment_attention])\n",
    "    treatment_fasta = treatment_positive_fasta_dict[treatment]\n",
    "    for ma, seq in zip(max_attention, treatment_fasta):\n",
    "        for i in range(0,sequence_size,kmer_size): \n",
    "            for j in range(kmer_size):\n",
    "#                 print(i+j, i+j+kmer_size)\n",
    "#                 print(len(subseq))\n",
    "                subseq = seq[i+j: i+j+kmer_size]\n",
    "                if not subseq in kmer_maxAttention_dict:\n",
    "                    kmer_maxAttention_dict[subseq] = ma[int(i/kmer_size)]\n",
    "                else:\n",
    "                    kmer_maxAttention_dict[subseq] += ma[int(i/kmer_size)]\n",
    "    treatment_maxAttention_dict[treatment] = kmer_maxAttention_dict"
   ]
  },
  {
   "cell_type": "code",
   "execution_count": 642,
   "metadata": {},
   "outputs": [
    {
     "name": "stdout",
     "output_type": "stream",
     "text": [
      "veh\n",
      "kla-1h\n",
      "il4-24h\n"
     ]
    },
    {
     "data": {
      "text/plain": [
       "<matplotlib.text.Text at 0x7f9a974d35f8>"
      ]
     },
     "execution_count": 642,
     "metadata": {},
     "output_type": "execute_result"
    },
    {
     "data": {
      "image/png": "[encoded data removed]",
      "text/plain": [
       "<matplotlib.figure.Figure at 0x7f9a9188e4a8>"
      ]
     },
     "metadata": {},
     "output_type": "display_data"
    }
   ],
   "source": [
    "for treatment in treatment_maxAttention_dict:\n",
    "    print(treatment)\n",
    "    maxAttention = np.array(list(treatment_maxAttention_dict[treatment].values()))\n",
    "    sns.distplot(np.log10(maxAttention+1), label = treatment)\n",
    "plt.legend()\n",
    "plt.xlabel('Total Attention')\n",
    "plt.ylabel('Frequency')"
   ]
  },
  {
   "cell_type": "markdown",
   "metadata": {},
   "source": [
    "#### Distribution"
   ]
  },
  {
   "cell_type": "code",
   "execution_count": 646,
   "metadata": {},
   "outputs": [
    {
     "name": "stdout",
     "output_type": "stream",
     "text": [
      "veh 5294220 6310000\n",
      "il4-24h 5340260 6703600\n",
      "kla-1h 3200210 4355200\n"
     ]
    }
   ],
   "source": [
    "attention_threshold = 0.2\n",
    "kmer_size = 10\n",
    "sequence_size = 200\n",
    "treatment_kmerAttendedCount_dict = {}\n",
    "for treatment in treatment_attention_dict:\n",
    "    kmer_attendedCount_dict = {}\n",
    "    overall_counter = 0\n",
    "    counter = 0\n",
    "    treatment_attention = treatment_attention_dict[treatment]\n",
    "    max_attention = np.array([x.max(axis=1) for x in treatment_attention])\n",
    "    treatment_fasta = treatment_positive_fasta_dict[treatment]\n",
    "    for fam, seq in zip(max_attention, treatment_fasta):\n",
    "        for i in range(0,sequence_size,kmer_size): \n",
    "            for j in range(kmer_size):\n",
    "                subseq = seq[i+j: i+j+kmer_size]\n",
    "                att = fam[int(i/kmer_size)]\n",
    "                overall_counter += 1\n",
    "                if att >=attention_threshold:\n",
    "                    counter +=1\n",
    "                    if not subseq in kmer_attendedCount_dict:\n",
    "                        kmer_attendedCount_dict[subseq] = 1\n",
    "                    else:\n",
    "                        kmer_attendedCount_dict[subseq] += 1\n",
    "    print(treatment,counter, overall_counter)\n",
    "    treatment_kmerAttendedCount_dict[treatment] = kmer_attendedCount_dict"
   ]
  },
  {
   "cell_type": "code",
   "execution_count": 647,
   "metadata": {
    "collapsed": true
   },
   "outputs": [],
   "source": [
    "count_list = []\n",
    "treatment_list = []\n",
    "threshold_list = []\n",
    "for treatment in treatment_kmerAttendedCount_dict:\n",
    "    counts = np.array(list(treatment_kmerAttendedCount_dict[treatment].values()))\n",
    "    fasta = treatment_positive_fasta_dict[treatment]\n",
    "    for threshold in np.arange(0.005,0.05,0.005):\n",
    "        rounded_threshold = np.round(threshold, 3)\n",
    "        count_threshold = int(threshold*len(fasta))\n",
    "        count = np.sum(counts > count_threshold)\n",
    "        \n",
    "        count_list.append(count)\n",
    "        treatment_list.append(treatment)\n",
    "        threshold_list.append(rounded_threshold)\n",
    "frame = pd.DataFrame({'Treatment':treatment_list,\n",
    "                      'Threshold':threshold_list,\n",
    "                      'Count':count_list})        "
   ]
  },
  {
   "cell_type": "code",
   "execution_count": 648,
   "metadata": {},
   "outputs": [
    {
     "data": {
      "image/png": "[encoded data removed]",
      "text/plain": [
       "<matplotlib.figure.Figure at 0x7f9a97444780>"
      ]
     },
     "metadata": {},
     "output_type": "display_data"
    }
   ],
   "source": [
    "sns.factorplot(data = frame,\n",
    "               x= 'Threshold',\n",
    "               y = 'Count',\n",
    "               hue = 'Treatment',\n",
    "               size=6)\n",
    "plt.xticks(rotation=90);"
   ]
  },
  {
   "cell_type": "markdown",
   "metadata": {},
   "source": [
    "## Create K-mer network"
   ]
  },
  {
   "cell_type": "code",
   "execution_count": 653,
   "metadata": {},
   "outputs": [
    {
     "data": {
      "text/plain": [
       "array([0.2172472 , 0.25620404, 0.20409442, 0.23104174, 0.4370355 ,\n",
       "       0.59980595, 0.2668783 , 0.66884017, 0.7239828 , 0.21032847,\n",
       "       0.4223705 , 0.71340513, 0.3015039 , 0.3440063 , 0.51151496,\n",
       "       0.25276846, 0.53751236, 0.21890686, 0.22671384, 0.27361572],\n",
       "      dtype=float32)"
      ]
     },
     "execution_count": 653,
     "metadata": {},
     "output_type": "execute_result"
    }
   ],
   "source": [
    "ma"
   ]
  },
  {
   "cell_type": "code",
   "execution_count": 654,
   "metadata": {},
   "outputs": [
    {
     "data": {
      "text/plain": [
       "0.27361572"
      ]
     },
     "execution_count": 654,
     "metadata": {},
     "output_type": "execute_result"
    }
   ],
   "source": [
    "att"
   ]
  },
  {
   "cell_type": "code",
   "execution_count": 694,
   "metadata": {},
   "outputs": [
    {
     "name": "stdout",
     "output_type": "stream",
     "text": [
      "veh\n",
      "66\n",
      "14\n",
      "il4-24h\n",
      "149\n",
      "67\n",
      "kla-1h\n",
      "254\n",
      "121\n"
     ]
    }
   ],
   "source": [
    "attention_threshold = 0.2\n",
    "count_threshold = 100\n",
    "kmer_size = 10\n",
    "sequence_size = 200\n",
    "kmer_count_dict = {}\n",
    "for treatment in treatment_attention_dict:\n",
    "    kmer_set = set()\n",
    "    print(treatment)\n",
    "\n",
    "    treatment_attention = treatment_attention_dict[treatment]\n",
    "    max_attention = np.array([x.max(axis=1) for x in treatment_attention])\n",
    "    treatment_fasta = treatment_positive_fasta_dict[treatment]\n",
    "    \n",
    "    for seq in treatment_fasta:\n",
    "\n",
    "        for i in range(0,sequence_size,kmer_size): \n",
    "            for j in range(kmer_size):\n",
    "                subseq = seq[i+j: i+j+kmer_size]\n",
    "                if subseq in kmer_count_dict:\n",
    "                    kmer_count_dict[subseq] += 1\n",
    "                else:\n",
    "                    kmer_count_dict[subseq] = 1\n",
    "    count = 0\n",
    "    for kmer in kmer_count_dict:\n",
    "        if kmer_count_dict[kmer] > count_threshold:\n",
    "            count+=1\n",
    "    print(count)\n",
    "    for ma, seq in zip(max_attention, treatment_fasta):\n",
    "        for i in range(0,sequence_size,kmer_size): \n",
    "            for j in range(kmer_size):\n",
    "                subseq = seq[i+j: i+j+kmer_size]\n",
    "                att = ma[int(i/kmer_size)]\n",
    "                if att>= attention_threshold and kmer_count_dict[subseq] > count_threshold and len(subseq) == kmer_size:\n",
    "                    kmer_set.add(subseq)\n",
    "    print(len(kmer_set))\n",
    "    \n"
   ]
  },
  {
   "cell_type": "code",
   "execution_count": 695,
   "metadata": {},
   "outputs": [
    {
     "data": {
      "text/plain": [
       "{'AAAAAAAAAA',\n",
       " 'AAAAAAAAAG',\n",
       " 'AAAAGAGGAA',\n",
       " 'AAACAGGAAG',\n",
       " 'AAAGAGGAAG',\n",
       " 'AAAGGGGAAG',\n",
       " 'AACAGGAAGT',\n",
       " 'AAGAGGAAGC',\n",
       " 'AAGAGGAAGT',\n",
       " 'AAGGAGGAAG',\n",
       " 'ACACACACAC',\n",
       " 'ACAGGAAGTG',\n",
       " 'ACTTCCTCCT',\n",
       " 'ACTTCCTCTT',\n",
       " 'ACTTCCTGTT',\n",
       " 'AGAGAGAGAG',\n",
       " 'AGAGGAAGTG',\n",
       " 'AGCCCCGCCC',\n",
       " 'AGGAAGGAAG',\n",
       " 'AGGAAGTGAG',\n",
       " 'AGGAGGAAGT',\n",
       " 'AGGAGGAGGA',\n",
       " 'AGGCCCCGCC',\n",
       " 'AGGGCGGGGC',\n",
       " 'AGGGGCGGGG',\n",
       " 'AGGGGGCGGG',\n",
       " 'CACACACACA',\n",
       " 'CACTTCCTCC',\n",
       " 'CACTTCCTCT',\n",
       " 'CACTTCCTGT',\n",
       " 'CAGGAAGTGA',\n",
       " 'CCACTTCCTC',\n",
       " 'CCCCACCCCC',\n",
       " 'CCCCCCCCCC',\n",
       " 'CCCCGCCCAC',\n",
       " 'CCCCGCCCCC',\n",
       " 'CCCCGCCCCG',\n",
       " 'CCCCGCCCCT',\n",
       " 'CCCCGCCCTC',\n",
       " 'CCCCGCCTCC',\n",
       " 'CCCCTCCCCC',\n",
       " 'CCCGCCCCCG',\n",
       " 'CCCGCCCCCT',\n",
       " 'CCCGCCCCGC',\n",
       " 'CCCGCCCCTC',\n",
       " 'CCGCCCCGCC',\n",
       " 'CCGCCGCCGC',\n",
       " 'CCTCCCTCCC',\n",
       " 'CCTCCTCCTC',\n",
       " 'CGCCCCGCCC',\n",
       " 'CGCCGCCGCC',\n",
       " 'CGGCCCCGCC',\n",
       " 'CGGCGGCGGC',\n",
       " 'CGGGGCGGGG',\n",
       " 'CGGGGGCGGG',\n",
       " 'CTCACTTCCT',\n",
       " 'CTCCTCCTCC',\n",
       " 'CTCTCTCTCT',\n",
       " 'CTTCCCCTTT',\n",
       " 'CTTCCTCCTC',\n",
       " 'CTTCCTCTTC',\n",
       " 'CTTCCTCTTT',\n",
       " 'CTTCCTGTTT',\n",
       " 'CTTCCTTCCT',\n",
       " 'GAAAAAAAAA',\n",
       " 'GAAAGAGGAA',\n",
       " 'GAAGAGGAAG',\n",
       " 'GAGAGAGAGA',\n",
       " 'GAGGAAGTGA',\n",
       " 'GAGGAAGTGG',\n",
       " 'GAGGAGGAAG',\n",
       " 'GAGGAGGAGG',\n",
       " 'GAGGCGGGGC',\n",
       " 'GAGGGCGGGG',\n",
       " 'GAGGGGCGGG',\n",
       " 'GCCCCGCCCA',\n",
       " 'GCCCCGCCCC',\n",
       " 'GCCCCGCCCT',\n",
       " 'GCCCCGCCTC',\n",
       " 'GCCGCCGCCG',\n",
       " 'GCGCAGGCGC',\n",
       " 'GCGCCTGCGC',\n",
       " 'GCGGCGGCGG',\n",
       " 'GCGGGGCGGG',\n",
       " 'GCTCCGCCCC',\n",
       " 'GCTTCCTCTT',\n",
       " 'GGAAGAGGAA',\n",
       " 'GGAGGAAGTG',\n",
       " 'GGAGGAGGAG',\n",
       " 'GGAGGCGGGG',\n",
       " 'GGAGGGAGGG',\n",
       " 'GGCCCCGCCC',\n",
       " 'GGCGGCGGCG',\n",
       " 'GGCGGGGCCG',\n",
       " 'GGCGGGGCCT',\n",
       " 'GGCGGGGCGG',\n",
       " 'GGCTCCGCCC',\n",
       " 'GGGAGGGAGG',\n",
       " 'GGGCGGAGCC',\n",
       " 'GGGCGGGGCC',\n",
       " 'GGGCGGGGCG',\n",
       " 'GGGCGGGGCT',\n",
       " 'GGGGCGGAGC',\n",
       " 'GGGGCGGGGC',\n",
       " 'GGGGGAGGGG',\n",
       " 'GGGGGCGGGG',\n",
       " 'GGGGGGGGGG',\n",
       " 'GGGGGTGGGG',\n",
       " 'GTGGGCGGGG',\n",
       " 'GTGTGTGTGT',\n",
       " 'TCACTTCCTC',\n",
       " 'TCCTCCTCCT',\n",
       " 'TCTCTCTCTC',\n",
       " 'TCTTCCTCTT',\n",
       " 'TGGGCGGGGC',\n",
       " 'TGTGTGTGTG',\n",
       " 'TTCCTCTTCC',\n",
       " 'TTCCTCTTCT',\n",
       " 'TTCCTCTTTC',\n",
       " 'TTCCTCTTTT',\n",
       " 'TTTTTTTTTT'}"
      ]
     },
     "execution_count": 695,
     "metadata": {},
     "output_type": "execute_result"
    }
   ],
   "source": [
    "kmer_set"
   ]
  },
  {
   "cell_type": "code",
   "execution_count": 675,
   "metadata": {},
   "outputs": [
    {
     "name": "stdout",
     "output_type": "stream",
     "text": [
      "veh\n",
      "658881\n"
     ]
    }
   ],
   "source": [
    "attention_threshold = 0.5\n",
    "kmer_size = 10\n",
    "sequence_size = 200\n",
    "kmer_set = set()\n",
    "for treatment in treatment_attention_dict:\n",
    "    print(treatment)\n",
    "\n",
    "    treatment_attention = treatment_attention_dict[treatment]\n",
    "    max_attention = np.array([x.max(axis=1) for x in treatment_attention])\n",
    "    treatment_fasta = treatment_positive_fasta_dict[treatment]\n",
    "    \n",
    "\n",
    "    break            \n"
   ]
  },
  {
   "cell_type": "code",
   "execution_count": 660,
   "metadata": {},
   "outputs": [
    {
     "data": {
      "text/plain": [
       "658881"
      ]
     },
     "execution_count": 660,
     "metadata": {},
     "output_type": "execute_result"
    }
   ],
   "source": [
    "len(kmer_set)"
   ]
  },
  {
   "cell_type": "markdown",
   "metadata": {},
   "source": [
    "## Verifying Attention Calculation"
   ]
  },
  {
   "cell_type": "code",
   "execution_count": 607,
   "metadata": {
    "collapsed": true
   },
   "outputs": [],
   "source": [
    "dotProductAttention_model.summary()"
   ]
  },
  {
   "cell_type": "code",
   "execution_count": 501,
   "metadata": {
    "collapsed": true
   },
   "outputs": [],
   "source": [
    "def check_dot_product(model, sequence_array, sequence_size, adjacent_bp_pool_size):\n",
    "    check_dot_product = K.function([model.get_layer('input_fwd').input, \n",
    "                                K.learning_phase()\n",
    "                               ], \n",
    "                               [model.get_layer('attention_dropout').output,\n",
    "                                model.get_layer('value_transformer').output,\n",
    "                                model.get_layer('attending_layer').output])\n",
    "    \n",
    "    attention, value, attended_values = check_dot_product(([sequence_array], 0))\n",
    "    \n",
    "    attention = np.reshape(attention, newshape=(attention.shape[1], attention.shape[2]))\n",
    "    value = np.reshape(value, newshape=(value.shape[1], value.shape[2]))\n",
    "    attended_values = np.reshape(attended_values, newshape=(attended_values.shape[1], attended_values.shape[2]))\n",
    "    return attention, value, attended_values"
   ]
  },
  {
   "cell_type": "code",
   "execution_count": 522,
   "metadata": {
    "collapsed": true
   },
   "outputs": [],
   "source": [
    "attention, value, attended_values = check_dot_product(dotProductAttention_model, positive_sequence_arrays[0], 200, 10)"
   ]
  },
  {
   "cell_type": "code",
   "execution_count": 523,
   "metadata": {},
   "outputs": [
    {
     "data": {
      "text/plain": [
       "(20, 20)"
      ]
     },
     "execution_count": 523,
     "metadata": {},
     "output_type": "execute_result"
    }
   ],
   "source": [
    "attention.shape"
   ]
  },
  {
   "cell_type": "code",
   "execution_count": 524,
   "metadata": {},
   "outputs": [
    {
     "data": {
      "text/plain": [
       "(20, 150)"
      ]
     },
     "execution_count": 524,
     "metadata": {},
     "output_type": "execute_result"
    }
   ],
   "source": [
    "value.shape"
   ]
  },
  {
   "cell_type": "code",
   "execution_count": 525,
   "metadata": {},
   "outputs": [
    {
     "data": {
      "text/plain": [
       "(20, 150)"
      ]
     },
     "execution_count": 525,
     "metadata": {},
     "output_type": "execute_result"
    }
   ],
   "source": [
    "attended_values.shape"
   ]
  },
  {
   "cell_type": "code",
   "execution_count": 529,
   "metadata": {},
   "outputs": [
    {
     "data": {
      "text/plain": [
       "array([[ True,  True,  True, ...,  True,  True,  True],\n",
       "       [ True,  True,  True, ...,  True,  True,  True],\n",
       "       [ True,  True,  True, ...,  True,  True,  True],\n",
       "       ...,\n",
       "       [ True,  True,  True, ...,  True,  True,  True],\n",
       "       [ True,  True,  True, ...,  True,  True,  True],\n",
       "       [ True,  True,  True, ...,  True,  True,  True]])"
      ]
     },
     "execution_count": 529,
     "metadata": {},
     "output_type": "execute_result"
    }
   ],
   "source": [
    "np.round(np.dot(attention, value),2) == np.round(attended_values, 2)"
   ]
  },
  {
   "cell_type": "code",
   "execution_count": 530,
   "metadata": {},
   "outputs": [
    {
     "data": {
      "text/plain": [
       "array([[ True, False, False, ...,  True, False,  True],\n",
       "       [ True,  True, False, ..., False, False,  True],\n",
       "       [ True, False, False, ..., False, False,  True],\n",
       "       ...,\n",
       "       [False,  True, False, ..., False, False, False],\n",
       "       [ True, False, False, ..., False, False, False],\n",
       "       [False,  True, False, ..., False, False, False]])"
      ]
     },
     "execution_count": 530,
     "metadata": {},
     "output_type": "execute_result"
    }
   ],
   "source": [
    "np.round(np.dot(attention.T, value),2) == np.round(attended_values, 2)"
   ]
  },
  {
   "cell_type": "code",
   "execution_count": 534,
   "metadata": {},
   "outputs": [
    {
     "data": {
      "text/plain": [
       "array([0.9999999 , 0.99999994, 1.        , 0.9999999 , 0.99999994,\n",
       "       0.9999999 , 1.0000001 , 0.9999998 , 1.0000002 , 0.99999994,\n",
       "       1.0000001 , 0.9999999 , 1.        , 0.99999994, 1.        ,\n",
       "       0.99999994, 0.99999994, 0.9999999 , 1.0000001 , 1.0000001 ],\n",
       "      dtype=float32)"
      ]
     },
     "execution_count": 534,
     "metadata": {},
     "output_type": "execute_result"
    }
   ],
   "source": [
    "attention.sum(axis=0)"
   ]
  },
  {
   "cell_type": "code",
   "execution_count": null,
   "metadata": {
    "collapsed": true
   },
   "outputs": [],
   "source": []
  },
  {
   "cell_type": "code",
   "execution_count": null,
   "metadata": {
    "collapsed": true
   },
   "outputs": [],
   "source": []
  },
  {
   "cell_type": "code",
   "execution_count": null,
   "metadata": {
    "collapsed": true
   },
   "outputs": [],
   "source": []
  },
  {
   "cell_type": "code",
   "execution_count": 46,
   "metadata": {},
   "outputs": [
    {
     "name": "stdout",
     "output_type": "stream",
     "text": [
      "attending axes 1 1 linear\n"
     ]
    }
   ],
   "source": [
    "dotProductAttention_model = get_dotProductAttention_model(200,\n",
    "    mode='classification',\n",
    "    num_motifs=150, \n",
    "    motif_size=10,\n",
    "    adjacent_bp_pool_size=1,\n",
    "    dropout_rate=attention_dropout_rate,\n",
    "    num_classes=2)"
   ]
  },
  {
   "cell_type": "code",
   "execution_count": 47,
   "metadata": {},
   "outputs": [
    {
     "data": {
      "text/plain": [
       "7153"
      ]
     },
     "execution_count": 47,
     "metadata": {},
     "output_type": "execute_result"
    }
   ],
   "source": [
    "dotProductAttention_model.count_params()"
   ]
  },
  {
   "cell_type": "code",
   "execution_count": 48,
   "metadata": {},
   "outputs": [
    {
     "name": "stdout",
     "output_type": "stream",
     "text": [
      "__________________________________________________________________________________________________\n",
      "Layer (type)                    Output Shape         Param #     Connected to                     \n",
      "==================================================================================================\n",
      "input_fwd (InputLayer)          (None, 200, 4)       0                                            \n",
      "__________________________________________________________________________________________________\n",
      "convolution_layer (Conv1D)      (None, 200, 150)     6150        input_fwd[0][0]                  \n",
      "__________________________________________________________________________________________________\n",
      "sequence_pooling_layer (MaxPool (None, 200, 150)     0           convolution_layer[0][0]          \n",
      "__________________________________________________________________________________________________\n",
      "query_transformer (TimeDistribu (1, 200, 150)        150         sequence_pooling_layer[0][0]     \n",
      "__________________________________________________________________________________________________\n",
      "key_transformer (TimeDistribute (1, 200, 150)        150         sequence_pooling_layer[0][0]     \n",
      "__________________________________________________________________________________________________\n",
      "dot_product (Dot)               (1, 200, 200)        0           query_transformer[0][0]          \n",
      "                                                                 key_transformer[0][0]            \n",
      "__________________________________________________________________________________________________\n",
      "attention_softmax_layer (Softma (1, 200, 200)        0           dot_product[0][0]                \n",
      "__________________________________________________________________________________________________\n",
      "attention_dropout (Dropout)     (1, 200, 200)        0           attention_softmax_layer[0][0]    \n",
      "__________________________________________________________________________________________________\n",
      "value_transformer (TimeDistribu (1, 200, 150)        150         sequence_pooling_layer[0][0]     \n",
      "__________________________________________________________________________________________________\n",
      "attending_layer (Dot)           (1, 200, 150)        0           attention_dropout[0][0]          \n",
      "                                                                 value_transformer[0][0]          \n",
      "__________________________________________________________________________________________________\n",
      "dense_layer (TimeDistributed)   (1, 200, 1)          151         attending_layer[0][0]            \n",
      "__________________________________________________________________________________________________\n",
      "flatten (Flatten)               (1, 200)             0           dense_layer[0][0]                \n",
      "__________________________________________________________________________________________________\n",
      "predictions (Dense)             (1, 2)               402         flatten[0][0]                    \n",
      "==================================================================================================\n",
      "Total params: 7,153\n",
      "Trainable params: 7,153\n",
      "Non-trainable params: 0\n",
      "__________________________________________________________________________________________________\n"
     ]
    }
   ],
   "source": [
    "dotProductAttention_model.summary()"
   ]
  },
  {
   "cell_type": "code",
   "execution_count": null,
   "metadata": {
    "collapsed": true
   },
   "outputs": [],
   "source": [
    "attention = get_sequence_attention(dotProductAttention_model,\n",
    "    sequence_arrays,\n",
    "    200,\n",
    "    10)"
   ]
  },
  {
   "cell_type": "code",
   "execution_count": 741,
   "metadata": {},
   "outputs": [
    {
     "data": {
      "text/plain": [
       "array([[ 932.66064,  143.86938,  140.54317, ...,  149.96219,  149.36406,\n",
       "         145.9877 ],\n",
       "       [ 145.71825,  748.07996,  144.5017 , ...,  151.97997,  150.34529,\n",
       "         145.62857],\n",
       "       [ 137.96504,  140.63329,  587.09094, ...,  148.31244,  146.35565,\n",
       "         142.3505 ],\n",
       "       ...,\n",
       "       [ 156.54688,  157.0207 ,  158.11182, ...,  844.11145,  151.25342,\n",
       "         138.96304],\n",
       "       [ 158.80832,  158.16861,  159.03499, ...,  155.32713, 1205.9181 ,\n",
       "         155.37332],\n",
       "       [ 169.20193,  166.59555,  167.8357 , ...,  156.74983,  170.8072 ,\n",
       "        1888.0425 ]], dtype=float32)"
      ]
     },
     "execution_count": 741,
     "metadata": {},
     "output_type": "execute_result"
    }
   ],
   "source": [
    "attention.sum(axis=0)"
   ]
  },
  {
   "cell_type": "code",
   "execution_count": 743,
   "metadata": {},
   "outputs": [
    {
     "data": {
      "text/plain": [
       "(33518, 200, 200)"
      ]
     },
     "execution_count": 743,
     "metadata": {},
     "output_type": "execute_result"
    }
   ],
   "source": [
    "attention.shape"
   ]
  },
  {
   "cell_type": "code",
   "execution_count": 748,
   "metadata": {
    "collapsed": true
   },
   "outputs": [],
   "source": [
    "all_attention_vals = attention.flatten()\n",
    "nonzero_attention = all_attention_vals[all_attention_vals>0]"
   ]
  },
  {
   "cell_type": "code",
   "execution_count": 755,
   "metadata": {},
   "outputs": [
    {
     "data": {
      "text/plain": [
       "222662"
      ]
     },
     "execution_count": 755,
     "metadata": {},
     "output_type": "execute_result"
    }
   ],
   "source": [
    "np.sum(all_attention_vals>0.1)"
   ]
  },
  {
   "cell_type": "code",
   "execution_count": 747,
   "metadata": {},
   "outputs": [
    {
     "data": {
      "text/plain": [
       "<matplotlib.axes._subplots.AxesSubplot at 0x7f953a5ac5c0>"
      ]
     },
     "execution_count": 747,
     "metadata": {},
     "output_type": "execute_result"
    },
    {
     "data": {
      "image/png": "[encoded data removed]",
      "text/plain": [
       "<matplotlib.figure.Figure at 0x7f953a5b38d0>"
      ]
     },
     "metadata": {},
     "output_type": "display_data"
    }
   ],
   "source": [
    "sns.distplot(attention.flatten())"
   ]
  },
  {
   "cell_type": "code",
   "execution_count": 752,
   "metadata": {},
   "outputs": [
    {
     "data": {
      "text/plain": [
       "1340720000"
      ]
     },
     "execution_count": 752,
     "metadata": {},
     "output_type": "execute_result"
    }
   ],
   "source": [
    "len(attention.flatten())"
   ]
  },
  {
   "cell_type": "code",
   "execution_count": 751,
   "metadata": {},
   "outputs": [
    {
     "data": {
      "text/plain": [
       "1340720000"
      ]
     },
     "execution_count": 751,
     "metadata": {},
     "output_type": "execute_result"
    }
   ],
   "source": [
    "len(nonzero_attention)"
   ]
  },
  {
   "cell_type": "code",
   "execution_count": 757,
   "metadata": {},
   "outputs": [
    {
     "data": {
      "text/plain": [
       "<matplotlib.axes._subplots.AxesSubplot at 0x7f952b1bcd68>"
      ]
     },
     "execution_count": 757,
     "metadata": {},
     "output_type": "execute_result"
    },
    {
     "data": {
      "image/png": "[encoded data removed]",
      "text/plain": [
       "<matplotlib.figure.Figure at 0x7f952b190cf8>"
      ]
     },
     "metadata": {},
     "output_type": "display_data"
    }
   ],
   "source": [
    "sns.distplot(all_attention_vals[all_attention_vals>0.05])"
   ]
  },
  {
   "cell_type": "code",
   "execution_count": null,
   "metadata": {
    "collapsed": true
   },
   "outputs": [],
   "source": []
  }
 ],
 "metadata": {
  "kernelspec": {
   "display_name": "Python 3",
   "language": "python",
   "name": "python3"
  },
  "language_info": {
   "codemirror_mode": {
    "name": "ipython",
    "version": 3
   },
   "file_extension": ".py",
   "mimetype": "text/x-python",
   "name": "python",
   "nbconvert_exporter": "python",
   "pygments_lexer": "ipython3",
   "version": "3.6.1"
  }
 },
 "nbformat": 4,
 "nbformat_minor": 1
}
