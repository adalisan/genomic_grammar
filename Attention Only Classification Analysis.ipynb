{
 "cells": [
  {
   "cell_type": "markdown",
   "metadata": {},
   "source": [
    "## Attention Only Classification Analysis"
   ]
  },
  {
   "cell_type": "code",
   "execution_count": 1,
   "metadata": {},
   "outputs": [
    {
     "name": "stderr",
     "output_type": "stream",
     "text": [
      "Using TensorFlow backend.\n"
     ]
    }
   ],
   "source": [
    "%load_ext autoreload\n",
    "%autoreload 2\n",
    "\n",
    "from __future__ import print_function\n",
    "import keras\n",
    "from keras import backend as K\n",
    "import tensorflow as tf\n",
    "\n",
    "import os\n",
    "import numpy as np\n",
    "import pandas as pd\n",
    "import scipy\n",
    "\n",
    "import Bio\n",
    "from Bio import SeqIO\n",
    "import Bio.motifs\n",
    "\n",
    "%matplotlib inline\n",
    "from matplotlib import pyplot as plt\n",
    "import seaborn as sns\n",
    "from sklearn import model_selection\n",
    "import sklearn\n",
    "\n",
    "from IPython.display import SVG\n",
    "from keras.utils.vis_utils import model_to_dot\n",
    "\n",
    "from signal_models import *\n",
    "from utility_functions import *\n",
    "\n",
    "sns.set_context('notebook')"
   ]
  },
  {
   "cell_type": "code",
   "execution_count": 2,
   "metadata": {},
   "outputs": [],
   "source": [
    "working_directory = '/home/jtao/analysis/genomic_grammar_analysis/'"
   ]
  },
  {
   "cell_type": "markdown",
   "metadata": {},
   "source": [
    "## Set Model Settings"
   ]
  },
  {
   "cell_type": "code",
   "execution_count": 91,
   "metadata": {},
   "outputs": [],
   "source": [
    "### settings for attention model ###\n",
    "attention_num_motifs=150\n",
    "attention_motif_size=10\n",
    "adjacent_bp_pool_size=10\n",
    "attention_dropout_rate=0.1\n",
    "\n",
    "### settings for convolution model ###\n",
    "convolution_num_motifs=16\n",
    "convolution_motif_size=24\n",
    "num_dense_neurons=32\n",
    "convolution_dropout_rate=0.5\n",
    "\n",
    "largeConvolution_num_motifs = 100\n",
    "large_num_dense_neurons = 32"
   ]
  },
  {
   "cell_type": "code",
   "execution_count": 92,
   "metadata": {},
   "outputs": [
    {
     "data": {
      "text/plain": [
       "12998"
      ]
     },
     "execution_count": 92,
     "metadata": {},
     "output_type": "execute_result"
    }
   ],
   "source": [
    "large_convolution_model = get_convolution_model(200,\n",
    "        mode='classification',\n",
    "        num_motifs=largeConvolution_num_motifs, \n",
    "        motif_size=convolution_motif_size,\n",
    "        num_dense_neurons=large_num_dense_neurons,\n",
    "        dropout_rate=convolution_dropout_rate,\n",
    "        num_classes=2)\n",
    "large_convolution_model.count_params()"
   ]
  },
  {
   "cell_type": "markdown",
   "metadata": {},
   "source": [
    "## Train All Models for all Data Sets"
   ]
  },
  {
   "cell_type": "code",
   "execution_count": 93,
   "metadata": {
    "scrolled": true
   },
   "outputs": [
    {
     "name": "stdout",
     "output_type": "stream",
     "text": [
      "*** kla-1h ***\n",
      "Training Convolution kla-1h\n",
      "Train on 34841 samples, validate on 8711 samples\n",
      "Epoch 1/30\n",
      "34841/34841 [==============================] - 9s 265us/step - loss: 0.6818 - categorical_accuracy: 0.5525 - val_loss: 0.6260 - val_categorical_accuracy: 0.6873\n",
      "Epoch 2/30\n",
      "34841/34841 [==============================] - 7s 210us/step - loss: 0.5632 - categorical_accuracy: 0.7171 - val_loss: 0.5133 - val_categorical_accuracy: 0.7460\n",
      "Epoch 3/30\n",
      "34841/34841 [==============================] - 7s 209us/step - loss: 0.5079 - categorical_accuracy: 0.7583 - val_loss: 0.4809 - val_categorical_accuracy: 0.7675\n",
      "Epoch 4/30\n",
      "34841/34841 [==============================] - 7s 209us/step - loss: 0.4767 - categorical_accuracy: 0.7807 - val_loss: 0.4607 - val_categorical_accuracy: 0.7794\n",
      "Epoch 5/30\n",
      "34841/34841 [==============================] - 7s 209us/step - loss: 0.4530 - categorical_accuracy: 0.7953 - val_loss: 0.4437 - val_categorical_accuracy: 0.7913\n",
      "Epoch 6/30\n",
      "34841/34841 [==============================] - 7s 211us/step - loss: 0.4345 - categorical_accuracy: 0.8046 - val_loss: 0.4307 - val_categorical_accuracy: 0.7997\n",
      "Epoch 7/30\n",
      "34841/34841 [==============================] - 8s 216us/step - loss: 0.4220 - categorical_accuracy: 0.8132 - val_loss: 0.4323 - val_categorical_accuracy: 0.7999\n",
      "Epoch 8/30\n",
      "34841/34841 [==============================] - 7s 210us/step - loss: 0.4103 - categorical_accuracy: 0.8198 - val_loss: 0.4169 - val_categorical_accuracy: 0.8093\n",
      "Epoch 9/30\n",
      "34841/34841 [==============================] - 7s 215us/step - loss: 0.4049 - categorical_accuracy: 0.8247 - val_loss: 0.4146 - val_categorical_accuracy: 0.8098\n",
      "Epoch 10/30\n",
      "34841/34841 [==============================] - 7s 213us/step - loss: 0.3974 - categorical_accuracy: 0.8268 - val_loss: 0.4094 - val_categorical_accuracy: 0.8153\n",
      "Epoch 11/30\n",
      "34841/34841 [==============================] - 7s 211us/step - loss: 0.3896 - categorical_accuracy: 0.8303 - val_loss: 0.4072 - val_categorical_accuracy: 0.8188\n",
      "Epoch 12/30\n",
      "34841/34841 [==============================] - 7s 209us/step - loss: 0.3901 - categorical_accuracy: 0.8312 - val_loss: 0.4090 - val_categorical_accuracy: 0.8186\n",
      "Epoch 13/30\n",
      "34841/34841 [==============================] - 7s 211us/step - loss: 0.3848 - categorical_accuracy: 0.8355 - val_loss: 0.4058 - val_categorical_accuracy: 0.8194\n",
      "Epoch 14/30\n",
      "34841/34841 [==============================] - 7s 209us/step - loss: 0.3807 - categorical_accuracy: 0.8368 - val_loss: 0.4102 - val_categorical_accuracy: 0.8136\n",
      "Epoch 15/30\n",
      "34841/34841 [==============================] - 7s 210us/step - loss: 0.3765 - categorical_accuracy: 0.8408 - val_loss: 0.4033 - val_categorical_accuracy: 0.8184\n",
      "Epoch 16/30\n",
      "34841/34841 [==============================] - 7s 210us/step - loss: 0.3736 - categorical_accuracy: 0.8410 - val_loss: 0.4061 - val_categorical_accuracy: 0.8186\n",
      "Epoch 17/30\n",
      "34841/34841 [==============================] - 7s 209us/step - loss: 0.3702 - categorical_accuracy: 0.8410 - val_loss: 0.4025 - val_categorical_accuracy: 0.8197\n",
      "Epoch 18/30\n",
      "34841/34841 [==============================] - 7s 213us/step - loss: 0.3685 - categorical_accuracy: 0.8420 - val_loss: 0.4047 - val_categorical_accuracy: 0.8213\n",
      "Epoch 19/30\n",
      "34841/34841 [==============================] - 7s 211us/step - loss: 0.3693 - categorical_accuracy: 0.8423 - val_loss: 0.4063 - val_categorical_accuracy: 0.8154\n",
      "Epoch 20/30\n",
      "34841/34841 [==============================] - 7s 210us/step - loss: 0.3670 - categorical_accuracy: 0.8441 - val_loss: 0.4062 - val_categorical_accuracy: 0.8163\n",
      "Epoch 21/30\n",
      "34841/34841 [==============================] - 7s 210us/step - loss: 0.3625 - categorical_accuracy: 0.8451 - val_loss: 0.4068 - val_categorical_accuracy: 0.8171\n",
      "Epoch 22/30\n",
      "34841/34841 [==============================] - 7s 209us/step - loss: 0.3616 - categorical_accuracy: 0.8457 - val_loss: 0.4090 - val_categorical_accuracy: 0.8197\n",
      "Epoch 23/30\n",
      "34841/34841 [==============================] - 7s 208us/step - loss: 0.3588 - categorical_accuracy: 0.8463 - val_loss: 0.4012 - val_categorical_accuracy: 0.8232\n",
      "Epoch 24/30\n",
      "34841/34841 [==============================] - 7s 209us/step - loss: 0.3567 - categorical_accuracy: 0.8472 - val_loss: 0.3996 - val_categorical_accuracy: 0.8232\n",
      "Epoch 25/30\n",
      "34841/34841 [==============================] - 7s 210us/step - loss: 0.3554 - categorical_accuracy: 0.8484 - val_loss: 0.3960 - val_categorical_accuracy: 0.8238\n",
      "Epoch 26/30\n",
      "34841/34841 [==============================] - 7s 207us/step - loss: 0.3527 - categorical_accuracy: 0.8497 - val_loss: 0.3990 - val_categorical_accuracy: 0.8246\n",
      "Epoch 27/30\n",
      "34841/34841 [==============================] - 7s 212us/step - loss: 0.3532 - categorical_accuracy: 0.8480 - val_loss: 0.4193 - val_categorical_accuracy: 0.8164\n",
      "Epoch 28/30\n",
      "34841/34841 [==============================] - 7s 213us/step - loss: 0.3501 - categorical_accuracy: 0.8510 - val_loss: 0.4039 - val_categorical_accuracy: 0.8202\n",
      "Epoch 29/30\n",
      "34841/34841 [==============================] - 7s 215us/step - loss: 0.3528 - categorical_accuracy: 0.8515 - val_loss: 0.4004 - val_categorical_accuracy: 0.8253\n",
      "Epoch 30/30\n",
      "34841/34841 [==============================] - 7s 210us/step - loss: 0.3514 - categorical_accuracy: 0.8520 - val_loss: 0.3957 - val_categorical_accuracy: 0.8253\n",
      "Training Large Convolution kla-1h\n",
      "Train on 34841 samples, validate on 8711 samples\n",
      "Epoch 1/30\n",
      "34841/34841 [==============================] - 10s 299us/step - loss: 0.6462 - categorical_accuracy: 0.6095 - val_loss: 0.5207 - val_categorical_accuracy: 0.7717\n",
      "Epoch 2/30\n",
      "34841/34841 [==============================] - 9s 249us/step - loss: 0.5003 - categorical_accuracy: 0.7557 - val_loss: 0.4486 - val_categorical_accuracy: 0.7946\n",
      "Epoch 3/30\n",
      "34841/34841 [==============================] - 9s 251us/step - loss: 0.4366 - categorical_accuracy: 0.7994 - val_loss: 0.4043 - val_categorical_accuracy: 0.8228\n",
      "Epoch 4/30\n",
      "34841/34841 [==============================] - 9s 249us/step - loss: 0.3993 - categorical_accuracy: 0.8216 - val_loss: 0.3963 - val_categorical_accuracy: 0.8209\n",
      "Epoch 5/30\n",
      "34841/34841 [==============================] - 9s 252us/step - loss: 0.3759 - categorical_accuracy: 0.8333 - val_loss: 0.3737 - val_categorical_accuracy: 0.8384\n",
      "Epoch 6/30\n",
      "34841/34841 [==============================] - 9s 250us/step - loss: 0.3547 - categorical_accuracy: 0.8447 - val_loss: 0.3695 - val_categorical_accuracy: 0.8349\n",
      "Epoch 7/30\n",
      "34841/34841 [==============================] - 9s 250us/step - loss: 0.3374 - categorical_accuracy: 0.8528 - val_loss: 0.3679 - val_categorical_accuracy: 0.8411\n",
      "Epoch 8/30\n",
      "34841/34841 [==============================] - 9s 250us/step - loss: 0.3240 - categorical_accuracy: 0.8586 - val_loss: 0.3741 - val_categorical_accuracy: 0.8352\n",
      "Epoch 9/30\n",
      "34841/34841 [==============================] - 9s 248us/step - loss: 0.3121 - categorical_accuracy: 0.8635 - val_loss: 0.3817 - val_categorical_accuracy: 0.8392\n",
      "Epoch 10/30\n",
      "34841/34841 [==============================] - 9s 252us/step - loss: 0.2980 - categorical_accuracy: 0.8706 - val_loss: 0.3912 - val_categorical_accuracy: 0.8385\n",
      "Epoch 11/30\n",
      "34841/34841 [==============================] - 9s 251us/step - loss: 0.2883 - categorical_accuracy: 0.8719 - val_loss: 0.3808 - val_categorical_accuracy: 0.8357\n",
      "Epoch 12/30\n",
      "34841/34841 [==============================] - 9s 252us/step - loss: 0.2798 - categorical_accuracy: 0.8775 - val_loss: 0.4067 - val_categorical_accuracy: 0.8401\n",
      "Epoch 13/30\n",
      "34841/34841 [==============================] - 9s 249us/step - loss: 0.2718 - categorical_accuracy: 0.8772 - val_loss: 0.3924 - val_categorical_accuracy: 0.8352\n",
      "Epoch 14/30\n",
      "34841/34841 [==============================] - 9s 248us/step - loss: 0.2613 - categorical_accuracy: 0.8848 - val_loss: 0.4404 - val_categorical_accuracy: 0.8257\n",
      "Epoch 15/30\n",
      "34841/34841 [==============================] - 9s 248us/step - loss: 0.2595 - categorical_accuracy: 0.8849 - val_loss: 0.4015 - val_categorical_accuracy: 0.8324\n",
      "Epoch 16/30\n",
      "34841/34841 [==============================] - 9s 247us/step - loss: 0.2468 - categorical_accuracy: 0.8912 - val_loss: 0.4699 - val_categorical_accuracy: 0.8177\n",
      "Epoch 17/30\n",
      "34841/34841 [==============================] - 9s 250us/step - loss: 0.2398 - categorical_accuracy: 0.8939 - val_loss: 0.4023 - val_categorical_accuracy: 0.8342\n",
      "Epoch 18/30\n",
      "34841/34841 [==============================] - 9s 251us/step - loss: 0.2386 - categorical_accuracy: 0.8924 - val_loss: 0.4365 - val_categorical_accuracy: 0.8206\n",
      "Epoch 19/30\n",
      "34841/34841 [==============================] - 9s 248us/step - loss: 0.2351 - categorical_accuracy: 0.8953 - val_loss: 0.4525 - val_categorical_accuracy: 0.8348\n",
      "Epoch 20/30\n",
      "34841/34841 [==============================] - 9s 249us/step - loss: 0.2293 - categorical_accuracy: 0.8973 - val_loss: 0.4384 - val_categorical_accuracy: 0.8347\n",
      "Epoch 21/30\n",
      "34841/34841 [==============================] - 9s 250us/step - loss: 0.2213 - categorical_accuracy: 0.9008 - val_loss: 0.4405 - val_categorical_accuracy: 0.8308\n",
      "Epoch 22/30\n",
      "34841/34841 [==============================] - 9s 254us/step - loss: 0.2147 - categorical_accuracy: 0.9029 - val_loss: 0.5143 - val_categorical_accuracy: 0.8242\n",
      "Epoch 23/30\n",
      "34841/34841 [==============================] - 9s 253us/step - loss: 0.2161 - categorical_accuracy: 0.9015 - val_loss: 0.4922 - val_categorical_accuracy: 0.8315\n",
      "Epoch 24/30\n",
      "34841/34841 [==============================] - 9s 248us/step - loss: 0.2094 - categorical_accuracy: 0.9033 - val_loss: 0.5617 - val_categorical_accuracy: 0.8073\n",
      "Epoch 25/30\n",
      "34841/34841 [==============================] - 9s 247us/step - loss: 0.2043 - categorical_accuracy: 0.9070 - val_loss: 0.5207 - val_categorical_accuracy: 0.8294\n",
      "Epoch 26/30\n",
      "34841/34841 [==============================] - 9s 248us/step - loss: 0.1988 - categorical_accuracy: 0.9083 - val_loss: 0.5082 - val_categorical_accuracy: 0.8284\n",
      "Epoch 27/30\n",
      "34841/34841 [==============================] - 9s 248us/step - loss: 0.1955 - categorical_accuracy: 0.9090 - val_loss: 0.4979 - val_categorical_accuracy: 0.8257\n",
      "Epoch 28/30\n",
      "34841/34841 [==============================] - 9s 249us/step - loss: 0.1933 - categorical_accuracy: 0.9096 - val_loss: 0.5247 - val_categorical_accuracy: 0.8232\n",
      "Epoch 29/30\n",
      "34841/34841 [==============================] - 9s 249us/step - loss: 0.1931 - categorical_accuracy: 0.9108 - val_loss: 0.5063 - val_categorical_accuracy: 0.8309\n",
      "Epoch 30/30\n",
      "34841/34841 [==============================] - 9s 251us/step - loss: 0.1971 - categorical_accuracy: 0.9104 - val_loss: 0.5134 - val_categorical_accuracy: 0.8210\n",
      "*** veh ***\n",
      "Training Convolution veh\n",
      "Train on 50480 samples, validate on 12620 samples\n",
      "Epoch 1/30\n",
      "50480/50480 [==============================] - 13s 249us/step - loss: 0.6638 - categorical_accuracy: 0.5857 - val_loss: 0.5723 - val_categorical_accuracy: 0.6988\n",
      "Epoch 2/30\n",
      "50480/50480 [==============================] - 11s 211us/step - loss: 0.5308 - categorical_accuracy: 0.7432 - val_loss: 0.4786 - val_categorical_accuracy: 0.7664\n",
      "Epoch 3/30\n",
      "50480/50480 [==============================] - 11s 211us/step - loss: 0.4927 - categorical_accuracy: 0.7723 - val_loss: 0.4681 - val_categorical_accuracy: 0.7759\n",
      "Epoch 4/30\n",
      "50480/50480 [==============================] - 11s 210us/step - loss: 0.4745 - categorical_accuracy: 0.7828 - val_loss: 0.4575 - val_categorical_accuracy: 0.7796\n",
      "Epoch 5/30\n",
      "50480/50480 [==============================] - 11s 211us/step - loss: 0.4604 - categorical_accuracy: 0.7890 - val_loss: 0.4519 - val_categorical_accuracy: 0.7876\n",
      "Epoch 6/30\n",
      "50480/50480 [==============================] - 11s 210us/step - loss: 0.4491 - categorical_accuracy: 0.7972 - val_loss: 0.4471 - val_categorical_accuracy: 0.7924\n",
      "Epoch 7/30\n",
      "50480/50480 [==============================] - 11s 212us/step - loss: 0.4412 - categorical_accuracy: 0.8016 - val_loss: 0.4490 - val_categorical_accuracy: 0.7873\n",
      "Epoch 8/30\n",
      "50480/50480 [==============================] - 11s 210us/step - loss: 0.4337 - categorical_accuracy: 0.8065 - val_loss: 0.4638 - val_categorical_accuracy: 0.7846\n",
      "Epoch 9/30\n",
      "50480/50480 [==============================] - 11s 210us/step - loss: 0.4275 - categorical_accuracy: 0.8099 - val_loss: 0.4323 - val_categorical_accuracy: 0.7987\n",
      "Epoch 10/30\n",
      "50480/50480 [==============================] - 11s 211us/step - loss: 0.4182 - categorical_accuracy: 0.8162 - val_loss: 0.4265 - val_categorical_accuracy: 0.8027\n",
      "Epoch 11/30\n",
      "50480/50480 [==============================] - 11s 211us/step - loss: 0.4120 - categorical_accuracy: 0.8196 - val_loss: 0.4256 - val_categorical_accuracy: 0.8034\n",
      "Epoch 12/30\n",
      "50480/50480 [==============================] - 11s 210us/step - loss: 0.4081 - categorical_accuracy: 0.8229 - val_loss: 0.4214 - val_categorical_accuracy: 0.8040\n",
      "Epoch 13/30\n",
      "50480/50480 [==============================] - 11s 211us/step - loss: 0.4026 - categorical_accuracy: 0.8227 - val_loss: 0.4396 - val_categorical_accuracy: 0.7872\n",
      "Epoch 14/30\n",
      "50480/50480 [==============================] - 11s 210us/step - loss: 0.3998 - categorical_accuracy: 0.8255 - val_loss: 0.4179 - val_categorical_accuracy: 0.8049\n",
      "Epoch 15/30\n",
      "50480/50480 [==============================] - 11s 211us/step - loss: 0.3955 - categorical_accuracy: 0.8285 - val_loss: 0.4179 - val_categorical_accuracy: 0.8058\n",
      "Epoch 16/30\n",
      "50480/50480 [==============================] - 11s 210us/step - loss: 0.3958 - categorical_accuracy: 0.8277 - val_loss: 0.4200 - val_categorical_accuracy: 0.8015\n",
      "Epoch 17/30\n",
      "50480/50480 [==============================] - 11s 209us/step - loss: 0.3925 - categorical_accuracy: 0.8291 - val_loss: 0.4180 - val_categorical_accuracy: 0.8079\n",
      "Epoch 18/30\n",
      "50480/50480 [==============================] - 11s 212us/step - loss: 0.3895 - categorical_accuracy: 0.8306 - val_loss: 0.4245 - val_categorical_accuracy: 0.8006\n",
      "Epoch 19/30\n",
      "50480/50480 [==============================] - 11s 212us/step - loss: 0.3913 - categorical_accuracy: 0.8295 - val_loss: 0.4167 - val_categorical_accuracy: 0.8087\n",
      "Epoch 20/30\n",
      "50480/50480 [==============================] - 11s 211us/step - loss: 0.3877 - categorical_accuracy: 0.8322 - val_loss: 0.4437 - val_categorical_accuracy: 0.7873\n",
      "Epoch 21/30\n",
      "50480/50480 [==============================] - 11s 211us/step - loss: 0.3874 - categorical_accuracy: 0.8319 - val_loss: 0.4134 - val_categorical_accuracy: 0.8096\n",
      "Epoch 22/30\n",
      "50480/50480 [==============================] - 11s 209us/step - loss: 0.3864 - categorical_accuracy: 0.8329 - val_loss: 0.4185 - val_categorical_accuracy: 0.8094\n",
      "Epoch 23/30\n",
      "50480/50480 [==============================] - 11s 209us/step - loss: 0.3841 - categorical_accuracy: 0.8316 - val_loss: 0.4346 - val_categorical_accuracy: 0.8039\n",
      "Epoch 24/30\n",
      "50480/50480 [==============================] - 11s 210us/step - loss: 0.3832 - categorical_accuracy: 0.8337 - val_loss: 0.4143 - val_categorical_accuracy: 0.8061\n",
      "Epoch 25/30\n",
      "50480/50480 [==============================] - 11s 212us/step - loss: 0.3824 - categorical_accuracy: 0.8350 - val_loss: 0.4111 - val_categorical_accuracy: 0.8074\n",
      "Epoch 26/30\n",
      "50480/50480 [==============================] - 11s 211us/step - loss: 0.3806 - categorical_accuracy: 0.8367 - val_loss: 0.4135 - val_categorical_accuracy: 0.8097\n",
      "Epoch 27/30\n",
      "50480/50480 [==============================] - 11s 209us/step - loss: 0.3793 - categorical_accuracy: 0.8363 - val_loss: 0.4117 - val_categorical_accuracy: 0.8109\n",
      "Epoch 28/30\n",
      "50480/50480 [==============================] - 11s 211us/step - loss: 0.3773 - categorical_accuracy: 0.8371 - val_loss: 0.4115 - val_categorical_accuracy: 0.8120\n",
      "Epoch 29/30\n",
      "50480/50480 [==============================] - 11s 212us/step - loss: 0.3785 - categorical_accuracy: 0.8360 - val_loss: 0.4144 - val_categorical_accuracy: 0.8102\n",
      "Epoch 30/30\n",
      "50480/50480 [==============================] - 11s 210us/step - loss: 0.3752 - categorical_accuracy: 0.8380 - val_loss: 0.4066 - val_categorical_accuracy: 0.8112\n",
      "Training Large Convolution veh\n",
      "Train on 50480 samples, validate on 12620 samples\n",
      "Epoch 1/30\n",
      "50480/50480 [==============================] - 15s 289us/step - loss: 0.6098 - categorical_accuracy: 0.6485 - val_loss: 0.4805 - val_categorical_accuracy: 0.7660\n",
      "Epoch 2/30\n",
      "50480/50480 [==============================] - 13s 250us/step - loss: 0.4643 - categorical_accuracy: 0.7890 - val_loss: 0.4148 - val_categorical_accuracy: 0.8106\n",
      "Epoch 3/30\n"
     ]
    },
    {
     "name": "stdout",
     "output_type": "stream",
     "text": [
      "50480/50480 [==============================] - 12s 247us/step - loss: 0.4137 - categorical_accuracy: 0.8204 - val_loss: 0.3804 - val_categorical_accuracy: 0.8274\n",
      "Epoch 4/30\n",
      "50480/50480 [==============================] - 13s 250us/step - loss: 0.3828 - categorical_accuracy: 0.8363 - val_loss: 0.3727 - val_categorical_accuracy: 0.8326\n",
      "Epoch 5/30\n",
      "50480/50480 [==============================] - 13s 251us/step - loss: 0.3593 - categorical_accuracy: 0.8468 - val_loss: 0.3690 - val_categorical_accuracy: 0.8350\n",
      "Epoch 6/30\n",
      "50480/50480 [==============================] - 13s 252us/step - loss: 0.3445 - categorical_accuracy: 0.8562 - val_loss: 0.3727 - val_categorical_accuracy: 0.8384\n",
      "Epoch 7/30\n",
      "50480/50480 [==============================] - 13s 248us/step - loss: 0.3282 - categorical_accuracy: 0.8632 - val_loss: 0.3648 - val_categorical_accuracy: 0.8374\n",
      "Epoch 8/30\n",
      "50480/50480 [==============================] - 13s 248us/step - loss: 0.3178 - categorical_accuracy: 0.8687 - val_loss: 0.3841 - val_categorical_accuracy: 0.8381\n",
      "Epoch 9/30\n",
      "50480/50480 [==============================] - 13s 254us/step - loss: 0.3077 - categorical_accuracy: 0.8720 - val_loss: 0.3685 - val_categorical_accuracy: 0.8401\n",
      "Epoch 10/30\n",
      "50480/50480 [==============================] - 13s 250us/step - loss: 0.3028 - categorical_accuracy: 0.8745 - val_loss: 0.3915 - val_categorical_accuracy: 0.8304\n",
      "Epoch 11/30\n",
      "50480/50480 [==============================] - 13s 249us/step - loss: 0.2893 - categorical_accuracy: 0.8807 - val_loss: 0.3641 - val_categorical_accuracy: 0.8418\n",
      "Epoch 12/30\n",
      "50480/50480 [==============================] - 13s 251us/step - loss: 0.2791 - categorical_accuracy: 0.8874 - val_loss: 0.3858 - val_categorical_accuracy: 0.8339\n",
      "Epoch 13/30\n",
      "50480/50480 [==============================] - 13s 249us/step - loss: 0.2744 - categorical_accuracy: 0.8879 - val_loss: 0.3890 - val_categorical_accuracy: 0.8387\n",
      "Epoch 14/30\n",
      "50480/50480 [==============================] - 13s 250us/step - loss: 0.2628 - categorical_accuracy: 0.8934 - val_loss: 0.3962 - val_categorical_accuracy: 0.8349\n",
      "Epoch 15/30\n",
      "50480/50480 [==============================] - 13s 250us/step - loss: 0.2606 - categorical_accuracy: 0.8947 - val_loss: 0.4141 - val_categorical_accuracy: 0.8327\n",
      "Epoch 16/30\n",
      "50480/50480 [==============================] - 13s 249us/step - loss: 0.2551 - categorical_accuracy: 0.8989 - val_loss: 0.4152 - val_categorical_accuracy: 0.8345\n",
      "Epoch 17/30\n",
      "50480/50480 [==============================] - 12s 246us/step - loss: 0.2476 - categorical_accuracy: 0.9001 - val_loss: 0.3945 - val_categorical_accuracy: 0.8418\n",
      "Epoch 18/30\n",
      "50480/50480 [==============================] - 13s 248us/step - loss: 0.2433 - categorical_accuracy: 0.9017 - val_loss: 0.3998 - val_categorical_accuracy: 0.8261\n",
      "Epoch 19/30\n",
      "50480/50480 [==============================] - 13s 248us/step - loss: 0.2357 - categorical_accuracy: 0.9069 - val_loss: 0.4041 - val_categorical_accuracy: 0.8361\n",
      "Epoch 20/30\n",
      "50480/50480 [==============================] - 12s 246us/step - loss: 0.2356 - categorical_accuracy: 0.9064 - val_loss: 0.4547 - val_categorical_accuracy: 0.8135\n",
      "Epoch 21/30\n",
      "50480/50480 [==============================] - 12s 247us/step - loss: 0.2309 - categorical_accuracy: 0.9084 - val_loss: 0.4728 - val_categorical_accuracy: 0.8290\n",
      "Epoch 22/30\n",
      "50480/50480 [==============================] - 12s 247us/step - loss: 0.2267 - categorical_accuracy: 0.9091 - val_loss: 0.4172 - val_categorical_accuracy: 0.8391\n",
      "Epoch 23/30\n",
      "50480/50480 [==============================] - 12s 246us/step - loss: 0.2220 - categorical_accuracy: 0.9107 - val_loss: 0.4035 - val_categorical_accuracy: 0.8397\n",
      "Epoch 24/30\n",
      "50480/50480 [==============================] - 13s 248us/step - loss: 0.2163 - categorical_accuracy: 0.9136 - val_loss: 0.4470 - val_categorical_accuracy: 0.8365\n",
      "Epoch 25/30\n",
      "50480/50480 [==============================] - 13s 249us/step - loss: 0.2215 - categorical_accuracy: 0.9120 - val_loss: 0.4267 - val_categorical_accuracy: 0.8389\n",
      "Epoch 26/30\n",
      "50480/50480 [==============================] - 13s 248us/step - loss: 0.2114 - categorical_accuracy: 0.9166 - val_loss: 0.4483 - val_categorical_accuracy: 0.8330\n",
      "Epoch 27/30\n",
      "50480/50480 [==============================] - 12s 248us/step - loss: 0.2089 - categorical_accuracy: 0.9173 - val_loss: 0.4548 - val_categorical_accuracy: 0.8329\n",
      "Epoch 28/30\n",
      "50480/50480 [==============================] - 13s 248us/step - loss: 0.2039 - categorical_accuracy: 0.9199 - val_loss: 0.4169 - val_categorical_accuracy: 0.8376\n",
      "Epoch 29/30\n",
      "50480/50480 [==============================] - 12s 247us/step - loss: 0.2037 - categorical_accuracy: 0.9176 - val_loss: 0.4387 - val_categorical_accuracy: 0.8330\n",
      "Epoch 30/30\n",
      "50480/50480 [==============================] - 12s 247us/step - loss: 0.2029 - categorical_accuracy: 0.9197 - val_loss: 0.4498 - val_categorical_accuracy: 0.8304\n",
      "*** il4-24h ***\n",
      "Training Convolution il4-24h\n",
      "Train on 53628 samples, validate on 13408 samples\n",
      "Epoch 1/30\n",
      "53628/53628 [==============================] - 13s 246us/step - loss: 0.6504 - categorical_accuracy: 0.5996 - val_loss: 0.5276 - val_categorical_accuracy: 0.7395\n",
      "Epoch 2/30\n",
      "53628/53628 [==============================] - 11s 212us/step - loss: 0.5196 - categorical_accuracy: 0.7501 - val_loss: 0.4578 - val_categorical_accuracy: 0.7825\n",
      "Epoch 3/30\n",
      "53628/53628 [==============================] - 11s 211us/step - loss: 0.4765 - categorical_accuracy: 0.7792 - val_loss: 0.4449 - val_categorical_accuracy: 0.7909\n",
      "Epoch 4/30\n",
      "53628/53628 [==============================] - 11s 210us/step - loss: 0.4569 - categorical_accuracy: 0.7908 - val_loss: 0.4271 - val_categorical_accuracy: 0.8024\n",
      "Epoch 5/30\n",
      "53628/53628 [==============================] - 11s 211us/step - loss: 0.4451 - categorical_accuracy: 0.7989 - val_loss: 0.4191 - val_categorical_accuracy: 0.8062\n",
      "Epoch 6/30\n",
      "53628/53628 [==============================] - 11s 212us/step - loss: 0.4369 - categorical_accuracy: 0.8037 - val_loss: 0.4136 - val_categorical_accuracy: 0.8106\n",
      "Epoch 7/30\n",
      "53628/53628 [==============================] - 11s 209us/step - loss: 0.4262 - categorical_accuracy: 0.8108 - val_loss: 0.4098 - val_categorical_accuracy: 0.8160\n",
      "Epoch 8/30\n",
      "53628/53628 [==============================] - 11s 209us/step - loss: 0.4167 - categorical_accuracy: 0.8141 - val_loss: 0.4030 - val_categorical_accuracy: 0.8154\n",
      "Epoch 9/30\n",
      "53628/53628 [==============================] - 11s 210us/step - loss: 0.4137 - categorical_accuracy: 0.8162 - val_loss: 0.4049 - val_categorical_accuracy: 0.8176\n",
      "Epoch 10/30\n",
      "53628/53628 [==============================] - 11s 209us/step - loss: 0.4055 - categorical_accuracy: 0.8230 - val_loss: 0.3979 - val_categorical_accuracy: 0.8193\n",
      "Epoch 11/30\n",
      "53628/53628 [==============================] - 11s 211us/step - loss: 0.4023 - categorical_accuracy: 0.8217 - val_loss: 0.4013 - val_categorical_accuracy: 0.8189\n",
      "Epoch 12/30\n",
      "53628/53628 [==============================] - 12s 215us/step - loss: 0.3981 - categorical_accuracy: 0.8253 - val_loss: 0.3925 - val_categorical_accuracy: 0.8209\n",
      "Epoch 13/30\n",
      "53628/53628 [==============================] - 11s 211us/step - loss: 0.3948 - categorical_accuracy: 0.8261 - val_loss: 0.3909 - val_categorical_accuracy: 0.8205\n",
      "Epoch 14/30\n",
      "53628/53628 [==============================] - 11s 209us/step - loss: 0.3929 - categorical_accuracy: 0.8275 - val_loss: 0.3992 - val_categorical_accuracy: 0.8150\n",
      "Epoch 15/30\n",
      "53628/53628 [==============================] - 11s 211us/step - loss: 0.3873 - categorical_accuracy: 0.8303 - val_loss: 0.3958 - val_categorical_accuracy: 0.8173\n",
      "Epoch 16/30\n",
      "53628/53628 [==============================] - 11s 212us/step - loss: 0.3858 - categorical_accuracy: 0.8301 - val_loss: 0.3855 - val_categorical_accuracy: 0.8244\n",
      "Epoch 17/30\n",
      "53628/53628 [==============================] - 11s 210us/step - loss: 0.3832 - categorical_accuracy: 0.8332 - val_loss: 0.3933 - val_categorical_accuracy: 0.8229\n",
      "Epoch 18/30\n",
      "53628/53628 [==============================] - 11s 211us/step - loss: 0.3803 - categorical_accuracy: 0.8347 - val_loss: 0.3897 - val_categorical_accuracy: 0.8258\n",
      "Epoch 19/30\n",
      "53628/53628 [==============================] - 11s 211us/step - loss: 0.3791 - categorical_accuracy: 0.8346 - val_loss: 0.3815 - val_categorical_accuracy: 0.8318\n"
     ]
    },
    {
     "name": "stdout",
     "output_type": "stream",
     "text": [
      "Epoch 20/30\n",
      "53628/53628 [==============================] - 11s 211us/step - loss: 0.3774 - categorical_accuracy: 0.8350 - val_loss: 0.3823 - val_categorical_accuracy: 0.8275\n",
      "Epoch 21/30\n",
      "53628/53628 [==============================] - 11s 211us/step - loss: 0.3738 - categorical_accuracy: 0.8377 - val_loss: 0.3848 - val_categorical_accuracy: 0.8259\n",
      "Epoch 22/30\n",
      "53628/53628 [==============================] - 11s 211us/step - loss: 0.3735 - categorical_accuracy: 0.8363 - val_loss: 0.3822 - val_categorical_accuracy: 0.8282\n",
      "Epoch 23/30\n",
      "53628/53628 [==============================] - 11s 210us/step - loss: 0.3732 - categorical_accuracy: 0.8370 - val_loss: 0.3806 - val_categorical_accuracy: 0.8301\n",
      "Epoch 24/30\n",
      "53628/53628 [==============================] - 11s 211us/step - loss: 0.3722 - categorical_accuracy: 0.8377 - val_loss: 0.3799 - val_categorical_accuracy: 0.8291\n",
      "Epoch 25/30\n",
      "53628/53628 [==============================] - 11s 211us/step - loss: 0.3703 - categorical_accuracy: 0.8385 - val_loss: 0.3862 - val_categorical_accuracy: 0.8276\n",
      "Epoch 26/30\n",
      "53628/53628 [==============================] - 11s 211us/step - loss: 0.3690 - categorical_accuracy: 0.8402 - val_loss: 0.3792 - val_categorical_accuracy: 0.8303\n",
      "Epoch 27/30\n",
      "53628/53628 [==============================] - 11s 212us/step - loss: 0.3671 - categorical_accuracy: 0.8398 - val_loss: 0.3944 - val_categorical_accuracy: 0.8206\n",
      "Epoch 28/30\n",
      "53628/53628 [==============================] - 11s 212us/step - loss: 0.3672 - categorical_accuracy: 0.8406 - val_loss: 0.3756 - val_categorical_accuracy: 0.8332\n",
      "Epoch 29/30\n",
      "53628/53628 [==============================] - 11s 211us/step - loss: 0.3670 - categorical_accuracy: 0.8399 - val_loss: 0.3770 - val_categorical_accuracy: 0.8314\n",
      "Epoch 30/30\n",
      "53628/53628 [==============================] - 11s 212us/step - loss: 0.3660 - categorical_accuracy: 0.8408 - val_loss: 0.3770 - val_categorical_accuracy: 0.8312\n",
      "Training Large Convolution il4-24h\n",
      "Train on 53628 samples, validate on 13408 samples\n",
      "Epoch 1/30\n",
      "53628/53628 [==============================] - 15s 289us/step - loss: 0.6076 - categorical_accuracy: 0.6527 - val_loss: 0.4576 - val_categorical_accuracy: 0.7883\n",
      "Epoch 2/30\n",
      "53628/53628 [==============================] - 13s 250us/step - loss: 0.4664 - categorical_accuracy: 0.7828 - val_loss: 0.4144 - val_categorical_accuracy: 0.8103\n",
      "Epoch 3/30\n",
      "53628/53628 [==============================] - 13s 248us/step - loss: 0.4173 - categorical_accuracy: 0.8158 - val_loss: 0.3703 - val_categorical_accuracy: 0.8347\n",
      "Epoch 4/30\n",
      "53628/53628 [==============================] - 13s 249us/step - loss: 0.3814 - categorical_accuracy: 0.8369 - val_loss: 0.3858 - val_categorical_accuracy: 0.8282\n",
      "Epoch 5/30\n",
      "53628/53628 [==============================] - 13s 247us/step - loss: 0.3633 - categorical_accuracy: 0.8450 - val_loss: 0.4170 - val_categorical_accuracy: 0.8100\n",
      "Epoch 6/30\n",
      "53628/53628 [==============================] - 13s 247us/step - loss: 0.3481 - categorical_accuracy: 0.8539 - val_loss: 0.3659 - val_categorical_accuracy: 0.8358\n",
      "Epoch 7/30\n",
      "53628/53628 [==============================] - 13s 248us/step - loss: 0.3324 - categorical_accuracy: 0.8601 - val_loss: 0.4098 - val_categorical_accuracy: 0.8044\n",
      "Epoch 8/30\n",
      "53628/53628 [==============================] - 13s 249us/step - loss: 0.3197 - categorical_accuracy: 0.8662 - val_loss: 0.3572 - val_categorical_accuracy: 0.8440\n",
      "Epoch 9/30\n",
      "53628/53628 [==============================] - 13s 249us/step - loss: 0.3100 - categorical_accuracy: 0.8720 - val_loss: 0.3603 - val_categorical_accuracy: 0.8364\n",
      "Epoch 10/30\n",
      "53628/53628 [==============================] - 13s 249us/step - loss: 0.3005 - categorical_accuracy: 0.8749 - val_loss: 0.3583 - val_categorical_accuracy: 0.8399\n",
      "Epoch 11/30\n",
      "53628/53628 [==============================] - 13s 250us/step - loss: 0.2932 - categorical_accuracy: 0.8797 - val_loss: 0.3553 - val_categorical_accuracy: 0.8459\n",
      "Epoch 12/30\n",
      "53628/53628 [==============================] - 13s 251us/step - loss: 0.2819 - categorical_accuracy: 0.8833 - val_loss: 0.3573 - val_categorical_accuracy: 0.8429\n",
      "Epoch 13/30\n",
      "53628/53628 [==============================] - 13s 249us/step - loss: 0.2771 - categorical_accuracy: 0.8863 - val_loss: 0.3821 - val_categorical_accuracy: 0.8421\n",
      "Epoch 14/30\n",
      "53628/53628 [==============================] - 13s 248us/step - loss: 0.2710 - categorical_accuracy: 0.8884 - val_loss: 0.3984 - val_categorical_accuracy: 0.8382\n",
      "Epoch 15/30\n",
      "53628/53628 [==============================] - 13s 247us/step - loss: 0.2645 - categorical_accuracy: 0.8924 - val_loss: 0.3653 - val_categorical_accuracy: 0.8423\n",
      "Epoch 16/30\n",
      "53628/53628 [==============================] - 13s 250us/step - loss: 0.2604 - categorical_accuracy: 0.8924 - val_loss: 0.3753 - val_categorical_accuracy: 0.8452\n",
      "Epoch 17/30\n",
      "53628/53628 [==============================] - 13s 251us/step - loss: 0.2514 - categorical_accuracy: 0.8970 - val_loss: 0.3690 - val_categorical_accuracy: 0.8445\n",
      "Epoch 18/30\n",
      "53628/53628 [==============================] - 13s 251us/step - loss: 0.2485 - categorical_accuracy: 0.8980 - val_loss: 0.4085 - val_categorical_accuracy: 0.8361\n",
      "Epoch 19/30\n",
      "53628/53628 [==============================] - 13s 251us/step - loss: 0.2410 - categorical_accuracy: 0.9025 - val_loss: 0.3918 - val_categorical_accuracy: 0.8348\n",
      "Epoch 20/30\n",
      "53628/53628 [==============================] - 13s 251us/step - loss: 0.2384 - categorical_accuracy: 0.9037 - val_loss: 0.4036 - val_categorical_accuracy: 0.8388\n",
      "Epoch 21/30\n",
      "53628/53628 [==============================] - 13s 251us/step - loss: 0.2343 - categorical_accuracy: 0.9038 - val_loss: 0.3973 - val_categorical_accuracy: 0.8408\n",
      "Epoch 22/30\n",
      "53628/53628 [==============================] - 13s 251us/step - loss: 0.2303 - categorical_accuracy: 0.9064 - val_loss: 0.4021 - val_categorical_accuracy: 0.8438\n",
      "Epoch 23/30\n",
      "53628/53628 [==============================] - 13s 250us/step - loss: 0.2276 - categorical_accuracy: 0.9061 - val_loss: 0.3926 - val_categorical_accuracy: 0.8441\n",
      "Epoch 24/30\n",
      "53628/53628 [==============================] - 13s 250us/step - loss: 0.2231 - categorical_accuracy: 0.9091 - val_loss: 0.3988 - val_categorical_accuracy: 0.8259\n",
      "Epoch 25/30\n",
      "53628/53628 [==============================] - 13s 248us/step - loss: 0.2188 - categorical_accuracy: 0.9128 - val_loss: 0.4234 - val_categorical_accuracy: 0.8402\n",
      "Epoch 26/30\n",
      "53628/53628 [==============================] - 13s 248us/step - loss: 0.2207 - categorical_accuracy: 0.9112 - val_loss: 0.3813 - val_categorical_accuracy: 0.8466\n",
      "Epoch 27/30\n",
      "53628/53628 [==============================] - 13s 249us/step - loss: 0.2161 - categorical_accuracy: 0.9116 - val_loss: 0.3912 - val_categorical_accuracy: 0.8426\n",
      "Epoch 28/30\n",
      "53628/53628 [==============================] - 13s 249us/step - loss: 0.2120 - categorical_accuracy: 0.9131 - val_loss: 0.4183 - val_categorical_accuracy: 0.8441\n",
      "Epoch 29/30\n",
      "53628/53628 [==============================] - 13s 248us/step - loss: 0.2121 - categorical_accuracy: 0.9147 - val_loss: 0.4129 - val_categorical_accuracy: 0.8407\n",
      "Epoch 30/30\n",
      "53628/53628 [==============================] - 13s 251us/step - loss: 0.2083 - categorical_accuracy: 0.9153 - val_loss: 0.4338 - val_categorical_accuracy: 0.8381\n"
     ]
    }
   ],
   "source": [
    "num_epochs = 30\n",
    "all_rocs = []\n",
    "all_accuracies = []\n",
    "all_precisions = []\n",
    "all_treatments = []\n",
    "model_types = []\n",
    "parameter_counts = []\n",
    "train_addAttention = False\n",
    "train_dotAttention = True\n",
    "train_convolution = True\n",
    "train_large_convolution = True\n",
    "\n",
    "# condition_model_dict = {}\n",
    "for ps in ['c57bl6_kla-1h_peaks.fasta', 'c57bl6_veh_peaks.fasta', 'c57bl6_il4-24h_peaks.fasta']:\n",
    "    treatment = ps.split('_')[1]\n",
    "    print('***',treatment, '***')\n",
    "    positive_seqRecords = list(SeqIO.parse(working_directory + '/peak_sequences/' + ps, 'fasta'))\n",
    "    negative_seqRecords = list(SeqIO.parse(working_directory + '/background_files/' + ps.replace('_peaks', '_background'), 'fasta'))[:len(positive_seqRecords)]\n",
    "\n",
    "    fasta_seq = [str(x.seq[:200]) for x in positive_seqRecords] + [str(x[:200].seq) for x in negative_seqRecords]\n",
    "\n",
    "    fasta_rc_seq = [str(x[:200].reverse_complement().seq) for x in positive_seqRecords] + \\\n",
    "        [str(x[:200].reverse_complement().seq) for x in negative_seqRecords]\n",
    "\n",
    "    sequence_arrays = convert_sequences_to_array(fasta_seq)\n",
    "\n",
    "    sequence_rc_arrays = convert_sequences_to_array(fasta_rc_seq)\n",
    "\n",
    "\n",
    "    labels = [1 for x in positive_seqRecords] + [0 for x in negative_seqRecords]\n",
    "    labels = np.array(labels)\n",
    "\n",
    "    x_train, x_test, x_rc_train, x_rc_test, y_train, y_test = model_selection.train_test_split(sequence_arrays, sequence_rc_arrays, labels, test_size=0.2)\n",
    "\n",
    "    num_classes = 2\n",
    "    y_train = keras.utils.to_categorical(y_train, num_classes)\n",
    "    y_test = keras.utils.to_categorical(y_test, num_classes)\n",
    "       \n",
    "    ### additive attention model ###\n",
    "#     print('Training AddAttention', treatment)\n",
    "#     additiveAttention_model = get_additiveAttention_model(200,\n",
    "#         mode='classification',\n",
    "#         num_motifs=150, \n",
    "#         motif_size=10,\n",
    "#         adjacent_bp_pool_size=10,\n",
    "#         attention_dim=10,\n",
    "#         attention_hops=10,\n",
    "#         dropout_rate=0.1\n",
    "#     )\n",
    "        \n",
    "#     additiveAttention_model.fit([x_train], y_train,\n",
    "#               batch_size=64,\n",
    "#               epochs=num_epochs,\n",
    "#               verbose=1,\n",
    "#               validation_data=([x_test], y_test))\n",
    "\n",
    "#     probs = additiveAttention_model.predict([x_test])\n",
    "#     test_predictions = [0 if x[0] > x[1] else 1 for x in probs]\n",
    "#     roc = sklearn.metrics.roc_auc_score([y[1] for y in y_test], probs[:,1], )\n",
    "#     precision = sklearn.metrics.precision_score([y[1] for y in y_test], test_predictions)\n",
    "#     acc = sklearn.metrics.accuracy_score([y[1] for y in y_test], test_predictions)\n",
    "#     param_count = additiveAttention_model.count_params()\n",
    "# \n",
    "#     all_rocs.append(roc)\n",
    "#     all_accuracies.append(acc)\n",
    "#     all_precisions.append(precision)\n",
    "#     all_treatments.append(treatment)\n",
    "#     model_types.append('AddAttention')\n",
    "#     parameter_counts.append(param_count)\n",
    "#     condition_model_dict['AddAttention_'+treatment] = additiveAttention_model\n",
    "    ### ###\n",
    "    \n",
    "    ### dot product attention model ###\n",
    "    if train_dotAttention:\n",
    "        print('Training DotAttention', treatment)\n",
    "        dotProductAttention_model = get_dotProductAttention_model(200,\n",
    "            mode='classification',\n",
    "            num_motifs=attention_num_motifs, \n",
    "            motif_size=attention_motif_size,\n",
    "            adjacent_bp_pool_size=adjacent_bp_pool_size,\n",
    "            dropout_rate=attention_dropout_rate,\n",
    "            num_classes=2)\n",
    "\n",
    "        dotProductAttention_model.fit([x_train], y_train,\n",
    "                  batch_size=64,\n",
    "                  epochs=num_epochs,\n",
    "                  verbose=1,\n",
    "                  validation_data=([x_test], y_test))\n",
    "\n",
    "        probs = dotProductAttention_model.predict([x_test])\n",
    "        test_predictions = [0 if x[0] > x[1] else 1 for x in probs]\n",
    "        roc = sklearn.metrics.roc_auc_score([y[1] for y in y_test], probs[:,1], )\n",
    "        precision = sklearn.metrics.precision_score([y[1] for y in y_test], [0 if x[0] > x[1] else 1 for x in probs])\n",
    "        acc = sklearn.metrics.accuracy_score([y[1] for y in y_test], test_predictions)\n",
    "        param_count = dotProductAttention_model.count_params()\n",
    "\n",
    "        all_rocs.append(roc)\n",
    "        all_accuracies.append(acc)\n",
    "        all_precisions.append(precision)\n",
    "        all_treatments.append(treatment)\n",
    "        model_types.append('DotAttention')\n",
    "        parameter_counts.append(param_count)\n",
    "        condition_model_dict['DotAttention_'+treatment] = dotProductAttention_model\n",
    "    ### ###\n",
    "\n",
    "    ### convolution model ###\n",
    "    if train_convolution:\n",
    "        print('Training Convolution', treatment)\n",
    "        convolution_model = get_convolution_model(200,\n",
    "            mode='classification',\n",
    "            num_motifs=convolution_num_motifs, \n",
    "            motif_size=convolution_motif_size,\n",
    "            num_dense_neurons=num_dense_neurons,\n",
    "            dropout_rate=convolution_dropout_rate,\n",
    "            num_classes=2)\n",
    "        convolution_model.fit([x_train, x_rc_train], y_train,\n",
    "                  batch_size=64,\n",
    "                  epochs=num_epochs,\n",
    "                  verbose=1,\n",
    "                  validation_data=([x_test, x_rc_test], y_test))\n",
    "\n",
    "        probs = convolution_model.predict([x_test, x_rc_test])\n",
    "        test_predictions = [0 if x[0] > x[1] else 1 for x in probs]\n",
    "        roc = sklearn.metrics.roc_auc_score([y[1] for y in y_test], probs[:,1], )\n",
    "        precision = sklearn.metrics.precision_score([y[1] for y in y_test], [0 if x[0] > x[1] else 1 for x in probs])\n",
    "        acc = sklearn.metrics.accuracy_score([y[1] for y in y_test], test_predictions)\n",
    "        param_count = convolution_model.count_params()\n",
    "\n",
    "        all_rocs.append(roc)\n",
    "        all_accuracies.append(acc)\n",
    "        all_precisions.append(precision)\n",
    "        all_treatments.append(treatment)\n",
    "        model_types.append('Convolution')\n",
    "        parameter_counts.append(param_count)\n",
    "        condition_model_dict['Convolution_'+treatment] = convolution_model\n",
    "    \n",
    "    ### large convolution model ###\n",
    "    if train_large_convolution:\n",
    "        print('Training Large Convolution', treatment)\n",
    "        large_convolution_model = get_convolution_model(200,\n",
    "            mode='classification',\n",
    "            num_motifs=largeConvolution_num_motifs, \n",
    "            motif_size=convolution_motif_size,\n",
    "            num_dense_neurons=large_num_dense_neurons,\n",
    "            dropout_rate=convolution_dropout_rate,\n",
    "            num_classes=2)\n",
    "        large_convolution_model.fit([x_train, x_rc_train], y_train,\n",
    "                  batch_size=64,\n",
    "                  epochs=num_epochs,\n",
    "                  verbose=1,\n",
    "                  validation_data=([x_test, x_rc_test], y_test))\n",
    "\n",
    "        probs = large_convolution_model.predict([x_test, x_rc_test])\n",
    "        test_predictions = [0 if x[0] > x[1] else 1 for x in probs]\n",
    "        roc = sklearn.metrics.roc_auc_score([y[1] for y in y_test], probs[:,1], )\n",
    "        precision = sklearn.metrics.precision_score([y[1] for y in y_test], [0 if x[0] > x[1] else 1 for x in probs])\n",
    "        acc = sklearn.metrics.accuracy_score([y[1] for y in y_test], test_predictions)\n",
    "        param_count = convolution_model.count_params()\n",
    "\n",
    "        all_rocs.append(roc)\n",
    "        all_accuracies.append(acc)\n",
    "        all_precisions.append(precision)\n",
    "        all_treatments.append(treatment)\n",
    "        model_types.append('LargeConvolution')\n",
    "        parameter_counts.append(param_count)\n",
    "        condition_model_dict['LargeConvolution_'+treatment] = large_convolution_model"
   ]
  },
  {
   "cell_type": "markdown",
   "metadata": {},
   "source": [
    "## Serialize Models"
   ]
  },
  {
   "cell_type": "code",
   "execution_count": 94,
   "metadata": {},
   "outputs": [],
   "source": [
    "if len(condition_model_dict) > 0:\n",
    "    if not os.path.isdir(working_directory + '/models_classification'):\n",
    "        os.mkdir(working_directory + '/models_classification')\n",
    "    else:\n",
    "        for f in os.listdir(working_directory + '/models_classification'):\n",
    "            os.remove(working_directory + '/models_classification/' + f)\n",
    "    for treatment_modelType in condition_model_dict.keys():\n",
    "        current_model = condition_model_dict[treatment_modelType]\n",
    "        current_model.save_weights(working_directory + '/models_classification/' + treatment_modelType + '_weights.h5',\n",
    "                          )"
   ]
  },
  {
   "cell_type": "markdown",
   "metadata": {},
   "source": [
    "## Read in Models"
   ]
  },
  {
   "cell_type": "code",
   "execution_count": 80,
   "metadata": {},
   "outputs": [],
   "source": [
    "condition_model_dict = {}\n",
    "for f in os.listdir(working_directory + '/models_classification/'):\n",
    "    treatment_modelType = f.replace('_weights.h5','')\n",
    "    modelType = treatment_modelType.split('_')[0]    \n",
    "    if modelType == 'DotAttention':\n",
    "        current_model = get_dotProductAttention_model(200,\n",
    "            mode='classification',\n",
    "            num_motifs=attention_num_motifs, \n",
    "            motif_size=attention_motif_size,\n",
    "            adjacent_bp_pool_size=adjacent_bp_pool_size,\n",
    "            dropout_rate=attention_dropout_rate,\n",
    "            num_classes=2)  \n",
    "    elif modelType == 'Convolution':\n",
    "        current_model = get_convolution_model(200,\n",
    "            mode='classification',\n",
    "            num_motifs=convolution_num_motifs, \n",
    "            motif_size=convolution_motif_size,\n",
    "            num_dense_neurons=num_dense_neurons,\n",
    "            dropout_rate=convolution_dropout_rate,\n",
    "            num_classes=2)\n",
    "    elif modelType == 'LargeConvolution':\n",
    "        current_model = get_convolution_model(200,\n",
    "            mode='classification',\n",
    "            num_motifs= largeConvolution_num_motifs, \n",
    "            motif_size=convolution_motif_size,\n",
    "            num_dense_neurons=large_num_dense_neurons,\n",
    "            dropout_rate=convolution_dropout_rate,\n",
    "            num_classes=2)\n",
    "    current_model.load_weights(working_directory + '/models_classification/' + treatment_modelType + '_weights.h5',\n",
    "                              )\n",
    "    condition_model_dict[treatment_modelType] = current_model"
   ]
  },
  {
   "cell_type": "markdown",
   "metadata": {},
   "source": [
    "## Test Model Performance"
   ]
  },
  {
   "cell_type": "code",
   "execution_count": 95,
   "metadata": {},
   "outputs": [
    {
     "name": "stdout",
     "output_type": "stream",
     "text": [
      "*** kla-1h ***\n",
      "Convolution_kla-1h 0.8598323958213753 0.9287874232131801 0.8394366197183099\n",
      "DotAttention_kla-1h 0.9073585122259212 0.9589725887380842 0.890380805635043\n",
      "LargeConvolution_kla-1h 0.908850878199977 0.9753556834766286 0.8575733226195259\n",
      "*** veh ***\n",
      "DotAttention_veh 0.8991283676703645 0.936092542258519 0.8883116883116883\n",
      "LargeConvolution_veh 0.8972266244057052 0.9689080600424212 0.8508808433902066\n",
      "Convolution_veh 0.8446909667194928 0.9199942537777682 0.8186430849521601\n",
      "*** il4-24h ***\n",
      "DotAttention_il4-24h 0.8960322195704057 0.94802465290424 0.8906389301634473\n",
      "Convolution_il4-24h 0.8522523866348448 0.9264891086322413 0.819450143619204\n",
      "LargeConvolution_il4-24h 0.9166915274463007 0.9717985028875247 0.9143584368917502\n"
     ]
    }
   ],
   "source": [
    "all_rocs = []\n",
    "all_accuracies = []\n",
    "all_precisions = []\n",
    "all_treatments = []\n",
    "model_types = []\n",
    "parameter_counts = []\n",
    "for ps in ['c57bl6_kla-1h_peaks.fasta', 'c57bl6_veh_peaks.fasta', 'c57bl6_il4-24h_peaks.fasta']:\n",
    "    treatment = ps.split('_')[1]\n",
    "    print('***',treatment, '***')\n",
    "    positive_seqRecords = list(SeqIO.parse(working_directory + '/peak_sequences/' + ps, 'fasta'))\n",
    "    negative_seqRecords = list(SeqIO.parse(working_directory + '/background_files/' + ps.replace('_peaks', '_background'), 'fasta'))[:len(positive_seqRecords)]\n",
    "\n",
    "    fasta_seq = [str(x.seq[:200]) for x in positive_seqRecords] + [str(x[:200].seq) for x in negative_seqRecords]\n",
    "\n",
    "    fasta_rc_seq = [str(x[:200].reverse_complement().seq) for x in positive_seqRecords] + \\\n",
    "        [str(x[:200].reverse_complement().seq) for x in negative_seqRecords]\n",
    "\n",
    "    sequence_arrays = convert_sequences_to_array(fasta_seq)\n",
    "\n",
    "    sequence_rc_arrays = convert_sequences_to_array(fasta_rc_seq)\n",
    "\n",
    "\n",
    "    labels = [1 for x in positive_seqRecords] + [0 for x in negative_seqRecords]\n",
    "    labels = np.array(labels)\n",
    "\n",
    "    x_train, x_test, x_rc_train, x_rc_test, y_train, y_test = model_selection.train_test_split(sequence_arrays, sequence_rc_arrays, labels, test_size=0.2)\n",
    "\n",
    "    num_classes = 2\n",
    "    y_train = keras.utils.to_categorical(y_train, num_classes)\n",
    "    y_test = keras.utils.to_categorical(y_test, num_classes)\n",
    "    for treatment_model in condition_model_dict.keys():      \n",
    "        if treatment_model.split('_')[1] == treatment:\n",
    "            current_model = condition_model_dict[treatment_model] \n",
    "            if treatment_model.split('_')[0] == 'Convolution':\n",
    "                probs = current_model.predict([x_test, x_rc_test])\n",
    "                test_predictions = [0 if x[0] > x[1] else 1 for x in probs]\n",
    "                roc = sklearn.metrics.roc_auc_score([y[1] for y in y_test], probs[:,1], )\n",
    "                precision = sklearn.metrics.precision_score([y[1] for y in y_test], [0 if x[0] > x[1] else 1 for x in probs])\n",
    "                acc = sklearn.metrics.accuracy_score([y[1] for y in y_test], test_predictions)\n",
    "                param_count = convolution_model.count_params()\n",
    "                model_types.append('Convolution')\n",
    "            elif treatment_model.split('_')[0] == 'LargeConvolution':\n",
    "                probs = current_model.predict([x_test, x_rc_test])\n",
    "                test_predictions = [0 if x[0] > x[1] else 1 for x in probs]\n",
    "                roc = sklearn.metrics.roc_auc_score([y[1] for y in y_test], probs[:,1], )\n",
    "                precision = sklearn.metrics.precision_score([y[1] for y in y_test], [0 if x[0] > x[1] else 1 for x in probs])\n",
    "                acc = sklearn.metrics.accuracy_score([y[1] for y in y_test], test_predictions)\n",
    "                param_count = convolution_model.count_params()\n",
    "                model_types.append('LargeConvolution')\n",
    "            elif treatment_model.split('_')[0] == 'DotAttention':\n",
    "                probs = current_model.predict([x_test])\n",
    "                test_predictions = [0 if x[0] > x[1] else 1 for x in probs]\n",
    "                roc = sklearn.metrics.roc_auc_score([y[1] for y in y_test], probs[:,1], )\n",
    "                precision = sklearn.metrics.precision_score([y[1] for y in y_test], [0 if x[0] > x[1] else 1 for x in probs])\n",
    "                acc = sklearn.metrics.accuracy_score([y[1] for y in y_test], test_predictions)\n",
    "                param_count = current_model.count_params()\n",
    "                model_types.append('DotAttention')\n",
    "            else:\n",
    "                print('moo', treatment_model)\n",
    "            \n",
    "            \n",
    "            all_rocs.append(roc)\n",
    "            all_accuracies.append(acc)\n",
    "            all_precisions.append(precision)\n",
    "            all_treatments.append(treatment)\n",
    "            \n",
    "            parameter_counts.append(param_count)\n",
    "            print(treatment_model, acc, roc, precision)"
   ]
  },
  {
   "cell_type": "code",
   "execution_count": 96,
   "metadata": {},
   "outputs": [],
   "source": [
    "performance_frame = pd.DataFrame({'Model Type': model_types, \n",
    "                                  'Treatment':all_treatments,\n",
    "                                  'Accuracy':all_accuracies, \n",
    "                                  'aucROC':all_rocs,\n",
    "                                  'Precision':all_precisions})"
   ]
  },
  {
   "cell_type": "code",
   "execution_count": 97,
   "metadata": {},
   "outputs": [
    {
     "data": {
      "image/png": "[encoded data removed]",
      "text/plain": [
       "<matplotlib.figure.Figure at 0x7fa664163668>"
      ]
     },
     "metadata": {},
     "output_type": "display_data"
    }
   ],
   "source": [
    "with sns.axes_style('whitegrid'):\n",
    "    sns.factorplot(data = performance_frame,\n",
    "        x = 'Treatment', \n",
    "        y = 'Accuracy',\n",
    "        hue = 'Model Type',\n",
    "        kind = 'bar'\n",
    "        )\n",
    "    plt.ylim(0,1)"
   ]
  },
  {
   "cell_type": "code",
   "execution_count": 98,
   "metadata": {},
   "outputs": [
    {
     "data": {
      "image/png": "[encoded data removed]",
      "text/plain": [
       "<matplotlib.figure.Figure at 0x7fa6629547b8>"
      ]
     },
     "metadata": {},
     "output_type": "display_data"
    }
   ],
   "source": [
    "with sns.axes_style('whitegrid'):\n",
    "    sns.factorplot(data = performance_frame,\n",
    "        x = 'Treatment', \n",
    "        y = 'aucROC',\n",
    "        hue = 'Model Type',\n",
    "        kind = 'bar'\n",
    "        )\n",
    "    plt.ylim(0,1)"
   ]
  },
  {
   "cell_type": "code",
   "execution_count": 99,
   "metadata": {},
   "outputs": [
    {
     "data": {
      "image/png": "[encoded data removed]",
      "text/plain": [
       "<matplotlib.figure.Figure at 0x7fa6636ed6d8>"
      ]
     },
     "metadata": {},
     "output_type": "display_data"
    }
   ],
   "source": [
    "with sns.axes_style('whitegrid'):\n",
    "    sns.factorplot(data = performance_frame,\n",
    "        x = 'Treatment', \n",
    "        y = 'Precision',\n",
    "        hue = 'Model Type',\n",
    "        kind = 'bar'\n",
    "        )\n",
    "    plt.ylim(0,1)"
   ]
  },
  {
   "cell_type": "markdown",
   "metadata": {},
   "source": [
    "## Grid Search for Dot Product Attention Model"
   ]
  },
  {
   "cell_type": "code",
   "execution_count": null,
   "metadata": {
    "scrolled": true
   },
   "outputs": [],
   "source": [
    "all_rocs = []\n",
    "all_accuracies = []\n",
    "all_precisions = []\n",
    "poolSize_list = []\n",
    "all_treatments = []\n",
    "motifCount_list = []\n",
    "numDense_list = []\n",
    "paramCount_list = []\n",
    "dropoutRate_list = []\n",
    "num_epochs = 20\n",
    "for ps in ['c57bl6_kla-1h_peaks.fasta', 'c57bl6_veh_peaks.fasta', 'c57bl6_il4-24h_peaks.fasta']:\n",
    "    print(ps)\n",
    "    positive_seqRecords = list(SeqIO.parse(working_directory + '/peak_sequences/' + ps, 'fasta'))\n",
    "    negative_seqRecords = list(SeqIO.parse(working_directory + '/background_files/' + ps.replace('_peaks', '_background'), 'fasta'))[:len(positive_seqRecords)]\n",
    "\n",
    "    fasta_seq = [str(x.seq[:200]) for x in positive_seqRecords] + [str(x[:200].seq) for x in negative_seqRecords]\n",
    "\n",
    "    fasta_rc_seq = [str(x[:200].reverse_complement().seq) for x in positive_seqRecords] + \\\n",
    "        [str(x[:200].reverse_complement().seq) for x in negative_seqRecords]\n",
    "\n",
    "    sequence_arrays = convert_sequences_to_array(fasta_seq)\n",
    "\n",
    "    sequence_rc_arrays = convert_sequences_to_array(fasta_rc_seq)\n",
    "\n",
    "\n",
    "    labels = [1 for x in positive_seqRecords] + [0 for x in negative_seqRecords]\n",
    "    labels = np.array(labels)\n",
    "\n",
    "    x_train, x_test, x_rc_train, x_rc_test, y_train, y_test = model_selection.train_test_split(sequence_arrays, sequence_rc_arrays, labels, test_size=0.2)\n",
    "\n",
    "    num_classes = 2\n",
    "    y_train = keras.utils.to_categorical(y_train, num_classes)\n",
    "    y_test = keras.utils.to_categorical(y_test, num_classes)\n",
    "    \n",
    "    treatment = ps.split('_')[1]\n",
    "    \n",
    "    for d in range(50,200,50):\n",
    "        for m in range(50,200,50):\n",
    "            for p in [5,10,20]:\n",
    "                for do in [0.25,0.5,0.75]:\n",
    "                    \n",
    "                    current_model = get_dotProductAttention_model(200,\n",
    "                        mode='classification',\n",
    "                        num_classes = 2,\n",
    "                        num_motifs=m, \n",
    "                        motif_size=10,\n",
    "                        adjacent_bp_pool_size=p,\n",
    "                        num_dense_neurons=d,\n",
    "                        dropout_rate=do)\n",
    "                    num_params = current_model.count_params()\n",
    "                    print(treatment, \n",
    "                         'num dense', d,\n",
    "                         'num motifs', m,\n",
    "                         'pool size', p,\n",
    "                         'dropout rate', do,\n",
    "                         'param count', num_params)\n",
    "                    current_model.fit(x_train, y_train,\n",
    "                          batch_size=64,\n",
    "                          epochs=num_epochs,\n",
    "                          verbose=1,\n",
    "                          validation_data=([x_test], y_test))\n",
    "\n",
    "                    probs = current_model.predict([x_test])\n",
    "                    test_predictions = [0 if x[0] > x[1] else 1 for x in probs]\n",
    "                    roc = sklearn.metrics.roc_auc_score([y[1] for y in y_test], probs[:,1])\n",
    "                    precision = sklearn.metrics.precision_score([y[1] for y in y_test], test_predictions)\n",
    "                    acc = sklearn.metrics.accuracy_score([y[1] for y in y_test], test_predictions)\n",
    "                    \n",
    "                    all_rocs.append(roc)\n",
    "                    all_accuracies.append(acc)\n",
    "                    all_precisions.append(precision)\n",
    "                    poolSize_list.append(p)\n",
    "                    all_treatments.append(treatment)\n",
    "                    motifCount_list.append(m)\n",
    "                    numDense_list.append(d)\n",
    "                    paramCount_list.append(num_params)\n",
    "                    dropoutRate_list.append(do)"
   ]
  },
  {
   "cell_type": "code",
   "execution_count": 21,
   "metadata": {
    "scrolled": false
   },
   "outputs": [],
   "source": [
    "performance_frame = pd.DataFrame({'aucROC':all_rocs, \n",
    "                      'Accuracy':all_accuracies, \n",
    "                      'Pool Size':poolSize_list, \n",
    "                      'Precision':all_precisions,\n",
    "                      'Treatment':all_treatments,\n",
    "                      'Num Motifs':motifCount_list,\n",
    "                      'Num Dense':numDense_list,\n",
    "                      'Num Params':paramCount_list,\n",
    "                      'Dropout Rate':dropoutRate_list\n",
    "                      })"
   ]
  },
  {
   "cell_type": "code",
   "execution_count": 22,
   "metadata": {},
   "outputs": [],
   "source": [
    "performance_frame.to_csv('./grid_search_results.tsv', sep='\\t')"
   ]
  },
  {
   "cell_type": "code",
   "execution_count": 29,
   "metadata": {},
   "outputs": [
    {
     "data": {
      "text/html": [
       "<div>\n",
       "<style>\n",
       "    .dataframe thead tr:only-child th {\n",
       "        text-align: right;\n",
       "    }\n",
       "\n",
       "    .dataframe thead th {\n",
       "        text-align: left;\n",
       "    }\n",
       "\n",
       "    .dataframe tbody tr th {\n",
       "        vertical-align: top;\n",
       "    }\n",
       "</style>\n",
       "<table border=\"1\" class=\"dataframe\">\n",
       "  <thead>\n",
       "    <tr style=\"text-align: right;\">\n",
       "      <th></th>\n",
       "      <th>Accuracy</th>\n",
       "      <th>Dropout Rate</th>\n",
       "      <th>Num Dense</th>\n",
       "      <th>Num Motifs</th>\n",
       "      <th>Num Params</th>\n",
       "      <th>Pool Size</th>\n",
       "      <th>Precision</th>\n",
       "      <th>Treatment</th>\n",
       "      <th>aucROC</th>\n",
       "    </tr>\n",
       "  </thead>\n",
       "  <tbody>\n",
       "    <tr>\n",
       "      <th>50</th>\n",
       "      <td>0.835725</td>\n",
       "      <td>0.75</td>\n",
       "      <td>100</td>\n",
       "      <td>150</td>\n",
       "      <td>40152</td>\n",
       "      <td>10</td>\n",
       "      <td>0.870618</td>\n",
       "      <td>kla-1h</td>\n",
       "      <td>0.920197</td>\n",
       "    </tr>\n",
       "    <tr>\n",
       "      <th>77</th>\n",
       "      <td>0.837447</td>\n",
       "      <td>0.75</td>\n",
       "      <td>150</td>\n",
       "      <td>150</td>\n",
       "      <td>56702</td>\n",
       "      <td>10</td>\n",
       "      <td>0.873728</td>\n",
       "      <td>kla-1h</td>\n",
       "      <td>0.916011</td>\n",
       "    </tr>\n",
       "    <tr>\n",
       "      <th>23</th>\n",
       "      <td>0.837791</td>\n",
       "      <td>0.75</td>\n",
       "      <td>50</td>\n",
       "      <td>150</td>\n",
       "      <td>23602</td>\n",
       "      <td>10</td>\n",
       "      <td>0.879173</td>\n",
       "      <td>kla-1h</td>\n",
       "      <td>0.915555</td>\n",
       "    </tr>\n",
       "    <tr>\n",
       "      <th>68</th>\n",
       "      <td>0.839972</td>\n",
       "      <td>0.75</td>\n",
       "      <td>150</td>\n",
       "      <td>100</td>\n",
       "      <td>39352</td>\n",
       "      <td>10</td>\n",
       "      <td>0.896112</td>\n",
       "      <td>kla-1h</td>\n",
       "      <td>0.915317</td>\n",
       "    </tr>\n",
       "    <tr>\n",
       "      <th>11</th>\n",
       "      <td>0.831133</td>\n",
       "      <td>0.75</td>\n",
       "      <td>50</td>\n",
       "      <td>100</td>\n",
       "      <td>17752</td>\n",
       "      <td>5</td>\n",
       "      <td>0.866940</td>\n",
       "      <td>kla-1h</td>\n",
       "      <td>0.914013</td>\n",
       "    </tr>\n",
       "  </tbody>\n",
       "</table>\n",
       "</div>"
      ],
      "text/plain": [
       "    Accuracy  Dropout Rate  Num Dense  Num Motifs  Num Params  Pool Size  \\\n",
       "50  0.835725          0.75        100         150       40152         10   \n",
       "77  0.837447          0.75        150         150       56702         10   \n",
       "23  0.837791          0.75         50         150       23602         10   \n",
       "68  0.839972          0.75        150         100       39352         10   \n",
       "11  0.831133          0.75         50         100       17752          5   \n",
       "\n",
       "    Precision Treatment    aucROC  \n",
       "50   0.870618    kla-1h  0.920197  \n",
       "77   0.873728    kla-1h  0.916011  \n",
       "23   0.879173    kla-1h  0.915555  \n",
       "68   0.896112    kla-1h  0.915317  \n",
       "11   0.866940    kla-1h  0.914013  "
      ]
     },
     "execution_count": 29,
     "metadata": {},
     "output_type": "execute_result"
    }
   ],
   "source": [
    "performance_frame[performance_frame['Treatment'] == 'kla-1h'].sort_values('aucROC',ascending = False).head()"
   ]
  },
  {
   "cell_type": "code",
   "execution_count": 30,
   "metadata": {},
   "outputs": [
    {
     "data": {
      "text/html": [
       "<div>\n",
       "<style>\n",
       "    .dataframe thead tr:only-child th {\n",
       "        text-align: right;\n",
       "    }\n",
       "\n",
       "    .dataframe thead th {\n",
       "        text-align: left;\n",
       "    }\n",
       "\n",
       "    .dataframe tbody tr th {\n",
       "        vertical-align: top;\n",
       "    }\n",
       "</style>\n",
       "<table border=\"1\" class=\"dataframe\">\n",
       "  <thead>\n",
       "    <tr style=\"text-align: right;\">\n",
       "      <th></th>\n",
       "      <th>Accuracy</th>\n",
       "      <th>Dropout Rate</th>\n",
       "      <th>Num Dense</th>\n",
       "      <th>Num Motifs</th>\n",
       "      <th>Num Params</th>\n",
       "      <th>Pool Size</th>\n",
       "      <th>Precision</th>\n",
       "      <th>Treatment</th>\n",
       "      <th>aucROC</th>\n",
       "    </tr>\n",
       "  </thead>\n",
       "  <tbody>\n",
       "    <tr>\n",
       "      <th>185</th>\n",
       "      <td>0.853222</td>\n",
       "      <td>0.75</td>\n",
       "      <td>50</td>\n",
       "      <td>150</td>\n",
       "      <td>23602</td>\n",
       "      <td>10</td>\n",
       "      <td>0.885384</td>\n",
       "      <td>il4-24h</td>\n",
       "      <td>0.930444</td>\n",
       "    </tr>\n",
       "    <tr>\n",
       "      <th>209</th>\n",
       "      <td>0.848150</td>\n",
       "      <td>0.75</td>\n",
       "      <td>100</td>\n",
       "      <td>150</td>\n",
       "      <td>43152</td>\n",
       "      <td>5</td>\n",
       "      <td>0.851699</td>\n",
       "      <td>il4-24h</td>\n",
       "      <td>0.927972</td>\n",
       "    </tr>\n",
       "    <tr>\n",
       "      <th>200</th>\n",
       "      <td>0.842035</td>\n",
       "      <td>0.75</td>\n",
       "      <td>100</td>\n",
       "      <td>100</td>\n",
       "      <td>30802</td>\n",
       "      <td>5</td>\n",
       "      <td>0.912084</td>\n",
       "      <td>il4-24h</td>\n",
       "      <td>0.927763</td>\n",
       "    </tr>\n",
       "    <tr>\n",
       "      <th>212</th>\n",
       "      <td>0.829430</td>\n",
       "      <td>0.75</td>\n",
       "      <td>100</td>\n",
       "      <td>150</td>\n",
       "      <td>40152</td>\n",
       "      <td>10</td>\n",
       "      <td>0.818121</td>\n",
       "      <td>il4-24h</td>\n",
       "      <td>0.927611</td>\n",
       "    </tr>\n",
       "    <tr>\n",
       "      <th>239</th>\n",
       "      <td>0.847554</td>\n",
       "      <td>0.75</td>\n",
       "      <td>150</td>\n",
       "      <td>150</td>\n",
       "      <td>56702</td>\n",
       "      <td>10</td>\n",
       "      <td>0.849713</td>\n",
       "      <td>il4-24h</td>\n",
       "      <td>0.927164</td>\n",
       "    </tr>\n",
       "  </tbody>\n",
       "</table>\n",
       "</div>"
      ],
      "text/plain": [
       "     Accuracy  Dropout Rate  Num Dense  Num Motifs  Num Params  Pool Size  \\\n",
       "185  0.853222          0.75         50         150       23602         10   \n",
       "209  0.848150          0.75        100         150       43152          5   \n",
       "200  0.842035          0.75        100         100       30802          5   \n",
       "212  0.829430          0.75        100         150       40152         10   \n",
       "239  0.847554          0.75        150         150       56702         10   \n",
       "\n",
       "     Precision Treatment    aucROC  \n",
       "185   0.885384   il4-24h  0.930444  \n",
       "209   0.851699   il4-24h  0.927972  \n",
       "200   0.912084   il4-24h  0.927763  \n",
       "212   0.818121   il4-24h  0.927611  \n",
       "239   0.849713   il4-24h  0.927164  "
      ]
     },
     "execution_count": 30,
     "metadata": {},
     "output_type": "execute_result"
    }
   ],
   "source": [
    "performance_frame[performance_frame['Treatment'] == 'il4-24h'].sort_values('aucROC',ascending = False).head()"
   ]
  },
  {
   "cell_type": "code",
   "execution_count": 31,
   "metadata": {},
   "outputs": [
    {
     "data": {
      "text/html": [
       "<div>\n",
       "<style>\n",
       "    .dataframe thead tr:only-child th {\n",
       "        text-align: right;\n",
       "    }\n",
       "\n",
       "    .dataframe thead th {\n",
       "        text-align: left;\n",
       "    }\n",
       "\n",
       "    .dataframe tbody tr th {\n",
       "        vertical-align: top;\n",
       "    }\n",
       "</style>\n",
       "<table border=\"1\" class=\"dataframe\">\n",
       "  <thead>\n",
       "    <tr style=\"text-align: right;\">\n",
       "      <th></th>\n",
       "      <th>Accuracy</th>\n",
       "      <th>Dropout Rate</th>\n",
       "      <th>Num Dense</th>\n",
       "      <th>Num Motifs</th>\n",
       "      <th>Num Params</th>\n",
       "      <th>Pool Size</th>\n",
       "      <th>Precision</th>\n",
       "      <th>Treatment</th>\n",
       "      <th>aucROC</th>\n",
       "    </tr>\n",
       "  </thead>\n",
       "  <tbody>\n",
       "    <tr>\n",
       "      <th>104</th>\n",
       "      <td>0.854675</td>\n",
       "      <td>0.75</td>\n",
       "      <td>50</td>\n",
       "      <td>150</td>\n",
       "      <td>23602</td>\n",
       "      <td>10</td>\n",
       "      <td>0.885764</td>\n",
       "      <td>veh</td>\n",
       "      <td>0.928435</td>\n",
       "    </tr>\n",
       "    <tr>\n",
       "      <th>158</th>\n",
       "      <td>0.853645</td>\n",
       "      <td>0.75</td>\n",
       "      <td>150</td>\n",
       "      <td>150</td>\n",
       "      <td>56702</td>\n",
       "      <td>10</td>\n",
       "      <td>0.880882</td>\n",
       "      <td>veh</td>\n",
       "      <td>0.926461</td>\n",
       "    </tr>\n",
       "    <tr>\n",
       "      <th>157</th>\n",
       "      <td>0.843978</td>\n",
       "      <td>0.50</td>\n",
       "      <td>150</td>\n",
       "      <td>150</td>\n",
       "      <td>56702</td>\n",
       "      <td>10</td>\n",
       "      <td>0.887498</td>\n",
       "      <td>veh</td>\n",
       "      <td>0.924575</td>\n",
       "    </tr>\n",
       "    <tr>\n",
       "      <th>155</th>\n",
       "      <td>0.848653</td>\n",
       "      <td>0.75</td>\n",
       "      <td>150</td>\n",
       "      <td>150</td>\n",
       "      <td>61202</td>\n",
       "      <td>5</td>\n",
       "      <td>0.884820</td>\n",
       "      <td>veh</td>\n",
       "      <td>0.923599</td>\n",
       "    </tr>\n",
       "    <tr>\n",
       "      <th>149</th>\n",
       "      <td>0.850634</td>\n",
       "      <td>0.75</td>\n",
       "      <td>150</td>\n",
       "      <td>100</td>\n",
       "      <td>39352</td>\n",
       "      <td>10</td>\n",
       "      <td>0.846551</td>\n",
       "      <td>veh</td>\n",
       "      <td>0.923239</td>\n",
       "    </tr>\n",
       "  </tbody>\n",
       "</table>\n",
       "</div>"
      ],
      "text/plain": [
       "     Accuracy  Dropout Rate  Num Dense  Num Motifs  Num Params  Pool Size  \\\n",
       "104  0.854675          0.75         50         150       23602         10   \n",
       "158  0.853645          0.75        150         150       56702         10   \n",
       "157  0.843978          0.50        150         150       56702         10   \n",
       "155  0.848653          0.75        150         150       61202          5   \n",
       "149  0.850634          0.75        150         100       39352         10   \n",
       "\n",
       "     Precision Treatment    aucROC  \n",
       "104   0.885764       veh  0.928435  \n",
       "158   0.880882       veh  0.926461  \n",
       "157   0.887498       veh  0.924575  \n",
       "155   0.884820       veh  0.923599  \n",
       "149   0.846551       veh  0.923239  "
      ]
     },
     "execution_count": 31,
     "metadata": {},
     "output_type": "execute_result"
    }
   ],
   "source": [
    "performance_frame[performance_frame['Treatment'] == 'veh'].sort_values('aucROC',ascending = False).head()"
   ]
  },
  {
   "cell_type": "code",
   "execution_count": 64,
   "metadata": {},
   "outputs": [
    {
     "data": {
      "text/plain": [
       "(0.8, 0.9)"
      ]
     },
     "execution_count": 64,
     "metadata": {},
     "output_type": "execute_result"
    },
    {
     "data": {
      "image/png": "[encoded data removed]",
      "text/plain": [
       "<matplotlib.figure.Figure at 0x7efae8816198>"
      ]
     },
     "metadata": {},
     "output_type": "display_data"
    }
   ],
   "source": [
    "sns.factorplot(data = performance_frame, x = 'Num Motifs', y='Accuracy', hue = 'Treatment')\n",
    "plt.ylim(0.8,0.9)"
   ]
  },
  {
   "cell_type": "code",
   "execution_count": 63,
   "metadata": {},
   "outputs": [
    {
     "data": {
      "text/plain": [
       "(0.8, 0.9)"
      ]
     },
     "execution_count": 63,
     "metadata": {},
     "output_type": "execute_result"
    },
    {
     "data": {
      "image/png": "[encoded data removed]",
      "text/plain": [
       "<matplotlib.figure.Figure at 0x7efae8883be0>"
      ]
     },
     "metadata": {},
     "output_type": "display_data"
    }
   ],
   "source": [
    "sns.factorplot(data = performance_frame, x = 'Pool Size', y='Accuracy', hue = 'Treatment')\n",
    "plt.ylim(0.8,0.9)"
   ]
  },
  {
   "cell_type": "code",
   "execution_count": 62,
   "metadata": {},
   "outputs": [
    {
     "data": {
      "text/plain": [
       "(0.8, 0.9)"
      ]
     },
     "execution_count": 62,
     "metadata": {},
     "output_type": "execute_result"
    },
    {
     "data": {
      "image/png": "[encoded data removed]",
      "text/plain": [
       "<matplotlib.figure.Figure at 0x7efae8a39f60>"
      ]
     },
     "metadata": {},
     "output_type": "display_data"
    }
   ],
   "source": [
    "sns.factorplot(data = performance_frame, x = 'Num Dense', y='Accuracy', hue = 'Treatment')\n",
    "plt.ylim(0.8,0.9)"
   ]
  },
  {
   "cell_type": "markdown",
   "metadata": {},
   "source": [
    "## Weight Extraction"
   ]
  },
  {
   "cell_type": "code",
   "execution_count": 116,
   "metadata": {},
   "outputs": [],
   "source": [
    "def get_sequence_attention(model, sequence_arrays, sequence_size, adjacent_bp_pool_size):\n",
    "    get_attention = K.function([model.get_layer('input_fwd').input, \n",
    "                                K.learning_phase()\n",
    "                               ], \n",
    "                               [model.get_layer('attention_softmax_layer').output])\n",
    "    trimmed_sequences = [x[:sequence_size] for x in sequence_arrays]\n",
    "    \n",
    "    attention = get_attention((trimmed_sequences, 0))[0]\n",
    "\n",
    "    return attention"
   ]
  },
  {
   "cell_type": "code",
   "execution_count": 172,
   "metadata": {},
   "outputs": [
    {
     "name": "stdout",
     "output_type": "stream",
     "text": [
      "*** kla-1h ***\n",
      "*** veh ***\n",
      "*** il4-24h ***\n"
     ]
    }
   ],
   "source": [
    "treatment_attention_dict = {}\n",
    "for ps in ['c57bl6_kla-1h_peaks.fasta', 'c57bl6_veh_peaks.fasta', 'c57bl6_il4-24h_peaks.fasta']:\n",
    "    treatment = ps.split('_')[1]\n",
    "    print('***',treatment, '***')\n",
    "    positive_seqRecords = list(SeqIO.parse(working_directory + '/peak_sequences/' + ps, 'fasta'))\n",
    "\n",
    "    fasta_seq = [str(x.seq[:200]) for x in positive_seqRecords]\n",
    "\n",
    "    \n",
    "    sequence_arrays = convert_sequences_to_array(fasta_seq)\n",
    "    \n",
    "    current_model = condition_model_dict['DotAttention_'+treatment]\n",
    "    attention = get_sequence_attention(current_model,\n",
    "        sequence_arrays,\n",
    "        200,\n",
    "        10)\n",
    "    treatment_attention_dict[treatment] = attention"
   ]
  },
  {
   "cell_type": "markdown",
   "metadata": {},
   "source": [
    "## Visualize Attention"
   ]
  },
  {
   "cell_type": "markdown",
   "metadata": {},
   "source": [
    "### Overall Matrix"
   ]
  },
  {
   "cell_type": "code",
   "execution_count": 173,
   "metadata": {},
   "outputs": [
    {
     "data": {
      "text/plain": [
       "<matplotlib.legend.Legend at 0x7fa5d407a6a0>"
      ]
     },
     "execution_count": 173,
     "metadata": {},
     "output_type": "execute_result"
    },
    {
     "data": {
      "image/png": "[encoded data removed]",
      "text/plain": [
       "<matplotlib.figure.Figure at 0x7fa5d407ab00>"
      ]
     },
     "metadata": {},
     "output_type": "display_data"
    }
   ],
   "source": [
    "for treatment in treatment_attention_dict:\n",
    "    treatment_attention = treatment_attention_dict[treatment]\n",
    "    sns.distplot(treatment_attention.flatten(), label = treatment)\n",
    "plt.xlabel('Attention')\n",
    "plt.ylabel('Frequency')\n",
    "plt.legend()"
   ]
  },
  {
   "cell_type": "markdown",
   "metadata": {},
   "source": [
    "#### Per sequence frequencies"
   ]
  },
  {
   "cell_type": "code",
   "execution_count": 174,
   "metadata": {},
   "outputs": [
    {
     "name": "stdout",
     "output_type": "stream",
     "text": [
      "veh\n",
      "il4-24h\n",
      "kla-1h\n"
     ]
    }
   ],
   "source": [
    "num_positions = 20\n",
    "matrix_size = num_positions**2\n",
    "count_list = []\n",
    "treatment_list = []\n",
    "threshold_list = []\n",
    "normalized_count_list = []\n",
    "for treatment in treatment_attention_dict:\n",
    "    treatment_attention = treatment_attention_dict[treatment]\n",
    "    print(treatment)\n",
    "    for threshold in [np.round(x,2) for x in np.arange(0.1,1,0.05)]:\n",
    "        for am in treatment_attention:\n",
    "            count = np.sum(am.flatten() > threshold)\n",
    "            count_list.append(count)\n",
    "            normalized_count_list.append(count/matrix_size)\n",
    "            treatment_list.append(treatment)\n",
    "            threshold_list.append(threshold)\n",
    "        \n"
   ]
  },
  {
   "cell_type": "code",
   "execution_count": 175,
   "metadata": {},
   "outputs": [],
   "source": [
    "frame = pd.DataFrame({'Treatment': treatment_list, \n",
    "                      'Threshold': threshold_list,\n",
    "                      'Count':count_list,\n",
    "                      'Normalized Count':normalized_count_list})"
   ]
  },
  {
   "cell_type": "code",
   "execution_count": 176,
   "metadata": {},
   "outputs": [
    {
     "data": {
      "text/plain": [
       "<seaborn.axisgrid.FacetGrid at 0x7fa664962ba8>"
      ]
     },
     "execution_count": 176,
     "metadata": {},
     "output_type": "execute_result"
    },
    {
     "data": {
      "image/png": "[encoded data removed]",
      "text/plain": [
       "<matplotlib.figure.Figure at 0x7fa664962d68>"
      ]
     },
     "metadata": {},
     "output_type": "display_data"
    }
   ],
   "source": [
    "sns.factorplot(data = frame, \n",
    "    x = 'Treatment',\n",
    "    y = 'Count',\n",
    "    hue='Threshold',\n",
    "    kind = 'box',\n",
    "    palette = 'Blues',\n",
    "    showfliers=False,\n",
    "    size = 10)"
   ]
  },
  {
   "cell_type": "code",
   "execution_count": 177,
   "metadata": {},
   "outputs": [
    {
     "data": {
      "text/plain": [
       "<seaborn.axisgrid.FacetGrid at 0x7fa62e9e7780>"
      ]
     },
     "execution_count": 177,
     "metadata": {},
     "output_type": "execute_result"
    },
    {
     "data": {
      "image/png": "[encoded data removed]",
      "text/plain": [
       "<matplotlib.figure.Figure at 0x7fa62e9e7828>"
      ]
     },
     "metadata": {},
     "output_type": "display_data"
    }
   ],
   "source": [
    "sns.factorplot(data = frame, \n",
    "    x = 'Treatment',\n",
    "    y = 'Normalized Count',\n",
    "    hue='Threshold',\n",
    "    kind = 'box',\n",
    "    palette = 'Greens',\n",
    "    showfliers=False,\n",
    "    size = 10)"
   ]
  },
  {
   "cell_type": "markdown",
   "metadata": {},
   "source": [
    "### Flattened Matrix "
   ]
  },
  {
   "cell_type": "code",
   "execution_count": 178,
   "metadata": {},
   "outputs": [
    {
     "data": {
      "text/plain": [
       "<matplotlib.legend.Legend at 0x7fa62e573da0>"
      ]
     },
     "execution_count": 178,
     "metadata": {},
     "output_type": "execute_result"
    },
    {
     "data": {
      "image/png": "[encoded data removed]",
      "text/plain": [
       "<matplotlib.figure.Figure at 0x7fa62e573e10>"
      ]
     },
     "metadata": {},
     "output_type": "display_data"
    }
   ],
   "source": [
    "for treatment in treatment_attention_dict:\n",
    "    treatment_attention = treatment_attention_dict[treatment]\n",
    "    flattened_attention = np.array([x.sum(axis=1) for x in treatment_attention])\n",
    "    sns.distplot(flattened_attention.flatten(), label = treatment)\n",
    "plt.xlabel('Attention Per Position')\n",
    "plt.ylabel('Frequency')\n",
    "plt.legend()"
   ]
  },
  {
   "cell_type": "markdown",
   "metadata": {},
   "source": [
    "#### Per sequence frequencies"
   ]
  },
  {
   "cell_type": "code",
   "execution_count": 179,
   "metadata": {},
   "outputs": [
    {
     "name": "stdout",
     "output_type": "stream",
     "text": [
      "veh\n",
      "il4-24h\n",
      "kla-1h\n"
     ]
    }
   ],
   "source": [
    "num_positions = 20\n",
    "count_list = []\n",
    "treatment_list = []\n",
    "threshold_list = []\n",
    "normalized_count_list = []\n",
    "for treatment in treatment_attention_dict:\n",
    "    treatment_attention = treatment_attention_dict[treatment]\n",
    "    flattened_attention = np.array([x.sum(axis=1) for x in treatment_attention])\n",
    "    print(treatment)\n",
    "    for threshold in [np.round(x,2) for x in np.arange(0.5,10,0.5)]:\n",
    "        for fam in flattened_attention:\n",
    "            count = np.sum(fam.flatten() > threshold)\n",
    "            count_list.append(count)\n",
    "            normalized_count_list.append(count/num_positions)\n",
    "            treatment_list.append(treatment)\n",
    "            threshold_list.append(threshold)\n",
    "        \n"
   ]
  },
  {
   "cell_type": "code",
   "execution_count": 180,
   "metadata": {},
   "outputs": [],
   "source": [
    "frame = pd.DataFrame({'Treatment': treatment_list, \n",
    "                      'Threshold': threshold_list,\n",
    "                      'Count':count_list,\n",
    "                      'Normalized Count':normalized_count_list})"
   ]
  },
  {
   "cell_type": "code",
   "execution_count": 181,
   "metadata": {},
   "outputs": [
    {
     "data": {
      "text/plain": [
       "<seaborn.axisgrid.FacetGrid at 0x7fa62e523f28>"
      ]
     },
     "execution_count": 181,
     "metadata": {},
     "output_type": "execute_result"
    },
    {
     "data": {
      "image/png": "[encoded data removed]",
      "text/plain": [
       "<matplotlib.figure.Figure at 0x7fa62e523cc0>"
      ]
     },
     "metadata": {},
     "output_type": "display_data"
    }
   ],
   "source": [
    "sns.factorplot(data = frame, \n",
    "    x = 'Treatment',\n",
    "    y = 'Count',\n",
    "    hue='Threshold',\n",
    "    kind = 'box',\n",
    "    palette = 'Blues',\n",
    "    showfliers=False,\n",
    "    size = 10)"
   ]
  },
  {
   "cell_type": "markdown",
   "metadata": {},
   "source": [
    "## Per k-mer attention analysis"
   ]
  },
  {
   "cell_type": "code",
   "execution_count": 182,
   "metadata": {},
   "outputs": [
    {
     "name": "stdout",
     "output_type": "stream",
     "text": [
      "1048576 10-mers possible\n"
     ]
    }
   ],
   "source": [
    "print(4**10, '10-mers possible')"
   ]
  },
  {
   "cell_type": "code",
   "execution_count": 190,
   "metadata": {},
   "outputs": [
    {
     "name": "stdout",
     "output_type": "stream",
     "text": [
      "*** kla-1h ***\n",
      "297316 10-mers observed\n",
      "*** veh ***\n",
      "381063 10-mers observed\n",
      "*** il4-24h ***\n",
      "393025 10-mers observed\n"
     ]
    }
   ],
   "source": [
    "kmer_size = 10\n",
    "sequence_size = 200\n",
    "\n",
    "for ps in ['c57bl6_kla-1h_peaks.fasta', 'c57bl6_veh_peaks.fasta', 'c57bl6_il4-24h_peaks.fasta']:\n",
    "    kmer_set = set()\n",
    "    treatment = ps.split('_')[1]\n",
    "    print('***',treatment, '***')\n",
    "    positive_seqRecords = list(SeqIO.parse(working_directory + '/peak_sequences/' + ps, 'fasta'))\n",
    "\n",
    "    fasta_seq = [str(x.seq[:sequence_size]) for x in positive_seqRecords]\n",
    "    for seq in fasta_seq:\n",
    "        for i in range(0,sequence_size,kmer_size):\n",
    "            kmer = seq[i:i+kmer_size]\n",
    "            kmer_set.add(kmer)\n",
    "    print(len(kmer_set), '10-mers observed')   "
   ]
  },
  {
   "cell_type": "code",
   "execution_count": 55,
   "metadata": {},
   "outputs": [],
   "source": [
    "chunks = []\n",
    "for i in range(0,len(attended_sequence),10):\n",
    "#     print(i, i+5, attended_sequence[i:i+5])\n",
    "    chunks.append(attended_sequence[i:i+10])"
   ]
  },
  {
   "cell_type": "code",
   "execution_count": 56,
   "metadata": {},
   "outputs": [
    {
     "data": {
      "text/plain": [
       "(array([ 0.5,  1.5,  2.5,  3.5,  4.5,  5.5,  6.5,  7.5,  8.5,  9.5, 10.5,\n",
       "        11.5, 12.5, 13.5, 14.5]), <a list of 15 Text yticklabel objects>)"
      ]
     },
     "execution_count": 56,
     "metadata": {},
     "output_type": "execute_result"
    },
    {
     "data": {
      "image/png": "[encoded data removed]",
      "text/plain": [
       "<matplotlib.figure.Figure at 0x7efae8c3e5f8>"
      ]
     },
     "metadata": {},
     "output_type": "display_data"
    }
   ],
   "source": [
    "plt.figure(figsize = (10,10))\n",
    "sns.heatmap(layer_output.reshape(layer_output.shape[1], \n",
    "                                 layer_output.shape[2]), \n",
    "    square = True,\n",
    "    yticklabels = chunks,\n",
    "    xticklabels=chunks)\n",
    "plt.xticks(rotation = 90)\n",
    "plt.yticks(rotation = 0)"
   ]
  },
  {
   "cell_type": "code",
   "execution_count": 39,
   "metadata": {},
   "outputs": [],
   "source": [
    "summed_attention = layer_output.reshape(layer_output.shape[1], \n",
    "                                 layer_output.shape[2]).sum(axis=1)"
   ]
  },
  {
   "cell_type": "code",
   "execution_count": 40,
   "metadata": {},
   "outputs": [],
   "source": [
    "summed_attention = summed_attention.reshape((len(summed_attention),1))"
   ]
  },
  {
   "cell_type": "code",
   "execution_count": 41,
   "metadata": {},
   "outputs": [
    {
     "data": {
      "text/plain": [
       "<matplotlib.axes._subplots.AxesSubplot at 0x7efae8e5f550>"
      ]
     },
     "execution_count": 41,
     "metadata": {},
     "output_type": "execute_result"
    },
    {
     "data": {
      "image/png": "[encoded data removed]",
      "text/plain": [
       "<matplotlib.figure.Figure at 0x7efae8e51198>"
      ]
     },
     "metadata": {},
     "output_type": "display_data"
    }
   ],
   "source": [
    "plt.figure(figsize = (10,10))\n",
    "\n",
    "\n",
    "sns.heatmap(summed_attention.T,\n",
    "            square = True,\n",
    "            xticklabels=chunks)"
   ]
  },
  {
   "cell_type": "code",
   "execution_count": null,
   "metadata": {},
   "outputs": [],
   "source": []
  }
 ],
 "metadata": {
  "kernelspec": {
   "display_name": "Python 3",
   "language": "python",
   "name": "python3"
  },
  "language_info": {
   "codemirror_mode": {
    "name": "ipython",
    "version": 3
   },
   "file_extension": ".py",
   "mimetype": "text/x-python",
   "name": "python",
   "nbconvert_exporter": "python",
   "pygments_lexer": "ipython3",
   "version": "3.5.1"
  }
 },
 "nbformat": 4,
 "nbformat_minor": 1
}
