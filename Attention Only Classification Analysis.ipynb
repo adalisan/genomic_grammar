{
 "cells": [
  {
   "cell_type": "markdown",
   "metadata": {},
   "source": [
    "## Attention Only Classification Analysis"
   ]
  },
  {
   "cell_type": "code",
   "execution_count": 1,
   "metadata": {},
   "outputs": [
    {
     "name": "stderr",
     "output_type": "stream",
     "text": [
      "Using TensorFlow backend.\n"
     ]
    }
   ],
   "source": [
    "%load_ext autoreload\n",
    "%autoreload 2\n",
    "\n",
    "from __future__ import print_function\n",
    "import keras\n",
    "from keras import backend as K\n",
    "import tensorflow as tf\n",
    "\n",
    "import os\n",
    "import numpy as np\n",
    "import pandas as pd\n",
    "import scipy\n",
    "\n",
    "import Bio\n",
    "from Bio import SeqIO\n",
    "import Bio.motifs\n",
    "\n",
    "%matplotlib inline\n",
    "from matplotlib import pyplot as plt\n",
    "import seaborn as sns\n",
    "from sklearn import model_selection\n",
    "import sklearn\n",
    "\n",
    "from IPython.display import SVG\n",
    "from keras.utils.vis_utils import model_to_dot\n",
    "\n",
    "from signal_models import *\n",
    "from utility_functions import *\n",
    "\n",
    "sns.set_context('notebook')"
   ]
  },
  {
   "cell_type": "code",
   "execution_count": 2,
   "metadata": {},
   "outputs": [],
   "source": [
    "working_directory = '/home/jtao/analysis/genomic_grammar_analysis/'"
   ]
  },
  {
   "cell_type": "markdown",
   "metadata": {},
   "source": [
    "## Read Data"
   ]
  },
  {
   "cell_type": "code",
   "execution_count": 3,
   "metadata": {},
   "outputs": [
    {
     "name": "stdout",
     "output_type": "stream",
     "text": [
      "*** kla-1h ***\n",
      "*** veh ***\n",
      "*** il4-24h ***\n"
     ]
    }
   ],
   "source": [
    "treatment_positive_fasta_dict = {}\n",
    "treatment_negative_fasta_dict = {}\n",
    "treatment_positive_seqArray_dict = {}\n",
    "treatment_positive_rc_seqArray_dict = {}\n",
    "treatment_negative_seqArray_dict = {}\n",
    "treatment_negative_rc_seqArray_dict = {}\n",
    "\n",
    "for ps in ['c57bl6_kla-1h_peaks.fasta', 'c57bl6_veh_peaks.fasta', 'c57bl6_il4-24h_peaks.fasta']:\n",
    "    treatment = ps.split('_')[1]\n",
    "    print('***',treatment, '***')\n",
    "    positive_seqRecords = list(SeqIO.parse(working_directory + '/peak_sequences/' + ps, 'fasta'))\n",
    "    negative_seqRecords = list(SeqIO.parse(working_directory + '/background_files/' + ps.replace('_peaks', '_background'), 'fasta'))[:len(positive_seqRecords)]\n",
    "    \n",
    "    positive_fasta_seq = [str(x.seq[:200]) for x in positive_seqRecords]\n",
    "    negative_fasta_seq = [str(x.seq[:200]) for x in negative_seqRecords]\n",
    "    \n",
    "    positive_rc_fasta_seq = [str(x[:200].reverse_complement().seq) for x in positive_seqRecords]\n",
    "    negative_rc_fasta_seq = [str(x[:200].reverse_complement().seq) for x in negative_seqRecords]\n",
    "    \n",
    "    positive_sequence_arrays = convert_sequences_to_array(positive_fasta_seq)\n",
    "    positive_rc_sequence_arrays = convert_sequences_to_array(positive_rc_fasta_seq)\n",
    "    \n",
    "    negative_sequence_arrays = convert_sequences_to_array(negative_fasta_seq)\n",
    "    negative_rc_sequence_arrays = convert_sequences_to_array(negative_rc_fasta_seq)\n",
    "    \n",
    "    treatment_positive_fasta_dict[treatment] = positive_fasta_seq\n",
    "    treatment_negative_fasta_dict[treatment] = negative_fasta_seq\n",
    "    treatment_positive_seqArray_dict[treatment] = positive_sequence_arrays\n",
    "    treatment_positive_rc_seqArray_dict[treatment] = positive_rc_sequence_arrays\n",
    "    treatment_negative_seqArray_dict[treatment] = negative_sequence_arrays\n",
    "    treatment_negative_rc_seqArray_dict[treatment] = negative_rc_sequence_arrays"
   ]
  },
  {
   "cell_type": "markdown",
   "metadata": {},
   "source": [
    "## Set Model Settings"
   ]
  },
  {
   "cell_type": "code",
   "execution_count": 4,
   "metadata": {},
   "outputs": [],
   "source": [
    "### settings for attention model ###\n",
    "attention_num_motifs=128\n",
    "attention_motif_size=10\n",
    "adjacent_bp_pool_size=1\n",
    "attention_num_dense_neurons = 8\n",
    "attention_dropout_rate=0.1\n",
    "\n",
    "### settings for convolution model ###\n",
    "convolution_num_motifs=16\n",
    "convolution_motif_size=24\n",
    "num_dense_neurons=32\n",
    "convolution_dropout_rate=0.5\n",
    "\n",
    "largeConvolution_num_motifs = 49\n",
    "large_num_dense_neurons = 98"
   ]
  },
  {
   "cell_type": "code",
   "execution_count": 5,
   "metadata": {},
   "outputs": [
    {
     "name": "stdout",
     "output_type": "stream",
     "text": [
      "dotProductAttention_model 9866\n",
      "convolution_model 2162\n",
      "large_convolution_model 9851\n"
     ]
    }
   ],
   "source": [
    "dotProductAttention_model = get_dotProductAttention_model(200,\n",
    "    mode='classification',\n",
    "    num_motifs=attention_num_motifs, \n",
    "    motif_size=attention_motif_size,\n",
    "    adjacent_bp_pool_size=adjacent_bp_pool_size,\n",
    "    num_dense_neurons = attention_num_dense_neurons,\n",
    "    dropout_rate=attention_dropout_rate,\n",
    "    num_classes=2)\n",
    "print('dotProductAttention_model', dotProductAttention_model.count_params())\n",
    "\n",
    "convolution_model = get_convolution_model(200,\n",
    "    mode='classification',\n",
    "    num_motifs=convolution_num_motifs, \n",
    "    motif_size=convolution_motif_size,\n",
    "    num_dense_neurons=num_dense_neurons,\n",
    "    dropout_rate=convolution_dropout_rate,\n",
    "    num_classes=2)\n",
    "print('convolution_model', convolution_model.count_params())\n",
    "\n",
    "large_convolution_model = get_convolution_model(200,\n",
    "    mode='classification',\n",
    "    num_motifs=largeConvolution_num_motifs, \n",
    "    motif_size=convolution_motif_size,\n",
    "    num_dense_neurons=large_num_dense_neurons,\n",
    "    dropout_rate=convolution_dropout_rate,\n",
    "    num_classes=2)\n",
    "print('large_convolution_model', large_convolution_model.count_params())\n",
    "\n"
   ]
  },
  {
   "cell_type": "markdown",
   "metadata": {},
   "source": [
    "## Train All Models for all Data Sets"
   ]
  },
  {
   "cell_type": "code",
   "execution_count": 7,
   "metadata": {
    "collapsed": true
   },
   "outputs": [],
   "source": [
    "condition_model_dict = {}"
   ]
  },
  {
   "cell_type": "code",
   "execution_count": 10,
   "metadata": {
    "scrolled": true
   },
   "outputs": [
    {
     "name": "stdout",
     "output_type": "stream",
     "text": [
      "iteration 1\n",
      "Training DotAttention kla-1h\n",
      "linear\n",
      "linear\n",
      "linear\n",
      "Train on 34841 samples, validate on 8711 samples\n",
      "Epoch 1/20\n",
      "34841/34841 [==============================] - 36s 1ms/step - loss: 0.6724 - categorical_accuracy: 0.5605 - val_loss: 0.6163 - val_categorical_accuracy: 0.6604\n",
      "Epoch 2/20\n",
      "34841/34841 [==============================] - 35s 1ms/step - loss: 0.5923 - categorical_accuracy: 0.6802 - val_loss: 0.5483 - val_categorical_accuracy: 0.7237\n",
      "Epoch 3/20\n",
      "34841/34841 [==============================] - 35s 1ms/step - loss: 0.5411 - categorical_accuracy: 0.7313 - val_loss: 0.5294 - val_categorical_accuracy: 0.7369\n",
      "Epoch 4/20\n",
      "34841/34841 [==============================] - 35s 1ms/step - loss: 0.4944 - categorical_accuracy: 0.7610 - val_loss: 0.4641 - val_categorical_accuracy: 0.7813\n",
      "Epoch 5/20\n",
      "34841/34841 [==============================] - 35s 995us/step - loss: 0.4578 - categorical_accuracy: 0.7861 - val_loss: 0.4331 - val_categorical_accuracy: 0.7991\n",
      "Epoch 6/20\n",
      "34841/34841 [==============================] - 35s 1ms/step - loss: 0.4320 - categorical_accuracy: 0.8011 - val_loss: 0.4335 - val_categorical_accuracy: 0.8015\n",
      "Epoch 7/20\n",
      "34841/34841 [==============================] - 35s 998us/step - loss: 0.4102 - categorical_accuracy: 0.8128 - val_loss: 0.4107 - val_categorical_accuracy: 0.8141\n",
      "Epoch 8/20\n",
      "34841/34841 [==============================] - 35s 1ms/step - loss: 0.3950 - categorical_accuracy: 0.8229 - val_loss: 0.4036 - val_categorical_accuracy: 0.8160\n",
      "Epoch 9/20\n",
      "34841/34841 [==============================] - 35s 998us/step - loss: 0.3881 - categorical_accuracy: 0.8250 - val_loss: 0.3936 - val_categorical_accuracy: 0.8244\n",
      "Epoch 10/20\n",
      "34841/34841 [==============================] - 35s 1000us/step - loss: 0.3715 - categorical_accuracy: 0.8360 - val_loss: 0.3814 - val_categorical_accuracy: 0.8296\n",
      "Epoch 11/20\n",
      "34841/34841 [==============================] - 35s 1ms/step - loss: 0.3641 - categorical_accuracy: 0.8396 - val_loss: 0.3858 - val_categorical_accuracy: 0.8246\n",
      "Epoch 12/20\n",
      "34841/34841 [==============================] - 35s 997us/step - loss: 0.3529 - categorical_accuracy: 0.8456 - val_loss: 0.3938 - val_categorical_accuracy: 0.8249\n",
      "Epoch 13/20\n",
      "34841/34841 [==============================] - 35s 998us/step - loss: 0.3431 - categorical_accuracy: 0.8508 - val_loss: 0.3659 - val_categorical_accuracy: 0.8377\n",
      "Epoch 14/20\n",
      "34841/34841 [==============================] - 35s 1ms/step - loss: 0.3379 - categorical_accuracy: 0.8528 - val_loss: 0.3601 - val_categorical_accuracy: 0.8449\n",
      "Epoch 15/20\n",
      "34841/34841 [==============================] - 35s 1ms/step - loss: 0.3292 - categorical_accuracy: 0.8582 - val_loss: 0.3628 - val_categorical_accuracy: 0.8412\n",
      "Epoch 16/20\n",
      "34841/34841 [==============================] - 35s 1ms/step - loss: 0.3232 - categorical_accuracy: 0.8595 - val_loss: 0.3671 - val_categorical_accuracy: 0.8397\n",
      "Epoch 17/20\n",
      "34841/34841 [==============================] - 35s 995us/step - loss: 0.3179 - categorical_accuracy: 0.8628 - val_loss: 0.3714 - val_categorical_accuracy: 0.8374\n",
      "Epoch 18/20\n",
      "34841/34841 [==============================] - 35s 1ms/step - loss: 0.3141 - categorical_accuracy: 0.8661 - val_loss: 0.3455 - val_categorical_accuracy: 0.8484\n",
      "Epoch 19/20\n",
      "34841/34841 [==============================] - 35s 997us/step - loss: 0.3082 - categorical_accuracy: 0.8674 - val_loss: 0.3618 - val_categorical_accuracy: 0.8447\n",
      "Epoch 20/20\n",
      "34841/34841 [==============================] - 35s 1ms/step - loss: 0.2987 - categorical_accuracy: 0.8743 - val_loss: 0.3424 - val_categorical_accuracy: 0.8544\n",
      "Training Large Convolution kla-1h\n",
      "Train on 34841 samples, validate on 8711 samples\n",
      "Epoch 1/20\n",
      "34841/34841 [==============================] - 3s 97us/step - loss: 0.6660 - categorical_accuracy: 0.5732 - val_loss: 0.5388 - val_categorical_accuracy: 0.7501\n",
      "Epoch 2/20\n",
      "34841/34841 [==============================] - 3s 81us/step - loss: 0.4724 - categorical_accuracy: 0.7790 - val_loss: 0.4663 - val_categorical_accuracy: 0.7758\n",
      "Epoch 3/20\n",
      "34841/34841 [==============================] - 3s 81us/step - loss: 0.4054 - categorical_accuracy: 0.8214 - val_loss: 0.3886 - val_categorical_accuracy: 0.8244\n",
      "Epoch 4/20\n",
      "34841/34841 [==============================] - 3s 81us/step - loss: 0.3672 - categorical_accuracy: 0.8411 - val_loss: 0.3830 - val_categorical_accuracy: 0.8294\n",
      "Epoch 5/20\n",
      "34841/34841 [==============================] - 3s 80us/step - loss: 0.3505 - categorical_accuracy: 0.8498 - val_loss: 0.3709 - val_categorical_accuracy: 0.8331\n",
      "Epoch 6/20\n",
      "34841/34841 [==============================] - 3s 81us/step - loss: 0.3325 - categorical_accuracy: 0.8594 - val_loss: 0.4275 - val_categorical_accuracy: 0.8146\n",
      "Epoch 7/20\n",
      "34841/34841 [==============================] - 3s 82us/step - loss: 0.3211 - categorical_accuracy: 0.8653 - val_loss: 0.3721 - val_categorical_accuracy: 0.8347\n",
      "Epoch 8/20\n",
      "34841/34841 [==============================] - 3s 81us/step - loss: 0.3110 - categorical_accuracy: 0.8723 - val_loss: 0.3987 - val_categorical_accuracy: 0.8259\n",
      "Epoch 9/20\n",
      "34841/34841 [==============================] - 3s 81us/step - loss: 0.3001 - categorical_accuracy: 0.8749 - val_loss: 0.3790 - val_categorical_accuracy: 0.8350\n",
      "Epoch 10/20\n",
      "34841/34841 [==============================] - 3s 81us/step - loss: 0.2921 - categorical_accuracy: 0.8798 - val_loss: 0.3749 - val_categorical_accuracy: 0.8395\n",
      "Epoch 11/20\n",
      "34841/34841 [==============================] - 3s 81us/step - loss: 0.2861 - categorical_accuracy: 0.8820 - val_loss: 0.3746 - val_categorical_accuracy: 0.8368\n",
      "Epoch 12/20\n",
      "34841/34841 [==============================] - 3s 82us/step - loss: 0.2871 - categorical_accuracy: 0.8800 - val_loss: 0.3711 - val_categorical_accuracy: 0.8434\n",
      "Epoch 13/20\n",
      "34841/34841 [==============================] - 3s 81us/step - loss: 0.2766 - categorical_accuracy: 0.8871 - val_loss: 0.3696 - val_categorical_accuracy: 0.8407\n",
      "Epoch 14/20\n",
      "34841/34841 [==============================] - 3s 81us/step - loss: 0.2703 - categorical_accuracy: 0.8905 - val_loss: 0.3861 - val_categorical_accuracy: 0.8419\n",
      "Epoch 15/20\n",
      "34841/34841 [==============================] - 3s 81us/step - loss: 0.2688 - categorical_accuracy: 0.8888 - val_loss: 0.3813 - val_categorical_accuracy: 0.8431\n",
      "Epoch 16/20\n",
      "34841/34841 [==============================] - 3s 81us/step - loss: 0.2633 - categorical_accuracy: 0.8926 - val_loss: 0.3946 - val_categorical_accuracy: 0.8384\n",
      "Epoch 17/20\n",
      "34841/34841 [==============================] - 3s 81us/step - loss: 0.2606 - categorical_accuracy: 0.8913 - val_loss: 0.4089 - val_categorical_accuracy: 0.8376\n",
      "Epoch 18/20\n",
      "34841/34841 [==============================] - 3s 81us/step - loss: 0.2562 - categorical_accuracy: 0.8947 - val_loss: 0.3974 - val_categorical_accuracy: 0.8392\n",
      "Epoch 19/20\n",
      "34841/34841 [==============================] - 3s 81us/step - loss: 0.2529 - categorical_accuracy: 0.8955 - val_loss: 0.4074 - val_categorical_accuracy: 0.8403\n",
      "Epoch 20/20\n",
      "34841/34841 [==============================] - 3s 81us/step - loss: 0.2519 - categorical_accuracy: 0.8978 - val_loss: 0.3903 - val_categorical_accuracy: 0.8403\n",
      "Training Convolution kla-1h\n",
      "Train on 34841 samples, validate on 8711 samples\n",
      "Epoch 1/20\n",
      "34841/34841 [==============================] - 3s 90us/step - loss: 0.6915 - categorical_accuracy: 0.5239 - val_loss: 0.6709 - val_categorical_accuracy: 0.6378\n",
      "Epoch 2/20\n",
      "34841/34841 [==============================] - 3s 74us/step - loss: 0.6182 - categorical_accuracy: 0.6574 - val_loss: 0.5326 - val_categorical_accuracy: 0.7446\n",
      "Epoch 3/20\n",
      "34841/34841 [==============================] - 3s 74us/step - loss: 0.5314 - categorical_accuracy: 0.7427 - val_loss: 0.4783 - val_categorical_accuracy: 0.7729\n",
      "Epoch 4/20\n",
      "34841/34841 [==============================] - 3s 74us/step - loss: 0.4835 - categorical_accuracy: 0.7769 - val_loss: 0.4585 - val_categorical_accuracy: 0.7829\n",
      "Epoch 5/20\n",
      "34841/34841 [==============================] - 3s 74us/step - loss: 0.4620 - categorical_accuracy: 0.7904 - val_loss: 0.4416 - val_categorical_accuracy: 0.7955\n",
      "Epoch 6/20\n",
      "34841/34841 [==============================] - 3s 74us/step - loss: 0.4493 - categorical_accuracy: 0.7964 - val_loss: 0.4326 - val_categorical_accuracy: 0.7966\n",
      "Epoch 7/20\n",
      "34841/34841 [==============================] - 3s 74us/step - loss: 0.4359 - categorical_accuracy: 0.8046 - val_loss: 0.4270 - val_categorical_accuracy: 0.7991\n",
      "Epoch 8/20\n",
      "34841/34841 [==============================] - 3s 74us/step - loss: 0.4252 - categorical_accuracy: 0.8108 - val_loss: 0.4222 - val_categorical_accuracy: 0.8008\n",
      "Epoch 9/20\n",
      "34841/34841 [==============================] - 3s 74us/step - loss: 0.4178 - categorical_accuracy: 0.8149 - val_loss: 0.4193 - val_categorical_accuracy: 0.8035\n",
      "Epoch 10/20\n",
      "34841/34841 [==============================] - 3s 74us/step - loss: 0.4121 - categorical_accuracy: 0.8196 - val_loss: 0.4129 - val_categorical_accuracy: 0.8075\n",
      "Epoch 11/20\n",
      "34841/34841 [==============================] - 3s 74us/step - loss: 0.4048 - categorical_accuracy: 0.8244 - val_loss: 0.4135 - val_categorical_accuracy: 0.8071\n",
      "Epoch 12/20\n",
      "34841/34841 [==============================] - 3s 74us/step - loss: 0.4026 - categorical_accuracy: 0.8253 - val_loss: 0.4120 - val_categorical_accuracy: 0.8100\n",
      "Epoch 13/20\n",
      "34841/34841 [==============================] - 3s 74us/step - loss: 0.3998 - categorical_accuracy: 0.8248 - val_loss: 0.4102 - val_categorical_accuracy: 0.8037\n",
      "Epoch 14/20\n",
      "34841/34841 [==============================] - 3s 74us/step - loss: 0.3977 - categorical_accuracy: 0.8248 - val_loss: 0.4101 - val_categorical_accuracy: 0.8105\n",
      "Epoch 15/20\n",
      "34841/34841 [==============================] - 3s 75us/step - loss: 0.3918 - categorical_accuracy: 0.8296 - val_loss: 0.4074 - val_categorical_accuracy: 0.8078\n",
      "Epoch 16/20\n",
      "34841/34841 [==============================] - 3s 74us/step - loss: 0.3917 - categorical_accuracy: 0.8299 - val_loss: 0.4045 - val_categorical_accuracy: 0.8093\n",
      "Epoch 17/20\n",
      "34841/34841 [==============================] - 3s 74us/step - loss: 0.3875 - categorical_accuracy: 0.8306 - val_loss: 0.4068 - val_categorical_accuracy: 0.8062\n",
      "Epoch 18/20\n",
      "34841/34841 [==============================] - 3s 74us/step - loss: 0.3840 - categorical_accuracy: 0.8318 - val_loss: 0.4133 - val_categorical_accuracy: 0.8116\n",
      "Epoch 19/20\n",
      "34841/34841 [==============================] - 3s 74us/step - loss: 0.3821 - categorical_accuracy: 0.8325 - val_loss: 0.4025 - val_categorical_accuracy: 0.8106\n",
      "Epoch 20/20\n",
      "34841/34841 [==============================] - 3s 74us/step - loss: 0.3832 - categorical_accuracy: 0.8321 - val_loss: 0.3995 - val_categorical_accuracy: 0.8154\n",
      "Training DotAttention veh\n",
      "linear\n",
      "linear\n",
      "linear\n",
      "Train on 50480 samples, validate on 12620 samples\n",
      "Epoch 1/20\n",
      "50480/50480 [==============================] - 51s 1ms/step - loss: 0.6552 - categorical_accuracy: 0.5849 - val_loss: 0.5736 - val_categorical_accuracy: 0.7048\n",
      "Epoch 2/20\n",
      "50480/50480 [==============================] - 51s 1ms/step - loss: 0.5503 - categorical_accuracy: 0.7211 - val_loss: 0.5032 - val_categorical_accuracy: 0.7552\n",
      "Epoch 3/20\n",
      "50480/50480 [==============================] - 51s 1ms/step - loss: 0.4865 - categorical_accuracy: 0.7668 - val_loss: 0.4869 - val_categorical_accuracy: 0.7639\n",
      "Epoch 4/20\n",
      "50480/50480 [==============================] - 51s 1ms/step - loss: 0.4315 - categorical_accuracy: 0.8012 - val_loss: 0.4312 - val_categorical_accuracy: 0.7962\n",
      "Epoch 5/20\n",
      "50480/50480 [==============================] - 51s 1ms/step - loss: 0.4015 - categorical_accuracy: 0.8193 - val_loss: 0.4416 - val_categorical_accuracy: 0.7927\n",
      "Epoch 6/20\n",
      "50480/50480 [==============================] - 50s 1000us/step - loss: 0.3868 - categorical_accuracy: 0.8272 - val_loss: 0.3753 - val_categorical_accuracy: 0.8332\n",
      "Epoch 7/20\n",
      "50480/50480 [==============================] - 51s 1ms/step - loss: 0.3687 - categorical_accuracy: 0.8366 - val_loss: 0.3720 - val_categorical_accuracy: 0.8330\n",
      "Epoch 8/20\n",
      "50480/50480 [==============================] - 50s 995us/step - loss: 0.3575 - categorical_accuracy: 0.8435 - val_loss: 0.3820 - val_categorical_accuracy: 0.8292\n",
      "Epoch 9/20\n",
      "50480/50480 [==============================] - 50s 996us/step - loss: 0.3524 - categorical_accuracy: 0.8471 - val_loss: 0.3659 - val_categorical_accuracy: 0.8387\n",
      "Epoch 10/20\n",
      "50480/50480 [==============================] - 50s 996us/step - loss: 0.3411 - categorical_accuracy: 0.8522 - val_loss: 0.3536 - val_categorical_accuracy: 0.8452\n",
      "Epoch 11/20\n",
      "50480/50480 [==============================] - 51s 1ms/step - loss: 0.3319 - categorical_accuracy: 0.8589 - val_loss: 0.3504 - val_categorical_accuracy: 0.8468\n",
      "Epoch 12/20\n",
      "50480/50480 [==============================] - 51s 1ms/step - loss: 0.3265 - categorical_accuracy: 0.8600 - val_loss: 0.3432 - val_categorical_accuracy: 0.8505\n",
      "Epoch 13/20\n",
      "50480/50480 [==============================] - 50s 999us/step - loss: 0.3183 - categorical_accuracy: 0.8640 - val_loss: 0.3405 - val_categorical_accuracy: 0.8524\n",
      "Epoch 14/20\n",
      "50480/50480 [==============================] - 50s 999us/step - loss: 0.3130 - categorical_accuracy: 0.8667 - val_loss: 0.3953 - val_categorical_accuracy: 0.8264\n",
      "Epoch 15/20\n",
      "50480/50480 [==============================] - 50s 998us/step - loss: 0.3109 - categorical_accuracy: 0.8679 - val_loss: 0.3329 - val_categorical_accuracy: 0.8573\n",
      "Epoch 16/20\n",
      "50480/50480 [==============================] - 50s 984us/step - loss: 0.3062 - categorical_accuracy: 0.8697 - val_loss: 0.3405 - val_categorical_accuracy: 0.8540\n",
      "Epoch 17/20\n",
      "50480/50480 [==============================] - 50s 992us/step - loss: 0.3007 - categorical_accuracy: 0.8738 - val_loss: 0.3294 - val_categorical_accuracy: 0.8596\n",
      "Epoch 18/20\n",
      "50480/50480 [==============================] - 50s 993us/step - loss: 0.2979 - categorical_accuracy: 0.8738 - val_loss: 0.3463 - val_categorical_accuracy: 0.8476\n",
      "Epoch 19/20\n",
      "50480/50480 [==============================] - 50s 994us/step - loss: 0.2942 - categorical_accuracy: 0.8773 - val_loss: 0.3333 - val_categorical_accuracy: 0.8566\n",
      "Epoch 20/20\n",
      "50480/50480 [==============================] - 50s 988us/step - loss: 0.2884 - categorical_accuracy: 0.8786 - val_loss: 0.3340 - val_categorical_accuracy: 0.8525\n",
      "Training Large Convolution veh\n",
      "Train on 50480 samples, validate on 12620 samples\n",
      "Epoch 1/20\n",
      "50480/50480 [==============================] - 5s 96us/step - loss: 0.5918 - categorical_accuracy: 0.6604 - val_loss: 0.4453 - val_categorical_accuracy: 0.7953\n",
      "Epoch 2/20\n",
      "50480/50480 [==============================] - 4s 82us/step - loss: 0.4290 - categorical_accuracy: 0.8088 - val_loss: 0.4010 - val_categorical_accuracy: 0.8181\n",
      "Epoch 3/20\n",
      "50480/50480 [==============================] - 4s 82us/step - loss: 0.3871 - categorical_accuracy: 0.8286 - val_loss: 0.3837 - val_categorical_accuracy: 0.8273\n",
      "Epoch 4/20\n",
      "50480/50480 [==============================] - 4s 81us/step - loss: 0.3662 - categorical_accuracy: 0.8439 - val_loss: 0.3865 - val_categorical_accuracy: 0.8279\n",
      "Epoch 5/20\n",
      "50480/50480 [==============================] - 4s 81us/step - loss: 0.3513 - categorical_accuracy: 0.8490 - val_loss: 0.3714 - val_categorical_accuracy: 0.8365\n",
      "Epoch 6/20\n",
      "50480/50480 [==============================] - 4s 82us/step - loss: 0.3353 - categorical_accuracy: 0.8581 - val_loss: 0.3706 - val_categorical_accuracy: 0.8373\n",
      "Epoch 7/20\n",
      "50480/50480 [==============================] - 4s 82us/step - loss: 0.3273 - categorical_accuracy: 0.8612 - val_loss: 0.3659 - val_categorical_accuracy: 0.8362\n",
      "Epoch 8/20\n",
      "50480/50480 [==============================] - 4s 81us/step - loss: 0.3233 - categorical_accuracy: 0.8655 - val_loss: 0.3605 - val_categorical_accuracy: 0.8406\n",
      "Epoch 9/20\n",
      "50480/50480 [==============================] - 4s 82us/step - loss: 0.3141 - categorical_accuracy: 0.8686 - val_loss: 0.3665 - val_categorical_accuracy: 0.8404\n",
      "Epoch 10/20\n",
      "50480/50480 [==============================] - 4s 82us/step - loss: 0.3075 - categorical_accuracy: 0.8721 - val_loss: 0.3656 - val_categorical_accuracy: 0.8418\n",
      "Epoch 11/20\n",
      "50480/50480 [==============================] - 4s 82us/step - loss: 0.3040 - categorical_accuracy: 0.8725 - val_loss: 0.3604 - val_categorical_accuracy: 0.8426\n",
      "Epoch 12/20\n",
      "50480/50480 [==============================] - 4s 82us/step - loss: 0.3012 - categorical_accuracy: 0.8749 - val_loss: 0.3604 - val_categorical_accuracy: 0.8444\n",
      "Epoch 13/20\n"
     ]
    },
    {
     "name": "stdout",
     "output_type": "stream",
     "text": [
      "50480/50480 [==============================] - 4s 82us/step - loss: 0.2978 - categorical_accuracy: 0.8770 - val_loss: 0.3770 - val_categorical_accuracy: 0.8400\n",
      "Epoch 14/20\n",
      "50480/50480 [==============================] - 4s 82us/step - loss: 0.2915 - categorical_accuracy: 0.8795 - val_loss: 0.3804 - val_categorical_accuracy: 0.8395\n",
      "Epoch 15/20\n",
      "50480/50480 [==============================] - 4s 81us/step - loss: 0.2876 - categorical_accuracy: 0.8818 - val_loss: 0.3669 - val_categorical_accuracy: 0.8452\n",
      "Epoch 16/20\n",
      "50480/50480 [==============================] - 4s 82us/step - loss: 0.2850 - categorical_accuracy: 0.8824 - val_loss: 0.3633 - val_categorical_accuracy: 0.8424\n",
      "Epoch 17/20\n",
      "50480/50480 [==============================] - 4s 82us/step - loss: 0.2816 - categorical_accuracy: 0.8846 - val_loss: 0.3749 - val_categorical_accuracy: 0.8455\n",
      "Epoch 18/20\n",
      "50480/50480 [==============================] - 4s 82us/step - loss: 0.2790 - categorical_accuracy: 0.8858 - val_loss: 0.3765 - val_categorical_accuracy: 0.8408\n",
      "Epoch 19/20\n",
      "50480/50480 [==============================] - 4s 81us/step - loss: 0.2762 - categorical_accuracy: 0.8879 - val_loss: 0.3698 - val_categorical_accuracy: 0.8460\n",
      "Epoch 20/20\n",
      "50480/50480 [==============================] - 4s 82us/step - loss: 0.2713 - categorical_accuracy: 0.8899 - val_loss: 0.3914 - val_categorical_accuracy: 0.8375\n",
      "Training Convolution veh\n",
      "Train on 50480 samples, validate on 12620 samples\n",
      "Epoch 1/20\n",
      "50480/50480 [==============================] - 4s 89us/step - loss: 0.6714 - categorical_accuracy: 0.5655 - val_loss: 0.5765 - val_categorical_accuracy: 0.7240\n",
      "Epoch 2/20\n",
      "50480/50480 [==============================] - 4s 75us/step - loss: 0.5393 - categorical_accuracy: 0.7344 - val_loss: 0.4835 - val_categorical_accuracy: 0.7648\n",
      "Epoch 3/20\n",
      "50480/50480 [==============================] - 4s 75us/step - loss: 0.4967 - categorical_accuracy: 0.7664 - val_loss: 0.4806 - val_categorical_accuracy: 0.7651\n",
      "Epoch 4/20\n",
      "50480/50480 [==============================] - 4s 75us/step - loss: 0.4758 - categorical_accuracy: 0.7788 - val_loss: 0.4572 - val_categorical_accuracy: 0.7812\n",
      "Epoch 5/20\n",
      "50480/50480 [==============================] - 4s 75us/step - loss: 0.4634 - categorical_accuracy: 0.7870 - val_loss: 0.4507 - val_categorical_accuracy: 0.7819\n",
      "Epoch 6/20\n",
      "50480/50480 [==============================] - 4s 75us/step - loss: 0.4550 - categorical_accuracy: 0.7930 - val_loss: 0.4473 - val_categorical_accuracy: 0.7862\n",
      "Epoch 7/20\n",
      "50480/50480 [==============================] - 4s 75us/step - loss: 0.4442 - categorical_accuracy: 0.7975 - val_loss: 0.4363 - val_categorical_accuracy: 0.7911\n",
      "Epoch 8/20\n",
      "50480/50480 [==============================] - 4s 75us/step - loss: 0.4361 - categorical_accuracy: 0.7996 - val_loss: 0.4531 - val_categorical_accuracy: 0.7783\n",
      "Epoch 9/20\n",
      "50480/50480 [==============================] - 4s 75us/step - loss: 0.4308 - categorical_accuracy: 0.8029 - val_loss: 0.4300 - val_categorical_accuracy: 0.7952\n",
      "Epoch 10/20\n",
      "50480/50480 [==============================] - 4s 75us/step - loss: 0.4272 - categorical_accuracy: 0.8048 - val_loss: 0.4291 - val_categorical_accuracy: 0.7984\n",
      "Epoch 11/20\n",
      "50480/50480 [==============================] - 4s 75us/step - loss: 0.4227 - categorical_accuracy: 0.8064 - val_loss: 0.4317 - val_categorical_accuracy: 0.7979\n",
      "Epoch 12/20\n",
      "50480/50480 [==============================] - 4s 75us/step - loss: 0.4209 - categorical_accuracy: 0.8075 - val_loss: 0.4293 - val_categorical_accuracy: 0.7999\n",
      "Epoch 13/20\n",
      "50480/50480 [==============================] - 4s 75us/step - loss: 0.4158 - categorical_accuracy: 0.8105 - val_loss: 0.4329 - val_categorical_accuracy: 0.7994\n",
      "Epoch 14/20\n",
      "50480/50480 [==============================] - 4s 75us/step - loss: 0.4157 - categorical_accuracy: 0.8109 - val_loss: 0.4290 - val_categorical_accuracy: 0.7968\n",
      "Epoch 15/20\n",
      "50480/50480 [==============================] - 4s 75us/step - loss: 0.4117 - categorical_accuracy: 0.8124 - val_loss: 0.4291 - val_categorical_accuracy: 0.7967\n",
      "Epoch 16/20\n",
      "50480/50480 [==============================] - 4s 75us/step - loss: 0.4050 - categorical_accuracy: 0.8152 - val_loss: 0.4246 - val_categorical_accuracy: 0.7992\n",
      "Epoch 17/20\n",
      "50480/50480 [==============================] - 4s 75us/step - loss: 0.4040 - categorical_accuracy: 0.8163 - val_loss: 0.4217 - val_categorical_accuracy: 0.8059\n",
      "Epoch 18/20\n",
      "50480/50480 [==============================] - 4s 75us/step - loss: 0.4021 - categorical_accuracy: 0.8187 - val_loss: 0.4172 - val_categorical_accuracy: 0.8093\n",
      "Epoch 19/20\n",
      "50480/50480 [==============================] - 4s 75us/step - loss: 0.3988 - categorical_accuracy: 0.8188 - val_loss: 0.4169 - val_categorical_accuracy: 0.8036\n",
      "Epoch 20/20\n",
      "50480/50480 [==============================] - 4s 75us/step - loss: 0.3954 - categorical_accuracy: 0.8215 - val_loss: 0.4240 - val_categorical_accuracy: 0.7972\n",
      "Training DotAttention il4-24h\n",
      "linear\n",
      "linear\n",
      "linear\n",
      "Train on 53628 samples, validate on 13408 samples\n",
      "Epoch 1/20\n",
      "53628/53628 [==============================] - 56s 1ms/step - loss: 0.6570 - categorical_accuracy: 0.5860 - val_loss: 0.6158 - val_categorical_accuracy: 0.6477\n",
      "Epoch 2/20\n",
      "53628/53628 [==============================] - 54s 1ms/step - loss: 0.5403 - categorical_accuracy: 0.7270 - val_loss: 0.4921 - val_categorical_accuracy: 0.7605\n",
      "Epoch 3/20\n",
      "53628/53628 [==============================] - 55s 1ms/step - loss: 0.4562 - categorical_accuracy: 0.7852 - val_loss: 0.4397 - val_categorical_accuracy: 0.7937\n",
      "Epoch 4/20\n",
      "53628/53628 [==============================] - 55s 1ms/step - loss: 0.4195 - categorical_accuracy: 0.8064 - val_loss: 0.4193 - val_categorical_accuracy: 0.8087\n",
      "Epoch 5/20\n",
      "53628/53628 [==============================] - 55s 1ms/step - loss: 0.3978 - categorical_accuracy: 0.8203 - val_loss: 0.4008 - val_categorical_accuracy: 0.8179\n",
      "Epoch 6/20\n",
      "53628/53628 [==============================] - 55s 1ms/step - loss: 0.3749 - categorical_accuracy: 0.8340 - val_loss: 0.3892 - val_categorical_accuracy: 0.8242\n",
      "Epoch 7/20\n",
      "53628/53628 [==============================] - 55s 1ms/step - loss: 0.3630 - categorical_accuracy: 0.8403 - val_loss: 0.3805 - val_categorical_accuracy: 0.8290\n",
      "Epoch 8/20\n",
      "53628/53628 [==============================] - 55s 1ms/step - loss: 0.3519 - categorical_accuracy: 0.8464 - val_loss: 0.3705 - val_categorical_accuracy: 0.8344\n",
      "Epoch 9/20\n",
      "53628/53628 [==============================] - 55s 1ms/step - loss: 0.3462 - categorical_accuracy: 0.8491 - val_loss: 0.3622 - val_categorical_accuracy: 0.8405\n",
      "Epoch 10/20\n",
      "53628/53628 [==============================] - 55s 1ms/step - loss: 0.3365 - categorical_accuracy: 0.8551 - val_loss: 0.3580 - val_categorical_accuracy: 0.8428\n",
      "Epoch 11/20\n",
      "53628/53628 [==============================] - 55s 1ms/step - loss: 0.3303 - categorical_accuracy: 0.8568 - val_loss: 0.3643 - val_categorical_accuracy: 0.8447\n",
      "Epoch 12/20\n",
      "53628/53628 [==============================] - 54s 1ms/step - loss: 0.3243 - categorical_accuracy: 0.8609 - val_loss: 0.3493 - val_categorical_accuracy: 0.8469\n",
      "Epoch 13/20\n",
      "53628/53628 [==============================] - 55s 1ms/step - loss: 0.3185 - categorical_accuracy: 0.8637 - val_loss: 0.3450 - val_categorical_accuracy: 0.8513\n",
      "Epoch 14/20\n",
      "53628/53628 [==============================] - 55s 1ms/step - loss: 0.3131 - categorical_accuracy: 0.8649 - val_loss: 0.3438 - val_categorical_accuracy: 0.8495\n",
      "Epoch 15/20\n",
      "53628/53628 [==============================] - 55s 1ms/step - loss: 0.3081 - categorical_accuracy: 0.8688 - val_loss: 0.3468 - val_categorical_accuracy: 0.8508\n",
      "Epoch 16/20\n",
      "53628/53628 [==============================] - 55s 1ms/step - loss: 0.3002 - categorical_accuracy: 0.8720 - val_loss: 0.3453 - val_categorical_accuracy: 0.8519\n",
      "Epoch 17/20\n",
      "53628/53628 [==============================] - 55s 1ms/step - loss: 0.2972 - categorical_accuracy: 0.8746 - val_loss: 0.3607 - val_categorical_accuracy: 0.8463\n",
      "Epoch 18/20\n",
      "53628/53628 [==============================] - 54s 1ms/step - loss: 0.2962 - categorical_accuracy: 0.8750 - val_loss: 0.3589 - val_categorical_accuracy: 0.8450\n",
      "Epoch 19/20\n",
      "53628/53628 [==============================] - 54s 1ms/step - loss: 0.2941 - categorical_accuracy: 0.8771 - val_loss: 0.3411 - val_categorical_accuracy: 0.8485\n"
     ]
    },
    {
     "name": "stdout",
     "output_type": "stream",
     "text": [
      "Epoch 20/20\n",
      "53628/53628 [==============================] - 54s 1ms/step - loss: 0.2870 - categorical_accuracy: 0.8794 - val_loss: 0.3284 - val_categorical_accuracy: 0.8599\n",
      "Training Large Convolution il4-24h\n",
      "Train on 53628 samples, validate on 13408 samples\n",
      "Epoch 1/20\n",
      "53628/53628 [==============================] - 5s 99us/step - loss: 0.5876 - categorical_accuracy: 0.6690 - val_loss: 0.4665 - val_categorical_accuracy: 0.7741\n",
      "Epoch 2/20\n",
      "53628/53628 [==============================] - 4s 83us/step - loss: 0.4408 - categorical_accuracy: 0.7981 - val_loss: 0.4082 - val_categorical_accuracy: 0.8097\n",
      "Epoch 3/20\n",
      "53628/53628 [==============================] - 4s 83us/step - loss: 0.3912 - categorical_accuracy: 0.8269 - val_loss: 0.3883 - val_categorical_accuracy: 0.8226\n",
      "Epoch 4/20\n",
      "53628/53628 [==============================] - 4s 83us/step - loss: 0.3652 - categorical_accuracy: 0.8418 - val_loss: 0.3917 - val_categorical_accuracy: 0.8236\n",
      "Epoch 5/20\n",
      "53628/53628 [==============================] - 4s 83us/step - loss: 0.3481 - categorical_accuracy: 0.8491 - val_loss: 0.3639 - val_categorical_accuracy: 0.8372\n",
      "Epoch 6/20\n",
      "53628/53628 [==============================] - 4s 83us/step - loss: 0.3295 - categorical_accuracy: 0.8592 - val_loss: 0.3629 - val_categorical_accuracy: 0.8374\n",
      "Epoch 7/20\n",
      "53628/53628 [==============================] - 4s 83us/step - loss: 0.3245 - categorical_accuracy: 0.8621 - val_loss: 0.4127 - val_categorical_accuracy: 0.8178\n",
      "Epoch 8/20\n",
      "53628/53628 [==============================] - 4s 83us/step - loss: 0.3177 - categorical_accuracy: 0.8659 - val_loss: 0.3575 - val_categorical_accuracy: 0.8426\n",
      "Epoch 9/20\n",
      "53628/53628 [==============================] - 4s 83us/step - loss: 0.3106 - categorical_accuracy: 0.8691 - val_loss: 0.3571 - val_categorical_accuracy: 0.8431\n",
      "Epoch 10/20\n",
      "53628/53628 [==============================] - 4s 83us/step - loss: 0.3054 - categorical_accuracy: 0.8720 - val_loss: 0.3640 - val_categorical_accuracy: 0.8396\n",
      "Epoch 11/20\n",
      "53628/53628 [==============================] - 4s 83us/step - loss: 0.3034 - categorical_accuracy: 0.8732 - val_loss: 0.3555 - val_categorical_accuracy: 0.8432\n",
      "Epoch 12/20\n",
      "53628/53628 [==============================] - 4s 83us/step - loss: 0.2970 - categorical_accuracy: 0.8758 - val_loss: 0.3635 - val_categorical_accuracy: 0.8433\n",
      "Epoch 13/20\n",
      "53628/53628 [==============================] - 4s 83us/step - loss: 0.2963 - categorical_accuracy: 0.8774 - val_loss: 0.3590 - val_categorical_accuracy: 0.8416\n",
      "Epoch 14/20\n",
      "53628/53628 [==============================] - 4s 83us/step - loss: 0.2914 - categorical_accuracy: 0.8791 - val_loss: 0.3617 - val_categorical_accuracy: 0.8435\n",
      "Epoch 15/20\n",
      "53628/53628 [==============================] - 4s 83us/step - loss: 0.2868 - categorical_accuracy: 0.8811 - val_loss: 0.3563 - val_categorical_accuracy: 0.8468\n",
      "Epoch 16/20\n",
      "53628/53628 [==============================] - 4s 83us/step - loss: 0.2829 - categorical_accuracy: 0.8820 - val_loss: 0.3686 - val_categorical_accuracy: 0.8401\n",
      "Epoch 17/20\n",
      "53628/53628 [==============================] - 4s 83us/step - loss: 0.2816 - categorical_accuracy: 0.8835 - val_loss: 0.3584 - val_categorical_accuracy: 0.8453\n",
      "Epoch 18/20\n",
      "53628/53628 [==============================] - 4s 83us/step - loss: 0.2799 - categorical_accuracy: 0.8848 - val_loss: 0.3567 - val_categorical_accuracy: 0.8436\n",
      "Epoch 19/20\n",
      "53628/53628 [==============================] - 4s 83us/step - loss: 0.2746 - categorical_accuracy: 0.8857 - val_loss: 0.3537 - val_categorical_accuracy: 0.8470\n",
      "Epoch 20/20\n",
      "53628/53628 [==============================] - 4s 83us/step - loss: 0.2754 - categorical_accuracy: 0.8865 - val_loss: 0.3732 - val_categorical_accuracy: 0.8403\n",
      "Training Convolution il4-24h\n",
      "Train on 53628 samples, validate on 13408 samples\n",
      "Epoch 1/20\n",
      "53628/53628 [==============================] - 5s 92us/step - loss: 0.6336 - categorical_accuracy: 0.6290 - val_loss: 0.5278 - val_categorical_accuracy: 0.7366\n",
      "Epoch 2/20\n",
      "53628/53628 [==============================] - 4s 77us/step - loss: 0.5181 - categorical_accuracy: 0.7513 - val_loss: 0.4891 - val_categorical_accuracy: 0.7589\n",
      "Epoch 3/20\n",
      "53628/53628 [==============================] - 4s 77us/step - loss: 0.4828 - categorical_accuracy: 0.7752 - val_loss: 0.4548 - val_categorical_accuracy: 0.7846\n",
      "Epoch 4/20\n",
      "53628/53628 [==============================] - 4s 77us/step - loss: 0.4566 - categorical_accuracy: 0.7910 - val_loss: 0.4389 - val_categorical_accuracy: 0.7946\n",
      "Epoch 5/20\n",
      "53628/53628 [==============================] - 4s 77us/step - loss: 0.4371 - categorical_accuracy: 0.8024 - val_loss: 0.4238 - val_categorical_accuracy: 0.8011\n",
      "Epoch 6/20\n",
      "53628/53628 [==============================] - 4s 76us/step - loss: 0.4235 - categorical_accuracy: 0.8113 - val_loss: 0.4253 - val_categorical_accuracy: 0.8016\n",
      "Epoch 7/20\n",
      "53628/53628 [==============================] - 4s 77us/step - loss: 0.4157 - categorical_accuracy: 0.8151 - val_loss: 0.4156 - val_categorical_accuracy: 0.8093\n",
      "Epoch 8/20\n",
      "53628/53628 [==============================] - 4s 77us/step - loss: 0.4080 - categorical_accuracy: 0.8193 - val_loss: 0.4100 - val_categorical_accuracy: 0.8115\n",
      "Epoch 9/20\n",
      "53628/53628 [==============================] - 4s 77us/step - loss: 0.4060 - categorical_accuracy: 0.8215 - val_loss: 0.4105 - val_categorical_accuracy: 0.8152\n",
      "Epoch 10/20\n",
      "53628/53628 [==============================] - 4s 76us/step - loss: 0.4000 - categorical_accuracy: 0.8236 - val_loss: 0.4064 - val_categorical_accuracy: 0.8161\n",
      "Epoch 11/20\n",
      "53628/53628 [==============================] - 4s 76us/step - loss: 0.3986 - categorical_accuracy: 0.8244 - val_loss: 0.4102 - val_categorical_accuracy: 0.8165\n",
      "Epoch 12/20\n",
      "53628/53628 [==============================] - 4s 77us/step - loss: 0.3955 - categorical_accuracy: 0.8256 - val_loss: 0.4042 - val_categorical_accuracy: 0.8162\n",
      "Epoch 13/20\n",
      "53628/53628 [==============================] - 4s 77us/step - loss: 0.3927 - categorical_accuracy: 0.8269 - val_loss: 0.4131 - val_categorical_accuracy: 0.8149\n",
      "Epoch 14/20\n",
      "53628/53628 [==============================] - 4s 77us/step - loss: 0.3894 - categorical_accuracy: 0.8278 - val_loss: 0.4087 - val_categorical_accuracy: 0.8196\n",
      "Epoch 15/20\n",
      "53628/53628 [==============================] - 4s 77us/step - loss: 0.3863 - categorical_accuracy: 0.8301 - val_loss: 0.4073 - val_categorical_accuracy: 0.8144\n",
      "Epoch 16/20\n",
      "53628/53628 [==============================] - 4s 77us/step - loss: 0.3880 - categorical_accuracy: 0.8301 - val_loss: 0.4043 - val_categorical_accuracy: 0.8167\n",
      "Epoch 17/20\n",
      "53628/53628 [==============================] - 4s 77us/step - loss: 0.3817 - categorical_accuracy: 0.8331 - val_loss: 0.4076 - val_categorical_accuracy: 0.8171\n",
      "Epoch 18/20\n",
      "53628/53628 [==============================] - 4s 77us/step - loss: 0.3831 - categorical_accuracy: 0.8324 - val_loss: 0.3998 - val_categorical_accuracy: 0.8193\n",
      "Epoch 19/20\n",
      "53628/53628 [==============================] - 4s 77us/step - loss: 0.3791 - categorical_accuracy: 0.8319 - val_loss: 0.4049 - val_categorical_accuracy: 0.8180\n",
      "Epoch 20/20\n",
      "53628/53628 [==============================] - 4s 78us/step - loss: 0.3773 - categorical_accuracy: 0.8336 - val_loss: 0.4036 - val_categorical_accuracy: 0.8201\n"
     ]
    }
   ],
   "source": [
    "num_epochs = 20\n",
    "num_iterations = 1\n",
    "all_rocs = []\n",
    "all_accuracies = []\n",
    "all_precisions = []\n",
    "all_treatments = []\n",
    "model_types = []\n",
    "parameter_counts = []\n",
    "iteration_list = []\n",
    "\n",
    "train_dotAttention = True\n",
    "train_convolution = True\n",
    "train_large_convolution = True\n",
    "for iteration in range(1,num_iterations + 1):\n",
    "    print('iteration', iteration)\n",
    "    for treatment in treatment_positive_fasta_dict:\n",
    "        positive_sequence_arrays = treatment_positive_seqArray_dict[treatment] \n",
    "        positive_rc_sequence_arrays = treatment_positive_rc_seqArray_dict[treatment]\n",
    "        negative_sequence_arrays = treatment_negative_seqArray_dict[treatment]\n",
    "        negative_rc_sequence_arrays = treatment_negative_rc_seqArray_dict[treatment]\n",
    "\n",
    "        sequence_arrays = np.concatenate([positive_sequence_arrays, negative_sequence_arrays])\n",
    "        sequence_rc_arrays = np.concatenate([positive_rc_sequence_arrays, negative_rc_sequence_arrays])\n",
    "        labels = [1 for x in positive_sequence_arrays] + [0 for x in negative_sequence_arrays]\n",
    "        labels = np.array(labels)\n",
    "\n",
    "        x_train, x_test, x_rc_train, x_rc_test, y_train, y_test = model_selection.train_test_split(\n",
    "            sequence_arrays, \n",
    "            sequence_rc_arrays, \n",
    "            labels, \n",
    "            test_size=0.2)\n",
    "\n",
    "        num_classes = 2\n",
    "        y_train = keras.utils.to_categorical(y_train, num_classes)\n",
    "        y_test = keras.utils.to_categorical(y_test, num_classes)\n",
    "\n",
    "        ### dot product attention model ###\n",
    "        if train_dotAttention:\n",
    "            print('Training DotAttention', treatment)\n",
    "            dotProductAttention_model = get_dotProductAttention_model(200,\n",
    "                mode='classification',\n",
    "                num_motifs=attention_num_motifs, \n",
    "                motif_size=attention_motif_size,\n",
    "                adjacent_bp_pool_size=adjacent_bp_pool_size,\n",
    "                num_dense_neurons = attention_num_dense_neurons,  \n",
    "                dropout_rate=attention_dropout_rate,\n",
    "                num_classes=2)\n",
    "\n",
    "            dotProductAttention_model.fit([x_train], y_train,\n",
    "                      batch_size=64,\n",
    "                      epochs=num_epochs,\n",
    "                      verbose=1,\n",
    "                      validation_data=([x_test], y_test))\n",
    "\n",
    "            probs = dotProductAttention_model.predict([x_test])\n",
    "            test_predictions = [0 if x[0] > x[1] else 1 for x in probs]\n",
    "            roc = sklearn.metrics.roc_auc_score([y[1] for y in y_test], probs[:,1], )\n",
    "            precision = sklearn.metrics.precision_score([y[1] for y in y_test], [0 if x[0] > x[1] else 1 for x in probs])\n",
    "            acc = sklearn.metrics.accuracy_score([y[1] for y in y_test], test_predictions)\n",
    "            param_count = dotProductAttention_model.count_params()\n",
    "\n",
    "            all_rocs.append(roc)\n",
    "            all_accuracies.append(acc)\n",
    "            all_precisions.append(precision)\n",
    "            all_treatments.append(treatment)\n",
    "            model_types.append('DotAttention')\n",
    "            parameter_counts.append(param_count)\n",
    "            iteration_list.append(iteration)\n",
    "            condition_model_dict['DotAttention_'+treatment] = dotProductAttention_model\n",
    "        ### ###\n",
    "\n",
    "        ### large convolution model ###\n",
    "        if train_large_convolution:\n",
    "            print('Training Large Convolution', treatment)\n",
    "            large_convolution_model = get_convolution_model(200,\n",
    "                mode='classification',\n",
    "                num_motifs=largeConvolution_num_motifs, \n",
    "                motif_size=convolution_motif_size,\n",
    "                num_dense_neurons=large_num_dense_neurons,\n",
    "                dropout_rate=convolution_dropout_rate,\n",
    "                num_classes=2)\n",
    "            large_convolution_model.fit([x_train, x_rc_train], y_train,\n",
    "                      batch_size=64,\n",
    "                      epochs=num_epochs,\n",
    "                      verbose=1,\n",
    "                      validation_data=([x_test, x_rc_test], y_test))\n",
    "\n",
    "            probs = large_convolution_model.predict([x_test, x_rc_test])\n",
    "            test_predictions = [0 if x[0] > x[1] else 1 for x in probs]\n",
    "            roc = sklearn.metrics.roc_auc_score([y[1] for y in y_test], probs[:,1], )\n",
    "            precision = sklearn.metrics.precision_score([y[1] for y in y_test], [0 if x[0] > x[1] else 1 for x in probs])\n",
    "            acc = sklearn.metrics.accuracy_score([y[1] for y in y_test], test_predictions)\n",
    "            param_count = convolution_model.count_params()\n",
    "\n",
    "            all_rocs.append(roc)\n",
    "            all_accuracies.append(acc)\n",
    "            all_precisions.append(precision)\n",
    "            all_treatments.append(treatment)\n",
    "            model_types.append('LargeConvolution')\n",
    "            parameter_counts.append(param_count)\n",
    "            iteration_list.append(iteration)\n",
    "            condition_model_dict['LargeConvolution_'+treatment] = large_convolution_model\n",
    "\n",
    "        ### convolution model ###\n",
    "        if train_convolution:\n",
    "            print('Training Convolution', treatment)\n",
    "            convolution_model = get_convolution_model(200,\n",
    "                mode='classification',\n",
    "                num_motifs=convolution_num_motifs, \n",
    "                motif_size=convolution_motif_size,\n",
    "                num_dense_neurons=num_dense_neurons,\n",
    "                dropout_rate=convolution_dropout_rate,\n",
    "                num_classes=2)\n",
    "            convolution_model.fit([x_train, x_rc_train], y_train,\n",
    "                      batch_size=64,\n",
    "                      epochs=num_epochs,\n",
    "                      verbose=1,\n",
    "                      validation_data=([x_test, x_rc_test], y_test))\n",
    "\n",
    "            probs = convolution_model.predict([x_test, x_rc_test])\n",
    "            test_predictions = [0 if x[0] > x[1] else 1 for x in probs]\n",
    "            roc = sklearn.metrics.roc_auc_score([y[1] for y in y_test], probs[:,1], )\n",
    "            precision = sklearn.metrics.precision_score([y[1] for y in y_test], [0 if x[0] > x[1] else 1 for x in probs])\n",
    "            acc = sklearn.metrics.accuracy_score([y[1] for y in y_test], test_predictions)\n",
    "            param_count = convolution_model.count_params()\n",
    "\n",
    "            all_rocs.append(roc)\n",
    "            all_accuracies.append(acc)\n",
    "            all_precisions.append(precision)\n",
    "            all_treatments.append(treatment)\n",
    "            model_types.append('Convolution')\n",
    "            parameter_counts.append(param_count)\n",
    "            iteration_list.append(iteration)\n",
    "            condition_model_dict['Convolution_'+treatment] = convolution_model"
   ]
  },
  {
   "cell_type": "code",
   "execution_count": null,
   "metadata": {
    "collapsed": true
   },
   "outputs": [],
   "source": [
    "performance_frame = pd.DataFrame({'Model Type': model_types, \n",
    "                                  'Treatment':all_treatments,\n",
    "                                  'Accuracy':all_accuracies, \n",
    "                                  'aucROC':all_rocs,\n",
    "                                  'Precision':all_precisions})"
   ]
  },
  {
   "cell_type": "code",
   "execution_count": 13,
   "metadata": {
    "scrolled": false
   },
   "outputs": [
    {
     "data": {
      "text/html": [
       "<div>\n",
       "<style>\n",
       "    .dataframe thead tr:only-child th {\n",
       "        text-align: right;\n",
       "    }\n",
       "\n",
       "    .dataframe thead th {\n",
       "        text-align: left;\n",
       "    }\n",
       "\n",
       "    .dataframe tbody tr th {\n",
       "        vertical-align: top;\n",
       "    }\n",
       "</style>\n",
       "<table border=\"1\" class=\"dataframe\">\n",
       "  <thead>\n",
       "    <tr style=\"text-align: right;\">\n",
       "      <th></th>\n",
       "      <th>Accuracy</th>\n",
       "      <th>Model Type</th>\n",
       "      <th>Precision</th>\n",
       "      <th>Treatment</th>\n",
       "      <th>aucROC</th>\n",
       "    </tr>\n",
       "  </thead>\n",
       "  <tbody>\n",
       "    <tr>\n",
       "      <th>0</th>\n",
       "      <td>0.854437</td>\n",
       "      <td>DotAttention</td>\n",
       "      <td>0.853165</td>\n",
       "      <td>kla-1h</td>\n",
       "      <td>0.917387</td>\n",
       "    </tr>\n",
       "    <tr>\n",
       "      <th>1</th>\n",
       "      <td>0.840317</td>\n",
       "      <td>LargeConvolution</td>\n",
       "      <td>0.821475</td>\n",
       "      <td>kla-1h</td>\n",
       "      <td>0.917087</td>\n",
       "    </tr>\n",
       "    <tr>\n",
       "      <th>2</th>\n",
       "      <td>0.815406</td>\n",
       "      <td>Convolution</td>\n",
       "      <td>0.777507</td>\n",
       "      <td>kla-1h</td>\n",
       "      <td>0.899758</td>\n",
       "    </tr>\n",
       "    <tr>\n",
       "      <th>3</th>\n",
       "      <td>0.852536</td>\n",
       "      <td>DotAttention</td>\n",
       "      <td>0.813940</td>\n",
       "      <td>veh</td>\n",
       "      <td>0.925113</td>\n",
       "    </tr>\n",
       "    <tr>\n",
       "      <th>4</th>\n",
       "      <td>0.837480</td>\n",
       "      <td>LargeConvolution</td>\n",
       "      <td>0.797564</td>\n",
       "      <td>veh</td>\n",
       "      <td>0.922623</td>\n",
       "    </tr>\n",
       "    <tr>\n",
       "      <th>5</th>\n",
       "      <td>0.797227</td>\n",
       "      <td>Convolution</td>\n",
       "      <td>0.742894</td>\n",
       "      <td>veh</td>\n",
       "      <td>0.892433</td>\n",
       "    </tr>\n",
       "    <tr>\n",
       "      <th>6</th>\n",
       "      <td>0.859934</td>\n",
       "      <td>DotAttention</td>\n",
       "      <td>0.866707</td>\n",
       "      <td>il4-24h</td>\n",
       "      <td>0.919530</td>\n",
       "    </tr>\n",
       "    <tr>\n",
       "      <th>7</th>\n",
       "      <td>0.840319</td>\n",
       "      <td>LargeConvolution</td>\n",
       "      <td>0.851597</td>\n",
       "      <td>il4-24h</td>\n",
       "      <td>0.921051</td>\n",
       "    </tr>\n",
       "    <tr>\n",
       "      <th>8</th>\n",
       "      <td>0.820107</td>\n",
       "      <td>Convolution</td>\n",
       "      <td>0.819604</td>\n",
       "      <td>il4-24h</td>\n",
       "      <td>0.900605</td>\n",
       "    </tr>\n",
       "  </tbody>\n",
       "</table>\n",
       "</div>"
      ],
      "text/plain": [
       "   Accuracy        Model Type  Precision Treatment    aucROC\n",
       "0  0.854437      DotAttention   0.853165    kla-1h  0.917387\n",
       "1  0.840317  LargeConvolution   0.821475    kla-1h  0.917087\n",
       "2  0.815406       Convolution   0.777507    kla-1h  0.899758\n",
       "3  0.852536      DotAttention   0.813940       veh  0.925113\n",
       "4  0.837480  LargeConvolution   0.797564       veh  0.922623\n",
       "5  0.797227       Convolution   0.742894       veh  0.892433\n",
       "6  0.859934      DotAttention   0.866707   il4-24h  0.919530\n",
       "7  0.840319  LargeConvolution   0.851597   il4-24h  0.921051\n",
       "8  0.820107       Convolution   0.819604   il4-24h  0.900605"
      ]
     },
     "execution_count": 13,
     "metadata": {},
     "output_type": "execute_result"
    }
   ],
   "source": [
    "performance_frame"
   ]
  },
  {
   "cell_type": "code",
   "execution_count": 14,
   "metadata": {
    "collapsed": true
   },
   "outputs": [],
   "source": [
    "performance_frame.to_csv(working_directory + '/figures/performance.tsv', sep='\\t')"
   ]
  },
  {
   "cell_type": "code",
   "execution_count": 15,
   "metadata": {},
   "outputs": [
    {
     "data": {
      "image/png": "[encoded data removed]",
      "text/plain": [
       "<matplotlib.figure.Figure at 0x7fb60481e0b8>"
      ]
     },
     "metadata": {},
     "output_type": "display_data"
    }
   ],
   "source": [
    "with sns.axes_style('whitegrid'):\n",
    "    sns.factorplot(data = performance_frame,\n",
    "        x = 'Treatment', \n",
    "        y = 'Accuracy',\n",
    "        hue = 'Model Type',\n",
    "        kind = 'bar'\n",
    "        )\n",
    "    plt.ylim(0,1)"
   ]
  },
  {
   "cell_type": "code",
   "execution_count": 16,
   "metadata": {},
   "outputs": [
    {
     "data": {
      "image/png": "[encoded data removed]",
      "text/plain": [
       "<matplotlib.figure.Figure at 0x7fb609cd8c18>"
      ]
     },
     "metadata": {},
     "output_type": "display_data"
    }
   ],
   "source": [
    "with sns.axes_style('whitegrid'):\n",
    "    sns.factorplot(data = performance_frame,\n",
    "        x = 'Treatment', \n",
    "        y = 'Precision',\n",
    "        hue = 'Model Type',\n",
    "        kind = 'bar'\n",
    "        )\n",
    "    plt.ylim(0,1)"
   ]
  },
  {
   "cell_type": "code",
   "execution_count": 17,
   "metadata": {},
   "outputs": [
    {
     "data": {
      "image/png": "[encoded data removed]",
      "text/plain": [
       "<matplotlib.figure.Figure at 0x7fb609c15e48>"
      ]
     },
     "metadata": {},
     "output_type": "display_data"
    }
   ],
   "source": [
    "with sns.axes_style('whitegrid'):\n",
    "    sns.factorplot(data = performance_frame,\n",
    "        x = 'Treatment', \n",
    "        y = 'aucROC',\n",
    "        hue = 'Model Type',\n",
    "        kind = 'bar'\n",
    "        )\n",
    "    plt.ylim(0,1)"
   ]
  },
  {
   "cell_type": "markdown",
   "metadata": {},
   "source": [
    "## Serialize Models"
   ]
  },
  {
   "cell_type": "code",
   "execution_count": 18,
   "metadata": {},
   "outputs": [
    {
     "name": "stdout",
     "output_type": "stream",
     "text": [
      "DotAttention_kla-1h\n",
      "LargeConvolution_kla-1h\n",
      "Convolution_kla-1h\n",
      "DotAttention_veh\n",
      "LargeConvolution_veh\n",
      "Convolution_veh\n",
      "DotAttention_il4-24h\n",
      "LargeConvolution_il4-24h\n",
      "Convolution_il4-24h\n"
     ]
    }
   ],
   "source": [
    "if len(condition_model_dict) > 0:\n",
    "    if not os.path.isdir(working_directory + '/models_classification'):\n",
    "        os.mkdir(working_directory + '/models_classification')\n",
    "#     else:\n",
    "#         for f in os.listdir(working_directory + '/models_classification'):\n",
    "#             os.remove(working_directory + '/models_classification/' + f)\n",
    "    for treatment_modelType in condition_model_dict.keys():\n",
    "        print(treatment_modelType)\n",
    "        current_model = condition_model_dict[treatment_modelType]\n",
    "        current_model.save_weights(working_directory + '/models_classification/' + treatment_modelType + '_weights.h5',\n",
    "                          )"
   ]
  },
  {
   "cell_type": "markdown",
   "metadata": {},
   "source": [
    "## Read in Models"
   ]
  },
  {
   "cell_type": "code",
   "execution_count": 6,
   "metadata": {
    "scrolled": false
   },
   "outputs": [
    {
     "name": "stdout",
     "output_type": "stream",
     "text": [
      "LargeConvolution_kla-1h_weights.h5\n",
      "9851\n",
      "LargeConvolution_il4-24h_weights.h5\n",
      "9851\n",
      "DotAttention_kla-1h_weights.h5\n",
      "9866\n",
      "Convolution_kla-1h_weights.h5\n",
      "2162\n",
      "LargeConvolution_veh_weights.h5\n",
      "9851\n",
      "DotAttention_veh_weights.h5\n",
      "9866\n",
      "Convolution_il4-24h_weights.h5\n",
      "2162\n",
      "DotAttention_il4-24h_weights.h5\n",
      "9866\n",
      "Convolution_veh_weights.h5\n",
      "2162\n"
     ]
    }
   ],
   "source": [
    "condition_model_dict = {}\n",
    "for f in os.listdir(working_directory + '/models_classification/'):\n",
    "    treatment_modelType = f.replace('_weights.h5','')\n",
    "    modelType = treatment_modelType.split('_')[0]\n",
    "    print(f)\n",
    "    if modelType == 'DotAttention':\n",
    "        current_model = get_dotProductAttention_model(200,\n",
    "            mode='classification',\n",
    "            num_motifs=attention_num_motifs, \n",
    "            motif_size=attention_motif_size,\n",
    "            adjacent_bp_pool_size=adjacent_bp_pool_size,\n",
    "            num_dense_neurons = attention_num_dense_neurons,\n",
    "            dropout_rate=attention_dropout_rate,\n",
    "            num_classes=2)\n",
    "    elif modelType == 'Convolution':\n",
    "        current_model = get_convolution_model(200,\n",
    "            mode='classification',\n",
    "            num_motifs=convolution_num_motifs, \n",
    "            motif_size=convolution_motif_size,\n",
    "            num_dense_neurons=num_dense_neurons,\n",
    "            dropout_rate=convolution_dropout_rate,\n",
    "            num_classes=2)\n",
    "    elif modelType == 'LargeConvolution':\n",
    "        current_model = get_convolution_model(200,\n",
    "            mode='classification',\n",
    "            num_motifs= largeConvolution_num_motifs, \n",
    "            motif_size=convolution_motif_size,\n",
    "            num_dense_neurons=large_num_dense_neurons,\n",
    "            dropout_rate=convolution_dropout_rate,\n",
    "            num_classes=2)\n",
    "    current_model.load_weights(working_directory + '/models_classification/' + treatment_modelType + '_weights.h5')\n",
    "    condition_model_dict[treatment_modelType] = current_model\n",
    "    print(current_model.count_params())"
   ]
  },
  {
   "cell_type": "markdown",
   "metadata": {},
   "source": [
    "## Grid Search for Dot Product Attention Model"
   ]
  },
  {
   "cell_type": "code",
   "execution_count": null,
   "metadata": {
    "scrolled": true
   },
   "outputs": [
    {
     "name": "stdout",
     "output_type": "stream",
     "text": [
      "kla-1h num dense 6 num motifs 150 pool size 1 dropout rate 0.1 param count 9908\n",
      "Train on 34841 samples, validate on 8711 samples\n",
      "Epoch 1/10\n",
      "34841/34841 [==============================] - 54s 2ms/step - loss: 0.6681 - categorical_accuracy: 0.5710 - val_loss: 0.6224 - val_categorical_accuracy: 0.6448\n",
      "Epoch 2/10\n",
      "34841/34841 [==============================] - 38s 1ms/step - loss: 0.5831 - categorical_accuracy: 0.6948 - val_loss: 0.5474 - val_categorical_accuracy: 0.7262\n",
      "Epoch 3/10\n",
      "34841/34841 [==============================] - 38s 1ms/step - loss: 0.5461 - categorical_accuracy: 0.7246 - val_loss: 0.6034 - val_categorical_accuracy: 0.6772\n",
      "Epoch 4/10\n",
      "34841/34841 [==============================] - 38s 1ms/step - loss: 0.5148 - categorical_accuracy: 0.7471 - val_loss: 0.4873 - val_categorical_accuracy: 0.7680\n",
      "Epoch 5/10\n",
      "34841/34841 [==============================] - 38s 1ms/step - loss: 0.4893 - categorical_accuracy: 0.7640 - val_loss: 0.4733 - val_categorical_accuracy: 0.7803\n",
      "Epoch 6/10\n",
      "34841/34841 [==============================] - 38s 1ms/step - loss: 0.4612 - categorical_accuracy: 0.7853 - val_loss: 0.4736 - val_categorical_accuracy: 0.7697\n",
      "Epoch 7/10\n",
      "34841/34841 [==============================] - 38s 1ms/step - loss: 0.4381 - categorical_accuracy: 0.7965 - val_loss: 0.5486 - val_categorical_accuracy: 0.7253\n",
      "Epoch 8/10\n",
      "34841/34841 [==============================] - 38s 1ms/step - loss: 0.4202 - categorical_accuracy: 0.8064 - val_loss: 0.4350 - val_categorical_accuracy: 0.7930\n",
      "Epoch 9/10\n",
      "34841/34841 [==============================] - 38s 1ms/step - loss: 0.4045 - categorical_accuracy: 0.8161 - val_loss: 0.4263 - val_categorical_accuracy: 0.8065\n",
      "Epoch 10/10\n",
      "34841/34841 [==============================] - 38s 1ms/step - loss: 0.3856 - categorical_accuracy: 0.8256 - val_loss: 0.4150 - val_categorical_accuracy: 0.8082\n",
      "kla-1h num dense 6 num motifs 150 pool size 1 dropout rate 0.5 param count 9908\n",
      "Train on 34841 samples, validate on 8711 samples\n",
      "Epoch 1/10\n",
      "34841/34841 [==============================] - 55s 2ms/step - loss: 0.6795 - categorical_accuracy: 0.5534 - val_loss: 0.6434 - val_categorical_accuracy: 0.6121\n",
      "Epoch 2/10\n",
      "34841/34841 [==============================] - 38s 1ms/step - loss: 0.5921 - categorical_accuracy: 0.6831 - val_loss: 0.5562 - val_categorical_accuracy: 0.7226\n",
      "Epoch 3/10\n",
      "34841/34841 [==============================] - 38s 1ms/step - loss: 0.5376 - categorical_accuracy: 0.7332 - val_loss: 0.5819 - val_categorical_accuracy: 0.6891\n",
      "Epoch 4/10\n",
      "34841/34841 [==============================] - 38s 1ms/step - loss: 0.4984 - categorical_accuracy: 0.7592 - val_loss: 0.4797 - val_categorical_accuracy: 0.7716\n",
      "Epoch 5/10\n",
      "34841/34841 [==============================] - 39s 1ms/step - loss: 0.4622 - categorical_accuracy: 0.7835 - val_loss: 0.4460 - val_categorical_accuracy: 0.7911\n",
      "Epoch 6/10\n",
      "34841/34841 [==============================] - 38s 1ms/step - loss: 0.4309 - categorical_accuracy: 0.8026 - val_loss: 0.4165 - val_categorical_accuracy: 0.8112\n",
      "Epoch 7/10\n",
      "34841/34841 [==============================] - 38s 1ms/step - loss: 0.4078 - categorical_accuracy: 0.8149 - val_loss: 0.4007 - val_categorical_accuracy: 0.8176\n",
      "Epoch 8/10\n",
      "34841/34841 [==============================] - 38s 1ms/step - loss: 0.3914 - categorical_accuracy: 0.8239 - val_loss: 0.4107 - val_categorical_accuracy: 0.8141\n",
      "Epoch 9/10\n",
      "34841/34841 [==============================] - 38s 1ms/step - loss: 0.3763 - categorical_accuracy: 0.8330 - val_loss: 0.3853 - val_categorical_accuracy: 0.8245\n",
      "Epoch 10/10\n",
      "34841/34841 [==============================] - 39s 1ms/step - loss: 0.3625 - categorical_accuracy: 0.8396 - val_loss: 0.3769 - val_categorical_accuracy: 0.8332\n",
      "kla-1h num dense 12 num motifs 150 pool size 1 dropout rate 0.1 param count 13214\n",
      "Train on 34841 samples, validate on 8711 samples\n",
      "Epoch 1/10\n",
      "34841/34841 [==============================] - 54s 2ms/step - loss: 0.6707 - categorical_accuracy: 0.5661 - val_loss: 0.6026 - val_categorical_accuracy: 0.6819\n",
      "Epoch 2/10\n",
      "34841/34841 [==============================] - 38s 1ms/step - loss: 0.5796 - categorical_accuracy: 0.6965 - val_loss: 0.5313 - val_categorical_accuracy: 0.7355\n",
      "Epoch 3/10\n",
      "34841/34841 [==============================] - 38s 1ms/step - loss: 0.5126 - categorical_accuracy: 0.7495 - val_loss: 0.4997 - val_categorical_accuracy: 0.7543\n",
      "Epoch 4/10\n",
      "34841/34841 [==============================] - 38s 1ms/step - loss: 0.4632 - categorical_accuracy: 0.7825 - val_loss: 0.4367 - val_categorical_accuracy: 0.7980\n",
      "Epoch 5/10\n",
      "34841/34841 [==============================] - 39s 1ms/step - loss: 0.4267 - categorical_accuracy: 0.8051 - val_loss: 0.4145 - val_categorical_accuracy: 0.8125\n",
      "Epoch 6/10\n",
      "34841/34841 [==============================] - 38s 1ms/step - loss: 0.4037 - categorical_accuracy: 0.8169 - val_loss: 0.3979 - val_categorical_accuracy: 0.8249\n",
      "Epoch 7/10\n",
      "34841/34841 [==============================] - 38s 1ms/step - loss: 0.3922 - categorical_accuracy: 0.8224 - val_loss: 0.3912 - val_categorical_accuracy: 0.8290\n",
      "Epoch 8/10\n",
      "34841/34841 [==============================] - 38s 1ms/step - loss: 0.3766 - categorical_accuracy: 0.8317 - val_loss: 0.3988 - val_categorical_accuracy: 0.8199\n",
      "Epoch 9/10\n",
      "34841/34841 [==============================] - 38s 1ms/step - loss: 0.3681 - categorical_accuracy: 0.8362 - val_loss: 0.3764 - val_categorical_accuracy: 0.8315\n",
      "Epoch 10/10\n",
      "34841/34841 [==============================] - 38s 1ms/step - loss: 0.3524 - categorical_accuracy: 0.8446 - val_loss: 0.3675 - val_categorical_accuracy: 0.8380\n",
      "kla-1h num dense 12 num motifs 150 pool size 1 dropout rate 0.5 param count 13214\n",
      "Train on 34841 samples, validate on 8711 samples\n",
      "Epoch 1/10\n",
      "34841/34841 [==============================] - 55s 2ms/step - loss: 0.6780 - categorical_accuracy: 0.5511 - val_loss: 0.7020 - val_categorical_accuracy: 0.5515\n",
      "Epoch 2/10\n",
      "34841/34841 [==============================] - 38s 1ms/step - loss: 0.5870 - categorical_accuracy: 0.6893 - val_loss: 0.5423 - val_categorical_accuracy: 0.7264\n",
      "Epoch 3/10\n",
      "34841/34841 [==============================] - 39s 1ms/step - loss: 0.5399 - categorical_accuracy: 0.7316 - val_loss: 0.5175 - val_categorical_accuracy: 0.7448\n",
      "Epoch 4/10\n",
      "34841/34841 [==============================] - 39s 1ms/step - loss: 0.4865 - categorical_accuracy: 0.7698 - val_loss: 0.4621 - val_categorical_accuracy: 0.7814\n",
      "Epoch 5/10\n",
      "34841/34841 [==============================] - 38s 1ms/step - loss: 0.4507 - categorical_accuracy: 0.7900 - val_loss: 0.4560 - val_categorical_accuracy: 0.7853\n",
      "Epoch 6/10\n",
      "34841/34841 [==============================] - 38s 1ms/step - loss: 0.4323 - categorical_accuracy: 0.7997 - val_loss: 0.4547 - val_categorical_accuracy: 0.7862\n",
      "Epoch 7/10\n",
      "34841/34841 [==============================] - 38s 1ms/step - loss: 0.4131 - categorical_accuracy: 0.8107 - val_loss: 0.4112 - val_categorical_accuracy: 0.8114\n",
      "Epoch 8/10\n",
      "34841/34841 [==============================] - 38s 1ms/step - loss: 0.3986 - categorical_accuracy: 0.8197 - val_loss: 0.4179 - val_categorical_accuracy: 0.8068\n",
      "Epoch 9/10\n",
      "34841/34841 [==============================] - 38s 1ms/step - loss: 0.3882 - categorical_accuracy: 0.8250 - val_loss: 0.4022 - val_categorical_accuracy: 0.8135\n",
      "Epoch 10/10\n",
      "34841/34841 [==============================] - 38s 1ms/step - loss: 0.3772 - categorical_accuracy: 0.8316 - val_loss: 0.3997 - val_categorical_accuracy: 0.8184\n",
      "veh num dense 6 num motifs 150 pool size 1 dropout rate 0.1 param count 9908\n",
      "Train on 50480 samples, validate on 12620 samples\n",
      "Epoch 1/10\n",
      "50480/50480 [==============================] - 72s 1ms/step - loss: 0.6593 - categorical_accuracy: 0.5848 - val_loss: 0.5824 - val_categorical_accuracy: 0.6945\n",
      "Epoch 2/10\n",
      "50480/50480 [==============================] - 55s 1ms/step - loss: 0.5480 - categorical_accuracy: 0.7215 - val_loss: 0.5381 - val_categorical_accuracy: 0.7235\n",
      "Epoch 3/10\n",
      "50480/50480 [==============================] - 56s 1ms/step - loss: 0.4832 - categorical_accuracy: 0.7700 - val_loss: 0.4366 - val_categorical_accuracy: 0.7989\n",
      "Epoch 4/10\n",
      "50480/50480 [==============================] - 55s 1ms/step - loss: 0.4341 - categorical_accuracy: 0.7987 - val_loss: 0.3995 - val_categorical_accuracy: 0.8194\n",
      "Epoch 5/10\n",
      "50480/50480 [==============================] - 55s 1ms/step - loss: 0.3987 - categorical_accuracy: 0.8198 - val_loss: 0.3766 - val_categorical_accuracy: 0.8368\n",
      "Epoch 6/10\n",
      "50480/50480 [==============================] - 55s 1ms/step - loss: 0.3742 - categorical_accuracy: 0.8352 - val_loss: 0.3771 - val_categorical_accuracy: 0.8312\n",
      "Epoch 7/10\n",
      "50480/50480 [==============================] - 55s 1ms/step - loss: 0.3635 - categorical_accuracy: 0.8407 - val_loss: 0.3558 - val_categorical_accuracy: 0.8443\n",
      "Epoch 8/10\n",
      "50480/50480 [==============================] - 55s 1ms/step - loss: 0.3526 - categorical_accuracy: 0.8463 - val_loss: 0.3906 - val_categorical_accuracy: 0.8294\n",
      "Epoch 9/10\n",
      "50480/50480 [==============================] - 55s 1ms/step - loss: 0.3447 - categorical_accuracy: 0.8501 - val_loss: 0.3482 - val_categorical_accuracy: 0.8492\n",
      "Epoch 10/10\n",
      "50480/50480 [==============================] - 55s 1ms/step - loss: 0.3363 - categorical_accuracy: 0.8554 - val_loss: 0.3437 - val_categorical_accuracy: 0.8515\n",
      "veh num dense 6 num motifs 150 pool size 1 dropout rate 0.5 param count 9908\n",
      "Train on 50480 samples, validate on 12620 samples\n",
      "Epoch 1/10\n",
      "50480/50480 [==============================] - 72s 1ms/step - loss: 0.6542 - categorical_accuracy: 0.5865 - val_loss: 0.5699 - val_categorical_accuracy: 0.7079\n",
      "Epoch 2/10\n",
      "50480/50480 [==============================] - 56s 1ms/step - loss: 0.5521 - categorical_accuracy: 0.7183 - val_loss: 0.5085 - val_categorical_accuracy: 0.7554\n",
      "Epoch 3/10\n",
      "50480/50480 [==============================] - 56s 1ms/step - loss: 0.4944 - categorical_accuracy: 0.7626 - val_loss: 0.4727 - val_categorical_accuracy: 0.7746\n",
      "Epoch 4/10\n",
      "50480/50480 [==============================] - 56s 1ms/step - loss: 0.4460 - categorical_accuracy: 0.7926 - val_loss: 0.4114 - val_categorical_accuracy: 0.8151\n",
      "Epoch 5/10\n",
      "40832/50480 [=======================>......] - ETA: 9s - loss: 0.4108 - categorical_accuracy: 0.8153"
     ]
    }
   ],
   "source": [
    "all_rocs = []\n",
    "all_accuracies = []\n",
    "all_precisions = []\n",
    "poolSize_list = []\n",
    "all_treatments = []\n",
    "motifCount_list = []\n",
    "numDense_list = []\n",
    "paramCount_list = []\n",
    "dropoutRate_list = []\n",
    "num_epochs = 10\n",
    "for treatment in treatment_positive_fasta_dict:\n",
    "    positive_sequence_arrays = treatment_positive_seqArray_dict[treatment] \n",
    "    positive_rc_sequence_arrays = treatment_positive_rc_seqArray_dict[treatment]\n",
    "    negative_sequence_arrays = treatment_negative_seqArray_dict[treatment]\n",
    "    negative_rc_sequence_arrays = treatment_negative_rc_seqArray_dict[treatment]\n",
    "\n",
    "    sequence_arrays = np.concatenate([positive_sequence_arrays, negative_sequence_arrays])\n",
    "    sequence_rc_arrays = np.concatenate([positive_rc_sequence_arrays, negative_rc_sequence_arrays])\n",
    "    labels = [1 for x in positive_sequence_arrays] + [0 for x in negative_sequence_arrays]\n",
    "    labels = np.array(labels)\n",
    "\n",
    "    x_train, x_test, x_rc_train, x_rc_test, y_train, y_test = model_selection.train_test_split(\n",
    "        sequence_arrays, \n",
    "        sequence_rc_arrays, \n",
    "        labels, \n",
    "        test_size=0.2)\n",
    "\n",
    "    num_classes = 2\n",
    "    y_train = keras.utils.to_categorical(y_train, num_classes)\n",
    "    y_test = keras.utils.to_categorical(y_test, num_classes)    \n",
    "    \n",
    "    for d in [6, 12]:\n",
    "        for m in [150]:\n",
    "            for p in [1]:\n",
    "                for do in [0.1,0.5]:\n",
    "                    \n",
    "                    current_model = get_dotProductAttention_model(200,\n",
    "                        mode='classification',\n",
    "                        num_classes = 2,\n",
    "                        num_motifs=m, \n",
    "                        motif_size=10,\n",
    "                        adjacent_bp_pool_size=p,\n",
    "                        num_dense_neurons=d,\n",
    "                        dropout_rate=do)\n",
    "                    num_params = current_model.count_params()\n",
    "                    print(treatment, \n",
    "                         'num dense', d,\n",
    "                         'num motifs', m,\n",
    "                         'pool size', p,\n",
    "                         'dropout rate', do,\n",
    "                         'param count', num_params)\n",
    "                    current_model.fit(x_train, y_train,\n",
    "                          batch_size=64,\n",
    "                          epochs=num_epochs,\n",
    "                          verbose=1,\n",
    "                          validation_data=([x_test], y_test))\n",
    "\n",
    "                    probs = current_model.predict([x_test])\n",
    "                    test_predictions = [0 if x[0] > x[1] else 1 for x in probs]\n",
    "                    roc = sklearn.metrics.roc_auc_score([y[1] for y in y_test], probs[:,1])\n",
    "                    precision = sklearn.metrics.precision_score([y[1] for y in y_test], test_predictions)\n",
    "                    acc = sklearn.metrics.accuracy_score([y[1] for y in y_test], test_predictions)\n",
    "                    \n",
    "                    all_rocs.append(roc)\n",
    "                    all_accuracies.append(acc)\n",
    "                    all_precisions.append(precision)\n",
    "                    poolSize_list.append(p)\n",
    "                    all_treatments.append(treatment)\n",
    "                    motifCount_list.append(m)\n",
    "                    numDense_list.append(d)\n",
    "                    paramCount_list.append(num_params)\n",
    "                    dropoutRate_list.append(do)"
   ]
  },
  {
   "cell_type": "code",
   "execution_count": 199,
   "metadata": {
    "collapsed": true,
    "scrolled": false
   },
   "outputs": [],
   "source": [
    "performance_frame = pd.DataFrame({'aucROC':all_rocs, \n",
    "                      'Accuracy':all_accuracies, \n",
    "                      'Pool Size':poolSize_list, \n",
    "                      'Precision':all_precisions,\n",
    "                      'Treatment':all_treatments,\n",
    "                      'Num Motifs':motifCount_list,\n",
    "                      'Num Dense':numDense_list,\n",
    "                      'Num Params':paramCount_list,\n",
    "                      'Dropout Rate':dropoutRate_list\n",
    "                      })"
   ]
  },
  {
   "cell_type": "code",
   "execution_count": 200,
   "metadata": {
    "collapsed": true
   },
   "outputs": [],
   "source": [
    "performance_frame.to_csv('./grid_search_results.tsv', sep='\\t')"
   ]
  },
  {
   "cell_type": "code",
   "execution_count": 201,
   "metadata": {},
   "outputs": [
    {
     "data": {
      "text/html": [
       "<div>\n",
       "<style>\n",
       "    .dataframe thead tr:only-child th {\n",
       "        text-align: right;\n",
       "    }\n",
       "\n",
       "    .dataframe thead th {\n",
       "        text-align: left;\n",
       "    }\n",
       "\n",
       "    .dataframe tbody tr th {\n",
       "        vertical-align: top;\n",
       "    }\n",
       "</style>\n",
       "<table border=\"1\" class=\"dataframe\">\n",
       "  <thead>\n",
       "    <tr style=\"text-align: right;\">\n",
       "      <th></th>\n",
       "      <th>Accuracy</th>\n",
       "      <th>Dropout Rate</th>\n",
       "      <th>Num Dense</th>\n",
       "      <th>Num Motifs</th>\n",
       "      <th>Num Params</th>\n",
       "      <th>Pool Size</th>\n",
       "      <th>Precision</th>\n",
       "      <th>Treatment</th>\n",
       "      <th>aucROC</th>\n",
       "    </tr>\n",
       "  </thead>\n",
       "  <tbody>\n",
       "    <tr>\n",
       "      <th>2</th>\n",
       "      <td>0.838021</td>\n",
       "      <td>0.1</td>\n",
       "      <td>12</td>\n",
       "      <td>150</td>\n",
       "      <td>13214</td>\n",
       "      <td>1</td>\n",
       "      <td>0.832573</td>\n",
       "      <td>kla-1h</td>\n",
       "      <td>0.908437</td>\n",
       "    </tr>\n",
       "    <tr>\n",
       "      <th>3</th>\n",
       "      <td>0.818391</td>\n",
       "      <td>0.5</td>\n",
       "      <td>12</td>\n",
       "      <td>150</td>\n",
       "      <td>13214</td>\n",
       "      <td>1</td>\n",
       "      <td>0.860331</td>\n",
       "      <td>kla-1h</td>\n",
       "      <td>0.890596</td>\n",
       "    </tr>\n",
       "    <tr>\n",
       "      <th>0</th>\n",
       "      <td>0.808174</td>\n",
       "      <td>0.1</td>\n",
       "      <td>6</td>\n",
       "      <td>150</td>\n",
       "      <td>9908</td>\n",
       "      <td>1</td>\n",
       "      <td>0.863836</td>\n",
       "      <td>kla-1h</td>\n",
       "      <td>0.888792</td>\n",
       "    </tr>\n",
       "    <tr>\n",
       "      <th>1</th>\n",
       "      <td>0.833199</td>\n",
       "      <td>0.5</td>\n",
       "      <td>6</td>\n",
       "      <td>150</td>\n",
       "      <td>9908</td>\n",
       "      <td>1</td>\n",
       "      <td>0.832331</td>\n",
       "      <td>kla-1h</td>\n",
       "      <td>0.883614</td>\n",
       "    </tr>\n",
       "  </tbody>\n",
       "</table>\n",
       "</div>"
      ],
      "text/plain": [
       "   Accuracy  Dropout Rate  Num Dense  Num Motifs  Num Params  Pool Size  \\\n",
       "2  0.838021           0.1         12         150       13214          1   \n",
       "3  0.818391           0.5         12         150       13214          1   \n",
       "0  0.808174           0.1          6         150        9908          1   \n",
       "1  0.833199           0.5          6         150        9908          1   \n",
       "\n",
       "   Precision Treatment    aucROC  \n",
       "2   0.832573    kla-1h  0.908437  \n",
       "3   0.860331    kla-1h  0.890596  \n",
       "0   0.863836    kla-1h  0.888792  \n",
       "1   0.832331    kla-1h  0.883614  "
      ]
     },
     "execution_count": 201,
     "metadata": {},
     "output_type": "execute_result"
    }
   ],
   "source": [
    "performance_frame[performance_frame['Treatment'] == 'kla-1h'].sort_values('aucROC',ascending = False).head()"
   ]
  },
  {
   "cell_type": "code",
   "execution_count": 202,
   "metadata": {},
   "outputs": [
    {
     "data": {
      "text/html": [
       "<div>\n",
       "<style>\n",
       "    .dataframe thead tr:only-child th {\n",
       "        text-align: right;\n",
       "    }\n",
       "\n",
       "    .dataframe thead th {\n",
       "        text-align: left;\n",
       "    }\n",
       "\n",
       "    .dataframe tbody tr th {\n",
       "        vertical-align: top;\n",
       "    }\n",
       "</style>\n",
       "<table border=\"1\" class=\"dataframe\">\n",
       "  <thead>\n",
       "    <tr style=\"text-align: right;\">\n",
       "      <th></th>\n",
       "      <th>Accuracy</th>\n",
       "      <th>Dropout Rate</th>\n",
       "      <th>Num Dense</th>\n",
       "      <th>Num Motifs</th>\n",
       "      <th>Num Params</th>\n",
       "      <th>Pool Size</th>\n",
       "      <th>Precision</th>\n",
       "      <th>Treatment</th>\n",
       "      <th>aucROC</th>\n",
       "    </tr>\n",
       "  </thead>\n",
       "  <tbody>\n",
       "    <tr>\n",
       "      <th>11</th>\n",
       "      <td>0.835844</td>\n",
       "      <td>0.5</td>\n",
       "      <td>12</td>\n",
       "      <td>150</td>\n",
       "      <td>13214</td>\n",
       "      <td>1</td>\n",
       "      <td>0.885327</td>\n",
       "      <td>il4-24h</td>\n",
       "      <td>0.909909</td>\n",
       "    </tr>\n",
       "    <tr>\n",
       "      <th>10</th>\n",
       "      <td>0.848896</td>\n",
       "      <td>0.1</td>\n",
       "      <td>12</td>\n",
       "      <td>150</td>\n",
       "      <td>13214</td>\n",
       "      <td>1</td>\n",
       "      <td>0.850312</td>\n",
       "      <td>il4-24h</td>\n",
       "      <td>0.900551</td>\n",
       "    </tr>\n",
       "    <tr>\n",
       "      <th>8</th>\n",
       "      <td>0.790946</td>\n",
       "      <td>0.1</td>\n",
       "      <td>6</td>\n",
       "      <td>150</td>\n",
       "      <td>9908</td>\n",
       "      <td>1</td>\n",
       "      <td>0.921497</td>\n",
       "      <td>il4-24h</td>\n",
       "      <td>0.898482</td>\n",
       "    </tr>\n",
       "    <tr>\n",
       "      <th>9</th>\n",
       "      <td>0.848300</td>\n",
       "      <td>0.5</td>\n",
       "      <td>6</td>\n",
       "      <td>150</td>\n",
       "      <td>9908</td>\n",
       "      <td>1</td>\n",
       "      <td>0.867051</td>\n",
       "      <td>il4-24h</td>\n",
       "      <td>0.873665</td>\n",
       "    </tr>\n",
       "  </tbody>\n",
       "</table>\n",
       "</div>"
      ],
      "text/plain": [
       "    Accuracy  Dropout Rate  Num Dense  Num Motifs  Num Params  Pool Size  \\\n",
       "11  0.835844           0.5         12         150       13214          1   \n",
       "10  0.848896           0.1         12         150       13214          1   \n",
       "8   0.790946           0.1          6         150        9908          1   \n",
       "9   0.848300           0.5          6         150        9908          1   \n",
       "\n",
       "    Precision Treatment    aucROC  \n",
       "11   0.885327   il4-24h  0.909909  \n",
       "10   0.850312   il4-24h  0.900551  \n",
       "8    0.921497   il4-24h  0.898482  \n",
       "9    0.867051   il4-24h  0.873665  "
      ]
     },
     "execution_count": 202,
     "metadata": {},
     "output_type": "execute_result"
    }
   ],
   "source": [
    "performance_frame[performance_frame['Treatment'] == 'il4-24h'].sort_values('aucROC',ascending = False).head()"
   ]
  },
  {
   "cell_type": "code",
   "execution_count": 203,
   "metadata": {},
   "outputs": [
    {
     "data": {
      "text/html": [
       "<div>\n",
       "<style>\n",
       "    .dataframe thead tr:only-child th {\n",
       "        text-align: right;\n",
       "    }\n",
       "\n",
       "    .dataframe thead th {\n",
       "        text-align: left;\n",
       "    }\n",
       "\n",
       "    .dataframe tbody tr th {\n",
       "        vertical-align: top;\n",
       "    }\n",
       "</style>\n",
       "<table border=\"1\" class=\"dataframe\">\n",
       "  <thead>\n",
       "    <tr style=\"text-align: right;\">\n",
       "      <th></th>\n",
       "      <th>Accuracy</th>\n",
       "      <th>Dropout Rate</th>\n",
       "      <th>Num Dense</th>\n",
       "      <th>Num Motifs</th>\n",
       "      <th>Num Params</th>\n",
       "      <th>Pool Size</th>\n",
       "      <th>Precision</th>\n",
       "      <th>Treatment</th>\n",
       "      <th>aucROC</th>\n",
       "    </tr>\n",
       "  </thead>\n",
       "  <tbody>\n",
       "    <tr>\n",
       "      <th>6</th>\n",
       "      <td>0.856973</td>\n",
       "      <td>0.1</td>\n",
       "      <td>12</td>\n",
       "      <td>150</td>\n",
       "      <td>13214</td>\n",
       "      <td>1</td>\n",
       "      <td>0.842089</td>\n",
       "      <td>veh</td>\n",
       "      <td>0.921300</td>\n",
       "    </tr>\n",
       "    <tr>\n",
       "      <th>5</th>\n",
       "      <td>0.851506</td>\n",
       "      <td>0.5</td>\n",
       "      <td>6</td>\n",
       "      <td>150</td>\n",
       "      <td>9908</td>\n",
       "      <td>1</td>\n",
       "      <td>0.847799</td>\n",
       "      <td>veh</td>\n",
       "      <td>0.921128</td>\n",
       "    </tr>\n",
       "    <tr>\n",
       "      <th>4</th>\n",
       "      <td>0.851506</td>\n",
       "      <td>0.1</td>\n",
       "      <td>6</td>\n",
       "      <td>150</td>\n",
       "      <td>9908</td>\n",
       "      <td>1</td>\n",
       "      <td>0.835456</td>\n",
       "      <td>veh</td>\n",
       "      <td>0.918767</td>\n",
       "    </tr>\n",
       "    <tr>\n",
       "      <th>7</th>\n",
       "      <td>0.814659</td>\n",
       "      <td>0.5</td>\n",
       "      <td>12</td>\n",
       "      <td>150</td>\n",
       "      <td>13214</td>\n",
       "      <td>1</td>\n",
       "      <td>0.912654</td>\n",
       "      <td>veh</td>\n",
       "      <td>0.911097</td>\n",
       "    </tr>\n",
       "  </tbody>\n",
       "</table>\n",
       "</div>"
      ],
      "text/plain": [
       "   Accuracy  Dropout Rate  Num Dense  Num Motifs  Num Params  Pool Size  \\\n",
       "6  0.856973           0.1         12         150       13214          1   \n",
       "5  0.851506           0.5          6         150        9908          1   \n",
       "4  0.851506           0.1          6         150        9908          1   \n",
       "7  0.814659           0.5         12         150       13214          1   \n",
       "\n",
       "   Precision Treatment    aucROC  \n",
       "6   0.842089       veh  0.921300  \n",
       "5   0.847799       veh  0.921128  \n",
       "4   0.835456       veh  0.918767  \n",
       "7   0.912654       veh  0.911097  "
      ]
     },
     "execution_count": 203,
     "metadata": {},
     "output_type": "execute_result"
    }
   ],
   "source": [
    "performance_frame[performance_frame['Treatment'] == 'veh'].sort_values('aucROC',ascending = False).head()"
   ]
  },
  {
   "cell_type": "code",
   "execution_count": 207,
   "metadata": {},
   "outputs": [
    {
     "data": {
      "text/plain": [
       "(0.8, 0.9)"
      ]
     },
     "execution_count": 207,
     "metadata": {},
     "output_type": "execute_result"
    },
    {
     "data": {
      "image/png": "[encoded data removed]",
      "text/plain": [
       "<matplotlib.figure.Figure at 0x7f9818908d68>"
      ]
     },
     "metadata": {},
     "output_type": "display_data"
    }
   ],
   "source": [
    "sns.factorplot(data = performance_frame, x = 'Dropout Rate', y='Accuracy', hue = 'Treatment')\n",
    "plt.ylim(0.8,0.9)"
   ]
  },
  {
   "cell_type": "code",
   "execution_count": 205,
   "metadata": {},
   "outputs": [
    {
     "data": {
      "text/plain": [
       "(0.8, 0.9)"
      ]
     },
     "execution_count": 205,
     "metadata": {},
     "output_type": "execute_result"
    },
    {
     "data": {
      "image/png": "[encoded data removed]",
      "text/plain": [
       "<matplotlib.figure.Figure at 0x7f9818a9c358>"
      ]
     },
     "metadata": {},
     "output_type": "display_data"
    }
   ],
   "source": [
    "sns.factorplot(data = performance_frame, x = 'Pool Size', y='Accuracy', hue = 'Treatment')\n",
    "plt.ylim(0.8,0.9)"
   ]
  },
  {
   "cell_type": "code",
   "execution_count": 208,
   "metadata": {},
   "outputs": [
    {
     "data": {
      "text/plain": [
       "(0.8, 0.9)"
      ]
     },
     "execution_count": 208,
     "metadata": {},
     "output_type": "execute_result"
    },
    {
     "data": {
      "image/png": "[encoded data removed]",
      "text/plain": [
       "<matplotlib.figure.Figure at 0x7f9818689ba8>"
      ]
     },
     "metadata": {},
     "output_type": "display_data"
    }
   ],
   "source": [
    "sns.factorplot(data = performance_frame, x = 'Num Dense', y='Accuracy', hue = 'Treatment')\n",
    "plt.ylim(0.8,0.9)"
   ]
  },
  {
   "cell_type": "markdown",
   "metadata": {},
   "source": [
    "## Weight Extraction"
   ]
  },
  {
   "cell_type": "code",
   "execution_count": 7,
   "metadata": {},
   "outputs": [],
   "source": [
    "def get_sequence_attention(model, sequence_arrays, sequence_size, adjacent_bp_pool_size):\n",
    "    get_attention = K.function([model.get_layer('input_fwd').input, \n",
    "                                K.learning_phase()\n",
    "                               ], \n",
    "                               [model.get_layer('attention_softmax_layer').output])\n",
    "    trimmed_sequences = [x[:sequence_size] for x in sequence_arrays]\n",
    "    \n",
    "    attention = get_attention((trimmed_sequences, 0))[0]\n",
    "\n",
    "    return attention"
   ]
  },
  {
   "cell_type": "code",
   "execution_count": 8,
   "metadata": {},
   "outputs": [
    {
     "name": "stdout",
     "output_type": "stream",
     "text": [
      "*** kla-1h ***\n",
      "*** veh ***\n",
      "*** il4-24h ***\n"
     ]
    }
   ],
   "source": [
    "treatment_attention_dict = {}\n",
    "for ps in ['c57bl6_kla-1h_peaks.fasta', \n",
    "           'c57bl6_veh_peaks.fasta', \n",
    "           'c57bl6_il4-24h_peaks.fasta']:\n",
    "    treatment = ps.split('_')[1]\n",
    "    print('***',treatment, '***')\n",
    "    fasta_seq = treatment_positive_fasta_dict[treatment]\n",
    "    \n",
    "    sequence_arrays = treatment_positive_seqArray_dict[treatment]\n",
    "    if 'DotAttention_'+treatment in condition_model_dict:\n",
    "        current_model = condition_model_dict['DotAttention_'+treatment]\n",
    "\n",
    "        attention = get_sequence_attention(current_model,\n",
    "            sequence_arrays,\n",
    "            200,\n",
    "            10)\n",
    "\n",
    "        treatment_attention_dict[treatment] = attention\n"
   ]
  },
  {
   "cell_type": "markdown",
   "metadata": {},
   "source": [
    "## Visualize Attention"
   ]
  },
  {
   "cell_type": "markdown",
   "metadata": {},
   "source": [
    "### Overall Matrix"
   ]
  },
  {
   "cell_type": "code",
   "execution_count": 9,
   "metadata": {},
   "outputs": [],
   "source": [
    "sns.set_context('notebook')"
   ]
  },
  {
   "cell_type": "code",
   "execution_count": 46,
   "metadata": {},
   "outputs": [
    {
     "data": {
      "image/png": "[encoded data removed]",
      "text/plain": [
       "<matplotlib.figure.Figure at 0x7fb8e84aa160>"
      ]
     },
     "metadata": {},
     "output_type": "display_data"
    }
   ],
   "source": [
    "index = 1811\n",
    "plt.figure(figsize=(15,15))\n",
    "hm = sns.heatmap(attention[index], \n",
    "            yticklabels = False, \n",
    "            xticklabels = False, \n",
    "            square = True,\n",
    "           vmin=0,\n",
    "           vmax=0.4\n",
    "           )\n",
    "cb = hm.collections[0].colorbar\n",
    "cb.ax.set_visible(False)"
   ]
  },
  {
   "cell_type": "code",
   "execution_count": 64,
   "metadata": {},
   "outputs": [
    {
     "data": {
      "image/png": "[encoded data removed]",
      "text/plain": [
       "<matplotlib.figure.Figure at 0x7fc2c3d9aa90>"
      ]
     },
     "metadata": {},
     "output_type": "display_data"
    }
   ],
   "source": [
    "# index = 19999\n",
    "index = 19996\n",
    "plt.figure(figsize=(15,15))\n",
    "hm = sns.heatmap(attention[index], \n",
    "            yticklabels = False, \n",
    "            xticklabels = False, \n",
    "            square = True,\n",
    "           vmin=0,\n",
    "           vmax=0.5\n",
    "           )\n",
    "cb = hm.collections[0].colorbar\n",
    "cb.ax.set_visible(False)"
   ]
  },
  {
   "cell_type": "code",
   "execution_count": 26,
   "metadata": {},
   "outputs": [
    {
     "data": {
      "text/plain": [
       "<matplotlib.legend.Legend at 0x7fc2c3d32748>"
      ]
     },
     "execution_count": 26,
     "metadata": {},
     "output_type": "execute_result"
    },
    {
     "data": {
      "image/png": "[encoded data removed]",
      "text/plain": [
       "<matplotlib.figure.Figure at 0x7fc2c3c00d30>"
      ]
     },
     "metadata": {},
     "output_type": "display_data"
    }
   ],
   "source": [
    "for treatment in treatment_attention_dict:\n",
    "    treatment_attention = treatment_attention_dict[treatment]\n",
    "    sns.distplot(treatment_attention[:100].flatten(), label = treatment)\n",
    "plt.xlabel('Attention')\n",
    "plt.ylabel('Frequency')\n",
    "plt.legend()"
   ]
  },
  {
   "cell_type": "markdown",
   "metadata": {},
   "source": [
    "#### Per sequence frequencies"
   ]
  },
  {
   "cell_type": "code",
   "execution_count": 50,
   "metadata": {},
   "outputs": [
    {
     "name": "stdout",
     "output_type": "stream",
     "text": [
      "veh\n",
      "0.1\n",
      "0.2\n",
      "0.3\n",
      "0.4\n",
      "0.5\n",
      "0.6\n",
      "0.7\n",
      "0.8\n",
      "0.9\n",
      "kla-1h\n",
      "0.1\n",
      "0.2\n",
      "0.3\n",
      "0.4\n",
      "0.5\n",
      "0.6\n",
      "0.7\n",
      "0.8\n",
      "0.9\n",
      "il4-24h\n",
      "0.1\n",
      "0.2\n",
      "0.3\n",
      "0.4\n",
      "0.5\n",
      "0.6\n",
      "0.7\n",
      "0.8\n",
      "0.9\n"
     ]
    }
   ],
   "source": [
    "num_positions = 200\n",
    "matrix_size = num_positions**2\n",
    "count_list = []\n",
    "treatment_list = []\n",
    "threshold_list = []\n",
    "for treatment in treatment_attention_dict:\n",
    "    treatment_attention = treatment_attention_dict[treatment]\n",
    "    print(treatment)\n",
    "    \n",
    "    for threshold in [np.round(x,2) for x in np.arange(0.1,1,0.1)]:\n",
    "        counter = 0\n",
    "        print(threshold)\n",
    "        for am in treatment_attention:\n",
    "            count = np.sum(am.flatten() > threshold)\n",
    "            count_list.append(count)\n",
    "#             normalized_count_list.append(count/matrix_size)\n",
    "            treatment_list.append(treatment)\n",
    "            threshold_list.append(threshold)\n",
    "#             counter+=1\n",
    "#             if counter % 10000 == 0:\n",
    "#                 print(counter)"
   ]
  },
  {
   "cell_type": "code",
   "execution_count": 52,
   "metadata": {},
   "outputs": [],
   "source": [
    "frame = pd.DataFrame({'Treatment': treatment_list, \n",
    "                      'Threshold': threshold_list,\n",
    "                      'Count':count_list})"
   ]
  },
  {
   "cell_type": "code",
   "execution_count": 53,
   "metadata": {
    "scrolled": false
   },
   "outputs": [
    {
     "data": {
      "text/plain": [
       "<seaborn.axisgrid.FacetGrid at 0x7fb8e832fb00>"
      ]
     },
     "execution_count": 53,
     "metadata": {},
     "output_type": "execute_result"
    },
    {
     "data": {
      "image/png": "[encoded data removed]",
      "text/plain": [
       "<matplotlib.figure.Figure at 0x7fb8e832fba8>"
      ]
     },
     "metadata": {},
     "output_type": "display_data"
    }
   ],
   "source": [
    "sns.factorplot(data = frame, \n",
    "    x = 'Treatment',\n",
    "    y = 'Count',\n",
    "    hue='Threshold',\n",
    "    kind = 'box',\n",
    "    palette = 'Blues',\n",
    "    showfliers=False,\n",
    "    size = 10)"
   ]
  },
  {
   "cell_type": "markdown",
   "metadata": {},
   "source": [
    "### Max per Position"
   ]
  },
  {
   "cell_type": "code",
   "execution_count": 55,
   "metadata": {},
   "outputs": [
    {
     "data": {
      "text/plain": [
       "<matplotlib.legend.Legend at 0x7fb8c649a0f0>"
      ]
     },
     "execution_count": 55,
     "metadata": {},
     "output_type": "execute_result"
    },
    {
     "data": {
      "image/png": "[encoded data removed]",
      "text/plain": [
       "<matplotlib.figure.Figure at 0x7fb8c649a160>"
      ]
     },
     "metadata": {},
     "output_type": "display_data"
    }
   ],
   "source": [
    "for treatment in treatment_attention_dict:\n",
    "    treatment_attention = treatment_attention_dict[treatment]\n",
    "    max_attention = np.array([x.max(axis=0) for x in treatment_attention[:100]])\n",
    "    sns.distplot(max_attention.flatten(), label = treatment)\n",
    "plt.xlabel('Max Attention Per Position')\n",
    "plt.ylabel('Frequency')\n",
    "plt.legend()"
   ]
  },
  {
   "cell_type": "markdown",
   "metadata": {},
   "source": [
    "#### Per sequence frequencies"
   ]
  },
  {
   "cell_type": "code",
   "execution_count": 56,
   "metadata": {},
   "outputs": [
    {
     "name": "stdout",
     "output_type": "stream",
     "text": [
      "veh\n",
      "kla-1h\n",
      "il4-24h\n"
     ]
    }
   ],
   "source": [
    "count_list = []\n",
    "treatment_list = []\n",
    "threshold_list = []\n",
    "normalized_count_list = []\n",
    "for treatment in treatment_attention_dict:\n",
    "    treatment_attention = treatment_attention_dict[treatment]\n",
    "    max_attention = np.array([x.max(axis=0) for x in treatment_attention])\n",
    "    print(treatment)\n",
    "    for threshold in [np.round(x,2) for x in np.arange(0.1,1,0.1)]:\n",
    "        for fam in max_attention:\n",
    "            count = np.sum(fam.flatten() >= threshold)\n",
    "            count_list.append(count)\n",
    "            treatment_list.append(treatment)\n",
    "            threshold_list.append(threshold)\n",
    "        \n"
   ]
  },
  {
   "cell_type": "code",
   "execution_count": 57,
   "metadata": {},
   "outputs": [],
   "source": [
    "frame = pd.DataFrame({'Treatment': treatment_list, \n",
    "                      'Threshold': threshold_list,\n",
    "                      'Count':count_list})"
   ]
  },
  {
   "cell_type": "code",
   "execution_count": 58,
   "metadata": {},
   "outputs": [
    {
     "data": {
      "text/plain": [
       "<seaborn.axisgrid.FacetGrid at 0x7fb8c622cc88>"
      ]
     },
     "execution_count": 58,
     "metadata": {},
     "output_type": "execute_result"
    },
    {
     "data": {
      "image/png": "[encoded data removed]",
      "text/plain": [
       "<matplotlib.figure.Figure at 0x7fb8c6418f28>"
      ]
     },
     "metadata": {},
     "output_type": "display_data"
    }
   ],
   "source": [
    "sns.factorplot(data = frame, \n",
    "    x = 'Treatment',\n",
    "    y = 'Count',\n",
    "    hue='Threshold',\n",
    "    kind = 'box',\n",
    "    palette = 'Blues',\n",
    "    showfliers=False,\n",
    "    size = 10)\n"
   ]
  },
  {
   "cell_type": "markdown",
   "metadata": {},
   "source": [
    "## Per k-mer attention analysis"
   ]
  },
  {
   "cell_type": "markdown",
   "metadata": {},
   "source": [
    "### K-mers observed"
   ]
  },
  {
   "cell_type": "code",
   "execution_count": 59,
   "metadata": {},
   "outputs": [
    {
     "name": "stdout",
     "output_type": "stream",
     "text": [
      "1048576 10-mers possible\n"
     ]
    }
   ],
   "source": [
    "print(4**10, '10-mers possible')"
   ]
  },
  {
   "cell_type": "code",
   "execution_count": 60,
   "metadata": {},
   "outputs": [
    {
     "name": "stdout",
     "output_type": "stream",
     "text": [
      "*** veh ***\n",
      "917179 10-mers observed\n",
      "*** kla-1h ***\n",
      "852757 10-mers observed\n",
      "*** il4-24h ***\n",
      "918403 10-mers observed\n"
     ]
    }
   ],
   "source": [
    "kmer_size = 10\n",
    "sequence_size = 200\n",
    "\n",
    "for treatment in treatment_positive_fasta_dict:\n",
    "    kmer_set = set()\n",
    "    print('***',treatment, '***')\n",
    "\n",
    "    fasta_seq = treatment_positive_fasta_dict[treatment]\n",
    "    for seq in fasta_seq:\n",
    "        for i in range(0,sequence_size-kmer_size):\n",
    "            kmer = seq[i:i+kmer_size]\n",
    "            kmer_set.add(kmer)\n",
    "    print(len(kmer_set), '10-mers observed')   "
   ]
  },
  {
   "cell_type": "markdown",
   "metadata": {},
   "source": [
    "### Attention Accumulated by each 10-mer"
   ]
  },
  {
   "cell_type": "markdown",
   "metadata": {},
   "source": [
    "#### Total"
   ]
  },
  {
   "cell_type": "code",
   "execution_count": 641,
   "metadata": {
    "collapsed": true
   },
   "outputs": [],
   "source": [
    "kmer_size = 10\n",
    "sequence_size = 200\n",
    "count_list = []\n",
    "treatment_list = []\n",
    "threshold_list = []\n",
    "normalized_count_list = []\n",
    "treatment_maxAttention_dict = {}\n",
    "for treatment in treatment_attention_dict:\n",
    "    kmer_maxAttention_dict = {}\n",
    "    treatment_attention = treatment_attention_dict[treatment]\n",
    "    max_attention = np.array([x.max(axis=0) for x in treatment_attention])\n",
    "    treatment_fasta = treatment_positive_fasta_dict[treatment]\n",
    "    for ma, seq in zip(max_attention, treatment_fasta):\n",
    "        for i in range(0,sequence_size,kmer_size): \n",
    "            for j in range(kmer_size):\n",
    "                subseq = seq[i+j: i+j+kmer_size]\n",
    "                if not subseq in kmer_maxAttention_dict:\n",
    "                    kmer_maxAttention_dict[subseq] = ma[int(i/kmer_size)]\n",
    "                else:\n",
    "                    kmer_maxAttention_dict[subseq] += ma[int(i/kmer_size)]\n",
    "    treatment_maxAttention_dict[treatment] = kmer_maxAttention_dict"
   ]
  },
  {
   "cell_type": "code",
   "execution_count": 642,
   "metadata": {},
   "outputs": [
    {
     "name": "stdout",
     "output_type": "stream",
     "text": [
      "veh\n",
      "kla-1h\n",
      "il4-24h\n"
     ]
    },
    {
     "data": {
      "text/plain": [
       "<matplotlib.text.Text at 0x7f9a974d35f8>"
      ]
     },
     "execution_count": 642,
     "metadata": {},
     "output_type": "execute_result"
    },
    {
     "data": {
      "image/png": "[encoded data removed]",
      "text/plain": [
       "<matplotlib.figure.Figure at 0x7f9a9188e4a8>"
      ]
     },
     "metadata": {},
     "output_type": "display_data"
    }
   ],
   "source": [
    "for treatment in treatment_maxAttention_dict:\n",
    "    print(treatment)\n",
    "    maxAttention = np.array(list(treatment_maxAttention_dict[treatment].values()))\n",
    "    sns.distplot(np.log10(maxAttention+1), label = treatment)\n",
    "plt.legend()\n",
    "plt.xlabel('Total Attention')\n",
    "plt.ylabel('Frequency')"
   ]
  },
  {
   "cell_type": "markdown",
   "metadata": {},
   "source": [
    "#### Distribution"
   ]
  },
  {
   "cell_type": "code",
   "execution_count": 646,
   "metadata": {},
   "outputs": [
    {
     "name": "stdout",
     "output_type": "stream",
     "text": [
      "veh 5294220 6310000\n",
      "il4-24h 5340260 6703600\n",
      "kla-1h 3200210 4355200\n"
     ]
    }
   ],
   "source": [
    "attention_threshold = 0.2\n",
    "kmer_size = 10\n",
    "sequence_size = 200\n",
    "treatment_kmerAttendedCount_dict = {}\n",
    "for treatment in treatment_attention_dict:\n",
    "    kmer_attendedCount_dict = {}\n",
    "    overall_counter = 0\n",
    "    counter = 0\n",
    "    treatment_attention = treatment_attention_dict[treatment]\n",
    "    max_attention = np.array([x.max(axis=1) for x in treatment_attention])\n",
    "    treatment_fasta = treatment_positive_fasta_dict[treatment]\n",
    "    for fam, seq in zip(max_attention, treatment_fasta):\n",
    "        for i in range(0,sequence_size,kmer_size): \n",
    "            for j in range(kmer_size):\n",
    "                subseq = seq[i+j: i+j+kmer_size]\n",
    "                att = fam[int(i/kmer_size)]\n",
    "                overall_counter += 1\n",
    "                if att >=attention_threshold:\n",
    "                    counter +=1\n",
    "                    if not subseq in kmer_attendedCount_dict:\n",
    "                        kmer_attendedCount_dict[subseq] = 1\n",
    "                    else:\n",
    "                        kmer_attendedCount_dict[subseq] += 1\n",
    "    print(treatment,counter, overall_counter)\n",
    "    treatment_kmerAttendedCount_dict[treatment] = kmer_attendedCount_dict"
   ]
  },
  {
   "cell_type": "code",
   "execution_count": 647,
   "metadata": {
    "collapsed": true
   },
   "outputs": [],
   "source": [
    "count_list = []\n",
    "treatment_list = []\n",
    "threshold_list = []\n",
    "for treatment in treatment_kmerAttendedCount_dict:\n",
    "    counts = np.array(list(treatment_kmerAttendedCount_dict[treatment].values()))\n",
    "    fasta = treatment_positive_fasta_dict[treatment]\n",
    "    for threshold in np.arange(0.005,0.05,0.005):\n",
    "        rounded_threshold = np.round(threshold, 3)\n",
    "        count_threshold = int(threshold*len(fasta))\n",
    "        count = np.sum(counts > count_threshold)\n",
    "        \n",
    "        count_list.append(count)\n",
    "        treatment_list.append(treatment)\n",
    "        threshold_list.append(rounded_threshold)\n",
    "frame = pd.DataFrame({'Treatment':treatment_list,\n",
    "                      'Threshold':threshold_list,\n",
    "                      'Count':count_list})        "
   ]
  },
  {
   "cell_type": "code",
   "execution_count": 648,
   "metadata": {},
   "outputs": [
    {
     "data": {
      "image/png": "[encoded data removed]",
      "text/plain": [
       "<matplotlib.figure.Figure at 0x7f9a97444780>"
      ]
     },
     "metadata": {},
     "output_type": "display_data"
    }
   ],
   "source": [
    "sns.factorplot(data = frame,\n",
    "               x= 'Threshold',\n",
    "               y = 'Count',\n",
    "               hue = 'Treatment',\n",
    "               size=6)\n",
    "plt.xticks(rotation=90);"
   ]
  },
  {
   "cell_type": "markdown",
   "metadata": {},
   "source": [
    "## Create K-mer network"
   ]
  },
  {
   "cell_type": "code",
   "execution_count": 653,
   "metadata": {},
   "outputs": [
    {
     "data": {
      "text/plain": [
       "array([0.2172472 , 0.25620404, 0.20409442, 0.23104174, 0.4370355 ,\n",
       "       0.59980595, 0.2668783 , 0.66884017, 0.7239828 , 0.21032847,\n",
       "       0.4223705 , 0.71340513, 0.3015039 , 0.3440063 , 0.51151496,\n",
       "       0.25276846, 0.53751236, 0.21890686, 0.22671384, 0.27361572],\n",
       "      dtype=float32)"
      ]
     },
     "execution_count": 653,
     "metadata": {},
     "output_type": "execute_result"
    }
   ],
   "source": [
    "ma"
   ]
  },
  {
   "cell_type": "code",
   "execution_count": 654,
   "metadata": {},
   "outputs": [
    {
     "data": {
      "text/plain": [
       "0.27361572"
      ]
     },
     "execution_count": 654,
     "metadata": {},
     "output_type": "execute_result"
    }
   ],
   "source": [
    "att"
   ]
  },
  {
   "cell_type": "code",
   "execution_count": 694,
   "metadata": {},
   "outputs": [
    {
     "name": "stdout",
     "output_type": "stream",
     "text": [
      "veh\n",
      "66\n",
      "14\n",
      "il4-24h\n",
      "149\n",
      "67\n",
      "kla-1h\n",
      "254\n",
      "121\n"
     ]
    }
   ],
   "source": [
    "attention_threshold = 0.2\n",
    "count_threshold = 100\n",
    "kmer_size = 10\n",
    "sequence_size = 200\n",
    "kmer_count_dict = {}\n",
    "for treatment in treatment_attention_dict:\n",
    "    kmer_set = set()\n",
    "    print(treatment)\n",
    "\n",
    "    treatment_attention = treatment_attention_dict[treatment]\n",
    "    max_attention = np.array([x.max(axis=1) for x in treatment_attention])\n",
    "    treatment_fasta = treatment_positive_fasta_dict[treatment]\n",
    "    \n",
    "    for seq in treatment_fasta:\n",
    "\n",
    "        for i in range(0,sequence_size,kmer_size): \n",
    "            for j in range(kmer_size):\n",
    "                subseq = seq[i+j: i+j+kmer_size]\n",
    "                if subseq in kmer_count_dict:\n",
    "                    kmer_count_dict[subseq] += 1\n",
    "                else:\n",
    "                    kmer_count_dict[subseq] = 1\n",
    "    count = 0\n",
    "    for kmer in kmer_count_dict:\n",
    "        if kmer_count_dict[kmer] > count_threshold:\n",
    "            count+=1\n",
    "    print(count)\n",
    "    for ma, seq in zip(max_attention, treatment_fasta):\n",
    "        for i in range(0,sequence_size,kmer_size): \n",
    "            for j in range(kmer_size):\n",
    "                subseq = seq[i+j: i+j+kmer_size]\n",
    "                att = ma[int(i/kmer_size)]\n",
    "                if att>= attention_threshold and kmer_count_dict[subseq] > count_threshold and len(subseq) == kmer_size:\n",
    "                    kmer_set.add(subseq)\n",
    "    print(len(kmer_set))\n",
    "    \n"
   ]
  },
  {
   "cell_type": "code",
   "execution_count": 695,
   "metadata": {},
   "outputs": [
    {
     "data": {
      "text/plain": [
       "{'AAAAAAAAAA',\n",
       " 'AAAAAAAAAG',\n",
       " 'AAAAGAGGAA',\n",
       " 'AAACAGGAAG',\n",
       " 'AAAGAGGAAG',\n",
       " 'AAAGGGGAAG',\n",
       " 'AACAGGAAGT',\n",
       " 'AAGAGGAAGC',\n",
       " 'AAGAGGAAGT',\n",
       " 'AAGGAGGAAG',\n",
       " 'ACACACACAC',\n",
       " 'ACAGGAAGTG',\n",
       " 'ACTTCCTCCT',\n",
       " 'ACTTCCTCTT',\n",
       " 'ACTTCCTGTT',\n",
       " 'AGAGAGAGAG',\n",
       " 'AGAGGAAGTG',\n",
       " 'AGCCCCGCCC',\n",
       " 'AGGAAGGAAG',\n",
       " 'AGGAAGTGAG',\n",
       " 'AGGAGGAAGT',\n",
       " 'AGGAGGAGGA',\n",
       " 'AGGCCCCGCC',\n",
       " 'AGGGCGGGGC',\n",
       " 'AGGGGCGGGG',\n",
       " 'AGGGGGCGGG',\n",
       " 'CACACACACA',\n",
       " 'CACTTCCTCC',\n",
       " 'CACTTCCTCT',\n",
       " 'CACTTCCTGT',\n",
       " 'CAGGAAGTGA',\n",
       " 'CCACTTCCTC',\n",
       " 'CCCCACCCCC',\n",
       " 'CCCCCCCCCC',\n",
       " 'CCCCGCCCAC',\n",
       " 'CCCCGCCCCC',\n",
       " 'CCCCGCCCCG',\n",
       " 'CCCCGCCCCT',\n",
       " 'CCCCGCCCTC',\n",
       " 'CCCCGCCTCC',\n",
       " 'CCCCTCCCCC',\n",
       " 'CCCGCCCCCG',\n",
       " 'CCCGCCCCCT',\n",
       " 'CCCGCCCCGC',\n",
       " 'CCCGCCCCTC',\n",
       " 'CCGCCCCGCC',\n",
       " 'CCGCCGCCGC',\n",
       " 'CCTCCCTCCC',\n",
       " 'CCTCCTCCTC',\n",
       " 'CGCCCCGCCC',\n",
       " 'CGCCGCCGCC',\n",
       " 'CGGCCCCGCC',\n",
       " 'CGGCGGCGGC',\n",
       " 'CGGGGCGGGG',\n",
       " 'CGGGGGCGGG',\n",
       " 'CTCACTTCCT',\n",
       " 'CTCCTCCTCC',\n",
       " 'CTCTCTCTCT',\n",
       " 'CTTCCCCTTT',\n",
       " 'CTTCCTCCTC',\n",
       " 'CTTCCTCTTC',\n",
       " 'CTTCCTCTTT',\n",
       " 'CTTCCTGTTT',\n",
       " 'CTTCCTTCCT',\n",
       " 'GAAAAAAAAA',\n",
       " 'GAAAGAGGAA',\n",
       " 'GAAGAGGAAG',\n",
       " 'GAGAGAGAGA',\n",
       " 'GAGGAAGTGA',\n",
       " 'GAGGAAGTGG',\n",
       " 'GAGGAGGAAG',\n",
       " 'GAGGAGGAGG',\n",
       " 'GAGGCGGGGC',\n",
       " 'GAGGGCGGGG',\n",
       " 'GAGGGGCGGG',\n",
       " 'GCCCCGCCCA',\n",
       " 'GCCCCGCCCC',\n",
       " 'GCCCCGCCCT',\n",
       " 'GCCCCGCCTC',\n",
       " 'GCCGCCGCCG',\n",
       " 'GCGCAGGCGC',\n",
       " 'GCGCCTGCGC',\n",
       " 'GCGGCGGCGG',\n",
       " 'GCGGGGCGGG',\n",
       " 'GCTCCGCCCC',\n",
       " 'GCTTCCTCTT',\n",
       " 'GGAAGAGGAA',\n",
       " 'GGAGGAAGTG',\n",
       " 'GGAGGAGGAG',\n",
       " 'GGAGGCGGGG',\n",
       " 'GGAGGGAGGG',\n",
       " 'GGCCCCGCCC',\n",
       " 'GGCGGCGGCG',\n",
       " 'GGCGGGGCCG',\n",
       " 'GGCGGGGCCT',\n",
       " 'GGCGGGGCGG',\n",
       " 'GGCTCCGCCC',\n",
       " 'GGGAGGGAGG',\n",
       " 'GGGCGGAGCC',\n",
       " 'GGGCGGGGCC',\n",
       " 'GGGCGGGGCG',\n",
       " 'GGGCGGGGCT',\n",
       " 'GGGGCGGAGC',\n",
       " 'GGGGCGGGGC',\n",
       " 'GGGGGAGGGG',\n",
       " 'GGGGGCGGGG',\n",
       " 'GGGGGGGGGG',\n",
       " 'GGGGGTGGGG',\n",
       " 'GTGGGCGGGG',\n",
       " 'GTGTGTGTGT',\n",
       " 'TCACTTCCTC',\n",
       " 'TCCTCCTCCT',\n",
       " 'TCTCTCTCTC',\n",
       " 'TCTTCCTCTT',\n",
       " 'TGGGCGGGGC',\n",
       " 'TGTGTGTGTG',\n",
       " 'TTCCTCTTCC',\n",
       " 'TTCCTCTTCT',\n",
       " 'TTCCTCTTTC',\n",
       " 'TTCCTCTTTT',\n",
       " 'TTTTTTTTTT'}"
      ]
     },
     "execution_count": 695,
     "metadata": {},
     "output_type": "execute_result"
    }
   ],
   "source": [
    "kmer_set"
   ]
  },
  {
   "cell_type": "code",
   "execution_count": 675,
   "metadata": {},
   "outputs": [
    {
     "name": "stdout",
     "output_type": "stream",
     "text": [
      "veh\n",
      "658881\n"
     ]
    }
   ],
   "source": [
    "attention_threshold = 0.5\n",
    "kmer_size = 10\n",
    "sequence_size = 200\n",
    "kmer_set = set()\n",
    "for treatment in treatment_attention_dict:\n",
    "    print(treatment)\n",
    "\n",
    "    treatment_attention = treatment_attention_dict[treatment]\n",
    "    max_attention = np.array([x.max(axis=1) for x in treatment_attention])\n",
    "    treatment_fasta = treatment_positive_fasta_dict[treatment]\n",
    "    \n",
    "\n",
    "    break            \n"
   ]
  },
  {
   "cell_type": "code",
   "execution_count": 660,
   "metadata": {},
   "outputs": [
    {
     "data": {
      "text/plain": [
       "658881"
      ]
     },
     "execution_count": 660,
     "metadata": {},
     "output_type": "execute_result"
    }
   ],
   "source": [
    "len(kmer_set)"
   ]
  },
  {
   "cell_type": "markdown",
   "metadata": {},
   "source": [
    "## Verifying Attention Calculation"
   ]
  },
  {
   "cell_type": "code",
   "execution_count": 607,
   "metadata": {
    "collapsed": true
   },
   "outputs": [],
   "source": [
    "dotProductAttention_model.summary()"
   ]
  },
  {
   "cell_type": "code",
   "execution_count": 501,
   "metadata": {
    "collapsed": true
   },
   "outputs": [],
   "source": [
    "def check_dot_product(model, sequence_array, sequence_size, adjacent_bp_pool_size):\n",
    "    check_dot_product = K.function([model.get_layer('input_fwd').input, \n",
    "                                K.learning_phase()\n",
    "                               ], \n",
    "                               [model.get_layer('attention_dropout').output,\n",
    "                                model.get_layer('value_transformer').output,\n",
    "                                model.get_layer('attending_layer').output])\n",
    "    \n",
    "    attention, value, attended_values = check_dot_product(([sequence_array], 0))\n",
    "    \n",
    "    attention = np.reshape(attention, newshape=(attention.shape[1], attention.shape[2]))\n",
    "    value = np.reshape(value, newshape=(value.shape[1], value.shape[2]))\n",
    "    attended_values = np.reshape(attended_values, newshape=(attended_values.shape[1], attended_values.shape[2]))\n",
    "    return attention, value, attended_values"
   ]
  },
  {
   "cell_type": "code",
   "execution_count": 522,
   "metadata": {
    "collapsed": true
   },
   "outputs": [],
   "source": [
    "attention, value, attended_values = check_dot_product(dotProductAttention_model, positive_sequence_arrays[0], 200, 10)"
   ]
  },
  {
   "cell_type": "code",
   "execution_count": 523,
   "metadata": {},
   "outputs": [
    {
     "data": {
      "text/plain": [
       "(20, 20)"
      ]
     },
     "execution_count": 523,
     "metadata": {},
     "output_type": "execute_result"
    }
   ],
   "source": [
    "attention.shape"
   ]
  },
  {
   "cell_type": "code",
   "execution_count": 524,
   "metadata": {},
   "outputs": [
    {
     "data": {
      "text/plain": [
       "(20, 150)"
      ]
     },
     "execution_count": 524,
     "metadata": {},
     "output_type": "execute_result"
    }
   ],
   "source": [
    "value.shape"
   ]
  },
  {
   "cell_type": "code",
   "execution_count": 525,
   "metadata": {},
   "outputs": [
    {
     "data": {
      "text/plain": [
       "(20, 150)"
      ]
     },
     "execution_count": 525,
     "metadata": {},
     "output_type": "execute_result"
    }
   ],
   "source": [
    "attended_values.shape"
   ]
  },
  {
   "cell_type": "code",
   "execution_count": 529,
   "metadata": {},
   "outputs": [
    {
     "data": {
      "text/plain": [
       "array([[ True,  True,  True, ...,  True,  True,  True],\n",
       "       [ True,  True,  True, ...,  True,  True,  True],\n",
       "       [ True,  True,  True, ...,  True,  True,  True],\n",
       "       ...,\n",
       "       [ True,  True,  True, ...,  True,  True,  True],\n",
       "       [ True,  True,  True, ...,  True,  True,  True],\n",
       "       [ True,  True,  True, ...,  True,  True,  True]])"
      ]
     },
     "execution_count": 529,
     "metadata": {},
     "output_type": "execute_result"
    }
   ],
   "source": [
    "np.round(np.dot(attention, value),2) == np.round(attended_values, 2)"
   ]
  },
  {
   "cell_type": "code",
   "execution_count": 530,
   "metadata": {},
   "outputs": [
    {
     "data": {
      "text/plain": [
       "array([[ True, False, False, ...,  True, False,  True],\n",
       "       [ True,  True, False, ..., False, False,  True],\n",
       "       [ True, False, False, ..., False, False,  True],\n",
       "       ...,\n",
       "       [False,  True, False, ..., False, False, False],\n",
       "       [ True, False, False, ..., False, False, False],\n",
       "       [False,  True, False, ..., False, False, False]])"
      ]
     },
     "execution_count": 530,
     "metadata": {},
     "output_type": "execute_result"
    }
   ],
   "source": [
    "np.round(np.dot(attention.T, value),2) == np.round(attended_values, 2)"
   ]
  },
  {
   "cell_type": "code",
   "execution_count": 534,
   "metadata": {},
   "outputs": [
    {
     "data": {
      "text/plain": [
       "array([0.9999999 , 0.99999994, 1.        , 0.9999999 , 0.99999994,\n",
       "       0.9999999 , 1.0000001 , 0.9999998 , 1.0000002 , 0.99999994,\n",
       "       1.0000001 , 0.9999999 , 1.        , 0.99999994, 1.        ,\n",
       "       0.99999994, 0.99999994, 0.9999999 , 1.0000001 , 1.0000001 ],\n",
       "      dtype=float32)"
      ]
     },
     "execution_count": 534,
     "metadata": {},
     "output_type": "execute_result"
    }
   ],
   "source": [
    "attention.sum(axis=0)"
   ]
  },
  {
   "cell_type": "code",
   "execution_count": null,
   "metadata": {
    "collapsed": true
   },
   "outputs": [],
   "source": []
  },
  {
   "cell_type": "code",
   "execution_count": null,
   "metadata": {
    "collapsed": true
   },
   "outputs": [],
   "source": []
  },
  {
   "cell_type": "code",
   "execution_count": null,
   "metadata": {
    "collapsed": true
   },
   "outputs": [],
   "source": []
  },
  {
   "cell_type": "code",
   "execution_count": 46,
   "metadata": {},
   "outputs": [
    {
     "name": "stdout",
     "output_type": "stream",
     "text": [
      "attending axes 1 1 linear\n"
     ]
    }
   ],
   "source": [
    "dotProductAttention_model = get_dotProductAttention_model(200,\n",
    "    mode='classification',\n",
    "    num_motifs=150, \n",
    "    motif_size=10,\n",
    "    adjacent_bp_pool_size=1,\n",
    "    dropout_rate=attention_dropout_rate,\n",
    "    num_classes=2)"
   ]
  },
  {
   "cell_type": "code",
   "execution_count": 47,
   "metadata": {},
   "outputs": [
    {
     "data": {
      "text/plain": [
       "7153"
      ]
     },
     "execution_count": 47,
     "metadata": {},
     "output_type": "execute_result"
    }
   ],
   "source": [
    "dotProductAttention_model.count_params()"
   ]
  },
  {
   "cell_type": "code",
   "execution_count": 48,
   "metadata": {},
   "outputs": [
    {
     "name": "stdout",
     "output_type": "stream",
     "text": [
      "__________________________________________________________________________________________________\n",
      "Layer (type)                    Output Shape         Param #     Connected to                     \n",
      "==================================================================================================\n",
      "input_fwd (InputLayer)          (None, 200, 4)       0                                            \n",
      "__________________________________________________________________________________________________\n",
      "convolution_layer (Conv1D)      (None, 200, 150)     6150        input_fwd[0][0]                  \n",
      "__________________________________________________________________________________________________\n",
      "sequence_pooling_layer (MaxPool (None, 200, 150)     0           convolution_layer[0][0]          \n",
      "__________________________________________________________________________________________________\n",
      "query_transformer (TimeDistribu (1, 200, 150)        150         sequence_pooling_layer[0][0]     \n",
      "__________________________________________________________________________________________________\n",
      "key_transformer (TimeDistribute (1, 200, 150)        150         sequence_pooling_layer[0][0]     \n",
      "__________________________________________________________________________________________________\n",
      "dot_product (Dot)               (1, 200, 200)        0           query_transformer[0][0]          \n",
      "                                                                 key_transformer[0][0]            \n",
      "__________________________________________________________________________________________________\n",
      "attention_softmax_layer (Softma (1, 200, 200)        0           dot_product[0][0]                \n",
      "__________________________________________________________________________________________________\n",
      "attention_dropout (Dropout)     (1, 200, 200)        0           attention_softmax_layer[0][0]    \n",
      "__________________________________________________________________________________________________\n",
      "value_transformer (TimeDistribu (1, 200, 150)        150         sequence_pooling_layer[0][0]     \n",
      "__________________________________________________________________________________________________\n",
      "attending_layer (Dot)           (1, 200, 150)        0           attention_dropout[0][0]          \n",
      "                                                                 value_transformer[0][0]          \n",
      "__________________________________________________________________________________________________\n",
      "dense_layer (TimeDistributed)   (1, 200, 1)          151         attending_layer[0][0]            \n",
      "__________________________________________________________________________________________________\n",
      "flatten (Flatten)               (1, 200)             0           dense_layer[0][0]                \n",
      "__________________________________________________________________________________________________\n",
      "predictions (Dense)             (1, 2)               402         flatten[0][0]                    \n",
      "==================================================================================================\n",
      "Total params: 7,153\n",
      "Trainable params: 7,153\n",
      "Non-trainable params: 0\n",
      "__________________________________________________________________________________________________\n"
     ]
    }
   ],
   "source": [
    "dotProductAttention_model.summary()"
   ]
  },
  {
   "cell_type": "code",
   "execution_count": null,
   "metadata": {
    "collapsed": true
   },
   "outputs": [],
   "source": [
    "attention = get_sequence_attention(dotProductAttention_model,\n",
    "    sequence_arrays,\n",
    "    200,\n",
    "    10)"
   ]
  },
  {
   "cell_type": "code",
   "execution_count": 741,
   "metadata": {},
   "outputs": [
    {
     "data": {
      "text/plain": [
       "array([[ 932.66064,  143.86938,  140.54317, ...,  149.96219,  149.36406,\n",
       "         145.9877 ],\n",
       "       [ 145.71825,  748.07996,  144.5017 , ...,  151.97997,  150.34529,\n",
       "         145.62857],\n",
       "       [ 137.96504,  140.63329,  587.09094, ...,  148.31244,  146.35565,\n",
       "         142.3505 ],\n",
       "       ...,\n",
       "       [ 156.54688,  157.0207 ,  158.11182, ...,  844.11145,  151.25342,\n",
       "         138.96304],\n",
       "       [ 158.80832,  158.16861,  159.03499, ...,  155.32713, 1205.9181 ,\n",
       "         155.37332],\n",
       "       [ 169.20193,  166.59555,  167.8357 , ...,  156.74983,  170.8072 ,\n",
       "        1888.0425 ]], dtype=float32)"
      ]
     },
     "execution_count": 741,
     "metadata": {},
     "output_type": "execute_result"
    }
   ],
   "source": [
    "attention.sum(axis=0)"
   ]
  },
  {
   "cell_type": "code",
   "execution_count": 743,
   "metadata": {},
   "outputs": [
    {
     "data": {
      "text/plain": [
       "(33518, 200, 200)"
      ]
     },
     "execution_count": 743,
     "metadata": {},
     "output_type": "execute_result"
    }
   ],
   "source": [
    "attention.shape"
   ]
  },
  {
   "cell_type": "code",
   "execution_count": 748,
   "metadata": {
    "collapsed": true
   },
   "outputs": [],
   "source": [
    "all_attention_vals = attention.flatten()\n",
    "nonzero_attention = all_attention_vals[all_attention_vals>0]"
   ]
  },
  {
   "cell_type": "code",
   "execution_count": 755,
   "metadata": {},
   "outputs": [
    {
     "data": {
      "text/plain": [
       "222662"
      ]
     },
     "execution_count": 755,
     "metadata": {},
     "output_type": "execute_result"
    }
   ],
   "source": [
    "np.sum(all_attention_vals>0.1)"
   ]
  },
  {
   "cell_type": "code",
   "execution_count": 747,
   "metadata": {},
   "outputs": [
    {
     "data": {
      "text/plain": [
       "<matplotlib.axes._subplots.AxesSubplot at 0x7f953a5ac5c0>"
      ]
     },
     "execution_count": 747,
     "metadata": {},
     "output_type": "execute_result"
    },
    {
     "data": {
      "image/png": "[encoded data removed]",
      "text/plain": [
       "<matplotlib.figure.Figure at 0x7f953a5b38d0>"
      ]
     },
     "metadata": {},
     "output_type": "display_data"
    }
   ],
   "source": [
    "sns.distplot(attention.flatten())"
   ]
  },
  {
   "cell_type": "code",
   "execution_count": 752,
   "metadata": {},
   "outputs": [
    {
     "data": {
      "text/plain": [
       "1340720000"
      ]
     },
     "execution_count": 752,
     "metadata": {},
     "output_type": "execute_result"
    }
   ],
   "source": [
    "len(attention.flatten())"
   ]
  },
  {
   "cell_type": "code",
   "execution_count": 751,
   "metadata": {},
   "outputs": [
    {
     "data": {
      "text/plain": [
       "1340720000"
      ]
     },
     "execution_count": 751,
     "metadata": {},
     "output_type": "execute_result"
    }
   ],
   "source": [
    "len(nonzero_attention)"
   ]
  },
  {
   "cell_type": "code",
   "execution_count": 757,
   "metadata": {},
   "outputs": [
    {
     "data": {
      "text/plain": [
       "<matplotlib.axes._subplots.AxesSubplot at 0x7f952b1bcd68>"
      ]
     },
     "execution_count": 757,
     "metadata": {},
     "output_type": "execute_result"
    },
    {
     "data": {
      "image/png": "[encoded data removed]",
      "text/plain": [
       "<matplotlib.figure.Figure at 0x7f952b190cf8>"
      ]
     },
     "metadata": {},
     "output_type": "display_data"
    }
   ],
   "source": [
    "sns.distplot(all_attention_vals[all_attention_vals>0.05])"
   ]
  },
  {
   "cell_type": "code",
   "execution_count": null,
   "metadata": {
    "collapsed": true
   },
   "outputs": [],
   "source": []
  }
 ],
 "metadata": {
  "kernelspec": {
   "display_name": "Python 3",
   "language": "python",
   "name": "python3"
  },
  "language_info": {
   "codemirror_mode": {
    "name": "ipython",
    "version": 3
   },
   "file_extension": ".py",
   "mimetype": "text/x-python",
   "name": "python",
   "nbconvert_exporter": "python",
   "pygments_lexer": "ipython3",
   "version": "3.5.1"
  }
 },
 "nbformat": 4,
 "nbformat_minor": 1
}
